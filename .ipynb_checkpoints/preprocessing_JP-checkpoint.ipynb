{
 "cells": [
  {
   "cell_type": "code",
   "execution_count": 1,
   "id": "881f9765",
   "metadata": {},
   "outputs": [
    {
     "data": {
      "application/javascript": [
       "\n",
       "            setTimeout(function() {\n",
       "                var nbb_cell_id = 1;\n",
       "                var nbb_unformatted_code = \"import numpy as np\\nimport pandas as pd\\n%matplotlib inline \\nimport geopy\\nfrom geopy import Nominatim\\nfrom geopy.extra.rate_limiter import RateLimiter\\n\\n# the below extension properly formats a cell after it is run\\n%load_ext nb_black \";\n",
       "                var nbb_formatted_code = \"import numpy as np\\nimport pandas as pd\\n\\n%matplotlib inline\\nimport geopy\\nfrom geopy import Nominatim\\nfrom geopy.extra.rate_limiter import RateLimiter\\n\\n# the below extension properly formats a cell after it is run\\n%load_ext nb_black\";\n",
       "                var nbb_cells = Jupyter.notebook.get_cells();\n",
       "                for (var i = 0; i < nbb_cells.length; ++i) {\n",
       "                    if (nbb_cells[i].input_prompt_number == nbb_cell_id) {\n",
       "                        if (nbb_cells[i].get_text() == nbb_unformatted_code) {\n",
       "                             nbb_cells[i].set_text(nbb_formatted_code);\n",
       "                        }\n",
       "                        break;\n",
       "                    }\n",
       "                }\n",
       "            }, 500);\n",
       "            "
      ],
      "text/plain": [
       "<IPython.core.display.Javascript object>"
      ]
     },
     "metadata": {},
     "output_type": "display_data"
    }
   ],
   "source": [
    "import numpy as np\n",
    "import pandas as pd\n",
    "%matplotlib inline \n",
    "import geopy\n",
    "from geopy import Nominatim\n",
    "from geopy.extra.rate_limiter import RateLimiter\n",
    "\n",
    "# the below extension properly formats a cell after it is run\n",
    "%load_ext nb_black \n"
   ]
  },
  {
   "cell_type": "code",
   "execution_count": 2,
   "id": "8b3eaf8b",
   "metadata": {},
   "outputs": [
    {
     "name": "stdout",
     "output_type": "stream",
     "text": [
      "Collecting nb_black\n",
      "  Downloading nb_black-1.0.7.tar.gz (4.8 kB)\n",
      "  Preparing metadata (setup.py) ... \u001b[?25ldone\n",
      "\u001b[?25hRequirement already satisfied: ipython in /Users/jasonphillip/opt/anaconda3/lib/python3.9/site-packages (from nb_black) (8.2.0)\n",
      "Requirement already satisfied: black>='19.3' in /Users/jasonphillip/opt/anaconda3/lib/python3.9/site-packages (from nb_black) (19.10b0)\n",
      "Requirement already satisfied: typed-ast>=1.4.0 in /Users/jasonphillip/opt/anaconda3/lib/python3.9/site-packages (from black>='19.3'->nb_black) (1.4.3)\n",
      "Requirement already satisfied: regex in /Users/jasonphillip/opt/anaconda3/lib/python3.9/site-packages (from black>='19.3'->nb_black) (2022.3.15)\n",
      "Requirement already satisfied: attrs>=18.1.0 in /Users/jasonphillip/opt/anaconda3/lib/python3.9/site-packages (from black>='19.3'->nb_black) (21.4.0)\n",
      "Requirement already satisfied: toml>=0.9.4 in /Users/jasonphillip/opt/anaconda3/lib/python3.9/site-packages (from black>='19.3'->nb_black) (0.10.2)\n",
      "Requirement already satisfied: pathspec<1,>=0.6 in /Users/jasonphillip/opt/anaconda3/lib/python3.9/site-packages (from black>='19.3'->nb_black) (0.7.0)\n",
      "Requirement already satisfied: click>=6.5 in /Users/jasonphillip/opt/anaconda3/lib/python3.9/site-packages (from black>='19.3'->nb_black) (8.0.4)\n",
      "Requirement already satisfied: appdirs in /Users/jasonphillip/opt/anaconda3/lib/python3.9/site-packages (from black>='19.3'->nb_black) (1.4.4)\n",
      "Requirement already satisfied: matplotlib-inline in /Users/jasonphillip/opt/anaconda3/lib/python3.9/site-packages (from ipython->nb_black) (0.1.2)\n",
      "Requirement already satisfied: pygments>=2.4.0 in /Users/jasonphillip/opt/anaconda3/lib/python3.9/site-packages (from ipython->nb_black) (2.11.2)\n",
      "Requirement already satisfied: stack-data in /Users/jasonphillip/opt/anaconda3/lib/python3.9/site-packages (from ipython->nb_black) (0.2.0)\n",
      "Requirement already satisfied: pexpect>4.3 in /Users/jasonphillip/opt/anaconda3/lib/python3.9/site-packages (from ipython->nb_black) (4.8.0)\n",
      "Requirement already satisfied: pickleshare in /Users/jasonphillip/opt/anaconda3/lib/python3.9/site-packages (from ipython->nb_black) (0.7.5)\n",
      "Requirement already satisfied: decorator in /Users/jasonphillip/opt/anaconda3/lib/python3.9/site-packages (from ipython->nb_black) (5.1.1)\n",
      "Requirement already satisfied: prompt-toolkit!=3.0.0,!=3.0.1,<3.1.0,>=2.0.0 in /Users/jasonphillip/opt/anaconda3/lib/python3.9/site-packages (from ipython->nb_black) (3.0.20)\n",
      "Requirement already satisfied: traitlets>=5 in /Users/jasonphillip/opt/anaconda3/lib/python3.9/site-packages (from ipython->nb_black) (5.1.1)\n",
      "Requirement already satisfied: appnope in /Users/jasonphillip/opt/anaconda3/lib/python3.9/site-packages (from ipython->nb_black) (0.1.2)\n",
      "Requirement already satisfied: jedi>=0.16 in /Users/jasonphillip/opt/anaconda3/lib/python3.9/site-packages (from ipython->nb_black) (0.18.1)\n",
      "Requirement already satisfied: setuptools>=18.5 in /Users/jasonphillip/opt/anaconda3/lib/python3.9/site-packages (from ipython->nb_black) (61.2.0)\n",
      "Requirement already satisfied: backcall in /Users/jasonphillip/opt/anaconda3/lib/python3.9/site-packages (from ipython->nb_black) (0.2.0)\n",
      "Requirement already satisfied: parso<0.9.0,>=0.8.0 in /Users/jasonphillip/opt/anaconda3/lib/python3.9/site-packages (from jedi>=0.16->ipython->nb_black) (0.8.3)\n",
      "Requirement already satisfied: ptyprocess>=0.5 in /Users/jasonphillip/opt/anaconda3/lib/python3.9/site-packages (from pexpect>4.3->ipython->nb_black) (0.7.0)\n",
      "Requirement already satisfied: wcwidth in /Users/jasonphillip/opt/anaconda3/lib/python3.9/site-packages (from prompt-toolkit!=3.0.0,!=3.0.1,<3.1.0,>=2.0.0->ipython->nb_black) (0.2.5)\n",
      "Requirement already satisfied: pure-eval in /Users/jasonphillip/opt/anaconda3/lib/python3.9/site-packages (from stack-data->ipython->nb_black) (0.2.2)\n",
      "Requirement already satisfied: asttokens in /Users/jasonphillip/opt/anaconda3/lib/python3.9/site-packages (from stack-data->ipython->nb_black) (2.0.5)\n",
      "Requirement already satisfied: executing in /Users/jasonphillip/opt/anaconda3/lib/python3.9/site-packages (from stack-data->ipython->nb_black) (0.8.3)\n",
      "Requirement already satisfied: six in /Users/jasonphillip/opt/anaconda3/lib/python3.9/site-packages (from asttokens->stack-data->ipython->nb_black) (1.16.0)\n",
      "Building wheels for collected packages: nb_black\n",
      "  Building wheel for nb_black (setup.py) ... \u001b[?25ldone\n",
      "\u001b[?25h  Created wheel for nb_black: filename=nb_black-1.0.7-py3-none-any.whl size=5297 sha256=79ffdc4860e75fa5fbff0898bfeef7edb7639918d8b0b79613383b3833bab56c\n",
      "  Stored in directory: /Users/jasonphillip/Library/Caches/pip/wheels/44/90/20/27537a44d3f60946333fc9eaaff2a3a4e9c841ab93a1c0bc46\n",
      "Successfully built nb_black\n",
      "Installing collected packages: nb_black\n",
      "Successfully installed nb_black-1.0.7\n",
      "Note: you may need to restart the kernel to use updated packages.\n"
     ]
    }
   ],
   "source": [
    "pip install nb_black"
   ]
  },
  {
   "cell_type": "code",
   "execution_count": 6,
   "id": "32a4c9fa",
   "metadata": {},
   "outputs": [
    {
     "data": {
      "text/plain": [
       "(2580, 81)"
      ]
     },
     "execution_count": 6,
     "metadata": {},
     "output_type": "execute_result"
    },
    {
     "data": {
      "application/javascript": [
       "\n",
       "            setTimeout(function() {\n",
       "                var nbb_cell_id = 6;\n",
       "                var nbb_unformatted_code = \"housing = pd.read_csv('data/Ames_Housing_Price_Data.csv', index_col=0)\\nhousing.shape\";\n",
       "                var nbb_formatted_code = \"housing = pd.read_csv(\\\"data/Ames_Housing_Price_Data.csv\\\", index_col=0)\\nhousing.shape\";\n",
       "                var nbb_cells = Jupyter.notebook.get_cells();\n",
       "                for (var i = 0; i < nbb_cells.length; ++i) {\n",
       "                    if (nbb_cells[i].input_prompt_number == nbb_cell_id) {\n",
       "                        if (nbb_cells[i].get_text() == nbb_unformatted_code) {\n",
       "                             nbb_cells[i].set_text(nbb_formatted_code);\n",
       "                        }\n",
       "                        break;\n",
       "                    }\n",
       "                }\n",
       "            }, 500);\n",
       "            "
      ],
      "text/plain": [
       "<IPython.core.display.Javascript object>"
      ]
     },
     "metadata": {},
     "output_type": "display_data"
    }
   ],
   "source": [
    "housing = pd.read_csv('data/Ames_Housing_Price_Data.csv', index_col=0)\n",
    "housing.shape\n"
   ]
  },
  {
   "cell_type": "code",
   "execution_count": 4,
   "id": "732f2a8a",
   "metadata": {},
   "outputs": [
    {
     "name": "stderr",
     "output_type": "stream",
     "text": [
      "/var/folders/2g/w2gh47jx2d536k1lqy8yjms40000gn/T/ipykernel_57228/2273310457.py:1: DtypeWarning: Columns (36,40,81,87) have mixed types. Specify dtype option on import or set low_memory=False.\n",
      "  real_estate = pd.read_csv(\"data/Ames_Real_Estate_Data.csv\", index_col=0)\n"
     ]
    },
    {
     "data": {
      "text/plain": [
       "(22213, 90)"
      ]
     },
     "execution_count": 4,
     "metadata": {},
     "output_type": "execute_result"
    },
    {
     "data": {
      "application/javascript": [
       "\n",
       "            setTimeout(function() {\n",
       "                var nbb_cell_id = 4;\n",
       "                var nbb_unformatted_code = \"real_estate = pd.read_csv(\\\"data/Ames_Real_Estate_Data.csv\\\", index_col=0)\\nreal_estate.shape\";\n",
       "                var nbb_formatted_code = \"real_estate = pd.read_csv(\\\"data/Ames_Real_Estate_Data.csv\\\", index_col=0)\\nreal_estate.shape\";\n",
       "                var nbb_cells = Jupyter.notebook.get_cells();\n",
       "                for (var i = 0; i < nbb_cells.length; ++i) {\n",
       "                    if (nbb_cells[i].input_prompt_number == nbb_cell_id) {\n",
       "                        if (nbb_cells[i].get_text() == nbb_unformatted_code) {\n",
       "                             nbb_cells[i].set_text(nbb_formatted_code);\n",
       "                        }\n",
       "                        break;\n",
       "                    }\n",
       "                }\n",
       "            }, 500);\n",
       "            "
      ],
      "text/plain": [
       "<IPython.core.display.Javascript object>"
      ]
     },
     "metadata": {},
     "output_type": "display_data"
    }
   ],
   "source": [
    "real_estate = pd.read_csv(\"data/Ames_Real_Estate_Data.csv\", index_col=0)\n",
    "real_estate.shape"
   ]
  },
  {
   "cell_type": "code",
   "execution_count": 7,
   "id": "dbd54ddd",
   "metadata": {},
   "outputs": [
    {
     "data": {
      "text/html": [
       "<div>\n",
       "<style scoped>\n",
       "    .dataframe tbody tr th:only-of-type {\n",
       "        vertical-align: middle;\n",
       "    }\n",
       "\n",
       "    .dataframe tbody tr th {\n",
       "        vertical-align: top;\n",
       "    }\n",
       "\n",
       "    .dataframe thead th {\n",
       "        text-align: right;\n",
       "    }\n",
       "</style>\n",
       "<table border=\"1\" class=\"dataframe\">\n",
       "  <thead>\n",
       "    <tr style=\"text-align: right;\">\n",
       "      <th></th>\n",
       "      <th>PID</th>\n",
       "      <th>GrLivArea</th>\n",
       "      <th>SalePrice</th>\n",
       "      <th>MSSubClass</th>\n",
       "      <th>MSZoning</th>\n",
       "      <th>LotFrontage</th>\n",
       "      <th>LotArea</th>\n",
       "      <th>Street</th>\n",
       "      <th>Alley</th>\n",
       "      <th>LotShape</th>\n",
       "      <th>...</th>\n",
       "      <th>ScreenPorch</th>\n",
       "      <th>PoolArea</th>\n",
       "      <th>PoolQC</th>\n",
       "      <th>Fence</th>\n",
       "      <th>MiscFeature</th>\n",
       "      <th>MiscVal</th>\n",
       "      <th>MoSold</th>\n",
       "      <th>YrSold</th>\n",
       "      <th>SaleType</th>\n",
       "      <th>SaleCondition</th>\n",
       "    </tr>\n",
       "  </thead>\n",
       "  <tbody>\n",
       "    <tr>\n",
       "      <th>1</th>\n",
       "      <td>909176150</td>\n",
       "      <td>856</td>\n",
       "      <td>126000</td>\n",
       "      <td>30</td>\n",
       "      <td>RL</td>\n",
       "      <td>NaN</td>\n",
       "      <td>7890</td>\n",
       "      <td>Pave</td>\n",
       "      <td>NaN</td>\n",
       "      <td>Reg</td>\n",
       "      <td>...</td>\n",
       "      <td>166</td>\n",
       "      <td>0</td>\n",
       "      <td>NaN</td>\n",
       "      <td>NaN</td>\n",
       "      <td>NaN</td>\n",
       "      <td>0</td>\n",
       "      <td>3</td>\n",
       "      <td>2010</td>\n",
       "      <td>WD</td>\n",
       "      <td>Normal</td>\n",
       "    </tr>\n",
       "    <tr>\n",
       "      <th>2</th>\n",
       "      <td>905476230</td>\n",
       "      <td>1049</td>\n",
       "      <td>139500</td>\n",
       "      <td>120</td>\n",
       "      <td>RL</td>\n",
       "      <td>42.0</td>\n",
       "      <td>4235</td>\n",
       "      <td>Pave</td>\n",
       "      <td>NaN</td>\n",
       "      <td>Reg</td>\n",
       "      <td>...</td>\n",
       "      <td>0</td>\n",
       "      <td>0</td>\n",
       "      <td>NaN</td>\n",
       "      <td>NaN</td>\n",
       "      <td>NaN</td>\n",
       "      <td>0</td>\n",
       "      <td>2</td>\n",
       "      <td>2009</td>\n",
       "      <td>WD</td>\n",
       "      <td>Normal</td>\n",
       "    </tr>\n",
       "    <tr>\n",
       "      <th>3</th>\n",
       "      <td>911128020</td>\n",
       "      <td>1001</td>\n",
       "      <td>124900</td>\n",
       "      <td>30</td>\n",
       "      <td>C (all)</td>\n",
       "      <td>60.0</td>\n",
       "      <td>6060</td>\n",
       "      <td>Pave</td>\n",
       "      <td>NaN</td>\n",
       "      <td>Reg</td>\n",
       "      <td>...</td>\n",
       "      <td>0</td>\n",
       "      <td>0</td>\n",
       "      <td>NaN</td>\n",
       "      <td>NaN</td>\n",
       "      <td>NaN</td>\n",
       "      <td>0</td>\n",
       "      <td>11</td>\n",
       "      <td>2007</td>\n",
       "      <td>WD</td>\n",
       "      <td>Normal</td>\n",
       "    </tr>\n",
       "    <tr>\n",
       "      <th>4</th>\n",
       "      <td>535377150</td>\n",
       "      <td>1039</td>\n",
       "      <td>114000</td>\n",
       "      <td>70</td>\n",
       "      <td>RL</td>\n",
       "      <td>80.0</td>\n",
       "      <td>8146</td>\n",
       "      <td>Pave</td>\n",
       "      <td>NaN</td>\n",
       "      <td>Reg</td>\n",
       "      <td>...</td>\n",
       "      <td>111</td>\n",
       "      <td>0</td>\n",
       "      <td>NaN</td>\n",
       "      <td>NaN</td>\n",
       "      <td>NaN</td>\n",
       "      <td>0</td>\n",
       "      <td>5</td>\n",
       "      <td>2009</td>\n",
       "      <td>WD</td>\n",
       "      <td>Normal</td>\n",
       "    </tr>\n",
       "    <tr>\n",
       "      <th>5</th>\n",
       "      <td>534177230</td>\n",
       "      <td>1665</td>\n",
       "      <td>227000</td>\n",
       "      <td>60</td>\n",
       "      <td>RL</td>\n",
       "      <td>70.0</td>\n",
       "      <td>8400</td>\n",
       "      <td>Pave</td>\n",
       "      <td>NaN</td>\n",
       "      <td>Reg</td>\n",
       "      <td>...</td>\n",
       "      <td>0</td>\n",
       "      <td>0</td>\n",
       "      <td>NaN</td>\n",
       "      <td>NaN</td>\n",
       "      <td>NaN</td>\n",
       "      <td>0</td>\n",
       "      <td>11</td>\n",
       "      <td>2009</td>\n",
       "      <td>WD</td>\n",
       "      <td>Normal</td>\n",
       "    </tr>\n",
       "  </tbody>\n",
       "</table>\n",
       "<p>5 rows × 81 columns</p>\n",
       "</div>"
      ],
      "text/plain": [
       "         PID  GrLivArea  SalePrice  MSSubClass MSZoning  LotFrontage  LotArea  \\\n",
       "1  909176150        856     126000          30       RL          NaN     7890   \n",
       "2  905476230       1049     139500         120       RL         42.0     4235   \n",
       "3  911128020       1001     124900          30  C (all)         60.0     6060   \n",
       "4  535377150       1039     114000          70       RL         80.0     8146   \n",
       "5  534177230       1665     227000          60       RL         70.0     8400   \n",
       "\n",
       "  Street Alley LotShape  ... ScreenPorch PoolArea PoolQC Fence MiscFeature  \\\n",
       "1   Pave   NaN      Reg  ...         166        0    NaN   NaN         NaN   \n",
       "2   Pave   NaN      Reg  ...           0        0    NaN   NaN         NaN   \n",
       "3   Pave   NaN      Reg  ...           0        0    NaN   NaN         NaN   \n",
       "4   Pave   NaN      Reg  ...         111        0    NaN   NaN         NaN   \n",
       "5   Pave   NaN      Reg  ...           0        0    NaN   NaN         NaN   \n",
       "\n",
       "  MiscVal MoSold YrSold SaleType  SaleCondition  \n",
       "1       0      3   2010      WD          Normal  \n",
       "2       0      2   2009      WD          Normal  \n",
       "3       0     11   2007      WD          Normal  \n",
       "4       0      5   2009      WD          Normal  \n",
       "5       0     11   2009      WD          Normal  \n",
       "\n",
       "[5 rows x 81 columns]"
      ]
     },
     "execution_count": 7,
     "metadata": {},
     "output_type": "execute_result"
    },
    {
     "data": {
      "application/javascript": [
       "\n",
       "            setTimeout(function() {\n",
       "                var nbb_cell_id = 7;\n",
       "                var nbb_unformatted_code = \"housing.head()\";\n",
       "                var nbb_formatted_code = \"housing.head()\";\n",
       "                var nbb_cells = Jupyter.notebook.get_cells();\n",
       "                for (var i = 0; i < nbb_cells.length; ++i) {\n",
       "                    if (nbb_cells[i].input_prompt_number == nbb_cell_id) {\n",
       "                        if (nbb_cells[i].get_text() == nbb_unformatted_code) {\n",
       "                             nbb_cells[i].set_text(nbb_formatted_code);\n",
       "                        }\n",
       "                        break;\n",
       "                    }\n",
       "                }\n",
       "            }, 500);\n",
       "            "
      ],
      "text/plain": [
       "<IPython.core.display.Javascript object>"
      ]
     },
     "metadata": {},
     "output_type": "display_data"
    }
   ],
   "source": [
    "housing.head()"
   ]
  },
  {
   "cell_type": "code",
   "execution_count": 8,
   "id": "e0e29344",
   "metadata": {},
   "outputs": [
    {
     "data": {
      "text/html": [
       "<div>\n",
       "<style scoped>\n",
       "    .dataframe tbody tr th:only-of-type {\n",
       "        vertical-align: middle;\n",
       "    }\n",
       "\n",
       "    .dataframe tbody tr th {\n",
       "        vertical-align: top;\n",
       "    }\n",
       "\n",
       "    .dataframe thead th {\n",
       "        text-align: right;\n",
       "    }\n",
       "</style>\n",
       "<table border=\"1\" class=\"dataframe\">\n",
       "  <thead>\n",
       "    <tr style=\"text-align: right;\">\n",
       "      <th></th>\n",
       "      <th>GeoRefNo</th>\n",
       "      <th>Tier</th>\n",
       "      <th>Range</th>\n",
       "      <th>Prop_Addr</th>\n",
       "      <th>ZngCdPr</th>\n",
       "      <th>ZngCdSc</th>\n",
       "      <th>ZngOLPr</th>\n",
       "      <th>ZngOLSc</th>\n",
       "      <th>ClassPr_S</th>\n",
       "      <th>ClassSc_S</th>\n",
       "      <th>...</th>\n",
       "      <th>PA-Nmbr</th>\n",
       "      <th>PA-PreD</th>\n",
       "      <th>PA-Strt</th>\n",
       "      <th>PA-StSfx</th>\n",
       "      <th>PA-PostD</th>\n",
       "      <th>PA-UnTyp</th>\n",
       "      <th>PA-UntNo</th>\n",
       "      <th>Date</th>\n",
       "      <th>Source</th>\n",
       "      <th>NmbrBRs</th>\n",
       "    </tr>\n",
       "    <tr>\n",
       "      <th>MapRefNo</th>\n",
       "      <th></th>\n",
       "      <th></th>\n",
       "      <th></th>\n",
       "      <th></th>\n",
       "      <th></th>\n",
       "      <th></th>\n",
       "      <th></th>\n",
       "      <th></th>\n",
       "      <th></th>\n",
       "      <th></th>\n",
       "      <th></th>\n",
       "      <th></th>\n",
       "      <th></th>\n",
       "      <th></th>\n",
       "      <th></th>\n",
       "      <th></th>\n",
       "      <th></th>\n",
       "      <th></th>\n",
       "      <th></th>\n",
       "      <th></th>\n",
       "      <th></th>\n",
       "    </tr>\n",
       "  </thead>\n",
       "  <tbody>\n",
       "    <tr>\n",
       "      <th>520400001</th>\n",
       "      <td>520400001</td>\n",
       "      <td>0</td>\n",
       "      <td>0</td>\n",
       "      <td>4599 GEORGE W CARVER AVE</td>\n",
       "      <td>FS-RL</td>\n",
       "      <td>NaN</td>\n",
       "      <td>NaN</td>\n",
       "      <td>NaN</td>\n",
       "      <td>RESIDENTIAL</td>\n",
       "      <td>VACANT LAND - IMPROVED OR UNIMPROVED</td>\n",
       "      <td>...</td>\n",
       "      <td>4599.0</td>\n",
       "      <td>NaN</td>\n",
       "      <td>GEORGE W CARVER</td>\n",
       "      <td>AVE</td>\n",
       "      <td>NaN</td>\n",
       "      <td>NaN</td>\n",
       "      <td>NaN</td>\n",
       "      <td>10-Jul-20</td>\n",
       "      <td>Ames City Assessor</td>\n",
       "      <td>NaN</td>\n",
       "    </tr>\n",
       "    <tr>\n",
       "      <th>520440010</th>\n",
       "      <td>520440010</td>\n",
       "      <td>0</td>\n",
       "      <td>0</td>\n",
       "      <td>4507 EVEREST  AVE</td>\n",
       "      <td>FS-RL</td>\n",
       "      <td>NaN</td>\n",
       "      <td>NaN</td>\n",
       "      <td>NaN</td>\n",
       "      <td>RESIDENTIAL</td>\n",
       "      <td>VACANT LAND - IMPROVED OR UNIMPROVED</td>\n",
       "      <td>...</td>\n",
       "      <td>4507.0</td>\n",
       "      <td>NaN</td>\n",
       "      <td>EVEREST</td>\n",
       "      <td>AVE</td>\n",
       "      <td>NaN</td>\n",
       "      <td>NaN</td>\n",
       "      <td>NaN</td>\n",
       "      <td>10-Jul-20</td>\n",
       "      <td>Ames City Assessor</td>\n",
       "      <td>NaN</td>\n",
       "    </tr>\n",
       "    <tr>\n",
       "      <th>520440020</th>\n",
       "      <td>520440020</td>\n",
       "      <td>0</td>\n",
       "      <td>0</td>\n",
       "      <td>4513 EVEREST  AVE</td>\n",
       "      <td>FS-RL</td>\n",
       "      <td>NaN</td>\n",
       "      <td>NaN</td>\n",
       "      <td>NaN</td>\n",
       "      <td>RESIDENTIAL</td>\n",
       "      <td>VACANT LAND - IMPROVED OR UNIMPROVED</td>\n",
       "      <td>...</td>\n",
       "      <td>4513.0</td>\n",
       "      <td>NaN</td>\n",
       "      <td>EVEREST</td>\n",
       "      <td>AVE</td>\n",
       "      <td>NaN</td>\n",
       "      <td>NaN</td>\n",
       "      <td>NaN</td>\n",
       "      <td>10-Jul-20</td>\n",
       "      <td>Ames City Assessor</td>\n",
       "      <td>NaN</td>\n",
       "    </tr>\n",
       "    <tr>\n",
       "      <th>520445001</th>\n",
       "      <td>520445001</td>\n",
       "      <td>0</td>\n",
       "      <td>0</td>\n",
       "      <td>3449 BARCELOS ST</td>\n",
       "      <td>FS-RL</td>\n",
       "      <td>NaN</td>\n",
       "      <td>NaN</td>\n",
       "      <td>NaN</td>\n",
       "      <td>RESIDENTIAL</td>\n",
       "      <td>ASSOCIATION COMMON AREA</td>\n",
       "      <td>...</td>\n",
       "      <td>3449.0</td>\n",
       "      <td>NaN</td>\n",
       "      <td>BARCELOS</td>\n",
       "      <td>ST</td>\n",
       "      <td>NaN</td>\n",
       "      <td>NaN</td>\n",
       "      <td>NaN</td>\n",
       "      <td>10-Jul-20</td>\n",
       "      <td>Ames City Assessor</td>\n",
       "      <td>NaN</td>\n",
       "    </tr>\n",
       "    <tr>\n",
       "      <th>520445010</th>\n",
       "      <td>520445010</td>\n",
       "      <td>0</td>\n",
       "      <td>0</td>\n",
       "      <td>4506 EVEREST  AVE</td>\n",
       "      <td>FS-RL</td>\n",
       "      <td>NaN</td>\n",
       "      <td>NaN</td>\n",
       "      <td>NaN</td>\n",
       "      <td>RESIDENTIAL</td>\n",
       "      <td>VACANT LAND - IMPROVED OR UNIMPROVED</td>\n",
       "      <td>...</td>\n",
       "      <td>4506.0</td>\n",
       "      <td>NaN</td>\n",
       "      <td>EVEREST</td>\n",
       "      <td>AVE</td>\n",
       "      <td>NaN</td>\n",
       "      <td>NaN</td>\n",
       "      <td>NaN</td>\n",
       "      <td>10-Jul-20</td>\n",
       "      <td>Ames City Assessor</td>\n",
       "      <td>NaN</td>\n",
       "    </tr>\n",
       "  </tbody>\n",
       "</table>\n",
       "<p>5 rows × 90 columns</p>\n",
       "</div>"
      ],
      "text/plain": [
       "            GeoRefNo  Tier  Range                 Prop_Addr ZngCdPr ZngCdSc  \\\n",
       "MapRefNo                                                                      \n",
       "520400001  520400001     0      0  4599 GEORGE W CARVER AVE   FS-RL     NaN   \n",
       "520440010  520440010     0      0         4507 EVEREST  AVE   FS-RL     NaN   \n",
       "520440020  520440020     0      0         4513 EVEREST  AVE   FS-RL     NaN   \n",
       "520445001  520445001     0      0          3449 BARCELOS ST   FS-RL     NaN   \n",
       "520445010  520445010     0      0         4506 EVEREST  AVE   FS-RL     NaN   \n",
       "\n",
       "          ZngOLPr ZngOLSc    ClassPr_S                             ClassSc_S  \\\n",
       "MapRefNo                                                                       \n",
       "520400001     NaN     NaN  RESIDENTIAL  VACANT LAND - IMPROVED OR UNIMPROVED   \n",
       "520440010     NaN     NaN  RESIDENTIAL  VACANT LAND - IMPROVED OR UNIMPROVED   \n",
       "520440020     NaN     NaN  RESIDENTIAL  VACANT LAND - IMPROVED OR UNIMPROVED   \n",
       "520445001     NaN     NaN  RESIDENTIAL               ASSOCIATION COMMON AREA   \n",
       "520445010     NaN     NaN  RESIDENTIAL  VACANT LAND - IMPROVED OR UNIMPROVED   \n",
       "\n",
       "           ... PA-Nmbr  PA-PreD          PA-Strt PA-StSfx PA-PostD PA-UnTyp  \\\n",
       "MapRefNo   ...                                                                \n",
       "520400001  ...  4599.0      NaN  GEORGE W CARVER      AVE      NaN      NaN   \n",
       "520440010  ...  4507.0      NaN          EVEREST      AVE      NaN      NaN   \n",
       "520440020  ...  4513.0      NaN          EVEREST      AVE      NaN      NaN   \n",
       "520445001  ...  3449.0      NaN         BARCELOS       ST      NaN      NaN   \n",
       "520445010  ...  4506.0      NaN          EVEREST      AVE      NaN      NaN   \n",
       "\n",
       "           PA-UntNo       Date              Source  NmbrBRs  \n",
       "MapRefNo                                                     \n",
       "520400001       NaN  10-Jul-20  Ames City Assessor      NaN  \n",
       "520440010       NaN  10-Jul-20  Ames City Assessor      NaN  \n",
       "520440020       NaN  10-Jul-20  Ames City Assessor      NaN  \n",
       "520445001       NaN  10-Jul-20  Ames City Assessor      NaN  \n",
       "520445010       NaN  10-Jul-20  Ames City Assessor      NaN  \n",
       "\n",
       "[5 rows x 90 columns]"
      ]
     },
     "execution_count": 8,
     "metadata": {},
     "output_type": "execute_result"
    },
    {
     "data": {
      "application/javascript": [
       "\n",
       "            setTimeout(function() {\n",
       "                var nbb_cell_id = 8;\n",
       "                var nbb_unformatted_code = \"real_estate.head()\";\n",
       "                var nbb_formatted_code = \"real_estate.head()\";\n",
       "                var nbb_cells = Jupyter.notebook.get_cells();\n",
       "                for (var i = 0; i < nbb_cells.length; ++i) {\n",
       "                    if (nbb_cells[i].input_prompt_number == nbb_cell_id) {\n",
       "                        if (nbb_cells[i].get_text() == nbb_unformatted_code) {\n",
       "                             nbb_cells[i].set_text(nbb_formatted_code);\n",
       "                        }\n",
       "                        break;\n",
       "                    }\n",
       "                }\n",
       "            }, 500);\n",
       "            "
      ],
      "text/plain": [
       "<IPython.core.display.Javascript object>"
      ]
     },
     "metadata": {},
     "output_type": "display_data"
    }
   ],
   "source": [
    "real_estate.head()"
   ]
  },
  {
   "cell_type": "code",
   "execution_count": 9,
   "id": "88270948",
   "metadata": {},
   "outputs": [
    {
     "data": {
      "text/plain": [
       "Index(['1stFlrSF', '2ndFlrSF', '3SsnPorch', 'Alley', 'BedroomAbvGr',\n",
       "       'BldgType', 'BsmtCond', 'BsmtExposure', 'BsmtFinSF1', 'BsmtFinSF2',\n",
       "       'BsmtFinType1', 'BsmtFinType2', 'BsmtFullBath', 'BsmtHalfBath',\n",
       "       'BsmtQual', 'BsmtUnfSF', 'CentralAir', 'Condition1', 'Condition2',\n",
       "       'Electrical', 'EnclosedPorch', 'ExterCond', 'ExterQual', 'Exterior1st',\n",
       "       'Exterior2nd', 'Fence', 'FireplaceQu', 'Fireplaces', 'Foundation',\n",
       "       'FullBath', 'Functional', 'GarageArea', 'GarageCars', 'GarageCond',\n",
       "       'GarageFinish', 'GarageQual', 'GarageType', 'GarageYrBlt', 'GrLivArea',\n",
       "       'HalfBath', 'Heating', 'HeatingQC', 'HouseStyle', 'KitchenAbvGr',\n",
       "       'KitchenQual', 'LandContour', 'LandSlope', 'LotArea', 'LotConfig',\n",
       "       'LotFrontage', 'LotShape', 'LowQualFinSF', 'MSSubClass', 'MSZoning',\n",
       "       'MasVnrArea', 'MasVnrType', 'MiscFeature', 'MiscVal', 'MoSold',\n",
       "       'Neighborhood', 'OpenPorchSF', 'OverallCond', 'OverallQual', 'PID',\n",
       "       'PavedDrive', 'PoolArea', 'PoolQC', 'RoofMatl', 'RoofStyle',\n",
       "       'SaleCondition', 'SalePrice', 'SaleType', 'ScreenPorch', 'Street',\n",
       "       'TotRmsAbvGrd', 'TotalBsmtSF', 'Utilities', 'WoodDeckSF', 'YearBuilt',\n",
       "       'YearRemodAdd', 'YrSold'],\n",
       "      dtype='object')"
      ]
     },
     "execution_count": 9,
     "metadata": {},
     "output_type": "execute_result"
    },
    {
     "data": {
      "application/javascript": [
       "\n",
       "            setTimeout(function() {\n",
       "                var nbb_cell_id = 9;\n",
       "                var nbb_unformatted_code = \"housing.columns.sort_values()\";\n",
       "                var nbb_formatted_code = \"housing.columns.sort_values()\";\n",
       "                var nbb_cells = Jupyter.notebook.get_cells();\n",
       "                for (var i = 0; i < nbb_cells.length; ++i) {\n",
       "                    if (nbb_cells[i].input_prompt_number == nbb_cell_id) {\n",
       "                        if (nbb_cells[i].get_text() == nbb_unformatted_code) {\n",
       "                             nbb_cells[i].set_text(nbb_formatted_code);\n",
       "                        }\n",
       "                        break;\n",
       "                    }\n",
       "                }\n",
       "            }, 500);\n",
       "            "
      ],
      "text/plain": [
       "<IPython.core.display.Javascript object>"
      ]
     },
     "metadata": {},
     "output_type": "display_data"
    }
   ],
   "source": [
    "housing.columns.sort_values()"
   ]
  },
  {
   "cell_type": "code",
   "execution_count": 10,
   "id": "5de45e6a",
   "metadata": {},
   "outputs": [
    {
     "data": {
      "text/plain": [
       "Index(['AcreGr', 'AcreNt_S', 'AcreX_S1', 'BldgNo_S', 'BldgType', 'Cars',\n",
       "       'Central Air', 'ClassPr_S', 'ClassSc_S', 'Date', 'DwlgNo_S', 'Ext1',\n",
       "       'Ext2', 'Fireplaces', 'Foundation', 'GLA', 'GarYrBlt', 'GarageArea',\n",
       "       'GarageType', 'GeoRefNo', 'HSTtl_D', 'HSTtl_S', 'Heating', 'HouseStyle',\n",
       "       'ImpAcX1S', 'ImpAcX2S', 'ImpAc_S', 'Inst1TPr', 'Inst1_Mo', 'Inst1_No',\n",
       "       'Inst1_Yr', 'Legal_Pr', 'LndAcX1S', 'LndAc_S', 'LotArea', 'MA_City',\n",
       "       'MA_Line1', 'MA_Line2', 'MA_Ownr1', 'MA_Ownr2', 'MA_State', 'MA_Zip1',\n",
       "       'MA_Zip2', 'MasVnrType', 'MilVal_D', 'MilVal_S', 'MoSold_MM',\n",
       "       'Neighborhood', 'NmbrBRs', 'OthAc_S', 'PA-Nmbr', 'PA-PostD', 'PA-PreD',\n",
       "       'PA-StSfx', 'PA-Strt', 'PA-UnTyp', 'PA-UntNo', 'ParType', 'ParclRel',\n",
       "       'PoolArea', 'Prop_Addr', 'Range', 'Rcrd_Mo', 'Rcrd_Yr', 'RoofMatl',\n",
       "       'SaleCond', 'SalePrice', 'SaleType', 'SchD_S', 'Source', 'Tier',\n",
       "       'TotRmsAbvGrd', 'TtlBsmtSF', 'TtlVal_AsrYr', 'TxD_S', 'ValType',\n",
       "       'X1TPr_D', 'X1TPr_S', 'X1TSc_D', 'X1TSc_S', 'X2TPr_D', 'X2TPr_S',\n",
       "       'X2TSc_D', 'X2TSc_S', 'YrBuilt', 'YrSold_YYYY', 'ZngCdPr', 'ZngCdSc',\n",
       "       'ZngOLPr', 'ZngOLSc'],\n",
       "      dtype='object')"
      ]
     },
     "execution_count": 10,
     "metadata": {},
     "output_type": "execute_result"
    },
    {
     "data": {
      "application/javascript": [
       "\n",
       "            setTimeout(function() {\n",
       "                var nbb_cell_id = 10;\n",
       "                var nbb_unformatted_code = \"real_estate.columns.sort_values()\";\n",
       "                var nbb_formatted_code = \"real_estate.columns.sort_values()\";\n",
       "                var nbb_cells = Jupyter.notebook.get_cells();\n",
       "                for (var i = 0; i < nbb_cells.length; ++i) {\n",
       "                    if (nbb_cells[i].input_prompt_number == nbb_cell_id) {\n",
       "                        if (nbb_cells[i].get_text() == nbb_unformatted_code) {\n",
       "                             nbb_cells[i].set_text(nbb_formatted_code);\n",
       "                        }\n",
       "                        break;\n",
       "                    }\n",
       "                }\n",
       "            }, 500);\n",
       "            "
      ],
      "text/plain": [
       "<IPython.core.display.Javascript object>"
      ]
     },
     "metadata": {},
     "output_type": "display_data"
    }
   ],
   "source": [
    "real_estate.columns.sort_values()"
   ]
  },
  {
   "cell_type": "code",
   "execution_count": 11,
   "id": "3c7fe572",
   "metadata": {},
   "outputs": [
    {
     "data": {
      "application/javascript": [
       "\n",
       "            setTimeout(function() {\n",
       "                var nbb_cell_id = 11;\n",
       "                var nbb_unformatted_code = \"# Merge the two DataFrames based on the shared unique identifier to add property address\\nhousing = pd.merge(housing, real_estate[['GeoRefNo', 'Prop_Addr']],left_on='PID', right_on='GeoRefNo')\";\n",
       "                var nbb_formatted_code = \"# Merge the two DataFrames based on the shared unique identifier to add property address\\nhousing = pd.merge(\\n    housing, real_estate[[\\\"GeoRefNo\\\", \\\"Prop_Addr\\\"]], left_on=\\\"PID\\\", right_on=\\\"GeoRefNo\\\"\\n)\";\n",
       "                var nbb_cells = Jupyter.notebook.get_cells();\n",
       "                for (var i = 0; i < nbb_cells.length; ++i) {\n",
       "                    if (nbb_cells[i].input_prompt_number == nbb_cell_id) {\n",
       "                        if (nbb_cells[i].get_text() == nbb_unformatted_code) {\n",
       "                             nbb_cells[i].set_text(nbb_formatted_code);\n",
       "                        }\n",
       "                        break;\n",
       "                    }\n",
       "                }\n",
       "            }, 500);\n",
       "            "
      ],
      "text/plain": [
       "<IPython.core.display.Javascript object>"
      ]
     },
     "metadata": {},
     "output_type": "display_data"
    }
   ],
   "source": [
    "# Merge the two DataFrames based on the shared unique identifier to add property address\n",
    "housing = pd.merge(housing, real_estate[['GeoRefNo', 'Prop_Addr']],left_on='PID', right_on='GeoRefNo')\n"
   ]
  },
  {
   "cell_type": "code",
   "execution_count": 12,
   "id": "fcf2933b",
   "metadata": {},
   "outputs": [
    {
     "data": {
      "text/plain": [
       "(2604, 83)"
      ]
     },
     "execution_count": 12,
     "metadata": {},
     "output_type": "execute_result"
    },
    {
     "data": {
      "application/javascript": [
       "\n",
       "            setTimeout(function() {\n",
       "                var nbb_cell_id = 12;\n",
       "                var nbb_unformatted_code = \"housing.shape\";\n",
       "                var nbb_formatted_code = \"housing.shape\";\n",
       "                var nbb_cells = Jupyter.notebook.get_cells();\n",
       "                for (var i = 0; i < nbb_cells.length; ++i) {\n",
       "                    if (nbb_cells[i].input_prompt_number == nbb_cell_id) {\n",
       "                        if (nbb_cells[i].get_text() == nbb_unformatted_code) {\n",
       "                             nbb_cells[i].set_text(nbb_formatted_code);\n",
       "                        }\n",
       "                        break;\n",
       "                    }\n",
       "                }\n",
       "            }, 500);\n",
       "            "
      ],
      "text/plain": [
       "<IPython.core.display.Javascript object>"
      ]
     },
     "metadata": {},
     "output_type": "display_data"
    }
   ],
   "source": [
    "housing.shape"
   ]
  },
  {
   "cell_type": "code",
   "execution_count": 13,
   "id": "cce5b097",
   "metadata": {},
   "outputs": [
    {
     "data": {
      "application/javascript": [
       "\n",
       "            setTimeout(function() {\n",
       "                var nbb_cell_id = 13;\n",
       "                var nbb_unformatted_code = \"# Creating new dataframe for property addresses\\nhousing[\\\"Prop_Addr\\\"] = [\\n    addr + \\\", Ames, USA\\\" if type(addr) == str else None for addr in housing.Prop_Addr\\n]\\nlocations = housing[[\\\"PID\\\", \\\"Prop_Addr\\\"]].drop_duplicates().reset_index(drop=True)\";\n",
       "                var nbb_formatted_code = \"# Creating new dataframe for property addresses\\nhousing[\\\"Prop_Addr\\\"] = [\\n    addr + \\\", Ames, USA\\\" if type(addr) == str else None for addr in housing.Prop_Addr\\n]\\nlocations = housing[[\\\"PID\\\", \\\"Prop_Addr\\\"]].drop_duplicates().reset_index(drop=True)\";\n",
       "                var nbb_cells = Jupyter.notebook.get_cells();\n",
       "                for (var i = 0; i < nbb_cells.length; ++i) {\n",
       "                    if (nbb_cells[i].input_prompt_number == nbb_cell_id) {\n",
       "                        if (nbb_cells[i].get_text() == nbb_unformatted_code) {\n",
       "                             nbb_cells[i].set_text(nbb_formatted_code);\n",
       "                        }\n",
       "                        break;\n",
       "                    }\n",
       "                }\n",
       "            }, 500);\n",
       "            "
      ],
      "text/plain": [
       "<IPython.core.display.Javascript object>"
      ]
     },
     "metadata": {},
     "output_type": "display_data"
    }
   ],
   "source": [
    "# Creating new dataframe for property addresses\n",
    "housing[\"Prop_Addr\"] = [\n",
    "    addr + \", Ames, USA\" if type(addr) == str else None for addr in housing.Prop_Addr\n",
    "]\n",
    "locations = housing[[\"PID\", \"Prop_Addr\"]].drop_duplicates().reset_index(drop=True)"
   ]
  },
  {
   "cell_type": "code",
   "execution_count": 14,
   "id": "03e20375",
   "metadata": {},
   "outputs": [
    {
     "data": {
      "application/javascript": [
       "\n",
       "            setTimeout(function() {\n",
       "                var nbb_cell_id = 14;\n",
       "                var nbb_unformatted_code = \"import geopy\\nfrom geopy import Nominatim\\nfrom geopy.extra.rate_limiter import RateLimiter\\n\\ngeolocator = Nominatim(user_agent=\\\"myGeocoder\\\")\";\n",
       "                var nbb_formatted_code = \"import geopy\\nfrom geopy import Nominatim\\nfrom geopy.extra.rate_limiter import RateLimiter\\n\\ngeolocator = Nominatim(user_agent=\\\"myGeocoder\\\")\";\n",
       "                var nbb_cells = Jupyter.notebook.get_cells();\n",
       "                for (var i = 0; i < nbb_cells.length; ++i) {\n",
       "                    if (nbb_cells[i].input_prompt_number == nbb_cell_id) {\n",
       "                        if (nbb_cells[i].get_text() == nbb_unformatted_code) {\n",
       "                             nbb_cells[i].set_text(nbb_formatted_code);\n",
       "                        }\n",
       "                        break;\n",
       "                    }\n",
       "                }\n",
       "            }, 500);\n",
       "            "
      ],
      "text/plain": [
       "<IPython.core.display.Javascript object>"
      ]
     },
     "metadata": {},
     "output_type": "display_data"
    }
   ],
   "source": [
    "import geopy\n",
    "from geopy import Nominatim\n",
    "from geopy.extra.rate_limiter import RateLimiter\n",
    "\n",
    "geolocator = Nominatim(user_agent=\"myGeocoder\")"
   ]
  },
  {
   "cell_type": "code",
   "execution_count": 14,
   "id": "d18e9ddd",
   "metadata": {},
   "outputs": [
    {
     "data": {
      "application/javascript": [
       "\n",
       "            setTimeout(function() {\n",
       "                var nbb_cell_id = 14;\n",
       "                var nbb_unformatted_code = \"# Adding Latitude and Longitude to locations dataframe\\ngeolocator = Nominatim(user_agent=\\\"myGeocoder\\\")\\ngeocode = RateLimiter(geolocator.geocode, min_delay_seconds=1.5)\\nlocations[\\\"location\\\"] = locations[\\\"Prop_Addr\\\"].apply(geolocator.geocode)\\nlocations[\\\"latitude\\\"] = locations[\\\"location\\\"].apply(lambda loc: loc.latitude if loc else None)\\nlocations[\\\"longitude\\\"] = locations[\\\"location\\\"].apply(lambda loc: loc.longitude if loc else None)\";\n",
       "                var nbb_formatted_code = \"# Adding Latitude and Longitude to locations dataframe\\ngeolocator = Nominatim(user_agent=\\\"myGeocoder\\\")\\ngeocode = RateLimiter(geolocator.geocode, min_delay_seconds=1.5)\\nlocations[\\\"location\\\"] = locations[\\\"Prop_Addr\\\"].apply(geolocator.geocode)\\nlocations[\\\"latitude\\\"] = locations[\\\"location\\\"].apply(\\n    lambda loc: loc.latitude if loc else None\\n)\\nlocations[\\\"longitude\\\"] = locations[\\\"location\\\"].apply(\\n    lambda loc: loc.longitude if loc else None\\n)\";\n",
       "                var nbb_cells = Jupyter.notebook.get_cells();\n",
       "                for (var i = 0; i < nbb_cells.length; ++i) {\n",
       "                    if (nbb_cells[i].input_prompt_number == nbb_cell_id) {\n",
       "                        if (nbb_cells[i].get_text() == nbb_unformatted_code) {\n",
       "                             nbb_cells[i].set_text(nbb_formatted_code);\n",
       "                        }\n",
       "                        break;\n",
       "                    }\n",
       "                }\n",
       "            }, 500);\n",
       "            "
      ],
      "text/plain": [
       "<IPython.core.display.Javascript object>"
      ]
     },
     "metadata": {},
     "output_type": "display_data"
    }
   ],
   "source": [
    "# Adding Latitude and Longitude to locations dataframe (takes over an hour to run)\n",
    "geolocator = Nominatim(user_agent=\"myGeocoder\")\n",
    "geocode = RateLimiter(geolocator.geocode, min_delay_seconds=1.5)\n",
    "locations[\"location\"] = locations[\"Prop_Addr\"].apply(geolocator.geocode)\n",
    "locations[\"latitude\"] = locations[\"location\"].apply(\n",
    "    lambda loc: loc.latitude if loc else None\n",
    ")\n",
    "locations[\"longitude\"] = locations[\"location\"].apply(\n",
    "    lambda loc: loc.longitude if loc else None\n",
    ")"
   ]
  },
  {
   "cell_type": "code",
   "execution_count": 15,
   "id": "c8326917",
   "metadata": {},
   "outputs": [
    {
     "data": {
      "text/html": [
       "<div>\n",
       "<style scoped>\n",
       "    .dataframe tbody tr th:only-of-type {\n",
       "        vertical-align: middle;\n",
       "    }\n",
       "\n",
       "    .dataframe tbody tr th {\n",
       "        vertical-align: top;\n",
       "    }\n",
       "\n",
       "    .dataframe thead th {\n",
       "        text-align: right;\n",
       "    }\n",
       "</style>\n",
       "<table border=\"1\" class=\"dataframe\">\n",
       "  <thead>\n",
       "    <tr style=\"text-align: right;\">\n",
       "      <th></th>\n",
       "      <th>PID</th>\n",
       "      <th>Prop_Addr</th>\n",
       "    </tr>\n",
       "  </thead>\n",
       "  <tbody>\n",
       "    <tr>\n",
       "      <th>0</th>\n",
       "      <td>909176150</td>\n",
       "      <td>436 HAYWARD AVE, Ames, USA</td>\n",
       "    </tr>\n",
       "    <tr>\n",
       "      <th>1</th>\n",
       "      <td>905476230</td>\n",
       "      <td>3416 WEST ST, Ames, USA</td>\n",
       "    </tr>\n",
       "    <tr>\n",
       "      <th>2</th>\n",
       "      <td>911128020</td>\n",
       "      <td>320 S 2ND ST, Ames, USA</td>\n",
       "    </tr>\n",
       "    <tr>\n",
       "      <th>3</th>\n",
       "      <td>535377150</td>\n",
       "      <td>1524 DOUGLAS AVE, Ames, USA</td>\n",
       "    </tr>\n",
       "    <tr>\n",
       "      <th>4</th>\n",
       "      <td>534177230</td>\n",
       "      <td>2304 FILLMORE AVE, Ames, USA</td>\n",
       "    </tr>\n",
       "    <tr>\n",
       "      <th>...</th>\n",
       "      <td>...</td>\n",
       "      <td>...</td>\n",
       "    </tr>\n",
       "    <tr>\n",
       "      <th>2554</th>\n",
       "      <td>903205040</td>\n",
       "      <td>1021 RIDGEWOOD AVE, Ames, USA</td>\n",
       "    </tr>\n",
       "    <tr>\n",
       "      <th>2555</th>\n",
       "      <td>905402060</td>\n",
       "      <td>3619 MARY CIR, Ames, USA</td>\n",
       "    </tr>\n",
       "    <tr>\n",
       "      <th>2556</th>\n",
       "      <td>909275030</td>\n",
       "      <td>2140 SUNSET DR 2142, Ames, USA</td>\n",
       "    </tr>\n",
       "    <tr>\n",
       "      <th>2557</th>\n",
       "      <td>907192040</td>\n",
       "      <td>5319 CLEMENS BLVD, Ames, USA</td>\n",
       "    </tr>\n",
       "    <tr>\n",
       "      <th>2558</th>\n",
       "      <td>906223180</td>\n",
       "      <td>1025 VERMONT CT, Ames, USA</td>\n",
       "    </tr>\n",
       "  </tbody>\n",
       "</table>\n",
       "<p>2559 rows × 2 columns</p>\n",
       "</div>"
      ],
      "text/plain": [
       "            PID                       Prop_Addr\n",
       "0     909176150      436 HAYWARD AVE, Ames, USA\n",
       "1     905476230         3416 WEST ST, Ames, USA\n",
       "2     911128020         320 S 2ND ST, Ames, USA\n",
       "3     535377150     1524 DOUGLAS AVE, Ames, USA\n",
       "4     534177230    2304 FILLMORE AVE, Ames, USA\n",
       "...         ...                             ...\n",
       "2554  903205040   1021 RIDGEWOOD AVE, Ames, USA\n",
       "2555  905402060        3619 MARY CIR, Ames, USA\n",
       "2556  909275030  2140 SUNSET DR 2142, Ames, USA\n",
       "2557  907192040    5319 CLEMENS BLVD, Ames, USA\n",
       "2558  906223180      1025 VERMONT CT, Ames, USA\n",
       "\n",
       "[2559 rows x 2 columns]"
      ]
     },
     "execution_count": 15,
     "metadata": {},
     "output_type": "execute_result"
    },
    {
     "data": {
      "application/javascript": [
       "\n",
       "            setTimeout(function() {\n",
       "                var nbb_cell_id = 15;\n",
       "                var nbb_unformatted_code = \"locations\";\n",
       "                var nbb_formatted_code = \"locations\";\n",
       "                var nbb_cells = Jupyter.notebook.get_cells();\n",
       "                for (var i = 0; i < nbb_cells.length; ++i) {\n",
       "                    if (nbb_cells[i].input_prompt_number == nbb_cell_id) {\n",
       "                        if (nbb_cells[i].get_text() == nbb_unformatted_code) {\n",
       "                             nbb_cells[i].set_text(nbb_formatted_code);\n",
       "                        }\n",
       "                        break;\n",
       "                    }\n",
       "                }\n",
       "            }, 500);\n",
       "            "
      ],
      "text/plain": [
       "<IPython.core.display.Javascript object>"
      ]
     },
     "metadata": {},
     "output_type": "display_data"
    }
   ],
   "source": [
    "locations"
   ]
  },
  {
   "cell_type": "code",
   "execution_count": 16,
   "id": "4e8cd1dd",
   "metadata": {},
   "outputs": [
    {
     "data": {
      "application/javascript": [
       "\n",
       "            setTimeout(function() {\n",
       "                var nbb_cell_id = 16;\n",
       "                var nbb_unformatted_code = \"locations.to_csv('data/locations.csv', index=False)\";\n",
       "                var nbb_formatted_code = \"locations.to_csv(\\\"data/locations.csv\\\", index=False)\";\n",
       "                var nbb_cells = Jupyter.notebook.get_cells();\n",
       "                for (var i = 0; i < nbb_cells.length; ++i) {\n",
       "                    if (nbb_cells[i].input_prompt_number == nbb_cell_id) {\n",
       "                        if (nbb_cells[i].get_text() == nbb_unformatted_code) {\n",
       "                             nbb_cells[i].set_text(nbb_formatted_code);\n",
       "                        }\n",
       "                        break;\n",
       "                    }\n",
       "                }\n",
       "            }, 500);\n",
       "            "
      ],
      "text/plain": [
       "<IPython.core.display.Javascript object>"
      ]
     },
     "metadata": {},
     "output_type": "display_data"
    }
   ],
   "source": [
    "locations.to_csv(\"data/locations.csv\", index=False)"
   ]
  },
  {
   "cell_type": "code",
   "execution_count": 16,
   "id": "c7cf72ed",
   "metadata": {},
   "outputs": [
    {
     "data": {
      "application/javascript": [
       "\n",
       "            setTimeout(function() {\n",
       "                var nbb_cell_id = 16;\n",
       "                var nbb_unformatted_code = \"locations = pd.read_csv('data/locations.csv', index_col=0)\";\n",
       "                var nbb_formatted_code = \"locations = pd.read_csv(\\\"data/locations.csv\\\", index_col=0)\";\n",
       "                var nbb_cells = Jupyter.notebook.get_cells();\n",
       "                for (var i = 0; i < nbb_cells.length; ++i) {\n",
       "                    if (nbb_cells[i].input_prompt_number == nbb_cell_id) {\n",
       "                        if (nbb_cells[i].get_text() == nbb_unformatted_code) {\n",
       "                             nbb_cells[i].set_text(nbb_formatted_code);\n",
       "                        }\n",
       "                        break;\n",
       "                    }\n",
       "                }\n",
       "            }, 500);\n",
       "            "
      ],
      "text/plain": [
       "<IPython.core.display.Javascript object>"
      ]
     },
     "metadata": {},
     "output_type": "display_data"
    }
   ],
   "source": [
    "locations = pd.read_csv('data/locations.csv', index_col=0)"
   ]
  },
  {
   "cell_type": "code",
   "execution_count": 17,
   "id": "2769a276",
   "metadata": {},
   "outputs": [
    {
     "data": {
      "text/html": [
       "<div>\n",
       "<style scoped>\n",
       "    .dataframe tbody tr th:only-of-type {\n",
       "        vertical-align: middle;\n",
       "    }\n",
       "\n",
       "    .dataframe tbody tr th {\n",
       "        vertical-align: top;\n",
       "    }\n",
       "\n",
       "    .dataframe thead th {\n",
       "        text-align: right;\n",
       "    }\n",
       "</style>\n",
       "<table border=\"1\" class=\"dataframe\">\n",
       "  <thead>\n",
       "    <tr style=\"text-align: right;\">\n",
       "      <th></th>\n",
       "      <th>Prop_Addr</th>\n",
       "      <th>location</th>\n",
       "      <th>latitude</th>\n",
       "      <th>longitude</th>\n",
       "    </tr>\n",
       "    <tr>\n",
       "      <th>PID</th>\n",
       "      <th></th>\n",
       "      <th></th>\n",
       "      <th></th>\n",
       "      <th></th>\n",
       "    </tr>\n",
       "  </thead>\n",
       "  <tbody>\n",
       "    <tr>\n",
       "      <th>909176150</th>\n",
       "      <td>436 HAYWARD AVE, Ames, USA</td>\n",
       "      <td>436, Hayward Avenue, Union Drive, Ames, Story ...</td>\n",
       "      <td>42.018564</td>\n",
       "      <td>-93.651619</td>\n",
       "    </tr>\n",
       "    <tr>\n",
       "      <th>905476230</th>\n",
       "      <td>3416 WEST ST, Ames, USA</td>\n",
       "      <td>3416, West Street, Union Drive, Ames, Story Co...</td>\n",
       "      <td>42.024855</td>\n",
       "      <td>-93.663671</td>\n",
       "    </tr>\n",
       "    <tr>\n",
       "      <th>911128020</th>\n",
       "      <td>320 S 2ND ST, Ames, USA</td>\n",
       "      <td>320, South 2nd Street, Ames, Story County, Iow...</td>\n",
       "      <td>42.021548</td>\n",
       "      <td>-93.614068</td>\n",
       "    </tr>\n",
       "    <tr>\n",
       "      <th>535377150</th>\n",
       "      <td>1524 DOUGLAS AVE, Ames, USA</td>\n",
       "      <td>1524, Douglas Avenue, Edgewood Park, Ames, Sto...</td>\n",
       "      <td>42.037391</td>\n",
       "      <td>-93.612207</td>\n",
       "    </tr>\n",
       "    <tr>\n",
       "      <th>534177230</th>\n",
       "      <td>2304 FILLMORE AVE, Ames, USA</td>\n",
       "      <td>2304, Fillmore Avenue, Allenview, Ames, Story ...</td>\n",
       "      <td>42.044554</td>\n",
       "      <td>-93.631818</td>\n",
       "    </tr>\n",
       "    <tr>\n",
       "      <th>...</th>\n",
       "      <td>...</td>\n",
       "      <td>...</td>\n",
       "      <td>...</td>\n",
       "      <td>...</td>\n",
       "    </tr>\n",
       "    <tr>\n",
       "      <th>903205040</th>\n",
       "      <td>1021 RIDGEWOOD AVE, Ames, USA</td>\n",
       "      <td>1021, Ridgewood Avenue, Ridgewood, Ames, Story...</td>\n",
       "      <td>42.032102</td>\n",
       "      <td>-93.626373</td>\n",
       "    </tr>\n",
       "    <tr>\n",
       "      <th>905402060</th>\n",
       "      <td>3619 MARY CIR, Ames, USA</td>\n",
       "      <td>3619, Mary Circle, Ames, Story County, Iowa, 5...</td>\n",
       "      <td>42.027669</td>\n",
       "      <td>-93.666138</td>\n",
       "    </tr>\n",
       "    <tr>\n",
       "      <th>909275030</th>\n",
       "      <td>2140 SUNSET DR 2142, Ames, USA</td>\n",
       "      <td>2140, Sunset Drive, Greekland, Ames, Story Cou...</td>\n",
       "      <td>42.020129</td>\n",
       "      <td>-93.643832</td>\n",
       "    </tr>\n",
       "    <tr>\n",
       "      <th>907192040</th>\n",
       "      <td>5319 CLEMENS BLVD, Ames, USA</td>\n",
       "      <td>5319, Clemens Boulevard, Bentwood, Ames, Story...</td>\n",
       "      <td>42.016802</td>\n",
       "      <td>-93.689748</td>\n",
       "    </tr>\n",
       "    <tr>\n",
       "      <th>906223180</th>\n",
       "      <td>1025 VERMONT CT, Ames, USA</td>\n",
       "      <td>1025, Vermont Court, Valley East, Ontario, Ame...</td>\n",
       "      <td>42.030997</td>\n",
       "      <td>-93.682220</td>\n",
       "    </tr>\n",
       "  </tbody>\n",
       "</table>\n",
       "<p>2559 rows × 4 columns</p>\n",
       "</div>"
      ],
      "text/plain": [
       "                                Prop_Addr  \\\n",
       "PID                                         \n",
       "909176150      436 HAYWARD AVE, Ames, USA   \n",
       "905476230         3416 WEST ST, Ames, USA   \n",
       "911128020         320 S 2ND ST, Ames, USA   \n",
       "535377150     1524 DOUGLAS AVE, Ames, USA   \n",
       "534177230    2304 FILLMORE AVE, Ames, USA   \n",
       "...                                   ...   \n",
       "903205040   1021 RIDGEWOOD AVE, Ames, USA   \n",
       "905402060        3619 MARY CIR, Ames, USA   \n",
       "909275030  2140 SUNSET DR 2142, Ames, USA   \n",
       "907192040    5319 CLEMENS BLVD, Ames, USA   \n",
       "906223180      1025 VERMONT CT, Ames, USA   \n",
       "\n",
       "                                                    location   latitude  \\\n",
       "PID                                                                       \n",
       "909176150  436, Hayward Avenue, Union Drive, Ames, Story ...  42.018564   \n",
       "905476230  3416, West Street, Union Drive, Ames, Story Co...  42.024855   \n",
       "911128020  320, South 2nd Street, Ames, Story County, Iow...  42.021548   \n",
       "535377150  1524, Douglas Avenue, Edgewood Park, Ames, Sto...  42.037391   \n",
       "534177230  2304, Fillmore Avenue, Allenview, Ames, Story ...  42.044554   \n",
       "...                                                      ...        ...   \n",
       "903205040  1021, Ridgewood Avenue, Ridgewood, Ames, Story...  42.032102   \n",
       "905402060  3619, Mary Circle, Ames, Story County, Iowa, 5...  42.027669   \n",
       "909275030  2140, Sunset Drive, Greekland, Ames, Story Cou...  42.020129   \n",
       "907192040  5319, Clemens Boulevard, Bentwood, Ames, Story...  42.016802   \n",
       "906223180  1025, Vermont Court, Valley East, Ontario, Ame...  42.030997   \n",
       "\n",
       "           longitude  \n",
       "PID                   \n",
       "909176150 -93.651619  \n",
       "905476230 -93.663671  \n",
       "911128020 -93.614068  \n",
       "535377150 -93.612207  \n",
       "534177230 -93.631818  \n",
       "...              ...  \n",
       "903205040 -93.626373  \n",
       "905402060 -93.666138  \n",
       "909275030 -93.643832  \n",
       "907192040 -93.689748  \n",
       "906223180 -93.682220  \n",
       "\n",
       "[2559 rows x 4 columns]"
      ]
     },
     "execution_count": 17,
     "metadata": {},
     "output_type": "execute_result"
    },
    {
     "data": {
      "application/javascript": [
       "\n",
       "            setTimeout(function() {\n",
       "                var nbb_cell_id = 17;\n",
       "                var nbb_unformatted_code = \"locations\";\n",
       "                var nbb_formatted_code = \"locations\";\n",
       "                var nbb_cells = Jupyter.notebook.get_cells();\n",
       "                for (var i = 0; i < nbb_cells.length; ++i) {\n",
       "                    if (nbb_cells[i].input_prompt_number == nbb_cell_id) {\n",
       "                        if (nbb_cells[i].get_text() == nbb_unformatted_code) {\n",
       "                             nbb_cells[i].set_text(nbb_formatted_code);\n",
       "                        }\n",
       "                        break;\n",
       "                    }\n",
       "                }\n",
       "            }, 500);\n",
       "            "
      ],
      "text/plain": [
       "<IPython.core.display.Javascript object>"
      ]
     },
     "metadata": {},
     "output_type": "display_data"
    }
   ],
   "source": [
    "locations"
   ]
  },
  {
   "cell_type": "code",
   "execution_count": 57,
   "id": "57505a0a",
   "metadata": {},
   "outputs": [
    {
     "name": "stdout",
     "output_type": "stream",
     "text": [
      "<class 'pandas.core.frame.DataFrame'>\n",
      "Int64Index: 2604 entries, 0 to 2603\n",
      "Data columns (total 80 columns):\n",
      " #   Column         Non-Null Count  Dtype  \n",
      "---  ------         --------------  -----  \n",
      " 0   PID            2604 non-null   int64  \n",
      " 1   GrLivArea      2604 non-null   int64  \n",
      " 2   SalePrice      2604 non-null   int64  \n",
      " 3   MSSubClass     2604 non-null   int64  \n",
      " 4   MSZoning       2604 non-null   object \n",
      " 5   LotFrontage    2141 non-null   float64\n",
      " 6   LotArea        2604 non-null   int64  \n",
      " 7   Street         2604 non-null   object \n",
      " 8   LotShape       2604 non-null   object \n",
      " 9   LandContour    2604 non-null   object \n",
      " 10  Utilities      2604 non-null   object \n",
      " 11  LotConfig      2604 non-null   object \n",
      " 12  LandSlope      2604 non-null   object \n",
      " 13  Neighborhood   2604 non-null   object \n",
      " 14  Condition1     2604 non-null   object \n",
      " 15  Condition2     2604 non-null   object \n",
      " 16  BldgType       2604 non-null   object \n",
      " 17  HouseStyle     2604 non-null   object \n",
      " 18  OverallQual    2604 non-null   int64  \n",
      " 19  OverallCond    2604 non-null   int64  \n",
      " 20  YearBuilt      2604 non-null   int64  \n",
      " 21  YearRemodAdd   2604 non-null   int64  \n",
      " 22  RoofStyle      2604 non-null   object \n",
      " 23  RoofMatl       2604 non-null   object \n",
      " 24  Exterior1st    2604 non-null   object \n",
      " 25  Exterior2nd    2604 non-null   object \n",
      " 26  MasVnrType     2604 non-null   object \n",
      " 27  MasVnrArea     2590 non-null   float64\n",
      " 28  ExterQual      2604 non-null   object \n",
      " 29  ExterCond      2604 non-null   object \n",
      " 30  Foundation     2604 non-null   object \n",
      " 31  BsmtQual       2604 non-null   int64  \n",
      " 32  BsmtCond       2604 non-null   int64  \n",
      " 33  BsmtExposure   2604 non-null   int64  \n",
      " 34  BsmtFinType1   2604 non-null   int64  \n",
      " 35  BsmtFinSF1     2603 non-null   float64\n",
      " 36  BsmtFinType2   2604 non-null   int64  \n",
      " 37  BsmtFinSF2     2603 non-null   float64\n",
      " 38  BsmtUnfSF      2603 non-null   float64\n",
      " 39  TotalBsmtSF    2603 non-null   float64\n",
      " 40  Heating        2604 non-null   object \n",
      " 41  HeatingQC      2604 non-null   object \n",
      " 42  CentralAir     2604 non-null   object \n",
      " 43  Electrical     2603 non-null   object \n",
      " 44  1stFlrSF       2604 non-null   int64  \n",
      " 45  2ndFlrSF       2604 non-null   int64  \n",
      " 46  LowQualFinSF   2604 non-null   int64  \n",
      " 47  BsmtFullBath   2602 non-null   float64\n",
      " 48  BsmtHalfBath   2602 non-null   float64\n",
      " 49  FullBath       2604 non-null   int64  \n",
      " 50  HalfBath       2604 non-null   int64  \n",
      " 51  BedroomAbvGr   2604 non-null   int64  \n",
      " 52  KitchenAbvGr   2604 non-null   int64  \n",
      " 53  KitchenQual    2604 non-null   object \n",
      " 54  TotRmsAbvGrd   2604 non-null   int64  \n",
      " 55  Functional     2604 non-null   object \n",
      " 56  Fireplaces     2604 non-null   int64  \n",
      " 57  FireplaceQu    2604 non-null   int64  \n",
      " 58  GarageType     2604 non-null   object \n",
      " 59  GarageYrBlt    2474 non-null   float64\n",
      " 60  GarageFinish   2604 non-null   int64  \n",
      " 61  GarageCars     2603 non-null   float64\n",
      " 62  GarageArea     2603 non-null   float64\n",
      " 63  GarageQual     2604 non-null   int64  \n",
      " 64  GarageCond     2604 non-null   int64  \n",
      " 65  PavedDrive     2604 non-null   object \n",
      " 66  WoodDeckSF     2604 non-null   int64  \n",
      " 67  OpenPorchSF    2604 non-null   int64  \n",
      " 68  EnclosedPorch  2604 non-null   int64  \n",
      " 69  3SsnPorch      2604 non-null   int64  \n",
      " 70  ScreenPorch    2604 non-null   int64  \n",
      " 71  PoolArea       2604 non-null   int64  \n",
      " 72  Fence          2604 non-null   int64  \n",
      " 73  MiscVal        2604 non-null   int64  \n",
      " 74  MoSold         2604 non-null   int64  \n",
      " 75  YrSold         2604 non-null   int64  \n",
      " 76  SaleType       2604 non-null   object \n",
      " 77  SaleCondition  2604 non-null   object \n",
      " 78  GeoRefNo       2604 non-null   int64  \n",
      " 79  Prop_Addr      2604 non-null   object \n",
      "dtypes: float64(11), int64(38), object(31)\n",
      "memory usage: 1.6+ MB\n"
     ]
    },
    {
     "data": {
      "application/javascript": [
       "\n",
       "            setTimeout(function() {\n",
       "                var nbb_cell_id = 57;\n",
       "                var nbb_unformatted_code = \"\\nhousing.info()\";\n",
       "                var nbb_formatted_code = \"housing.info()\";\n",
       "                var nbb_cells = Jupyter.notebook.get_cells();\n",
       "                for (var i = 0; i < nbb_cells.length; ++i) {\n",
       "                    if (nbb_cells[i].input_prompt_number == nbb_cell_id) {\n",
       "                        if (nbb_cells[i].get_text() == nbb_unformatted_code) {\n",
       "                             nbb_cells[i].set_text(nbb_formatted_code);\n",
       "                        }\n",
       "                        break;\n",
       "                    }\n",
       "                }\n",
       "            }, 500);\n",
       "            "
      ],
      "text/plain": [
       "<IPython.core.display.Javascript object>"
      ]
     },
     "metadata": {},
     "output_type": "display_data"
    }
   ],
   "source": [
    "housing.info()"
   ]
  },
  {
   "cell_type": "code",
   "execution_count": 21,
   "id": "c67a59c2",
   "metadata": {},
   "outputs": [
    {
     "data": {
      "text/plain": [
       "Pave    2594\n",
       "Grvl      10\n",
       "Name: Street, dtype: int64"
      ]
     },
     "execution_count": 21,
     "metadata": {},
     "output_type": "execute_result"
    },
    {
     "data": {
      "application/javascript": [
       "\n",
       "            setTimeout(function() {\n",
       "                var nbb_cell_id = 21;\n",
       "                var nbb_unformatted_code = \"housing['Street'].value_counts()\";\n",
       "                var nbb_formatted_code = \"housing[\\\"Street\\\"].value_counts()\";\n",
       "                var nbb_cells = Jupyter.notebook.get_cells();\n",
       "                for (var i = 0; i < nbb_cells.length; ++i) {\n",
       "                    if (nbb_cells[i].input_prompt_number == nbb_cell_id) {\n",
       "                        if (nbb_cells[i].get_text() == nbb_unformatted_code) {\n",
       "                             nbb_cells[i].set_text(nbb_formatted_code);\n",
       "                        }\n",
       "                        break;\n",
       "                    }\n",
       "                }\n",
       "            }, 500);\n",
       "            "
      ],
      "text/plain": [
       "<IPython.core.display.Javascript object>"
      ]
     },
     "metadata": {},
     "output_type": "display_data"
    }
   ],
   "source": [
    "housing[\"Street\"].value_counts()"
   ]
  },
  {
   "cell_type": "code",
   "execution_count": null,
   "id": "2d94ff1b",
   "metadata": {},
   "outputs": [],
   "source": []
  },
  {
   "cell_type": "code",
   "execution_count": 23,
   "id": "d31e0064",
   "metadata": {},
   "outputs": [
    {
     "data": {
      "text/html": [
       "<div>\n",
       "<style scoped>\n",
       "    .dataframe tbody tr th:only-of-type {\n",
       "        vertical-align: middle;\n",
       "    }\n",
       "\n",
       "    .dataframe tbody tr th {\n",
       "        vertical-align: top;\n",
       "    }\n",
       "\n",
       "    .dataframe thead th {\n",
       "        text-align: right;\n",
       "    }\n",
       "</style>\n",
       "<table border=\"1\" class=\"dataframe\">\n",
       "  <thead>\n",
       "    <tr style=\"text-align: right;\">\n",
       "      <th></th>\n",
       "      <th>PID</th>\n",
       "      <th>GrLivArea</th>\n",
       "      <th>SalePrice</th>\n",
       "      <th>MSSubClass</th>\n",
       "      <th>LotFrontage</th>\n",
       "      <th>LotArea</th>\n",
       "      <th>OverallQual</th>\n",
       "      <th>OverallCond</th>\n",
       "      <th>YearBuilt</th>\n",
       "      <th>YearRemodAdd</th>\n",
       "      <th>...</th>\n",
       "      <th>WoodDeckSF</th>\n",
       "      <th>OpenPorchSF</th>\n",
       "      <th>EnclosedPorch</th>\n",
       "      <th>3SsnPorch</th>\n",
       "      <th>ScreenPorch</th>\n",
       "      <th>PoolArea</th>\n",
       "      <th>MiscVal</th>\n",
       "      <th>MoSold</th>\n",
       "      <th>YrSold</th>\n",
       "      <th>GeoRefNo</th>\n",
       "    </tr>\n",
       "  </thead>\n",
       "  <tbody>\n",
       "    <tr>\n",
       "      <th>count</th>\n",
       "      <td>2.604000e+03</td>\n",
       "      <td>2604.000000</td>\n",
       "      <td>2604.000000</td>\n",
       "      <td>2604.000000</td>\n",
       "      <td>2141.000000</td>\n",
       "      <td>2604.000000</td>\n",
       "      <td>2604.000000</td>\n",
       "      <td>2604.00000</td>\n",
       "      <td>2604.000000</td>\n",
       "      <td>2604.000000</td>\n",
       "      <td>...</td>\n",
       "      <td>2604.000000</td>\n",
       "      <td>2604.000000</td>\n",
       "      <td>2604.000000</td>\n",
       "      <td>2604.000000</td>\n",
       "      <td>2604.000000</td>\n",
       "      <td>2604.000000</td>\n",
       "      <td>2604.000000</td>\n",
       "      <td>2604.000000</td>\n",
       "      <td>2604.000000</td>\n",
       "      <td>2.604000e+03</td>\n",
       "    </tr>\n",
       "    <tr>\n",
       "      <th>mean</th>\n",
       "      <td>7.140050e+08</td>\n",
       "      <td>1483.296851</td>\n",
       "      <td>178044.983487</td>\n",
       "      <td>57.932028</td>\n",
       "      <td>68.326483</td>\n",
       "      <td>10075.113671</td>\n",
       "      <td>6.044931</td>\n",
       "      <td>5.61828</td>\n",
       "      <td>1970.488479</td>\n",
       "      <td>1983.778418</td>\n",
       "      <td>...</td>\n",
       "      <td>96.222734</td>\n",
       "      <td>45.689708</td>\n",
       "      <td>22.858679</td>\n",
       "      <td>2.488095</td>\n",
       "      <td>16.469278</td>\n",
       "      <td>1.646697</td>\n",
       "      <td>48.435868</td>\n",
       "      <td>6.143241</td>\n",
       "      <td>2007.837942</td>\n",
       "      <td>7.140050e+08</td>\n",
       "    </tr>\n",
       "    <tr>\n",
       "      <th>std</th>\n",
       "      <td>1.886463e+08</td>\n",
       "      <td>488.681334</td>\n",
       "      <td>75613.734968</td>\n",
       "      <td>43.166044</td>\n",
       "      <td>22.851029</td>\n",
       "      <td>8090.893688</td>\n",
       "      <td>1.364967</td>\n",
       "      <td>1.11680</td>\n",
       "      <td>29.580578</td>\n",
       "      <td>20.452593</td>\n",
       "      <td>...</td>\n",
       "      <td>129.061706</td>\n",
       "      <td>64.688762</td>\n",
       "      <td>63.739487</td>\n",
       "      <td>25.178202</td>\n",
       "      <td>56.993811</td>\n",
       "      <td>30.199624</td>\n",
       "      <td>496.489365</td>\n",
       "      <td>2.666332</td>\n",
       "      <td>1.315356</td>\n",
       "      <td>1.886463e+08</td>\n",
       "    </tr>\n",
       "    <tr>\n",
       "      <th>min</th>\n",
       "      <td>5.263011e+08</td>\n",
       "      <td>334.000000</td>\n",
       "      <td>12789.000000</td>\n",
       "      <td>20.000000</td>\n",
       "      <td>21.000000</td>\n",
       "      <td>1300.000000</td>\n",
       "      <td>1.000000</td>\n",
       "      <td>1.00000</td>\n",
       "      <td>1872.000000</td>\n",
       "      <td>1950.000000</td>\n",
       "      <td>...</td>\n",
       "      <td>0.000000</td>\n",
       "      <td>0.000000</td>\n",
       "      <td>0.000000</td>\n",
       "      <td>0.000000</td>\n",
       "      <td>0.000000</td>\n",
       "      <td>0.000000</td>\n",
       "      <td>0.000000</td>\n",
       "      <td>1.000000</td>\n",
       "      <td>2006.000000</td>\n",
       "      <td>5.263011e+08</td>\n",
       "    </tr>\n",
       "    <tr>\n",
       "      <th>25%</th>\n",
       "      <td>5.284901e+08</td>\n",
       "      <td>1106.500000</td>\n",
       "      <td>129975.000000</td>\n",
       "      <td>20.000000</td>\n",
       "      <td>57.000000</td>\n",
       "      <td>7374.250000</td>\n",
       "      <td>5.000000</td>\n",
       "      <td>5.00000</td>\n",
       "      <td>1954.000000</td>\n",
       "      <td>1965.000000</td>\n",
       "      <td>...</td>\n",
       "      <td>0.000000</td>\n",
       "      <td>0.000000</td>\n",
       "      <td>0.000000</td>\n",
       "      <td>0.000000</td>\n",
       "      <td>0.000000</td>\n",
       "      <td>0.000000</td>\n",
       "      <td>0.000000</td>\n",
       "      <td>4.000000</td>\n",
       "      <td>2007.000000</td>\n",
       "      <td>5.284901e+08</td>\n",
       "    </tr>\n",
       "    <tr>\n",
       "      <th>50%</th>\n",
       "      <td>5.354540e+08</td>\n",
       "      <td>1432.000000</td>\n",
       "      <td>159500.000000</td>\n",
       "      <td>50.000000</td>\n",
       "      <td>68.000000</td>\n",
       "      <td>9360.000000</td>\n",
       "      <td>6.000000</td>\n",
       "      <td>5.00000</td>\n",
       "      <td>1972.000000</td>\n",
       "      <td>1992.000000</td>\n",
       "      <td>...</td>\n",
       "      <td>0.000000</td>\n",
       "      <td>25.000000</td>\n",
       "      <td>0.000000</td>\n",
       "      <td>0.000000</td>\n",
       "      <td>0.000000</td>\n",
       "      <td>0.000000</td>\n",
       "      <td>0.000000</td>\n",
       "      <td>6.000000</td>\n",
       "      <td>2008.000000</td>\n",
       "      <td>5.354540e+08</td>\n",
       "    </tr>\n",
       "    <tr>\n",
       "      <th>75%</th>\n",
       "      <td>9.071800e+08</td>\n",
       "      <td>1730.500000</td>\n",
       "      <td>208925.000000</td>\n",
       "      <td>70.000000</td>\n",
       "      <td>80.000000</td>\n",
       "      <td>11461.500000</td>\n",
       "      <td>7.000000</td>\n",
       "      <td>6.00000</td>\n",
       "      <td>1999.000000</td>\n",
       "      <td>2003.000000</td>\n",
       "      <td>...</td>\n",
       "      <td>168.250000</td>\n",
       "      <td>68.000000</td>\n",
       "      <td>0.000000</td>\n",
       "      <td>0.000000</td>\n",
       "      <td>0.000000</td>\n",
       "      <td>0.000000</td>\n",
       "      <td>0.000000</td>\n",
       "      <td>8.000000</td>\n",
       "      <td>2009.000000</td>\n",
       "      <td>9.071800e+08</td>\n",
       "    </tr>\n",
       "    <tr>\n",
       "      <th>max</th>\n",
       "      <td>1.007100e+09</td>\n",
       "      <td>4676.000000</td>\n",
       "      <td>755000.000000</td>\n",
       "      <td>190.000000</td>\n",
       "      <td>313.000000</td>\n",
       "      <td>215245.000000</td>\n",
       "      <td>10.000000</td>\n",
       "      <td>9.00000</td>\n",
       "      <td>2010.000000</td>\n",
       "      <td>2010.000000</td>\n",
       "      <td>...</td>\n",
       "      <td>1424.000000</td>\n",
       "      <td>742.000000</td>\n",
       "      <td>1012.000000</td>\n",
       "      <td>508.000000</td>\n",
       "      <td>576.000000</td>\n",
       "      <td>800.000000</td>\n",
       "      <td>15500.000000</td>\n",
       "      <td>12.000000</td>\n",
       "      <td>2010.000000</td>\n",
       "      <td>1.007100e+09</td>\n",
       "    </tr>\n",
       "  </tbody>\n",
       "</table>\n",
       "<p>8 rows × 39 columns</p>\n",
       "</div>"
      ],
      "text/plain": [
       "                PID    GrLivArea      SalePrice   MSSubClass  LotFrontage  \\\n",
       "count  2.604000e+03  2604.000000    2604.000000  2604.000000  2141.000000   \n",
       "mean   7.140050e+08  1483.296851  178044.983487    57.932028    68.326483   \n",
       "std    1.886463e+08   488.681334   75613.734968    43.166044    22.851029   \n",
       "min    5.263011e+08   334.000000   12789.000000    20.000000    21.000000   \n",
       "25%    5.284901e+08  1106.500000  129975.000000    20.000000    57.000000   \n",
       "50%    5.354540e+08  1432.000000  159500.000000    50.000000    68.000000   \n",
       "75%    9.071800e+08  1730.500000  208925.000000    70.000000    80.000000   \n",
       "max    1.007100e+09  4676.000000  755000.000000   190.000000   313.000000   \n",
       "\n",
       "             LotArea  OverallQual  OverallCond    YearBuilt  YearRemodAdd  \\\n",
       "count    2604.000000  2604.000000   2604.00000  2604.000000   2604.000000   \n",
       "mean    10075.113671     6.044931      5.61828  1970.488479   1983.778418   \n",
       "std      8090.893688     1.364967      1.11680    29.580578     20.452593   \n",
       "min      1300.000000     1.000000      1.00000  1872.000000   1950.000000   \n",
       "25%      7374.250000     5.000000      5.00000  1954.000000   1965.000000   \n",
       "50%      9360.000000     6.000000      5.00000  1972.000000   1992.000000   \n",
       "75%     11461.500000     7.000000      6.00000  1999.000000   2003.000000   \n",
       "max    215245.000000    10.000000      9.00000  2010.000000   2010.000000   \n",
       "\n",
       "       ...   WoodDeckSF  OpenPorchSF  EnclosedPorch    3SsnPorch  ScreenPorch  \\\n",
       "count  ...  2604.000000  2604.000000    2604.000000  2604.000000  2604.000000   \n",
       "mean   ...    96.222734    45.689708      22.858679     2.488095    16.469278   \n",
       "std    ...   129.061706    64.688762      63.739487    25.178202    56.993811   \n",
       "min    ...     0.000000     0.000000       0.000000     0.000000     0.000000   \n",
       "25%    ...     0.000000     0.000000       0.000000     0.000000     0.000000   \n",
       "50%    ...     0.000000    25.000000       0.000000     0.000000     0.000000   \n",
       "75%    ...   168.250000    68.000000       0.000000     0.000000     0.000000   \n",
       "max    ...  1424.000000   742.000000    1012.000000   508.000000   576.000000   \n",
       "\n",
       "          PoolArea       MiscVal       MoSold       YrSold      GeoRefNo  \n",
       "count  2604.000000   2604.000000  2604.000000  2604.000000  2.604000e+03  \n",
       "mean      1.646697     48.435868     6.143241  2007.837942  7.140050e+08  \n",
       "std      30.199624    496.489365     2.666332     1.315356  1.886463e+08  \n",
       "min       0.000000      0.000000     1.000000  2006.000000  5.263011e+08  \n",
       "25%       0.000000      0.000000     4.000000  2007.000000  5.284901e+08  \n",
       "50%       0.000000      0.000000     6.000000  2008.000000  5.354540e+08  \n",
       "75%       0.000000      0.000000     8.000000  2009.000000  9.071800e+08  \n",
       "max     800.000000  15500.000000    12.000000  2010.000000  1.007100e+09  \n",
       "\n",
       "[8 rows x 39 columns]"
      ]
     },
     "execution_count": 23,
     "metadata": {},
     "output_type": "execute_result"
    },
    {
     "data": {
      "application/javascript": [
       "\n",
       "            setTimeout(function() {\n",
       "                var nbb_cell_id = 23;\n",
       "                var nbb_unformatted_code = \"housing.describe()\";\n",
       "                var nbb_formatted_code = \"housing.describe()\";\n",
       "                var nbb_cells = Jupyter.notebook.get_cells();\n",
       "                for (var i = 0; i < nbb_cells.length; ++i) {\n",
       "                    if (nbb_cells[i].input_prompt_number == nbb_cell_id) {\n",
       "                        if (nbb_cells[i].get_text() == nbb_unformatted_code) {\n",
       "                             nbb_cells[i].set_text(nbb_formatted_code);\n",
       "                        }\n",
       "                        break;\n",
       "                    }\n",
       "                }\n",
       "            }, 500);\n",
       "            "
      ],
      "text/plain": [
       "<IPython.core.display.Javascript object>"
      ]
     },
     "metadata": {},
     "output_type": "display_data"
    }
   ],
   "source": [
    "housing.describe()"
   ]
  },
  {
   "cell_type": "code",
   "execution_count": 25,
   "id": "f1f656eb",
   "metadata": {},
   "outputs": [
    {
     "name": "stdout",
     "output_type": "stream",
     "text": [
      "LotFrontage      463\n",
      "Alley           2434\n",
      "MasVnrType        14\n",
      "MasVnrArea        14\n",
      "BsmtQual          65\n",
      "BsmtCond          65\n",
      "BsmtExposure      67\n",
      "BsmtFinType1      65\n",
      "BsmtFinSF1         1\n",
      "BsmtFinType2      66\n",
      "BsmtFinSF2         1\n",
      "BsmtUnfSF          1\n",
      "TotalBsmtSF        1\n",
      "Electrical         1\n",
      "BsmtFullBath       2\n",
      "BsmtHalfBath       2\n",
      "FireplaceQu     1262\n",
      "GarageType       128\n",
      "GarageYrBlt      130\n",
      "GarageFinish     130\n",
      "GarageCars         1\n",
      "GarageArea         1\n",
      "GarageQual       130\n",
      "GarageCond       130\n",
      "PoolQC          2595\n",
      "Fence           2075\n",
      "MiscFeature     2506\n",
      "dtype: int64\n"
     ]
    },
    {
     "data": {
      "application/javascript": [
       "\n",
       "            setTimeout(function() {\n",
       "                var nbb_cell_id = 25;\n",
       "                var nbb_unformatted_code = \"missing_values = housing.isna().sum()\\nnon_zero_missing_values = missing_values[missing_values != 0]\\nprint(non_zero_missing_values)\";\n",
       "                var nbb_formatted_code = \"missing_values = housing.isna().sum()\\nnon_zero_missing_values = missing_values[missing_values != 0]\\nprint(non_zero_missing_values)\";\n",
       "                var nbb_cells = Jupyter.notebook.get_cells();\n",
       "                for (var i = 0; i < nbb_cells.length; ++i) {\n",
       "                    if (nbb_cells[i].input_prompt_number == nbb_cell_id) {\n",
       "                        if (nbb_cells[i].get_text() == nbb_unformatted_code) {\n",
       "                             nbb_cells[i].set_text(nbb_formatted_code);\n",
       "                        }\n",
       "                        break;\n",
       "                    }\n",
       "                }\n",
       "            }, 500);\n",
       "            "
      ],
      "text/plain": [
       "<IPython.core.display.Javascript object>"
      ]
     },
     "metadata": {},
     "output_type": "display_data"
    }
   ],
   "source": [
    "# Looking at the columns with NA's\n",
    "missing_values = housing.isna().sum()\n",
    "non_zero_missing_values = missing_values[missing_values != 0]\n",
    "print(non_zero_missing_values)"
   ]
  },
  {
   "cell_type": "code",
   "execution_count": 27,
   "id": "25d6ed18",
   "metadata": {},
   "outputs": [
    {
     "data": {
      "text/plain": [
       "Grvl    107\n",
       "Pave     63\n",
       "Name: Alley, dtype: int64"
      ]
     },
     "execution_count": 27,
     "metadata": {},
     "output_type": "execute_result"
    },
    {
     "data": {
      "application/javascript": [
       "\n",
       "            setTimeout(function() {\n",
       "                var nbb_cell_id = 27;\n",
       "                var nbb_unformatted_code = \"housing[\\\"Alley\\\"].value_counts()\";\n",
       "                var nbb_formatted_code = \"housing[\\\"Alley\\\"].value_counts()\";\n",
       "                var nbb_cells = Jupyter.notebook.get_cells();\n",
       "                for (var i = 0; i < nbb_cells.length; ++i) {\n",
       "                    if (nbb_cells[i].input_prompt_number == nbb_cell_id) {\n",
       "                        if (nbb_cells[i].get_text() == nbb_unformatted_code) {\n",
       "                             nbb_cells[i].set_text(nbb_formatted_code);\n",
       "                        }\n",
       "                        break;\n",
       "                    }\n",
       "                }\n",
       "            }, 500);\n",
       "            "
      ],
      "text/plain": [
       "<IPython.core.display.Javascript object>"
      ]
     },
     "metadata": {},
     "output_type": "display_data"
    }
   ],
   "source": [
    "housing[\"Alley\"].value_counts()"
   ]
  },
  {
   "cell_type": "code",
   "execution_count": 28,
   "id": "0272029e",
   "metadata": {},
   "outputs": [
    {
     "data": {
      "text/plain": [
       "MnPrv    304\n",
       "GdPrv    111\n",
       "GdWo     104\n",
       "MnWw      10\n",
       "Name: Fence, dtype: int64"
      ]
     },
     "execution_count": 28,
     "metadata": {},
     "output_type": "execute_result"
    },
    {
     "data": {
      "application/javascript": [
       "\n",
       "            setTimeout(function() {\n",
       "                var nbb_cell_id = 28;\n",
       "                var nbb_unformatted_code = \"housing[\\\"Fence\\\"].value_counts()\";\n",
       "                var nbb_formatted_code = \"housing[\\\"Fence\\\"].value_counts()\";\n",
       "                var nbb_cells = Jupyter.notebook.get_cells();\n",
       "                for (var i = 0; i < nbb_cells.length; ++i) {\n",
       "                    if (nbb_cells[i].input_prompt_number == nbb_cell_id) {\n",
       "                        if (nbb_cells[i].get_text() == nbb_unformatted_code) {\n",
       "                             nbb_cells[i].set_text(nbb_formatted_code);\n",
       "                        }\n",
       "                        break;\n",
       "                    }\n",
       "                }\n",
       "            }, 500);\n",
       "            "
      ],
      "text/plain": [
       "<IPython.core.display.Javascript object>"
      ]
     },
     "metadata": {},
     "output_type": "display_data"
    }
   ],
   "source": [
    "housing[\"Fence\"].value_counts()"
   ]
  },
  {
   "cell_type": "code",
   "execution_count": 30,
   "id": "9993e1b6",
   "metadata": {},
   "outputs": [
    {
     "name": "stdout",
     "output_type": "stream",
     "text": [
      "              missing_value_count  percent_of_dataset\n",
      "PoolQC                       2595               99.65\n",
      "MiscFeature                  2506               96.24\n",
      "Alley                        2434               93.47\n",
      "Fence                        2075               79.69\n",
      "FireplaceQu                  1262               48.46\n",
      "LotFrontage                   463               17.78\n",
      "GarageCond                    130                4.99\n",
      "GarageQual                    130                4.99\n",
      "GarageFinish                  130                4.99\n",
      "GarageYrBlt                   130                4.99\n",
      "GarageType                    128                4.92\n",
      "BsmtExposure                   67                2.57\n",
      "BsmtFinType2                   66                2.53\n",
      "BsmtFinType1                   65                2.50\n",
      "BsmtQual                       65                2.50\n",
      "BsmtCond                       65                2.50\n",
      "MasVnrArea                     14                0.54\n",
      "MasVnrType                     14                0.54\n",
      "BsmtHalfBath                    2                0.08\n",
      "BsmtFullBath                    2                0.08\n",
      "TotalBsmtSF                     1                0.04\n",
      "BsmtUnfSF                       1                0.04\n",
      "GarageCars                      1                0.04\n",
      "GarageArea                      1                0.04\n",
      "BsmtFinSF2                      1                0.04\n",
      "BsmtFinSF1                      1                0.04\n",
      "Electrical                      1                0.04\n"
     ]
    },
    {
     "data": {
      "application/javascript": [
       "\n",
       "            setTimeout(function() {\n",
       "                var nbb_cell_id = 30;\n",
       "                var nbb_unformatted_code = \"null_stats = (\\n    housing.isnull()\\n    .sum()\\n    .pipe(lambda x: pd.DataFrame({'missing_value_count': x}))\\n    .assign(percent_of_dataset=lambda x: np.round(x['missing_value_count'] / housing.shape[0] * 100, 2))\\n    .query('missing_value_count > 0')\\n    .sort_values(by='missing_value_count', ascending=False)\\n)\\nprint(null_stats)\";\n",
       "                var nbb_formatted_code = \"null_stats = (\\n    housing.isnull()\\n    .sum()\\n    .pipe(lambda x: pd.DataFrame({\\\"missing_value_count\\\": x}))\\n    .assign(\\n        percent_of_dataset=lambda x: np.round(\\n            x[\\\"missing_value_count\\\"] / housing.shape[0] * 100, 2\\n        )\\n    )\\n    .query(\\\"missing_value_count > 0\\\")\\n    .sort_values(by=\\\"missing_value_count\\\", ascending=False)\\n)\\nprint(null_stats)\";\n",
       "                var nbb_cells = Jupyter.notebook.get_cells();\n",
       "                for (var i = 0; i < nbb_cells.length; ++i) {\n",
       "                    if (nbb_cells[i].input_prompt_number == nbb_cell_id) {\n",
       "                        if (nbb_cells[i].get_text() == nbb_unformatted_code) {\n",
       "                             nbb_cells[i].set_text(nbb_formatted_code);\n",
       "                        }\n",
       "                        break;\n",
       "                    }\n",
       "                }\n",
       "            }, 500);\n",
       "            "
      ],
      "text/plain": [
       "<IPython.core.display.Javascript object>"
      ]
     },
     "metadata": {},
     "output_type": "display_data"
    }
   ],
   "source": [
    "# Taking a look at the NA's.\n",
    "null_stats = (\n",
    "    housing.isnull()\n",
    "    .sum()\n",
    "    .pipe(lambda x: pd.DataFrame({\"missing_value_count\": x}))\n",
    "    .assign(\n",
    "        percent_of_dataset=lambda x: np.round(\n",
    "            x[\"missing_value_count\"] / housing.shape[0] * 100, 2\n",
    "        )\n",
    "    )\n",
    "    .query(\"missing_value_count > 0\")\n",
    "    .sort_values(by=\"missing_value_count\", ascending=False)\n",
    ")\n",
    "print(null_stats)"
   ]
  },
  {
   "cell_type": "code",
   "execution_count": 32,
   "id": "781f37fb",
   "metadata": {},
   "outputs": [
    {
     "data": {
      "application/javascript": [
       "\n",
       "            setTimeout(function() {\n",
       "                var nbb_cell_id = 32;\n",
       "                var nbb_unformatted_code = \"housing.drop(columns=[\\\"Alley\\\", \\\"PoolQC\\\", \\\"MiscFeature\\\"], inplace=True)\";\n",
       "                var nbb_formatted_code = \"housing.drop(columns=[\\\"Alley\\\", \\\"PoolQC\\\", \\\"MiscFeature\\\"], inplace=True)\";\n",
       "                var nbb_cells = Jupyter.notebook.get_cells();\n",
       "                for (var i = 0; i < nbb_cells.length; ++i) {\n",
       "                    if (nbb_cells[i].input_prompt_number == nbb_cell_id) {\n",
       "                        if (nbb_cells[i].get_text() == nbb_unformatted_code) {\n",
       "                             nbb_cells[i].set_text(nbb_formatted_code);\n",
       "                        }\n",
       "                        break;\n",
       "                    }\n",
       "                }\n",
       "            }, 500);\n",
       "            "
      ],
      "text/plain": [
       "<IPython.core.display.Javascript object>"
      ]
     },
     "metadata": {},
     "output_type": "display_data"
    }
   ],
   "source": [
    "# Dropping the columns that contain data for less than 10 percent of the observations \n",
    "housing.drop(columns=[\"Alley\", \"PoolQC\", \"MiscFeature\"], inplace=True)"
   ]
  },
  {
   "cell_type": "code",
   "execution_count": 34,
   "id": "72ca5c34",
   "metadata": {},
   "outputs": [
    {
     "data": {
      "application/javascript": [
       "\n",
       "            setTimeout(function() {\n",
       "                var nbb_cell_id = 34;\n",
       "                var nbb_unformatted_code = \"def fill_and_replace(col, fill_na_value, map_dict, verbose=True, dataset=housing):\\n    result = dataset.loc[:, col]\\n\\n    if fill_na_value is not None:\\n        result = result.fillna(fill_na_value)\\n\\n    result = result.replace(map_dict)\\n\\n    if verbose:\\n        print(\\\"Original value counts for {}:\\\".format(col))\\n        print(dataset.loc[:, col].value_counts(dropna=False))\\n        if fill_na_value is not None:\\n            print(\\\"Filled missing values with \\\\`{}\\\\`\\\".format(fill_na_value))\\n        else:\\n            print(\\\"No fill_na_value specified, skipped fillna\\\")\\n        print(\\\"After mapping for {}:\\\".format(col))\\n        print(result.value_counts(dropna=False))\\n        print(\\\"Finished fill-and-replace for column '{}'\\\".format(col))\\n\\n    return result\";\n",
       "                var nbb_formatted_code = \"def fill_and_replace(col, fill_na_value, map_dict, verbose=True, dataset=housing):\\n    result = dataset.loc[:, col]\\n\\n    if fill_na_value is not None:\\n        result = result.fillna(fill_na_value)\\n\\n    result = result.replace(map_dict)\\n\\n    if verbose:\\n        print(\\\"Original value counts for {}:\\\".format(col))\\n        print(dataset.loc[:, col].value_counts(dropna=False))\\n        if fill_na_value is not None:\\n            print(\\\"Filled missing values with \\\\`{}\\\\`\\\".format(fill_na_value))\\n        else:\\n            print(\\\"No fill_na_value specified, skipped fillna\\\")\\n        print(\\\"After mapping for {}:\\\".format(col))\\n        print(result.value_counts(dropna=False))\\n        print(\\\"Finished fill-and-replace for column '{}'\\\".format(col))\\n\\n    return result\";\n",
       "                var nbb_cells = Jupyter.notebook.get_cells();\n",
       "                for (var i = 0; i < nbb_cells.length; ++i) {\n",
       "                    if (nbb_cells[i].input_prompt_number == nbb_cell_id) {\n",
       "                        if (nbb_cells[i].get_text() == nbb_unformatted_code) {\n",
       "                             nbb_cells[i].set_text(nbb_formatted_code);\n",
       "                        }\n",
       "                        break;\n",
       "                    }\n",
       "                }\n",
       "            }, 500);\n",
       "            "
      ],
      "text/plain": [
       "<IPython.core.display.Javascript object>"
      ]
     },
     "metadata": {},
     "output_type": "display_data"
    }
   ],
   "source": [
    "#function to fill missing values\n",
    "def fill_and_replace(col, fill_na_value, map_dict, verbose=True, dataset=housing):\n",
    "    result = dataset.loc[:, col]\n",
    "\n",
    "    if fill_na_value is not None:\n",
    "        result = result.fillna(fill_na_value)\n",
    "\n",
    "    result = result.replace(map_dict)\n",
    "\n",
    "    if verbose:\n",
    "        print(\"Original value counts for {}:\".format(col))\n",
    "        print(dataset.loc[:, col].value_counts(dropna=False))\n",
    "        if fill_na_value is not None:\n",
    "            print(\"Filled missing values with \\`{}\\`\".format(fill_na_value))\n",
    "        else:\n",
    "            print(\"No fill_na_value specified, skipped fillna\")\n",
    "        print(\"After mapping for {}:\".format(col))\n",
    "        print(result.value_counts(dropna=False))\n",
    "        print(\"Finished fill-and-replace for column '{}'\".format(col))\n",
    "\n",
    "    return result"
   ]
  },
  {
   "cell_type": "code",
   "execution_count": 41,
   "id": "49ac661f",
   "metadata": {},
   "outputs": [
    {
     "data": {
      "application/javascript": [
       "\n",
       "            setTimeout(function() {\n",
       "                var nbb_cell_id = 41;\n",
       "                var nbb_unformatted_code = \"housing.loc[:, \\\"Fence\\\"] = fill_and_replace(\\n    \\\"Fence\\\", \\\"NA\\\", {\\\"NA\\\": 0, \\\"MnWw\\\": 1, \\\"GdWo\\\": 2, \\\"MnPrv\\\": 3, \\\"GdPrv\\\": 4}, False\\n)\\n\\nhousing.loc[:,'FireplaceQu'] = fill_and_replace('FireplaceQu', 'NA', {'NA':0,'Po':1,'Fa':2,'TA':3,'Gd':4,'Ex':5}, False)\\nhousing.loc[:,'GarageCond'] = fill_and_replace('GarageCond', 'NA', {'NA':0,'Po':1,'Fa':2,'TA':3,'Gd':4,'Ex':5}, False)\\nhousing.loc[:,'GarageQual'] = fill_and_replace('GarageQual', 'NA', {'NA':0,'Po':1,'Fa':2,'TA':3,'Gd':4,'Ex':5}, False)\\nhousing.loc[:,'GarageFinish'] = fill_and_replace('GarageFinish', 'NA', {'NA':0,'Unf':1,'RFn':2,'Fin':3}, False)\\nhousing.loc[:,'BsmtExposure'] = fill_and_replace('BsmtExposure', 'NA', {'NA':0,'No':1,'Mn':2,'Av':3,'Gd':4}, False)\\nhousing.loc[:,'BsmtFinType1'] = fill_and_replace('BsmtFinType1', 'NA', {'NA':0,'Unf':1,'LwQ':2,'Rec':3,'BLQ':4,'ALQ':5,'GLQ':6}, False)\\nhousing.loc[:,'BsmtFinType2'] = fill_and_replace('BsmtFinType2', 'NA', {'NA':0,'Unf':1,'LwQ':2,'Rec':3,'BLQ':4,'ALQ':5,'GLQ':6}, False)\\nhousing.loc[:,'BsmtCond'] = fill_and_replace('BsmtCond', 'NA', {'NA':0,'Po':1,'Fa':2,'TA':3,'Gd':4,'Ex':5}, False)\\nhousing.loc[:,'BsmtQual'] = fill_and_replace('BsmtQual', 'NA', {'NA':0,'Po':1,'Fa':2,'TA':3,'Gd':4,'Ex':5}, False)\";\n",
       "                var nbb_formatted_code = \"housing.loc[:, \\\"Fence\\\"] = fill_and_replace(\\n    \\\"Fence\\\", \\\"NA\\\", {\\\"NA\\\": 0, \\\"MnWw\\\": 1, \\\"GdWo\\\": 2, \\\"MnPrv\\\": 3, \\\"GdPrv\\\": 4}, False\\n)\\n\\nhousing.loc[:, \\\"FireplaceQu\\\"] = fill_and_replace(\\n    \\\"FireplaceQu\\\", \\\"NA\\\", {\\\"NA\\\": 0, \\\"Po\\\": 1, \\\"Fa\\\": 2, \\\"TA\\\": 3, \\\"Gd\\\": 4, \\\"Ex\\\": 5}, False\\n)\\nhousing.loc[:, \\\"GarageCond\\\"] = fill_and_replace(\\n    \\\"GarageCond\\\", \\\"NA\\\", {\\\"NA\\\": 0, \\\"Po\\\": 1, \\\"Fa\\\": 2, \\\"TA\\\": 3, \\\"Gd\\\": 4, \\\"Ex\\\": 5}, False\\n)\\nhousing.loc[:, \\\"GarageQual\\\"] = fill_and_replace(\\n    \\\"GarageQual\\\", \\\"NA\\\", {\\\"NA\\\": 0, \\\"Po\\\": 1, \\\"Fa\\\": 2, \\\"TA\\\": 3, \\\"Gd\\\": 4, \\\"Ex\\\": 5}, False\\n)\\nhousing.loc[:, \\\"GarageFinish\\\"] = fill_and_replace(\\n    \\\"GarageFinish\\\", \\\"NA\\\", {\\\"NA\\\": 0, \\\"Unf\\\": 1, \\\"RFn\\\": 2, \\\"Fin\\\": 3}, False\\n)\\nhousing.loc[:, \\\"BsmtExposure\\\"] = fill_and_replace(\\n    \\\"BsmtExposure\\\", \\\"NA\\\", {\\\"NA\\\": 0, \\\"No\\\": 1, \\\"Mn\\\": 2, \\\"Av\\\": 3, \\\"Gd\\\": 4}, False\\n)\\nhousing.loc[:, \\\"BsmtFinType1\\\"] = fill_and_replace(\\n    \\\"BsmtFinType1\\\",\\n    \\\"NA\\\",\\n    {\\\"NA\\\": 0, \\\"Unf\\\": 1, \\\"LwQ\\\": 2, \\\"Rec\\\": 3, \\\"BLQ\\\": 4, \\\"ALQ\\\": 5, \\\"GLQ\\\": 6},\\n    False,\\n)\\nhousing.loc[:, \\\"BsmtFinType2\\\"] = fill_and_replace(\\n    \\\"BsmtFinType2\\\",\\n    \\\"NA\\\",\\n    {\\\"NA\\\": 0, \\\"Unf\\\": 1, \\\"LwQ\\\": 2, \\\"Rec\\\": 3, \\\"BLQ\\\": 4, \\\"ALQ\\\": 5, \\\"GLQ\\\": 6},\\n    False,\\n)\\nhousing.loc[:, \\\"BsmtCond\\\"] = fill_and_replace(\\n    \\\"BsmtCond\\\", \\\"NA\\\", {\\\"NA\\\": 0, \\\"Po\\\": 1, \\\"Fa\\\": 2, \\\"TA\\\": 3, \\\"Gd\\\": 4, \\\"Ex\\\": 5}, False\\n)\\nhousing.loc[:, \\\"BsmtQual\\\"] = fill_and_replace(\\n    \\\"BsmtQual\\\", \\\"NA\\\", {\\\"NA\\\": 0, \\\"Po\\\": 1, \\\"Fa\\\": 2, \\\"TA\\\": 3, \\\"Gd\\\": 4, \\\"Ex\\\": 5}, False\\n)\";\n",
       "                var nbb_cells = Jupyter.notebook.get_cells();\n",
       "                for (var i = 0; i < nbb_cells.length; ++i) {\n",
       "                    if (nbb_cells[i].input_prompt_number == nbb_cell_id) {\n",
       "                        if (nbb_cells[i].get_text() == nbb_unformatted_code) {\n",
       "                             nbb_cells[i].set_text(nbb_formatted_code);\n",
       "                        }\n",
       "                        break;\n",
       "                    }\n",
       "                }\n",
       "            }, 500);\n",
       "            "
      ],
      "text/plain": [
       "<IPython.core.display.Javascript object>"
      ]
     },
     "metadata": {},
     "output_type": "display_data"
    }
   ],
   "source": [
    "# applying the function to ordinal rows\n",
    "\n",
    "housing.loc[:, \"Fence\"] = fill_and_replace(\n",
    "    \"Fence\", \"NA\", {\"NA\": 0, \"MnWw\": 1, \"GdWo\": 2, \"MnPrv\": 3, \"GdPrv\": 4}, False\n",
    ")\n",
    "\n",
    "housing.loc[:, \"FireplaceQu\"] = fill_and_replace(\n",
    "    \"FireplaceQu\", \"NA\", {\"NA\": 0, \"Po\": 1, \"Fa\": 2, \"TA\": 3, \"Gd\": 4, \"Ex\": 5}, False\n",
    ")\n",
    "housing.loc[:, \"GarageCond\"] = fill_and_replace(\n",
    "    \"GarageCond\", \"NA\", {\"NA\": 0, \"Po\": 1, \"Fa\": 2, \"TA\": 3, \"Gd\": 4, \"Ex\": 5}, False\n",
    ")\n",
    "housing.loc[:, \"GarageQual\"] = fill_and_replace(\n",
    "    \"GarageQual\", \"NA\", {\"NA\": 0, \"Po\": 1, \"Fa\": 2, \"TA\": 3, \"Gd\": 4, \"Ex\": 5}, False\n",
    ")\n",
    "housing.loc[:, \"GarageFinish\"] = fill_and_replace(\n",
    "    \"GarageFinish\", \"NA\", {\"NA\": 0, \"Unf\": 1, \"RFn\": 2, \"Fin\": 3}, False\n",
    ")\n",
    "housing.loc[:, \"BsmtExposure\"] = fill_and_replace(\n",
    "    \"BsmtExposure\", \"NA\", {\"NA\": 0, \"No\": 1, \"Mn\": 2, \"Av\": 3, \"Gd\": 4}, False\n",
    ")\n",
    "housing.loc[:, \"BsmtFinType1\"] = fill_and_replace(\n",
    "    \"BsmtFinType1\",\n",
    "    \"NA\",\n",
    "    {\"NA\": 0, \"Unf\": 1, \"LwQ\": 2, \"Rec\": 3, \"BLQ\": 4, \"ALQ\": 5, \"GLQ\": 6},\n",
    "    False,\n",
    ")\n",
    "housing.loc[:, \"BsmtFinType2\"] = fill_and_replace(\n",
    "    \"BsmtFinType2\",\n",
    "    \"NA\",\n",
    "    {\"NA\": 0, \"Unf\": 1, \"LwQ\": 2, \"Rec\": 3, \"BLQ\": 4, \"ALQ\": 5, \"GLQ\": 6},\n",
    "    False,\n",
    ")\n",
    "housing.loc[:, \"BsmtCond\"] = fill_and_replace(\n",
    "    \"BsmtCond\", \"NA\", {\"NA\": 0, \"Po\": 1, \"Fa\": 2, \"TA\": 3, \"Gd\": 4, \"Ex\": 5}, False\n",
    ")\n",
    "housing.loc[:, \"BsmtQual\"] = fill_and_replace(\n",
    "    \"BsmtQual\", \"NA\", {\"NA\": 0, \"Po\": 1, \"Fa\": 2, \"TA\": 3, \"Gd\": 4, \"Ex\": 5}, False\n",
    ")"
   ]
  },
  {
   "cell_type": "code",
   "execution_count": 37,
   "id": "641e728a",
   "metadata": {},
   "outputs": [
    {
     "data": {
      "text/plain": [
       "0    2075\n",
       "3     304\n",
       "4     111\n",
       "2     104\n",
       "1      10\n",
       "Name: Fence, dtype: int64"
      ]
     },
     "execution_count": 37,
     "metadata": {},
     "output_type": "execute_result"
    },
    {
     "data": {
      "application/javascript": [
       "\n",
       "            setTimeout(function() {\n",
       "                var nbb_cell_id = 37;\n",
       "                var nbb_unformatted_code = \"housing[\\\"Fence\\\"].value_counts()\";\n",
       "                var nbb_formatted_code = \"housing[\\\"Fence\\\"].value_counts()\";\n",
       "                var nbb_cells = Jupyter.notebook.get_cells();\n",
       "                for (var i = 0; i < nbb_cells.length; ++i) {\n",
       "                    if (nbb_cells[i].input_prompt_number == nbb_cell_id) {\n",
       "                        if (nbb_cells[i].get_text() == nbb_unformatted_code) {\n",
       "                             nbb_cells[i].set_text(nbb_formatted_code);\n",
       "                        }\n",
       "                        break;\n",
       "                    }\n",
       "                }\n",
       "            }, 500);\n",
       "            "
      ],
      "text/plain": [
       "<IPython.core.display.Javascript object>"
      ]
     },
     "metadata": {},
     "output_type": "display_data"
    }
   ],
   "source": [
    "housing[\"Fence\"].value_counts()"
   ]
  },
  {
   "cell_type": "code",
   "execution_count": 42,
   "id": "9823cc87",
   "metadata": {},
   "outputs": [
    {
     "data": {
      "text/plain": [
       "0    1262\n",
       "4     622\n",
       "3     571\n",
       "2      70\n",
       "1      44\n",
       "5      35\n",
       "Name: FireplaceQu, dtype: int64"
      ]
     },
     "execution_count": 42,
     "metadata": {},
     "output_type": "execute_result"
    },
    {
     "data": {
      "application/javascript": [
       "\n",
       "            setTimeout(function() {\n",
       "                var nbb_cell_id = 42;\n",
       "                var nbb_unformatted_code = \"housing[\\\"FireplaceQu\\\"].value_counts()\";\n",
       "                var nbb_formatted_code = \"housing[\\\"FireplaceQu\\\"].value_counts()\";\n",
       "                var nbb_cells = Jupyter.notebook.get_cells();\n",
       "                for (var i = 0; i < nbb_cells.length; ++i) {\n",
       "                    if (nbb_cells[i].input_prompt_number == nbb_cell_id) {\n",
       "                        if (nbb_cells[i].get_text() == nbb_unformatted_code) {\n",
       "                             nbb_cells[i].set_text(nbb_formatted_code);\n",
       "                        }\n",
       "                        break;\n",
       "                    }\n",
       "                }\n",
       "            }, 500);\n",
       "            "
      ],
      "text/plain": [
       "<IPython.core.display.Javascript object>"
      ]
     },
     "metadata": {},
     "output_type": "display_data"
    }
   ],
   "source": [
    "housing[\"FireplaceQu\"].value_counts()"
   ]
  },
  {
   "cell_type": "code",
   "execution_count": 46,
   "id": "dbd8b635",
   "metadata": {},
   "outputs": [
    {
     "data": {
      "text/plain": [
       "Attchd     1545\n",
       "Detchd      722\n",
       "BuiltIn     154\n",
       "Basment      26\n",
       "2Types       21\n",
       "CarPort       8\n",
       "Name: GarageType, dtype: int64"
      ]
     },
     "execution_count": 46,
     "metadata": {},
     "output_type": "execute_result"
    },
    {
     "data": {
      "application/javascript": [
       "\n",
       "            setTimeout(function() {\n",
       "                var nbb_cell_id = 46;\n",
       "                var nbb_unformatted_code = \"housing[\\\"GarageType\\\"].value_counts()\";\n",
       "                var nbb_formatted_code = \"housing[\\\"GarageType\\\"].value_counts()\";\n",
       "                var nbb_cells = Jupyter.notebook.get_cells();\n",
       "                for (var i = 0; i < nbb_cells.length; ++i) {\n",
       "                    if (nbb_cells[i].input_prompt_number == nbb_cell_id) {\n",
       "                        if (nbb_cells[i].get_text() == nbb_unformatted_code) {\n",
       "                             nbb_cells[i].set_text(nbb_formatted_code);\n",
       "                        }\n",
       "                        break;\n",
       "                    }\n",
       "                }\n",
       "            }, 500);\n",
       "            "
      ],
      "text/plain": [
       "<IPython.core.display.Javascript object>"
      ]
     },
     "metadata": {},
     "output_type": "display_data"
    }
   ],
   "source": [
    "housing[\"GarageType\"].value_counts()"
   ]
  },
  {
   "cell_type": "code",
   "execution_count": 44,
   "id": "0f0aa4cb",
   "metadata": {},
   "outputs": [
    {
     "name": "stdout",
     "output_type": "stream",
     "text": [
      "              missing_value_count  percent_of_dataset\n",
      "LotFrontage                   463               17.78\n",
      "GarageYrBlt                   130                4.99\n",
      "GarageType                    128                4.92\n",
      "MasVnrType                     14                0.54\n",
      "MasVnrArea                     14                0.54\n",
      "BsmtFullBath                    2                0.08\n",
      "BsmtHalfBath                    2                0.08\n",
      "BsmtFinSF1                      1                0.04\n",
      "BsmtFinSF2                      1                0.04\n",
      "BsmtUnfSF                       1                0.04\n",
      "TotalBsmtSF                     1                0.04\n",
      "Electrical                      1                0.04\n",
      "GarageCars                      1                0.04\n",
      "GarageArea                      1                0.04\n"
     ]
    },
    {
     "data": {
      "application/javascript": [
       "\n",
       "            setTimeout(function() {\n",
       "                var nbb_cell_id = 44;\n",
       "                var nbb_unformatted_code = \"# Taking a look at the NA's.\\nnull_stats = (\\n    housing.isnull()\\n    .sum()\\n    .pipe(lambda x: pd.DataFrame({\\\"missing_value_count\\\": x}))\\n    .assign(\\n        percent_of_dataset=lambda x: np.round(\\n            x[\\\"missing_value_count\\\"] / housing.shape[0] * 100, 2\\n        )\\n    )\\n    .query(\\\"missing_value_count > 0\\\")\\n    .sort_values(by=\\\"missing_value_count\\\", ascending=False)\\n)\\nprint(null_stats)\";\n",
       "                var nbb_formatted_code = \"# Taking a look at the NA's.\\nnull_stats = (\\n    housing.isnull()\\n    .sum()\\n    .pipe(lambda x: pd.DataFrame({\\\"missing_value_count\\\": x}))\\n    .assign(\\n        percent_of_dataset=lambda x: np.round(\\n            x[\\\"missing_value_count\\\"] / housing.shape[0] * 100, 2\\n        )\\n    )\\n    .query(\\\"missing_value_count > 0\\\")\\n    .sort_values(by=\\\"missing_value_count\\\", ascending=False)\\n)\\nprint(null_stats)\";\n",
       "                var nbb_cells = Jupyter.notebook.get_cells();\n",
       "                for (var i = 0; i < nbb_cells.length; ++i) {\n",
       "                    if (nbb_cells[i].input_prompt_number == nbb_cell_id) {\n",
       "                        if (nbb_cells[i].get_text() == nbb_unformatted_code) {\n",
       "                             nbb_cells[i].set_text(nbb_formatted_code);\n",
       "                        }\n",
       "                        break;\n",
       "                    }\n",
       "                }\n",
       "            }, 500);\n",
       "            "
      ],
      "text/plain": [
       "<IPython.core.display.Javascript object>"
      ]
     },
     "metadata": {},
     "output_type": "display_data"
    }
   ],
   "source": [
    "# Looking at the NA's again\n",
    "null_stats = (\n",
    "    housing.isnull()\n",
    "    .sum()\n",
    "    .pipe(lambda x: pd.DataFrame({\"missing_value_count\": x}))\n",
    "    .assign(\n",
    "        percent_of_dataset=lambda x: np.round(\n",
    "            x[\"missing_value_count\"] / housing.shape[0] * 100, 2\n",
    "        )\n",
    "    )\n",
    "    .query(\"missing_value_count > 0\")\n",
    "    .sort_values(by=\"missing_value_count\", ascending=False)\n",
    ")\n",
    "print(null_stats)"
   ]
  },
  {
   "cell_type": "code",
   "execution_count": 47,
   "id": "716a667f",
   "metadata": {},
   "outputs": [
    {
     "data": {
      "text/plain": [
       "Attchd     1545\n",
       "Detchd      722\n",
       "BuiltIn     154\n",
       "Basment      26\n",
       "2Types       21\n",
       "CarPort       8\n",
       "Name: GarageType, dtype: int64"
      ]
     },
     "execution_count": 47,
     "metadata": {},
     "output_type": "execute_result"
    },
    {
     "data": {
      "application/javascript": [
       "\n",
       "            setTimeout(function() {\n",
       "                var nbb_cell_id = 47;\n",
       "                var nbb_unformatted_code = \"housing[\\\"GarageType\\\"].value_counts()\";\n",
       "                var nbb_formatted_code = \"housing[\\\"GarageType\\\"].value_counts()\";\n",
       "                var nbb_cells = Jupyter.notebook.get_cells();\n",
       "                for (var i = 0; i < nbb_cells.length; ++i) {\n",
       "                    if (nbb_cells[i].input_prompt_number == nbb_cell_id) {\n",
       "                        if (nbb_cells[i].get_text() == nbb_unformatted_code) {\n",
       "                             nbb_cells[i].set_text(nbb_formatted_code);\n",
       "                        }\n",
       "                        break;\n",
       "                    }\n",
       "                }\n",
       "            }, 500);\n",
       "            "
      ],
      "text/plain": [
       "<IPython.core.display.Javascript object>"
      ]
     },
     "metadata": {},
     "output_type": "display_data"
    }
   ],
   "source": [
    "housing[\"GarageType\"].value_counts()"
   ]
  },
  {
   "cell_type": "code",
   "execution_count": 50,
   "id": "3ac2b12e",
   "metadata": {},
   "outputs": [
    {
     "name": "stdout",
     "output_type": "stream",
     "text": [
      "0.0    128\n",
      "Name: GarageArea, dtype: int64\n"
     ]
    },
    {
     "data": {
      "application/javascript": [
       "\n",
       "            setTimeout(function() {\n",
       "                var nbb_cell_id = 50;\n",
       "                var nbb_unformatted_code = \"print(\\n    housing.loc[housing.loc[:, \\\"GarageType\\\"].isnull(), \\\"GarageArea\\\"].value_counts(\\n        dropna=False\\n    )\\n)\";\n",
       "                var nbb_formatted_code = \"print(\\n    housing.loc[housing.loc[:, \\\"GarageType\\\"].isnull(), \\\"GarageArea\\\"].value_counts(\\n        dropna=False\\n    )\\n)\";\n",
       "                var nbb_cells = Jupyter.notebook.get_cells();\n",
       "                for (var i = 0; i < nbb_cells.length; ++i) {\n",
       "                    if (nbb_cells[i].input_prompt_number == nbb_cell_id) {\n",
       "                        if (nbb_cells[i].get_text() == nbb_unformatted_code) {\n",
       "                             nbb_cells[i].set_text(nbb_formatted_code);\n",
       "                        }\n",
       "                        break;\n",
       "                    }\n",
       "                }\n",
       "            }, 500);\n",
       "            "
      ],
      "text/plain": [
       "<IPython.core.display.Javascript object>"
      ]
     },
     "metadata": {},
     "output_type": "display_data"
    }
   ],
   "source": [
    "print(\n",
    "    housing.loc[housing.loc[:, \"GarageType\"].isnull(), \"GarageArea\"].value_counts(\n",
    "        dropna=False\n",
    "    )\n",
    ")"
   ]
  },
  {
   "cell_type": "code",
   "execution_count": 51,
   "id": "4f5f63b3",
   "metadata": {},
   "outputs": [
    {
     "name": "stdout",
     "output_type": "stream",
     "text": [
      "Attchd     1545\n",
      "Detchd      722\n",
      "BuiltIn     154\n",
      "NA          128\n",
      "Basment      26\n",
      "2Types       21\n",
      "CarPort       8\n",
      "Name: GarageType, dtype: int64\n"
     ]
    },
    {
     "data": {
      "application/javascript": [
       "\n",
       "            setTimeout(function() {\n",
       "                var nbb_cell_id = 51;\n",
       "                var nbb_unformatted_code = \"# It looks like the Garage type with missing values also have a sqft of zero\\n# so i will add NA to the garage type with missing values\\nhousing.loc[:,'GarageType'] = housing.loc[:,'GarageType'].fillna('NA')\\nprint(housing.loc[:,'GarageType'].value_counts(dropna=False))\";\n",
       "                var nbb_formatted_code = \"# It looks like the Garage type with missing values also have a sqft of zero\\n# so i will add NA to the garage type with missing values\\nhousing.loc[:, \\\"GarageType\\\"] = housing.loc[:, \\\"GarageType\\\"].fillna(\\\"NA\\\")\\nprint(housing.loc[:, \\\"GarageType\\\"].value_counts(dropna=False))\";\n",
       "                var nbb_cells = Jupyter.notebook.get_cells();\n",
       "                for (var i = 0; i < nbb_cells.length; ++i) {\n",
       "                    if (nbb_cells[i].input_prompt_number == nbb_cell_id) {\n",
       "                        if (nbb_cells[i].get_text() == nbb_unformatted_code) {\n",
       "                             nbb_cells[i].set_text(nbb_formatted_code);\n",
       "                        }\n",
       "                        break;\n",
       "                    }\n",
       "                }\n",
       "            }, 500);\n",
       "            "
      ],
      "text/plain": [
       "<IPython.core.display.Javascript object>"
      ]
     },
     "metadata": {},
     "output_type": "display_data"
    }
   ],
   "source": [
    "# It looks like the Garage type with missing values also have a sqft of zero\n",
    "# so i will add NA to the garage type with missing values\n",
    "housing.loc[:, \"GarageType\"] = housing.loc[:, \"GarageType\"].fillna(\"NA\")\n",
    "print(housing.loc[:, \"GarageType\"].value_counts(dropna=False))"
   ]
  },
  {
   "cell_type": "code",
   "execution_count": 53,
   "id": "c6f215ed",
   "metadata": {},
   "outputs": [
    {
     "name": "stdout",
     "output_type": "stream",
     "text": [
      "None       1572\n",
      "BrkFace     812\n",
      "Stone       186\n",
      "BrkCmn       20\n",
      "NaN          14\n",
      "Name: MasVnrType, dtype: int64\n",
      "NaN    14\n",
      "Name: MasVnrArea, dtype: int64\n"
     ]
    },
    {
     "data": {
      "application/javascript": [
       "\n",
       "            setTimeout(function() {\n",
       "                var nbb_cell_id = 53;\n",
       "                var nbb_unformatted_code = \"print(housing.loc[:, \\\"MasVnrType\\\"].value_counts(dropna=False))\\nprint(\\n    housing.loc[housing.loc[:, \\\"MasVnrType\\\"].isnull(), \\\"MasVnrArea\\\"].value_counts(\\n        dropna=False\\n    )\\n)\";\n",
       "                var nbb_formatted_code = \"print(housing.loc[:, \\\"MasVnrType\\\"].value_counts(dropna=False))\\nprint(\\n    housing.loc[housing.loc[:, \\\"MasVnrType\\\"].isnull(), \\\"MasVnrArea\\\"].value_counts(\\n        dropna=False\\n    )\\n)\";\n",
       "                var nbb_cells = Jupyter.notebook.get_cells();\n",
       "                for (var i = 0; i < nbb_cells.length; ++i) {\n",
       "                    if (nbb_cells[i].input_prompt_number == nbb_cell_id) {\n",
       "                        if (nbb_cells[i].get_text() == nbb_unformatted_code) {\n",
       "                             nbb_cells[i].set_text(nbb_formatted_code);\n",
       "                        }\n",
       "                        break;\n",
       "                    }\n",
       "                }\n",
       "            }, 500);\n",
       "            "
      ],
      "text/plain": [
       "<IPython.core.display.Javascript object>"
      ]
     },
     "metadata": {},
     "output_type": "display_data"
    }
   ],
   "source": [
    "# Looking at MasVnrType missing values compared to the area as we did with the Garage above\n",
    "print(housing.loc[:, \"MasVnrType\"].value_counts(dropna=False))\n",
    "print(\n",
    "    housing.loc[housing.loc[:, \"MasVnrType\"].isnull(), \"MasVnrArea\"].value_counts(\n",
    "        dropna=False\n",
    "    )\n",
    ")"
   ]
  },
  {
   "cell_type": "code",
   "execution_count": 55,
   "id": "3a0bf6c8",
   "metadata": {},
   "outputs": [
    {
     "name": "stdout",
     "output_type": "stream",
     "text": [
      "None       1586\n",
      "BrkFace     812\n",
      "Stone       186\n",
      "BrkCmn       20\n",
      "Name: MasVnrType, dtype: int64\n"
     ]
    },
    {
     "data": {
      "application/javascript": [
       "\n",
       "            setTimeout(function() {\n",
       "                var nbb_cell_id = 55;\n",
       "                var nbb_unformatted_code = \"# Filling the Na values to None for MasVnrType\\nhousing.loc[:, \\\"MasVnrType\\\"] = housing.loc[:, \\\"MasVnrType\\\"].fillna(\\\"None\\\")\\nprint(housing.loc[:, \\\"MasVnrType\\\"].value_counts(dropna=False))\";\n",
       "                var nbb_formatted_code = \"# Filling the Na values to None for MasVnrType\\nhousing.loc[:, \\\"MasVnrType\\\"] = housing.loc[:, \\\"MasVnrType\\\"].fillna(\\\"None\\\")\\nprint(housing.loc[:, \\\"MasVnrType\\\"].value_counts(dropna=False))\";\n",
       "                var nbb_cells = Jupyter.notebook.get_cells();\n",
       "                for (var i = 0; i < nbb_cells.length; ++i) {\n",
       "                    if (nbb_cells[i].input_prompt_number == nbb_cell_id) {\n",
       "                        if (nbb_cells[i].get_text() == nbb_unformatted_code) {\n",
       "                             nbb_cells[i].set_text(nbb_formatted_code);\n",
       "                        }\n",
       "                        break;\n",
       "                    }\n",
       "                }\n",
       "            }, 500);\n",
       "            "
      ],
      "text/plain": [
       "<IPython.core.display.Javascript object>"
      ]
     },
     "metadata": {},
     "output_type": "display_data"
    }
   ],
   "source": [
    "# Filling the Na values to None for MasVnrType\n",
    "housing.loc[:, \"MasVnrType\"] = housing.loc[:, \"MasVnrType\"].fillna(\"None\")\n",
    "print(housing.loc[:, \"MasVnrType\"].value_counts(dropna=False))"
   ]
  },
  {
   "cell_type": "code",
   "execution_count": 56,
   "id": "33b51e1f",
   "metadata": {},
   "outputs": [
    {
     "name": "stdout",
     "output_type": "stream",
     "text": [
      "0.0      1567\n",
      "NaN        14\n",
      "120.0      13\n",
      "200.0      11\n",
      "216.0      11\n",
      "         ... \n",
      "371.0       1\n",
      "235.0       1\n",
      "426.0       1\n",
      "328.0       1\n",
      "293.0       1\n",
      "Name: MasVnrArea, Length: 415, dtype: int64\n"
     ]
    },
    {
     "data": {
      "application/javascript": [
       "\n",
       "            setTimeout(function() {\n",
       "                var nbb_cell_id = 56;\n",
       "                var nbb_unformatted_code = \"print(housing.loc[:,'MasVnrArea'].value_counts(dropna=False))\";\n",
       "                var nbb_formatted_code = \"print(housing.loc[:, \\\"MasVnrArea\\\"].value_counts(dropna=False))\";\n",
       "                var nbb_cells = Jupyter.notebook.get_cells();\n",
       "                for (var i = 0; i < nbb_cells.length; ++i) {\n",
       "                    if (nbb_cells[i].input_prompt_number == nbb_cell_id) {\n",
       "                        if (nbb_cells[i].get_text() == nbb_unformatted_code) {\n",
       "                             nbb_cells[i].set_text(nbb_formatted_code);\n",
       "                        }\n",
       "                        break;\n",
       "                    }\n",
       "                }\n",
       "            }, 500);\n",
       "            "
      ],
      "text/plain": [
       "<IPython.core.display.Javascript object>"
      ]
     },
     "metadata": {},
     "output_type": "display_data"
    }
   ],
   "source": [
    "print(housing.loc[:, \"MasVnrArea\"].value_counts(dropna=False))"
   ]
  },
  {
   "cell_type": "code",
   "execution_count": 60,
   "id": "26ee5741",
   "metadata": {},
   "outputs": [
    {
     "data": {
      "application/javascript": [
       "\n",
       "            setTimeout(function() {\n",
       "                var nbb_cell_id = 60;\n",
       "                var nbb_unformatted_code = \"# Replacing the 14 NA's with 0.0\\nhousing.loc[:, \\\"MasVnrArea\\\"] = housing.loc[:, \\\"MasVnrArea\\\"].fillna(0.0)\";\n",
       "                var nbb_formatted_code = \"# Replacing the 14 NA's with 0.0\\nhousing.loc[:, \\\"MasVnrArea\\\"] = housing.loc[:, \\\"MasVnrArea\\\"].fillna(0.0)\";\n",
       "                var nbb_cells = Jupyter.notebook.get_cells();\n",
       "                for (var i = 0; i < nbb_cells.length; ++i) {\n",
       "                    if (nbb_cells[i].input_prompt_number == nbb_cell_id) {\n",
       "                        if (nbb_cells[i].get_text() == nbb_unformatted_code) {\n",
       "                             nbb_cells[i].set_text(nbb_formatted_code);\n",
       "                        }\n",
       "                        break;\n",
       "                    }\n",
       "                }\n",
       "            }, 500);\n",
       "            "
      ],
      "text/plain": [
       "<IPython.core.display.Javascript object>"
      ]
     },
     "metadata": {},
     "output_type": "display_data"
    }
   ],
   "source": [
    "# Replacing the 14 NA's with 0.0\n",
    "housing.loc[:, \"MasVnrArea\"] = housing.loc[:, \"MasVnrArea\"].fillna(0.0)"
   ]
  },
  {
   "cell_type": "code",
   "execution_count": null,
   "id": "ff521295",
   "metadata": {},
   "outputs": [],
   "source": []
  },
  {
   "cell_type": "code",
   "execution_count": null,
   "id": "d74e5e49",
   "metadata": {},
   "outputs": [],
   "source": []
  },
  {
   "cell_type": "code",
   "execution_count": null,
   "id": "13685af5",
   "metadata": {},
   "outputs": [],
   "source": []
  },
  {
   "cell_type": "code",
   "execution_count": null,
   "id": "c3326302",
   "metadata": {},
   "outputs": [],
   "source": []
  },
  {
   "cell_type": "code",
   "execution_count": null,
   "id": "aeb439d0",
   "metadata": {},
   "outputs": [],
   "source": []
  }
 ],
 "metadata": {
  "kernelspec": {
   "display_name": "Python 3 (ipykernel)",
   "language": "python",
   "name": "python3"
  },
  "language_info": {
   "codemirror_mode": {
    "name": "ipython",
    "version": 3
   },
   "file_extension": ".py",
   "mimetype": "text/x-python",
   "name": "python",
   "nbconvert_exporter": "python",
   "pygments_lexer": "ipython3",
   "version": "3.9.12"
  }
 },
 "nbformat": 4,
 "nbformat_minor": 5
}
