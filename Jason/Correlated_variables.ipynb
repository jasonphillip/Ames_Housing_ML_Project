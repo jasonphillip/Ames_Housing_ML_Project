{
 "cells": [
  {
   "cell_type": "code",
   "execution_count": 3,
   "id": "0aab9173",
   "metadata": {},
   "outputs": [
    {
     "name": "stdout",
     "output_type": "stream",
     "text": [
      "The nb_black extension is already loaded. To reload it, use:\n",
      "  %reload_ext nb_black\n"
     ]
    },
    {
     "data": {
      "application/javascript": [
       "\n",
       "            setTimeout(function() {\n",
       "                var nbb_cell_id = 3;\n",
       "                var nbb_unformatted_code = \"import matplotlib.pyplot as plt\\nimport seaborn as sns\\nimport numpy as np\\nimport pandas as pd\\n\\n# the below extension properly formats a cell after it is run\\n%load_ext nb_black\\n\\n# Set the maximum number of rows to 200\\npd.set_option(\\\"display.max_rows\\\", 200)\\n\\n\\n# Set the maximum number of columns to 200\";\n",
       "                var nbb_formatted_code = \"import matplotlib.pyplot as plt\\nimport seaborn as sns\\nimport numpy as np\\nimport pandas as pd\\n\\n# the below extension properly formats a cell after it is run\\n%load_ext nb_black\\n\\n# Set the maximum number of rows to 200\\npd.set_option(\\\"display.max_rows\\\", 200)\\n\\n\\n# Set the maximum number of columns to 200\";\n",
       "                var nbb_cells = Jupyter.notebook.get_cells();\n",
       "                for (var i = 0; i < nbb_cells.length; ++i) {\n",
       "                    if (nbb_cells[i].input_prompt_number == nbb_cell_id) {\n",
       "                        if (nbb_cells[i].get_text() == nbb_unformatted_code) {\n",
       "                             nbb_cells[i].set_text(nbb_formatted_code);\n",
       "                        }\n",
       "                        break;\n",
       "                    }\n",
       "                }\n",
       "            }, 500);\n",
       "            "
      ],
      "text/plain": [
       "<IPython.core.display.Javascript object>"
      ]
     },
     "metadata": {},
     "output_type": "display_data"
    }
   ],
   "source": [
    "import matplotlib.pyplot as plt\n",
    "import seaborn as sns\n",
    "import numpy as np\n",
    "import pandas as pd\n",
    "\n",
    "# the below extension properly formats a cell after it is run\n",
    "%load_ext nb_black\n",
    "\n",
    "# Set the maximum number of rows to 200\n",
    "pd.set_option(\"display.max_rows\", 200)\n",
    "\n",
    "\n",
    "# Set the maximum number of columns to 200"
   ]
  },
  {
   "cell_type": "code",
   "execution_count": 4,
   "id": "26e48060",
   "metadata": {},
   "outputs": [
    {
     "data": {
      "application/javascript": [
       "\n",
       "            setTimeout(function() {\n",
       "                var nbb_cell_id = 4;\n",
       "                var nbb_unformatted_code = \"housing = pd.read_csv(\\\"data/housing_cleaned.csv\\\")\";\n",
       "                var nbb_formatted_code = \"housing = pd.read_csv(\\\"data/housing_cleaned.csv\\\")\";\n",
       "                var nbb_cells = Jupyter.notebook.get_cells();\n",
       "                for (var i = 0; i < nbb_cells.length; ++i) {\n",
       "                    if (nbb_cells[i].input_prompt_number == nbb_cell_id) {\n",
       "                        if (nbb_cells[i].get_text() == nbb_unformatted_code) {\n",
       "                             nbb_cells[i].set_text(nbb_formatted_code);\n",
       "                        }\n",
       "                        break;\n",
       "                    }\n",
       "                }\n",
       "            }, 500);\n",
       "            "
      ],
      "text/plain": [
       "<IPython.core.display.Javascript object>"
      ]
     },
     "metadata": {},
     "output_type": "display_data"
    }
   ],
   "source": [
    "housing = pd.read_csv(\"data/housing_cleaned.csv\")"
   ]
  },
  {
   "cell_type": "code",
   "execution_count": 8,
   "id": "28489e63",
   "metadata": {},
   "outputs": [
    {
     "name": "stdout",
     "output_type": "stream",
     "text": [
      "['LotFrontage', 'SalePrice', 'OverallQual', 'OpenPorchSF', 'BsmtUnfSF', 'TotalBath', 'PID', 'TotalPorchSF', 'YearBuilt', 'GarageArea', 'WoodDeckSF', 'TotRmsAbvGrd', 'BsmtFinSF2', 'Age', 'BsmtHalfBath', 'OverallCond', 'GarageCars', 'BsmtFullBath', 'GrLivArea', 'BsmtFinSF1', 'EnclosedPorch', 'YrSold', '1stFlrSF', 'Fireplaces', 'MoSold', 'FullBath', 'TotalBsmtSF', 'ScreenPorch', 'RemodAge', 'MasVnrArea', 'HalfBath', 'GarageYrBlt', 'MSSubClass', 'LotArea', 'BedroomAbvGr', '2ndFlrSF', 'TotalSF', 'YearRemodAdd', 'Remodeled', 'KitchenAbvGr']\n"
     ]
    },
    {
     "data": {
      "application/javascript": [
       "\n",
       "            setTimeout(function() {\n",
       "                var nbb_cell_id = 8;\n",
       "                var nbb_unformatted_code = \"# Select only numeric columns from the DataFrame\\nnumeric_cols = housing.select_dtypes(include=np.number).columns\\n\\n# Compute the correlation matrix\\ncorr_matrix = housing[numeric_cols].corr()\\n\\n# Extract only highly correlated columns\\nthreshold = 0.7\\nhighly_correlated_cols = corr_matrix[abs(corr_matrix) > threshold].stack().index.tolist()\\nhighly_correlated_cols = list(set([col[0] for col in highly_correlated_cols] + [col[1] for col in highly_correlated_cols]))\\n\\n# Print highly correlated columns\\nprint(highly_correlated_cols)\";\n",
       "                var nbb_formatted_code = \"# Select only numeric columns from the DataFrame\\nnumeric_cols = housing.select_dtypes(include=np.number).columns\\n\\n# Compute the correlation matrix\\ncorr_matrix = housing[numeric_cols].corr()\\n\\n# Extract only highly correlated columns\\nthreshold = 0.7\\nhighly_correlated_cols = (\\n    corr_matrix[abs(corr_matrix) > threshold].stack().index.tolist()\\n)\\nhighly_correlated_cols = list(\\n    set(\\n        [col[0] for col in highly_correlated_cols]\\n        + [col[1] for col in highly_correlated_cols]\\n    )\\n)\\n\\n# Print highly correlated columns\\nprint(highly_correlated_cols)\";\n",
       "                var nbb_cells = Jupyter.notebook.get_cells();\n",
       "                for (var i = 0; i < nbb_cells.length; ++i) {\n",
       "                    if (nbb_cells[i].input_prompt_number == nbb_cell_id) {\n",
       "                        if (nbb_cells[i].get_text() == nbb_unformatted_code) {\n",
       "                             nbb_cells[i].set_text(nbb_formatted_code);\n",
       "                        }\n",
       "                        break;\n",
       "                    }\n",
       "                }\n",
       "            }, 500);\n",
       "            "
      ],
      "text/plain": [
       "<IPython.core.display.Javascript object>"
      ]
     },
     "metadata": {},
     "output_type": "display_data"
    }
   ],
   "source": [
    "# Select only numeric columns from the DataFrame\n",
    "numeric_cols = housing.select_dtypes(include=np.number).columns\n",
    "\n",
    "# Compute the correlation matrix\n",
    "corr_matrix = housing[numeric_cols].corr()\n",
    "\n",
    "# Extract only highly correlated columns\n",
    "threshold = 0.7\n",
    "highly_correlated_cols = corr_matrix[abs(corr_matrix) > threshold].stack().index.tolist()\n",
    "highly_correlated_cols = list(set([col[0] for col in highly_correlated_cols] + [col[1] for col in highly_correlated_cols]))\n",
    "\n",
    "# Print highly correlated columns\n",
    "print(highly_correlated_cols)\n"
   ]
  },
  {
   "cell_type": "code",
   "execution_count": 9,
   "id": "6173c6dd",
   "metadata": {},
   "outputs": [
    {
     "name": "stdout",
     "output_type": "stream",
     "text": [
      "['GrLivArea', 'SalePrice', 'OverallQual', 'TotalBsmtSF', '1stFlrSF', 'FullBath', 'TotRmsAbvGrd', 'GarageCars', 'GarageArea', 'TotalSF', 'TotalBath']\n"
     ]
    },
    {
     "data": {
      "application/javascript": [
       "\n",
       "            setTimeout(function() {\n",
       "                var nbb_cell_id = 9;\n",
       "                var nbb_unformatted_code = \"corr = housing.corr()\\ncorr = corr[(corr > 0.7) | (corr < -0.7)]\\nhigh_corr_vars = corr[corr.sum() > 1].index.tolist()\\nprint(high_corr_vars)\";\n",
       "                var nbb_formatted_code = \"corr = housing.corr()\\ncorr = corr[(corr > 0.7) | (corr < -0.7)]\\nhigh_corr_vars = corr[corr.sum() > 1].index.tolist()\\nprint(high_corr_vars)\";\n",
       "                var nbb_cells = Jupyter.notebook.get_cells();\n",
       "                for (var i = 0; i < nbb_cells.length; ++i) {\n",
       "                    if (nbb_cells[i].input_prompt_number == nbb_cell_id) {\n",
       "                        if (nbb_cells[i].get_text() == nbb_unformatted_code) {\n",
       "                             nbb_cells[i].set_text(nbb_formatted_code);\n",
       "                        }\n",
       "                        break;\n",
       "                    }\n",
       "                }\n",
       "            }, 500);\n",
       "            "
      ],
      "text/plain": [
       "<IPython.core.display.Javascript object>"
      ]
     },
     "metadata": {},
     "output_type": "display_data"
    }
   ],
   "source": [
    "corr = housing.corr()\n",
    "corr = corr[(corr > 0.7) | (corr < -0.7)]\n",
    "high_corr_vars = corr[corr.sum() > 1].index.tolist()\n",
    "print(high_corr_vars)\n"
   ]
  },
  {
   "cell_type": "code",
   "execution_count": 10,
   "id": "6518fd69",
   "metadata": {},
   "outputs": [
    {
     "name": "stdout",
     "output_type": "stream",
     "text": [
      "Highly correlated with LotFrontage\n",
      "LotFrontage    1.0\n",
      "Name: LotFrontage, dtype: float64\n",
      "Highly correlated with SalePrice\n",
      "SalePrice      1.000000\n",
      "TotalSF        0.819377\n",
      "OverallQual    0.790467\n",
      "GrLivArea      0.719735\n",
      "Name: SalePrice, dtype: float64\n",
      "Highly correlated with OverallQual\n",
      "OverallQual    1.000000\n",
      "SalePrice      0.790467\n",
      "Name: OverallQual, dtype: float64\n",
      "Highly correlated with OpenPorchSF\n",
      "OpenPorchSF    1.0\n",
      "Name: OpenPorchSF, dtype: float64\n",
      "Highly correlated with BsmtUnfSF\n",
      "BsmtUnfSF    1.0\n",
      "Name: BsmtUnfSF, dtype: float64\n",
      "Highly correlated with TotalBath\n",
      "TotalBath    1.000000\n",
      "FullBath     0.715885\n",
      "Name: TotalBath, dtype: float64\n",
      "Highly correlated with PID\n",
      "PID    1.0\n",
      "Name: PID, dtype: float64\n",
      "Highly correlated with TotalPorchSF\n",
      "TotalPorchSF    1.0\n",
      "Name: TotalPorchSF, dtype: float64\n",
      "Highly correlated with YearBuilt\n",
      "YearBuilt    1.000000\n",
      "Age         -0.999018\n",
      "Name: YearBuilt, dtype: float64\n",
      "Highly correlated with GarageArea\n",
      "GarageArea    1.00000\n",
      "GarageCars    0.89121\n",
      "Name: GarageArea, dtype: float64\n",
      "Highly correlated with WoodDeckSF\n",
      "WoodDeckSF    1.0\n",
      "Name: WoodDeckSF, dtype: float64\n",
      "Highly correlated with TotRmsAbvGrd\n",
      "TotRmsAbvGrd    1.000000\n",
      "GrLivArea       0.806588\n",
      "Name: TotRmsAbvGrd, dtype: float64\n",
      "Highly correlated with BsmtFinSF2\n",
      "BsmtFinSF2    1.0\n",
      "Name: BsmtFinSF2, dtype: float64\n",
      "Highly correlated with Age\n",
      "Age          1.000000\n",
      "YearBuilt   -0.999018\n",
      "Name: Age, dtype: float64\n",
      "Highly correlated with BsmtHalfBath\n",
      "BsmtHalfBath    1.0\n",
      "Name: BsmtHalfBath, dtype: float64\n",
      "Highly correlated with OverallCond\n",
      "OverallCond    1.0\n",
      "Name: OverallCond, dtype: float64\n",
      "Highly correlated with GarageCars\n",
      "GarageCars    1.00000\n",
      "GarageArea    0.89121\n",
      "Name: GarageCars, dtype: float64\n",
      "Highly correlated with BsmtFullBath\n",
      "BsmtFullBath    1.0\n",
      "Name: BsmtFullBath, dtype: float64\n",
      "Highly correlated with GrLivArea\n",
      "GrLivArea       1.000000\n",
      "TotalSF         0.866333\n",
      "TotRmsAbvGrd    0.806588\n",
      "SalePrice       0.719735\n",
      "Name: GrLivArea, dtype: float64\n",
      "Highly correlated with BsmtFinSF1\n",
      "BsmtFinSF1    1.0\n",
      "Name: BsmtFinSF1, dtype: float64\n",
      "Highly correlated with EnclosedPorch\n",
      "EnclosedPorch    1.0\n",
      "Name: EnclosedPorch, dtype: float64\n",
      "Highly correlated with YrSold\n",
      "YrSold    1.0\n",
      "Name: YrSold, dtype: float64\n",
      "Highly correlated with 1stFlrSF\n",
      "1stFlrSF       1.000000\n",
      "TotalBsmtSF    0.788911\n",
      "TotalSF        0.777873\n",
      "Name: 1stFlrSF, dtype: float64\n",
      "Highly correlated with Fireplaces\n",
      "Fireplaces    1.0\n",
      "Name: Fireplaces, dtype: float64\n",
      "Highly correlated with MoSold\n",
      "MoSold    1.0\n",
      "Name: MoSold, dtype: float64\n",
      "Highly correlated with FullBath\n",
      "FullBath     1.000000\n",
      "TotalBath    0.715885\n",
      "Name: FullBath, dtype: float64\n",
      "Highly correlated with TotalBsmtSF\n",
      "TotalBsmtSF    1.000000\n",
      "TotalSF        0.810867\n",
      "1stFlrSF       0.788911\n",
      "Name: TotalBsmtSF, dtype: float64\n",
      "Highly correlated with ScreenPorch\n",
      "ScreenPorch    1.0\n",
      "Name: ScreenPorch, dtype: float64\n",
      "Highly correlated with RemodAge\n",
      "RemodAge        1.000000\n",
      "YearRemodAdd   -0.997936\n",
      "Name: RemodAge, dtype: float64\n",
      "Highly correlated with MasVnrArea\n",
      "MasVnrArea    1.0\n",
      "Name: MasVnrArea, dtype: float64\n",
      "Highly correlated with HalfBath\n",
      "HalfBath    1.0\n",
      "Name: HalfBath, dtype: float64\n",
      "Highly correlated with GarageYrBlt\n",
      "GarageYrBlt    1.0\n",
      "Name: GarageYrBlt, dtype: float64\n",
      "Highly correlated with MSSubClass\n",
      "MSSubClass    1.0\n",
      "Name: MSSubClass, dtype: float64\n",
      "Highly correlated with LotArea\n",
      "LotArea    1.0\n",
      "Name: LotArea, dtype: float64\n",
      "Highly correlated with BedroomAbvGr\n",
      "BedroomAbvGr    1.0\n",
      "Name: BedroomAbvGr, dtype: float64\n",
      "Highly correlated with 2ndFlrSF\n",
      "2ndFlrSF    1.0\n",
      "Name: 2ndFlrSF, dtype: float64\n",
      "Highly correlated with TotalSF\n",
      "TotalSF        1.000000\n",
      "GrLivArea      0.866333\n",
      "SalePrice      0.819377\n",
      "TotalBsmtSF    0.810867\n",
      "1stFlrSF       0.777873\n",
      "Name: TotalSF, dtype: float64\n",
      "Highly correlated with YearRemodAdd\n",
      "YearRemodAdd    1.000000\n",
      "RemodAge       -0.997936\n",
      "Name: YearRemodAdd, dtype: float64\n",
      "Highly correlated with Remodeled\n",
      "Remodeled    1.0\n",
      "Name: Remodeled, dtype: float64\n",
      "Highly correlated with KitchenAbvGr\n",
      "KitchenAbvGr    1.0\n",
      "Name: KitchenAbvGr, dtype: float64\n"
     ]
    },
    {
     "data": {
      "application/javascript": [
       "\n",
       "            setTimeout(function() {\n",
       "                var nbb_cell_id = 10;\n",
       "                var nbb_unformatted_code = \"# Select the features of interest\\nselected_features = ['LotFrontage', 'SalePrice', 'OverallQual', 'OpenPorchSF', 'BsmtUnfSF', 'TotalBath', 'PID', 'TotalPorchSF', 'YearBuilt', 'GarageArea', 'WoodDeckSF', 'TotRmsAbvGrd', 'BsmtFinSF2', 'Age', 'BsmtHalfBath', 'OverallCond', 'GarageCars', 'BsmtFullBath', 'GrLivArea', 'BsmtFinSF1', 'EnclosedPorch', 'YrSold', '1stFlrSF', 'Fireplaces', 'MoSold', 'FullBath', 'TotalBsmtSF', 'ScreenPorch', 'RemodAge', 'MasVnrArea', 'HalfBath', 'GarageYrBlt', 'MSSubClass', 'LotArea', 'BedroomAbvGr', '2ndFlrSF', 'TotalSF', 'YearRemodAdd', 'Remodeled', 'KitchenAbvGr']\\n\\n# Generate a correlation matrix for the selected features\\ncorr_matrix = housing[selected_features].corr()\\n\\n# Filter the correlation matrix to show only the correlations with the selected features\\ncorr_with_selected = corr_matrix.loc[:, selected_features]\\n\\n# Display the highly correlated features for each selected feature\\nfor feature in selected_features:\\n    print(\\\"Highly correlated with\\\", feature)\\n    print(corr_with_selected[feature][(corr_with_selected[feature] > 0.7) | (corr_with_selected[feature] < -0.7)].sort_values(ascending=False))\";\n",
       "                var nbb_formatted_code = \"# Select the features of interest\\nselected_features = [\\n    \\\"LotFrontage\\\",\\n    \\\"SalePrice\\\",\\n    \\\"OverallQual\\\",\\n    \\\"OpenPorchSF\\\",\\n    \\\"BsmtUnfSF\\\",\\n    \\\"TotalBath\\\",\\n    \\\"PID\\\",\\n    \\\"TotalPorchSF\\\",\\n    \\\"YearBuilt\\\",\\n    \\\"GarageArea\\\",\\n    \\\"WoodDeckSF\\\",\\n    \\\"TotRmsAbvGrd\\\",\\n    \\\"BsmtFinSF2\\\",\\n    \\\"Age\\\",\\n    \\\"BsmtHalfBath\\\",\\n    \\\"OverallCond\\\",\\n    \\\"GarageCars\\\",\\n    \\\"BsmtFullBath\\\",\\n    \\\"GrLivArea\\\",\\n    \\\"BsmtFinSF1\\\",\\n    \\\"EnclosedPorch\\\",\\n    \\\"YrSold\\\",\\n    \\\"1stFlrSF\\\",\\n    \\\"Fireplaces\\\",\\n    \\\"MoSold\\\",\\n    \\\"FullBath\\\",\\n    \\\"TotalBsmtSF\\\",\\n    \\\"ScreenPorch\\\",\\n    \\\"RemodAge\\\",\\n    \\\"MasVnrArea\\\",\\n    \\\"HalfBath\\\",\\n    \\\"GarageYrBlt\\\",\\n    \\\"MSSubClass\\\",\\n    \\\"LotArea\\\",\\n    \\\"BedroomAbvGr\\\",\\n    \\\"2ndFlrSF\\\",\\n    \\\"TotalSF\\\",\\n    \\\"YearRemodAdd\\\",\\n    \\\"Remodeled\\\",\\n    \\\"KitchenAbvGr\\\",\\n]\\n\\n# Generate a correlation matrix for the selected features\\ncorr_matrix = housing[selected_features].corr()\\n\\n# Filter the correlation matrix to show only the correlations with the selected features\\ncorr_with_selected = corr_matrix.loc[:, selected_features]\\n\\n# Display the highly correlated features for each selected feature\\nfor feature in selected_features:\\n    print(\\\"Highly correlated with\\\", feature)\\n    print(\\n        corr_with_selected[feature][\\n            (corr_with_selected[feature] > 0.7) | (corr_with_selected[feature] < -0.7)\\n        ].sort_values(ascending=False)\\n    )\";\n",
       "                var nbb_cells = Jupyter.notebook.get_cells();\n",
       "                for (var i = 0; i < nbb_cells.length; ++i) {\n",
       "                    if (nbb_cells[i].input_prompt_number == nbb_cell_id) {\n",
       "                        if (nbb_cells[i].get_text() == nbb_unformatted_code) {\n",
       "                             nbb_cells[i].set_text(nbb_formatted_code);\n",
       "                        }\n",
       "                        break;\n",
       "                    }\n",
       "                }\n",
       "            }, 500);\n",
       "            "
      ],
      "text/plain": [
       "<IPython.core.display.Javascript object>"
      ]
     },
     "metadata": {},
     "output_type": "display_data"
    }
   ],
   "source": [
    "# Select the features of interest\n",
    "selected_features = ['LotFrontage', 'SalePrice', 'OverallQual', 'OpenPorchSF', 'BsmtUnfSF', 'TotalBath', 'PID', 'TotalPorchSF', 'YearBuilt', 'GarageArea', 'WoodDeckSF', 'TotRmsAbvGrd', 'BsmtFinSF2', 'Age', 'BsmtHalfBath', 'OverallCond', 'GarageCars', 'BsmtFullBath', 'GrLivArea', 'BsmtFinSF1', 'EnclosedPorch', 'YrSold', '1stFlrSF', 'Fireplaces', 'MoSold', 'FullBath', 'TotalBsmtSF', 'ScreenPorch', 'RemodAge', 'MasVnrArea', 'HalfBath', 'GarageYrBlt', 'MSSubClass', 'LotArea', 'BedroomAbvGr', '2ndFlrSF', 'TotalSF', 'YearRemodAdd', 'Remodeled', 'KitchenAbvGr']\n",
    "\n",
    "# Generate a correlation matrix for the selected features\n",
    "corr_matrix = housing[selected_features].corr()\n",
    "\n",
    "# Filter the correlation matrix to show only the correlations with the selected features\n",
    "corr_with_selected = corr_matrix.loc[:, selected_features]\n",
    "\n",
    "# Display the highly correlated features for each selected feature\n",
    "for feature in selected_features:\n",
    "    print(\"Highly correlated with\", feature)\n",
    "    print(corr_with_selected[feature][(corr_with_selected[feature] > 0.7) | (corr_with_selected[feature] < -0.7)].sort_values(ascending=False))\n"
   ]
  },
  {
   "cell_type": "code",
   "execution_count": 14,
   "id": "e0968bc0",
   "metadata": {},
   "outputs": [
    {
     "name": "stdout",
     "output_type": "stream",
     "text": [
      "Highly correlated with TotalBath\n",
      "FullBath    0.715885\n",
      "Name: TotalBath, dtype: float64\n",
      "\n",
      "\n",
      "Highly correlated with YearBuilt\n",
      "Age   -0.999018\n",
      "Name: YearBuilt, dtype: float64\n",
      "\n",
      "\n",
      "Highly correlated with GarageArea\n",
      "GarageCars    0.89121\n",
      "Name: GarageArea, dtype: float64\n",
      "\n",
      "\n",
      "Highly correlated with TotRmsAbvGrd\n",
      "GrLivArea    0.806588\n",
      "Name: TotRmsAbvGrd, dtype: float64\n",
      "\n",
      "\n",
      "Highly correlated with Age\n",
      "YearBuilt   -0.999018\n",
      "Name: Age, dtype: float64\n",
      "\n",
      "\n",
      "Highly correlated with GarageCars\n",
      "GarageArea    0.89121\n",
      "Name: GarageCars, dtype: float64\n",
      "\n",
      "\n",
      "Highly correlated with GrLivArea\n",
      "TotRmsAbvGrd    0.806588\n",
      "TotalSF         0.866333\n",
      "Name: GrLivArea, dtype: float64\n",
      "\n",
      "\n",
      "Highly correlated with 1stFlrSF\n",
      "TotalBsmtSF    0.788911\n",
      "TotalSF        0.777873\n",
      "Name: 1stFlrSF, dtype: float64\n",
      "\n",
      "\n",
      "Highly correlated with FullBath\n",
      "TotalBath    0.715885\n",
      "Name: FullBath, dtype: float64\n",
      "\n",
      "\n",
      "Highly correlated with TotalBsmtSF\n",
      "1stFlrSF    0.788911\n",
      "TotalSF     0.810867\n",
      "Name: TotalBsmtSF, dtype: float64\n",
      "\n",
      "\n",
      "Highly correlated with RemodAge\n",
      "YearRemodAdd   -0.997936\n",
      "Name: RemodAge, dtype: float64\n",
      "\n",
      "\n",
      "Highly correlated with TotalSF\n",
      "GrLivArea      0.866333\n",
      "TotalBsmtSF    0.810867\n",
      "1stFlrSF       0.777873\n",
      "Name: TotalSF, dtype: float64\n",
      "\n",
      "\n",
      "Highly correlated with YearRemodAdd\n",
      "RemodAge   -0.997936\n",
      "Name: YearRemodAdd, dtype: float64\n",
      "\n",
      "\n"
     ]
    },
    {
     "data": {
      "application/javascript": [
       "\n",
       "            setTimeout(function() {\n",
       "                var nbb_cell_id = 14;\n",
       "                var nbb_unformatted_code = \"for col in ['LotFrontage', 'OverallQual', 'OpenPorchSF', 'BsmtUnfSF', 'TotalBath', 'PID', 'TotalPorchSF', 'YearBuilt', 'GarageArea', 'WoodDeckSF', 'TotRmsAbvGrd', 'BsmtFinSF2', 'Age', 'BsmtHalfBath', 'OverallCond', 'GarageCars', 'BsmtFullBath', 'GrLivArea', 'BsmtFinSF1', 'EnclosedPorch', 'YrSold', '1stFlrSF', 'Fireplaces', 'MoSold', 'FullBath', 'TotalBsmtSF', 'ScreenPorch', 'RemodAge', 'MasVnrArea', 'HalfBath', 'GarageYrBlt', 'MSSubClass', 'LotArea', 'BedroomAbvGr', '2ndFlrSF', 'TotalSF', 'YearRemodAdd', 'Remodeled', 'KitchenAbvGr']:\\n    if col not in ['SalePrice']:\\n        corr = housing.corr()[col]\\n        corr = corr[(corr > 0.7) | (corr < -0.7)]\\n        corr = corr.drop([col, 'SalePrice'], errors='ignore')\\n        if not corr.empty:\\n            print(f\\\"Highly correlated with {col}\\\")\\n            print(corr)\\n            print(\\\"\\\\n\\\")\";\n",
       "                var nbb_formatted_code = \"for col in [\\n    \\\"LotFrontage\\\",\\n    \\\"OverallQual\\\",\\n    \\\"OpenPorchSF\\\",\\n    \\\"BsmtUnfSF\\\",\\n    \\\"TotalBath\\\",\\n    \\\"PID\\\",\\n    \\\"TotalPorchSF\\\",\\n    \\\"YearBuilt\\\",\\n    \\\"GarageArea\\\",\\n    \\\"WoodDeckSF\\\",\\n    \\\"TotRmsAbvGrd\\\",\\n    \\\"BsmtFinSF2\\\",\\n    \\\"Age\\\",\\n    \\\"BsmtHalfBath\\\",\\n    \\\"OverallCond\\\",\\n    \\\"GarageCars\\\",\\n    \\\"BsmtFullBath\\\",\\n    \\\"GrLivArea\\\",\\n    \\\"BsmtFinSF1\\\",\\n    \\\"EnclosedPorch\\\",\\n    \\\"YrSold\\\",\\n    \\\"1stFlrSF\\\",\\n    \\\"Fireplaces\\\",\\n    \\\"MoSold\\\",\\n    \\\"FullBath\\\",\\n    \\\"TotalBsmtSF\\\",\\n    \\\"ScreenPorch\\\",\\n    \\\"RemodAge\\\",\\n    \\\"MasVnrArea\\\",\\n    \\\"HalfBath\\\",\\n    \\\"GarageYrBlt\\\",\\n    \\\"MSSubClass\\\",\\n    \\\"LotArea\\\",\\n    \\\"BedroomAbvGr\\\",\\n    \\\"2ndFlrSF\\\",\\n    \\\"TotalSF\\\",\\n    \\\"YearRemodAdd\\\",\\n    \\\"Remodeled\\\",\\n    \\\"KitchenAbvGr\\\",\\n]:\\n    if col not in [\\\"SalePrice\\\"]:\\n        corr = housing.corr()[col]\\n        corr = corr[(corr > 0.7) | (corr < -0.7)]\\n        corr = corr.drop([col, \\\"SalePrice\\\"], errors=\\\"ignore\\\")\\n        if not corr.empty:\\n            print(f\\\"Highly correlated with {col}\\\")\\n            print(corr)\\n            print(\\\"\\\\n\\\")\";\n",
       "                var nbb_cells = Jupyter.notebook.get_cells();\n",
       "                for (var i = 0; i < nbb_cells.length; ++i) {\n",
       "                    if (nbb_cells[i].input_prompt_number == nbb_cell_id) {\n",
       "                        if (nbb_cells[i].get_text() == nbb_unformatted_code) {\n",
       "                             nbb_cells[i].set_text(nbb_formatted_code);\n",
       "                        }\n",
       "                        break;\n",
       "                    }\n",
       "                }\n",
       "            }, 500);\n",
       "            "
      ],
      "text/plain": [
       "<IPython.core.display.Javascript object>"
      ]
     },
     "metadata": {},
     "output_type": "display_data"
    }
   ],
   "source": [
    "for col in ['LotFrontage', 'OverallQual', 'OpenPorchSF', 'BsmtUnfSF', 'TotalBath', 'PID', 'TotalPorchSF', 'YearBuilt', 'GarageArea', 'WoodDeckSF', 'TotRmsAbvGrd', 'BsmtFinSF2', 'Age', 'BsmtHalfBath', 'OverallCond', 'GarageCars', 'BsmtFullBath', 'GrLivArea', 'BsmtFinSF1', 'EnclosedPorch', 'YrSold', '1stFlrSF', 'Fireplaces', 'MoSold', 'FullBath', 'TotalBsmtSF', 'ScreenPorch', 'RemodAge', 'MasVnrArea', 'HalfBath', 'GarageYrBlt', 'MSSubClass', 'LotArea', 'BedroomAbvGr', '2ndFlrSF', 'TotalSF', 'YearRemodAdd', 'Remodeled', 'KitchenAbvGr']:\n",
    "    if col not in ['SalePrice']:\n",
    "        corr = housing.corr()[col]\n",
    "        corr = corr[(corr > 0.7) | (corr < -0.7)]\n",
    "        corr = corr.drop([col, 'SalePrice'], errors='ignore')\n",
    "        if not corr.empty:\n",
    "            print(f\"Highly correlated with {col}\")\n",
    "            print(corr)\n",
    "            print(\"\\n\")\n"
   ]
  }
 ],
 "metadata": {
  "kernelspec": {
   "display_name": "Python 3 (ipykernel)",
   "language": "python",
   "name": "python3"
  },
  "language_info": {
   "codemirror_mode": {
    "name": "ipython",
    "version": 3
   },
   "file_extension": ".py",
   "mimetype": "text/x-python",
   "name": "python",
   "nbconvert_exporter": "python",
   "pygments_lexer": "ipython3",
   "version": "3.9.12"
  }
 },
 "nbformat": 4,
 "nbformat_minor": 5
}
