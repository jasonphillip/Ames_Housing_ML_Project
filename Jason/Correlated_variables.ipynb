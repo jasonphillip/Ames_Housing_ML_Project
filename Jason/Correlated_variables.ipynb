{
 "cells": [
  {
   "cell_type": "code",
   "execution_count": 12,
   "id": "0aab9173",
   "metadata": {},
   "outputs": [
    {
     "name": "stdout",
     "output_type": "stream",
     "text": [
      "The nb_black extension is already loaded. To reload it, use:\n",
      "  %reload_ext nb_black\n"
     ]
    },
    {
     "data": {
      "application/javascript": [
       "\n",
       "            setTimeout(function() {\n",
       "                var nbb_cell_id = 12;\n",
       "                var nbb_unformatted_code = \"import matplotlib.pyplot as plt\\nimport seaborn as sns\\nimport numpy as np\\nimport pandas as pd\\n\\n# the below extension properly formats a cell after it is run\\n%load_ext nb_black\\n\\n# Set the maximum number of rows to 200\\npd.set_option(\\\"display.max_rows\\\", 200)\\n\\n\\n# Set the maximum number of columns to 200\\npd.set_option(\\\"display.max_columns\\\", 200)\";\n",
       "                var nbb_formatted_code = \"import matplotlib.pyplot as plt\\nimport seaborn as sns\\nimport numpy as np\\nimport pandas as pd\\n\\n# the below extension properly formats a cell after it is run\\n%load_ext nb_black\\n\\n# Set the maximum number of rows to 200\\npd.set_option(\\\"display.max_rows\\\", 200)\\n\\n\\n# Set the maximum number of columns to 200\\npd.set_option(\\\"display.max_columns\\\", 200)\";\n",
       "                var nbb_cells = Jupyter.notebook.get_cells();\n",
       "                for (var i = 0; i < nbb_cells.length; ++i) {\n",
       "                    if (nbb_cells[i].input_prompt_number == nbb_cell_id) {\n",
       "                        if (nbb_cells[i].get_text() == nbb_unformatted_code) {\n",
       "                             nbb_cells[i].set_text(nbb_formatted_code);\n",
       "                        }\n",
       "                        break;\n",
       "                    }\n",
       "                }\n",
       "            }, 500);\n",
       "            "
      ],
      "text/plain": [
       "<IPython.core.display.Javascript object>"
      ]
     },
     "metadata": {},
     "output_type": "display_data"
    }
   ],
   "source": [
    "import matplotlib.pyplot as plt\n",
    "import seaborn as sns\n",
    "import numpy as np\n",
    "import pandas as pd\n",
    "\n",
    "# the below extension properly formats a cell after it is run\n",
    "%load_ext nb_black\n",
    "\n",
    "# Set the maximum number of rows to 200\n",
    "pd.set_option(\"display.max_rows\", 200)\n",
    "\n",
    "\n",
    "# Set the maximum number of columns to 200\n",
    "pd.set_option(\"display.max_columns\", 200)\n"
   ]
  },
  {
   "cell_type": "code",
   "execution_count": 13,
   "id": "26e48060",
   "metadata": {},
   "outputs": [
    {
     "data": {
      "application/javascript": [
       "\n",
       "            setTimeout(function() {\n",
       "                var nbb_cell_id = 13;\n",
       "                var nbb_unformatted_code = \"housing = pd.read_csv(\\\"../data/housing_cleaned.csv\\\")\\nlocations = pd.read_csv(\\\"../data/locations.csv\\\")\";\n",
       "                var nbb_formatted_code = \"housing = pd.read_csv(\\\"../data/housing_cleaned.csv\\\")\\nlocations = pd.read_csv(\\\"../data/locations.csv\\\")\";\n",
       "                var nbb_cells = Jupyter.notebook.get_cells();\n",
       "                for (var i = 0; i < nbb_cells.length; ++i) {\n",
       "                    if (nbb_cells[i].input_prompt_number == nbb_cell_id) {\n",
       "                        if (nbb_cells[i].get_text() == nbb_unformatted_code) {\n",
       "                             nbb_cells[i].set_text(nbb_formatted_code);\n",
       "                        }\n",
       "                        break;\n",
       "                    }\n",
       "                }\n",
       "            }, 500);\n",
       "            "
      ],
      "text/plain": [
       "<IPython.core.display.Javascript object>"
      ]
     },
     "metadata": {},
     "output_type": "display_data"
    }
   ],
   "source": [
    "housing = pd.read_csv(\"../data/housing_cleaned.csv\")\n",
    "locations = pd.read_csv(\"../data/locations.csv\")"
   ]
  },
  {
   "cell_type": "code",
   "execution_count": 14,
   "id": "80a88bea",
   "metadata": {},
   "outputs": [
    {
     "data": {
      "application/javascript": [
       "\n",
       "            setTimeout(function() {\n",
       "                var nbb_cell_id = 14;\n",
       "                var nbb_unformatted_code = \"# Dropping this observtion that is the only one in the Landmrk neighborhood\\nhousing.drop(housing[housing[\\\"Neighborhood\\\"] == \\\"Landmrk\\\"].index, inplace=True)\";\n",
       "                var nbb_formatted_code = \"# Dropping this observtion that is the only one in the Landmrk neighborhood\\nhousing.drop(housing[housing[\\\"Neighborhood\\\"] == \\\"Landmrk\\\"].index, inplace=True)\";\n",
       "                var nbb_cells = Jupyter.notebook.get_cells();\n",
       "                for (var i = 0; i < nbb_cells.length; ++i) {\n",
       "                    if (nbb_cells[i].input_prompt_number == nbb_cell_id) {\n",
       "                        if (nbb_cells[i].get_text() == nbb_unformatted_code) {\n",
       "                             nbb_cells[i].set_text(nbb_formatted_code);\n",
       "                        }\n",
       "                        break;\n",
       "                    }\n",
       "                }\n",
       "            }, 500);\n",
       "            "
      ],
      "text/plain": [
       "<IPython.core.display.Javascript object>"
      ]
     },
     "metadata": {},
     "output_type": "display_data"
    }
   ],
   "source": [
    "# Dropping this observtion that is the only one in the Landmrk neighborhood\n",
    "housing.drop(housing[housing[\"Neighborhood\"] == \"Landmrk\"].index, inplace=True)"
   ]
  },
  {
   "cell_type": "code",
   "execution_count": 15,
   "id": "9ea3109e",
   "metadata": {},
   "outputs": [
    {
     "data": {
      "application/javascript": [
       "\n",
       "            setTimeout(function() {\n",
       "                var nbb_cell_id = 15;\n",
       "                var nbb_unformatted_code = \"# merging Neigborhood_st column\\nhousing = housing.merge(locations[[\\\"PID\\\", \\\"Neighborhood_st\\\"]], on=\\\"PID\\\", how=\\\"left\\\")\";\n",
       "                var nbb_formatted_code = \"# merging Neigborhood_st column\\nhousing = housing.merge(locations[[\\\"PID\\\", \\\"Neighborhood_st\\\"]], on=\\\"PID\\\", how=\\\"left\\\")\";\n",
       "                var nbb_cells = Jupyter.notebook.get_cells();\n",
       "                for (var i = 0; i < nbb_cells.length; ++i) {\n",
       "                    if (nbb_cells[i].input_prompt_number == nbb_cell_id) {\n",
       "                        if (nbb_cells[i].get_text() == nbb_unformatted_code) {\n",
       "                             nbb_cells[i].set_text(nbb_formatted_code);\n",
       "                        }\n",
       "                        break;\n",
       "                    }\n",
       "                }\n",
       "            }, 500);\n",
       "            "
      ],
      "text/plain": [
       "<IPython.core.display.Javascript object>"
      ]
     },
     "metadata": {},
     "output_type": "display_data"
    }
   ],
   "source": [
    "# merging Neigborhood_st column\n",
    "housing = housing.merge(locations[[\"PID\", \"Neighborhood_st\"]], on=\"PID\", how=\"left\")"
   ]
  },
  {
   "cell_type": "code",
   "execution_count": 16,
   "id": "420843a3",
   "metadata": {},
   "outputs": [
    {
     "data": {
      "application/javascript": [
       "\n",
       "            setTimeout(function() {\n",
       "                var nbb_cell_id = 16;\n",
       "                var nbb_unformatted_code = \"# Creating Dictionaries\\nGQual = {\\\"No_Garage\\\": 0, \\\"Po\\\": 1, \\\"Fa\\\": 2, \\\"TA\\\": 3, \\\"Gd\\\": 4, \\\"Ex\\\": 5}\\nGQualCond = {\\\"No_Garage\\\": 0, \\\"Po\\\": 1, \\\"Fa\\\": 2, \\\"TA\\\": 3, \\\"Gd\\\": 4, \\\"Ex\\\": 5}\\nGFin = {\\\"No_Garage\\\": 0, \\\"Unf\\\": 1, \\\"RFn\\\": 2, \\\"Fin\\\": 3}\\nBExposure = {\\\"No_Bsmt\\\": 0, \\\"No\\\": 1, \\\"Mn\\\": 2, \\\"Gd\\\": 3, \\\"Av\\\": 4}\\nBFinType = {\\\"No_Bsmt\\\": 0, \\\"Unf\\\": 1, \\\"LwQ\\\": 2, \\\"Rec\\\": 3, \\\"BLQ\\\": 4, \\\"ALQ\\\": 5, \\\"GLQ\\\": 6}\\nBQualCond = {\\\"No_Bsmt\\\": 0, \\\"Po\\\": 1, \\\"Fa\\\": 2, \\\"TA\\\": 3, \\\"Gd\\\": 4, \\\"Ex\\\": 5}\\nFenceQual = {\\\"No_Fence\\\": 0, \\\"MnWw\\\": 1, \\\"GdWo\\\": 2, \\\"MnPrv\\\": 3, \\\"GdPrv\\\": 4}\\nFireQual = {\\\"No_Fireplace\\\": 0, \\\"Po\\\": 1, \\\"Fa\\\": 2, \\\"TA\\\": 3, \\\"Gd\\\": 4, \\\"Ex\\\": 5}\\nExQualCond = {\\\"Po\\\": 0, \\\"Fa\\\": 1, \\\"TA\\\": 2, \\\"Gd\\\": 3, \\\"Ex\\\": 4}\";\n",
       "                var nbb_formatted_code = \"# Creating Dictionaries\\nGQual = {\\\"No_Garage\\\": 0, \\\"Po\\\": 1, \\\"Fa\\\": 2, \\\"TA\\\": 3, \\\"Gd\\\": 4, \\\"Ex\\\": 5}\\nGQualCond = {\\\"No_Garage\\\": 0, \\\"Po\\\": 1, \\\"Fa\\\": 2, \\\"TA\\\": 3, \\\"Gd\\\": 4, \\\"Ex\\\": 5}\\nGFin = {\\\"No_Garage\\\": 0, \\\"Unf\\\": 1, \\\"RFn\\\": 2, \\\"Fin\\\": 3}\\nBExposure = {\\\"No_Bsmt\\\": 0, \\\"No\\\": 1, \\\"Mn\\\": 2, \\\"Gd\\\": 3, \\\"Av\\\": 4}\\nBFinType = {\\\"No_Bsmt\\\": 0, \\\"Unf\\\": 1, \\\"LwQ\\\": 2, \\\"Rec\\\": 3, \\\"BLQ\\\": 4, \\\"ALQ\\\": 5, \\\"GLQ\\\": 6}\\nBQualCond = {\\\"No_Bsmt\\\": 0, \\\"Po\\\": 1, \\\"Fa\\\": 2, \\\"TA\\\": 3, \\\"Gd\\\": 4, \\\"Ex\\\": 5}\\nFenceQual = {\\\"No_Fence\\\": 0, \\\"MnWw\\\": 1, \\\"GdWo\\\": 2, \\\"MnPrv\\\": 3, \\\"GdPrv\\\": 4}\\nFireQual = {\\\"No_Fireplace\\\": 0, \\\"Po\\\": 1, \\\"Fa\\\": 2, \\\"TA\\\": 3, \\\"Gd\\\": 4, \\\"Ex\\\": 5}\\nExQualCond = {\\\"Po\\\": 0, \\\"Fa\\\": 1, \\\"TA\\\": 2, \\\"Gd\\\": 3, \\\"Ex\\\": 4}\";\n",
       "                var nbb_cells = Jupyter.notebook.get_cells();\n",
       "                for (var i = 0; i < nbb_cells.length; ++i) {\n",
       "                    if (nbb_cells[i].input_prompt_number == nbb_cell_id) {\n",
       "                        if (nbb_cells[i].get_text() == nbb_unformatted_code) {\n",
       "                             nbb_cells[i].set_text(nbb_formatted_code);\n",
       "                        }\n",
       "                        break;\n",
       "                    }\n",
       "                }\n",
       "            }, 500);\n",
       "            "
      ],
      "text/plain": [
       "<IPython.core.display.Javascript object>"
      ]
     },
     "metadata": {},
     "output_type": "display_data"
    }
   ],
   "source": [
    "# Creating Dictionaries\n",
    "GQual = {\"No_Garage\": 0, \"Po\": 1, \"Fa\": 2, \"TA\": 3, \"Gd\": 4, \"Ex\": 5}\n",
    "GQualCond = {\"No_Garage\": 0, \"Po\": 1, \"Fa\": 2, \"TA\": 3, \"Gd\": 4, \"Ex\": 5}\n",
    "GFin = {\"No_Garage\": 0, \"Unf\": 1, \"RFn\": 2, \"Fin\": 3}\n",
    "BExposure = {\"No_Bsmt\": 0, \"No\": 1, \"Mn\": 2, \"Gd\": 3, \"Av\": 4}\n",
    "BFinType = {\"No_Bsmt\": 0, \"Unf\": 1, \"LwQ\": 2, \"Rec\": 3, \"BLQ\": 4, \"ALQ\": 5, \"GLQ\": 6}\n",
    "BQualCond = {\"No_Bsmt\": 0, \"Po\": 1, \"Fa\": 2, \"TA\": 3, \"Gd\": 4, \"Ex\": 5}\n",
    "FenceQual = {\"No_Fence\": 0, \"MnWw\": 1, \"GdWo\": 2, \"MnPrv\": 3, \"GdPrv\": 4}\n",
    "FireQual = {\"No_Fireplace\": 0, \"Po\": 1, \"Fa\": 2, \"TA\": 3, \"Gd\": 4, \"Ex\": 5}\n",
    "ExQualCond = {\"Po\": 0, \"Fa\": 1, \"TA\": 2, \"Gd\": 3, \"Ex\": 4}"
   ]
  },
  {
   "cell_type": "code",
   "execution_count": 17,
   "id": "3abcba3a",
   "metadata": {},
   "outputs": [
    {
     "data": {
      "application/javascript": [
       "\n",
       "            setTimeout(function() {\n",
       "                var nbb_cell_id = 17;\n",
       "                var nbb_unformatted_code = \"# Turning nominal columns to numeric with previous dictionary\\nhousing[\\\"BsmtExposure\\\"] = housing[\\\"BsmtExposure\\\"].apply(lambda row: BExposure[row])\\nhousing[\\\"BsmtFinType1\\\"] = housing[\\\"BsmtFinType1\\\"].apply(lambda row: BFinType[row])\\nhousing[\\\"BsmtFinType2\\\"] = housing[\\\"BsmtFinType2\\\"].apply(lambda row: BFinType[row])\\nhousing[\\\"BsmtQual\\\"] = housing[\\\"BsmtQual\\\"].apply(lambda row: BQualCond[row])\\nhousing[\\\"BsmtCond\\\"] = housing[\\\"BsmtCond\\\"].apply(lambda row: BQualCond[row])\\nhousing[\\\"GarageQual\\\"] = housing[\\\"GarageQual\\\"].apply(lambda row: GQualCond[row])\\nhousing[\\\"GarageCond\\\"] = housing[\\\"GarageCond\\\"].apply(lambda row: GQualCond[row])\\nhousing[\\\"GarageFinish\\\"] = housing[\\\"GarageFinish\\\"].apply(lambda row: GFin[row])\\nhousing[\\\"FireplaceQu\\\"] = housing[\\\"FireplaceQu\\\"].apply(lambda row: FireQual[row])\\nhousing[\\\"Fence\\\"] = housing[\\\"Fence\\\"].apply(lambda row: FenceQual[row])\\nhousing[\\\"ExterQual\\\"] = housing[\\\"ExterQual\\\"].apply(lambda row: ExQualCond[row])\\nhousing[\\\"ExterCond\\\"] = housing[\\\"ExterCond\\\"].apply(lambda row: ExQualCond[row])\\nhousing[\\\"HeatingQC\\\"] = housing[\\\"HeatingQC\\\"].apply(lambda row: ExQualCond[row])\\nhousing[\\\"KitchenQual\\\"] = housing[\\\"KitchenQual\\\"].apply(lambda row: ExQualCond[row])\";\n",
       "                var nbb_formatted_code = \"# Turning nominal columns to numeric with previous dictionary\\nhousing[\\\"BsmtExposure\\\"] = housing[\\\"BsmtExposure\\\"].apply(lambda row: BExposure[row])\\nhousing[\\\"BsmtFinType1\\\"] = housing[\\\"BsmtFinType1\\\"].apply(lambda row: BFinType[row])\\nhousing[\\\"BsmtFinType2\\\"] = housing[\\\"BsmtFinType2\\\"].apply(lambda row: BFinType[row])\\nhousing[\\\"BsmtQual\\\"] = housing[\\\"BsmtQual\\\"].apply(lambda row: BQualCond[row])\\nhousing[\\\"BsmtCond\\\"] = housing[\\\"BsmtCond\\\"].apply(lambda row: BQualCond[row])\\nhousing[\\\"GarageQual\\\"] = housing[\\\"GarageQual\\\"].apply(lambda row: GQualCond[row])\\nhousing[\\\"GarageCond\\\"] = housing[\\\"GarageCond\\\"].apply(lambda row: GQualCond[row])\\nhousing[\\\"GarageFinish\\\"] = housing[\\\"GarageFinish\\\"].apply(lambda row: GFin[row])\\nhousing[\\\"FireplaceQu\\\"] = housing[\\\"FireplaceQu\\\"].apply(lambda row: FireQual[row])\\nhousing[\\\"Fence\\\"] = housing[\\\"Fence\\\"].apply(lambda row: FenceQual[row])\\nhousing[\\\"ExterQual\\\"] = housing[\\\"ExterQual\\\"].apply(lambda row: ExQualCond[row])\\nhousing[\\\"ExterCond\\\"] = housing[\\\"ExterCond\\\"].apply(lambda row: ExQualCond[row])\\nhousing[\\\"HeatingQC\\\"] = housing[\\\"HeatingQC\\\"].apply(lambda row: ExQualCond[row])\\nhousing[\\\"KitchenQual\\\"] = housing[\\\"KitchenQual\\\"].apply(lambda row: ExQualCond[row])\";\n",
       "                var nbb_cells = Jupyter.notebook.get_cells();\n",
       "                for (var i = 0; i < nbb_cells.length; ++i) {\n",
       "                    if (nbb_cells[i].input_prompt_number == nbb_cell_id) {\n",
       "                        if (nbb_cells[i].get_text() == nbb_unformatted_code) {\n",
       "                             nbb_cells[i].set_text(nbb_formatted_code);\n",
       "                        }\n",
       "                        break;\n",
       "                    }\n",
       "                }\n",
       "            }, 500);\n",
       "            "
      ],
      "text/plain": [
       "<IPython.core.display.Javascript object>"
      ]
     },
     "metadata": {},
     "output_type": "display_data"
    }
   ],
   "source": [
    "# Turning nominal columns to numeric with previous dictionary\n",
    "housing[\"BsmtExposure\"] = housing[\"BsmtExposure\"].apply(lambda row: BExposure[row])\n",
    "housing[\"BsmtFinType1\"] = housing[\"BsmtFinType1\"].apply(lambda row: BFinType[row])\n",
    "housing[\"BsmtFinType2\"] = housing[\"BsmtFinType2\"].apply(lambda row: BFinType[row])\n",
    "housing[\"BsmtQual\"] = housing[\"BsmtQual\"].apply(lambda row: BQualCond[row])\n",
    "housing[\"BsmtCond\"] = housing[\"BsmtCond\"].apply(lambda row: BQualCond[row])\n",
    "housing[\"GarageQual\"] = housing[\"GarageQual\"].apply(lambda row: GQualCond[row])\n",
    "housing[\"GarageCond\"] = housing[\"GarageCond\"].apply(lambda row: GQualCond[row])\n",
    "housing[\"GarageFinish\"] = housing[\"GarageFinish\"].apply(lambda row: GFin[row])\n",
    "housing[\"FireplaceQu\"] = housing[\"FireplaceQu\"].apply(lambda row: FireQual[row])\n",
    "housing[\"Fence\"] = housing[\"Fence\"].apply(lambda row: FenceQual[row])\n",
    "housing[\"ExterQual\"] = housing[\"ExterQual\"].apply(lambda row: ExQualCond[row])\n",
    "housing[\"ExterCond\"] = housing[\"ExterCond\"].apply(lambda row: ExQualCond[row])\n",
    "housing[\"HeatingQC\"] = housing[\"HeatingQC\"].apply(lambda row: ExQualCond[row])\n",
    "housing[\"KitchenQual\"] = housing[\"KitchenQual\"].apply(lambda row: ExQualCond[row])"
   ]
  },
  {
   "cell_type": "markdown",
   "id": "a5520c48",
   "metadata": {},
   "source": [
    "## Feature engineering should be moved to other notebook"
   ]
  },
  {
   "cell_type": "code",
   "execution_count": 19,
   "id": "e2d05c2b",
   "metadata": {},
   "outputs": [
    {
     "data": {
      "application/javascript": [
       "\n",
       "            setTimeout(function() {\n",
       "                var nbb_cell_id = 19;\n",
       "                var nbb_unformatted_code = \"housing['TotalOutdoorSF'] = housing['WoodDeckSF'] + housing['TotalPorchSF']\";\n",
       "                var nbb_formatted_code = \"housing[\\\"TotalOutdoorSF\\\"] = housing[\\\"WoodDeckSF\\\"] + housing[\\\"TotalPorchSF\\\"]\";\n",
       "                var nbb_cells = Jupyter.notebook.get_cells();\n",
       "                for (var i = 0; i < nbb_cells.length; ++i) {\n",
       "                    if (nbb_cells[i].input_prompt_number == nbb_cell_id) {\n",
       "                        if (nbb_cells[i].get_text() == nbb_unformatted_code) {\n",
       "                             nbb_cells[i].set_text(nbb_formatted_code);\n",
       "                        }\n",
       "                        break;\n",
       "                    }\n",
       "                }\n",
       "            }, 500);\n",
       "            "
      ],
      "text/plain": [
       "<IPython.core.display.Javascript object>"
      ]
     },
     "metadata": {},
     "output_type": "display_data"
    }
   ],
   "source": [
    "# Creating a new feature of all outdoor SF\n",
    "housing[\"TotalOutdoorSF\"] = housing[\"WoodDeckSF\"] + housing[\"TotalPorchSF\"]"
   ]
  },
  {
   "cell_type": "code",
   "execution_count": 21,
   "id": "c1432176",
   "metadata": {},
   "outputs": [
    {
     "data": {
      "application/javascript": [
       "\n",
       "            setTimeout(function() {\n",
       "                var nbb_cell_id = 21;\n",
       "                var nbb_unformatted_code = \"housing.drop(\\n    [\\n       'WoodDeckSF', 'OpenPorchSF', 'EnclosedPorch', 'ScreenPorch','TotalPorchSF'\\n    ],\\n    axis=1,\\n    inplace=True,\\n)\";\n",
       "                var nbb_formatted_code = \"housing.drop(\\n    [\\\"WoodDeckSF\\\", \\\"OpenPorchSF\\\", \\\"EnclosedPorch\\\", \\\"ScreenPorch\\\", \\\"TotalPorchSF\\\"],\\n    axis=1,\\n    inplace=True,\\n)\";\n",
       "                var nbb_cells = Jupyter.notebook.get_cells();\n",
       "                for (var i = 0; i < nbb_cells.length; ++i) {\n",
       "                    if (nbb_cells[i].input_prompt_number == nbb_cell_id) {\n",
       "                        if (nbb_cells[i].get_text() == nbb_unformatted_code) {\n",
       "                             nbb_cells[i].set_text(nbb_formatted_code);\n",
       "                        }\n",
       "                        break;\n",
       "                    }\n",
       "                }\n",
       "            }, 500);\n",
       "            "
      ],
      "text/plain": [
       "<IPython.core.display.Javascript object>"
      ]
     },
     "metadata": {},
     "output_type": "display_data"
    }
   ],
   "source": [
    "# Dropping features used to create other features\n",
    "housing.drop(\n",
    "    [\"WoodDeckSF\", \"OpenPorchSF\", \"EnclosedPorch\", \"ScreenPorch\", \"TotalPorchSF\"],\n",
    "    axis=1,\n",
    "    inplace=True,\n",
    ")"
   ]
  },
  {
   "cell_type": "markdown",
   "id": "8409fd84",
   "metadata": {},
   "source": [
    "# Looking for Higly Correlated Columns #"
   ]
  },
  {
   "cell_type": "code",
   "execution_count": 23,
   "id": "e90bdb14",
   "metadata": {
    "scrolled": false
   },
   "outputs": [
    {
     "name": "stdout",
     "output_type": "stream",
     "text": [
      "- Age & YearBuilt: -0.9990187953011697\n",
      "- YearBuilt & Age: -0.9990187953011697\n",
      "- RemodAge & YearRemodAdd: -0.9979373392786269\n",
      "- YearRemodAdd & RemodAge: -0.9979373392786269\n",
      "- GarageCond & GarageYrBlt: 0.9430052130771328\n",
      "- GarageYrBlt & GarageCond: 0.9430052130771328\n",
      "- GarageQual & GarageCond: 0.9416339103102874\n",
      "- GarageCond & GarageQual: 0.9416339103102874\n",
      "- GarageQual & GarageYrBlt: 0.9367589577001315\n",
      "- GarageYrBlt & GarageQual: 0.9367589577001315\n",
      "- GarageArea & GarageCars: 0.8912204450237325\n",
      "- GarageCars & GarageArea: 0.8912204450237325\n",
      "- TotalSF & GrLivArea: 0.8663484828491583\n",
      "- GrLivArea & TotalSF: 0.8663484828491583\n",
      "- Fireplaces & FireplaceQu: 0.858974953102109\n",
      "- FireplaceQu & Fireplaces: 0.858974953102109\n",
      "- SalePrice & TotalSF: 0.8193539295384036\n",
      "- TotalSF & SalePrice: 0.8193539295384036\n",
      "- TotalBsmtSF & TotalSF: 0.8108202085042245\n",
      "- TotalSF & TotalBsmtSF: 0.8108202085042245\n",
      "- GrLivArea & TotRmsAbvGrd: 0.8066150649334259\n",
      "- TotRmsAbvGrd & GrLivArea: 0.8066150649334259\n",
      "- BsmtFinSF2 & BsmtFinType2: 0.8044119822833958\n",
      "- BsmtFinType2 & BsmtFinSF2: 0.8044119822833958\n",
      "- OverallQual & SalePrice: 0.7905058765051461\n",
      "- SalePrice & OverallQual: 0.7905058765051461\n",
      "- 1stFlrSF & TotalBsmtSF: 0.7888234584139528\n",
      "- TotalBsmtSF & 1stFlrSF: 0.7888234584139528\n",
      "- 1stFlrSF & TotalSF: 0.7778403581906675\n",
      "- TotalSF & 1stFlrSF: 0.7778403581906675\n",
      "- SalePrice & GrLivArea: 0.7197206293691185\n",
      "- GrLivArea & SalePrice: 0.7197206293691185\n",
      "- FullBath & TotalBath: 0.715880332033678\n",
      "- TotalBath & FullBath: 0.715880332033678\n",
      "- BsmtFinSF1 & BsmtFinType1: 0.7145783833237291\n",
      "- BsmtFinType1 & BsmtFinSF1: 0.7145783833237291\n",
      "- ExterQual & OverallQual: 0.7136966591877554\n",
      "- OverallQual & ExterQual: 0.7136966591877554\n"
     ]
    },
    {
     "data": {
      "application/javascript": [
       "\n",
       "            setTimeout(function() {\n",
       "                var nbb_cell_id = 23;\n",
       "                var nbb_unformatted_code = \"# Selecting only numeric columns from the DataFrame\\nnumeric_cols = housing.select_dtypes(include=np.number).columns\\n\\n# Compute the correlation matrix\\ncorr_matrix = housing[numeric_cols].corr()\\n\\n# Extract only highly correlated columns\\nthreshold = 0.7\\nhighly_correlated_cols = corr_matrix[abs(corr_matrix) > threshold].stack().reset_index()\\nhighly_correlated_cols = highly_correlated_cols[\\n    highly_correlated_cols[\\\"level_0\\\"] != highly_correlated_cols[\\\"level_1\\\"]\\n]\\nhighly_correlated_cols = highly_correlated_cols.rename(columns={0: \\\"correlation\\\"})\\nhighly_correlated_cols[\\\"abs_correlation\\\"] = highly_correlated_cols[\\\"correlation\\\"].abs()\\nhighly_correlated_cols = highly_correlated_cols.sort_values(\\n    \\\"abs_correlation\\\", ascending=False\\n)\\nhighly_correlated_cols = highly_correlated_cols.drop(\\\"abs_correlation\\\", axis=1)\\n\\n# Print highly correlated columns with correlation coefficients\\nfor idx, row in highly_correlated_cols.iterrows():\\n    col1 = row[\\\"level_0\\\"]\\n    col2 = row[\\\"level_1\\\"]\\n    corr = row[\\\"correlation\\\"]\\n    print(f\\\"- {col1} & {col2}: {corr}\\\")\";\n",
       "                var nbb_formatted_code = \"# Selecting only numeric columns from the DataFrame\\nnumeric_cols = housing.select_dtypes(include=np.number).columns\\n\\n# Compute the correlation matrix\\ncorr_matrix = housing[numeric_cols].corr()\\n\\n# Extract only highly correlated columns\\nthreshold = 0.7\\nhighly_correlated_cols = corr_matrix[abs(corr_matrix) > threshold].stack().reset_index()\\nhighly_correlated_cols = highly_correlated_cols[\\n    highly_correlated_cols[\\\"level_0\\\"] != highly_correlated_cols[\\\"level_1\\\"]\\n]\\nhighly_correlated_cols = highly_correlated_cols.rename(columns={0: \\\"correlation\\\"})\\nhighly_correlated_cols[\\\"abs_correlation\\\"] = highly_correlated_cols[\\\"correlation\\\"].abs()\\nhighly_correlated_cols = highly_correlated_cols.sort_values(\\n    \\\"abs_correlation\\\", ascending=False\\n)\\nhighly_correlated_cols = highly_correlated_cols.drop(\\\"abs_correlation\\\", axis=1)\\n\\n# Print highly correlated columns with correlation coefficients\\nfor idx, row in highly_correlated_cols.iterrows():\\n    col1 = row[\\\"level_0\\\"]\\n    col2 = row[\\\"level_1\\\"]\\n    corr = row[\\\"correlation\\\"]\\n    print(f\\\"- {col1} & {col2}: {corr}\\\")\";\n",
       "                var nbb_cells = Jupyter.notebook.get_cells();\n",
       "                for (var i = 0; i < nbb_cells.length; ++i) {\n",
       "                    if (nbb_cells[i].input_prompt_number == nbb_cell_id) {\n",
       "                        if (nbb_cells[i].get_text() == nbb_unformatted_code) {\n",
       "                             nbb_cells[i].set_text(nbb_formatted_code);\n",
       "                        }\n",
       "                        break;\n",
       "                    }\n",
       "                }\n",
       "            }, 500);\n",
       "            "
      ],
      "text/plain": [
       "<IPython.core.display.Javascript object>"
      ]
     },
     "metadata": {},
     "output_type": "display_data"
    }
   ],
   "source": [
    "# Selecting only numeric columns from the DataFrame\n",
    "numeric_cols = housing.select_dtypes(include=np.number).columns\n",
    "\n",
    "# Compute the correlation matrix\n",
    "corr_matrix = housing[numeric_cols].corr()\n",
    "\n",
    "# Extract only highly correlated columns\n",
    "threshold = 0.7\n",
    "highly_correlated_cols = corr_matrix[abs(corr_matrix) > threshold].stack().reset_index()\n",
    "highly_correlated_cols = highly_correlated_cols[\n",
    "    highly_correlated_cols[\"level_0\"] != highly_correlated_cols[\"level_1\"]\n",
    "]\n",
    "highly_correlated_cols = highly_correlated_cols.rename(columns={0: \"correlation\"})\n",
    "highly_correlated_cols[\"abs_correlation\"] = highly_correlated_cols[\"correlation\"].abs()\n",
    "highly_correlated_cols = highly_correlated_cols.sort_values(\n",
    "    \"abs_correlation\", ascending=False\n",
    ")\n",
    "highly_correlated_cols = highly_correlated_cols.drop(\"abs_correlation\", axis=1)\n",
    "\n",
    "# Print highly correlated columns with correlation coefficients\n",
    "for idx, row in highly_correlated_cols.iterrows():\n",
    "    col1 = row[\"level_0\"]\n",
    "    col2 = row[\"level_1\"]\n",
    "    corr = row[\"correlation\"]\n",
    "    print(f\"- {col1} & {col2}: {corr}\")"
   ]
  },
  {
   "cell_type": "code",
   "execution_count": null,
   "id": "0fbc6ac6",
   "metadata": {},
   "outputs": [],
   "source": [
    "\n",
    "\n",
    "# - Age & YearBuilt: -0.9990187953011697             Removing YearBuilt\n",
    "# - YearBuilt & Age: -0.9990187953011697\n",
    "# - RemodAge & YearRemodAdd: -0.9979373392786269     Removing YearRemodAdd\n",
    "# - YearRemodAdd & RemodAge: -0.9979373392786269 \n",
    "# - GarageCond & GarageYrBlt: 0.9430052130771328     Removing GarageYrBlt\n",
    "# - GarageYrBlt & GarageCond: 0.9430052130771328\n",
    "# - GarageQual & GarageCond: 0.9416339103102874      Removing GarageCond\n",
    "# - GarageCond & GarageQual: 0.9416339103102874\n",
    "# - GarageQual & GarageYrBlt: 0.9367589577001315\n",
    "# - GarageYrBlt & GarageQual: 0.9367589577001315\n",
    "# - GarageArea & GarageCars: 0.8912204450237325      Removing GarageArea\n",
    "# - GarageCars & GarageArea: 0.8912204450237325\n",
    "# - TotalSF & GrLivArea: 0.8663484828491583          Removing GrLivArea\n",
    "# - GrLivArea & TotalSF: 0.8663484828491583\n",
    "# - Fireplaces & FireplaceQu: 0.858974953102109      Removing FireplaceQu\n",
    "# - FireplaceQu & Fireplaces: 0.858974953102109\n",
    "# - SalePrice & TotalSF: 0.8193539295384036\n",
    "# - TotalSF & SalePrice: 0.8193539295384036\n",
    "# - TotalBsmtSF & TotalSF: 0.8108202085042245        Removing TotalBsmtSF\n",
    "# - TotalSF & TotalBsmtSF: 0.8108202085042245\n",
    "# - GrLivArea & TotRmsAbvGrd: 0.8066150649334259   \n",
    "# - TotRmsAbvGrd & GrLivArea: 0.8066150649334259\n",
    "# - BsmtFinSF2 & BsmtFinType2: 0.8044119822833958    Removing BsmtFinType2\n",
    "# - BsmtFinType2 & BsmtFinSF2: 0.8044119822833958\n",
    "# - OverallQual & SalePrice: 0.7905058765051461\n",
    "# - SalePrice & OverallQual: 0.7905058765051461\n",
    "# - 1stFlrSF & TotalBsmtSF: 0.7888234584139528     \n",
    "# - TotalBsmtSF & 1stFlrSF: 0.7888234584139528\n",
    "# - 1stFlrSF & TotalSF: 0.7778403581906675           Removing 1stFlrSF\n",
    "# - TotalSF & 1stFlrSF: 0.7778403581906675\n",
    "# - SalePrice & GrLivArea: 0.7197206293691185\n",
    "# - GrLivArea & SalePrice: 0.7197206293691185\n",
    "# - FullBath & TotalBath: 0.715880332033678          Removing FullBath  \n",
    "# - TotalBath & FullBath: 0.715880332033678\n",
    "# - BsmtFinSF1 & BsmtFinType1: 0.7145783833237291    Removing BsmtFinType1\n",
    "# - BsmtFinType1 & BsmtFinSF1: 0.7145783833237291\n",
    "# - ExterQual & OverallQual: 0.7136966591877554      Removing ExterQual\n",
    "# - OverallQual & ExterQual: 0.7136966591877554"
   ]
  },
  {
   "cell_type": "code",
   "execution_count": 24,
   "id": "35a03fe4",
   "metadata": {},
   "outputs": [
    {
     "data": {
      "application/javascript": [
       "\n",
       "            setTimeout(function() {\n",
       "                var nbb_cell_id = 24;\n",
       "                var nbb_unformatted_code = \"# Dropping variables from above and also dropping variables that were used to create other features\\n# such as 2ndFlrSF which is included in TotalSF also WoodDeckSF, OpenPorchSF, EnclosedPorch, ScreenPorch used to \\n# create \\nhousing.drop(\\n    [\\n        \\\"YearBuilt\\\",\\n        \\\"2ndFlrSF\\\",\\n        \\\"YearRemodAdd\\\",\\n        \\\"GarageYrBlt\\\",\\n        \\\"GarageCond\\\",\\n        \\\"GarageArea\\\",\\n        \\\"GrLivArea\\\",\\n        \\\"FireplaceQu\\\",\\n        \\\"TotalBsmtSF\\\",\\n        \\\"BsmtFinType2\\\",\\n        \\\"1stFlrSF\\\",\\n        \\\"FullBath\\\",\\n        \\\"BsmtFinType1\\\",\\n        \\\"ExterQual\\\",\\n    ],\\n    axis=1,\\n    inplace=True,\\n)\";\n",
       "                var nbb_formatted_code = \"# Dropping variables from above and also dropping variables that were used to create other features\\n# such as 2ndFlrSF which is included in TotalSF also WoodDeckSF, OpenPorchSF, EnclosedPorch, ScreenPorch used to\\n# create\\nhousing.drop(\\n    [\\n        \\\"YearBuilt\\\",\\n        \\\"2ndFlrSF\\\",\\n        \\\"YearRemodAdd\\\",\\n        \\\"GarageYrBlt\\\",\\n        \\\"GarageCond\\\",\\n        \\\"GarageArea\\\",\\n        \\\"GrLivArea\\\",\\n        \\\"FireplaceQu\\\",\\n        \\\"TotalBsmtSF\\\",\\n        \\\"BsmtFinType2\\\",\\n        \\\"1stFlrSF\\\",\\n        \\\"FullBath\\\",\\n        \\\"BsmtFinType1\\\",\\n        \\\"ExterQual\\\",\\n    ],\\n    axis=1,\\n    inplace=True,\\n)\";\n",
       "                var nbb_cells = Jupyter.notebook.get_cells();\n",
       "                for (var i = 0; i < nbb_cells.length; ++i) {\n",
       "                    if (nbb_cells[i].input_prompt_number == nbb_cell_id) {\n",
       "                        if (nbb_cells[i].get_text() == nbb_unformatted_code) {\n",
       "                             nbb_cells[i].set_text(nbb_formatted_code);\n",
       "                        }\n",
       "                        break;\n",
       "                    }\n",
       "                }\n",
       "            }, 500);\n",
       "            "
      ],
      "text/plain": [
       "<IPython.core.display.Javascript object>"
      ]
     },
     "metadata": {},
     "output_type": "display_data"
    }
   ],
   "source": [
    "# Dropping variables from above and also dropping variables that were used to create other features\n",
    "# such as 2ndFlrSF which is included in TotalSF also WoodDeckSF, OpenPorchSF, EnclosedPorch, ScreenPorch used to\n",
    "# create\n",
    "housing.drop(\n",
    "    [\n",
    "        \"YearBuilt\",\n",
    "        \"2ndFlrSF\",\n",
    "        \"YearRemodAdd\",\n",
    "        \"GarageYrBlt\",\n",
    "        \"GarageCond\",\n",
    "        \"GarageArea\",\n",
    "        \"GrLivArea\",\n",
    "        \"FireplaceQu\",\n",
    "        \"TotalBsmtSF\",\n",
    "        \"BsmtFinType2\",\n",
    "        \"1stFlrSF\",\n",
    "        \"FullBath\",\n",
    "        \"BsmtFinType1\",\n",
    "        \"ExterQual\",\n",
    "    ],\n",
    "    axis=1,\n",
    "    inplace=True,\n",
    ")"
   ]
  },
  {
   "cell_type": "markdown",
   "id": "8e695dde",
   "metadata": {},
   "source": [
    "### Making Sure They Were All Removed ###"
   ]
  },
  {
   "cell_type": "code",
   "execution_count": 26,
   "id": "b985fbc3",
   "metadata": {},
   "outputs": [
    {
     "name": "stdout",
     "output_type": "stream",
     "text": [
      "- SalePrice & TotalSF: 0.8193539295384036\n",
      "- TotalSF & SalePrice: 0.8193539295384036\n",
      "- SalePrice & OverallQual: 0.7905058765051461\n",
      "- OverallQual & SalePrice: 0.7905058765051461\n"
     ]
    },
    {
     "data": {
      "application/javascript": [
       "\n",
       "            setTimeout(function() {\n",
       "                var nbb_cell_id = 26;\n",
       "                var nbb_unformatted_code = \"# Select only numeric columns from the DataFrame\\nnumeric_cols = housing.select_dtypes(include=np.number).columns\\n\\n# Compute the correlation matrix\\ncorr_matrix = housing[numeric_cols].corr()\\n\\n# Extract only highly correlated columns\\nthreshold = 0.7\\nhighly_correlated_cols = corr_matrix[abs(corr_matrix) > threshold].stack().reset_index()\\nhighly_correlated_cols = highly_correlated_cols[\\n    highly_correlated_cols[\\\"level_0\\\"] != highly_correlated_cols[\\\"level_1\\\"]\\n]\\nhighly_correlated_cols = highly_correlated_cols.rename(columns={0: \\\"correlation\\\"})\\nhighly_correlated_cols[\\\"abs_correlation\\\"] = highly_correlated_cols[\\\"correlation\\\"].abs()\\nhighly_correlated_cols = highly_correlated_cols.sort_values(\\n    \\\"abs_correlation\\\", ascending=False\\n)\\nhighly_correlated_cols = highly_correlated_cols.drop(\\\"abs_correlation\\\", axis=1)\\n\\n# Print highly correlated columns with correlation coefficients\\nfor idx, row in highly_correlated_cols.iterrows():\\n    col1 = row[\\\"level_0\\\"]\\n    col2 = row[\\\"level_1\\\"]\\n    corr = row[\\\"correlation\\\"]\\n    print(f\\\"- {col1} & {col2}: {corr}\\\")\";\n",
       "                var nbb_formatted_code = \"# Select only numeric columns from the DataFrame\\nnumeric_cols = housing.select_dtypes(include=np.number).columns\\n\\n# Compute the correlation matrix\\ncorr_matrix = housing[numeric_cols].corr()\\n\\n# Extract only highly correlated columns\\nthreshold = 0.7\\nhighly_correlated_cols = corr_matrix[abs(corr_matrix) > threshold].stack().reset_index()\\nhighly_correlated_cols = highly_correlated_cols[\\n    highly_correlated_cols[\\\"level_0\\\"] != highly_correlated_cols[\\\"level_1\\\"]\\n]\\nhighly_correlated_cols = highly_correlated_cols.rename(columns={0: \\\"correlation\\\"})\\nhighly_correlated_cols[\\\"abs_correlation\\\"] = highly_correlated_cols[\\\"correlation\\\"].abs()\\nhighly_correlated_cols = highly_correlated_cols.sort_values(\\n    \\\"abs_correlation\\\", ascending=False\\n)\\nhighly_correlated_cols = highly_correlated_cols.drop(\\\"abs_correlation\\\", axis=1)\\n\\n# Print highly correlated columns with correlation coefficients\\nfor idx, row in highly_correlated_cols.iterrows():\\n    col1 = row[\\\"level_0\\\"]\\n    col2 = row[\\\"level_1\\\"]\\n    corr = row[\\\"correlation\\\"]\\n    print(f\\\"- {col1} & {col2}: {corr}\\\")\";\n",
       "                var nbb_cells = Jupyter.notebook.get_cells();\n",
       "                for (var i = 0; i < nbb_cells.length; ++i) {\n",
       "                    if (nbb_cells[i].input_prompt_number == nbb_cell_id) {\n",
       "                        if (nbb_cells[i].get_text() == nbb_unformatted_code) {\n",
       "                             nbb_cells[i].set_text(nbb_formatted_code);\n",
       "                        }\n",
       "                        break;\n",
       "                    }\n",
       "                }\n",
       "            }, 500);\n",
       "            "
      ],
      "text/plain": [
       "<IPython.core.display.Javascript object>"
      ]
     },
     "metadata": {},
     "output_type": "display_data"
    }
   ],
   "source": [
    "# Select only numeric columns from the DataFrame\n",
    "numeric_cols = housing.select_dtypes(include=np.number).columns\n",
    "\n",
    "# Compute the correlation matrix\n",
    "corr_matrix = housing[numeric_cols].corr()\n",
    "\n",
    "# Extract only highly correlated columns\n",
    "threshold = 0.7\n",
    "highly_correlated_cols = corr_matrix[abs(corr_matrix) > threshold].stack().reset_index()\n",
    "highly_correlated_cols = highly_correlated_cols[\n",
    "    highly_correlated_cols[\"level_0\"] != highly_correlated_cols[\"level_1\"]\n",
    "]\n",
    "highly_correlated_cols = highly_correlated_cols.rename(columns={0: \"correlation\"})\n",
    "highly_correlated_cols[\"abs_correlation\"] = highly_correlated_cols[\"correlation\"].abs()\n",
    "highly_correlated_cols = highly_correlated_cols.sort_values(\n",
    "    \"abs_correlation\", ascending=False\n",
    ")\n",
    "highly_correlated_cols = highly_correlated_cols.drop(\"abs_correlation\", axis=1)\n",
    "\n",
    "# Print highly correlated columns with correlation coefficients\n",
    "for idx, row in highly_correlated_cols.iterrows():\n",
    "    col1 = row[\"level_0\"]\n",
    "    col2 = row[\"level_1\"]\n",
    "    corr = row[\"correlation\"]\n",
    "    print(f\"- {col1} & {col2}: {corr}\")"
   ]
  },
  {
   "cell_type": "code",
   "execution_count": 27,
   "id": "54d87669",
   "metadata": {},
   "outputs": [
    {
     "data": {
      "application/javascript": [
       "\n",
       "            setTimeout(function() {\n",
       "                var nbb_cell_id = 27;\n",
       "                var nbb_unformatted_code = \"# Saving CSV\\nhousing.to_csv(\\\"../data/housing_corr.csv\\\", index=False)\";\n",
       "                var nbb_formatted_code = \"# Saving CSV\\nhousing.to_csv(\\\"../data/housing_corr.csv\\\", index=False)\";\n",
       "                var nbb_cells = Jupyter.notebook.get_cells();\n",
       "                for (var i = 0; i < nbb_cells.length; ++i) {\n",
       "                    if (nbb_cells[i].input_prompt_number == nbb_cell_id) {\n",
       "                        if (nbb_cells[i].get_text() == nbb_unformatted_code) {\n",
       "                             nbb_cells[i].set_text(nbb_formatted_code);\n",
       "                        }\n",
       "                        break;\n",
       "                    }\n",
       "                }\n",
       "            }, 500);\n",
       "            "
      ],
      "text/plain": [
       "<IPython.core.display.Javascript object>"
      ]
     },
     "metadata": {},
     "output_type": "display_data"
    }
   ],
   "source": [
    "# Saving CSV\n",
    "housing.to_csv(\"../data/housing_corr.csv\", index=False)"
   ]
  },
  {
   "cell_type": "code",
   "execution_count": null,
   "id": "b3f8a393",
   "metadata": {},
   "outputs": [],
   "source": []
  }
 ],
 "metadata": {
  "kernelspec": {
   "display_name": "Python 3 (ipykernel)",
   "language": "python",
   "name": "python3"
  },
  "language_info": {
   "codemirror_mode": {
    "name": "ipython",
    "version": 3
   },
   "file_extension": ".py",
   "mimetype": "text/x-python",
   "name": "python",
   "nbconvert_exporter": "python",
   "pygments_lexer": "ipython3",
   "version": "3.9.12"
  }
 },
 "nbformat": 4,
 "nbformat_minor": 5
}
