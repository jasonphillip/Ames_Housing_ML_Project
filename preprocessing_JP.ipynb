{
 "cells": [
  {
   "cell_type": "code",
   "execution_count": 1,
   "id": "881f9765",
   "metadata": {},
   "outputs": [
    {
     "data": {
      "application/javascript": [
       "\n",
       "            setTimeout(function() {\n",
       "                var nbb_cell_id = 1;\n",
       "                var nbb_unformatted_code = \"import numpy as np\\nimport pandas as pd\\n%matplotlib inline \\nimport geopy\\nfrom geopy import Nominatim\\nfrom geopy.extra.rate_limiter import RateLimiter\\n\\n%load_ext nb_black \";\n",
       "                var nbb_formatted_code = \"import numpy as np\\nimport pandas as pd\\n\\n%matplotlib inline\\nimport geopy\\nfrom geopy import Nominatim\\nfrom geopy.extra.rate_limiter import RateLimiter\\n\\n%load_ext nb_black\";\n",
       "                var nbb_cells = Jupyter.notebook.get_cells();\n",
       "                for (var i = 0; i < nbb_cells.length; ++i) {\n",
       "                    if (nbb_cells[i].input_prompt_number == nbb_cell_id) {\n",
       "                        if (nbb_cells[i].get_text() == nbb_unformatted_code) {\n",
       "                             nbb_cells[i].set_text(nbb_formatted_code);\n",
       "                        }\n",
       "                        break;\n",
       "                    }\n",
       "                }\n",
       "            }, 500);\n",
       "            "
      ],
      "text/plain": [
       "<IPython.core.display.Javascript object>"
      ]
     },
     "metadata": {},
     "output_type": "display_data"
    }
   ],
   "source": [
    "import numpy as np\n",
    "import pandas as pd\n",
    "%matplotlib inline \n",
    "import geopy\n",
    "from geopy import Nominatim\n",
    "from geopy.extra.rate_limiter import RateLimiter\n",
    "\n",
    "# the below extension properly formats a cell after it is run\n",
    "%load_ext nb_black \n"
   ]
  },
  {
   "cell_type": "code",
   "execution_count": 2,
   "id": "32a4c9fa",
   "metadata": {},
   "outputs": [
    {
     "data": {
      "text/plain": [
       "(2580, 81)"
      ]
     },
     "execution_count": 2,
     "metadata": {},
     "output_type": "execute_result"
    },
    {
     "data": {
      "application/javascript": [
       "\n",
       "            setTimeout(function() {\n",
       "                var nbb_cell_id = 2;\n",
       "                var nbb_unformatted_code = \"housing = pd.read_csv('data/Ames_Housing_Price_Data.csv', index_col=0)\\nhousing.shape\";\n",
       "                var nbb_formatted_code = \"housing = pd.read_csv(\\\"data/Ames_Housing_Price_Data.csv\\\", index_col=0)\\nhousing.shape\";\n",
       "                var nbb_cells = Jupyter.notebook.get_cells();\n",
       "                for (var i = 0; i < nbb_cells.length; ++i) {\n",
       "                    if (nbb_cells[i].input_prompt_number == nbb_cell_id) {\n",
       "                        if (nbb_cells[i].get_text() == nbb_unformatted_code) {\n",
       "                             nbb_cells[i].set_text(nbb_formatted_code);\n",
       "                        }\n",
       "                        break;\n",
       "                    }\n",
       "                }\n",
       "            }, 500);\n",
       "            "
      ],
      "text/plain": [
       "<IPython.core.display.Javascript object>"
      ]
     },
     "metadata": {},
     "output_type": "display_data"
    }
   ],
   "source": [
    "housing = pd.read_csv('data/Ames_Housing_Price_Data.csv', index_col=0)\n",
    "housing.shape\n"
   ]
  },
  {
   "cell_type": "code",
   "execution_count": 3,
   "id": "732f2a8a",
   "metadata": {},
   "outputs": [
    {
     "name": "stderr",
     "output_type": "stream",
     "text": [
      "/var/folders/37/_6bzmbwj16q021_3f7fq4yv40000gp/T/ipykernel_3429/2273310457.py:1: DtypeWarning: Columns (36,40,81,87) have mixed types. Specify dtype option on import or set low_memory=False.\n",
      "  real_estate = pd.read_csv(\"data/Ames_Real_Estate_Data.csv\", index_col=0)\n"
     ]
    },
    {
     "data": {
      "text/plain": [
       "(22213, 90)"
      ]
     },
     "execution_count": 3,
     "metadata": {},
     "output_type": "execute_result"
    },
    {
     "data": {
      "application/javascript": [
       "\n",
       "            setTimeout(function() {\n",
       "                var nbb_cell_id = 3;\n",
       "                var nbb_unformatted_code = \"real_estate = pd.read_csv(\\\"data/Ames_Real_Estate_Data.csv\\\", index_col=0)\\nreal_estate.shape\";\n",
       "                var nbb_formatted_code = \"real_estate = pd.read_csv(\\\"data/Ames_Real_Estate_Data.csv\\\", index_col=0)\\nreal_estate.shape\";\n",
       "                var nbb_cells = Jupyter.notebook.get_cells();\n",
       "                for (var i = 0; i < nbb_cells.length; ++i) {\n",
       "                    if (nbb_cells[i].input_prompt_number == nbb_cell_id) {\n",
       "                        if (nbb_cells[i].get_text() == nbb_unformatted_code) {\n",
       "                             nbb_cells[i].set_text(nbb_formatted_code);\n",
       "                        }\n",
       "                        break;\n",
       "                    }\n",
       "                }\n",
       "            }, 500);\n",
       "            "
      ],
      "text/plain": [
       "<IPython.core.display.Javascript object>"
      ]
     },
     "metadata": {},
     "output_type": "display_data"
    }
   ],
   "source": [
    "real_estate = pd.read_csv(\"data/Ames_Real_Estate_Data.csv\", index_col=0)\n",
    "real_estate.shape"
   ]
  },
  {
   "cell_type": "code",
   "execution_count": 4,
   "id": "dbd54ddd",
   "metadata": {},
   "outputs": [
    {
     "data": {
      "text/html": [
       "<div>\n",
       "<style scoped>\n",
       "    .dataframe tbody tr th:only-of-type {\n",
       "        vertical-align: middle;\n",
       "    }\n",
       "\n",
       "    .dataframe tbody tr th {\n",
       "        vertical-align: top;\n",
       "    }\n",
       "\n",
       "    .dataframe thead th {\n",
       "        text-align: right;\n",
       "    }\n",
       "</style>\n",
       "<table border=\"1\" class=\"dataframe\">\n",
       "  <thead>\n",
       "    <tr style=\"text-align: right;\">\n",
       "      <th></th>\n",
       "      <th>PID</th>\n",
       "      <th>GrLivArea</th>\n",
       "      <th>SalePrice</th>\n",
       "      <th>MSSubClass</th>\n",
       "      <th>MSZoning</th>\n",
       "      <th>LotFrontage</th>\n",
       "      <th>LotArea</th>\n",
       "      <th>Street</th>\n",
       "      <th>Alley</th>\n",
       "      <th>LotShape</th>\n",
       "      <th>...</th>\n",
       "      <th>ScreenPorch</th>\n",
       "      <th>PoolArea</th>\n",
       "      <th>PoolQC</th>\n",
       "      <th>Fence</th>\n",
       "      <th>MiscFeature</th>\n",
       "      <th>MiscVal</th>\n",
       "      <th>MoSold</th>\n",
       "      <th>YrSold</th>\n",
       "      <th>SaleType</th>\n",
       "      <th>SaleCondition</th>\n",
       "    </tr>\n",
       "  </thead>\n",
       "  <tbody>\n",
       "    <tr>\n",
       "      <th>1</th>\n",
       "      <td>909176150</td>\n",
       "      <td>856</td>\n",
       "      <td>126000</td>\n",
       "      <td>30</td>\n",
       "      <td>RL</td>\n",
       "      <td>NaN</td>\n",
       "      <td>7890</td>\n",
       "      <td>Pave</td>\n",
       "      <td>NaN</td>\n",
       "      <td>Reg</td>\n",
       "      <td>...</td>\n",
       "      <td>166</td>\n",
       "      <td>0</td>\n",
       "      <td>NaN</td>\n",
       "      <td>NaN</td>\n",
       "      <td>NaN</td>\n",
       "      <td>0</td>\n",
       "      <td>3</td>\n",
       "      <td>2010</td>\n",
       "      <td>WD</td>\n",
       "      <td>Normal</td>\n",
       "    </tr>\n",
       "    <tr>\n",
       "      <th>2</th>\n",
       "      <td>905476230</td>\n",
       "      <td>1049</td>\n",
       "      <td>139500</td>\n",
       "      <td>120</td>\n",
       "      <td>RL</td>\n",
       "      <td>42.0</td>\n",
       "      <td>4235</td>\n",
       "      <td>Pave</td>\n",
       "      <td>NaN</td>\n",
       "      <td>Reg</td>\n",
       "      <td>...</td>\n",
       "      <td>0</td>\n",
       "      <td>0</td>\n",
       "      <td>NaN</td>\n",
       "      <td>NaN</td>\n",
       "      <td>NaN</td>\n",
       "      <td>0</td>\n",
       "      <td>2</td>\n",
       "      <td>2009</td>\n",
       "      <td>WD</td>\n",
       "      <td>Normal</td>\n",
       "    </tr>\n",
       "    <tr>\n",
       "      <th>3</th>\n",
       "      <td>911128020</td>\n",
       "      <td>1001</td>\n",
       "      <td>124900</td>\n",
       "      <td>30</td>\n",
       "      <td>C (all)</td>\n",
       "      <td>60.0</td>\n",
       "      <td>6060</td>\n",
       "      <td>Pave</td>\n",
       "      <td>NaN</td>\n",
       "      <td>Reg</td>\n",
       "      <td>...</td>\n",
       "      <td>0</td>\n",
       "      <td>0</td>\n",
       "      <td>NaN</td>\n",
       "      <td>NaN</td>\n",
       "      <td>NaN</td>\n",
       "      <td>0</td>\n",
       "      <td>11</td>\n",
       "      <td>2007</td>\n",
       "      <td>WD</td>\n",
       "      <td>Normal</td>\n",
       "    </tr>\n",
       "    <tr>\n",
       "      <th>4</th>\n",
       "      <td>535377150</td>\n",
       "      <td>1039</td>\n",
       "      <td>114000</td>\n",
       "      <td>70</td>\n",
       "      <td>RL</td>\n",
       "      <td>80.0</td>\n",
       "      <td>8146</td>\n",
       "      <td>Pave</td>\n",
       "      <td>NaN</td>\n",
       "      <td>Reg</td>\n",
       "      <td>...</td>\n",
       "      <td>111</td>\n",
       "      <td>0</td>\n",
       "      <td>NaN</td>\n",
       "      <td>NaN</td>\n",
       "      <td>NaN</td>\n",
       "      <td>0</td>\n",
       "      <td>5</td>\n",
       "      <td>2009</td>\n",
       "      <td>WD</td>\n",
       "      <td>Normal</td>\n",
       "    </tr>\n",
       "    <tr>\n",
       "      <th>5</th>\n",
       "      <td>534177230</td>\n",
       "      <td>1665</td>\n",
       "      <td>227000</td>\n",
       "      <td>60</td>\n",
       "      <td>RL</td>\n",
       "      <td>70.0</td>\n",
       "      <td>8400</td>\n",
       "      <td>Pave</td>\n",
       "      <td>NaN</td>\n",
       "      <td>Reg</td>\n",
       "      <td>...</td>\n",
       "      <td>0</td>\n",
       "      <td>0</td>\n",
       "      <td>NaN</td>\n",
       "      <td>NaN</td>\n",
       "      <td>NaN</td>\n",
       "      <td>0</td>\n",
       "      <td>11</td>\n",
       "      <td>2009</td>\n",
       "      <td>WD</td>\n",
       "      <td>Normal</td>\n",
       "    </tr>\n",
       "  </tbody>\n",
       "</table>\n",
       "<p>5 rows × 81 columns</p>\n",
       "</div>"
      ],
      "text/plain": [
       "         PID  GrLivArea  SalePrice  MSSubClass MSZoning  LotFrontage  LotArea  \\\n",
       "1  909176150        856     126000          30       RL          NaN     7890   \n",
       "2  905476230       1049     139500         120       RL         42.0     4235   \n",
       "3  911128020       1001     124900          30  C (all)         60.0     6060   \n",
       "4  535377150       1039     114000          70       RL         80.0     8146   \n",
       "5  534177230       1665     227000          60       RL         70.0     8400   \n",
       "\n",
       "  Street Alley LotShape  ... ScreenPorch PoolArea PoolQC Fence MiscFeature  \\\n",
       "1   Pave   NaN      Reg  ...         166        0    NaN   NaN         NaN   \n",
       "2   Pave   NaN      Reg  ...           0        0    NaN   NaN         NaN   \n",
       "3   Pave   NaN      Reg  ...           0        0    NaN   NaN         NaN   \n",
       "4   Pave   NaN      Reg  ...         111        0    NaN   NaN         NaN   \n",
       "5   Pave   NaN      Reg  ...           0        0    NaN   NaN         NaN   \n",
       "\n",
       "  MiscVal MoSold YrSold SaleType  SaleCondition  \n",
       "1       0      3   2010      WD          Normal  \n",
       "2       0      2   2009      WD          Normal  \n",
       "3       0     11   2007      WD          Normal  \n",
       "4       0      5   2009      WD          Normal  \n",
       "5       0     11   2009      WD          Normal  \n",
       "\n",
       "[5 rows x 81 columns]"
      ]
     },
     "execution_count": 4,
     "metadata": {},
     "output_type": "execute_result"
    },
    {
     "data": {
      "application/javascript": [
       "\n",
       "            setTimeout(function() {\n",
       "                var nbb_cell_id = 4;\n",
       "                var nbb_unformatted_code = \"housing.head()\";\n",
       "                var nbb_formatted_code = \"housing.head()\";\n",
       "                var nbb_cells = Jupyter.notebook.get_cells();\n",
       "                for (var i = 0; i < nbb_cells.length; ++i) {\n",
       "                    if (nbb_cells[i].input_prompt_number == nbb_cell_id) {\n",
       "                        if (nbb_cells[i].get_text() == nbb_unformatted_code) {\n",
       "                             nbb_cells[i].set_text(nbb_formatted_code);\n",
       "                        }\n",
       "                        break;\n",
       "                    }\n",
       "                }\n",
       "            }, 500);\n",
       "            "
      ],
      "text/plain": [
       "<IPython.core.display.Javascript object>"
      ]
     },
     "metadata": {},
     "output_type": "display_data"
    }
   ],
   "source": [
    "housing.head()"
   ]
  },
  {
   "cell_type": "code",
   "execution_count": 5,
   "id": "e0e29344",
   "metadata": {},
   "outputs": [
    {
     "data": {
      "text/html": [
       "<div>\n",
       "<style scoped>\n",
       "    .dataframe tbody tr th:only-of-type {\n",
       "        vertical-align: middle;\n",
       "    }\n",
       "\n",
       "    .dataframe tbody tr th {\n",
       "        vertical-align: top;\n",
       "    }\n",
       "\n",
       "    .dataframe thead th {\n",
       "        text-align: right;\n",
       "    }\n",
       "</style>\n",
       "<table border=\"1\" class=\"dataframe\">\n",
       "  <thead>\n",
       "    <tr style=\"text-align: right;\">\n",
       "      <th></th>\n",
       "      <th>GeoRefNo</th>\n",
       "      <th>Tier</th>\n",
       "      <th>Range</th>\n",
       "      <th>Prop_Addr</th>\n",
       "      <th>ZngCdPr</th>\n",
       "      <th>ZngCdSc</th>\n",
       "      <th>ZngOLPr</th>\n",
       "      <th>ZngOLSc</th>\n",
       "      <th>ClassPr_S</th>\n",
       "      <th>ClassSc_S</th>\n",
       "      <th>...</th>\n",
       "      <th>PA-Nmbr</th>\n",
       "      <th>PA-PreD</th>\n",
       "      <th>PA-Strt</th>\n",
       "      <th>PA-StSfx</th>\n",
       "      <th>PA-PostD</th>\n",
       "      <th>PA-UnTyp</th>\n",
       "      <th>PA-UntNo</th>\n",
       "      <th>Date</th>\n",
       "      <th>Source</th>\n",
       "      <th>NmbrBRs</th>\n",
       "    </tr>\n",
       "    <tr>\n",
       "      <th>MapRefNo</th>\n",
       "      <th></th>\n",
       "      <th></th>\n",
       "      <th></th>\n",
       "      <th></th>\n",
       "      <th></th>\n",
       "      <th></th>\n",
       "      <th></th>\n",
       "      <th></th>\n",
       "      <th></th>\n",
       "      <th></th>\n",
       "      <th></th>\n",
       "      <th></th>\n",
       "      <th></th>\n",
       "      <th></th>\n",
       "      <th></th>\n",
       "      <th></th>\n",
       "      <th></th>\n",
       "      <th></th>\n",
       "      <th></th>\n",
       "      <th></th>\n",
       "      <th></th>\n",
       "    </tr>\n",
       "  </thead>\n",
       "  <tbody>\n",
       "    <tr>\n",
       "      <th>520400001</th>\n",
       "      <td>520400001</td>\n",
       "      <td>0</td>\n",
       "      <td>0</td>\n",
       "      <td>4599 GEORGE W CARVER AVE</td>\n",
       "      <td>FS-RL</td>\n",
       "      <td>NaN</td>\n",
       "      <td>NaN</td>\n",
       "      <td>NaN</td>\n",
       "      <td>RESIDENTIAL</td>\n",
       "      <td>VACANT LAND - IMPROVED OR UNIMPROVED</td>\n",
       "      <td>...</td>\n",
       "      <td>4599.0</td>\n",
       "      <td>NaN</td>\n",
       "      <td>GEORGE W CARVER</td>\n",
       "      <td>AVE</td>\n",
       "      <td>NaN</td>\n",
       "      <td>NaN</td>\n",
       "      <td>NaN</td>\n",
       "      <td>10-Jul-20</td>\n",
       "      <td>Ames City Assessor</td>\n",
       "      <td>NaN</td>\n",
       "    </tr>\n",
       "    <tr>\n",
       "      <th>520440010</th>\n",
       "      <td>520440010</td>\n",
       "      <td>0</td>\n",
       "      <td>0</td>\n",
       "      <td>4507 EVEREST  AVE</td>\n",
       "      <td>FS-RL</td>\n",
       "      <td>NaN</td>\n",
       "      <td>NaN</td>\n",
       "      <td>NaN</td>\n",
       "      <td>RESIDENTIAL</td>\n",
       "      <td>VACANT LAND - IMPROVED OR UNIMPROVED</td>\n",
       "      <td>...</td>\n",
       "      <td>4507.0</td>\n",
       "      <td>NaN</td>\n",
       "      <td>EVEREST</td>\n",
       "      <td>AVE</td>\n",
       "      <td>NaN</td>\n",
       "      <td>NaN</td>\n",
       "      <td>NaN</td>\n",
       "      <td>10-Jul-20</td>\n",
       "      <td>Ames City Assessor</td>\n",
       "      <td>NaN</td>\n",
       "    </tr>\n",
       "    <tr>\n",
       "      <th>520440020</th>\n",
       "      <td>520440020</td>\n",
       "      <td>0</td>\n",
       "      <td>0</td>\n",
       "      <td>4513 EVEREST  AVE</td>\n",
       "      <td>FS-RL</td>\n",
       "      <td>NaN</td>\n",
       "      <td>NaN</td>\n",
       "      <td>NaN</td>\n",
       "      <td>RESIDENTIAL</td>\n",
       "      <td>VACANT LAND - IMPROVED OR UNIMPROVED</td>\n",
       "      <td>...</td>\n",
       "      <td>4513.0</td>\n",
       "      <td>NaN</td>\n",
       "      <td>EVEREST</td>\n",
       "      <td>AVE</td>\n",
       "      <td>NaN</td>\n",
       "      <td>NaN</td>\n",
       "      <td>NaN</td>\n",
       "      <td>10-Jul-20</td>\n",
       "      <td>Ames City Assessor</td>\n",
       "      <td>NaN</td>\n",
       "    </tr>\n",
       "    <tr>\n",
       "      <th>520445001</th>\n",
       "      <td>520445001</td>\n",
       "      <td>0</td>\n",
       "      <td>0</td>\n",
       "      <td>3449 BARCELOS ST</td>\n",
       "      <td>FS-RL</td>\n",
       "      <td>NaN</td>\n",
       "      <td>NaN</td>\n",
       "      <td>NaN</td>\n",
       "      <td>RESIDENTIAL</td>\n",
       "      <td>ASSOCIATION COMMON AREA</td>\n",
       "      <td>...</td>\n",
       "      <td>3449.0</td>\n",
       "      <td>NaN</td>\n",
       "      <td>BARCELOS</td>\n",
       "      <td>ST</td>\n",
       "      <td>NaN</td>\n",
       "      <td>NaN</td>\n",
       "      <td>NaN</td>\n",
       "      <td>10-Jul-20</td>\n",
       "      <td>Ames City Assessor</td>\n",
       "      <td>NaN</td>\n",
       "    </tr>\n",
       "    <tr>\n",
       "      <th>520445010</th>\n",
       "      <td>520445010</td>\n",
       "      <td>0</td>\n",
       "      <td>0</td>\n",
       "      <td>4506 EVEREST  AVE</td>\n",
       "      <td>FS-RL</td>\n",
       "      <td>NaN</td>\n",
       "      <td>NaN</td>\n",
       "      <td>NaN</td>\n",
       "      <td>RESIDENTIAL</td>\n",
       "      <td>VACANT LAND - IMPROVED OR UNIMPROVED</td>\n",
       "      <td>...</td>\n",
       "      <td>4506.0</td>\n",
       "      <td>NaN</td>\n",
       "      <td>EVEREST</td>\n",
       "      <td>AVE</td>\n",
       "      <td>NaN</td>\n",
       "      <td>NaN</td>\n",
       "      <td>NaN</td>\n",
       "      <td>10-Jul-20</td>\n",
       "      <td>Ames City Assessor</td>\n",
       "      <td>NaN</td>\n",
       "    </tr>\n",
       "  </tbody>\n",
       "</table>\n",
       "<p>5 rows × 90 columns</p>\n",
       "</div>"
      ],
      "text/plain": [
       "            GeoRefNo  Tier  Range                 Prop_Addr ZngCdPr ZngCdSc  \\\n",
       "MapRefNo                                                                      \n",
       "520400001  520400001     0      0  4599 GEORGE W CARVER AVE   FS-RL     NaN   \n",
       "520440010  520440010     0      0         4507 EVEREST  AVE   FS-RL     NaN   \n",
       "520440020  520440020     0      0         4513 EVEREST  AVE   FS-RL     NaN   \n",
       "520445001  520445001     0      0          3449 BARCELOS ST   FS-RL     NaN   \n",
       "520445010  520445010     0      0         4506 EVEREST  AVE   FS-RL     NaN   \n",
       "\n",
       "          ZngOLPr ZngOLSc    ClassPr_S                             ClassSc_S  \\\n",
       "MapRefNo                                                                       \n",
       "520400001     NaN     NaN  RESIDENTIAL  VACANT LAND - IMPROVED OR UNIMPROVED   \n",
       "520440010     NaN     NaN  RESIDENTIAL  VACANT LAND - IMPROVED OR UNIMPROVED   \n",
       "520440020     NaN     NaN  RESIDENTIAL  VACANT LAND - IMPROVED OR UNIMPROVED   \n",
       "520445001     NaN     NaN  RESIDENTIAL               ASSOCIATION COMMON AREA   \n",
       "520445010     NaN     NaN  RESIDENTIAL  VACANT LAND - IMPROVED OR UNIMPROVED   \n",
       "\n",
       "           ... PA-Nmbr  PA-PreD          PA-Strt PA-StSfx PA-PostD PA-UnTyp  \\\n",
       "MapRefNo   ...                                                                \n",
       "520400001  ...  4599.0      NaN  GEORGE W CARVER      AVE      NaN      NaN   \n",
       "520440010  ...  4507.0      NaN          EVEREST      AVE      NaN      NaN   \n",
       "520440020  ...  4513.0      NaN          EVEREST      AVE      NaN      NaN   \n",
       "520445001  ...  3449.0      NaN         BARCELOS       ST      NaN      NaN   \n",
       "520445010  ...  4506.0      NaN          EVEREST      AVE      NaN      NaN   \n",
       "\n",
       "           PA-UntNo       Date              Source  NmbrBRs  \n",
       "MapRefNo                                                     \n",
       "520400001       NaN  10-Jul-20  Ames City Assessor      NaN  \n",
       "520440010       NaN  10-Jul-20  Ames City Assessor      NaN  \n",
       "520440020       NaN  10-Jul-20  Ames City Assessor      NaN  \n",
       "520445001       NaN  10-Jul-20  Ames City Assessor      NaN  \n",
       "520445010       NaN  10-Jul-20  Ames City Assessor      NaN  \n",
       "\n",
       "[5 rows x 90 columns]"
      ]
     },
     "execution_count": 5,
     "metadata": {},
     "output_type": "execute_result"
    },
    {
     "data": {
      "application/javascript": [
       "\n",
       "            setTimeout(function() {\n",
       "                var nbb_cell_id = 5;\n",
       "                var nbb_unformatted_code = \"real_estate.head()\";\n",
       "                var nbb_formatted_code = \"real_estate.head()\";\n",
       "                var nbb_cells = Jupyter.notebook.get_cells();\n",
       "                for (var i = 0; i < nbb_cells.length; ++i) {\n",
       "                    if (nbb_cells[i].input_prompt_number == nbb_cell_id) {\n",
       "                        if (nbb_cells[i].get_text() == nbb_unformatted_code) {\n",
       "                             nbb_cells[i].set_text(nbb_formatted_code);\n",
       "                        }\n",
       "                        break;\n",
       "                    }\n",
       "                }\n",
       "            }, 500);\n",
       "            "
      ],
      "text/plain": [
       "<IPython.core.display.Javascript object>"
      ]
     },
     "metadata": {},
     "output_type": "display_data"
    }
   ],
   "source": [
    "real_estate.head()"
   ]
  },
  {
   "cell_type": "code",
   "execution_count": 6,
   "id": "88270948",
   "metadata": {},
   "outputs": [
    {
     "data": {
      "text/plain": [
       "Index(['1stFlrSF', '2ndFlrSF', '3SsnPorch', 'Alley', 'BedroomAbvGr',\n",
       "       'BldgType', 'BsmtCond', 'BsmtExposure', 'BsmtFinSF1', 'BsmtFinSF2',\n",
       "       'BsmtFinType1', 'BsmtFinType2', 'BsmtFullBath', 'BsmtHalfBath',\n",
       "       'BsmtQual', 'BsmtUnfSF', 'CentralAir', 'Condition1', 'Condition2',\n",
       "       'Electrical', 'EnclosedPorch', 'ExterCond', 'ExterQual', 'Exterior1st',\n",
       "       'Exterior2nd', 'Fence', 'FireplaceQu', 'Fireplaces', 'Foundation',\n",
       "       'FullBath', 'Functional', 'GarageArea', 'GarageCars', 'GarageCond',\n",
       "       'GarageFinish', 'GarageQual', 'GarageType', 'GarageYrBlt', 'GrLivArea',\n",
       "       'HalfBath', 'Heating', 'HeatingQC', 'HouseStyle', 'KitchenAbvGr',\n",
       "       'KitchenQual', 'LandContour', 'LandSlope', 'LotArea', 'LotConfig',\n",
       "       'LotFrontage', 'LotShape', 'LowQualFinSF', 'MSSubClass', 'MSZoning',\n",
       "       'MasVnrArea', 'MasVnrType', 'MiscFeature', 'MiscVal', 'MoSold',\n",
       "       'Neighborhood', 'OpenPorchSF', 'OverallCond', 'OverallQual', 'PID',\n",
       "       'PavedDrive', 'PoolArea', 'PoolQC', 'RoofMatl', 'RoofStyle',\n",
       "       'SaleCondition', 'SalePrice', 'SaleType', 'ScreenPorch', 'Street',\n",
       "       'TotRmsAbvGrd', 'TotalBsmtSF', 'Utilities', 'WoodDeckSF', 'YearBuilt',\n",
       "       'YearRemodAdd', 'YrSold'],\n",
       "      dtype='object')"
      ]
     },
     "execution_count": 6,
     "metadata": {},
     "output_type": "execute_result"
    },
    {
     "data": {
      "application/javascript": [
       "\n",
       "            setTimeout(function() {\n",
       "                var nbb_cell_id = 6;\n",
       "                var nbb_unformatted_code = \"housing.columns.sort_values()\";\n",
       "                var nbb_formatted_code = \"housing.columns.sort_values()\";\n",
       "                var nbb_cells = Jupyter.notebook.get_cells();\n",
       "                for (var i = 0; i < nbb_cells.length; ++i) {\n",
       "                    if (nbb_cells[i].input_prompt_number == nbb_cell_id) {\n",
       "                        if (nbb_cells[i].get_text() == nbb_unformatted_code) {\n",
       "                             nbb_cells[i].set_text(nbb_formatted_code);\n",
       "                        }\n",
       "                        break;\n",
       "                    }\n",
       "                }\n",
       "            }, 500);\n",
       "            "
      ],
      "text/plain": [
       "<IPython.core.display.Javascript object>"
      ]
     },
     "metadata": {},
     "output_type": "display_data"
    }
   ],
   "source": [
    "housing.columns.sort_values()"
   ]
  },
  {
   "cell_type": "code",
   "execution_count": 11,
   "id": "5de45e6a",
   "metadata": {},
   "outputs": [
    {
     "data": {
      "text/plain": [
       "Index(['AcreGr', 'AcreNt_S', 'AcreX_S1', 'BldgNo_S', 'BldgType', 'Cars',\n",
       "       'Central Air', 'ClassPr_S', 'ClassSc_S', 'Date', 'DwlgNo_S', 'Ext1',\n",
       "       'Ext2', 'Fireplaces', 'Foundation', 'GLA', 'GarYrBlt', 'GarageArea',\n",
       "       'GarageType', 'GeoRefNo', 'HSTtl_D', 'HSTtl_S', 'Heating', 'HouseStyle',\n",
       "       'ImpAcX1S', 'ImpAcX2S', 'ImpAc_S', 'Inst1TPr', 'Inst1_Mo', 'Inst1_No',\n",
       "       'Inst1_Yr', 'Legal_Pr', 'LndAcX1S', 'LndAc_S', 'LotArea', 'MA_City',\n",
       "       'MA_Line1', 'MA_Line2', 'MA_Ownr1', 'MA_Ownr2', 'MA_State', 'MA_Zip1',\n",
       "       'MA_Zip2', 'MasVnrType', 'MilVal_D', 'MilVal_S', 'MoSold_MM',\n",
       "       'Neighborhood', 'NmbrBRs', 'OthAc_S', 'PA-Nmbr', 'PA-PostD', 'PA-PreD',\n",
       "       'PA-StSfx', 'PA-Strt', 'PA-UnTyp', 'PA-UntNo', 'ParType', 'ParclRel',\n",
       "       'PoolArea', 'Prop_Addr', 'Range', 'Rcrd_Mo', 'Rcrd_Yr', 'RoofMatl',\n",
       "       'SaleCond', 'SalePrice', 'SaleType', 'SchD_S', 'Source', 'Tier',\n",
       "       'TotRmsAbvGrd', 'TtlBsmtSF', 'TtlVal_AsrYr', 'TxD_S', 'ValType',\n",
       "       'X1TPr_D', 'X1TPr_S', 'X1TSc_D', 'X1TSc_S', 'X2TPr_D', 'X2TPr_S',\n",
       "       'X2TSc_D', 'X2TSc_S', 'YrBuilt', 'YrSold_YYYY', 'ZngCdPr', 'ZngCdSc',\n",
       "       'ZngOLPr', 'ZngOLSc'],\n",
       "      dtype='object')"
      ]
     },
     "execution_count": 11,
     "metadata": {},
     "output_type": "execute_result"
    },
    {
     "data": {
      "application/javascript": [
       "\n",
       "            setTimeout(function() {\n",
       "                var nbb_cell_id = 11;\n",
       "                var nbb_unformatted_code = \"real_estate.columns.sort_values()\";\n",
       "                var nbb_formatted_code = \"real_estate.columns.sort_values()\";\n",
       "                var nbb_cells = Jupyter.notebook.get_cells();\n",
       "                for (var i = 0; i < nbb_cells.length; ++i) {\n",
       "                    if (nbb_cells[i].input_prompt_number == nbb_cell_id) {\n",
       "                        if (nbb_cells[i].get_text() == nbb_unformatted_code) {\n",
       "                             nbb_cells[i].set_text(nbb_formatted_code);\n",
       "                        }\n",
       "                        break;\n",
       "                    }\n",
       "                }\n",
       "            }, 500);\n",
       "            "
      ],
      "text/plain": [
       "<IPython.core.display.Javascript object>"
      ]
     },
     "metadata": {},
     "output_type": "display_data"
    }
   ],
   "source": [
    "real_estate.columns.sort_values()"
   ]
  },
  {
   "cell_type": "code",
   "execution_count": 8,
   "id": "3c7fe572",
   "metadata": {},
   "outputs": [
    {
     "data": {
      "application/javascript": [
       "\n",
       "            setTimeout(function() {\n",
       "                var nbb_cell_id = 8;\n",
       "                var nbb_unformatted_code = \"# Merge the two DataFrames based on the shared unique identifier to add property address\\nhousing = pd.merge(housing, real_estate[['GeoRefNo', 'Prop_Addr']],left_on='PID', right_on='GeoRefNo')\";\n",
       "                var nbb_formatted_code = \"# Merge the two DataFrames based on the shared unique identifier to add property address\\nhousing = pd.merge(\\n    housing, real_estate[[\\\"GeoRefNo\\\", \\\"Prop_Addr\\\"]], left_on=\\\"PID\\\", right_on=\\\"GeoRefNo\\\"\\n)\";\n",
       "                var nbb_cells = Jupyter.notebook.get_cells();\n",
       "                for (var i = 0; i < nbb_cells.length; ++i) {\n",
       "                    if (nbb_cells[i].input_prompt_number == nbb_cell_id) {\n",
       "                        if (nbb_cells[i].get_text() == nbb_unformatted_code) {\n",
       "                             nbb_cells[i].set_text(nbb_formatted_code);\n",
       "                        }\n",
       "                        break;\n",
       "                    }\n",
       "                }\n",
       "            }, 500);\n",
       "            "
      ],
      "text/plain": [
       "<IPython.core.display.Javascript object>"
      ]
     },
     "metadata": {},
     "output_type": "display_data"
    }
   ],
   "source": [
    "# Merge the two DataFrames based on the shared unique identifier to add property address\n",
    "housing = pd.merge(housing, real_estate[['GeoRefNo', 'Prop_Addr']],left_on='PID', right_on='GeoRefNo')\n"
   ]
  },
  {
   "cell_type": "code",
   "execution_count": 25,
   "id": "fcf2933b",
   "metadata": {},
   "outputs": [
    {
     "data": {
      "text/plain": [
       "(2604, 83)"
      ]
     },
     "execution_count": 25,
     "metadata": {},
     "output_type": "execute_result"
    }
   ],
   "source": [
    "housing.shape"
   ]
  },
  {
   "cell_type": "code",
   "execution_count": 37,
   "id": "79d04dd7",
   "metadata": {},
   "outputs": [],
   "source": [
    "geolocator = Nominatim(user_agent=\"myGeocoder\", timeout=10)\n",
    "geocode = RateLimiter(geolocator.geocode, min_delay_seconds=2.5)\n"
   ]
  },
  {
   "cell_type": "code",
   "execution_count": 29,
   "id": "03e20375",
   "metadata": {},
   "outputs": [
    {
     "data": {
      "application/javascript": [
       "\n",
       "            setTimeout(function() {\n",
       "                var nbb_cell_id = 29;\n",
       "                var nbb_unformatted_code = \"import geopy\\nfrom geopy import Nominatim\\nfrom geopy.extra.rate_limiter import RateLimiter\\n\\ngeolocator = Nominatim(user_agent=\\\"myGeocoder\\\")\";\n",
       "                var nbb_formatted_code = \"import geopy\\nfrom geopy import Nominatim\\nfrom geopy.extra.rate_limiter import RateLimiter\\n\\ngeolocator = Nominatim(user_agent=\\\"myGeocoder\\\")\";\n",
       "                var nbb_cells = Jupyter.notebook.get_cells();\n",
       "                for (var i = 0; i < nbb_cells.length; ++i) {\n",
       "                    if (nbb_cells[i].input_prompt_number == nbb_cell_id) {\n",
       "                        if (nbb_cells[i].get_text() == nbb_unformatted_code) {\n",
       "                             nbb_cells[i].set_text(nbb_formatted_code);\n",
       "                        }\n",
       "                        break;\n",
       "                    }\n",
       "                }\n",
       "            }, 500);\n",
       "            "
      ],
      "text/plain": [
       "<IPython.core.display.Javascript object>"
      ]
     },
     "metadata": {},
     "output_type": "display_data"
    }
   ],
   "source": [
    "import geopy\n",
    "from geopy import Nominatim\n",
    "from geopy.extra.rate_limiter import RateLimiter\n",
    "\n",
    "geolocator = Nominatim(user_agent=\"myGeocoder\")"
   ]
  },
  {
   "cell_type": "code",
   "execution_count": 33,
   "id": "363ef0de",
   "metadata": {},
   "outputs": [
    {
     "data": {
      "application/javascript": [
       "\n",
       "            setTimeout(function() {\n",
       "                var nbb_cell_id = 33;\n",
       "                var nbb_unformatted_code = \"housing['Prop_Addr'] = [addr+', Ames, USA' if type(addr)==str else None for addr in housing.Prop_Addr]\\nlocations = housing[[\\\"PID\\\", \\\"Prop_Addr\\\"]].drop_duplicates().reset_index(drop=True)\";\n",
       "                var nbb_formatted_code = \"housing[\\\"Prop_Addr\\\"] = [\\n    addr + \\\", Ames, USA\\\" if type(addr) == str else None for addr in housing.Prop_Addr\\n]\\nlocations = housing[[\\\"PID\\\", \\\"Prop_Addr\\\"]].drop_duplicates().reset_index(drop=True)\";\n",
       "                var nbb_cells = Jupyter.notebook.get_cells();\n",
       "                for (var i = 0; i < nbb_cells.length; ++i) {\n",
       "                    if (nbb_cells[i].input_prompt_number == nbb_cell_id) {\n",
       "                        if (nbb_cells[i].get_text() == nbb_unformatted_code) {\n",
       "                             nbb_cells[i].set_text(nbb_formatted_code);\n",
       "                        }\n",
       "                        break;\n",
       "                    }\n",
       "                }\n",
       "            }, 500);\n",
       "            "
      ],
      "text/plain": [
       "<IPython.core.display.Javascript object>"
      ]
     },
     "metadata": {},
     "output_type": "display_data"
    }
   ],
   "source": [
    "housing[\"Prop_Addr\"] = [\n",
    "    addr + \", Ames, USA\" if type(addr) == str else None for addr in housing.Prop_Addr\n",
    "]\n",
    "locations = housing[[\"PID\", \"Prop_Addr\"]].drop_duplicates().reset_index(drop=True)"
   ]
  },
  {
   "cell_type": "code",
   "execution_count": 37,
   "id": "d18e9ddd",
   "metadata": {},
   "outputs": [
    {
     "data": {
      "application/javascript": [
       "\n",
       "            setTimeout(function() {\n",
       "                var nbb_cell_id = 37;\n",
       "                var nbb_unformatted_code = \"geolocator = Nominatim(user_agent=\\\"myGeocoder\\\")\\ngeocode = RateLimiter(geolocator.geocode, min_delay_seconds=1.5)\\nlocations[\\\"location\\\"] = locations[\\\"Prop_Addr\\\"].apply(geolocator.geocode)\\nlocations[\\\"latitude\\\"] = locations[\\\"location\\\"].apply(lambda loc: loc.latitude if loc else None)\\nlocations[\\\"longitude\\\"] = locations[\\\"location\\\"].apply(lambda loc: loc.longitude if loc else None)\";\n",
       "                var nbb_formatted_code = \"geolocator = Nominatim(user_agent=\\\"myGeocoder\\\")\\ngeocode = RateLimiter(geolocator.geocode, min_delay_seconds=1.5)\\nlocations[\\\"location\\\"] = locations[\\\"Prop_Addr\\\"].apply(geolocator.geocode)\\nlocations[\\\"latitude\\\"] = locations[\\\"location\\\"].apply(\\n    lambda loc: loc.latitude if loc else None\\n)\\nlocations[\\\"longitude\\\"] = locations[\\\"location\\\"].apply(\\n    lambda loc: loc.longitude if loc else None\\n)\";\n",
       "                var nbb_cells = Jupyter.notebook.get_cells();\n",
       "                for (var i = 0; i < nbb_cells.length; ++i) {\n",
       "                    if (nbb_cells[i].input_prompt_number == nbb_cell_id) {\n",
       "                        if (nbb_cells[i].get_text() == nbb_unformatted_code) {\n",
       "                             nbb_cells[i].set_text(nbb_formatted_code);\n",
       "                        }\n",
       "                        break;\n",
       "                    }\n",
       "                }\n",
       "            }, 500);\n",
       "            "
      ],
      "text/plain": [
       "<IPython.core.display.Javascript object>"
      ]
     },
     "metadata": {},
     "output_type": "display_data"
    }
   ],
   "source": [
    "geolocator = Nominatim(user_agent=\"myGeocoder\")\n",
    "geocode = RateLimiter(geolocator.geocode, min_delay_seconds=1.5)\n",
    "locations[\"location\"] = locations[\"Prop_Addr\"].apply(geolocator.geocode)\n",
    "locations[\"latitude\"] = locations[\"location\"].apply(lambda loc: loc.latitude if loc else None)\n",
    "locations[\"longitude\"] = locations[\"location\"].apply(lambda loc: loc.longitude if loc else None)"
   ]
  },
  {
   "cell_type": "code",
   "execution_count": 38,
   "id": "c8326917",
   "metadata": {},
   "outputs": [
    {
     "data": {
      "text/html": [
       "<div>\n",
       "<style scoped>\n",
       "    .dataframe tbody tr th:only-of-type {\n",
       "        vertical-align: middle;\n",
       "    }\n",
       "\n",
       "    .dataframe tbody tr th {\n",
       "        vertical-align: top;\n",
       "    }\n",
       "\n",
       "    .dataframe thead th {\n",
       "        text-align: right;\n",
       "    }\n",
       "</style>\n",
       "<table border=\"1\" class=\"dataframe\">\n",
       "  <thead>\n",
       "    <tr style=\"text-align: right;\">\n",
       "      <th></th>\n",
       "      <th>PID</th>\n",
       "      <th>Prop_Addr</th>\n",
       "      <th>location</th>\n",
       "      <th>latitude</th>\n",
       "      <th>longitude</th>\n",
       "    </tr>\n",
       "  </thead>\n",
       "  <tbody>\n",
       "    <tr>\n",
       "      <th>0</th>\n",
       "      <td>909176150</td>\n",
       "      <td>436 HAYWARD AVE, Ames, USA</td>\n",
       "      <td>(436, Hayward Avenue, Union Drive, Ames, Story...</td>\n",
       "      <td>42.018564</td>\n",
       "      <td>-93.651619</td>\n",
       "    </tr>\n",
       "    <tr>\n",
       "      <th>1</th>\n",
       "      <td>905476230</td>\n",
       "      <td>3416 WEST ST, Ames, USA</td>\n",
       "      <td>(3416, West Street, Union Drive, Ames, Story C...</td>\n",
       "      <td>42.024855</td>\n",
       "      <td>-93.663671</td>\n",
       "    </tr>\n",
       "    <tr>\n",
       "      <th>2</th>\n",
       "      <td>911128020</td>\n",
       "      <td>320 S 2ND ST, Ames, USA</td>\n",
       "      <td>(320, South 2nd Street, Ames, Story County, Io...</td>\n",
       "      <td>42.021548</td>\n",
       "      <td>-93.614068</td>\n",
       "    </tr>\n",
       "    <tr>\n",
       "      <th>3</th>\n",
       "      <td>535377150</td>\n",
       "      <td>1524 DOUGLAS AVE, Ames, USA</td>\n",
       "      <td>(1524, Douglas Avenue, Edgewood Park, Ames, St...</td>\n",
       "      <td>42.037391</td>\n",
       "      <td>-93.612207</td>\n",
       "    </tr>\n",
       "    <tr>\n",
       "      <th>4</th>\n",
       "      <td>534177230</td>\n",
       "      <td>2304 FILLMORE AVE, Ames, USA</td>\n",
       "      <td>(2304, Fillmore Avenue, Allenview, Ames, Story...</td>\n",
       "      <td>42.044554</td>\n",
       "      <td>-93.631818</td>\n",
       "    </tr>\n",
       "    <tr>\n",
       "      <th>...</th>\n",
       "      <td>...</td>\n",
       "      <td>...</td>\n",
       "      <td>...</td>\n",
       "      <td>...</td>\n",
       "      <td>...</td>\n",
       "    </tr>\n",
       "    <tr>\n",
       "      <th>2554</th>\n",
       "      <td>903205040</td>\n",
       "      <td>1021 RIDGEWOOD AVE, Ames, USA</td>\n",
       "      <td>(1021, Ridgewood Avenue, Ridgewood, Ames, Stor...</td>\n",
       "      <td>42.032102</td>\n",
       "      <td>-93.626373</td>\n",
       "    </tr>\n",
       "    <tr>\n",
       "      <th>2555</th>\n",
       "      <td>905402060</td>\n",
       "      <td>3619 MARY CIR, Ames, USA</td>\n",
       "      <td>(3619, Mary Circle, Ames, Story County, Iowa, ...</td>\n",
       "      <td>42.027669</td>\n",
       "      <td>-93.666138</td>\n",
       "    </tr>\n",
       "    <tr>\n",
       "      <th>2556</th>\n",
       "      <td>909275030</td>\n",
       "      <td>2140 SUNSET DR 2142, Ames, USA</td>\n",
       "      <td>(2140, Sunset Drive, Greekland, Ames, Story Co...</td>\n",
       "      <td>42.020129</td>\n",
       "      <td>-93.643832</td>\n",
       "    </tr>\n",
       "    <tr>\n",
       "      <th>2557</th>\n",
       "      <td>907192040</td>\n",
       "      <td>5319 CLEMENS BLVD, Ames, USA</td>\n",
       "      <td>(5319, Clemens Boulevard, Bentwood, Ames, Stor...</td>\n",
       "      <td>42.016802</td>\n",
       "      <td>-93.689748</td>\n",
       "    </tr>\n",
       "    <tr>\n",
       "      <th>2558</th>\n",
       "      <td>906223180</td>\n",
       "      <td>1025 VERMONT CT, Ames, USA</td>\n",
       "      <td>(1025, Vermont Court, Valley East, Ontario, Am...</td>\n",
       "      <td>42.030997</td>\n",
       "      <td>-93.682220</td>\n",
       "    </tr>\n",
       "  </tbody>\n",
       "</table>\n",
       "<p>2559 rows × 5 columns</p>\n",
       "</div>"
      ],
      "text/plain": [
       "            PID                       Prop_Addr  \\\n",
       "0     909176150      436 HAYWARD AVE, Ames, USA   \n",
       "1     905476230         3416 WEST ST, Ames, USA   \n",
       "2     911128020         320 S 2ND ST, Ames, USA   \n",
       "3     535377150     1524 DOUGLAS AVE, Ames, USA   \n",
       "4     534177230    2304 FILLMORE AVE, Ames, USA   \n",
       "...         ...                             ...   \n",
       "2554  903205040   1021 RIDGEWOOD AVE, Ames, USA   \n",
       "2555  905402060        3619 MARY CIR, Ames, USA   \n",
       "2556  909275030  2140 SUNSET DR 2142, Ames, USA   \n",
       "2557  907192040    5319 CLEMENS BLVD, Ames, USA   \n",
       "2558  906223180      1025 VERMONT CT, Ames, USA   \n",
       "\n",
       "                                               location   latitude  longitude  \n",
       "0     (436, Hayward Avenue, Union Drive, Ames, Story...  42.018564 -93.651619  \n",
       "1     (3416, West Street, Union Drive, Ames, Story C...  42.024855 -93.663671  \n",
       "2     (320, South 2nd Street, Ames, Story County, Io...  42.021548 -93.614068  \n",
       "3     (1524, Douglas Avenue, Edgewood Park, Ames, St...  42.037391 -93.612207  \n",
       "4     (2304, Fillmore Avenue, Allenview, Ames, Story...  42.044554 -93.631818  \n",
       "...                                                 ...        ...        ...  \n",
       "2554  (1021, Ridgewood Avenue, Ridgewood, Ames, Stor...  42.032102 -93.626373  \n",
       "2555  (3619, Mary Circle, Ames, Story County, Iowa, ...  42.027669 -93.666138  \n",
       "2556  (2140, Sunset Drive, Greekland, Ames, Story Co...  42.020129 -93.643832  \n",
       "2557  (5319, Clemens Boulevard, Bentwood, Ames, Stor...  42.016802 -93.689748  \n",
       "2558  (1025, Vermont Court, Valley East, Ontario, Am...  42.030997 -93.682220  \n",
       "\n",
       "[2559 rows x 5 columns]"
      ]
     },
     "execution_count": 38,
     "metadata": {},
     "output_type": "execute_result"
    },
    {
     "data": {
      "application/javascript": [
       "\n",
       "            setTimeout(function() {\n",
       "                var nbb_cell_id = 38;\n",
       "                var nbb_unformatted_code = \"locations\";\n",
       "                var nbb_formatted_code = \"locations\";\n",
       "                var nbb_cells = Jupyter.notebook.get_cells();\n",
       "                for (var i = 0; i < nbb_cells.length; ++i) {\n",
       "                    if (nbb_cells[i].input_prompt_number == nbb_cell_id) {\n",
       "                        if (nbb_cells[i].get_text() == nbb_unformatted_code) {\n",
       "                             nbb_cells[i].set_text(nbb_formatted_code);\n",
       "                        }\n",
       "                        break;\n",
       "                    }\n",
       "                }\n",
       "            }, 500);\n",
       "            "
      ],
      "text/plain": [
       "<IPython.core.display.Javascript object>"
      ]
     },
     "metadata": {},
     "output_type": "display_data"
    }
   ],
   "source": [
    "locations"
   ]
  },
  {
   "cell_type": "code",
   "execution_count": null,
   "id": "4e8cd1dd",
   "metadata": {},
   "outputs": [],
   "source": []
  },
  {
   "cell_type": "code",
   "execution_count": null,
   "id": "c7cf72ed",
   "metadata": {},
   "outputs": [],
   "source": []
  },
  {
   "cell_type": "code",
   "execution_count": null,
   "id": "2769a276",
   "metadata": {},
   "outputs": [],
   "source": []
  },
  {
   "cell_type": "code",
   "execution_count": null,
   "id": "57505a0a",
   "metadata": {},
   "outputs": [],
   "source": []
  },
  {
   "cell_type": "code",
   "execution_count": null,
   "id": "c67a59c2",
   "metadata": {},
   "outputs": [],
   "source": []
  },
  {
   "cell_type": "code",
   "execution_count": null,
   "id": "d31e0064",
   "metadata": {},
   "outputs": [],
   "source": []
  }
 ],
 "metadata": {
  "kernelspec": {
   "display_name": "Python 3 (ipykernel)",
   "language": "python",
   "name": "python3"
  },
  "language_info": {
   "codemirror_mode": {
    "name": "ipython",
    "version": 3
   },
   "file_extension": ".py",
   "mimetype": "text/x-python",
   "name": "python",
   "nbconvert_exporter": "python",
   "pygments_lexer": "ipython3",
   "version": "3.9.12"
  }
 },
 "nbformat": 4,
 "nbformat_minor": 5
}
