{
 "cells": [
  {
   "cell_type": "markdown",
   "id": "c213fd8a",
   "metadata": {},
   "source": [
    "# I FORGOT to Remove PID from the first model. NEED TO REMOVE and re model"
   ]
  },
  {
   "cell_type": "markdown",
   "id": "a7a28c41",
   "metadata": {},
   "source": [
    "## Load Packages and Data"
   ]
  },
  {
   "cell_type": "code",
   "execution_count": 1,
   "id": "d256ea46",
   "metadata": {},
   "outputs": [
    {
     "data": {
      "application/javascript": [
       "\n",
       "            setTimeout(function() {\n",
       "                var nbb_cell_id = 1;\n",
       "                var nbb_unformatted_code = \"import matplotlib.pyplot as plt\\nimport matplotlib.ticker as ticker\\nimport seaborn as sns\\nimport numpy as np\\nimport pandas as pd\\nimport seaborn as sns\\n\\nfrom sklearn.ensemble import GradientBoostingRegressor, GradientBoostingClassifier\\nfrom sklearn.preprocessing import LabelEncoder\\nfrom sklearn.model_selection import train_test_split\\nfrom sklearn.model_selection import KFold\\nfrom sklearn.metrics import mean_squared_error, r2_score, mean_absolute_error\\nfrom sklearn.model_selection import GridSearchCV\\nfrom sklearn.model_selection import cross_val_score\\nfrom sklearn.model_selection import validation_curve\\n\\nfrom tqdm import tqdm\\n\\n\\n# this extension properly formats a cell after it is run\\n# !{sys.executable} -m pip install nb_black # UNCOMMENT TO INSTALL\\n%load_ext nb_black\\n%matplotlib inline\\n\\n# Set the maximum number of rows to 200\\npd.set_option(\\\"display.max_rows\\\", 200)\\n\\n# Set the maximum number of columns to 200\\npd.set_option(\\\"display.max_columns\\\", 200)\";\n",
       "                var nbb_formatted_code = \"import matplotlib.pyplot as plt\\nimport matplotlib.ticker as ticker\\nimport seaborn as sns\\nimport numpy as np\\nimport pandas as pd\\nimport seaborn as sns\\n\\nfrom sklearn.ensemble import GradientBoostingRegressor, GradientBoostingClassifier\\nfrom sklearn.preprocessing import LabelEncoder\\nfrom sklearn.model_selection import train_test_split\\nfrom sklearn.model_selection import KFold\\nfrom sklearn.metrics import mean_squared_error, r2_score, mean_absolute_error\\nfrom sklearn.model_selection import GridSearchCV\\nfrom sklearn.model_selection import cross_val_score\\nfrom sklearn.model_selection import validation_curve\\n\\nfrom tqdm import tqdm\\n\\n\\n# this extension properly formats a cell after it is run\\n# !{sys.executable} -m pip install nb_black # UNCOMMENT TO INSTALL\\n%load_ext nb_black\\n%matplotlib inline\\n\\n# Set the maximum number of rows to 200\\npd.set_option(\\\"display.max_rows\\\", 200)\\n\\n# Set the maximum number of columns to 200\\npd.set_option(\\\"display.max_columns\\\", 200)\";\n",
       "                var nbb_cells = Jupyter.notebook.get_cells();\n",
       "                for (var i = 0; i < nbb_cells.length; ++i) {\n",
       "                    if (nbb_cells[i].input_prompt_number == nbb_cell_id) {\n",
       "                        if (nbb_cells[i].get_text() == nbb_unformatted_code) {\n",
       "                             nbb_cells[i].set_text(nbb_formatted_code);\n",
       "                        }\n",
       "                        break;\n",
       "                    }\n",
       "                }\n",
       "            }, 500);\n",
       "            "
      ],
      "text/plain": [
       "<IPython.core.display.Javascript object>"
      ]
     },
     "metadata": {},
     "output_type": "display_data"
    }
   ],
   "source": [
    "import matplotlib.pyplot as plt\n",
    "import matplotlib.ticker as ticker\n",
    "import seaborn as sns\n",
    "import numpy as np\n",
    "import pandas as pd\n",
    "import seaborn as sns\n",
    "\n",
    "from sklearn.ensemble import GradientBoostingRegressor, GradientBoostingClassifier\n",
    "from sklearn.preprocessing import LabelEncoder\n",
    "from sklearn.model_selection import train_test_split\n",
    "from sklearn.model_selection import KFold\n",
    "from sklearn.metrics import mean_squared_error, r2_score, mean_absolute_error\n",
    "from sklearn.model_selection import GridSearchCV\n",
    "from sklearn.model_selection import cross_val_score\n",
    "from sklearn.model_selection import validation_curve\n",
    "\n",
    "from tqdm import tqdm\n",
    "\n",
    "\n",
    "# this extension properly formats a cell after it is run\n",
    "# !{sys.executable} -m pip install nb_black # UNCOMMENT TO INSTALL\n",
    "%load_ext nb_black\n",
    "%matplotlib inline\n",
    "\n",
    "# Set the maximum number of rows to 200\n",
    "pd.set_option(\"display.max_rows\", 200)\n",
    "\n",
    "# Set the maximum number of columns to 200\n",
    "pd.set_option(\"display.max_columns\", 200)"
   ]
  },
  {
   "cell_type": "code",
   "execution_count": 50,
   "id": "61a2c439",
   "metadata": {},
   "outputs": [
    {
     "data": {
      "application/javascript": [
       "\n",
       "            setTimeout(function() {\n",
       "                var nbb_cell_id = 50;\n",
       "                var nbb_unformatted_code = \"# Load Data\\nhousing_raw = pd.read_csv('../data/Ames_Housing_Price_Data.csv')\\n\\nhousing_clean = pd.read_csv(\\\"../data/housing_cleaned.csv\\\")  # All features included\\n\\nhousing_corr = pd.read_csv(\\n    \\\"../data/housing_corr.csv\\\"\\n)  # 13 features removed because of colinearity\";\n",
       "                var nbb_formatted_code = \"# Load Data\\nhousing_raw = pd.read_csv(\\\"../data/Ames_Housing_Price_Data.csv\\\")\\n\\nhousing_clean = pd.read_csv(\\\"../data/housing_cleaned.csv\\\")  # All features included\\n\\nhousing_corr = pd.read_csv(\\n    \\\"../data/housing_corr.csv\\\"\\n)  # 13 features removed because of colinearity\";\n",
       "                var nbb_cells = Jupyter.notebook.get_cells();\n",
       "                for (var i = 0; i < nbb_cells.length; ++i) {\n",
       "                    if (nbb_cells[i].input_prompt_number == nbb_cell_id) {\n",
       "                        if (nbb_cells[i].get_text() == nbb_unformatted_code) {\n",
       "                             nbb_cells[i].set_text(nbb_formatted_code);\n",
       "                        }\n",
       "                        break;\n",
       "                    }\n",
       "                }\n",
       "            }, 500);\n",
       "            "
      ],
      "text/plain": [
       "<IPython.core.display.Javascript object>"
      ]
     },
     "metadata": {},
     "output_type": "display_data"
    }
   ],
   "source": [
    "# Load Data\n",
    "housing_raw = pd.read_csv(\"../data/Ames_Housing_Price_Data.csv\")\n",
    "\n",
    "housing_clean = pd.read_csv(\"../data/housing_cleaned.csv\")  # All features included\n",
    "\n",
    "housing_corr = pd.read_csv(\n",
    "    \"../data/housing_corr.csv\"\n",
    ")  # 13 features removed because of colinearity"
   ]
  },
  {
   "cell_type": "code",
   "execution_count": 51,
   "id": "1bf159a1",
   "metadata": {},
   "outputs": [
    {
     "data": {
      "text/plain": [
       "(2580, 82)"
      ]
     },
     "execution_count": 51,
     "metadata": {},
     "output_type": "execute_result"
    },
    {
     "data": {
      "application/javascript": [
       "\n",
       "            setTimeout(function() {\n",
       "                var nbb_cell_id = 51;\n",
       "                var nbb_unformatted_code = \"housing_raw.shape\";\n",
       "                var nbb_formatted_code = \"housing_raw.shape\";\n",
       "                var nbb_cells = Jupyter.notebook.get_cells();\n",
       "                for (var i = 0; i < nbb_cells.length; ++i) {\n",
       "                    if (nbb_cells[i].input_prompt_number == nbb_cell_id) {\n",
       "                        if (nbb_cells[i].get_text() == nbb_unformatted_code) {\n",
       "                             nbb_cells[i].set_text(nbb_formatted_code);\n",
       "                        }\n",
       "                        break;\n",
       "                    }\n",
       "                }\n",
       "            }, 500);\n",
       "            "
      ],
      "text/plain": [
       "<IPython.core.display.Javascript object>"
      ]
     },
     "metadata": {},
     "output_type": "display_data"
    }
   ],
   "source": [
    "housing_raw.shape"
   ]
  },
  {
   "cell_type": "code",
   "execution_count": 53,
   "id": "9a75e973",
   "metadata": {},
   "outputs": [
    {
     "data": {
      "text/plain": [
       "(2559, 83)"
      ]
     },
     "execution_count": 53,
     "metadata": {},
     "output_type": "execute_result"
    },
    {
     "data": {
      "application/javascript": [
       "\n",
       "            setTimeout(function() {\n",
       "                var nbb_cell_id = 53;\n",
       "                var nbb_unformatted_code = \"housing_clean.shape\";\n",
       "                var nbb_formatted_code = \"housing_clean.shape\";\n",
       "                var nbb_cells = Jupyter.notebook.get_cells();\n",
       "                for (var i = 0; i < nbb_cells.length; ++i) {\n",
       "                    if (nbb_cells[i].input_prompt_number == nbb_cell_id) {\n",
       "                        if (nbb_cells[i].get_text() == nbb_unformatted_code) {\n",
       "                             nbb_cells[i].set_text(nbb_formatted_code);\n",
       "                        }\n",
       "                        break;\n",
       "                    }\n",
       "                }\n",
       "            }, 500);\n",
       "            "
      ],
      "text/plain": [
       "<IPython.core.display.Javascript object>"
      ]
     },
     "metadata": {},
     "output_type": "display_data"
    }
   ],
   "source": [
    "housing_clean.shape"
   ]
  },
  {
   "cell_type": "code",
   "execution_count": 52,
   "id": "b6b49fc5",
   "metadata": {
    "scrolled": false
   },
   "outputs": [
    {
     "data": {
      "text/plain": [
       "(2558, 71)"
      ]
     },
     "execution_count": 52,
     "metadata": {},
     "output_type": "execute_result"
    },
    {
     "data": {
      "application/javascript": [
       "\n",
       "            setTimeout(function() {\n",
       "                var nbb_cell_id = 52;\n",
       "                var nbb_unformatted_code = \"housing_corr.shape\";\n",
       "                var nbb_formatted_code = \"housing_corr.shape\";\n",
       "                var nbb_cells = Jupyter.notebook.get_cells();\n",
       "                for (var i = 0; i < nbb_cells.length; ++i) {\n",
       "                    if (nbb_cells[i].input_prompt_number == nbb_cell_id) {\n",
       "                        if (nbb_cells[i].get_text() == nbb_unformatted_code) {\n",
       "                             nbb_cells[i].set_text(nbb_formatted_code);\n",
       "                        }\n",
       "                        break;\n",
       "                    }\n",
       "                }\n",
       "            }, 500);\n",
       "            "
      ],
      "text/plain": [
       "<IPython.core.display.Javascript object>"
      ]
     },
     "metadata": {},
     "output_type": "display_data"
    }
   ],
   "source": [
    "housing_corr.shape"
   ]
  },
  {
   "cell_type": "code",
   "execution_count": 67,
   "id": "8f55aaf3",
   "metadata": {},
   "outputs": [
    {
     "name": "stdout",
     "output_type": "stream",
     "text": [
      "Removed  13  colinear features: \n",
      "\n",
      " {'FireplaceQu', '1stFlrSF', 'GarageCars', 'GarageCond', 'YearBuilt', 'GarageYrBlt', 'FullBath', 'YearRemodAdd', 'GrLivArea', 'BsmtFinType2', 'BsmtFinType1', 'ExterQual', 'TotalBsmtSF'}\n"
     ]
    },
    {
     "data": {
      "application/javascript": [
       "\n",
       "            setTimeout(function() {\n",
       "                var nbb_cell_id = 67;\n",
       "                var nbb_unformatted_code = \"# Features Removed for Correlation Issues\\nset1 = set(housing_raw.columns)\\nset2 = set(housing_clean.columns)\\nset3 = set(housing_corr.columns)\\n\\nprint(\\\"Removed \\\", len(set2.difference(set3)), \\\" colinear features: \\\\n\\\\n\\\", set2.difference(set3))\";\n",
       "                var nbb_formatted_code = \"# Features Removed for Correlation Issues\\nset1 = set(housing_raw.columns)\\nset2 = set(housing_clean.columns)\\nset3 = set(housing_corr.columns)\\n\\nprint(\\n    \\\"Removed \\\",\\n    len(set2.difference(set3)),\\n    \\\" colinear features: \\\\n\\\\n\\\",\\n    set2.difference(set3),\\n)\";\n",
       "                var nbb_cells = Jupyter.notebook.get_cells();\n",
       "                for (var i = 0; i < nbb_cells.length; ++i) {\n",
       "                    if (nbb_cells[i].input_prompt_number == nbb_cell_id) {\n",
       "                        if (nbb_cells[i].get_text() == nbb_unformatted_code) {\n",
       "                             nbb_cells[i].set_text(nbb_formatted_code);\n",
       "                        }\n",
       "                        break;\n",
       "                    }\n",
       "                }\n",
       "            }, 500);\n",
       "            "
      ],
      "text/plain": [
       "<IPython.core.display.Javascript object>"
      ]
     },
     "metadata": {},
     "output_type": "display_data"
    }
   ],
   "source": [
    "# Features Removed for Correlation Issues\n",
    "set1 = set(housing_raw.columns)\n",
    "set2 = set(housing_clean.columns)\n",
    "set3 = set(housing_corr.columns)\n",
    "\n",
    "print(\n",
    "    \"Removed \",\n",
    "    len(set2.difference(set3)),\n",
    "    \" colinear features: \\n\\n\",\n",
    "    set2.difference(set3),\n",
    ")"
   ]
  },
  {
   "cell_type": "markdown",
   "id": "73f4eb2e",
   "metadata": {},
   "source": [
    "#### Small Pre-Processing"
   ]
  },
  {
   "cell_type": "code",
   "execution_count": 70,
   "id": "03dd6cd6",
   "metadata": {},
   "outputs": [
    {
     "data": {
      "application/javascript": [
       "\n",
       "            setTimeout(function() {\n",
       "                var nbb_cell_id = 70;\n",
       "                var nbb_unformatted_code = \"# Removing PID column, as it is a unique identifier per row\\nhousing_corr = housing_corr.drop(\\\"PID\\\", axis=1)\\nhousing_clean = housing_clean.drop(\\\"PID\\\", axis=1)\";\n",
       "                var nbb_formatted_code = \"# Removing PID column, as it is a unique identifier per row\\nhousing_corr = housing_corr.drop(\\\"PID\\\", axis=1)\\nhousing_clean = housing_clean.drop(\\\"PID\\\", axis=1)\";\n",
       "                var nbb_cells = Jupyter.notebook.get_cells();\n",
       "                for (var i = 0; i < nbb_cells.length; ++i) {\n",
       "                    if (nbb_cells[i].input_prompt_number == nbb_cell_id) {\n",
       "                        if (nbb_cells[i].get_text() == nbb_unformatted_code) {\n",
       "                             nbb_cells[i].set_text(nbb_formatted_code);\n",
       "                        }\n",
       "                        break;\n",
       "                    }\n",
       "                }\n",
       "            }, 500);\n",
       "            "
      ],
      "text/plain": [
       "<IPython.core.display.Javascript object>"
      ]
     },
     "metadata": {},
     "output_type": "display_data"
    }
   ],
   "source": [
    "# Removing PID column, as it is a unique identifier per row\n",
    "housing_corr = housing_corr.drop(\"PID\", axis=1)\n",
    "housing_clean = housing_clean.drop(\"PID\", axis=1)"
   ]
  },
  {
   "cell_type": "markdown",
   "id": "8d5af161",
   "metadata": {},
   "source": [
    "## Label Encoding for Categorical Values"
   ]
  },
  {
   "cell_type": "code",
   "execution_count": 5,
   "id": "1880ec0d",
   "metadata": {
    "scrolled": true
   },
   "outputs": [
    {
     "data": {
      "text/plain": [
       "SalePrice            int64\n",
       "MSSubClass           int64\n",
       "MSZoning            object\n",
       "LotFrontage        float64\n",
       "LotArea              int64\n",
       "Street              object\n",
       "Alley               object\n",
       "LotShape            object\n",
       "LandContour         object\n",
       "Utilities           object\n",
       "LotConfig           object\n",
       "LandSlope           object\n",
       "Neighborhood        object\n",
       "Condition1          object\n",
       "Condition2          object\n",
       "BldgType            object\n",
       "HouseStyle          object\n",
       "OverallQual          int64\n",
       "OverallCond          int64\n",
       "RoofStyle           object\n",
       "RoofMatl            object\n",
       "Exterior1st         object\n",
       "Exterior2nd         object\n",
       "MasVnrType          object\n",
       "MasVnrArea         float64\n",
       "ExterCond            int64\n",
       "Foundation          object\n",
       "BsmtQual             int64\n",
       "BsmtCond             int64\n",
       "BsmtExposure         int64\n",
       "BsmtFinSF1         float64\n",
       "BsmtFinSF2         float64\n",
       "BsmtUnfSF          float64\n",
       "Heating             object\n",
       "HeatingQC            int64\n",
       "CentralAir          object\n",
       "Electrical          object\n",
       "2ndFlrSF             int64\n",
       "BsmtFullBath       float64\n",
       "BsmtHalfBath       float64\n",
       "HalfBath             int64\n",
       "BedroomAbvGr         int64\n",
       "KitchenAbvGr         int64\n",
       "KitchenQual          int64\n",
       "TotRmsAbvGrd         int64\n",
       "Functional          object\n",
       "Fireplaces           int64\n",
       "GarageType          object\n",
       "GarageFinish         int64\n",
       "GarageArea         float64\n",
       "GarageQual           int64\n",
       "PavedDrive          object\n",
       "WoodDeckSF           int64\n",
       "OpenPorchSF          int64\n",
       "EnclosedPorch        int64\n",
       "ScreenPorch          int64\n",
       "Fence                int64\n",
       "MoSold               int64\n",
       "YrSold               int64\n",
       "SaleType            object\n",
       "SaleCondition       object\n",
       "Age                  int64\n",
       "RemodAge             int64\n",
       "TotalSF            float64\n",
       "Remodeled            int64\n",
       "TotalPorchSF         int64\n",
       "TotalBath          float64\n",
       "MSSubClass_cat      object\n",
       "Street_type         object\n",
       "Neighborhood_st     object\n",
       "dtype: object"
      ]
     },
     "execution_count": 5,
     "metadata": {},
     "output_type": "execute_result"
    },
    {
     "data": {
      "application/javascript": [
       "\n",
       "            setTimeout(function() {\n",
       "                var nbb_cell_id = 5;\n",
       "                var nbb_unformatted_code = \"# In order to do regression, I need to turn categorical values into numerical values\\nhousing_corr.dtypes\";\n",
       "                var nbb_formatted_code = \"# In order to do regression, I need to turn categorical values into numerical values\\nhousing_corr.dtypes\";\n",
       "                var nbb_cells = Jupyter.notebook.get_cells();\n",
       "                for (var i = 0; i < nbb_cells.length; ++i) {\n",
       "                    if (nbb_cells[i].input_prompt_number == nbb_cell_id) {\n",
       "                        if (nbb_cells[i].get_text() == nbb_unformatted_code) {\n",
       "                             nbb_cells[i].set_text(nbb_formatted_code);\n",
       "                        }\n",
       "                        break;\n",
       "                    }\n",
       "                }\n",
       "            }, 500);\n",
       "            "
      ],
      "text/plain": [
       "<IPython.core.display.Javascript object>"
      ]
     },
     "metadata": {},
     "output_type": "display_data"
    }
   ],
   "source": [
    "# In order to do regression, I need to turn categorical values into numerical values\n",
    "housing_corr.dtypes"
   ]
  },
  {
   "cell_type": "code",
   "execution_count": 74,
   "id": "ccab4e10",
   "metadata": {},
   "outputs": [
    {
     "data": {
      "application/javascript": [
       "\n",
       "            setTimeout(function() {\n",
       "                var nbb_cell_id = 74;\n",
       "                var nbb_unformatted_code = \"# List categorical columns to be label encoded for train/test\\ncat_cols = housing_corr.select_dtypes(include=[\\\"object\\\"]).columns.tolist()\\ncat_cols2 = housing_clean.select_dtypes(include=[\\\"object\\\"]).columns.tolist()\\n\\n# Create a dictionary to store the label encoded values\\ncat_cols_encoded = {}\\n\\n# Label Encode the categorical columns in both train/test set to values 1,2,3,4 etc.\\nle = LabelEncoder()\\nfor column in cat_cols:\\n    housing_corr[column + \\\"_encoded\\\"] = le.fit_transform(housing_corr[column])\\n    # Store the mapping of original column to encoded column in the dictionary\\n    cat_cols_encoded[column] = column + \\\"_encoded\\\"\\n\\n# Deleting all Object type columns, now that they've been replaced with labelencoded values\\nhousing_corr_drop = housing_corr.select_dtypes(include=\\\"object\\\").columns\\nhousing_corr = housing_corr.drop(housing_corr_drop, axis=1)\\n\\n# Create a dictionary to store the label encoded values\\ncat_cols_encoded2 = {}\\n\\n# Label Encode the categorical columns in both train/test set to values 1,2,3,4 etc.\\nle2 = LabelEncoder()\\nfor column in cat_cols2:\\n    housing_clean[column + \\\"_encoded\\\"] = le.fit_transform(housing_clean[column])\\n    # Store the mapping of original column to encoded column in the dictionary\\n    cat_cols_encoded[column] = column + \\\"_encoded\\\"\\n\\n# Deleting all Object type columns, now that they've been replaced with labelencoded values\\nhousing_corr_drop = housing_clean.select_dtypes(include=\\\"object\\\").columns\\nhousing_clean = housing_clean.drop(housing_corr_drop, axis=1)\";\n",
       "                var nbb_formatted_code = \"# List categorical columns to be label encoded for train/test\\ncat_cols = housing_corr.select_dtypes(include=[\\\"object\\\"]).columns.tolist()\\ncat_cols2 = housing_clean.select_dtypes(include=[\\\"object\\\"]).columns.tolist()\\n\\n# Create a dictionary to store the label encoded values\\ncat_cols_encoded = {}\\n\\n# Label Encode the categorical columns in both train/test set to values 1,2,3,4 etc.\\nle = LabelEncoder()\\nfor column in cat_cols:\\n    housing_corr[column + \\\"_encoded\\\"] = le.fit_transform(housing_corr[column])\\n    # Store the mapping of original column to encoded column in the dictionary\\n    cat_cols_encoded[column] = column + \\\"_encoded\\\"\\n\\n# Deleting all Object type columns, now that they've been replaced with labelencoded values\\nhousing_corr_drop = housing_corr.select_dtypes(include=\\\"object\\\").columns\\nhousing_corr = housing_corr.drop(housing_corr_drop, axis=1)\\n\\n# Create a dictionary to store the label encoded values\\ncat_cols_encoded2 = {}\\n\\n# Label Encode the categorical columns in both train/test set to values 1,2,3,4 etc.\\nle2 = LabelEncoder()\\nfor column in cat_cols2:\\n    housing_clean[column + \\\"_encoded\\\"] = le.fit_transform(housing_clean[column])\\n    # Store the mapping of original column to encoded column in the dictionary\\n    cat_cols_encoded[column] = column + \\\"_encoded\\\"\\n\\n# Deleting all Object type columns, now that they've been replaced with labelencoded values\\nhousing_corr_drop = housing_clean.select_dtypes(include=\\\"object\\\").columns\\nhousing_clean = housing_clean.drop(housing_corr_drop, axis=1)\";\n",
       "                var nbb_cells = Jupyter.notebook.get_cells();\n",
       "                for (var i = 0; i < nbb_cells.length; ++i) {\n",
       "                    if (nbb_cells[i].input_prompt_number == nbb_cell_id) {\n",
       "                        if (nbb_cells[i].get_text() == nbb_unformatted_code) {\n",
       "                             nbb_cells[i].set_text(nbb_formatted_code);\n",
       "                        }\n",
       "                        break;\n",
       "                    }\n",
       "                }\n",
       "            }, 500);\n",
       "            "
      ],
      "text/plain": [
       "<IPython.core.display.Javascript object>"
      ]
     },
     "metadata": {},
     "output_type": "display_data"
    }
   ],
   "source": [
    "# List categorical columns to be label encoded for train/test\n",
    "cat_cols = housing_corr.select_dtypes(include=[\"object\"]).columns.tolist()\n",
    "cat_cols2 = housing_clean.select_dtypes(include=[\"object\"]).columns.tolist()\n",
    "\n",
    "# Create a dictionary to store the label encoded values\n",
    "cat_cols_encoded = {}\n",
    "\n",
    "# Label Encode the categorical columns in both train/test set to values 1,2,3,4 etc.\n",
    "le = LabelEncoder()\n",
    "for column in cat_cols:\n",
    "    housing_corr[column + \"_encoded\"] = le.fit_transform(housing_corr[column])\n",
    "    # Store the mapping of original column to encoded column in the dictionary\n",
    "    cat_cols_encoded[column] = column + \"_encoded\"\n",
    "\n",
    "# Deleting all Object type columns, now that they've been replaced with labelencoded values\n",
    "housing_corr_drop = housing_corr.select_dtypes(include=\"object\").columns\n",
    "housing_corr = housing_corr.drop(housing_corr_drop, axis=1)\n",
    "\n",
    "# Create a dictionary to store the label encoded values\n",
    "cat_cols_encoded2 = {}\n",
    "\n",
    "# Label Encode the categorical columns in both train/test set to values 1,2,3,4 etc.\n",
    "le2 = LabelEncoder()\n",
    "for column in cat_cols2:\n",
    "    housing_clean[column + \"_encoded\"] = le.fit_transform(housing_clean[column])\n",
    "    # Store the mapping of original column to encoded column in the dictionary\n",
    "    cat_cols_encoded[column] = column + \"_encoded\"\n",
    "\n",
    "# Deleting all Object type columns, now that they've been replaced with labelencoded values\n",
    "housing_corr_drop = housing_clean.select_dtypes(include=\"object\").columns\n",
    "housing_clean = housing_clean.drop(housing_corr_drop, axis=1)\n"
   ]
  },
  {
   "cell_type": "code",
   "execution_count": 75,
   "id": "7451e094",
   "metadata": {
    "scrolled": true
   },
   "outputs": [
    {
     "name": "stdout",
     "output_type": "stream",
     "text": [
      "(2559, 82) GrLivArea                   int64\n",
      "SalePrice                   int64\n",
      "MSSubClass                  int64\n",
      "LotFrontage               float64\n",
      "LotArea                     int64\n",
      "OverallQual                 int64\n",
      "OverallCond                 int64\n",
      "YearBuilt                   int64\n",
      "YearRemodAdd                int64\n",
      "MasVnrArea                float64\n",
      "BsmtFinSF1                float64\n",
      "BsmtFinSF2                float64\n",
      "BsmtUnfSF                 float64\n",
      "TotalBsmtSF               float64\n",
      "1stFlrSF                    int64\n",
      "2ndFlrSF                    int64\n",
      "BsmtFullBath              float64\n",
      "BsmtHalfBath              float64\n",
      "FullBath                    int64\n",
      "HalfBath                    int64\n",
      "BedroomAbvGr                int64\n",
      "KitchenAbvGr                int64\n",
      "TotRmsAbvGrd                int64\n",
      "Fireplaces                  int64\n",
      "GarageYrBlt               float64\n",
      "GarageCars                float64\n",
      "GarageArea                float64\n",
      "WoodDeckSF                  int64\n",
      "OpenPorchSF                 int64\n",
      "EnclosedPorch               int64\n",
      "ScreenPorch                 int64\n",
      "MoSold                      int64\n",
      "YrSold                      int64\n",
      "Age                         int64\n",
      "RemodAge                    int64\n",
      "TotalSF                   float64\n",
      "Remodeled                   int64\n",
      "TotalPorchSF                int64\n",
      "TotalBath                 float64\n",
      "MSZoning_encoded            int64\n",
      "Street_encoded              int64\n",
      "Alley_encoded               int64\n",
      "LotShape_encoded            int64\n",
      "LandContour_encoded         int64\n",
      "Utilities_encoded           int64\n",
      "LotConfig_encoded           int64\n",
      "LandSlope_encoded           int64\n",
      "Neighborhood_encoded        int64\n",
      "Condition1_encoded          int64\n",
      "Condition2_encoded          int64\n",
      "BldgType_encoded            int64\n",
      "HouseStyle_encoded          int64\n",
      "RoofStyle_encoded           int64\n",
      "RoofMatl_encoded            int64\n",
      "Exterior1st_encoded         int64\n",
      "Exterior2nd_encoded         int64\n",
      "MasVnrType_encoded          int64\n",
      "ExterQual_encoded           int64\n",
      "ExterCond_encoded           int64\n",
      "Foundation_encoded          int64\n",
      "BsmtQual_encoded            int64\n",
      "BsmtCond_encoded            int64\n",
      "BsmtExposure_encoded        int64\n",
      "BsmtFinType1_encoded        int64\n",
      "BsmtFinType2_encoded        int64\n",
      "Heating_encoded             int64\n",
      "HeatingQC_encoded           int64\n",
      "CentralAir_encoded          int64\n",
      "Electrical_encoded          int64\n",
      "KitchenQual_encoded         int64\n",
      "Functional_encoded          int64\n",
      "FireplaceQu_encoded         int64\n",
      "GarageType_encoded          int64\n",
      "GarageFinish_encoded        int64\n",
      "GarageQual_encoded          int64\n",
      "GarageCond_encoded          int64\n",
      "PavedDrive_encoded          int64\n",
      "Fence_encoded               int64\n",
      "SaleType_encoded            int64\n",
      "SaleCondition_encoded       int64\n",
      "MSSubClass_cat_encoded      int64\n",
      "Street_type_encoded         int64\n",
      "dtype: object\n",
      "(2559, 82) GrLivArea                   int64\n",
      "SalePrice                   int64\n",
      "MSSubClass                  int64\n",
      "LotFrontage               float64\n",
      "LotArea                     int64\n",
      "OverallQual                 int64\n",
      "OverallCond                 int64\n",
      "YearBuilt                   int64\n",
      "YearRemodAdd                int64\n",
      "MasVnrArea                float64\n",
      "BsmtFinSF1                float64\n",
      "BsmtFinSF2                float64\n",
      "BsmtUnfSF                 float64\n",
      "TotalBsmtSF               float64\n",
      "1stFlrSF                    int64\n",
      "2ndFlrSF                    int64\n",
      "BsmtFullBath              float64\n",
      "BsmtHalfBath              float64\n",
      "FullBath                    int64\n",
      "HalfBath                    int64\n",
      "BedroomAbvGr                int64\n",
      "KitchenAbvGr                int64\n",
      "TotRmsAbvGrd                int64\n",
      "Fireplaces                  int64\n",
      "GarageYrBlt               float64\n",
      "GarageCars                float64\n",
      "GarageArea                float64\n",
      "WoodDeckSF                  int64\n",
      "OpenPorchSF                 int64\n",
      "EnclosedPorch               int64\n",
      "ScreenPorch                 int64\n",
      "MoSold                      int64\n",
      "YrSold                      int64\n",
      "Age                         int64\n",
      "RemodAge                    int64\n",
      "TotalSF                   float64\n",
      "Remodeled                   int64\n",
      "TotalPorchSF                int64\n",
      "TotalBath                 float64\n",
      "MSZoning_encoded            int64\n",
      "Street_encoded              int64\n",
      "Alley_encoded               int64\n",
      "LotShape_encoded            int64\n",
      "LandContour_encoded         int64\n",
      "Utilities_encoded           int64\n",
      "LotConfig_encoded           int64\n",
      "LandSlope_encoded           int64\n",
      "Neighborhood_encoded        int64\n",
      "Condition1_encoded          int64\n",
      "Condition2_encoded          int64\n",
      "BldgType_encoded            int64\n",
      "HouseStyle_encoded          int64\n",
      "RoofStyle_encoded           int64\n",
      "RoofMatl_encoded            int64\n",
      "Exterior1st_encoded         int64\n",
      "Exterior2nd_encoded         int64\n",
      "MasVnrType_encoded          int64\n",
      "ExterQual_encoded           int64\n",
      "ExterCond_encoded           int64\n",
      "Foundation_encoded          int64\n",
      "BsmtQual_encoded            int64\n",
      "BsmtCond_encoded            int64\n",
      "BsmtExposure_encoded        int64\n",
      "BsmtFinType1_encoded        int64\n",
      "BsmtFinType2_encoded        int64\n",
      "Heating_encoded             int64\n",
      "HeatingQC_encoded           int64\n",
      "CentralAir_encoded          int64\n",
      "Electrical_encoded          int64\n",
      "KitchenQual_encoded         int64\n",
      "Functional_encoded          int64\n",
      "FireplaceQu_encoded         int64\n",
      "GarageType_encoded          int64\n",
      "GarageFinish_encoded        int64\n",
      "GarageQual_encoded          int64\n",
      "GarageCond_encoded          int64\n",
      "PavedDrive_encoded          int64\n",
      "Fence_encoded               int64\n",
      "SaleType_encoded            int64\n",
      "SaleCondition_encoded       int64\n",
      "MSSubClass_cat_encoded      int64\n",
      "Street_type_encoded         int64\n",
      "dtype: object\n"
     ]
    },
    {
     "data": {
      "application/javascript": [
       "\n",
       "            setTimeout(function() {\n",
       "                var nbb_cell_id = 75;\n",
       "                var nbb_unformatted_code = \"# Did it work? yes!\\nprint(housing_corr.shape, housing_corr.dtypes)\\nprint(housing_clean.shape, housing_clean.dtypes)\";\n",
       "                var nbb_formatted_code = \"# Did it work? yes!\\nprint(housing_corr.shape, housing_corr.dtypes)\\nprint(housing_clean.shape, housing_clean.dtypes)\";\n",
       "                var nbb_cells = Jupyter.notebook.get_cells();\n",
       "                for (var i = 0; i < nbb_cells.length; ++i) {\n",
       "                    if (nbb_cells[i].input_prompt_number == nbb_cell_id) {\n",
       "                        if (nbb_cells[i].get_text() == nbb_unformatted_code) {\n",
       "                             nbb_cells[i].set_text(nbb_formatted_code);\n",
       "                        }\n",
       "                        break;\n",
       "                    }\n",
       "                }\n",
       "            }, 500);\n",
       "            "
      ],
      "text/plain": [
       "<IPython.core.display.Javascript object>"
      ]
     },
     "metadata": {},
     "output_type": "display_data"
    }
   ],
   "source": [
    "# Did it work? yes!\n",
    "print(housing_corr.shape, housing_corr.dtypes)\n",
    "print(housing_clean.shape, housing_clean.dtypes)"
   ]
  },
  {
   "cell_type": "code",
   "execution_count": 76,
   "id": "e9b2222f",
   "metadata": {},
   "outputs": [
    {
     "name": "stdout",
     "output_type": "stream",
     "text": [
      "Index([], dtype='object')\n"
     ]
    },
    {
     "data": {
      "application/javascript": [
       "\n",
       "            setTimeout(function() {\n",
       "                var nbb_cell_id = 76;\n",
       "                var nbb_unformatted_code = \"# Triple Check that there are no object values\\nstrings = housing_corr.select_dtypes(include=[\\\"object\\\"]).columns\\nprint(strings)\";\n",
       "                var nbb_formatted_code = \"# Triple Check that there are no object values\\nstrings = housing_corr.select_dtypes(include=[\\\"object\\\"]).columns\\nprint(strings)\";\n",
       "                var nbb_cells = Jupyter.notebook.get_cells();\n",
       "                for (var i = 0; i < nbb_cells.length; ++i) {\n",
       "                    if (nbb_cells[i].input_prompt_number == nbb_cell_id) {\n",
       "                        if (nbb_cells[i].get_text() == nbb_unformatted_code) {\n",
       "                             nbb_cells[i].set_text(nbb_formatted_code);\n",
       "                        }\n",
       "                        break;\n",
       "                    }\n",
       "                }\n",
       "            }, 500);\n",
       "            "
      ],
      "text/plain": [
       "<IPython.core.display.Javascript object>"
      ]
     },
     "metadata": {},
     "output_type": "display_data"
    }
   ],
   "source": [
    "# Triple Check that there are no object values\n",
    "strings = housing_corr.select_dtypes(include=[\"object\"]).columns\n",
    "print(strings)"
   ]
  },
  {
   "cell_type": "markdown",
   "id": "2d0e8d56",
   "metadata": {},
   "source": [
    "## Train Test Split"
   ]
  },
  {
   "cell_type": "code",
   "execution_count": 96,
   "id": "a29f7dcb",
   "metadata": {},
   "outputs": [
    {
     "data": {
      "application/javascript": [
       "\n",
       "            setTimeout(function() {\n",
       "                var nbb_cell_id = 96;\n",
       "                var nbb_unformatted_code = \"# All Columns\\nX0 = housing_clean.loc[:, housing_corr.columns != \\\"SalePrice\\\"]\\ny0 = housing_clean.loc[:, \\\"SalePrice\\\"]\\nX0_train, X0_test, y0_train, y0_test = train_test_split(\\n    X0,\\n    y0,\\n    random_state=42,\\n    test_size=0.3,  # stratify=housing_corr[\\\"Neighborhood\\\"] # commenting out for now\\n)\\n\\n# Columns Removed\\nX = housing_corr.loc[:, housing_corr.columns != \\\"SalePrice\\\"]\\ny = housing_corr.loc[:, \\\"SalePrice\\\"]\\nX_train, X_test, y_train, y_test = train_test_split(\\n    X,\\n    y,\\n    random_state=42,\\n    test_size=0.3,  # stratify=housing_corr[\\\"Neighborhood\\\"] # commenting out for now\\n)\";\n",
       "                var nbb_formatted_code = \"# All Columns\\nX0 = housing_clean.loc[:, housing_corr.columns != \\\"SalePrice\\\"]\\ny0 = housing_clean.loc[:, \\\"SalePrice\\\"]\\nX0_train, X0_test, y0_train, y0_test = train_test_split(\\n    X0,\\n    y0,\\n    random_state=42,\\n    test_size=0.3,  # stratify=housing_corr[\\\"Neighborhood\\\"] # commenting out for now\\n)\\n\\n# Columns Removed\\nX = housing_corr.loc[:, housing_corr.columns != \\\"SalePrice\\\"]\\ny = housing_corr.loc[:, \\\"SalePrice\\\"]\\nX_train, X_test, y_train, y_test = train_test_split(\\n    X,\\n    y,\\n    random_state=42,\\n    test_size=0.3,  # stratify=housing_corr[\\\"Neighborhood\\\"] # commenting out for now\\n)\";\n",
       "                var nbb_cells = Jupyter.notebook.get_cells();\n",
       "                for (var i = 0; i < nbb_cells.length; ++i) {\n",
       "                    if (nbb_cells[i].input_prompt_number == nbb_cell_id) {\n",
       "                        if (nbb_cells[i].get_text() == nbb_unformatted_code) {\n",
       "                             nbb_cells[i].set_text(nbb_formatted_code);\n",
       "                        }\n",
       "                        break;\n",
       "                    }\n",
       "                }\n",
       "            }, 500);\n",
       "            "
      ],
      "text/plain": [
       "<IPython.core.display.Javascript object>"
      ]
     },
     "metadata": {},
     "output_type": "display_data"
    }
   ],
   "source": [
    "# All Columns\n",
    "X0 = housing_clean.loc[:, housing_corr.columns != \"SalePrice\"]\n",
    "y0 = housing_clean.loc[:, \"SalePrice\"]\n",
    "X0_train, X0_test, y0_train, y0_test = train_test_split(\n",
    "    X0,\n",
    "    y0,\n",
    "    random_state=42,\n",
    "    test_size=0.3,  # stratify=housing_corr[\"Neighborhood\"] # commenting out for now\n",
    ")\n",
    "\n",
    "# Columns Removed\n",
    "X = housing_corr.loc[:, housing_corr.columns != \"SalePrice\"]\n",
    "y = housing_corr.loc[:, \"SalePrice\"]\n",
    "X_train, X_test, y_train, y_test = train_test_split(\n",
    "    X,\n",
    "    y,\n",
    "    random_state=42,\n",
    "    test_size=0.3,  # stratify=housing_corr[\"Neighborhood\"] # commenting out for now\n",
    ")"
   ]
  },
  {
   "cell_type": "code",
   "execution_count": 10,
   "id": "5a9a20d7",
   "metadata": {},
   "outputs": [
    {
     "name": "stdout",
     "output_type": "stream",
     "text": [
      "(1790, 69)\n",
      "(768, 69)\n"
     ]
    },
    {
     "data": {
      "application/javascript": [
       "\n",
       "            setTimeout(function() {\n",
       "                var nbb_cell_id = 10;\n",
       "                var nbb_unformatted_code = \"print(X_train.shape)\\nprint(X_test.shape)\";\n",
       "                var nbb_formatted_code = \"print(X_train.shape)\\nprint(X_test.shape)\";\n",
       "                var nbb_cells = Jupyter.notebook.get_cells();\n",
       "                for (var i = 0; i < nbb_cells.length; ++i) {\n",
       "                    if (nbb_cells[i].input_prompt_number == nbb_cell_id) {\n",
       "                        if (nbb_cells[i].get_text() == nbb_unformatted_code) {\n",
       "                             nbb_cells[i].set_text(nbb_formatted_code);\n",
       "                        }\n",
       "                        break;\n",
       "                    }\n",
       "                }\n",
       "            }, 500);\n",
       "            "
      ],
      "text/plain": [
       "<IPython.core.display.Javascript object>"
      ]
     },
     "metadata": {},
     "output_type": "display_data"
    }
   ],
   "source": [
    "print(X_train.shape)\n",
    "print(X_test.shape)"
   ]
  },
  {
   "cell_type": "markdown",
   "id": "eb69c8cb",
   "metadata": {},
   "source": [
    "## Define Model "
   ]
  },
  {
   "cell_type": "code",
   "execution_count": 11,
   "id": "4756cbb2",
   "metadata": {},
   "outputs": [
    {
     "data": {
      "application/javascript": [
       "\n",
       "            setTimeout(function() {\n",
       "                var nbb_cell_id = 11;\n",
       "                var nbb_unformatted_code = \"# Define Model and Variables\\ninitial_model = GradientBoostingRegressor()\";\n",
       "                var nbb_formatted_code = \"# Define Model and Variables\\ninitial_model = GradientBoostingRegressor()\";\n",
       "                var nbb_cells = Jupyter.notebook.get_cells();\n",
       "                for (var i = 0; i < nbb_cells.length; ++i) {\n",
       "                    if (nbb_cells[i].input_prompt_number == nbb_cell_id) {\n",
       "                        if (nbb_cells[i].get_text() == nbb_unformatted_code) {\n",
       "                             nbb_cells[i].set_text(nbb_formatted_code);\n",
       "                        }\n",
       "                        break;\n",
       "                    }\n",
       "                }\n",
       "            }, 500);\n",
       "            "
      ],
      "text/plain": [
       "<IPython.core.display.Javascript object>"
      ]
     },
     "metadata": {},
     "output_type": "display_data"
    }
   ],
   "source": [
    "# Define Model and Variables\n",
    "initial_model = GradientBoostingRegressor()"
   ]
  },
  {
   "cell_type": "markdown",
   "id": "82442723",
   "metadata": {},
   "source": [
    "## Checking to see if any columns are just 0's"
   ]
  },
  {
   "cell_type": "code",
   "execution_count": 12,
   "id": "9320a081",
   "metadata": {},
   "outputs": [
    {
     "name": "stdout",
     "output_type": "stream",
     "text": [
      "['Utilities_encoded']\n",
      "[]\n"
     ]
    },
    {
     "data": {
      "application/javascript": [
       "\n",
       "            setTimeout(function() {\n",
       "                var nbb_cell_id = 12;\n",
       "                var nbb_unformatted_code = \"all_zero_cols_train = []\\nfor col in X_train.columns:\\n    if (X_train[col] == 0).all():\\n        all_zero_cols_train.append(col)\\nprint(all_zero_cols_train)\\n\\nall_zero_cols_test = []\\nfor col in X_test.columns:\\n    if (X_test[col] == 0).all():\\n        all_zero_cols_test.append(col)\\nprint(all_zero_cols_test)\";\n",
       "                var nbb_formatted_code = \"all_zero_cols_train = []\\nfor col in X_train.columns:\\n    if (X_train[col] == 0).all():\\n        all_zero_cols_train.append(col)\\nprint(all_zero_cols_train)\\n\\nall_zero_cols_test = []\\nfor col in X_test.columns:\\n    if (X_test[col] == 0).all():\\n        all_zero_cols_test.append(col)\\nprint(all_zero_cols_test)\";\n",
       "                var nbb_cells = Jupyter.notebook.get_cells();\n",
       "                for (var i = 0; i < nbb_cells.length; ++i) {\n",
       "                    if (nbb_cells[i].input_prompt_number == nbb_cell_id) {\n",
       "                        if (nbb_cells[i].get_text() == nbb_unformatted_code) {\n",
       "                             nbb_cells[i].set_text(nbb_formatted_code);\n",
       "                        }\n",
       "                        break;\n",
       "                    }\n",
       "                }\n",
       "            }, 500);\n",
       "            "
      ],
      "text/plain": [
       "<IPython.core.display.Javascript object>"
      ]
     },
     "metadata": {},
     "output_type": "display_data"
    }
   ],
   "source": [
    "all_zero_cols_train = []\n",
    "for col in X_train.columns:\n",
    "    if (X_train[col] == 0).all():\n",
    "        all_zero_cols_train.append(col)\n",
    "print(all_zero_cols_train)\n",
    "\n",
    "all_zero_cols_test = []\n",
    "for col in X_test.columns:\n",
    "    if (X_test[col] == 0).all():\n",
    "        all_zero_cols_test.append(col)\n",
    "print(all_zero_cols_test)"
   ]
  },
  {
   "cell_type": "markdown",
   "id": "c16af0bc",
   "metadata": {},
   "source": [
    "## Gradient Boosting Regression Model"
   ]
  },
  {
   "cell_type": "markdown",
   "id": "d36ec662",
   "metadata": {},
   "source": [
    "#### All Features Model"
   ]
  },
  {
   "cell_type": "code",
   "execution_count": 98,
   "id": "a789b82e",
   "metadata": {},
   "outputs": [
    {
     "name": "stdout",
     "output_type": "stream",
     "text": [
      "      Iter       Train Loss   Remaining Time \n",
      "         1  4246297217.9386            1.15s\n",
      "         2  3646727863.3591            1.05s\n",
      "         3  3138742267.3508            1.00s\n",
      "         4  2725157697.1546            0.96s\n",
      "         5  2378299516.0712            0.95s\n",
      "         6  2080741111.5603            0.93s\n",
      "         7  1836120932.0663            0.89s\n",
      "         8  1629885005.1010            0.86s\n",
      "         9  1459589275.8212            0.83s\n",
      "        10  1308456424.2599            0.80s\n",
      "        20   598065214.1904            0.62s\n",
      "        30   382896177.5773            0.52s\n",
      "        40   288563245.3312            0.44s\n",
      "        50   240034182.1090            0.36s\n",
      "        60   210217125.0462            0.29s\n",
      "        70   188749475.4267            0.21s\n",
      "        80   173822673.5389            0.14s\n",
      "        90   164549303.3256            0.07s\n",
      "       100   155553044.7940            0.00s\n",
      "--------------------------------------------------\n",
      "R^2 scores: [0.9089592  0.80531907 0.91108663 0.92573651 0.7274687 ]\n",
      "MAE scores: [14100.92246109 21378.39737675 16976.40842349 15465.92601206\n",
      " 14999.03906277]\n",
      "--------------------------------------------------\n",
      "Average R^2 score: 0.8557140226251703\n",
      "Average MAE score: 16584.13866723027\n",
      "--------------------------------------------------\n"
     ]
    },
    {
     "data": {
      "application/javascript": [
       "\n",
       "            setTimeout(function() {\n",
       "                var nbb_cell_id = 98;\n",
       "                var nbb_unformatted_code = \"initial_model0 = GradientBoostingRegressor()\\ninitial_model.fit(X0_train, y0_train)\\nr2mae_scores(initial_model0, X0_test, y0_test)\";\n",
       "                var nbb_formatted_code = \"initial_model0 = GradientBoostingRegressor()\\ninitial_model.fit(X0_train, y0_train)\\nr2mae_scores(initial_model0, X0_test, y0_test)\";\n",
       "                var nbb_cells = Jupyter.notebook.get_cells();\n",
       "                for (var i = 0; i < nbb_cells.length; ++i) {\n",
       "                    if (nbb_cells[i].input_prompt_number == nbb_cell_id) {\n",
       "                        if (nbb_cells[i].get_text() == nbb_unformatted_code) {\n",
       "                             nbb_cells[i].set_text(nbb_formatted_code);\n",
       "                        }\n",
       "                        break;\n",
       "                    }\n",
       "                }\n",
       "            }, 500);\n",
       "            "
      ],
      "text/plain": [
       "<IPython.core.display.Javascript object>"
      ]
     },
     "metadata": {},
     "output_type": "display_data"
    }
   ],
   "source": [
    "initial_model0 = GradientBoostingRegressor()\n",
    "initial_model.fit(X0_train, y0_train)\n",
    "r2mae_scores(initial_model0, X0_test, y0_test)"
   ]
  },
  {
   "cell_type": "markdown",
   "id": "3949b769",
   "metadata": {},
   "source": [
    "#### 13 Features Removed Model"
   ]
  },
  {
   "cell_type": "code",
   "execution_count": 81,
   "id": "6daf9c71",
   "metadata": {},
   "outputs": [
    {
     "name": "stdout",
     "output_type": "stream",
     "text": [
      "      Iter       Train Loss   Remaining Time \n",
      "         1  4534454921.8870            0.92s\n",
      "         2  3888989768.9006            0.86s\n",
      "         3  3358108692.8907            0.82s\n",
      "         4  2910298982.8630            0.75s\n",
      "         5  2532700085.7072            0.74s\n",
      "         6  2221492711.0689            0.74s\n",
      "         7  1959959146.7723            0.73s\n",
      "         8  1739991416.5336            0.71s\n",
      "         9  1552496543.3115            0.69s\n",
      "        10  1394570132.2613            0.67s\n",
      "        20   621502546.7826            0.52s\n",
      "        30   394462538.6702            0.43s\n",
      "        40   295676067.7593            0.36s\n",
      "        50   248108290.9238            0.30s\n",
      "        60   217429980.0547            0.24s\n",
      "        70   196515561.3329            0.17s\n",
      "        80   181139525.3714            0.12s\n",
      "        90   169731012.6881            0.06s\n",
      "       100   160277304.6990            0.00s\n"
     ]
    },
    {
     "data": {
      "text/plain": [
       "GradientBoostingRegressor(verbose=1)"
      ]
     },
     "execution_count": 81,
     "metadata": {},
     "output_type": "execute_result"
    },
    {
     "data": {
      "application/javascript": [
       "\n",
       "            setTimeout(function() {\n",
       "                var nbb_cell_id = 81;\n",
       "                var nbb_unformatted_code = \"# Fit Model\\ninitial_model.fit(X_train, y_train)\";\n",
       "                var nbb_formatted_code = \"# Fit Model\\ninitial_model.fit(X_train, y_train)\";\n",
       "                var nbb_cells = Jupyter.notebook.get_cells();\n",
       "                for (var i = 0; i < nbb_cells.length; ++i) {\n",
       "                    if (nbb_cells[i].input_prompt_number == nbb_cell_id) {\n",
       "                        if (nbb_cells[i].get_text() == nbb_unformatted_code) {\n",
       "                             nbb_cells[i].set_text(nbb_formatted_code);\n",
       "                        }\n",
       "                        break;\n",
       "                    }\n",
       "                }\n",
       "            }, 500);\n",
       "            "
      ],
      "text/plain": [
       "<IPython.core.display.Javascript object>"
      ]
     },
     "metadata": {},
     "output_type": "display_data"
    }
   ],
   "source": [
    "# Fit Model\n",
    "initial_model.fit(X_train, y_train)"
   ]
  },
  {
   "cell_type": "markdown",
   "id": "6ec5c264",
   "metadata": {},
   "source": [
    "## Evaluate the base model"
   ]
  },
  {
   "cell_type": "code",
   "execution_count": 77,
   "id": "7f5be5a6",
   "metadata": {
    "scrolled": true
   },
   "outputs": [
    {
     "name": "stdout",
     "output_type": "stream",
     "text": [
      "--------------------------------------------------\n",
      "R^2 scores: [0.87932817 0.93584637 0.93815728 0.93437865 0.92347707]\n",
      "MAE scores: [14800.4816255  13851.74775871 13107.43809284 11328.54531108\n",
      " 12835.44775822]\n",
      "--------------------------------------------------\n",
      "Average R^2 score: 0.9222375073194404\n",
      "Average MAE score: 13184.732109270542\n",
      "--------------------------------------------------\n"
     ]
    },
    {
     "data": {
      "application/javascript": [
       "\n",
       "            setTimeout(function() {\n",
       "                var nbb_cell_id = 77;\n",
       "                var nbb_unformatted_code = \"# Creating a scoring function\\n\\ndef r2mae_scores(model, X, y):\\n    # Using R^2 as the scoring metric\\n    r2_scores = cross_val_score(\\n        model, X, y, \\n        cv=5, \\n        scoring=\\\"r2\\\",\\n        n_jobs=-1\\n    )\\n\\n    # Using Mean Absolute Error as the scoring metric\\n    mae_scores = cross_val_score(\\n        model, X, y, \\n        cv=5, \\n        scoring=\\\"neg_mean_absolute_error\\\",\\n        n_jobs=-1\\n    )\\n\\n    # Convert the MAE scores back to positive\\n    mae_scores = -1 * mae_scores\\n    \\n    avg_r2_score = np.mean(r2_scores)\\n    avg_MAE_score = np.mean(mae_scores)\\n\\n    # Print the scores\\n\\n    print('-'*50)\\n    print(\\\"R^2 scores:\\\", r2_scores)\\n    print(\\\"MAE scores:\\\", mae_scores)\\n    print('-'*50)\\n    print(\\\"Average R^2 score:\\\", avg_r2_score)\\n    print(\\\"Average MAE score:\\\", avg_MAE_score)\\n    print('-'*50)\\n    \\n# Run Function\\nr2mae_scores(initial_model, X_train, y_train)\\n    \";\n",
       "                var nbb_formatted_code = \"# Creating a scoring function\\n\\n\\ndef r2mae_scores(model, X, y):\\n    # Using R^2 as the scoring metric\\n    r2_scores = cross_val_score(model, X, y, cv=5, scoring=\\\"r2\\\", n_jobs=-1)\\n\\n    # Using Mean Absolute Error as the scoring metric\\n    mae_scores = cross_val_score(\\n        model, X, y, cv=5, scoring=\\\"neg_mean_absolute_error\\\", n_jobs=-1\\n    )\\n\\n    # Convert the MAE scores back to positive\\n    mae_scores = -1 * mae_scores\\n\\n    avg_r2_score = np.mean(r2_scores)\\n    avg_MAE_score = np.mean(mae_scores)\\n\\n    # Print the scores\\n\\n    print(\\\"-\\\" * 50)\\n    print(\\\"R^2 scores:\\\", r2_scores)\\n    print(\\\"MAE scores:\\\", mae_scores)\\n    print(\\\"-\\\" * 50)\\n    print(\\\"Average R^2 score:\\\", avg_r2_score)\\n    print(\\\"Average MAE score:\\\", avg_MAE_score)\\n    print(\\\"-\\\" * 50)\\n\\n\\n# Run Function\\nr2mae_scores(initial_model, X_train, y_train)\";\n",
       "                var nbb_cells = Jupyter.notebook.get_cells();\n",
       "                for (var i = 0; i < nbb_cells.length; ++i) {\n",
       "                    if (nbb_cells[i].input_prompt_number == nbb_cell_id) {\n",
       "                        if (nbb_cells[i].get_text() == nbb_unformatted_code) {\n",
       "                             nbb_cells[i].set_text(nbb_formatted_code);\n",
       "                        }\n",
       "                        break;\n",
       "                    }\n",
       "                }\n",
       "            }, 500);\n",
       "            "
      ],
      "text/plain": [
       "<IPython.core.display.Javascript object>"
      ]
     },
     "metadata": {},
     "output_type": "display_data"
    }
   ],
   "source": [
    "# Creating a scoring function\n",
    "\n",
    "def r2mae_scores(model, X, y):\n",
    "    # Using R^2 as the scoring metric\n",
    "    r2_scores = cross_val_score(\n",
    "        model, X, y, \n",
    "        cv=5, \n",
    "        scoring=\"r2\",\n",
    "        n_jobs=-1\n",
    "    )\n",
    "\n",
    "    # Using Mean Absolute Error as the scoring metric\n",
    "    mae_scores = cross_val_score(\n",
    "        model, X, y, \n",
    "        cv=5, \n",
    "        scoring=\"neg_mean_absolute_error\",\n",
    "        n_jobs=-1\n",
    "    )\n",
    "\n",
    "    # Convert the MAE scores back to positive\n",
    "    mae_scores = -1 * mae_scores\n",
    "    \n",
    "    avg_r2_score = np.mean(r2_scores)\n",
    "    avg_MAE_score = np.mean(mae_scores)\n",
    "\n",
    "    # Print the scores\n",
    "\n",
    "    print('-'*50)\n",
    "    print(\"R^2 scores:\", r2_scores)\n",
    "    print(\"MAE scores:\", mae_scores)\n",
    "    print('-'*50)\n",
    "    print(\"Average R^2 score:\", avg_r2_score)\n",
    "    print(\"Average MAE score:\", avg_MAE_score)\n",
    "    print('-'*50)\n",
    "    \n",
    "# Run Function\n",
    "r2mae_scores(initial_model, X_train, y_train)\n",
    "    \n"
   ]
  },
  {
   "cell_type": "markdown",
   "id": "f3ddf0e5",
   "metadata": {},
   "source": [
    "Note that we pass the negative of the MAE scores because scikit-learn's cross_val_score() function expects a scoring function that returns higher values for better performance, but MAE returns lower values for better performance. We then convert the negative scores back to positive by multiplying them with -1 and print the array of scores and the average score using the np.mean() function."
   ]
  },
  {
   "cell_type": "markdown",
   "id": "bb222c97",
   "metadata": {},
   "source": [
    "## Tuning the Hyper Parameters"
   ]
  },
  {
   "cell_type": "code",
   "execution_count": 15,
   "id": "06e2c53b",
   "metadata": {},
   "outputs": [
    {
     "name": "stdout",
     "output_type": "stream",
     "text": [
      "Fitting 5 folds for each of 27 candidates, totalling 135 fits\n"
     ]
    },
    {
     "data": {
      "text/plain": [
       "GridSearchCV(cv=5, estimator=GradientBoostingRegressor(random_state=42),\n",
       "             n_jobs=-1,\n",
       "             param_grid={'learning_rate': [0.01, 0.1, 0.5],\n",
       "                         'max_depth': [3, 5, 7],\n",
       "                         'n_estimators': [100, 500, 1000]},\n",
       "             scoring='neg_mean_absolute_error', verbose=1)"
      ]
     },
     "execution_count": 15,
     "metadata": {},
     "output_type": "execute_result"
    },
    {
     "data": {
      "application/javascript": [
       "\n",
       "            setTimeout(function() {\n",
       "                var nbb_cell_id = 15;\n",
       "                var nbb_unformatted_code = \"## GridSearchCV - Creates Tuned Model\\n\\nparam_grid = {\\n    \\\"n_estimators\\\": [100, 500, 1000],\\n    \\\"max_depth\\\": [3, 5, 7],\\n    \\\"learning_rate\\\": [0.01, 0.1, 0.5],\\n}\\n\\ntuned_model = GridSearchCV(\\n    GradientBoostingRegressor(random_state=42),\\n    param_grid,\\n    cv=5,\\n    scoring=\\\"neg_mean_absolute_error\\\",\\n    n_jobs=-1,  # use all available CPU cores\\n    verbose=1,\\n)\\ntuned_model.fit(X_train, y_train)\";\n",
       "                var nbb_formatted_code = \"## GridSearchCV - Creates Tuned Model\\n\\nparam_grid = {\\n    \\\"n_estimators\\\": [100, 500, 1000],\\n    \\\"max_depth\\\": [3, 5, 7],\\n    \\\"learning_rate\\\": [0.01, 0.1, 0.5],\\n}\\n\\ntuned_model = GridSearchCV(\\n    GradientBoostingRegressor(random_state=42),\\n    param_grid,\\n    cv=5,\\n    scoring=\\\"neg_mean_absolute_error\\\",\\n    n_jobs=-1,  # use all available CPU cores\\n    verbose=1,\\n)\\ntuned_model.fit(X_train, y_train)\";\n",
       "                var nbb_cells = Jupyter.notebook.get_cells();\n",
       "                for (var i = 0; i < nbb_cells.length; ++i) {\n",
       "                    if (nbb_cells[i].input_prompt_number == nbb_cell_id) {\n",
       "                        if (nbb_cells[i].get_text() == nbb_unformatted_code) {\n",
       "                             nbb_cells[i].set_text(nbb_formatted_code);\n",
       "                        }\n",
       "                        break;\n",
       "                    }\n",
       "                }\n",
       "            }, 500);\n",
       "            "
      ],
      "text/plain": [
       "<IPython.core.display.Javascript object>"
      ]
     },
     "metadata": {},
     "output_type": "display_data"
    }
   ],
   "source": [
    "## GridSearchCV - Creates Tuned Model\n",
    "\n",
    "param_grid = {\n",
    "    \"n_estimators\": [100, 500, 1000],\n",
    "    \"max_depth\": [3, 5, 7],\n",
    "    \"learning_rate\": [0.01, 0.1, 0.5],\n",
    "}\n",
    "\n",
    "tuned_model_GSV = GridSearchCV(\n",
    "    GradientBoostingRegressor(random_state=42),\n",
    "    param_grid,\n",
    "    cv=5,\n",
    "    scoring=\"neg_mean_absolute_error\",\n",
    "    n_jobs=-1,  # use all available CPU cores\n",
    "    verbose=1,\n",
    ")"
   ]
  },
  {
   "cell_type": "code",
   "execution_count": 16,
   "id": "7c648bff",
   "metadata": {
    "scrolled": true
   },
   "outputs": [
    {
     "name": "stdout",
     "output_type": "stream",
     "text": [
      "Best hyperparameters:  {'learning_rate': 0.1, 'max_depth': 3, 'n_estimators': 500}\n"
     ]
    },
    {
     "data": {
      "application/javascript": [
       "\n",
       "            setTimeout(function() {\n",
       "                var nbb_cell_id = 16;\n",
       "                var nbb_unformatted_code = \"print(\\\"Best hyperparameters: \\\", tuned_model.best_params_)\";\n",
       "                var nbb_formatted_code = \"print(\\\"Best hyperparameters: \\\", tuned_model.best_params_)\";\n",
       "                var nbb_cells = Jupyter.notebook.get_cells();\n",
       "                for (var i = 0; i < nbb_cells.length; ++i) {\n",
       "                    if (nbb_cells[i].input_prompt_number == nbb_cell_id) {\n",
       "                        if (nbb_cells[i].get_text() == nbb_unformatted_code) {\n",
       "                             nbb_cells[i].set_text(nbb_formatted_code);\n",
       "                        }\n",
       "                        break;\n",
       "                    }\n",
       "                }\n",
       "            }, 500);\n",
       "            "
      ],
      "text/plain": [
       "<IPython.core.display.Javascript object>"
      ]
     },
     "metadata": {},
     "output_type": "display_data"
    }
   ],
   "source": [
    "print(\"Best hyperparameters: \", tuned_model_GSV.best_params_)"
   ]
  },
  {
   "cell_type": "code",
   "execution_count": 17,
   "id": "a4cf458c",
   "metadata": {},
   "outputs": [
    {
     "data": {
      "text/plain": [
       "{'mean_fit_time': array([ 0.49210091,  2.53585138,  5.11918292,  0.8421865 ,  4.21500177,\n",
       "         8.47200041,  1.19131413,  5.93269477, 11.95309825,  0.51724777,\n",
       "         2.57364559,  5.17411647,  0.85534539,  4.22990623,  8.50466957,\n",
       "         1.18852878,  5.95529113, 11.91915202,  0.51966238,  2.57178478,\n",
       "         5.15499873,  0.85087662,  4.24530582,  8.52523127,  1.20235496,\n",
       "         5.70577359,  7.31320291]),\n",
       " 'std_fit_time': array([0.0210714 , 0.0166117 , 0.02318666, 0.00308862, 0.02107358,\n",
       "        0.05181518, 0.00515951, 0.02343067, 0.09439152, 0.00423947,\n",
       "        0.01146634, 0.02901595, 0.0082998 , 0.01622392, 0.05751113,\n",
       "        0.00521845, 0.02719073, 0.09629628, 0.0033352 , 0.01083372,\n",
       "        0.02731423, 0.00306178, 0.02269129, 0.06504502, 0.00950552,\n",
       "        0.05973331, 1.63979901]),\n",
       " 'mean_score_time': array([0.00191507, 0.00401349, 0.00589347, 0.00237126, 0.00718102,\n",
       "        0.01073179, 0.00292134, 0.00996447, 0.01601667, 0.00229058,\n",
       "        0.00380182, 0.00640655, 0.00221906, 0.00671144, 0.00919895,\n",
       "        0.00394754, 0.00937529, 0.01505356, 0.00172276, 0.00338068,\n",
       "        0.0075036 , 0.00218377, 0.00576758, 0.01084075, 0.00356913,\n",
       "        0.00692925, 0.00903082]),\n",
       " 'std_score_time': array([7.98587079e-05, 2.04042481e-04, 2.01819151e-04, 1.46671839e-04,\n",
       "        2.11085383e-03, 2.18664762e-03, 3.03009623e-04, 2.22591134e-03,\n",
       "        2.22728862e-03, 1.06363714e-03, 1.02786261e-03, 2.59128349e-03,\n",
       "        1.16384864e-04, 2.23044399e-03, 1.65660747e-03, 1.37610634e-03,\n",
       "        1.92362602e-03, 2.89008714e-03, 6.11775570e-05, 2.29552280e-04,\n",
       "        2.76038710e-03, 1.77493215e-04, 9.62841700e-04, 2.71933309e-03,\n",
       "        1.92783378e-03, 7.50582584e-05, 1.44289153e-03]),\n",
       " 'param_learning_rate': masked_array(data=[0.01, 0.01, 0.01, 0.01, 0.01, 0.01, 0.01, 0.01, 0.01,\n",
       "                    0.1, 0.1, 0.1, 0.1, 0.1, 0.1, 0.1, 0.1, 0.1, 0.5, 0.5,\n",
       "                    0.5, 0.5, 0.5, 0.5, 0.5, 0.5, 0.5],\n",
       "              mask=[False, False, False, False, False, False, False, False,\n",
       "                    False, False, False, False, False, False, False, False,\n",
       "                    False, False, False, False, False, False, False, False,\n",
       "                    False, False, False],\n",
       "        fill_value='?',\n",
       "             dtype=object),\n",
       " 'param_max_depth': masked_array(data=[3, 3, 3, 5, 5, 5, 7, 7, 7, 3, 3, 3, 5, 5, 5, 7, 7, 7,\n",
       "                    3, 3, 3, 5, 5, 5, 7, 7, 7],\n",
       "              mask=[False, False, False, False, False, False, False, False,\n",
       "                    False, False, False, False, False, False, False, False,\n",
       "                    False, False, False, False, False, False, False, False,\n",
       "                    False, False, False],\n",
       "        fill_value='?',\n",
       "             dtype=object),\n",
       " 'param_n_estimators': masked_array(data=[100, 500, 1000, 100, 500, 1000, 100, 500, 1000, 100,\n",
       "                    500, 1000, 100, 500, 1000, 100, 500, 1000, 100, 500,\n",
       "                    1000, 100, 500, 1000, 100, 500, 1000],\n",
       "              mask=[False, False, False, False, False, False, False, False,\n",
       "                    False, False, False, False, False, False, False, False,\n",
       "                    False, False, False, False, False, False, False, False,\n",
       "                    False, False, False],\n",
       "        fill_value='?',\n",
       "             dtype=object),\n",
       " 'params': [{'learning_rate': 0.01, 'max_depth': 3, 'n_estimators': 100},\n",
       "  {'learning_rate': 0.01, 'max_depth': 3, 'n_estimators': 500},\n",
       "  {'learning_rate': 0.01, 'max_depth': 3, 'n_estimators': 1000},\n",
       "  {'learning_rate': 0.01, 'max_depth': 5, 'n_estimators': 100},\n",
       "  {'learning_rate': 0.01, 'max_depth': 5, 'n_estimators': 500},\n",
       "  {'learning_rate': 0.01, 'max_depth': 5, 'n_estimators': 1000},\n",
       "  {'learning_rate': 0.01, 'max_depth': 7, 'n_estimators': 100},\n",
       "  {'learning_rate': 0.01, 'max_depth': 7, 'n_estimators': 500},\n",
       "  {'learning_rate': 0.01, 'max_depth': 7, 'n_estimators': 1000},\n",
       "  {'learning_rate': 0.1, 'max_depth': 3, 'n_estimators': 100},\n",
       "  {'learning_rate': 0.1, 'max_depth': 3, 'n_estimators': 500},\n",
       "  {'learning_rate': 0.1, 'max_depth': 3, 'n_estimators': 1000},\n",
       "  {'learning_rate': 0.1, 'max_depth': 5, 'n_estimators': 100},\n",
       "  {'learning_rate': 0.1, 'max_depth': 5, 'n_estimators': 500},\n",
       "  {'learning_rate': 0.1, 'max_depth': 5, 'n_estimators': 1000},\n",
       "  {'learning_rate': 0.1, 'max_depth': 7, 'n_estimators': 100},\n",
       "  {'learning_rate': 0.1, 'max_depth': 7, 'n_estimators': 500},\n",
       "  {'learning_rate': 0.1, 'max_depth': 7, 'n_estimators': 1000},\n",
       "  {'learning_rate': 0.5, 'max_depth': 3, 'n_estimators': 100},\n",
       "  {'learning_rate': 0.5, 'max_depth': 3, 'n_estimators': 500},\n",
       "  {'learning_rate': 0.5, 'max_depth': 3, 'n_estimators': 1000},\n",
       "  {'learning_rate': 0.5, 'max_depth': 5, 'n_estimators': 100},\n",
       "  {'learning_rate': 0.5, 'max_depth': 5, 'n_estimators': 500},\n",
       "  {'learning_rate': 0.5, 'max_depth': 5, 'n_estimators': 1000},\n",
       "  {'learning_rate': 0.5, 'max_depth': 7, 'n_estimators': 100},\n",
       "  {'learning_rate': 0.5, 'max_depth': 7, 'n_estimators': 500},\n",
       "  {'learning_rate': 0.5, 'max_depth': 7, 'n_estimators': 1000}],\n",
       " 'split0_test_score': array([-29685.11537767, -16398.89270035, -14967.89011988, -27315.97695703,\n",
       "        -15272.92361112, -14711.36625709, -26788.6609148 , -15933.57087672,\n",
       "        -15767.63780064, -14752.51724573, -14086.87116764, -14034.28523911,\n",
       "        -14820.44283039, -14571.34075115, -14564.47040712, -15829.26881731,\n",
       "        -15774.87777234, -15775.47217751, -15599.91884977, -16165.48045351,\n",
       "        -16179.70383264, -16944.17493705, -16948.54799966, -16948.55187542,\n",
       "        -17669.38303061, -17669.72450912, -17669.72450912]),\n",
       " 'split1_test_score': array([-27580.85115677, -14617.49083797, -13639.42468338, -25198.56380686,\n",
       "        -13772.23857706, -13175.08846808, -24527.67158345, -14303.43807609,\n",
       "        -14052.31226135, -13795.22062648, -12912.36959194, -13051.918201  ,\n",
       "        -13768.05999241, -13579.91258462, -13599.81975165, -14516.15981956,\n",
       "        -14479.22831692, -14479.73757302, -15206.64789544, -15292.70627097,\n",
       "        -15290.6617744 , -16749.00599502, -16686.86624883, -16686.87130355,\n",
       "        -17436.32825245, -17437.83501471, -17437.83501472]),\n",
       " 'split2_test_score': array([-27983.0996317 , -14230.14817509, -12836.35291787, -26094.51387225,\n",
       "        -13875.60704066, -13358.8972002 , -25958.24464836, -14655.95645893,\n",
       "        -14452.68555586, -13061.4062908 , -12369.30536203, -12244.72404722,\n",
       "        -13615.31925382, -13603.18059204, -13622.27820139, -14597.71515664,\n",
       "        -14616.45374603, -14617.74200507, -14432.73016897, -14774.23239869,\n",
       "        -14781.59959567, -16435.08231752, -16476.22575743, -16476.23894025,\n",
       "        -16001.15063769, -16001.45194411, -16001.45194412]),\n",
       " 'split3_test_score': array([-25204.36407967, -12009.60225554, -11193.16546603, -23473.92619388,\n",
       "        -11746.36973616, -11220.83463366, -23035.80076353, -12010.8333984 ,\n",
       "        -11838.90170351, -11392.68421727, -11005.11219056, -11206.89181444,\n",
       "        -11346.80759818, -11424.10653025, -11452.99949428, -12359.95422103,\n",
       "        -12407.90143256, -12406.31475036, -14010.3415546 , -14470.23206902,\n",
       "        -14457.85364211, -13830.34190214, -13846.03172101, -13846.03504108,\n",
       "        -14335.7384666 , -14335.14045584, -14335.14045584]),\n",
       " 'split4_test_score': array([-26675.79983359, -13820.50599413, -12859.22913585, -24696.02041091,\n",
       "        -13125.54339062, -12501.51511202, -23892.17289759, -13664.87089891,\n",
       "        -13417.04746203, -12844.40281948, -12577.05407823, -12619.74281384,\n",
       "        -12766.7783149 , -12646.59362959, -12678.45744534, -13823.45595612,\n",
       "        -13809.22638688, -13809.380216  , -14605.0185261 , -14508.98260694,\n",
       "        -14502.61376306, -15446.75941038, -15457.13405973, -15457.13292401,\n",
       "        -16533.69661289, -16535.78827662, -16535.78827661]),\n",
       " 'mean_test_score': array([-27425.84601588, -14215.32799262, -13099.2124646 , -25355.80024819,\n",
       "        -13558.53647112, -12993.54033421, -24840.51016155, -14113.73394181,\n",
       "        -13905.71695668, -13169.24623995, -12590.14247808, -12631.51242312,\n",
       "        -13263.48159794, -13165.02681753, -13183.60505995, -14225.31079413,\n",
       "        -14217.53753095, -14217.72934439, -14770.93139898, -15042.32675983,\n",
       "        -15042.48652157, -15881.07291242, -15882.96115733, -15882.96601686,\n",
       "        -16395.25940005, -16395.98804008, -16395.98804008]),\n",
       " 'std_test_score': array([1478.9460777 , 1410.74589225, 1228.29049665, 1295.33572765,\n",
       "        1145.14251384, 1140.34605149, 1363.7308601 , 1285.72688492,\n",
       "        1288.24976047, 1111.02802244,  990.48356205,  929.9247541 ,\n",
       "        1159.55773848, 1062.20565116, 1050.96409435, 1134.63667846,\n",
       "        1104.03130757, 1104.82514606,  565.23855558,  633.68557288,\n",
       "         641.27597116, 1147.56664871, 1137.02346906, 1137.02518148,\n",
       "        1193.59360213, 1194.1645878 , 1194.1645878 ]),\n",
       " 'rank_test_score': array([27, 12,  4, 26,  9,  3, 25, 11, 10,  6,  1,  2,  8,  5,  7, 15, 13,\n",
       "        14, 16, 17, 18, 19, 20, 21, 22, 23, 24], dtype=int32)}"
      ]
     },
     "execution_count": 17,
     "metadata": {},
     "output_type": "execute_result"
    },
    {
     "data": {
      "application/javascript": [
       "\n",
       "            setTimeout(function() {\n",
       "                var nbb_cell_id = 17;\n",
       "                var nbb_unformatted_code = \"tuned_model.cv_results_\";\n",
       "                var nbb_formatted_code = \"tuned_model.cv_results_\";\n",
       "                var nbb_cells = Jupyter.notebook.get_cells();\n",
       "                for (var i = 0; i < nbb_cells.length; ++i) {\n",
       "                    if (nbb_cells[i].input_prompt_number == nbb_cell_id) {\n",
       "                        if (nbb_cells[i].get_text() == nbb_unformatted_code) {\n",
       "                             nbb_cells[i].set_text(nbb_formatted_code);\n",
       "                        }\n",
       "                        break;\n",
       "                    }\n",
       "                }\n",
       "            }, 500);\n",
       "            "
      ],
      "text/plain": [
       "<IPython.core.display.Javascript object>"
      ]
     },
     "metadata": {},
     "output_type": "display_data"
    }
   ],
   "source": [
    "tuned_model_GSV.cv_results_"
   ]
  },
  {
   "cell_type": "markdown",
   "id": "22ddae7b",
   "metadata": {},
   "source": [
    "## Vizualizing Tuned Parameters"
   ]
  },
  {
   "cell_type": "markdown",
   "id": "ba6c1779",
   "metadata": {},
   "source": [
    "#### n_estimators vs. max_depth\n",
    "Each cell of the heatmap represents the mean test score obtained by the model when it was trained. The color of each cell indicates the magnitude of the mean test score, where red represents higher mean test scores and blue represents lower mean test scores. A higher test score is better; so the combination of hyperparameters `max_depth=5` and `n_estimators=1000` is the optimize selection."
   ]
  },
  {
   "cell_type": "code",
   "execution_count": 18,
   "id": "3d9dd776",
   "metadata": {},
   "outputs": [
    {
     "data": {
      "image/png": "[encoded data removed]",
      "text/plain": [
       "<Figure size 432x288 with 2 Axes>"
      ]
     },
     "metadata": {
      "needs_background": "light"
     },
     "output_type": "display_data"
    },
    {
     "data": {
      "application/javascript": [
       "\n",
       "            setTimeout(function() {\n",
       "                var nbb_cell_id = 18;\n",
       "                var nbb_unformatted_code = \"results = pd.DataFrame(tuned_model.cv_results_)\\ntable = pd.pivot_table(\\n    results,\\n    values=\\\"mean_test_score\\\",\\n    index=\\\"param_max_depth\\\",\\n    columns=\\\"param_n_estimators\\\",\\n)\\nsns.heatmap(\\n    table,\\n    annot=True,\\n    fmt=\\\".4g\\\",\\n    cmap=\\\"coolwarm\\\",\\n    cbar_kws={\\\"format\\\": ticker.ScalarFormatter(useMathText=False)},\\n)\\nplt.xlabel(\\\"n_estimators\\\")\\nplt.ylabel(\\\"max_depth\\\")\\nplt.show()\";\n",
       "                var nbb_formatted_code = \"results = pd.DataFrame(tuned_model.cv_results_)\\ntable = pd.pivot_table(\\n    results,\\n    values=\\\"mean_test_score\\\",\\n    index=\\\"param_max_depth\\\",\\n    columns=\\\"param_n_estimators\\\",\\n)\\nsns.heatmap(\\n    table,\\n    annot=True,\\n    fmt=\\\".4g\\\",\\n    cmap=\\\"coolwarm\\\",\\n    cbar_kws={\\\"format\\\": ticker.ScalarFormatter(useMathText=False)},\\n)\\nplt.xlabel(\\\"n_estimators\\\")\\nplt.ylabel(\\\"max_depth\\\")\\nplt.show()\";\n",
       "                var nbb_cells = Jupyter.notebook.get_cells();\n",
       "                for (var i = 0; i < nbb_cells.length; ++i) {\n",
       "                    if (nbb_cells[i].input_prompt_number == nbb_cell_id) {\n",
       "                        if (nbb_cells[i].get_text() == nbb_unformatted_code) {\n",
       "                             nbb_cells[i].set_text(nbb_formatted_code);\n",
       "                        }\n",
       "                        break;\n",
       "                    }\n",
       "                }\n",
       "            }, 500);\n",
       "            "
      ],
      "text/plain": [
       "<IPython.core.display.Javascript object>"
      ]
     },
     "metadata": {},
     "output_type": "display_data"
    }
   ],
   "source": [
    "results = pd.DataFrame(tuned_model_GSV.cv_results_)\n",
    "table = pd.pivot_table(\n",
    "    results,\n",
    "    values=\"mean_test_score\",\n",
    "    index=\"param_max_depth\",\n",
    "    columns=\"param_n_estimators\",\n",
    ")\n",
    "sns.heatmap(\n",
    "    table,\n",
    "    annot=True,\n",
    "    fmt=\".4g\",\n",
    "    cmap=\"coolwarm\",\n",
    "    cbar_kws={\"format\": ticker.ScalarFormatter(useMathText=False)},\n",
    ")\n",
    "plt.xlabel(\"n_estimators\")\n",
    "plt.ylabel(\"max_depth\")\n",
    "plt.show()"
   ]
  },
  {
   "cell_type": "markdown",
   "id": "6966dc5f",
   "metadata": {},
   "source": [
    "#### learning_rate vs Mean Test Score\n",
    "This shows that .1 is the best learning rate because it balances effeciency and effectiveness, right in the elbow. "
   ]
  },
  {
   "cell_type": "code",
   "execution_count": 19,
   "id": "cbc0c6c1",
   "metadata": {},
   "outputs": [
    {
     "data": {
      "image/png": "[encoded data removed]",
      "text/plain": [
       "<Figure size 432x288 with 1 Axes>"
      ]
     },
     "metadata": {
      "needs_background": "light"
     },
     "output_type": "display_data"
    },
    {
     "data": {
      "application/javascript": [
       "\n",
       "            setTimeout(function() {\n",
       "                var nbb_cell_id = 19;\n",
       "                var nbb_unformatted_code = \"learning_rates = [0.01, 0.1, 0.5]\\nscores = [\\n    -tuned_model.cv_results_[\\\"mean_test_score\\\"][i] for i in range(len(learning_rates))\\n]\\n\\nplt.plot(learning_rates, scores, \\\"-o\\\")\\nplt.xlabel(\\\"learning rate\\\")\\nplt.ylabel(\\\"mean test score\\\")\\nplt.show()\";\n",
       "                var nbb_formatted_code = \"learning_rates = [0.01, 0.1, 0.5]\\nscores = [\\n    -tuned_model.cv_results_[\\\"mean_test_score\\\"][i] for i in range(len(learning_rates))\\n]\\n\\nplt.plot(learning_rates, scores, \\\"-o\\\")\\nplt.xlabel(\\\"learning rate\\\")\\nplt.ylabel(\\\"mean test score\\\")\\nplt.show()\";\n",
       "                var nbb_cells = Jupyter.notebook.get_cells();\n",
       "                for (var i = 0; i < nbb_cells.length; ++i) {\n",
       "                    if (nbb_cells[i].input_prompt_number == nbb_cell_id) {\n",
       "                        if (nbb_cells[i].get_text() == nbb_unformatted_code) {\n",
       "                             nbb_cells[i].set_text(nbb_formatted_code);\n",
       "                        }\n",
       "                        break;\n",
       "                    }\n",
       "                }\n",
       "            }, 500);\n",
       "            "
      ],
      "text/plain": [
       "<IPython.core.display.Javascript object>"
      ]
     },
     "metadata": {},
     "output_type": "display_data"
    }
   ],
   "source": [
    "learning_rates = [0.01, 0.1, 0.5]\n",
    "scores = [\n",
    "    -tuned_model_GSV.cv_results_[\"mean_test_score\"][i] for i in range(len(learning_rates))\n",
    "]\n",
    "\n",
    "plt.plot(learning_rates, scores, \"-o\")\n",
    "plt.xlabel(\"learning rate\")\n",
    "plt.ylabel(\"mean test score\")\n",
    "plt.show()"
   ]
  },
  {
   "cell_type": "markdown",
   "id": "ca967d31",
   "metadata": {},
   "source": [
    "## Evaluate the tuned model on TRAIN data"
   ]
  },
  {
   "cell_type": "code",
   "execution_count": 78,
   "id": "a1c2aa37",
   "metadata": {},
   "outputs": [
    {
     "data": {
      "text/plain": [
       "GradientBoostingRegressor(n_estimators=500)"
      ]
     },
     "execution_count": 78,
     "metadata": {},
     "output_type": "execute_result"
    },
    {
     "data": {
      "application/javascript": [
       "\n",
       "            setTimeout(function() {\n",
       "                var nbb_cell_id = 78;\n",
       "                var nbb_unformatted_code = \"tuned_model = GradientBoostingRegressor(\\n    learning_rate=0.1, max_depth=3, n_estimators=500\\n)\\n\\ntuned_model.fit(X_train, y_train)\";\n",
       "                var nbb_formatted_code = \"tuned_model = GradientBoostingRegressor(\\n    learning_rate=0.1, max_depth=3, n_estimators=500\\n)\\n\\ntuned_model.fit(X_train, y_train)\";\n",
       "                var nbb_cells = Jupyter.notebook.get_cells();\n",
       "                for (var i = 0; i < nbb_cells.length; ++i) {\n",
       "                    if (nbb_cells[i].input_prompt_number == nbb_cell_id) {\n",
       "                        if (nbb_cells[i].get_text() == nbb_unformatted_code) {\n",
       "                             nbb_cells[i].set_text(nbb_formatted_code);\n",
       "                        }\n",
       "                        break;\n",
       "                    }\n",
       "                }\n",
       "            }, 500);\n",
       "            "
      ],
      "text/plain": [
       "<IPython.core.display.Javascript object>"
      ]
     },
     "metadata": {},
     "output_type": "display_data"
    }
   ],
   "source": [
    "tuned_model = GradientBoostingRegressor(\n",
    "    learning_rate=0.1, max_depth=3, n_estimators=500\n",
    ")\n",
    "\n",
    "tuned_model.fit(X_train, y_train)"
   ]
  },
  {
   "cell_type": "code",
   "execution_count": 82,
   "id": "4489ece1",
   "metadata": {},
   "outputs": [
    {
     "name": "stdout",
     "output_type": "stream",
     "text": [
      "--------------------------------------------------\n",
      "R^2 scores: [0.88221024 0.94038402 0.94561436 0.93969732 0.93329156]\n",
      "MAE scores: [14091.08530567 12903.70705369 12470.44852614 10991.66956658\n",
      " 12562.14713382]\n",
      "--------------------------------------------------\n",
      "Average R^2 score: 0.9282395005674079\n",
      "Average MAE score: 12603.811517176675\n",
      "--------------------------------------------------\n"
     ]
    },
    {
     "data": {
      "application/javascript": [
       "\n",
       "            setTimeout(function() {\n",
       "                var nbb_cell_id = 82;\n",
       "                var nbb_unformatted_code = \"# Evaluate\\nr2mae_scores(tuned_model, X_train, y_train)\";\n",
       "                var nbb_formatted_code = \"# Evaluate\\nr2mae_scores(tuned_model, X_train, y_train)\";\n",
       "                var nbb_cells = Jupyter.notebook.get_cells();\n",
       "                for (var i = 0; i < nbb_cells.length; ++i) {\n",
       "                    if (nbb_cells[i].input_prompt_number == nbb_cell_id) {\n",
       "                        if (nbb_cells[i].get_text() == nbb_unformatted_code) {\n",
       "                             nbb_cells[i].set_text(nbb_formatted_code);\n",
       "                        }\n",
       "                        break;\n",
       "                    }\n",
       "                }\n",
       "            }, 500);\n",
       "            "
      ],
      "text/plain": [
       "<IPython.core.display.Javascript object>"
      ]
     },
     "metadata": {},
     "output_type": "display_data"
    }
   ],
   "source": [
    "# Evaluate TUNED model\n",
    "r2mae_scores(tuned_model, X_train, y_train)"
   ]
  },
  {
   "cell_type": "code",
   "execution_count": 83,
   "id": "98646cc1",
   "metadata": {
    "scrolled": true
   },
   "outputs": [
    {
     "name": "stdout",
     "output_type": "stream",
     "text": [
      "--------------------------------------------------\n",
      "R^2 scores: [0.88114946 0.93633068 0.93892581 0.93555848 0.92536664]\n",
      "MAE scores: [14797.01254309 13825.10082889 13143.06626613 11406.72149133\n",
      " 12755.12263974]\n",
      "--------------------------------------------------\n",
      "Average R^2 score: 0.9234662141645422\n",
      "Average MAE score: 13185.404753834102\n",
      "--------------------------------------------------\n"
     ]
    },
    {
     "data": {
      "application/javascript": [
       "\n",
       "            setTimeout(function() {\n",
       "                var nbb_cell_id = 83;\n",
       "                var nbb_unformatted_code = \"# Compare to initial model\\nr2mae_scores(initial_model, X_train, y_train)\";\n",
       "                var nbb_formatted_code = \"# Compare to initial model\\nr2mae_scores(initial_model, X_train, y_train)\";\n",
       "                var nbb_cells = Jupyter.notebook.get_cells();\n",
       "                for (var i = 0; i < nbb_cells.length; ++i) {\n",
       "                    if (nbb_cells[i].input_prompt_number == nbb_cell_id) {\n",
       "                        if (nbb_cells[i].get_text() == nbb_unformatted_code) {\n",
       "                             nbb_cells[i].set_text(nbb_formatted_code);\n",
       "                        }\n",
       "                        break;\n",
       "                    }\n",
       "                }\n",
       "            }, 500);\n",
       "            "
      ],
      "text/plain": [
       "<IPython.core.display.Javascript object>"
      ]
     },
     "metadata": {},
     "output_type": "display_data"
    }
   ],
   "source": [
    "# Compare to initial model\n",
    "r2mae_scores(initial_model, X_train, y_train)"
   ]
  },
  {
   "cell_type": "markdown",
   "id": "40404f86",
   "metadata": {},
   "source": [
    "## Evaluate the Tuned Model on TEST data"
   ]
  },
  {
   "cell_type": "code",
   "execution_count": 84,
   "id": "8df375e5",
   "metadata": {
    "scrolled": true
   },
   "outputs": [
    {
     "name": "stdout",
     "output_type": "stream",
     "text": [
      "--------------------------------------------------\n",
      "R^2 scores: [0.90127352 0.91579189 0.93375183 0.90651711 0.79376479]\n",
      "MAE scores: [15757.53117324 15411.52872349 14547.9278185  13613.90830177\n",
      " 18192.58498171]\n",
      "--------------------------------------------------\n",
      "Average R^2 score: 0.8902198267255266\n",
      "Average MAE score: 15504.696199742175\n",
      "--------------------------------------------------\n"
     ]
    },
    {
     "data": {
      "application/javascript": [
       "\n",
       "            setTimeout(function() {\n",
       "                var nbb_cell_id = 84;\n",
       "                var nbb_unformatted_code = \"# Evaluate the model on the test data\\nr2mae_scores(tuned_model, X_test, y_test)\";\n",
       "                var nbb_formatted_code = \"# Evaluate the model on the test data\\nr2mae_scores(tuned_model, X_test, y_test)\";\n",
       "                var nbb_cells = Jupyter.notebook.get_cells();\n",
       "                for (var i = 0; i < nbb_cells.length; ++i) {\n",
       "                    if (nbb_cells[i].input_prompt_number == nbb_cell_id) {\n",
       "                        if (nbb_cells[i].get_text() == nbb_unformatted_code) {\n",
       "                             nbb_cells[i].set_text(nbb_formatted_code);\n",
       "                        }\n",
       "                        break;\n",
       "                    }\n",
       "                }\n",
       "            }, 500);\n",
       "            "
      ],
      "text/plain": [
       "<IPython.core.display.Javascript object>"
      ]
     },
     "metadata": {},
     "output_type": "display_data"
    }
   ],
   "source": [
    "# Evaluate the model on the test data\n",
    "r2mae_scores(tuned_model, X_test, y_test)"
   ]
  },
  {
   "cell_type": "code",
   "execution_count": 85,
   "id": "5b6ef81e",
   "metadata": {},
   "outputs": [
    {
     "name": "stdout",
     "output_type": "stream",
     "text": [
      "--------------------------------------------------\n",
      "R^2 scores: [0.89579894 0.91272847 0.92534416 0.90169735 0.79434711]\n",
      "MAE scores: [16419.00230026 15782.12406531 15629.70168218 14054.22392243\n",
      " 18001.68306754]\n",
      "--------------------------------------------------\n",
      "Average R^2 score: 0.8859832054706415\n",
      "Average MAE score: 15977.34700754297\n",
      "--------------------------------------------------\n"
     ]
    },
    {
     "data": {
      "application/javascript": [
       "\n",
       "            setTimeout(function() {\n",
       "                var nbb_cell_id = 85;\n",
       "                var nbb_unformatted_code = \"r2mae_scores(initial_model, X_test, y_test)\";\n",
       "                var nbb_formatted_code = \"r2mae_scores(initial_model, X_test, y_test)\";\n",
       "                var nbb_cells = Jupyter.notebook.get_cells();\n",
       "                for (var i = 0; i < nbb_cells.length; ++i) {\n",
       "                    if (nbb_cells[i].input_prompt_number == nbb_cell_id) {\n",
       "                        if (nbb_cells[i].get_text() == nbb_unformatted_code) {\n",
       "                             nbb_cells[i].set_text(nbb_formatted_code);\n",
       "                        }\n",
       "                        break;\n",
       "                    }\n",
       "                }\n",
       "            }, 500);\n",
       "            "
      ],
      "text/plain": [
       "<IPython.core.display.Javascript object>"
      ]
     },
     "metadata": {},
     "output_type": "display_data"
    }
   ],
   "source": [
    "r2mae_scores(initial_model, X_test, y_test)"
   ]
  },
  {
   "cell_type": "markdown",
   "id": "ad850656",
   "metadata": {},
   "source": [
    "## Feature Importance"
   ]
  },
  {
   "cell_type": "code",
   "execution_count": 86,
   "id": "e1d7debe",
   "metadata": {
    "scrolled": true
   },
   "outputs": [
    {
     "data": {
      "text/plain": [
       "[('TotalSF', 0.3767484697409862),\n",
       " ('OverallQual', 0.36807375045090246),\n",
       " ('Age', 0.03708951310083222),\n",
       " ('TotalBath', 0.03134182424094119),\n",
       " ('KitchenQual', 0.029116305913770246),\n",
       " ('GarageArea', 0.02179092268019926),\n",
       " ('BsmtFinSF1', 0.016666128457316395),\n",
       " ('LotArea', 0.015710953176372756),\n",
       " ('Fireplaces', 0.013626453429201291),\n",
       " ('OverallCond', 0.011577428917092951),\n",
       " ('RemodAge', 0.011349371725977464),\n",
       " ('2ndFlrSF', 0.010827689782668041),\n",
       " ('MasVnrArea', 0.008038346025015158),\n",
       " ('Neighborhood_st_encoded', 0.005862407005680674),\n",
       " ('BsmtQual', 0.004673710910746851),\n",
       " ('CentralAir_encoded', 0.003584522172768761),\n",
       " ('GarageType_encoded', 0.0030641089973760757),\n",
       " ('TotRmsAbvGrd', 0.002844682451575496),\n",
       " ('BsmtUnfSF', 0.0024435393858524682),\n",
       " ('MSZoning_encoded', 0.002293495958856392),\n",
       " ('WoodDeckSF', 0.0018231004386469283),\n",
       " ('BsmtExposure', 0.0018095822540614038),\n",
       " ('SaleCondition_encoded', 0.0017345057156897233),\n",
       " ('HeatingQC', 0.0012249091994310322),\n",
       " ('TotalPorchSF', 0.0011502702354795353),\n",
       " ('ScreenPorch', 0.0011457280678091393),\n",
       " ('LotFrontage', 0.0010458012242527334),\n",
       " ('MSSubClass_cat_encoded', 0.0010328456910446585),\n",
       " ('Condition1_encoded', 0.0010074333617383275),\n",
       " ('Neighborhood_encoded', 0.0009709362656418253),\n",
       " ('MoSold', 0.0009685857366546482),\n",
       " ('Functional_encoded', 0.0009070095953472733),\n",
       " ('OpenPorchSF', 0.0008431906289450925),\n",
       " ('HalfBath', 0.0007978813013084326),\n",
       " ('EnclosedPorch', 0.0005906635265188388),\n",
       " ('LandContour_encoded', 0.0005573281723778602),\n",
       " ('Exterior1st_encoded', 0.000536280201044888),\n",
       " ('PavedDrive_encoded', 0.00041841048900241156),\n",
       " ('SaleType_encoded', 0.00041831641883879504),\n",
       " ('GarageQual', 0.0003791614900079792),\n",
       " ('YrSold', 0.00036847295296714406),\n",
       " ('LotShape_encoded', 0.00033833717455284085),\n",
       " ('Exterior2nd_encoded', 0.0003340184615076077),\n",
       " ('BsmtFinSF2', 0.0003296297907611004),\n",
       " ('LotConfig_encoded', 0.0002804088784251759),\n",
       " ('BedroomAbvGr', 0.00028030416940507443),\n",
       " ('Street_type_encoded', 0.00024081081359070947),\n",
       " ('RoofMatl_encoded', 0.0002278240436046932),\n",
       " ('RoofStyle_encoded', 0.0001678601528015121),\n",
       " ('BsmtCond', 0.00016580747117896303),\n",
       " ('BsmtFullBath', 0.00013959491167545075),\n",
       " ('HouseStyle_encoded', 0.00012885570844775417),\n",
       " ('GarageFinish', 0.00011825449105917619),\n",
       " ('Remodeled', 0.00011462591230810124),\n",
       " ('MSSubClass', 0.00010502854182722878),\n",
       " ('Alley_encoded', 0.00010336468421029508),\n",
       " ('Electrical_encoded', 6.787938277500777e-05),\n",
       " ('Fence', 6.480499303782356e-05),\n",
       " ('MasVnrType_encoded', 5.774555190772987e-05),\n",
       " ('Street_encoded', 5.5344675573102076e-05),\n",
       " ('Foundation_encoded', 4.966179131682335e-05),\n",
       " ('ExterCond', 4.913018207917057e-05),\n",
       " ('LandSlope_encoded', 4.775329778487042e-05),\n",
       " ('Heating_encoded', 3.523121035638141e-05),\n",
       " ('BsmtHalfBath', 2.327896053075022e-05),\n",
       " ('BldgType_encoded', 2.040725834163338e-05),\n",
       " ('KitchenAbvGr', 0.0),\n",
       " ('Utilities_encoded', 0.0),\n",
       " ('Condition2_encoded', 0.0)]"
      ]
     },
     "execution_count": 86,
     "metadata": {},
     "output_type": "execute_result"
    },
    {
     "data": {
      "application/javascript": [
       "\n",
       "            setTimeout(function() {\n",
       "                var nbb_cell_id = 86;\n",
       "                var nbb_unformatted_code = \"sorted_importance = sorted(\\n    zip(X_train.columns, tuned_model.feature_importances_),\\n    key=lambda t: t[1],\\n    reverse=True,\\n)\\nsorted_importance\";\n",
       "                var nbb_formatted_code = \"sorted_importance = sorted(\\n    zip(X_train.columns, tuned_model.feature_importances_),\\n    key=lambda t: t[1],\\n    reverse=True,\\n)\\nsorted_importance\";\n",
       "                var nbb_cells = Jupyter.notebook.get_cells();\n",
       "                for (var i = 0; i < nbb_cells.length; ++i) {\n",
       "                    if (nbb_cells[i].input_prompt_number == nbb_cell_id) {\n",
       "                        if (nbb_cells[i].get_text() == nbb_unformatted_code) {\n",
       "                             nbb_cells[i].set_text(nbb_formatted_code);\n",
       "                        }\n",
       "                        break;\n",
       "                    }\n",
       "                }\n",
       "            }, 500);\n",
       "            "
      ],
      "text/plain": [
       "<IPython.core.display.Javascript object>"
      ]
     },
     "metadata": {},
     "output_type": "display_data"
    }
   ],
   "source": [
    "sorted_importance = sorted(\n",
    "    zip(X_train.columns, tuned_model.feature_importances_),\n",
    "    key=lambda t: t[1],\n",
    "    reverse=True,\n",
    ")\n",
    "sorted_importance"
   ]
  },
  {
   "cell_type": "code",
   "execution_count": 87,
   "id": "76555683",
   "metadata": {},
   "outputs": [
    {
     "data": {
      "text/plain": [
       "Text(0.5, 1.0, 'Feature Importance Plot of Tuned 500-Tree GBM')"
      ]
     },
     "execution_count": 87,
     "metadata": {},
     "output_type": "execute_result"
    },
    {
     "data": {
      "image/png": "[encoded data removed]",
      "text/plain": [
       "<Figure size 432x288 with 1 Axes>"
      ]
     },
     "metadata": {
      "needs_background": "light"
     },
     "output_type": "display_data"
    },
    {
     "data": {
      "application/javascript": [
       "\n",
       "            setTimeout(function() {\n",
       "                var nbb_cell_id = 87;\n",
       "                var nbb_unformatted_code = \"a, b = zip(*sorted_importance[:15])\\npd.DataFrame({\\\"feature_name\\\": a, \\\"importance_score\\\": b}).plot.bar(\\n    x=\\\"feature_name\\\", y=\\\"importance_score\\\", legend=None\\n)\\nplt.title(\\\"Feature Importance Plot of Tuned 500-Tree GBM\\\")\";\n",
       "                var nbb_formatted_code = \"a, b = zip(*sorted_importance[:15])\\npd.DataFrame({\\\"feature_name\\\": a, \\\"importance_score\\\": b}).plot.bar(\\n    x=\\\"feature_name\\\", y=\\\"importance_score\\\", legend=None\\n)\\nplt.title(\\\"Feature Importance Plot of Tuned 500-Tree GBM\\\")\";\n",
       "                var nbb_cells = Jupyter.notebook.get_cells();\n",
       "                for (var i = 0; i < nbb_cells.length; ++i) {\n",
       "                    if (nbb_cells[i].input_prompt_number == nbb_cell_id) {\n",
       "                        if (nbb_cells[i].get_text() == nbb_unformatted_code) {\n",
       "                             nbb_cells[i].set_text(nbb_formatted_code);\n",
       "                        }\n",
       "                        break;\n",
       "                    }\n",
       "                }\n",
       "            }, 500);\n",
       "            "
      ],
      "text/plain": [
       "<IPython.core.display.Javascript object>"
      ]
     },
     "metadata": {},
     "output_type": "display_data"
    },
    {
     "name": "stdout",
     "output_type": "stream",
     "text": [
      "      Iter       Train Loss   Remaining Time \n",
      "         1  4393896908.5902            0.53s\n",
      "         2  3756551921.6584            0.51s\n",
      "         3  3217213476.1245            0.49s\n",
      "         4  2779450071.1063            0.47s\n",
      "         5  2413287742.5092            0.46s\n",
      "         6  2108831628.9335            0.45s\n",
      "         7  1844608961.2331            0.44s\n",
      "         8  1628973781.6834            0.43s\n",
      "         9  1444507668.9017            0.43s\n",
      "        10  1286953265.2377            0.42s\n",
      "        20   568551922.7809            0.37s\n",
      "        30   363399319.1903            0.32s\n",
      "        40   278498613.8782            0.27s\n",
      "        50   234911421.1381            0.23s\n",
      "        60   207925098.8809            0.18s\n",
      "        70   187719843.7274            0.14s\n",
      "        80   172530467.1315            0.09s\n",
      "        90   162432769.9741            0.05s\n",
      "       100   153872315.5009            0.00s\n",
      "      Iter       Train Loss   Remaining Time \n",
      "         1  4465257196.0708            0.50s\n",
      "         2  3824508518.2358            0.49s\n",
      "         3  3306197691.1460            0.49s\n",
      "         4  2873410000.7990            0.48s\n",
      "         5  2504744068.7716            0.48s\n",
      "         6  2191762654.0236            0.47s\n",
      "         7  1931983550.5305            0.46s\n",
      "         8  1717351945.3757            0.46s\n",
      "         9  1537102563.7388            0.45s\n",
      "        10  1380542667.1271            0.44s\n",
      "        20   602332518.7675            0.39s\n",
      "        30   371668951.5372            0.34s\n",
      "        40   277758974.5196            0.29s\n",
      "        50   231629504.8612            0.24s\n",
      "        60   203326638.6125            0.19s\n",
      "        70   182433719.6271            0.14s\n",
      "        80   166689583.2997            0.10s\n",
      "        90   153511886.1783            0.05s\n",
      "       100   145373903.8022            0.00s\n",
      "      Iter       Train Loss   Remaining Time \n",
      "         1  4385707122.0620            0.49s\n",
      "         2  3763031996.4244            0.48s\n",
      "         3  3249269226.4732            0.47s\n",
      "         4  2813050979.7369            0.46s\n",
      "         5  2449919345.8878            0.45s\n",
      "         6  2146257188.7418            0.45s\n",
      "         7  1894625860.7998            0.44s\n",
      "         8  1681041510.0743            0.44s\n",
      "         9  1504160392.3340            0.43s\n",
      "        10  1349283104.0037            0.43s\n",
      "        20   592410329.1402            0.38s\n",
      "        30   368110987.4190            0.33s\n",
      "        40   272773743.8788            0.29s\n",
      "        50   223883459.7999            0.24s\n",
      "        60   192159256.4551            0.19s\n",
      "        70   168575145.8302            0.14s\n",
      "        80   153069899.8074            0.10s\n",
      "        90   142395911.9215            0.05s\n",
      "       100   133181751.9604            0.00s\n",
      "      Iter       Train Loss   Remaining Time \n",
      "         1  4393896908.5902            0.48s\n",
      "         2  3756551921.6584            0.48s\n",
      "         3  3217213476.1245            0.48s\n",
      "         4  2779450071.1063            0.50s\n",
      "         5  2413287742.5092            0.49s\n",
      "         6  2108831628.9335            0.48s\n",
      "         7  1844608961.2331            0.47s\n",
      "         8  1628973781.6834            0.46s\n",
      "         9  1444507668.9017            0.45s\n",
      "        10  1286953265.2377            0.45s\n",
      "        20   568551922.7809            0.38s\n",
      "        30   363399319.1903            0.34s\n",
      "        40   278498613.8782            0.29s\n",
      "        50   234911421.1381            0.24s\n",
      "        60   207925098.8809            0.19s\n",
      "        70   187719843.7274            0.14s\n",
      "        80   172530467.1315            0.10s\n",
      "        90   162432769.9741            0.05s\n",
      "       100   153872315.5009            0.00s\n",
      "      Iter       Train Loss   Remaining Time \n",
      "         1  4465257196.0708            0.50s\n",
      "         2  3824508518.2358            0.49s\n",
      "         3  3306197691.1460            0.48s\n",
      "         4  2873410000.7990            0.47s\n",
      "         5  2504744068.7716            0.46s\n",
      "         6  2191762654.0236            0.45s\n",
      "         7  1931983550.5305            0.45s\n",
      "         8  1717351945.3757            0.44s\n",
      "         9  1537102563.7388            0.43s\n",
      "        10  1380542667.1271            0.43s\n",
      "        20   602332518.7675            0.37s\n",
      "        30   371668951.5372            0.33s\n",
      "        40   277758974.5196            0.28s\n",
      "        50   231629504.8612            0.23s\n",
      "        60   203326638.6125            0.18s\n",
      "        70   182433719.6271            0.14s\n",
      "        80   166689583.2997            0.09s\n",
      "        90   153511886.1783            0.05s\n",
      "       100   145373903.8022            0.00s\n",
      "      Iter       Train Loss   Remaining Time \n",
      "         1  4640267230.1590            0.48s\n",
      "         2  3977887057.5831            0.47s\n",
      "         3  3417967705.1483            0.47s\n",
      "         4  2957861648.5850            0.46s\n",
      "         5  2567329164.6148            0.46s\n",
      "         6  2246522678.1107            0.44s\n",
      "         7  1981436028.0799            0.43s\n",
      "         8  1753246393.0640            0.43s\n",
      "         9  1562727491.4930            0.42s\n",
      "        10  1395992300.7838            0.42s\n",
      "        20   612736437.7145            0.37s\n",
      "        30   382532840.7710            0.32s\n",
      "        40   279061079.5289            0.28s\n",
      "        50   230050117.0232            0.23s\n",
      "        60   200156062.8531            0.18s\n",
      "        70   180370736.9445            0.14s\n",
      "        80   164638294.2694            0.09s\n",
      "        90   152658111.8132            0.05s\n",
      "       100   143808450.3581            0.00s\n",
      "      Iter       Train Loss   Remaining Time \n",
      "         1  4775586687.1335            0.50s\n",
      "         2  4096317374.3253            0.50s\n",
      "         3  3535850191.1976            0.48s\n",
      "         4  3060016356.7630            0.48s\n",
      "         5  2671459922.5648            0.47s\n",
      "         6  2340789938.2922            0.46s\n",
      "         7  2059038226.8567            0.45s\n",
      "         8  1826293352.2212            0.45s\n",
      "         9  1629845108.5324            0.44s\n",
      "        10  1461654511.1744            0.44s\n",
      "        20   654263212.1001            0.38s\n",
      "        30   409141802.7929            0.33s\n",
      "        40   305843902.0649            0.28s\n",
      "        50   252860449.2158            0.24s\n",
      "        60   218034265.4586            0.19s\n",
      "        70   195547143.3976            0.14s\n",
      "        80   177968464.2491            0.09s\n",
      "        90   167457857.4468            0.05s\n",
      "       100   157595104.7833            0.00s\n",
      "      Iter       Train Loss   Remaining Time \n",
      "         1  4393896908.5902            0.48s\n",
      "         2  3756551921.6584            0.48s\n",
      "         3  3217213476.1245            0.48s\n",
      "         4  2779450071.1063            0.46s\n",
      "         5  2413287742.5092            0.45s\n",
      "         6  2108831628.9335            0.45s\n",
      "         7  1844608961.2331            0.44s\n",
      "         8  1628973781.6834            0.44s\n",
      "         9  1444507668.9017            0.43s\n",
      "        10  1286953265.2377            0.43s\n",
      "        20   568551922.7809            0.37s\n",
      "        30   363399319.1903            0.33s\n",
      "        40   278498613.8782            0.28s\n",
      "        50   234911421.1381            0.23s\n",
      "        60   207925098.8809            0.19s\n",
      "        70   187719843.7274            0.14s\n",
      "        80   172530467.1315            0.09s\n",
      "        90   162432769.9741            0.05s\n",
      "       100   153872315.5009            0.00s\n"
     ]
    }
   ],
   "source": [
    "a, b = zip(*sorted_importance[:15])\n",
    "pd.DataFrame({\"feature_name\": a, \"importance_score\": b}).plot.bar(\n",
    "    x=\"feature_name\", y=\"importance_score\", legend=None\n",
    ")\n",
    "plt.title(\"Feature Importance Plot of Tuned 500-Tree GBM\")"
   ]
  },
  {
   "cell_type": "markdown",
   "id": "137253ae",
   "metadata": {},
   "source": [
    "## Feature Selection MODEL"
   ]
  },
  {
   "cell_type": "code",
   "execution_count": 89,
   "id": "c44c89e9",
   "metadata": {},
   "outputs": [
    {
     "data": {
      "application/javascript": [
       "\n",
       "            setTimeout(function() {\n",
       "                var nbb_cell_id = 89;\n",
       "                var nbb_unformatted_code = \"## isolate top 5 features to see if any improvement on scores \\nX2_train = X_train[['TotalSF', 'OverallQual', 'Age', 'TotalBath', 'KitchenQual']]\\ny2_train = y_train.copy()\\nX2_test = X_test[['TotalSF', 'OverallQual', 'Age', 'TotalBath', 'KitchenQual']]\\ny2_test = y_test.copy()\";\n",
       "                var nbb_formatted_code = \"## isolate top 5 features to see if any improvement on scores\\nX2_train = X_train[[\\\"TotalSF\\\", \\\"OverallQual\\\", \\\"Age\\\", \\\"TotalBath\\\", \\\"KitchenQual\\\"]]\\ny2_train = y_train.copy()\\nX2_test = X_test[[\\\"TotalSF\\\", \\\"OverallQual\\\", \\\"Age\\\", \\\"TotalBath\\\", \\\"KitchenQual\\\"]]\\ny2_test = y_test.copy()\";\n",
       "                var nbb_cells = Jupyter.notebook.get_cells();\n",
       "                for (var i = 0; i < nbb_cells.length; ++i) {\n",
       "                    if (nbb_cells[i].input_prompt_number == nbb_cell_id) {\n",
       "                        if (nbb_cells[i].get_text() == nbb_unformatted_code) {\n",
       "                             nbb_cells[i].set_text(nbb_formatted_code);\n",
       "                        }\n",
       "                        break;\n",
       "                    }\n",
       "                }\n",
       "            }, 500);\n",
       "            "
      ],
      "text/plain": [
       "<IPython.core.display.Javascript object>"
      ]
     },
     "metadata": {},
     "output_type": "display_data"
    }
   ],
   "source": [
    "## isolate top 5 features to see if any improvement on scores\n",
    "X2_train = X_train[[\"TotalSF\", \"OverallQual\", \"Age\", \"TotalBath\", \"KitchenQual\"]]\n",
    "y2_train = y_train.copy()\n",
    "X2_test = X_test[[\"TotalSF\", \"OverallQual\", \"Age\", \"TotalBath\", \"KitchenQual\"]]\n",
    "y2_test = y_test.copy()"
   ]
  },
  {
   "cell_type": "code",
   "execution_count": 95,
   "id": "d787d3d6",
   "metadata": {},
   "outputs": [
    {
     "name": "stdout",
     "output_type": "stream",
     "text": [
      "--------------------------------------------------\n",
      "R^2 scores: [0.86567863 0.87777512 0.88970443 0.92308009 0.76908894]\n",
      "MAE scores: [18536.55608557 19036.45886011 19263.84742288 15602.26463008\n",
      " 22176.20944733]\n",
      "--------------------------------------------------\n",
      "Average R^2 score: 0.8650654418673117\n",
      "Average MAE score: 18923.067289195416\n",
      "--------------------------------------------------\n"
     ]
    },
    {
     "data": {
      "application/javascript": [
       "\n",
       "            setTimeout(function() {\n",
       "                var nbb_cell_id = 95;\n",
       "                var nbb_unformatted_code = \"select_model5 = GradientBoostingRegressor()\\nselect_model5.fit(X2_train, y2_train)\\nr2mae_scores(select_model5, X2_test, y2_test)\";\n",
       "                var nbb_formatted_code = \"select_model5 = GradientBoostingRegressor()\\nselect_model5.fit(X2_train, y2_train)\\nr2mae_scores(select_model5, X2_test, y2_test)\";\n",
       "                var nbb_cells = Jupyter.notebook.get_cells();\n",
       "                for (var i = 0; i < nbb_cells.length; ++i) {\n",
       "                    if (nbb_cells[i].input_prompt_number == nbb_cell_id) {\n",
       "                        if (nbb_cells[i].get_text() == nbb_unformatted_code) {\n",
       "                             nbb_cells[i].set_text(nbb_formatted_code);\n",
       "                        }\n",
       "                        break;\n",
       "                    }\n",
       "                }\n",
       "            }, 500);\n",
       "            "
      ],
      "text/plain": [
       "<IPython.core.display.Javascript object>"
      ]
     },
     "metadata": {},
     "output_type": "display_data"
    }
   ],
   "source": [
    "select_model5 = GradientBoostingRegressor()\n",
    "select_model5.fit(X2_train, y2_train)\n",
    "r2mae_scores(select_model5, X2_test, y2_test)"
   ]
  },
  {
   "cell_type": "markdown",
   "id": "ca6403a0",
   "metadata": {},
   "source": [
    "Selecting the top 5 features, actually performed worse, maybe top 10 will work better?"
   ]
  },
  {
   "cell_type": "code",
   "execution_count": 94,
   "id": "0fcc6ac6",
   "metadata": {},
   "outputs": [
    {
     "name": "stdout",
     "output_type": "stream",
     "text": [
      "--------------------------------------------------\n",
      "R^2 scores: [0.88532307 0.90584142 0.91840961 0.90223075 0.75439248]\n",
      "MAE scores: [16885.91553091 15849.01313859 15512.138059   14541.876098\n",
      " 20380.87253236]\n",
      "--------------------------------------------------\n",
      "Average R^2 score: 0.8732394659611309\n",
      "Average MAE score: 16633.96307177403\n",
      "--------------------------------------------------\n"
     ]
    },
    {
     "data": {
      "application/javascript": [
       "\n",
       "            setTimeout(function() {\n",
       "                var nbb_cell_id = 94;\n",
       "                var nbb_unformatted_code = \"X3_train = X_train[\\n    [\\n        \\\"TotalSF\\\",\\n        \\\"OverallQual\\\",\\n        \\\"Age\\\",\\n        \\\"TotalBath\\\",\\n        \\\"KitchenQual\\\",\\n        \\\"GarageArea\\\",\\n        \\\"BsmtFinSF1\\\",\\n        \\\"LotArea\\\",\\n        \\\"Fireplaces\\\",\\n        \\\"OverallCond\\\",\\n    ]\\n]\\ny3_train = y_train.copy()\\nX3_test = X_test[\\n    [\\n        \\\"TotalSF\\\",\\n        \\\"OverallQual\\\",\\n        \\\"Age\\\",\\n        \\\"TotalBath\\\",\\n        \\\"KitchenQual\\\",\\n        \\\"GarageArea\\\",\\n        \\\"BsmtFinSF1\\\",\\n        \\\"LotArea\\\",\\n        \\\"Fireplaces\\\",\\n        \\\"OverallCond\\\",\\n    ]\\n]\\ny3_test = y_test.copy()\\n\\nselect_model10 = GradientBoostingRegressor()\\nselect_model10.fit(X3_train, y3_train)\\nr2mae_scores(select_model10, X3_test, y3_test)\";\n",
       "                var nbb_formatted_code = \"X3_train = X_train[\\n    [\\n        \\\"TotalSF\\\",\\n        \\\"OverallQual\\\",\\n        \\\"Age\\\",\\n        \\\"TotalBath\\\",\\n        \\\"KitchenQual\\\",\\n        \\\"GarageArea\\\",\\n        \\\"BsmtFinSF1\\\",\\n        \\\"LotArea\\\",\\n        \\\"Fireplaces\\\",\\n        \\\"OverallCond\\\",\\n    ]\\n]\\ny3_train = y_train.copy()\\nX3_test = X_test[\\n    [\\n        \\\"TotalSF\\\",\\n        \\\"OverallQual\\\",\\n        \\\"Age\\\",\\n        \\\"TotalBath\\\",\\n        \\\"KitchenQual\\\",\\n        \\\"GarageArea\\\",\\n        \\\"BsmtFinSF1\\\",\\n        \\\"LotArea\\\",\\n        \\\"Fireplaces\\\",\\n        \\\"OverallCond\\\",\\n    ]\\n]\\ny3_test = y_test.copy()\\n\\nselect_model10 = GradientBoostingRegressor()\\nselect_model10.fit(X3_train, y3_train)\\nr2mae_scores(select_model10, X3_test, y3_test)\";\n",
       "                var nbb_cells = Jupyter.notebook.get_cells();\n",
       "                for (var i = 0; i < nbb_cells.length; ++i) {\n",
       "                    if (nbb_cells[i].input_prompt_number == nbb_cell_id) {\n",
       "                        if (nbb_cells[i].get_text() == nbb_unformatted_code) {\n",
       "                             nbb_cells[i].set_text(nbb_formatted_code);\n",
       "                        }\n",
       "                        break;\n",
       "                    }\n",
       "                }\n",
       "            }, 500);\n",
       "            "
      ],
      "text/plain": [
       "<IPython.core.display.Javascript object>"
      ]
     },
     "metadata": {},
     "output_type": "display_data"
    }
   ],
   "source": [
    "X3_train = X_train[\n",
    "    [\n",
    "        \"TotalSF\",\n",
    "        \"OverallQual\",\n",
    "        \"Age\",\n",
    "        \"TotalBath\",\n",
    "        \"KitchenQual\",\n",
    "        \"GarageArea\",\n",
    "        \"BsmtFinSF1\",\n",
    "        \"LotArea\",\n",
    "        \"Fireplaces\",\n",
    "        \"OverallCond\",\n",
    "    ]\n",
    "]\n",
    "y3_train = y_train.copy()\n",
    "X3_test = X_test[\n",
    "    [\n",
    "        \"TotalSF\",\n",
    "        \"OverallQual\",\n",
    "        \"Age\",\n",
    "        \"TotalBath\",\n",
    "        \"KitchenQual\",\n",
    "        \"GarageArea\",\n",
    "        \"BsmtFinSF1\",\n",
    "        \"LotArea\",\n",
    "        \"Fireplaces\",\n",
    "        \"OverallCond\",\n",
    "    ]\n",
    "]\n",
    "y3_test = y_test.copy()\n",
    "\n",
    "select_model10 = GradientBoostingRegressor()\n",
    "select_model10.fit(X3_train, y3_train)\n",
    "r2mae_scores(select_model10, X3_test, y3_test)"
   ]
  },
  {
   "cell_type": "markdown",
   "id": "379c15eb",
   "metadata": {},
   "source": [
    "## Feature Engineering: Street Grouping\n",
    "#### Function from Creating_test_train notbook with a few changes"
   ]
  },
  {
   "cell_type": "code",
   "execution_count": null,
   "id": "9be4b5a4",
   "metadata": {},
   "outputs": [],
   "source": [
    "# Adding Neighborhood street back to df\n",
    "streets = housing_corr[[\"PID\", \"Neighborhood_st\", \"SalePrice\"]]\n",
    "\n",
    "train_dummies_w_streets = pd.merge(train_dummies, streets, how=\"left\", on=\"PID\")\n",
    "test_dummies_w_streets = pd.merge(test_dummies, streets, how=\"left\", on=\"PID\")"
   ]
  },
  {
   "cell_type": "code",
   "execution_count": null,
   "id": "73f548a1",
   "metadata": {},
   "outputs": [],
   "source": [
    "## Group Streets by Sale Price ##\n",
    "\n",
    "# creating a function to create groups based on mean sale price of streets in each\n",
    "# neighborhood of the training df and adds a new column with the groups created\n",
    "# It then uses the groups created using the training dataframe and creates a new column\n",
    "# in the testing dataframe by mapping these groups.  This will result in missing values\n",
    "# If there is a street neighborhood combination that was in the training dataset but \n",
    "# not the testing dataset\n",
    "\n",
    "\n",
    "def group_neighbor_streets_by_saleprice(\n",
    "    traindf=train_dummies_w_streets, testdf=test_dummies_w_streets, num_quantiles=10  # notice the difference in this line!!\n",
    "):\n",
    "    # Calculate the mean sale price for each street in the training df\n",
    "    street_prices = traindf.groupby(\"Neighborhood_st\")[\"SalePrice\"].mean()\n",
    "    \n",
    "    # Group the streets into the specified number of quantiles based on sale price\n",
    "    labels = [f\"group_{i+1}\" for i in range(num_quantiles)]\n",
    "    groups = pd.qcut(street_prices, q=num_quantiles, labels=range(1, num_quantiles + 1))\n",
    "    \n",
    "    # Create a dictionary that maps each street name to its corresponding sale price group label\n",
    "    street_group_dict = dict(zip(street_prices.index, groups))\n",
    "    \n",
    "    # Add a new column to the training dataframe with the street price groups\n",
    "    traindf[\"StreetPriceGroup\"] = traindf[\"Neighborhood_st\"].map(street_group_dict)\n",
    "    \n",
    "    # Add a new column to the testing dataframe with the street price groups\n",
    "    testdf[\"StreetPriceGroup\"] = testdf[\"Neighborhood_st\"].map(street_group_dict)\n",
    "    return street_group_dict\n"
   ]
  },
  {
   "cell_type": "code",
   "execution_count": null,
   "id": "aed5918d",
   "metadata": {},
   "outputs": [],
   "source": [
    "# the num of quantiles can be changed and it is assigned to d which is the dictionary that\n",
    "# will be used to fill in the missing values\n",
    "\n",
    "d = group_neighbor_streets_by_saleprice(\n",
    "    traindf=train_dummies_w_streets,  # the difference here as well!!\n",
    "    testdf=test_dummies_w_streets,  # the difference here as well!!\n",
    "    num_quantiles=10,\n",
    ")"
   ]
  },
  {
   "cell_type": "code",
   "execution_count": null,
   "id": "30f217e0",
   "metadata": {},
   "outputs": [],
   "source": [
    "## Supporting Function to group_neighbor_streets_by_saleprice to FILL_NA's ##\n",
    "\n",
    "# Dictionary stores missing values in the test df with another group in the same neighborhood\n",
    "\n",
    "\n",
    "def fill_na(testdf=test_dummies_w_streets, d={}):  # DIFFERENT HERE TOO\n",
    "    # Extract the first part of the string in the \"Neighborhood_st\" column\n",
    "    testdf[\"Neighborhood_prefix\"] = testdf[\"Neighborhood_st\"].map(\n",
    "        lambda x: x.split(\"_\")[0]\n",
    "    )\n",
    "\n",
    "    # Create a new dict that only contains the neighborhood\n",
    "    new_dict = {k.split(\"_\")[0]: v for k, v in d.items()}\n",
    "\n",
    "    # Create a list of PIDs with missing StreetPriceGroup values\n",
    "    na_pid_list = testdf[testdf[\"StreetPriceGroup\"].isna()][\"PID\"].tolist()\n",
    "\n",
    "    # Create a Boolean mask to filter the DataFrame\n",
    "    mask = testdf[\"PID\"].isin(na_pid_list)\n",
    "\n",
    "    # Apply the dictionary mapping only to the filtered rows\n",
    "    testdf.loc[mask, \"StreetPriceGroup\"] = testdf[mask][\"Neighborhood_prefix\"].map(\n",
    "        new_dict\n",
    "    )\n",
    "\n",
    "    # Drop the column since there is no more use for it\n",
    "    testdf.drop(\"Neighborhood_prefix\", axis=1, inplace=True)"
   ]
  },
  {
   "cell_type": "code",
   "execution_count": null,
   "id": "13d205de",
   "metadata": {},
   "outputs": [],
   "source": [
    "fill_na(test_dummies_w_streets, d)"
   ]
  },
  {
   "cell_type": "code",
   "execution_count": null,
   "id": "d5867a81",
   "metadata": {},
   "outputs": [],
   "source": [
    "# Remove the column that was used to create groupings\n",
    "train_dummies_w_streets.drop(\"Neighborhood_st\", axis=1, inplace=True)\n",
    "test_dummies_w_streets.drop(\"Neighborhood_st\", axis=1, inplace=True)"
   ]
  },
  {
   "cell_type": "code",
   "execution_count": null,
   "id": "75a75550",
   "metadata": {
    "scrolled": true
   },
   "outputs": [],
   "source": [
    "# Looks like PID should be removed and SalePrice moved to the first column\n",
    "train_dummies_w_streets"
   ]
  },
  {
   "cell_type": "code",
   "execution_count": null,
   "id": "140d8e6e",
   "metadata": {},
   "outputs": [],
   "source": [
    "# Remove PID and move SalePrice to first column\n",
    "# I need to do this in the future and save the csv's after so we dont have to do this each time\n",
    "\n",
    "# TRAIN\n",
    "train_dummies_w_streets = train_dummies_w_streets.iloc[\n",
    "    :,\n",
    "    train_dummies_w_streets.columns.tolist().index(\"SalePrice\") : (\n",
    "        train_dummies_w_streets.columns.tolist().index(\"SalePrice\") + 1\n",
    "    ),\n",
    "].join(train_dummies_w_streets.drop(columns=[\"SalePrice\", \"PID\"]))\n",
    "\n",
    "# TEST\n",
    "test_dummies_w_streets = test_dummies_w_streets.iloc[\n",
    "    :,\n",
    "    test_dummies_w_streets.columns.tolist().index(\"SalePrice\") : (\n",
    "        test_dummies_w_streets.columns.tolist().index(\"SalePrice\") + 1\n",
    "    ),\n",
    "].join(test_dummies_w_streets.drop(columns=[\"SalePrice\", \"PID\"]))"
   ]
  },
  {
   "cell_type": "code",
   "execution_count": null,
   "id": "e7ee3f22",
   "metadata": {},
   "outputs": [],
   "source": [
    "# One Hot Encode it.\n",
    "\n",
    "# List categorical columns to be dummified for train/test\n",
    "cat_cols = [\"StreetPriceGroup\"]\n",
    "\n",
    "# Dummify the categorical columns in both train/test set\n",
    "train_dummies_w_streets2 = pd.get_dummies(train_dummies_w_streets, columns=cat_cols)\n",
    "test_dummies_w_streets2 = pd.get_dummies(test_dummies_w_streets, columns=cat_cols)\n",
    "\n",
    "# Ensure the same dummy columns are present in both train and test sets\n",
    "train_dummies_w_streets2, test_dummies_w_streets2 = train_dummies_w_streets2.align(\n",
    "    test_dummies_w_streets2, join=\"left\", axis=1\n",
    ")\n",
    "\n",
    "# Fill any missing columns in the test set with zeros\n",
    "test_dummies_w_streets2.fillna(0, inplace=True)"
   ]
  },
  {
   "cell_type": "markdown",
   "id": "156e90c2",
   "metadata": {},
   "source": [
    "## Same processing as before"
   ]
  },
  {
   "cell_type": "code",
   "execution_count": null,
   "id": "a14e89b7",
   "metadata": {},
   "outputs": [],
   "source": [
    "# Define Model and Variables\n",
    "initial_model2 = GradientBoostingRegressor()\n",
    "X_train2 = train_dummies_w_streets2\n",
    "y_train2 = y_train.copy()\n",
    "X_test2 = test_dummies_w_streets2\n",
    "y_test2 = y_test.copy()\n",
    "\n",
    "# Drop columns with less than 20 observations in it's column\n",
    "col_sums2 = X_train2.iloc[:, 45:].sum()\n",
    "col_sums_filt2 = col_sums2[col_sums2 < 20]\n",
    "\n",
    "small_dumb_cols2 = list(col_sums_filt2.index)\n",
    "\n",
    "X_train2.drop(columns=small_dumb_cols2, inplace=True)\n",
    "X_test2.drop(columns=small_dumb_cols2, inplace=True)"
   ]
  },
  {
   "cell_type": "markdown",
   "id": "5ecadd02",
   "metadata": {},
   "source": [
    "## Model"
   ]
  },
  {
   "cell_type": "code",
   "execution_count": null,
   "id": "c5f26bb3",
   "metadata": {},
   "outputs": [],
   "source": [
    "# initial_model.set_params(verbose=1)\n",
    "# initial_model.fit(X_train, y_train)\n",
    "# initial_scores = cross_val_score(\n",
    "#     initial_model, X_train, y_train, \n",
    "#     cv=5, \n",
    "#     scoring=\"neg_mean_squared_error\", \n",
    "#     verbose=2\n",
    "# )\n",
    "# print(\"Initial Model RMSE: \", np.sqrt(-1 * np.mean(initial_scores)))"
   ]
  },
  {
   "cell_type": "markdown",
   "id": "9f0b324e",
   "metadata": {},
   "source": [
    "## YE OLD CODE DUMP"
   ]
  },
  {
   "cell_type": "code",
   "execution_count": null,
   "id": "3f77a81f",
   "metadata": {},
   "outputs": [],
   "source": [
    "# k-fold cross-validation\n",
    "\n",
    "# Create the Gradient Boosted Regression model and evaluate it using k-fold cross-validation\n",
    "from sklearn.ensemble import GradientBoostingRegressor\n",
    "from sklearn.metrics import mean_squared_error, r2_score\n",
    "\n",
    "mse_scores = []\n",
    "r2_scores = []\n",
    "\n",
    "for train_index, test_index in kf.split(X):\n",
    "    X_train, X_test = X.iloc[train_index], X.iloc[test_index]\n",
    "    y_train, y_test = y.iloc[train_index], y.iloc[test_index]\n",
    "\n",
    "    model = GradientBoostingRegressor(\n",
    "        n_estimators=100, learning_rate=0.1, max_depth=3, random_state=42\n",
    "    )\n",
    "    model.fit(X_train, y_train)\n",
    "\n",
    "    y_pred = model.predict(X_test)\n",
    "    mse = mean_squared_error(y_test, y_pred)\n",
    "    r2 = r2_score(y_test, y_pred)\n",
    "\n",
    "    mse_scores.append(mse)\n",
    "    r2_scores.append(r2)\n",
    "\n",
    "print(\"MSE scores:\", mse_scores)\n",
    "print(\"R-squared scores:\", r2_scores)"
   ]
  },
  {
   "cell_type": "markdown",
   "id": "31ae4bb3",
   "metadata": {},
   "source": [
    "The output shows the MSE and R-squared scores for each fold of the cross-validation. \n",
    "The MSE scores range from 322,746,634 to 949,124,370 while the R-squared scores range from 0.8501 to 0.9400. \n",
    "\n",
    "These scores indicate how well the model is performing on the testing data, with higher R-squared scores and lower MSE scores indicating better performance. \n",
    "\n",
    "The fact that the R-squared scores are relatively high and the MSE scores are relatively low suggests that the model is performing well on the data."
   ]
  },
  {
   "cell_type": "markdown",
   "id": "e6ead752",
   "metadata": {},
   "source": [
    "## Tuning"
   ]
  },
  {
   "cell_type": "code",
   "execution_count": null,
   "id": "13ead283",
   "metadata": {},
   "outputs": [],
   "source": [
    "def tune_gbm(learning_rate, max_depth):\n",
    "    gbm = GradientBoostingRegressor(\n",
    "        learning_rate=learning_rate, n_estimators=10000, max_depth=max_depth\n",
    "    )\n",
    "    gbm.fit(X_train, y_train)\n",
    "\n",
    "    return gbm\n",
    "\n",
    "def demo_gbm_tuning(model, start=0, end=10000, training_curve=True):\n",
    "    \"\"\"\n",
    "    This function takes a GBM regression model model as input and generates a \n",
    "    performance visualization of the model using the test dataset (X_test and y_test). \n",
    "    The function calculates the mean squared error (MSE) on both the training and test \n",
    "    datasets using a generator that iteratively predicts the targets for different numbers of estimators. \n",
    "    The start and end arguments control the range of the x-axis (i.e., the number of estimators), \n",
    "    and the training_curve argument controls whether to show the training curve or not. \n",
    "    The function also prints the best test score and the corresponding number of estimators.\n",
    "    \"\"\"\n",
    "    gen_train = model.staged_predict(X_train)\n",
    "    gen_test = model.staged_predict(X_test)\n",
    "\n",
    "    trainMSE = []\n",
    "    testMSE = []\n",
    "    steps = range(1, 10001)\n",
    "    for n in tqdm(steps):\n",
    "        y_pred_train = next(gen_train)\n",
    "        y_pred_test = next(gen_test)\n",
    "        trainMSE.append(mean_squared_error(y_pred_train, y_train))\n",
    "        testMSE.append(mean_squared_error(y_pred_test, y_test))\n",
    "\n",
    "    print(\n",
    "        \"The best test score is {:.2f} at the step {}\".format(\n",
    "            min(testMSE), np.argmin(testMSE) + 1\n",
    "        )\n",
    "    )\n",
    "    print(\"-\" * 50)\n",
    "    plt.plot(range(start, end), testMSE[start:end], label=\"test\")\n",
    "    if training_curve:\n",
    "        plt.plot(range(start, end), trainMSE[start:end], label=\"train\")\n",
    "    plt.legend()\n",
    "    plt.show()\n"
   ]
  },
  {
   "cell_type": "code",
   "execution_count": null,
   "id": "0e78b492",
   "metadata": {},
   "outputs": [],
   "source": [
    "learning_rate = 0.001\n",
    "max_depth = 4\n",
    "\n",
    "model1 = tune_gbm(learning_rate, max_depth)\n",
    "\n",
    "start = 0\n",
    "end = 10000  # change start and end to zoom in\n",
    "\n",
    "demo_gbm_tuning(model1, start, end)"
   ]
  },
  {
   "cell_type": "markdown",
   "id": "13be5f7f",
   "metadata": {},
   "source": [
    "The goal is to find the optimal number of estimators where the blue line is at its lowest point while the orange line is also decreasing or leveling off. This will ensure that the model is not overfitting and is generalizing well to new data.\n",
    "\n",
    "The curve with the lowest test MSE represents the best-performing learning rate.\n",
    "\n",
    "You can also look at the shape of the curves to gain insight into the behavior of the model. If the curves are flat or increasing, it may indicate that the model is overfitting or underfitting the data. If the curves are decreasing and plateauing, it may suggest that the model is performing well and additional tuning may not be necessary."
   ]
  },
  {
   "cell_type": "code",
   "execution_count": null,
   "id": "b1642c85",
   "metadata": {},
   "outputs": [],
   "source": [
    "learning_rate = 0.05\n",
    "max_depth = 4\n",
    "\n",
    "model2 = tune_gbm(learning_rate, max_depth)\n",
    "\n",
    "start = 0\n",
    "end = 10000\n",
    "\n",
    "demo_gbm_tuning(model2, start, end)"
   ]
  },
  {
   "cell_type": "code",
   "execution_count": null,
   "id": "a2c533fb",
   "metadata": {},
   "outputs": [],
   "source": [
    "learning_rate = 0.01\n",
    "max_depth = 4\n",
    "\n",
    "model2 = tune_gbm(learning_rate, max_depth)\n",
    "\n",
    "start = 0\n",
    "end = 10000\n",
    "\n",
    "demo_gbm_tuning(model2, start, end)"
   ]
  },
  {
   "cell_type": "code",
   "execution_count": null,
   "id": "c3755414",
   "metadata": {
    "scrolled": false
   },
   "outputs": [],
   "source": [
    "top_n = 20\n",
    "\n",
    "sorted_importance = sorted(\n",
    "    zip(X_train.columns, gbm.feature_importances_), key=lambda t: t[1], reverse=True,\n",
    ")[:top_n]\n",
    "\n",
    "sorted_importance"
   ]
  },
  {
   "cell_type": "code",
   "execution_count": null,
   "id": "134de3d8",
   "metadata": {},
   "outputs": [],
   "source": [
    "a, b = zip(*sorted_importance)  # this splits the list of tuples into two lists\n",
    "pd.DataFrame({\"feature_name\": a, \"importance_score\": b}).plot.bar(\n",
    "    x=\"feature_name\", y=\"importance_score\", legend=None\n",
    ")\n",
    "plt.title(\"Feature Importance Plot\")"
   ]
  },
  {
   "cell_type": "code",
   "execution_count": null,
   "id": "199740fb",
   "metadata": {},
   "outputs": [],
   "source": [
    "## Cumulative Feature Importance ##\n",
    "\n",
    "\n",
    "cumulative_importance = np.cumsum([x[1] for x in sorted_importance])\n",
    "\n",
    "plt.plot(cumulative_importance)\n",
    "plt.xlabel(\"Number of Features\")\n",
    "plt.ylabel(\"Cumulative Feature Importance\")\n",
    "plt.show()"
   ]
  },
  {
   "cell_type": "code",
   "execution_count": null,
   "id": "35874bf8",
   "metadata": {},
   "outputs": [],
   "source": [
    "## WARNING ## \n",
    "## This takes 20+min to run ##\n",
    "\n",
    "# Grid Search for best parameters\n",
    "\n",
    "# Define the parameter grid to search\n",
    "param_grid = {\n",
    "    'learning_rate': [0.1, 0.05, 0.01],\n",
    "    'n_estimators': [5000, 10000, 20000]\n",
    "}\n",
    "\n",
    "# Create a GBM model\n",
    "gbm = GradientBoostingRegressor(max_depth=4)\n",
    "\n",
    "# Perform grid search with cross-validation\n",
    "grid_search = GridSearchCV(gbm, param_grid=param_grid, cv=5)\n",
    "grid_search.fit(X_train, y_train)\n",
    "\n",
    "# Print the best parameters and best score\n",
    "print(\"Best parameters: \", grid_search.best_params_)\n",
    "print(\"Best score: \", -grid_search.best_score_)\n"
   ]
  },
  {
   "cell_type": "code",
   "execution_count": null,
   "id": "9e67faea",
   "metadata": {},
   "outputs": [],
   "source": [
    "-------------------"
   ]
  },
  {
   "cell_type": "code",
   "execution_count": null,
   "id": "f65f744a",
   "metadata": {},
   "outputs": [],
   "source": [
    "# DROPPED 2023-03-27\n",
    "\n",
    "# None of the columns have all o's\n",
    "# BUT some of the dummified columns have a very small amount of data\n",
    "\n",
    "col_sums = X_train.iloc[:, 45:].sum()\n",
    "col_sums_filt = col_sums[col_sums < 20]\n",
    "print(col_sums_filt.sort_values())\n",
    "\n",
    "# Remove all the dummified columns that were only 20 or less observations.\n",
    "# out of the total 1790 observations of the train set\n",
    "\n",
    "small_dumb_cols = list(col_sums_filt.index)\n",
    "\n",
    "X_train.drop(columns=small_dumb_cols, inplace=True)\n",
    "X_test.drop(columns=small_dumb_cols, inplace=True)\n",
    "\n",
    "# Dropped ~78 columns\n",
    "print(X_train.shape)\n",
    "print(X_test.shape)"
   ]
  }
 ],
 "metadata": {
  "kernelspec": {
   "display_name": "Python 3 (ipykernel)",
   "language": "python",
   "name": "python3"
  },
  "language_info": {
   "codemirror_mode": {
    "name": "ipython",
    "version": 3
   },
   "file_extension": ".py",
   "mimetype": "text/x-python",
   "name": "python",
   "nbconvert_exporter": "python",
   "pygments_lexer": "ipython3",
   "version": "3.9.12"
  }
 },
 "nbformat": 4,
 "nbformat_minor": 5
}
