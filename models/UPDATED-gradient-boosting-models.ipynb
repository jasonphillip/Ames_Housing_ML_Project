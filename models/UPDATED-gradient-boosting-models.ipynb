{
 "cells": [
  {
   "cell_type": "markdown",
   "id": "a7a28c41",
   "metadata": {},
   "source": [
    "## Load Packages and Data"
   ]
  },
  {
   "cell_type": "code",
   "execution_count": 1,
   "id": "d256ea46",
   "metadata": {},
   "outputs": [
    {
     "data": {
      "application/javascript": [
       "\n",
       "            setTimeout(function() {\n",
       "                var nbb_cell_id = 1;\n",
       "                var nbb_unformatted_code = \"import matplotlib.pyplot as plt\\nimport matplotlib.ticker as ticker\\nimport seaborn as sns\\nimport numpy as np\\nimport pandas as pd\\nimport seaborn as sns\\n\\nfrom sklearn.ensemble import GradientBoostingRegressor, GradientBoostingClassifier\\nfrom sklearn.preprocessing import LabelEncoder\\nfrom sklearn.model_selection import train_test_split\\nfrom sklearn.model_selection import KFold\\nfrom sklearn.metrics import mean_squared_error, r2_score, mean_absolute_error\\nfrom sklearn.model_selection import GridSearchCV\\nfrom sklearn.model_selection import cross_val_score\\nfrom sklearn.model_selection import validation_curve\\n\\nfrom tqdm import tqdm\\n\\n\\n# this extension properly formats a cell after it is run\\n# !{sys.executable} -m pip install nb_black # UNCOMMENT TO INSTALL\\n%load_ext nb_black\\n%matplotlib inline\\n\\n# Set the maximum number of rows to 200\\npd.set_option(\\\"display.max_rows\\\", 200)\\n\\n# Set the maximum number of columns to 200\\npd.set_option(\\\"display.max_columns\\\", 200)\\n\\nnp.random.seed(42)\";\n",
       "                var nbb_formatted_code = \"import matplotlib.pyplot as plt\\nimport matplotlib.ticker as ticker\\nimport seaborn as sns\\nimport numpy as np\\nimport pandas as pd\\nimport seaborn as sns\\n\\nfrom sklearn.ensemble import GradientBoostingRegressor, GradientBoostingClassifier\\nfrom sklearn.preprocessing import LabelEncoder\\nfrom sklearn.model_selection import train_test_split\\nfrom sklearn.model_selection import KFold\\nfrom sklearn.metrics import mean_squared_error, r2_score, mean_absolute_error\\nfrom sklearn.model_selection import GridSearchCV\\nfrom sklearn.model_selection import cross_val_score\\nfrom sklearn.model_selection import validation_curve\\n\\nfrom tqdm import tqdm\\n\\n\\n# this extension properly formats a cell after it is run\\n# !{sys.executable} -m pip install nb_black # UNCOMMENT TO INSTALL\\n%load_ext nb_black\\n%matplotlib inline\\n\\n# Set the maximum number of rows to 200\\npd.set_option(\\\"display.max_rows\\\", 200)\\n\\n# Set the maximum number of columns to 200\\npd.set_option(\\\"display.max_columns\\\", 200)\\n\\nnp.random.seed(42)\";\n",
       "                var nbb_cells = Jupyter.notebook.get_cells();\n",
       "                for (var i = 0; i < nbb_cells.length; ++i) {\n",
       "                    if (nbb_cells[i].input_prompt_number == nbb_cell_id) {\n",
       "                        if (nbb_cells[i].get_text() == nbb_unformatted_code) {\n",
       "                             nbb_cells[i].set_text(nbb_formatted_code);\n",
       "                        }\n",
       "                        break;\n",
       "                    }\n",
       "                }\n",
       "            }, 500);\n",
       "            "
      ],
      "text/plain": [
       "<IPython.core.display.Javascript object>"
      ]
     },
     "metadata": {},
     "output_type": "display_data"
    }
   ],
   "source": [
    "import matplotlib.pyplot as plt\n",
    "import matplotlib.ticker as ticker\n",
    "import seaborn as sns\n",
    "import numpy as np\n",
    "import pandas as pd\n",
    "import seaborn as sns\n",
    "\n",
    "from sklearn.ensemble import GradientBoostingRegressor, GradientBoostingClassifier\n",
    "from sklearn.preprocessing import LabelEncoder\n",
    "from sklearn.model_selection import train_test_split\n",
    "from sklearn.model_selection import KFold\n",
    "from sklearn.metrics import mean_squared_error, r2_score, mean_absolute_error\n",
    "from sklearn.model_selection import GridSearchCV\n",
    "from sklearn.model_selection import cross_val_score\n",
    "from sklearn.model_selection import validation_curve\n",
    "\n",
    "from tqdm import tqdm\n",
    "\n",
    "\n",
    "# this extension properly formats a cell after it is run\n",
    "# !{sys.executable} -m pip install nb_black # UNCOMMENT TO INSTALL\n",
    "%load_ext nb_black\n",
    "%matplotlib inline\n",
    "\n",
    "# Set the maximum number of rows to 200\n",
    "pd.set_option(\"display.max_rows\", 200)\n",
    "\n",
    "# Set the maximum number of columns to 200\n",
    "pd.set_option(\"display.max_columns\", 200)\n",
    "\n",
    "np.random.seed(42)"
   ]
  },
  {
   "cell_type": "code",
   "execution_count": 2,
   "id": "61a2c439",
   "metadata": {},
   "outputs": [
    {
     "data": {
      "application/javascript": [
       "\n",
       "            setTimeout(function() {\n",
       "                var nbb_cell_id = 2;\n",
       "                var nbb_unformatted_code = \"# Load Data\\nhousing_raw = pd.read_csv(\\\"../data/Ames_Housing_Price_Data.csv\\\")\\n\\nhousing_clean = pd.read_csv(\\\"../data/housing_cleaned.csv\\\")  # All features included\\n\\nhousing_corr = pd.read_csv(\\n    \\\"../data/housing_corr.csv\\\"\\n)  # 13 features removed because of colinearity\";\n",
       "                var nbb_formatted_code = \"# Load Data\\nhousing_raw = pd.read_csv(\\\"../data/Ames_Housing_Price_Data.csv\\\")\\n\\nhousing_clean = pd.read_csv(\\\"../data/housing_cleaned.csv\\\")  # All features included\\n\\nhousing_corr = pd.read_csv(\\n    \\\"../data/housing_corr.csv\\\"\\n)  # 13 features removed because of colinearity\";\n",
       "                var nbb_cells = Jupyter.notebook.get_cells();\n",
       "                for (var i = 0; i < nbb_cells.length; ++i) {\n",
       "                    if (nbb_cells[i].input_prompt_number == nbb_cell_id) {\n",
       "                        if (nbb_cells[i].get_text() == nbb_unformatted_code) {\n",
       "                             nbb_cells[i].set_text(nbb_formatted_code);\n",
       "                        }\n",
       "                        break;\n",
       "                    }\n",
       "                }\n",
       "            }, 500);\n",
       "            "
      ],
      "text/plain": [
       "<IPython.core.display.Javascript object>"
      ]
     },
     "metadata": {},
     "output_type": "display_data"
    }
   ],
   "source": [
    "# Load Data\n",
    "housing_raw = pd.read_csv(\"../data/Ames_Housing_Price_Data.csv\")\n",
    "\n",
    "housing_clean = pd.read_csv(\"../data/housing_cleaned.csv\")  # All features included\n",
    "\n",
    "housing_corr = pd.read_csv(\n",
    "    \"../data/housing_corr.csv\"\n",
    ")  # 13 features removed because of colinearity"
   ]
  },
  {
   "cell_type": "code",
   "execution_count": 3,
   "id": "1bf159a1",
   "metadata": {},
   "outputs": [
    {
     "data": {
      "text/plain": [
       "(2580, 82)"
      ]
     },
     "execution_count": 3,
     "metadata": {},
     "output_type": "execute_result"
    },
    {
     "data": {
      "application/javascript": [
       "\n",
       "            setTimeout(function() {\n",
       "                var nbb_cell_id = 3;\n",
       "                var nbb_unformatted_code = \"# Raw Data\\nhousing_raw.shape\";\n",
       "                var nbb_formatted_code = \"# Raw Data\\nhousing_raw.shape\";\n",
       "                var nbb_cells = Jupyter.notebook.get_cells();\n",
       "                for (var i = 0; i < nbb_cells.length; ++i) {\n",
       "                    if (nbb_cells[i].input_prompt_number == nbb_cell_id) {\n",
       "                        if (nbb_cells[i].get_text() == nbb_unformatted_code) {\n",
       "                             nbb_cells[i].set_text(nbb_formatted_code);\n",
       "                        }\n",
       "                        break;\n",
       "                    }\n",
       "                }\n",
       "            }, 500);\n",
       "            "
      ],
      "text/plain": [
       "<IPython.core.display.Javascript object>"
      ]
     },
     "metadata": {},
     "output_type": "display_data"
    }
   ],
   "source": [
    "# Raw Data\n",
    "housing_raw.shape"
   ]
  },
  {
   "cell_type": "code",
   "execution_count": 4,
   "id": "9a75e973",
   "metadata": {},
   "outputs": [
    {
     "data": {
      "text/plain": [
       "(2559, 83)"
      ]
     },
     "execution_count": 4,
     "metadata": {},
     "output_type": "execute_result"
    },
    {
     "data": {
      "application/javascript": [
       "\n",
       "            setTimeout(function() {\n",
       "                var nbb_cell_id = 4;\n",
       "                var nbb_unformatted_code = \"# Cleaned Data\\nhousing_clean.shape\";\n",
       "                var nbb_formatted_code = \"# Cleaned Data\\nhousing_clean.shape\";\n",
       "                var nbb_cells = Jupyter.notebook.get_cells();\n",
       "                for (var i = 0; i < nbb_cells.length; ++i) {\n",
       "                    if (nbb_cells[i].input_prompt_number == nbb_cell_id) {\n",
       "                        if (nbb_cells[i].get_text() == nbb_unformatted_code) {\n",
       "                             nbb_cells[i].set_text(nbb_formatted_code);\n",
       "                        }\n",
       "                        break;\n",
       "                    }\n",
       "                }\n",
       "            }, 500);\n",
       "            "
      ],
      "text/plain": [
       "<IPython.core.display.Javascript object>"
      ]
     },
     "metadata": {},
     "output_type": "display_data"
    }
   ],
   "source": [
    "# Cleaned Data\n",
    "housing_clean.shape"
   ]
  },
  {
   "cell_type": "code",
   "execution_count": 5,
   "id": "b6b49fc5",
   "metadata": {
    "scrolled": false
   },
   "outputs": [
    {
     "data": {
      "text/plain": [
       "(2558, 71)"
      ]
     },
     "execution_count": 5,
     "metadata": {},
     "output_type": "execute_result"
    },
    {
     "data": {
      "application/javascript": [
       "\n",
       "            setTimeout(function() {\n",
       "                var nbb_cell_id = 5;\n",
       "                var nbb_unformatted_code = \"# 13 features removed due to colinearity\\nhousing_corr.shape\";\n",
       "                var nbb_formatted_code = \"# 13 features removed due to colinearity\\nhousing_corr.shape\";\n",
       "                var nbb_cells = Jupyter.notebook.get_cells();\n",
       "                for (var i = 0; i < nbb_cells.length; ++i) {\n",
       "                    if (nbb_cells[i].input_prompt_number == nbb_cell_id) {\n",
       "                        if (nbb_cells[i].get_text() == nbb_unformatted_code) {\n",
       "                             nbb_cells[i].set_text(nbb_formatted_code);\n",
       "                        }\n",
       "                        break;\n",
       "                    }\n",
       "                }\n",
       "            }, 500);\n",
       "            "
      ],
      "text/plain": [
       "<IPython.core.display.Javascript object>"
      ]
     },
     "metadata": {},
     "output_type": "display_data"
    }
   ],
   "source": [
    "# 13 features removed due to colinearity\n",
    "housing_corr.shape"
   ]
  },
  {
   "cell_type": "code",
   "execution_count": 6,
   "id": "8f55aaf3",
   "metadata": {},
   "outputs": [
    {
     "name": "stdout",
     "output_type": "stream",
     "text": [
      "Removed  13  colinear features: \n",
      "\n",
      " {'BsmtFinType2', 'FullBath', 'GarageYrBlt', 'YearRemodAdd', 'ExterQual', '1stFlrSF', 'FireplaceQu', 'TotalBsmtSF', 'GarageCond', 'YearBuilt', 'GarageCars', 'GrLivArea', 'BsmtFinType1'}\n"
     ]
    },
    {
     "data": {
      "application/javascript": [
       "\n",
       "            setTimeout(function() {\n",
       "                var nbb_cell_id = 6;\n",
       "                var nbb_unformatted_code = \"# Features Removed for Correlation Issues\\nset1 = set(housing_raw.columns)\\nset2 = set(housing_clean.columns)\\nset3 = set(housing_corr.columns)\\n\\nprint(\\n    \\\"Removed \\\",\\n    len(set2.difference(set3)),\\n    \\\" colinear features: \\\\n\\\\n\\\",\\n    set2.difference(set3),\\n)\";\n",
       "                var nbb_formatted_code = \"# Features Removed for Correlation Issues\\nset1 = set(housing_raw.columns)\\nset2 = set(housing_clean.columns)\\nset3 = set(housing_corr.columns)\\n\\nprint(\\n    \\\"Removed \\\",\\n    len(set2.difference(set3)),\\n    \\\" colinear features: \\\\n\\\\n\\\",\\n    set2.difference(set3),\\n)\";\n",
       "                var nbb_cells = Jupyter.notebook.get_cells();\n",
       "                for (var i = 0; i < nbb_cells.length; ++i) {\n",
       "                    if (nbb_cells[i].input_prompt_number == nbb_cell_id) {\n",
       "                        if (nbb_cells[i].get_text() == nbb_unformatted_code) {\n",
       "                             nbb_cells[i].set_text(nbb_formatted_code);\n",
       "                        }\n",
       "                        break;\n",
       "                    }\n",
       "                }\n",
       "            }, 500);\n",
       "            "
      ],
      "text/plain": [
       "<IPython.core.display.Javascript object>"
      ]
     },
     "metadata": {},
     "output_type": "display_data"
    }
   ],
   "source": [
    "# Features Removed for Correlation Issues\n",
    "set1 = set(housing_raw.columns)\n",
    "set2 = set(housing_clean.columns)\n",
    "set3 = set(housing_corr.columns)\n",
    "\n",
    "print(\n",
    "    \"Removed \",\n",
    "    len(set2.difference(set3)),\n",
    "    \" colinear features: \\n\\n\",\n",
    "    set2.difference(set3),\n",
    ")"
   ]
  },
  {
   "cell_type": "markdown",
   "id": "73f4eb2e",
   "metadata": {},
   "source": [
    "#### Small Pre-Processing"
   ]
  },
  {
   "cell_type": "code",
   "execution_count": 7,
   "id": "03dd6cd6",
   "metadata": {},
   "outputs": [
    {
     "data": {
      "application/javascript": [
       "\n",
       "            setTimeout(function() {\n",
       "                var nbb_cell_id = 7;\n",
       "                var nbb_unformatted_code = \"# Removing PID column, as it is a unique identifier per row\\nhousing_corr = housing_corr.drop(\\\"PID\\\", axis=1)\\nhousing_clean = housing_clean.drop(\\\"PID\\\", axis=1)\";\n",
       "                var nbb_formatted_code = \"# Removing PID column, as it is a unique identifier per row\\nhousing_corr = housing_corr.drop(\\\"PID\\\", axis=1)\\nhousing_clean = housing_clean.drop(\\\"PID\\\", axis=1)\";\n",
       "                var nbb_cells = Jupyter.notebook.get_cells();\n",
       "                for (var i = 0; i < nbb_cells.length; ++i) {\n",
       "                    if (nbb_cells[i].input_prompt_number == nbb_cell_id) {\n",
       "                        if (nbb_cells[i].get_text() == nbb_unformatted_code) {\n",
       "                             nbb_cells[i].set_text(nbb_formatted_code);\n",
       "                        }\n",
       "                        break;\n",
       "                    }\n",
       "                }\n",
       "            }, 500);\n",
       "            "
      ],
      "text/plain": [
       "<IPython.core.display.Javascript object>"
      ]
     },
     "metadata": {},
     "output_type": "display_data"
    }
   ],
   "source": [
    "# Removing PID column, as it is a unique identifier per row\n",
    "housing_corr = housing_corr.drop(\"PID\", axis=1)\n",
    "housing_clean = housing_clean.drop(\"PID\", axis=1)"
   ]
  },
  {
   "cell_type": "markdown",
   "id": "8d5af161",
   "metadata": {},
   "source": [
    "## Label Encoding for Categorical Values"
   ]
  },
  {
   "cell_type": "code",
   "execution_count": 8,
   "id": "1880ec0d",
   "metadata": {
    "scrolled": true
   },
   "outputs": [
    {
     "data": {
      "text/plain": [
       "SalePrice            int64\n",
       "MSSubClass           int64\n",
       "MSZoning            object\n",
       "LotFrontage        float64\n",
       "LotArea              int64\n",
       "Street              object\n",
       "Alley               object\n",
       "LotShape            object\n",
       "LandContour         object\n",
       "Utilities           object\n",
       "LotConfig           object\n",
       "LandSlope           object\n",
       "Neighborhood        object\n",
       "Condition1          object\n",
       "Condition2          object\n",
       "BldgType            object\n",
       "HouseStyle          object\n",
       "OverallQual          int64\n",
       "OverallCond          int64\n",
       "RoofStyle           object\n",
       "RoofMatl            object\n",
       "Exterior1st         object\n",
       "Exterior2nd         object\n",
       "MasVnrType          object\n",
       "MasVnrArea         float64\n",
       "ExterCond            int64\n",
       "Foundation          object\n",
       "BsmtQual             int64\n",
       "BsmtCond             int64\n",
       "BsmtExposure         int64\n",
       "BsmtFinSF1         float64\n",
       "BsmtFinSF2         float64\n",
       "BsmtUnfSF          float64\n",
       "Heating             object\n",
       "HeatingQC            int64\n",
       "CentralAir          object\n",
       "Electrical          object\n",
       "2ndFlrSF             int64\n",
       "BsmtFullBath       float64\n",
       "BsmtHalfBath       float64\n",
       "HalfBath             int64\n",
       "BedroomAbvGr         int64\n",
       "KitchenAbvGr         int64\n",
       "KitchenQual          int64\n",
       "TotRmsAbvGrd         int64\n",
       "Functional          object\n",
       "Fireplaces           int64\n",
       "GarageType          object\n",
       "GarageFinish         int64\n",
       "GarageArea         float64\n",
       "GarageQual           int64\n",
       "PavedDrive          object\n",
       "WoodDeckSF           int64\n",
       "OpenPorchSF          int64\n",
       "EnclosedPorch        int64\n",
       "ScreenPorch          int64\n",
       "Fence                int64\n",
       "MoSold               int64\n",
       "YrSold               int64\n",
       "SaleType            object\n",
       "SaleCondition       object\n",
       "Age                  int64\n",
       "RemodAge             int64\n",
       "TotalSF            float64\n",
       "Remodeled            int64\n",
       "TotalPorchSF         int64\n",
       "TotalBath          float64\n",
       "MSSubClass_cat      object\n",
       "Street_type         object\n",
       "Neighborhood_st     object\n",
       "dtype: object"
      ]
     },
     "execution_count": 8,
     "metadata": {},
     "output_type": "execute_result"
    },
    {
     "data": {
      "application/javascript": [
       "\n",
       "            setTimeout(function() {\n",
       "                var nbb_cell_id = 8;\n",
       "                var nbb_unformatted_code = \"# In order to do regression, I need to turn categorical values into numerical values\\nhousing_corr.dtypes\";\n",
       "                var nbb_formatted_code = \"# In order to do regression, I need to turn categorical values into numerical values\\nhousing_corr.dtypes\";\n",
       "                var nbb_cells = Jupyter.notebook.get_cells();\n",
       "                for (var i = 0; i < nbb_cells.length; ++i) {\n",
       "                    if (nbb_cells[i].input_prompt_number == nbb_cell_id) {\n",
       "                        if (nbb_cells[i].get_text() == nbb_unformatted_code) {\n",
       "                             nbb_cells[i].set_text(nbb_formatted_code);\n",
       "                        }\n",
       "                        break;\n",
       "                    }\n",
       "                }\n",
       "            }, 500);\n",
       "            "
      ],
      "text/plain": [
       "<IPython.core.display.Javascript object>"
      ]
     },
     "metadata": {},
     "output_type": "display_data"
    }
   ],
   "source": [
    "# In order to do regression, I need to turn categorical values into numerical values\n",
    "housing_corr.dtypes"
   ]
  },
  {
   "cell_type": "code",
   "execution_count": 9,
   "id": "ccab4e10",
   "metadata": {},
   "outputs": [
    {
     "data": {
      "application/javascript": [
       "\n",
       "            setTimeout(function() {\n",
       "                var nbb_cell_id = 9;\n",
       "                var nbb_unformatted_code = \"# List categorical columns to be label encoded for train/test\\ncat_cols = housing_corr.select_dtypes(include=[\\\"object\\\"]).columns.tolist()\\ncat_cols2 = housing_clean.select_dtypes(include=[\\\"object\\\"]).columns.tolist()\\n\\n# Create a dictionary to store the label encoded values\\ncat_cols_encoded = {}\\n\\n# Label Encode the categorical columns in both train/test set to values 1,2,3,4 etc.\\nle = LabelEncoder()\\nfor column in cat_cols:\\n    housing_corr[column + \\\"_encoded\\\"] = le.fit_transform(housing_corr[column])\\n    # Store the mapping of original column to encoded column in the dictionary\\n    cat_cols_encoded[column] = column + \\\"_encoded\\\"\\n\\n# Deleting all Object type columns, now that they've been replaced with labelencoded values\\nhousing_corr_drop = housing_corr.select_dtypes(include=\\\"object\\\").columns\\nhousing_corr = housing_corr.drop(housing_corr_drop, axis=1)\\n\\n# Create a dictionary to store the label encoded values\\ncat_cols_encoded2 = {}\\n\\n# Label Encode the categorical columns in both train/test set to values 1,2,3,4 etc.\\nle2 = LabelEncoder()\\nfor column in cat_cols2:\\n    housing_clean[column + \\\"_encoded\\\"] = le.fit_transform(housing_clean[column])\\n    # Store the mapping of original column to encoded column in the dictionary\\n    cat_cols_encoded[column] = column + \\\"_encoded\\\"\\n\\n# Deleting all Object type columns, now that they've been replaced with labelencoded values\\nhousing_corr_drop = housing_clean.select_dtypes(include=\\\"object\\\").columns\\nhousing_clean = housing_clean.drop(housing_corr_drop, axis=1)\";\n",
       "                var nbb_formatted_code = \"# List categorical columns to be label encoded for train/test\\ncat_cols = housing_corr.select_dtypes(include=[\\\"object\\\"]).columns.tolist()\\ncat_cols2 = housing_clean.select_dtypes(include=[\\\"object\\\"]).columns.tolist()\\n\\n# Create a dictionary to store the label encoded values\\ncat_cols_encoded = {}\\n\\n# Label Encode the categorical columns in both train/test set to values 1,2,3,4 etc.\\nle = LabelEncoder()\\nfor column in cat_cols:\\n    housing_corr[column + \\\"_encoded\\\"] = le.fit_transform(housing_corr[column])\\n    # Store the mapping of original column to encoded column in the dictionary\\n    cat_cols_encoded[column] = column + \\\"_encoded\\\"\\n\\n# Deleting all Object type columns, now that they've been replaced with labelencoded values\\nhousing_corr_drop = housing_corr.select_dtypes(include=\\\"object\\\").columns\\nhousing_corr = housing_corr.drop(housing_corr_drop, axis=1)\\n\\n# Create a dictionary to store the label encoded values\\ncat_cols_encoded2 = {}\\n\\n# Label Encode the categorical columns in both train/test set to values 1,2,3,4 etc.\\nle2 = LabelEncoder()\\nfor column in cat_cols2:\\n    housing_clean[column + \\\"_encoded\\\"] = le.fit_transform(housing_clean[column])\\n    # Store the mapping of original column to encoded column in the dictionary\\n    cat_cols_encoded[column] = column + \\\"_encoded\\\"\\n\\n# Deleting all Object type columns, now that they've been replaced with labelencoded values\\nhousing_corr_drop = housing_clean.select_dtypes(include=\\\"object\\\").columns\\nhousing_clean = housing_clean.drop(housing_corr_drop, axis=1)\";\n",
       "                var nbb_cells = Jupyter.notebook.get_cells();\n",
       "                for (var i = 0; i < nbb_cells.length; ++i) {\n",
       "                    if (nbb_cells[i].input_prompt_number == nbb_cell_id) {\n",
       "                        if (nbb_cells[i].get_text() == nbb_unformatted_code) {\n",
       "                             nbb_cells[i].set_text(nbb_formatted_code);\n",
       "                        }\n",
       "                        break;\n",
       "                    }\n",
       "                }\n",
       "            }, 500);\n",
       "            "
      ],
      "text/plain": [
       "<IPython.core.display.Javascript object>"
      ]
     },
     "metadata": {},
     "output_type": "display_data"
    }
   ],
   "source": [
    "# List categorical columns to be label encoded for train/test\n",
    "cat_cols = housing_corr.select_dtypes(include=[\"object\"]).columns.tolist()\n",
    "cat_cols2 = housing_clean.select_dtypes(include=[\"object\"]).columns.tolist()\n",
    "\n",
    "# Create a dictionary to store the label encoded values\n",
    "cat_cols_encoded = {}\n",
    "\n",
    "# Label Encode the categorical columns in both train/test set to values 1,2,3,4 etc.\n",
    "le = LabelEncoder()\n",
    "for column in cat_cols:\n",
    "    housing_corr[column + \"_encoded\"] = le.fit_transform(housing_corr[column])\n",
    "    # Store the mapping of original column to encoded column in the dictionary\n",
    "    cat_cols_encoded[column] = column + \"_encoded\"\n",
    "\n",
    "# Deleting all Object type columns, now that they've been replaced with labelencoded values\n",
    "housing_corr_drop = housing_corr.select_dtypes(include=\"object\").columns\n",
    "housing_corr = housing_corr.drop(housing_corr_drop, axis=1)\n",
    "\n",
    "# Create a dictionary to store the label encoded values\n",
    "cat_cols_encoded2 = {}\n",
    "\n",
    "# Label Encode the categorical columns in both train/test set to values 1,2,3,4 etc.\n",
    "le2 = LabelEncoder()\n",
    "for column in cat_cols2:\n",
    "    housing_clean[column + \"_encoded\"] = le.fit_transform(housing_clean[column])\n",
    "    # Store the mapping of original column to encoded column in the dictionary\n",
    "    cat_cols_encoded[column] = column + \"_encoded\"\n",
    "\n",
    "# Deleting all Object type columns, now that they've been replaced with labelencoded values\n",
    "housing_corr_drop = housing_clean.select_dtypes(include=\"object\").columns\n",
    "housing_clean = housing_clean.drop(housing_corr_drop, axis=1)\n"
   ]
  },
  {
   "cell_type": "code",
   "execution_count": 10,
   "id": "7451e094",
   "metadata": {
    "scrolled": true
   },
   "outputs": [
    {
     "name": "stdout",
     "output_type": "stream",
     "text": [
      "(2558, 70) SalePrice                    int64\n",
      "MSSubClass                   int64\n",
      "LotFrontage                float64\n",
      "LotArea                      int64\n",
      "OverallQual                  int64\n",
      "OverallCond                  int64\n",
      "MasVnrArea                 float64\n",
      "ExterCond                    int64\n",
      "BsmtQual                     int64\n",
      "BsmtCond                     int64\n",
      "BsmtExposure                 int64\n",
      "BsmtFinSF1                 float64\n",
      "BsmtFinSF2                 float64\n",
      "BsmtUnfSF                  float64\n",
      "HeatingQC                    int64\n",
      "2ndFlrSF                     int64\n",
      "BsmtFullBath               float64\n",
      "BsmtHalfBath               float64\n",
      "HalfBath                     int64\n",
      "BedroomAbvGr                 int64\n",
      "KitchenAbvGr                 int64\n",
      "KitchenQual                  int64\n",
      "TotRmsAbvGrd                 int64\n",
      "Fireplaces                   int64\n",
      "GarageFinish                 int64\n",
      "GarageArea                 float64\n",
      "GarageQual                   int64\n",
      "WoodDeckSF                   int64\n",
      "OpenPorchSF                  int64\n",
      "EnclosedPorch                int64\n",
      "ScreenPorch                  int64\n",
      "Fence                        int64\n",
      "MoSold                       int64\n",
      "YrSold                       int64\n",
      "Age                          int64\n",
      "RemodAge                     int64\n",
      "TotalSF                    float64\n",
      "Remodeled                    int64\n",
      "TotalPorchSF                 int64\n",
      "TotalBath                  float64\n",
      "MSZoning_encoded             int64\n",
      "Street_encoded               int64\n",
      "Alley_encoded                int64\n",
      "LotShape_encoded             int64\n",
      "LandContour_encoded          int64\n",
      "Utilities_encoded            int64\n",
      "LotConfig_encoded            int64\n",
      "LandSlope_encoded            int64\n",
      "Neighborhood_encoded         int64\n",
      "Condition1_encoded           int64\n",
      "Condition2_encoded           int64\n",
      "BldgType_encoded             int64\n",
      "HouseStyle_encoded           int64\n",
      "RoofStyle_encoded            int64\n",
      "RoofMatl_encoded             int64\n",
      "Exterior1st_encoded          int64\n",
      "Exterior2nd_encoded          int64\n",
      "MasVnrType_encoded           int64\n",
      "Foundation_encoded           int64\n",
      "Heating_encoded              int64\n",
      "CentralAir_encoded           int64\n",
      "Electrical_encoded           int64\n",
      "Functional_encoded           int64\n",
      "GarageType_encoded           int64\n",
      "PavedDrive_encoded           int64\n",
      "SaleType_encoded             int64\n",
      "SaleCondition_encoded        int64\n",
      "MSSubClass_cat_encoded       int64\n",
      "Street_type_encoded          int64\n",
      "Neighborhood_st_encoded      int64\n",
      "dtype: object\n",
      "(2559, 82) GrLivArea                   int64\n",
      "SalePrice                   int64\n",
      "MSSubClass                  int64\n",
      "LotFrontage               float64\n",
      "LotArea                     int64\n",
      "OverallQual                 int64\n",
      "OverallCond                 int64\n",
      "YearBuilt                   int64\n",
      "YearRemodAdd                int64\n",
      "MasVnrArea                float64\n",
      "BsmtFinSF1                float64\n",
      "BsmtFinSF2                float64\n",
      "BsmtUnfSF                 float64\n",
      "TotalBsmtSF               float64\n",
      "1stFlrSF                    int64\n",
      "2ndFlrSF                    int64\n",
      "BsmtFullBath              float64\n",
      "BsmtHalfBath              float64\n",
      "FullBath                    int64\n",
      "HalfBath                    int64\n",
      "BedroomAbvGr                int64\n",
      "KitchenAbvGr                int64\n",
      "TotRmsAbvGrd                int64\n",
      "Fireplaces                  int64\n",
      "GarageYrBlt               float64\n",
      "GarageCars                float64\n",
      "GarageArea                float64\n",
      "WoodDeckSF                  int64\n",
      "OpenPorchSF                 int64\n",
      "EnclosedPorch               int64\n",
      "ScreenPorch                 int64\n",
      "MoSold                      int64\n",
      "YrSold                      int64\n",
      "Age                         int64\n",
      "RemodAge                    int64\n",
      "TotalSF                   float64\n",
      "Remodeled                   int64\n",
      "TotalPorchSF                int64\n",
      "TotalBath                 float64\n",
      "MSZoning_encoded            int64\n",
      "Street_encoded              int64\n",
      "Alley_encoded               int64\n",
      "LotShape_encoded            int64\n",
      "LandContour_encoded         int64\n",
      "Utilities_encoded           int64\n",
      "LotConfig_encoded           int64\n",
      "LandSlope_encoded           int64\n",
      "Neighborhood_encoded        int64\n",
      "Condition1_encoded          int64\n",
      "Condition2_encoded          int64\n",
      "BldgType_encoded            int64\n",
      "HouseStyle_encoded          int64\n",
      "RoofStyle_encoded           int64\n",
      "RoofMatl_encoded            int64\n",
      "Exterior1st_encoded         int64\n",
      "Exterior2nd_encoded         int64\n",
      "MasVnrType_encoded          int64\n",
      "ExterQual_encoded           int64\n",
      "ExterCond_encoded           int64\n",
      "Foundation_encoded          int64\n",
      "BsmtQual_encoded            int64\n",
      "BsmtCond_encoded            int64\n",
      "BsmtExposure_encoded        int64\n",
      "BsmtFinType1_encoded        int64\n",
      "BsmtFinType2_encoded        int64\n",
      "Heating_encoded             int64\n",
      "HeatingQC_encoded           int64\n",
      "CentralAir_encoded          int64\n",
      "Electrical_encoded          int64\n",
      "KitchenQual_encoded         int64\n",
      "Functional_encoded          int64\n",
      "FireplaceQu_encoded         int64\n",
      "GarageType_encoded          int64\n",
      "GarageFinish_encoded        int64\n",
      "GarageQual_encoded          int64\n",
      "GarageCond_encoded          int64\n",
      "PavedDrive_encoded          int64\n",
      "Fence_encoded               int64\n",
      "SaleType_encoded            int64\n",
      "SaleCondition_encoded       int64\n",
      "MSSubClass_cat_encoded      int64\n",
      "Street_type_encoded         int64\n",
      "dtype: object\n"
     ]
    },
    {
     "data": {
      "application/javascript": [
       "\n",
       "            setTimeout(function() {\n",
       "                var nbb_cell_id = 10;\n",
       "                var nbb_unformatted_code = \"# Did it work? yes!\\nprint(housing_corr.shape, housing_corr.dtypes)\\nprint(housing_clean.shape, housing_clean.dtypes)\";\n",
       "                var nbb_formatted_code = \"# Did it work? yes!\\nprint(housing_corr.shape, housing_corr.dtypes)\\nprint(housing_clean.shape, housing_clean.dtypes)\";\n",
       "                var nbb_cells = Jupyter.notebook.get_cells();\n",
       "                for (var i = 0; i < nbb_cells.length; ++i) {\n",
       "                    if (nbb_cells[i].input_prompt_number == nbb_cell_id) {\n",
       "                        if (nbb_cells[i].get_text() == nbb_unformatted_code) {\n",
       "                             nbb_cells[i].set_text(nbb_formatted_code);\n",
       "                        }\n",
       "                        break;\n",
       "                    }\n",
       "                }\n",
       "            }, 500);\n",
       "            "
      ],
      "text/plain": [
       "<IPython.core.display.Javascript object>"
      ]
     },
     "metadata": {},
     "output_type": "display_data"
    }
   ],
   "source": [
    "# Did it work? yes!\n",
    "print(housing_corr.shape, housing_corr.dtypes)\n",
    "print(housing_clean.shape, housing_clean.dtypes)"
   ]
  },
  {
   "cell_type": "code",
   "execution_count": 11,
   "id": "e9b2222f",
   "metadata": {},
   "outputs": [
    {
     "name": "stdout",
     "output_type": "stream",
     "text": [
      "Index([], dtype='object')\n"
     ]
    },
    {
     "data": {
      "application/javascript": [
       "\n",
       "            setTimeout(function() {\n",
       "                var nbb_cell_id = 11;\n",
       "                var nbb_unformatted_code = \"# Triple Check that there are no object values\\nstrings = housing_corr.select_dtypes(include=[\\\"object\\\"]).columns\\nprint(strings)\";\n",
       "                var nbb_formatted_code = \"# Triple Check that there are no object values\\nstrings = housing_corr.select_dtypes(include=[\\\"object\\\"]).columns\\nprint(strings)\";\n",
       "                var nbb_cells = Jupyter.notebook.get_cells();\n",
       "                for (var i = 0; i < nbb_cells.length; ++i) {\n",
       "                    if (nbb_cells[i].input_prompt_number == nbb_cell_id) {\n",
       "                        if (nbb_cells[i].get_text() == nbb_unformatted_code) {\n",
       "                             nbb_cells[i].set_text(nbb_formatted_code);\n",
       "                        }\n",
       "                        break;\n",
       "                    }\n",
       "                }\n",
       "            }, 500);\n",
       "            "
      ],
      "text/plain": [
       "<IPython.core.display.Javascript object>"
      ]
     },
     "metadata": {},
     "output_type": "display_data"
    }
   ],
   "source": [
    "# Triple Check that there are no object values\n",
    "strings = housing_corr.select_dtypes(include=[\"object\"]).columns\n",
    "print(strings)"
   ]
  },
  {
   "cell_type": "markdown",
   "id": "82442723",
   "metadata": {},
   "source": [
    "## Checking to see if any columns are just 0's"
   ]
  },
  {
   "cell_type": "code",
   "execution_count": 12,
   "id": "9320a081",
   "metadata": {},
   "outputs": [
    {
     "name": "stdout",
     "output_type": "stream",
     "text": [
      "[]\n"
     ]
    },
    {
     "data": {
      "application/javascript": [
       "\n",
       "            setTimeout(function() {\n",
       "                var nbb_cell_id = 12;\n",
       "                var nbb_unformatted_code = \"all_zero_cols_train = []\\nfor col in housing_corr.columns:\\n    if (housing_corr[col] == 0).all():\\n        all_zero_cols_train.append(col)\\nprint(all_zero_cols_train)\";\n",
       "                var nbb_formatted_code = \"all_zero_cols_train = []\\nfor col in housing_corr.columns:\\n    if (housing_corr[col] == 0).all():\\n        all_zero_cols_train.append(col)\\nprint(all_zero_cols_train)\";\n",
       "                var nbb_cells = Jupyter.notebook.get_cells();\n",
       "                for (var i = 0; i < nbb_cells.length; ++i) {\n",
       "                    if (nbb_cells[i].input_prompt_number == nbb_cell_id) {\n",
       "                        if (nbb_cells[i].get_text() == nbb_unformatted_code) {\n",
       "                             nbb_cells[i].set_text(nbb_formatted_code);\n",
       "                        }\n",
       "                        break;\n",
       "                    }\n",
       "                }\n",
       "            }, 500);\n",
       "            "
      ],
      "text/plain": [
       "<IPython.core.display.Javascript object>"
      ]
     },
     "metadata": {},
     "output_type": "display_data"
    }
   ],
   "source": [
    "all_zero_cols_train = []\n",
    "for col in housing_corr.columns:\n",
    "    if (housing_corr[col] == 0).all():\n",
    "        all_zero_cols_train.append(col)\n",
    "print(all_zero_cols_train)"
   ]
  },
  {
   "cell_type": "markdown",
   "id": "2d0e8d56",
   "metadata": {},
   "source": [
    "## Train Test Split"
   ]
  },
  {
   "cell_type": "code",
   "execution_count": 13,
   "id": "a29f7dcb",
   "metadata": {},
   "outputs": [
    {
     "data": {
      "application/javascript": [
       "\n",
       "            setTimeout(function() {\n",
       "                var nbb_cell_id = 13;\n",
       "                var nbb_unformatted_code = \"# All Columns\\nX0 = housing_clean.loc[:, housing_clean.columns != \\\"SalePrice\\\"]\\ny0 = housing_clean.loc[:, \\\"SalePrice\\\"]\\nX0_train, X0_test, y0_train, y0_test = train_test_split(\\n    X0,\\n    y0,\\n    random_state=42,\\n    test_size=0.3,  # stratify=housing_corr[\\\"Neighborhood\\\"] # commenting out for now\\n)\\n\\n# Colinear Columns Removed\\nX = housing_corr.loc[:, housing_corr.columns != \\\"SalePrice\\\"]\\ny = housing_corr.loc[:, \\\"SalePrice\\\"]\\nX_train, X_test, y_train, y_test = train_test_split(\\n    X,\\n    y,\\n    random_state=42,\\n    test_size=0.3,  # stratify=housing_corr[\\\"Neighborhood\\\"] # commenting out for now\\n)\";\n",
       "                var nbb_formatted_code = \"# All Columns\\nX0 = housing_clean.loc[:, housing_clean.columns != \\\"SalePrice\\\"]\\ny0 = housing_clean.loc[:, \\\"SalePrice\\\"]\\nX0_train, X0_test, y0_train, y0_test = train_test_split(\\n    X0,\\n    y0,\\n    random_state=42,\\n    test_size=0.3,  # stratify=housing_corr[\\\"Neighborhood\\\"] # commenting out for now\\n)\\n\\n# Colinear Columns Removed\\nX = housing_corr.loc[:, housing_corr.columns != \\\"SalePrice\\\"]\\ny = housing_corr.loc[:, \\\"SalePrice\\\"]\\nX_train, X_test, y_train, y_test = train_test_split(\\n    X,\\n    y,\\n    random_state=42,\\n    test_size=0.3,  # stratify=housing_corr[\\\"Neighborhood\\\"] # commenting out for now\\n)\";\n",
       "                var nbb_cells = Jupyter.notebook.get_cells();\n",
       "                for (var i = 0; i < nbb_cells.length; ++i) {\n",
       "                    if (nbb_cells[i].input_prompt_number == nbb_cell_id) {\n",
       "                        if (nbb_cells[i].get_text() == nbb_unformatted_code) {\n",
       "                             nbb_cells[i].set_text(nbb_formatted_code);\n",
       "                        }\n",
       "                        break;\n",
       "                    }\n",
       "                }\n",
       "            }, 500);\n",
       "            "
      ],
      "text/plain": [
       "<IPython.core.display.Javascript object>"
      ]
     },
     "metadata": {},
     "output_type": "display_data"
    }
   ],
   "source": [
    "# All Columns\n",
    "X0 = housing_clean.loc[:, housing_clean.columns != \"SalePrice\"]\n",
    "y0 = housing_clean.loc[:, \"SalePrice\"]\n",
    "X0_train, X0_test, y0_train, y0_test = train_test_split(\n",
    "    X0,\n",
    "    y0,\n",
    "    random_state=42,\n",
    "    test_size=0.3,  # stratify=housing_corr[\"Neighborhood\"] # commenting out for now\n",
    ")\n",
    "\n",
    "# Colinear Columns Removed\n",
    "X = housing_corr.loc[:, housing_corr.columns != \"SalePrice\"]\n",
    "y = housing_corr.loc[:, \"SalePrice\"]\n",
    "X_train, X_test, y_train, y_test = train_test_split(\n",
    "    X,\n",
    "    y,\n",
    "    random_state=42,\n",
    "    test_size=0.3,  # stratify=housing_corr[\"Neighborhood\"] # commenting out for now\n",
    ")"
   ]
  },
  {
   "cell_type": "code",
   "execution_count": 14,
   "id": "5a9a20d7",
   "metadata": {},
   "outputs": [
    {
     "name": "stdout",
     "output_type": "stream",
     "text": [
      "(1790, 69)\n",
      "(768, 69)\n",
      "(1791, 81)\n",
      "(768, 81)\n"
     ]
    },
    {
     "data": {
      "application/javascript": [
       "\n",
       "            setTimeout(function() {\n",
       "                var nbb_cell_id = 14;\n",
       "                var nbb_unformatted_code = \"print(X_train.shape)\\nprint(X_test.shape)\\nprint(X0_train.shape)\\nprint(X0_test.shape)\";\n",
       "                var nbb_formatted_code = \"print(X_train.shape)\\nprint(X_test.shape)\\nprint(X0_train.shape)\\nprint(X0_test.shape)\";\n",
       "                var nbb_cells = Jupyter.notebook.get_cells();\n",
       "                for (var i = 0; i < nbb_cells.length; ++i) {\n",
       "                    if (nbb_cells[i].input_prompt_number == nbb_cell_id) {\n",
       "                        if (nbb_cells[i].get_text() == nbb_unformatted_code) {\n",
       "                             nbb_cells[i].set_text(nbb_formatted_code);\n",
       "                        }\n",
       "                        break;\n",
       "                    }\n",
       "                }\n",
       "            }, 500);\n",
       "            "
      ],
      "text/plain": [
       "<IPython.core.display.Javascript object>"
      ]
     },
     "metadata": {},
     "output_type": "display_data"
    }
   ],
   "source": [
    "print(X_train.shape)\n",
    "print(X_test.shape)\n",
    "print(X0_train.shape)\n",
    "print(X0_test.shape)"
   ]
  },
  {
   "cell_type": "markdown",
   "id": "00654762",
   "metadata": {},
   "source": [
    "## Model Scoring Function"
   ]
  },
  {
   "cell_type": "code",
   "execution_count": 15,
   "id": "611e1895",
   "metadata": {},
   "outputs": [
    {
     "data": {
      "application/javascript": [
       "\n",
       "            setTimeout(function() {\n",
       "                var nbb_cell_id = 15;\n",
       "                var nbb_unformatted_code = \"# Creating a scoring function\\n\\n\\ndef r2mae_scores(model, X, y):\\n    # Using R^2 as the scoring metric\\n    r2_scores = cross_val_score(model, X, y, cv=5, scoring=\\\"r2\\\", n_jobs=-1)\\n\\n    # Using Mean Absolute Error as the scoring metric\\n    mae_scores = cross_val_score(\\n        model, X, y, cv=5, scoring=\\\"neg_mean_absolute_error\\\", n_jobs=-1\\n    )\\n\\n    # Convert the MAE scores back to positive\\n    mae_scores = -1 * mae_scores\\n\\n    avg_r2_score = np.mean(r2_scores)\\n    avg_MAE_score = np.mean(mae_scores)\\n\\n    # Print the scores\\n\\n    print(\\\"-\\\" * 50)\\n    print(\\\"5-fold Cross Validation Scoring\\\")\\n    print(\\\"Average R^2 score:\\\", avg_r2_score)\\n    print(\\\"Average MAE score:\\\", avg_MAE_score)\\n    print(\\\"-\\\" * 50)\";\n",
       "                var nbb_formatted_code = \"# Creating a scoring function\\n\\n\\ndef r2mae_scores(model, X, y):\\n    # Using R^2 as the scoring metric\\n    r2_scores = cross_val_score(model, X, y, cv=5, scoring=\\\"r2\\\", n_jobs=-1)\\n\\n    # Using Mean Absolute Error as the scoring metric\\n    mae_scores = cross_val_score(\\n        model, X, y, cv=5, scoring=\\\"neg_mean_absolute_error\\\", n_jobs=-1\\n    )\\n\\n    # Convert the MAE scores back to positive\\n    mae_scores = -1 * mae_scores\\n\\n    avg_r2_score = np.mean(r2_scores)\\n    avg_MAE_score = np.mean(mae_scores)\\n\\n    # Print the scores\\n\\n    print(\\\"-\\\" * 50)\\n    print(\\\"5-fold Cross Validation Scoring\\\")\\n    print(\\\"Average R^2 score:\\\", avg_r2_score)\\n    print(\\\"Average MAE score:\\\", avg_MAE_score)\\n    print(\\\"-\\\" * 50)\";\n",
       "                var nbb_cells = Jupyter.notebook.get_cells();\n",
       "                for (var i = 0; i < nbb_cells.length; ++i) {\n",
       "                    if (nbb_cells[i].input_prompt_number == nbb_cell_id) {\n",
       "                        if (nbb_cells[i].get_text() == nbb_unformatted_code) {\n",
       "                             nbb_cells[i].set_text(nbb_formatted_code);\n",
       "                        }\n",
       "                        break;\n",
       "                    }\n",
       "                }\n",
       "            }, 500);\n",
       "            "
      ],
      "text/plain": [
       "<IPython.core.display.Javascript object>"
      ]
     },
     "metadata": {},
     "output_type": "display_data"
    }
   ],
   "source": [
    "# Creating a scoring function\n",
    "\n",
    "\n",
    "def r2mae_scores(model, X, y):\n",
    "    # Using R^2 as the scoring metric\n",
    "    r2_scores = cross_val_score(model, X, y, cv=5, scoring=\"r2\", n_jobs=-1)\n",
    "\n",
    "    # Using Mean Absolute Error as the scoring metric\n",
    "    mae_scores = cross_val_score(\n",
    "        model, X, y, cv=5, scoring=\"neg_mean_absolute_error\", n_jobs=-1\n",
    "    )\n",
    "\n",
    "    # Convert the MAE scores back to positive\n",
    "    mae_scores = -1 * mae_scores\n",
    "\n",
    "    avg_r2_score = np.mean(r2_scores)\n",
    "    avg_MAE_score = np.mean(mae_scores)\n",
    "\n",
    "    # Print the scores\n",
    "\n",
    "    print(\"-\" * 50)\n",
    "    print(\"5-fold Cross Validation Scoring\")\n",
    "    print(\"Average R^2 score:\", avg_r2_score)\n",
    "    print(\"Average MAE score:\", avg_MAE_score)\n",
    "    print(\"-\" * 50)"
   ]
  },
  {
   "cell_type": "markdown",
   "id": "f3ddf0e5",
   "metadata": {},
   "source": [
    "Note that we pass the negative of the MAE scores because scikit-learn's cross_val_score() function expects a scoring function that returns higher values for better performance, but MAE returns lower values for better performance. We then convert the negative scores back to positive by multiplying them with -1 and print the array of scores and the average score using the np.mean() function."
   ]
  },
  {
   "cell_type": "markdown",
   "id": "c16af0bc",
   "metadata": {},
   "source": [
    "## Gradient Boosting Regression Model"
   ]
  },
  {
   "cell_type": "markdown",
   "id": "d36ec662",
   "metadata": {},
   "source": [
    "#### All Features Model"
   ]
  },
  {
   "cell_type": "code",
   "execution_count": 16,
   "id": "a789b82e",
   "metadata": {},
   "outputs": [
    {
     "name": "stdout",
     "output_type": "stream",
     "text": [
      "--------------------------------------------------\n",
      "5-fold Cross Validation Scoring\n",
      "Average R^2 score: 0.8524226943530273\n",
      "Average MAE score: 16731.042697295004\n",
      "--------------------------------------------------\n"
     ]
    },
    {
     "data": {
      "application/javascript": [
       "\n",
       "            setTimeout(function() {\n",
       "                var nbb_cell_id = 16;\n",
       "                var nbb_unformatted_code = \"# Define Model\\ninitial_model0 = GradientBoostingRegressor()\\n\\n# Fit Model\\ninitial_model0.fit(X0_train, y0_train)\\n\\n# Evaluate\\nr2mae_scores(initial_model0, X0_test, y0_test)\";\n",
       "                var nbb_formatted_code = \"# Define Model\\ninitial_model0 = GradientBoostingRegressor()\\n\\n# Fit Model\\ninitial_model0.fit(X0_train, y0_train)\\n\\n# Evaluate\\nr2mae_scores(initial_model0, X0_test, y0_test)\";\n",
       "                var nbb_cells = Jupyter.notebook.get_cells();\n",
       "                for (var i = 0; i < nbb_cells.length; ++i) {\n",
       "                    if (nbb_cells[i].input_prompt_number == nbb_cell_id) {\n",
       "                        if (nbb_cells[i].get_text() == nbb_unformatted_code) {\n",
       "                             nbb_cells[i].set_text(nbb_formatted_code);\n",
       "                        }\n",
       "                        break;\n",
       "                    }\n",
       "                }\n",
       "            }, 500);\n",
       "            "
      ],
      "text/plain": [
       "<IPython.core.display.Javascript object>"
      ]
     },
     "metadata": {},
     "output_type": "display_data"
    }
   ],
   "source": [
    "# Define Model\n",
    "initial_model0 = GradientBoostingRegressor()\n",
    "\n",
    "# Fit Model\n",
    "initial_model0.fit(X0_train, y0_train)\n",
    "\n",
    "# Evaluate\n",
    "r2mae_scores(initial_model0, X0_test, y0_test)"
   ]
  },
  {
   "cell_type": "markdown",
   "id": "3949b769",
   "metadata": {},
   "source": [
    "#### Colinear Features Removed (13) Model"
   ]
  },
  {
   "cell_type": "code",
   "execution_count": 17,
   "id": "6daf9c71",
   "metadata": {},
   "outputs": [
    {
     "name": "stdout",
     "output_type": "stream",
     "text": [
      "--------------------------------------------------\n",
      "5-fold Cross Validation Scoring\n",
      "Average R^2 score: 0.8859615685950564\n",
      "Average MAE score: 15956.00088563298\n",
      "--------------------------------------------------\n"
     ]
    },
    {
     "data": {
      "application/javascript": [
       "\n",
       "            setTimeout(function() {\n",
       "                var nbb_cell_id = 17;\n",
       "                var nbb_unformatted_code = \"# Define Model\\ninitial_model = GradientBoostingRegressor()\\n\\n# Fit Model\\ninitial_model.fit(X_train, y_train)\\n\\n# Evaluate\\nr2mae_scores(initial_model, X_test, y_test)\";\n",
       "                var nbb_formatted_code = \"# Define Model\\ninitial_model = GradientBoostingRegressor()\\n\\n# Fit Model\\ninitial_model.fit(X_train, y_train)\\n\\n# Evaluate\\nr2mae_scores(initial_model, X_test, y_test)\";\n",
       "                var nbb_cells = Jupyter.notebook.get_cells();\n",
       "                for (var i = 0; i < nbb_cells.length; ++i) {\n",
       "                    if (nbb_cells[i].input_prompt_number == nbb_cell_id) {\n",
       "                        if (nbb_cells[i].get_text() == nbb_unformatted_code) {\n",
       "                             nbb_cells[i].set_text(nbb_formatted_code);\n",
       "                        }\n",
       "                        break;\n",
       "                    }\n",
       "                }\n",
       "            }, 500);\n",
       "            "
      ],
      "text/plain": [
       "<IPython.core.display.Javascript object>"
      ]
     },
     "metadata": {},
     "output_type": "display_data"
    }
   ],
   "source": [
    "# Define Model\n",
    "initial_model = GradientBoostingRegressor()\n",
    "\n",
    "# Fit Model\n",
    "initial_model.fit(X_train, y_train)\n",
    "\n",
    "# Evaluate\n",
    "r2mae_scores(initial_model, X_test, y_test)"
   ]
  },
  {
   "cell_type": "markdown",
   "id": "6bf742ea",
   "metadata": {},
   "source": [
    "## Feature Selection: Optimizing # of Features"
   ]
  },
  {
   "cell_type": "code",
   "execution_count": 18,
   "id": "811827d1",
   "metadata": {},
   "outputs": [
    {
     "data": {
      "application/javascript": [
       "\n",
       "            setTimeout(function() {\n",
       "                var nbb_cell_id = 18;\n",
       "                var nbb_unformatted_code = \"# Take inital Model and sort by feature importance\\ninit_feat_sorted = sorted(\\n    zip(X_train.columns, initial_model.feature_importances_),\\n    key=lambda t: t[1],\\n    reverse=True,\\n)\\n\\n# Loop through sorted features to get the Column names\\nmy_cols = []\\nfor col in init_feat_sorted:\\n    my_cols.append(col[0])\\n\\n# Iterate through total # of features and collect scores\\nfeature_loop_model = GradientBoostingRegressor()\\nmy_scores = []\\nfor i in range(0, len(my_cols)):\\n    feature_loop_model.fit(X_train.iloc[:, 0 : i + 1], y_train)\\n    score = cross_val_score(\\n        feature_loop_model,\\n        X_test.iloc[:, 0 : i + 1],\\n        y_test,\\n        cv=5,\\n        scoring=\\\"r2\\\",\\n        n_jobs=-1,\\n    )\\n    my_scores.append((i, np.mean(score)))\";\n",
       "                var nbb_formatted_code = \"# Take inital Model and sort by feature importance\\ninit_feat_sorted = sorted(\\n    zip(X_train.columns, initial_model.feature_importances_),\\n    key=lambda t: t[1],\\n    reverse=True,\\n)\\n\\n# Loop through sorted features to get the Column names\\nmy_cols = []\\nfor col in init_feat_sorted:\\n    my_cols.append(col[0])\\n\\n# Iterate through total # of features and collect scores\\nfeature_loop_model = GradientBoostingRegressor()\\nmy_scores = []\\nfor i in range(0, len(my_cols)):\\n    feature_loop_model.fit(X_train.iloc[:, 0 : i + 1], y_train)\\n    score = cross_val_score(\\n        feature_loop_model,\\n        X_test.iloc[:, 0 : i + 1],\\n        y_test,\\n        cv=5,\\n        scoring=\\\"r2\\\",\\n        n_jobs=-1,\\n    )\\n    my_scores.append((i, np.mean(score)))\";\n",
       "                var nbb_cells = Jupyter.notebook.get_cells();\n",
       "                for (var i = 0; i < nbb_cells.length; ++i) {\n",
       "                    if (nbb_cells[i].input_prompt_number == nbb_cell_id) {\n",
       "                        if (nbb_cells[i].get_text() == nbb_unformatted_code) {\n",
       "                             nbb_cells[i].set_text(nbb_formatted_code);\n",
       "                        }\n",
       "                        break;\n",
       "                    }\n",
       "                }\n",
       "            }, 500);\n",
       "            "
      ],
      "text/plain": [
       "<IPython.core.display.Javascript object>"
      ]
     },
     "metadata": {},
     "output_type": "display_data"
    }
   ],
   "source": [
    "# Take inital Model and sort by feature importance\n",
    "init_feat_sorted = sorted(\n",
    "    zip(X_train.columns, initial_model.feature_importances_),\n",
    "    key=lambda t: t[1],\n",
    "    reverse=True,\n",
    ")\n",
    "\n",
    "# Loop through sorted features to get the Column names\n",
    "my_cols = []\n",
    "for col in init_feat_sorted:\n",
    "    my_cols.append(col[0])\n",
    "\n",
    "# Iterate through total # of features and collect scores\n",
    "feature_loop_model = GradientBoostingRegressor()\n",
    "my_scores = []\n",
    "for i in range(0, len(my_cols)):\n",
    "    feature_loop_model.fit(X_train.iloc[:, 0 : i + 1], y_train)\n",
    "    score = cross_val_score(\n",
    "        feature_loop_model,\n",
    "        X_test.iloc[:, 0 : i + 1],\n",
    "        y_test,\n",
    "        cv=5,\n",
    "        scoring=\"r2\",\n",
    "        n_jobs=-1,\n",
    "    )\n",
    "    my_scores.append((i, np.mean(score)))"
   ]
  },
  {
   "cell_type": "code",
   "execution_count": 19,
   "id": "3ec65233",
   "metadata": {},
   "outputs": [
    {
     "data": {
      "image/png": "[encoded data removed]",
      "text/plain": [
       "<Figure size 432x288 with 1 Axes>"
      ]
     },
     "metadata": {
      "needs_background": "light"
     },
     "output_type": "display_data"
    },
    {
     "data": {
      "application/javascript": [
       "\n",
       "            setTimeout(function() {\n",
       "                var nbb_cell_id = 19;\n",
       "                var nbb_unformatted_code = \"# Plot Scores\\nx_values = [t[0] for t in my_scores]\\ny_values = [t[1] for t in my_scores]\\n\\nplt.plot(x_values, y_values)\\nplt.axvline(x=35, color=\\\"red\\\", linestyle=\\\"--\\\", alpha=0.4)\\n\\nplt.xlabel(\\\"# of Features\\\")\\nplt.ylabel(\\\"R^2 Performance\\\")\\nplt.title(\\\"Feature Selection\\\")\\n\\nplt.show()\";\n",
       "                var nbb_formatted_code = \"# Plot Scores\\nx_values = [t[0] for t in my_scores]\\ny_values = [t[1] for t in my_scores]\\n\\nplt.plot(x_values, y_values)\\nplt.axvline(x=35, color=\\\"red\\\", linestyle=\\\"--\\\", alpha=0.4)\\n\\nplt.xlabel(\\\"# of Features\\\")\\nplt.ylabel(\\\"R^2 Performance\\\")\\nplt.title(\\\"Feature Selection\\\")\\n\\nplt.show()\";\n",
       "                var nbb_cells = Jupyter.notebook.get_cells();\n",
       "                for (var i = 0; i < nbb_cells.length; ++i) {\n",
       "                    if (nbb_cells[i].input_prompt_number == nbb_cell_id) {\n",
       "                        if (nbb_cells[i].get_text() == nbb_unformatted_code) {\n",
       "                             nbb_cells[i].set_text(nbb_formatted_code);\n",
       "                        }\n",
       "                        break;\n",
       "                    }\n",
       "                }\n",
       "            }, 500);\n",
       "            "
      ],
      "text/plain": [
       "<IPython.core.display.Javascript object>"
      ]
     },
     "metadata": {},
     "output_type": "display_data"
    }
   ],
   "source": [
    "# Plot Scores\n",
    "x_values = [t[0] for t in my_scores]\n",
    "y_values = [t[1] for t in my_scores]\n",
    "\n",
    "plt.plot(x_values, y_values)\n",
    "plt.axvline(x=35, color=\"red\", linestyle=\"--\", alpha=0.4)\n",
    "\n",
    "plt.xlabel(\"# of Features\")\n",
    "plt.ylabel(\"R^2 Performance\")\n",
    "plt.title(\"Feature Selection\")\n",
    "\n",
    "plt.show()"
   ]
  },
  {
   "cell_type": "code",
   "execution_count": 20,
   "id": "e1d7debe",
   "metadata": {
    "scrolled": true
   },
   "outputs": [
    {
     "data": {
      "text/plain": [
       "[('TotalSF', 0.3830293852065629),\n",
       " ('OverallQual', 0.37595088485346395),\n",
       " ('Age', 0.037136515290868206),\n",
       " ('TotalBath', 0.03159835510375509),\n",
       " ('KitchenQual', 0.029668770640537728),\n",
       " ('GarageArea', 0.02131657972811818),\n",
       " ('BsmtFinSF1', 0.01616882954627302),\n",
       " ('LotArea', 0.014599288462520357),\n",
       " ('Fireplaces', 0.013859708680878026),\n",
       " ('OverallCond', 0.011414416185460378),\n",
       " ('RemodAge', 0.011098701655443391),\n",
       " ('2ndFlrSF', 0.01055610897900227),\n",
       " ('MasVnrArea', 0.007498249653130934),\n",
       " ('BsmtQual', 0.00460066628999304),\n",
       " ('CentralAir_encoded', 0.00361167034687986),\n",
       " ('Neighborhood_st_encoded', 0.0033468768670845165),\n",
       " ('GarageType_encoded', 0.003082604027924254),\n",
       " ('TotRmsAbvGrd', 0.002677117801882112),\n",
       " ('MSZoning_encoded', 0.0021234015904444837),\n",
       " ('SaleCondition_encoded', 0.0016271110872707454),\n",
       " ('BsmtExposure', 0.0016174092466089227),\n",
       " ('BsmtUnfSF', 0.0015269676014981865),\n",
       " ('WoodDeckSF', 0.0012868084143502578),\n",
       " ('HeatingQC', 0.0011966441175787683),\n",
       " ('Neighborhood_encoded', 0.001180535877327524),\n",
       " ('ScreenPorch', 0.0010567115994255527),\n",
       " ('MSSubClass_cat_encoded', 0.0009482886306506723),\n",
       " ('Functional_encoded', 0.0007842612070053647),\n",
       " ('HalfBath', 0.0007723201942161181),\n",
       " ('Condition1_encoded', 0.0007707960739573543),\n",
       " ('TotalPorchSF', 0.0007338011309983247),\n",
       " ('PavedDrive_encoded', 0.0004040409762212201),\n",
       " ('LandContour_encoded', 0.00037903347962154065),\n",
       " ('GarageQual', 0.00034362641160724924),\n",
       " ('MoSold', 0.0002898517281492339),\n",
       " ('SaleType_encoded', 0.0002650004824134425),\n",
       " ('LotFrontage', 0.0002460368984469923),\n",
       " ('RoofMatl_encoded', 0.00019503136382929189),\n",
       " ('EnclosedPorch', 0.00017313630014305104),\n",
       " ('LotShape_encoded', 0.00014944015340165477),\n",
       " ('LotConfig_encoded', 0.0001249789289316298),\n",
       " ('GarageFinish', 8.290144700887741e-05),\n",
       " ('OpenPorchSF', 7.971733624783628e-05),\n",
       " ('BsmtFinSF2', 6.4043200682445e-05),\n",
       " ('BedroomAbvGr', 5.283703571609026e-05),\n",
       " ('BsmtCond', 5.0469065526599786e-05),\n",
       " ('Exterior2nd_encoded', 4.9727085732873254e-05),\n",
       " ('Exterior1st_encoded', 4.883163050269009e-05),\n",
       " ('RoofStyle_encoded', 4.044249927458601e-05),\n",
       " ('BsmtFullBath', 3.508477383228155e-05),\n",
       " ('Heating_encoded', 3.494772025018155e-05),\n",
       " ('Remodeled', 2.9250459017754348e-05),\n",
       " ('HouseStyle_encoded', 1.4705737884327347e-05),\n",
       " ('Fence', 5.457286728998405e-06),\n",
       " ('YrSold', 1.085738804124617e-06),\n",
       " ('ExterCond', 5.361340350764189e-07),\n",
       " ('MasVnrType_encoded', 1.92705353748298e-11),\n",
       " ('MSSubClass', 1.5609116991524658e-11),\n",
       " ('BsmtHalfBath', 0.0),\n",
       " ('KitchenAbvGr', 0.0),\n",
       " ('Street_encoded', 0.0),\n",
       " ('Alley_encoded', 0.0),\n",
       " ('Utilities_encoded', 0.0),\n",
       " ('LandSlope_encoded', 0.0),\n",
       " ('Condition2_encoded', 0.0),\n",
       " ('BldgType_encoded', 0.0),\n",
       " ('Foundation_encoded', 0.0),\n",
       " ('Electrical_encoded', 0.0),\n",
       " ('Street_type_encoded', 0.0)]"
      ]
     },
     "execution_count": 20,
     "metadata": {},
     "output_type": "execute_result"
    },
    {
     "data": {
      "application/javascript": [
       "\n",
       "            setTimeout(function() {\n",
       "                var nbb_cell_id = 20;\n",
       "                var nbb_unformatted_code = \"sorted_importance = sorted(\\n    zip(X_train.columns, initial_model.feature_importances_),\\n    key=lambda t: t[1],\\n    reverse=True,\\n)\\nsorted_importance\";\n",
       "                var nbb_formatted_code = \"sorted_importance = sorted(\\n    zip(X_train.columns, initial_model.feature_importances_),\\n    key=lambda t: t[1],\\n    reverse=True,\\n)\\nsorted_importance\";\n",
       "                var nbb_cells = Jupyter.notebook.get_cells();\n",
       "                for (var i = 0; i < nbb_cells.length; ++i) {\n",
       "                    if (nbb_cells[i].input_prompt_number == nbb_cell_id) {\n",
       "                        if (nbb_cells[i].get_text() == nbb_unformatted_code) {\n",
       "                             nbb_cells[i].set_text(nbb_formatted_code);\n",
       "                        }\n",
       "                        break;\n",
       "                    }\n",
       "                }\n",
       "            }, 500);\n",
       "            "
      ],
      "text/plain": [
       "<IPython.core.display.Javascript object>"
      ]
     },
     "metadata": {},
     "output_type": "display_data"
    }
   ],
   "source": [
    "sorted_importance = sorted(\n",
    "    zip(X_train.columns, initial_model.feature_importances_),\n",
    "    key=lambda t: t[1],\n",
    "    reverse=True,\n",
    ")\n",
    "sorted_importance"
   ]
  },
  {
   "cell_type": "code",
   "execution_count": 21,
   "id": "76555683",
   "metadata": {
    "scrolled": false
   },
   "outputs": [
    {
     "data": {
      "text/plain": [
       "<Figure size 1440x720 with 0 Axes>"
      ]
     },
     "metadata": {},
     "output_type": "display_data"
    },
    {
     "data": {
      "image/png": "[encoded data removed]",
      "text/plain": [
       "<Figure size 432x288 with 1 Axes>"
      ]
     },
     "metadata": {
      "needs_background": "light"
     },
     "output_type": "display_data"
    },
    {
     "data": {
      "application/javascript": [
       "\n",
       "            setTimeout(function() {\n",
       "                var nbb_cell_id = 21;\n",
       "                var nbb_unformatted_code = \"# Get data for the plot (35 Features based on above graph)\\na, b = zip(*sorted_importance[:35])\\ndf = pd.DataFrame({\\\"feature_name\\\": a, \\\"importance_score\\\": b})\\n\\n# Plot\\nplt.figure(figsize=(20, 10))\\ndf.plot.bar(x=\\\"feature_name\\\", y=\\\"importance_score\\\", legend=None)\\nplt.title(\\\"Feature Importance\\\")\\nplt.show()\";\n",
       "                var nbb_formatted_code = \"# Get data for the plot (35 Features based on above graph)\\na, b = zip(*sorted_importance[:35])\\ndf = pd.DataFrame({\\\"feature_name\\\": a, \\\"importance_score\\\": b})\\n\\n# Plot\\nplt.figure(figsize=(20, 10))\\ndf.plot.bar(x=\\\"feature_name\\\", y=\\\"importance_score\\\", legend=None)\\nplt.title(\\\"Feature Importance\\\")\\nplt.show()\";\n",
       "                var nbb_cells = Jupyter.notebook.get_cells();\n",
       "                for (var i = 0; i < nbb_cells.length; ++i) {\n",
       "                    if (nbb_cells[i].input_prompt_number == nbb_cell_id) {\n",
       "                        if (nbb_cells[i].get_text() == nbb_unformatted_code) {\n",
       "                             nbb_cells[i].set_text(nbb_formatted_code);\n",
       "                        }\n",
       "                        break;\n",
       "                    }\n",
       "                }\n",
       "            }, 500);\n",
       "            "
      ],
      "text/plain": [
       "<IPython.core.display.Javascript object>"
      ]
     },
     "metadata": {},
     "output_type": "display_data"
    }
   ],
   "source": [
    "# Get data for the plot (35 Features based on above graph)\n",
    "a, b = zip(*sorted_importance[:35])\n",
    "df = pd.DataFrame({\"feature_name\": a, \"importance_score\": b})\n",
    "\n",
    "# Plot\n",
    "plt.figure(figsize=(20, 10))\n",
    "df.plot.bar(x=\"feature_name\", y=\"importance_score\", legend=None)\n",
    "plt.title(\"Feature Importance\")\n",
    "plt.show()"
   ]
  },
  {
   "cell_type": "code",
   "execution_count": 22,
   "id": "97293ff0",
   "metadata": {},
   "outputs": [
    {
     "data": {
      "text/plain": [
       "GradientBoostingRegressor()"
      ]
     },
     "execution_count": 22,
     "metadata": {},
     "output_type": "execute_result"
    },
    {
     "data": {
      "application/javascript": [
       "\n",
       "            setTimeout(function() {\n",
       "                var nbb_cell_id = 22;\n",
       "                var nbb_unformatted_code = \"## select top 35 features\\nX2_train = X_train[my_cols].iloc[:, :36]  # top 35 feat importances\\ny2_train = y_train.copy()\\nX2_test = X_test[my_cols].iloc[:, :36]\\ny2_test = y_test.copy()\\n\\nfeat_select_model = GradientBoostingRegressor()\\nfeat_select_model.fit(X2_train, y2_train)\";\n",
       "                var nbb_formatted_code = \"## select top 35 features\\nX2_train = X_train[my_cols].iloc[:, :36]  # top 35 feat importances\\ny2_train = y_train.copy()\\nX2_test = X_test[my_cols].iloc[:, :36]\\ny2_test = y_test.copy()\\n\\nfeat_select_model = GradientBoostingRegressor()\\nfeat_select_model.fit(X2_train, y2_train)\";\n",
       "                var nbb_cells = Jupyter.notebook.get_cells();\n",
       "                for (var i = 0; i < nbb_cells.length; ++i) {\n",
       "                    if (nbb_cells[i].input_prompt_number == nbb_cell_id) {\n",
       "                        if (nbb_cells[i].get_text() == nbb_unformatted_code) {\n",
       "                             nbb_cells[i].set_text(nbb_formatted_code);\n",
       "                        }\n",
       "                        break;\n",
       "                    }\n",
       "                }\n",
       "            }, 500);\n",
       "            "
      ],
      "text/plain": [
       "<IPython.core.display.Javascript object>"
      ]
     },
     "metadata": {},
     "output_type": "display_data"
    }
   ],
   "source": [
    "## select top 35 features\n",
    "X2_train = X_train[my_cols].iloc[:, :36]  # top 35 feat importances\n",
    "y2_train = y_train.copy()\n",
    "X2_test = X_test[my_cols].iloc[:, :36]\n",
    "y2_test = y_test.copy()\n",
    "\n",
    "feat_select_model = GradientBoostingRegressor()\n",
    "feat_select_model.fit(X2_train, y2_train)"
   ]
  },
  {
   "cell_type": "code",
   "execution_count": 23,
   "id": "69200c66",
   "metadata": {},
   "outputs": [
    {
     "name": "stdout",
     "output_type": "stream",
     "text": [
      "feat_select_model\n",
      "--------------------------------------------------\n",
      "5-fold Cross Validation Scoring\n",
      "Average R^2 score: 0.8805084735314839\n",
      "Average MAE score: 15924.740288596367\n",
      "--------------------------------------------------\n",
      "\n",
      "\n",
      "initial_model\n",
      "--------------------------------------------------\n",
      "5-fold Cross Validation Scoring\n",
      "Average R^2 score: 0.8875040245560941\n",
      "Average MAE score: 15924.386691582471\n",
      "--------------------------------------------------\n"
     ]
    },
    {
     "data": {
      "application/javascript": [
       "\n",
       "            setTimeout(function() {\n",
       "                var nbb_cell_id = 23;\n",
       "                var nbb_unformatted_code = \"# Compare to initial model\\nprint(\\\"feat_select_model\\\")\\nr2mae_scores(feat_select_model, X2_test, y2_test)\\nprint(\\\"\\\\n\\\\ninitial_model\\\")\\nr2mae_scores(initial_model, X_test, y_test)\";\n",
       "                var nbb_formatted_code = \"# Compare to initial model\\nprint(\\\"feat_select_model\\\")\\nr2mae_scores(feat_select_model, X2_test, y2_test)\\nprint(\\\"\\\\n\\\\ninitial_model\\\")\\nr2mae_scores(initial_model, X_test, y_test)\";\n",
       "                var nbb_cells = Jupyter.notebook.get_cells();\n",
       "                for (var i = 0; i < nbb_cells.length; ++i) {\n",
       "                    if (nbb_cells[i].input_prompt_number == nbb_cell_id) {\n",
       "                        if (nbb_cells[i].get_text() == nbb_unformatted_code) {\n",
       "                             nbb_cells[i].set_text(nbb_formatted_code);\n",
       "                        }\n",
       "                        break;\n",
       "                    }\n",
       "                }\n",
       "            }, 500);\n",
       "            "
      ],
      "text/plain": [
       "<IPython.core.display.Javascript object>"
      ]
     },
     "metadata": {},
     "output_type": "display_data"
    }
   ],
   "source": [
    "# Compare to initial model\n",
    "print(\"feat_select_model\")\n",
    "r2mae_scores(feat_select_model, X2_test, y2_test)\n",
    "print(\"\\n\\ninitial_model\")\n",
    "r2mae_scores(initial_model, X_test, y_test)"
   ]
  },
  {
   "cell_type": "markdown",
   "id": "76c03ca3",
   "metadata": {},
   "source": [
    "initial_model: 88.46%\n",
    "feat_select_model: 88.30%\n",
    "Feature selection actually decreased model performance by 0.1%"
   ]
  },
  {
   "cell_type": "markdown",
   "id": "bb222c97",
   "metadata": {},
   "source": [
    "## Tuning the Hyper Parameters"
   ]
  },
  {
   "cell_type": "code",
   "execution_count": 24,
   "id": "06e2c53b",
   "metadata": {},
   "outputs": [
    {
     "name": "stdout",
     "output_type": "stream",
     "text": [
      "Fitting 5 folds for each of 27 candidates, totalling 135 fits\n"
     ]
    },
    {
     "data": {
      "text/plain": [
       "GridSearchCV(cv=5, estimator=GradientBoostingRegressor(random_state=42),\n",
       "             n_jobs=-1,\n",
       "             param_grid={'learning_rate': [0.01, 0.1, 0.5],\n",
       "                         'max_depth': [3, 5, 7],\n",
       "                         'n_estimators': [100, 500, 1000]},\n",
       "             scoring='neg_mean_absolute_error', verbose=1)"
      ]
     },
     "execution_count": 24,
     "metadata": {},
     "output_type": "execute_result"
    },
    {
     "data": {
      "application/javascript": [
       "\n",
       "            setTimeout(function() {\n",
       "                var nbb_cell_id = 24;\n",
       "                var nbb_unformatted_code = \"## GridSearchCV - Creates Tuned Model\\n\\nparam_grid = {\\n    \\\"n_estimators\\\": [100, 500, 1000],\\n    \\\"max_depth\\\": [3, 5, 7],\\n    \\\"learning_rate\\\": [0.01, 0.1, 0.5],\\n}\\n\\ntuned_model_GSV = GridSearchCV(\\n    GradientBoostingRegressor(random_state=42),\\n    param_grid,\\n    cv=5,\\n    scoring=\\\"neg_mean_absolute_error\\\",\\n    n_jobs=-1,  # use all available CPU cores\\n    verbose=1,\\n)\\ntuned_model_GSV.fit(X_train, y_train)\";\n",
       "                var nbb_formatted_code = \"## GridSearchCV - Creates Tuned Model\\n\\nparam_grid = {\\n    \\\"n_estimators\\\": [100, 500, 1000],\\n    \\\"max_depth\\\": [3, 5, 7],\\n    \\\"learning_rate\\\": [0.01, 0.1, 0.5],\\n}\\n\\ntuned_model_GSV = GridSearchCV(\\n    GradientBoostingRegressor(random_state=42),\\n    param_grid,\\n    cv=5,\\n    scoring=\\\"neg_mean_absolute_error\\\",\\n    n_jobs=-1,  # use all available CPU cores\\n    verbose=1,\\n)\\ntuned_model_GSV.fit(X_train, y_train)\";\n",
       "                var nbb_cells = Jupyter.notebook.get_cells();\n",
       "                for (var i = 0; i < nbb_cells.length; ++i) {\n",
       "                    if (nbb_cells[i].input_prompt_number == nbb_cell_id) {\n",
       "                        if (nbb_cells[i].get_text() == nbb_unformatted_code) {\n",
       "                             nbb_cells[i].set_text(nbb_formatted_code);\n",
       "                        }\n",
       "                        break;\n",
       "                    }\n",
       "                }\n",
       "            }, 500);\n",
       "            "
      ],
      "text/plain": [
       "<IPython.core.display.Javascript object>"
      ]
     },
     "metadata": {},
     "output_type": "display_data"
    }
   ],
   "source": [
    "## GridSearchCV - Creates Tuned Model\n",
    "\n",
    "param_grid = {\n",
    "    \"n_estimators\": [100, 500, 1000],\n",
    "    \"max_depth\": [3, 5, 7],\n",
    "    \"learning_rate\": [0.01, 0.1, 0.5],\n",
    "}\n",
    "\n",
    "tuned_model_GSV = GridSearchCV(\n",
    "    GradientBoostingRegressor(random_state=42),\n",
    "    param_grid,\n",
    "    cv=5,\n",
    "    scoring=\"neg_mean_absolute_error\",\n",
    "    n_jobs=-1,  # use all available CPU cores\n",
    "    verbose=1,\n",
    ")\n",
    "tuned_model_GSV.fit(X_train, y_train)"
   ]
  },
  {
   "cell_type": "code",
   "execution_count": 25,
   "id": "7c648bff",
   "metadata": {
    "scrolled": true
   },
   "outputs": [
    {
     "name": "stdout",
     "output_type": "stream",
     "text": [
      "Best hyperparameters:  {'learning_rate': 0.1, 'max_depth': 3, 'n_estimators': 500}\n"
     ]
    },
    {
     "data": {
      "application/javascript": [
       "\n",
       "            setTimeout(function() {\n",
       "                var nbb_cell_id = 25;\n",
       "                var nbb_unformatted_code = \"print(\\\"Best hyperparameters: \\\", tuned_model_GSV.best_params_)\";\n",
       "                var nbb_formatted_code = \"print(\\\"Best hyperparameters: \\\", tuned_model_GSV.best_params_)\";\n",
       "                var nbb_cells = Jupyter.notebook.get_cells();\n",
       "                for (var i = 0; i < nbb_cells.length; ++i) {\n",
       "                    if (nbb_cells[i].input_prompt_number == nbb_cell_id) {\n",
       "                        if (nbb_cells[i].get_text() == nbb_unformatted_code) {\n",
       "                             nbb_cells[i].set_text(nbb_formatted_code);\n",
       "                        }\n",
       "                        break;\n",
       "                    }\n",
       "                }\n",
       "            }, 500);\n",
       "            "
      ],
      "text/plain": [
       "<IPython.core.display.Javascript object>"
      ]
     },
     "metadata": {},
     "output_type": "display_data"
    }
   ],
   "source": [
    "print(\"Best hyperparameters: \", tuned_model_GSV.best_params_)"
   ]
  },
  {
   "cell_type": "code",
   "execution_count": 26,
   "id": "a4cf458c",
   "metadata": {},
   "outputs": [
    {
     "data": {
      "text/plain": [
       "{'mean_fit_time': array([ 0.52450852,  2.5897541 ,  5.25392389,  0.84535298,  4.29819822,\n",
       "         8.58295259,  1.20897589,  6.0792068 , 12.24498878,  0.54174461,\n",
       "         2.64176316,  5.27584729,  0.85461464,  4.34536295,  8.65615721,\n",
       "         1.20801253,  6.06308227, 12.12971663,  0.52149658,  2.61379728,\n",
       "         5.29683414,  0.85263629,  4.33467422,  8.64027848,  1.20518837,\n",
       "         5.79890819,  7.32000446]),\n",
       " 'std_fit_time': array([0.01153543, 0.0138514 , 0.03238305, 0.01739788, 0.04022157,\n",
       "        0.03627279, 0.01263713, 0.04738946, 0.08869108, 0.01660188,\n",
       "        0.04140967, 0.00865101, 0.01974031, 0.03224765, 0.06318025,\n",
       "        0.02905698, 0.053416  , 0.05859106, 0.01145527, 0.01271528,\n",
       "        0.05189231, 0.01168068, 0.0339233 , 0.06680632, 0.00955403,\n",
       "        0.07320252, 1.61761253]),\n",
       " 'mean_score_time': array([0.00191889, 0.00453649, 0.0057385 , 0.00286088, 0.00607343,\n",
       "        0.01182895, 0.00310335, 0.01250615, 0.01680174, 0.00172186,\n",
       "        0.00366316, 0.00582223, 0.00223064, 0.00626364, 0.01090264,\n",
       "        0.00332294, 0.00805535, 0.01531391, 0.00201378, 0.00322933,\n",
       "        0.00516958, 0.00202794, 0.00572314, 0.00921655, 0.0037909 ,\n",
       "        0.00714798, 0.0089005 ]),\n",
       " 'std_score_time': array([1.99015607e-04, 1.06969912e-03, 7.39216026e-05, 1.29668043e-03,\n",
       "        2.56332125e-04, 2.97864203e-03, 7.97971100e-04, 3.85540547e-03,\n",
       "        1.63670029e-03, 2.45962017e-05, 7.98596725e-04, 9.20637929e-04,\n",
       "        1.79621652e-04, 2.69142244e-03, 2.10469296e-03, 1.11662040e-03,\n",
       "        1.99461730e-03, 2.51242278e-03, 7.64654298e-04, 5.78085953e-05,\n",
       "        1.18370097e-04, 6.33340276e-05, 1.40908674e-03, 9.63831456e-04,\n",
       "        1.26718496e-03, 1.92283684e-04, 1.37414420e-03]),\n",
       " 'param_learning_rate': masked_array(data=[0.01, 0.01, 0.01, 0.01, 0.01, 0.01, 0.01, 0.01, 0.01,\n",
       "                    0.1, 0.1, 0.1, 0.1, 0.1, 0.1, 0.1, 0.1, 0.1, 0.5, 0.5,\n",
       "                    0.5, 0.5, 0.5, 0.5, 0.5, 0.5, 0.5],\n",
       "              mask=[False, False, False, False, False, False, False, False,\n",
       "                    False, False, False, False, False, False, False, False,\n",
       "                    False, False, False, False, False, False, False, False,\n",
       "                    False, False, False],\n",
       "        fill_value='?',\n",
       "             dtype=object),\n",
       " 'param_max_depth': masked_array(data=[3, 3, 3, 5, 5, 5, 7, 7, 7, 3, 3, 3, 5, 5, 5, 7, 7, 7,\n",
       "                    3, 3, 3, 5, 5, 5, 7, 7, 7],\n",
       "              mask=[False, False, False, False, False, False, False, False,\n",
       "                    False, False, False, False, False, False, False, False,\n",
       "                    False, False, False, False, False, False, False, False,\n",
       "                    False, False, False],\n",
       "        fill_value='?',\n",
       "             dtype=object),\n",
       " 'param_n_estimators': masked_array(data=[100, 500, 1000, 100, 500, 1000, 100, 500, 1000, 100,\n",
       "                    500, 1000, 100, 500, 1000, 100, 500, 1000, 100, 500,\n",
       "                    1000, 100, 500, 1000, 100, 500, 1000],\n",
       "              mask=[False, False, False, False, False, False, False, False,\n",
       "                    False, False, False, False, False, False, False, False,\n",
       "                    False, False, False, False, False, False, False, False,\n",
       "                    False, False, False],\n",
       "        fill_value='?',\n",
       "             dtype=object),\n",
       " 'params': [{'learning_rate': 0.01, 'max_depth': 3, 'n_estimators': 100},\n",
       "  {'learning_rate': 0.01, 'max_depth': 3, 'n_estimators': 500},\n",
       "  {'learning_rate': 0.01, 'max_depth': 3, 'n_estimators': 1000},\n",
       "  {'learning_rate': 0.01, 'max_depth': 5, 'n_estimators': 100},\n",
       "  {'learning_rate': 0.01, 'max_depth': 5, 'n_estimators': 500},\n",
       "  {'learning_rate': 0.01, 'max_depth': 5, 'n_estimators': 1000},\n",
       "  {'learning_rate': 0.01, 'max_depth': 7, 'n_estimators': 100},\n",
       "  {'learning_rate': 0.01, 'max_depth': 7, 'n_estimators': 500},\n",
       "  {'learning_rate': 0.01, 'max_depth': 7, 'n_estimators': 1000},\n",
       "  {'learning_rate': 0.1, 'max_depth': 3, 'n_estimators': 100},\n",
       "  {'learning_rate': 0.1, 'max_depth': 3, 'n_estimators': 500},\n",
       "  {'learning_rate': 0.1, 'max_depth': 3, 'n_estimators': 1000},\n",
       "  {'learning_rate': 0.1, 'max_depth': 5, 'n_estimators': 100},\n",
       "  {'learning_rate': 0.1, 'max_depth': 5, 'n_estimators': 500},\n",
       "  {'learning_rate': 0.1, 'max_depth': 5, 'n_estimators': 1000},\n",
       "  {'learning_rate': 0.1, 'max_depth': 7, 'n_estimators': 100},\n",
       "  {'learning_rate': 0.1, 'max_depth': 7, 'n_estimators': 500},\n",
       "  {'learning_rate': 0.1, 'max_depth': 7, 'n_estimators': 1000},\n",
       "  {'learning_rate': 0.5, 'max_depth': 3, 'n_estimators': 100},\n",
       "  {'learning_rate': 0.5, 'max_depth': 3, 'n_estimators': 500},\n",
       "  {'learning_rate': 0.5, 'max_depth': 3, 'n_estimators': 1000},\n",
       "  {'learning_rate': 0.5, 'max_depth': 5, 'n_estimators': 100},\n",
       "  {'learning_rate': 0.5, 'max_depth': 5, 'n_estimators': 500},\n",
       "  {'learning_rate': 0.5, 'max_depth': 5, 'n_estimators': 1000},\n",
       "  {'learning_rate': 0.5, 'max_depth': 7, 'n_estimators': 100},\n",
       "  {'learning_rate': 0.5, 'max_depth': 7, 'n_estimators': 500},\n",
       "  {'learning_rate': 0.5, 'max_depth': 7, 'n_estimators': 1000}],\n",
       " 'split0_test_score': array([-29685.11537767, -16398.89270035, -14967.89011988, -27315.97695703,\n",
       "        -15272.92361112, -14711.36625709, -26788.6609148 , -15933.57087672,\n",
       "        -15767.63780064, -14752.51724573, -14086.87116764, -14034.28523911,\n",
       "        -14820.44283039, -14571.34075115, -14564.47040712, -15829.26881731,\n",
       "        -15774.87777234, -15775.47217751, -15599.91884977, -16165.48045351,\n",
       "        -16179.70383264, -16944.17493705, -16948.54799966, -16948.55187542,\n",
       "        -17669.38303061, -17669.72450912, -17669.72450912]),\n",
       " 'split1_test_score': array([-27580.85115677, -14617.49083797, -13639.42468338, -25198.56380686,\n",
       "        -13772.23857706, -13175.08846808, -24527.67158345, -14303.43807609,\n",
       "        -14052.31226135, -13795.22062648, -12912.36959194, -13051.918201  ,\n",
       "        -13768.05999241, -13579.91258462, -13599.81975165, -14516.15981956,\n",
       "        -14479.22831692, -14479.73757302, -15206.64789544, -15292.70627097,\n",
       "        -15290.6617744 , -16749.00599502, -16686.86624883, -16686.87130355,\n",
       "        -17436.32825245, -17437.83501471, -17437.83501472]),\n",
       " 'split2_test_score': array([-27983.0996317 , -14230.14817509, -12836.35291787, -26094.51387225,\n",
       "        -13875.60704066, -13358.8972002 , -25958.24464836, -14655.95645893,\n",
       "        -14452.68555586, -13061.4062908 , -12369.30536203, -12244.72404722,\n",
       "        -13615.31925382, -13603.18059204, -13622.27820139, -14597.71515664,\n",
       "        -14616.45374603, -14617.74200507, -14432.73016897, -14774.23239869,\n",
       "        -14781.59959567, -16435.08231752, -16476.22575743, -16476.23894025,\n",
       "        -16001.15063769, -16001.45194411, -16001.45194412]),\n",
       " 'split3_test_score': array([-25204.36407967, -12009.60225554, -11193.16546603, -23473.92619388,\n",
       "        -11746.36973616, -11220.83463366, -23035.80076353, -12010.8333984 ,\n",
       "        -11838.90170351, -11392.68421727, -11005.11219056, -11206.89181444,\n",
       "        -11346.80759818, -11424.10653025, -11452.99949428, -12359.95422103,\n",
       "        -12407.90143256, -12406.31475036, -14010.3415546 , -14470.23206902,\n",
       "        -14457.85364211, -13830.34190214, -13846.03172101, -13846.03504108,\n",
       "        -14335.7384666 , -14335.14045584, -14335.14045584]),\n",
       " 'split4_test_score': array([-26675.79983359, -13820.50599413, -12859.22913585, -24696.02041091,\n",
       "        -13125.54339062, -12501.51511202, -23892.17289759, -13664.87089891,\n",
       "        -13417.04746203, -12844.40281948, -12577.05407823, -12619.74281384,\n",
       "        -12766.7783149 , -12646.59362959, -12678.45744534, -13823.45595612,\n",
       "        -13809.22638688, -13809.380216  , -14605.0185261 , -14508.98260694,\n",
       "        -14502.61376306, -15446.75941038, -15457.13405973, -15457.13292401,\n",
       "        -16533.69661289, -16535.78827662, -16535.78827661]),\n",
       " 'mean_test_score': array([-27425.84601588, -14215.32799262, -13099.2124646 , -25355.80024819,\n",
       "        -13558.53647112, -12993.54033421, -24840.51016155, -14113.73394181,\n",
       "        -13905.71695668, -13169.24623995, -12590.14247808, -12631.51242312,\n",
       "        -13263.48159794, -13165.02681753, -13183.60505995, -14225.31079413,\n",
       "        -14217.53753095, -14217.72934439, -14770.93139898, -15042.32675983,\n",
       "        -15042.48652157, -15881.07291242, -15882.96115733, -15882.96601686,\n",
       "        -16395.25940005, -16395.98804008, -16395.98804008]),\n",
       " 'std_test_score': array([1478.9460777 , 1410.74589225, 1228.29049665, 1295.33572765,\n",
       "        1145.14251384, 1140.34605149, 1363.7308601 , 1285.72688492,\n",
       "        1288.24976047, 1111.02802244,  990.48356205,  929.9247541 ,\n",
       "        1159.55773848, 1062.20565116, 1050.96409435, 1134.63667846,\n",
       "        1104.03130757, 1104.82514606,  565.23855558,  633.68557288,\n",
       "         641.27597116, 1147.56664871, 1137.02346906, 1137.02518148,\n",
       "        1193.59360213, 1194.1645878 , 1194.1645878 ]),\n",
       " 'rank_test_score': array([27, 12,  4, 26,  9,  3, 25, 11, 10,  6,  1,  2,  8,  5,  7, 15, 13,\n",
       "        14, 16, 17, 18, 19, 20, 21, 22, 23, 24], dtype=int32)}"
      ]
     },
     "execution_count": 26,
     "metadata": {},
     "output_type": "execute_result"
    },
    {
     "data": {
      "application/javascript": [
       "\n",
       "            setTimeout(function() {\n",
       "                var nbb_cell_id = 26;\n",
       "                var nbb_unformatted_code = \"tuned_model_GSV.cv_results_\";\n",
       "                var nbb_formatted_code = \"tuned_model_GSV.cv_results_\";\n",
       "                var nbb_cells = Jupyter.notebook.get_cells();\n",
       "                for (var i = 0; i < nbb_cells.length; ++i) {\n",
       "                    if (nbb_cells[i].input_prompt_number == nbb_cell_id) {\n",
       "                        if (nbb_cells[i].get_text() == nbb_unformatted_code) {\n",
       "                             nbb_cells[i].set_text(nbb_formatted_code);\n",
       "                        }\n",
       "                        break;\n",
       "                    }\n",
       "                }\n",
       "            }, 500);\n",
       "            "
      ],
      "text/plain": [
       "<IPython.core.display.Javascript object>"
      ]
     },
     "metadata": {},
     "output_type": "display_data"
    }
   ],
   "source": [
    "tuned_model_GSV.cv_results_"
   ]
  },
  {
   "cell_type": "code",
   "execution_count": 27,
   "id": "a1c2aa37",
   "metadata": {},
   "outputs": [
    {
     "data": {
      "text/plain": [
       "GradientBoostingRegressor(n_estimators=500)"
      ]
     },
     "execution_count": 27,
     "metadata": {},
     "output_type": "execute_result"
    },
    {
     "data": {
      "application/javascript": [
       "\n",
       "            setTimeout(function() {\n",
       "                var nbb_cell_id = 27;\n",
       "                var nbb_unformatted_code = \"tuned_model = GradientBoostingRegressor(\\n    learning_rate=0.1, max_depth=3, n_estimators=500\\n)\\n\\ntuned_model.fit(X_train, y_train)\";\n",
       "                var nbb_formatted_code = \"tuned_model = GradientBoostingRegressor(\\n    learning_rate=0.1, max_depth=3, n_estimators=500\\n)\\n\\ntuned_model.fit(X_train, y_train)\";\n",
       "                var nbb_cells = Jupyter.notebook.get_cells();\n",
       "                for (var i = 0; i < nbb_cells.length; ++i) {\n",
       "                    if (nbb_cells[i].input_prompt_number == nbb_cell_id) {\n",
       "                        if (nbb_cells[i].get_text() == nbb_unformatted_code) {\n",
       "                             nbb_cells[i].set_text(nbb_formatted_code);\n",
       "                        }\n",
       "                        break;\n",
       "                    }\n",
       "                }\n",
       "            }, 500);\n",
       "            "
      ],
      "text/plain": [
       "<IPython.core.display.Javascript object>"
      ]
     },
     "metadata": {},
     "output_type": "display_data"
    }
   ],
   "source": [
    "tuned_model = GradientBoostingRegressor(\n",
    "    learning_rate=0.1, max_depth=3, n_estimators=500\n",
    ")\n",
    "\n",
    "tuned_model.fit(X_train, y_train)"
   ]
  },
  {
   "cell_type": "markdown",
   "id": "22ddae7b",
   "metadata": {},
   "source": [
    "## Vizualizing Tuned Parameters"
   ]
  },
  {
   "cell_type": "markdown",
   "id": "ba6c1779",
   "metadata": {},
   "source": [
    "#### n_estimators vs. max_depth\n",
    "Each cell of the heatmap represents the mean test score obtained by the model when it was trained. The color of each cell indicates the magnitude of the mean test score, where red represents higher mean test scores and blue represents lower mean test scores. A higher test score is better; so the combination of hyperparameters `max_depth=5` and `n_estimators=1000` is the optimize selection."
   ]
  },
  {
   "cell_type": "code",
   "execution_count": 28,
   "id": "3d9dd776",
   "metadata": {},
   "outputs": [
    {
     "data": {
      "image/png": "[encoded data removed]",
      "text/plain": [
       "<Figure size 432x288 with 2 Axes>"
      ]
     },
     "metadata": {
      "needs_background": "light"
     },
     "output_type": "display_data"
    },
    {
     "data": {
      "application/javascript": [
       "\n",
       "            setTimeout(function() {\n",
       "                var nbb_cell_id = 28;\n",
       "                var nbb_unformatted_code = \"results = pd.DataFrame(tuned_model_GSV.cv_results_)\\ntable = pd.pivot_table(\\n    results,\\n    values=\\\"mean_test_score\\\",\\n    index=\\\"param_max_depth\\\",\\n    columns=\\\"param_n_estimators\\\",\\n)\\nsns.heatmap(\\n    table,\\n    annot=True,\\n    fmt=\\\".4g\\\",\\n    cmap=\\\"coolwarm\\\",\\n    cbar_kws={\\\"format\\\": ticker.ScalarFormatter(useMathText=False)},\\n)\\nplt.xlabel(\\\"n_estimators\\\")\\nplt.ylabel(\\\"max_depth\\\")\\nplt.show()\";\n",
       "                var nbb_formatted_code = \"results = pd.DataFrame(tuned_model_GSV.cv_results_)\\ntable = pd.pivot_table(\\n    results,\\n    values=\\\"mean_test_score\\\",\\n    index=\\\"param_max_depth\\\",\\n    columns=\\\"param_n_estimators\\\",\\n)\\nsns.heatmap(\\n    table,\\n    annot=True,\\n    fmt=\\\".4g\\\",\\n    cmap=\\\"coolwarm\\\",\\n    cbar_kws={\\\"format\\\": ticker.ScalarFormatter(useMathText=False)},\\n)\\nplt.xlabel(\\\"n_estimators\\\")\\nplt.ylabel(\\\"max_depth\\\")\\nplt.show()\";\n",
       "                var nbb_cells = Jupyter.notebook.get_cells();\n",
       "                for (var i = 0; i < nbb_cells.length; ++i) {\n",
       "                    if (nbb_cells[i].input_prompt_number == nbb_cell_id) {\n",
       "                        if (nbb_cells[i].get_text() == nbb_unformatted_code) {\n",
       "                             nbb_cells[i].set_text(nbb_formatted_code);\n",
       "                        }\n",
       "                        break;\n",
       "                    }\n",
       "                }\n",
       "            }, 500);\n",
       "            "
      ],
      "text/plain": [
       "<IPython.core.display.Javascript object>"
      ]
     },
     "metadata": {},
     "output_type": "display_data"
    }
   ],
   "source": [
    "results = pd.DataFrame(tuned_model_GSV.cv_results_)\n",
    "table = pd.pivot_table(\n",
    "    results,\n",
    "    values=\"mean_test_score\",\n",
    "    index=\"param_max_depth\",\n",
    "    columns=\"param_n_estimators\",\n",
    ")\n",
    "sns.heatmap(\n",
    "    table,\n",
    "    annot=True,\n",
    "    fmt=\".4g\",\n",
    "    cmap=\"coolwarm\",\n",
    "    cbar_kws={\"format\": ticker.ScalarFormatter(useMathText=False)},\n",
    ")\n",
    "plt.xlabel(\"n_estimators\")\n",
    "plt.ylabel(\"max_depth\")\n",
    "plt.show()"
   ]
  },
  {
   "cell_type": "markdown",
   "id": "6966dc5f",
   "metadata": {},
   "source": [
    "#### learning_rate vs Mean Test Score\n",
    "This shows that .1 is the best learning rate because it balances effeciency and effectiveness, right in the elbow. "
   ]
  },
  {
   "cell_type": "code",
   "execution_count": 29,
   "id": "cbc0c6c1",
   "metadata": {},
   "outputs": [
    {
     "data": {
      "image/png": "[encoded data removed]",
      "text/plain": [
       "<Figure size 432x288 with 1 Axes>"
      ]
     },
     "metadata": {
      "needs_background": "light"
     },
     "output_type": "display_data"
    },
    {
     "data": {
      "application/javascript": [
       "\n",
       "            setTimeout(function() {\n",
       "                var nbb_cell_id = 29;\n",
       "                var nbb_unformatted_code = \"learning_rates = [0.01, 0.1, 0.5]\\nscores = [\\n    -tuned_model_GSV.cv_results_[\\\"mean_test_score\\\"][i]\\n    for i in range(len(learning_rates))\\n]\\n\\nplt.plot(learning_rates, scores, \\\"-o\\\")\\nplt.xlabel(\\\"learning rate\\\")\\nplt.ylabel(\\\"mean test score\\\")\\nplt.show()\";\n",
       "                var nbb_formatted_code = \"learning_rates = [0.01, 0.1, 0.5]\\nscores = [\\n    -tuned_model_GSV.cv_results_[\\\"mean_test_score\\\"][i]\\n    for i in range(len(learning_rates))\\n]\\n\\nplt.plot(learning_rates, scores, \\\"-o\\\")\\nplt.xlabel(\\\"learning rate\\\")\\nplt.ylabel(\\\"mean test score\\\")\\nplt.show()\";\n",
       "                var nbb_cells = Jupyter.notebook.get_cells();\n",
       "                for (var i = 0; i < nbb_cells.length; ++i) {\n",
       "                    if (nbb_cells[i].input_prompt_number == nbb_cell_id) {\n",
       "                        if (nbb_cells[i].get_text() == nbb_unformatted_code) {\n",
       "                             nbb_cells[i].set_text(nbb_formatted_code);\n",
       "                        }\n",
       "                        break;\n",
       "                    }\n",
       "                }\n",
       "            }, 500);\n",
       "            "
      ],
      "text/plain": [
       "<IPython.core.display.Javascript object>"
      ]
     },
     "metadata": {},
     "output_type": "display_data"
    }
   ],
   "source": [
    "learning_rates = [0.01, 0.1, 0.5]\n",
    "scores = [\n",
    "    -tuned_model_GSV.cv_results_[\"mean_test_score\"][i]\n",
    "    for i in range(len(learning_rates))\n",
    "]\n",
    "\n",
    "plt.plot(learning_rates, scores, \"-o\")\n",
    "plt.xlabel(\"learning rate\")\n",
    "plt.ylabel(\"mean test score\")\n",
    "plt.show()"
   ]
  },
  {
   "cell_type": "markdown",
   "id": "40404f86",
   "metadata": {},
   "source": [
    "## Evaluate the Tuned Model on TEST data"
   ]
  },
  {
   "cell_type": "code",
   "execution_count": 30,
   "id": "8df375e5",
   "metadata": {
    "scrolled": false
   },
   "outputs": [
    {
     "name": "stdout",
     "output_type": "stream",
     "text": [
      "initial_model\n",
      "--------------------------------------------------\n",
      "5-fold Cross Validation Scoring\n",
      "Average R^2 score: 0.8853590258032733\n",
      "Average MAE score: 15892.535622928763\n",
      "--------------------------------------------------\n",
      "\n",
      "\n",
      " feat_select_model\n",
      "--------------------------------------------------\n",
      "5-fold Cross Validation Scoring\n",
      "Average R^2 score: 0.8784116653975227\n",
      "Average MAE score: 15954.526193769818\n",
      "--------------------------------------------------\n",
      "\n",
      "\n",
      "tuned_model\n",
      "--------------------------------------------------\n",
      "5-fold Cross Validation Scoring\n",
      "Average R^2 score: 0.8916319573710606\n",
      "Average MAE score: 15504.217777823384\n",
      "--------------------------------------------------\n",
      "\n",
      "\n",
      "tuned_model with feat select\n",
      "--------------------------------------------------\n",
      "5-fold Cross Validation Scoring\n",
      "Average R^2 score: 0.8776230325805974\n",
      "Average MAE score: 15734.492219169644\n",
      "--------------------------------------------------\n"
     ]
    },
    {
     "data": {
      "application/javascript": [
       "\n",
       "            setTimeout(function() {\n",
       "                var nbb_cell_id = 30;\n",
       "                var nbb_unformatted_code = \"print(\\\"initial_model\\\")\\nr2mae_scores(initial_model, X_test, y_test)\\n\\nprint(\\\"\\\\n\\\\n\\\", \\\"feat_select_model\\\")\\nr2mae_scores(feat_select_model, X2_test, y2_test)\\n\\nprint(\\\"\\\\n\\\\ntuned_model\\\")\\nr2mae_scores(tuned_model, X_test, y_test)\\n\\nprint(\\\"\\\\n\\\\ntuned_model with feat select\\\")\\nr2mae_scores(tuned_model, X2_test, y2_test)\";\n",
       "                var nbb_formatted_code = \"print(\\\"initial_model\\\")\\nr2mae_scores(initial_model, X_test, y_test)\\n\\nprint(\\\"\\\\n\\\\n\\\", \\\"feat_select_model\\\")\\nr2mae_scores(feat_select_model, X2_test, y2_test)\\n\\nprint(\\\"\\\\n\\\\ntuned_model\\\")\\nr2mae_scores(tuned_model, X_test, y_test)\\n\\nprint(\\\"\\\\n\\\\ntuned_model with feat select\\\")\\nr2mae_scores(tuned_model, X2_test, y2_test)\";\n",
       "                var nbb_cells = Jupyter.notebook.get_cells();\n",
       "                for (var i = 0; i < nbb_cells.length; ++i) {\n",
       "                    if (nbb_cells[i].input_prompt_number == nbb_cell_id) {\n",
       "                        if (nbb_cells[i].get_text() == nbb_unformatted_code) {\n",
       "                             nbb_cells[i].set_text(nbb_formatted_code);\n",
       "                        }\n",
       "                        break;\n",
       "                    }\n",
       "                }\n",
       "            }, 500);\n",
       "            "
      ],
      "text/plain": [
       "<IPython.core.display.Javascript object>"
      ]
     },
     "metadata": {},
     "output_type": "display_data"
    }
   ],
   "source": [
    "print(\"initial_model\")\n",
    "r2mae_scores(initial_model, X_test, y_test)\n",
    "\n",
    "print(\"\\n\\n\", \"feat_select_model\")\n",
    "r2mae_scores(feat_select_model, X2_test, y2_test)\n",
    "\n",
    "print(\"\\n\\ntuned_model\")\n",
    "r2mae_scores(tuned_model, X_test, y_test)\n",
    "\n",
    "print(\"\\n\\ntuned_model with feat select\")\n",
    "r2mae_scores(tuned_model, X2_test, y2_test)"
   ]
  },
  {
   "cell_type": "code",
   "execution_count": 31,
   "id": "75b27e03",
   "metadata": {},
   "outputs": [
    {
     "ename": "NameError",
     "evalue": "name 'STOP' is not defined",
     "output_type": "error",
     "traceback": [
      "\u001b[0;31m---------------------------------------------------------------------------\u001b[0m",
      "\u001b[0;31mNameError\u001b[0m                                 Traceback (most recent call last)",
      "Input \u001b[0;32mIn [31]\u001b[0m, in \u001b[0;36m<cell line: 1>\u001b[0;34m()\u001b[0m\n\u001b[0;32m----> 1\u001b[0m \u001b[43mSTOP\u001b[49m\n",
      "\u001b[0;31mNameError\u001b[0m: name 'STOP' is not defined"
     ]
    },
    {
     "data": {
      "application/javascript": [
       "\n",
       "            setTimeout(function() {\n",
       "                var nbb_cell_id = 31;\n",
       "                var nbb_unformatted_code = \"STOP\";\n",
       "                var nbb_formatted_code = \"STOP\";\n",
       "                var nbb_cells = Jupyter.notebook.get_cells();\n",
       "                for (var i = 0; i < nbb_cells.length; ++i) {\n",
       "                    if (nbb_cells[i].input_prompt_number == nbb_cell_id) {\n",
       "                        if (nbb_cells[i].get_text() == nbb_unformatted_code) {\n",
       "                             nbb_cells[i].set_text(nbb_formatted_code);\n",
       "                        }\n",
       "                        break;\n",
       "                    }\n",
       "                }\n",
       "            }, 500);\n",
       "            "
      ],
      "text/plain": [
       "<IPython.core.display.Javascript object>"
      ]
     },
     "metadata": {},
     "output_type": "display_data"
    }
   ],
   "source": [
    "STOP"
   ]
  },
  {
   "cell_type": "markdown",
   "id": "9f0b324e",
   "metadata": {},
   "source": [
    "## YE OLD CODE DUMP"
   ]
  },
  {
   "cell_type": "markdown",
   "id": "379c15eb",
   "metadata": {},
   "source": [
    "## Feature Engineering: Street Grouping\n",
    "#### Function from Creating_test_train notbook with a few changes"
   ]
  },
  {
   "cell_type": "code",
   "execution_count": null,
   "id": "9be4b5a4",
   "metadata": {},
   "outputs": [],
   "source": [
    "# Adding Neighborhood street back to df\n",
    "streets = housing_corr[[\"PID\", \"Neighborhood_st\", \"SalePrice\"]]\n",
    "\n",
    "train_dummies_w_streets = pd.merge(train_dummies, streets, how=\"left\", on=\"PID\")\n",
    "test_dummies_w_streets = pd.merge(test_dummies, streets, how=\"left\", on=\"PID\")"
   ]
  },
  {
   "cell_type": "code",
   "execution_count": null,
   "id": "73f548a1",
   "metadata": {},
   "outputs": [],
   "source": [
    "## Group Streets by Sale Price ##\n",
    "\n",
    "# creating a function to create groups based on mean sale price of streets in each\n",
    "# neighborhood of the training df and adds a new column with the groups created\n",
    "# It then uses the groups created using the training dataframe and creates a new column\n",
    "# in the testing dataframe by mapping these groups.  This will result in missing values\n",
    "# If there is a street neighborhood combination that was in the training dataset but \n",
    "# not the testing dataset\n",
    "\n",
    "\n",
    "def group_neighbor_streets_by_saleprice(\n",
    "    traindf=train_dummies_w_streets, testdf=test_dummies_w_streets, num_quantiles=10  # notice the difference in this line!!\n",
    "):\n",
    "    # Calculate the mean sale price for each street in the training df\n",
    "    street_prices = traindf.groupby(\"Neighborhood_st\")[\"SalePrice\"].mean()\n",
    "    \n",
    "    # Group the streets into the specified number of quantiles based on sale price\n",
    "    labels = [f\"group_{i+1}\" for i in range(num_quantiles)]\n",
    "    groups = pd.qcut(street_prices, q=num_quantiles, labels=range(1, num_quantiles + 1))\n",
    "    \n",
    "    # Create a dictionary that maps each street name to its corresponding sale price group label\n",
    "    street_group_dict = dict(zip(street_prices.index, groups))\n",
    "    \n",
    "    # Add a new column to the training dataframe with the street price groups\n",
    "    traindf[\"StreetPriceGroup\"] = traindf[\"Neighborhood_st\"].map(street_group_dict)\n",
    "    \n",
    "    # Add a new column to the testing dataframe with the street price groups\n",
    "    testdf[\"StreetPriceGroup\"] = testdf[\"Neighborhood_st\"].map(street_group_dict)\n",
    "    return street_group_dict\n"
   ]
  },
  {
   "cell_type": "code",
   "execution_count": null,
   "id": "aed5918d",
   "metadata": {},
   "outputs": [],
   "source": [
    "# the num of quantiles can be changed and it is assigned to d which is the dictionary that\n",
    "# will be used to fill in the missing values\n",
    "\n",
    "d = group_neighbor_streets_by_saleprice(\n",
    "    traindf=train_dummies_w_streets,  # the difference here as well!!\n",
    "    testdf=test_dummies_w_streets,  # the difference here as well!!\n",
    "    num_quantiles=10,\n",
    ")"
   ]
  },
  {
   "cell_type": "code",
   "execution_count": null,
   "id": "30f217e0",
   "metadata": {},
   "outputs": [],
   "source": [
    "## Supporting Function to group_neighbor_streets_by_saleprice to FILL_NA's ##\n",
    "\n",
    "# Dictionary stores missing values in the test df with another group in the same neighborhood\n",
    "\n",
    "\n",
    "def fill_na(testdf=test_dummies_w_streets, d={}):  # DIFFERENT HERE TOO\n",
    "    # Extract the first part of the string in the \"Neighborhood_st\" column\n",
    "    testdf[\"Neighborhood_prefix\"] = testdf[\"Neighborhood_st\"].map(\n",
    "        lambda x: x.split(\"_\")[0]\n",
    "    )\n",
    "\n",
    "    # Create a new dict that only contains the neighborhood\n",
    "    new_dict = {k.split(\"_\")[0]: v for k, v in d.items()}\n",
    "\n",
    "    # Create a list of PIDs with missing StreetPriceGroup values\n",
    "    na_pid_list = testdf[testdf[\"StreetPriceGroup\"].isna()][\"PID\"].tolist()\n",
    "\n",
    "    # Create a Boolean mask to filter the DataFrame\n",
    "    mask = testdf[\"PID\"].isin(na_pid_list)\n",
    "\n",
    "    # Apply the dictionary mapping only to the filtered rows\n",
    "    testdf.loc[mask, \"StreetPriceGroup\"] = testdf[mask][\"Neighborhood_prefix\"].map(\n",
    "        new_dict\n",
    "    )\n",
    "\n",
    "    # Drop the column since there is no more use for it\n",
    "    testdf.drop(\"Neighborhood_prefix\", axis=1, inplace=True)"
   ]
  },
  {
   "cell_type": "code",
   "execution_count": null,
   "id": "13d205de",
   "metadata": {},
   "outputs": [],
   "source": [
    "fill_na(test_dummies_w_streets, d)"
   ]
  },
  {
   "cell_type": "code",
   "execution_count": null,
   "id": "d5867a81",
   "metadata": {},
   "outputs": [],
   "source": [
    "# Remove the column that was used to create groupings\n",
    "train_dummies_w_streets.drop(\"Neighborhood_st\", axis=1, inplace=True)\n",
    "test_dummies_w_streets.drop(\"Neighborhood_st\", axis=1, inplace=True)"
   ]
  },
  {
   "cell_type": "code",
   "execution_count": null,
   "id": "75a75550",
   "metadata": {
    "scrolled": true
   },
   "outputs": [],
   "source": [
    "# Looks like PID should be removed and SalePrice moved to the first column\n",
    "train_dummies_w_streets"
   ]
  },
  {
   "cell_type": "code",
   "execution_count": null,
   "id": "140d8e6e",
   "metadata": {},
   "outputs": [],
   "source": [
    "# Remove PID and move SalePrice to first column\n",
    "# I need to do this in the future and save the csv's after so we dont have to do this each time\n",
    "\n",
    "# TRAIN\n",
    "train_dummies_w_streets = train_dummies_w_streets.iloc[\n",
    "    :,\n",
    "    train_dummies_w_streets.columns.tolist().index(\"SalePrice\") : (\n",
    "        train_dummies_w_streets.columns.tolist().index(\"SalePrice\") + 1\n",
    "    ),\n",
    "].join(train_dummies_w_streets.drop(columns=[\"SalePrice\", \"PID\"]))\n",
    "\n",
    "# TEST\n",
    "test_dummies_w_streets = test_dummies_w_streets.iloc[\n",
    "    :,\n",
    "    test_dummies_w_streets.columns.tolist().index(\"SalePrice\") : (\n",
    "        test_dummies_w_streets.columns.tolist().index(\"SalePrice\") + 1\n",
    "    ),\n",
    "].join(test_dummies_w_streets.drop(columns=[\"SalePrice\", \"PID\"]))"
   ]
  },
  {
   "cell_type": "code",
   "execution_count": null,
   "id": "e7ee3f22",
   "metadata": {},
   "outputs": [],
   "source": [
    "# One Hot Encode it.\n",
    "\n",
    "# List categorical columns to be dummified for train/test\n",
    "cat_cols = [\"StreetPriceGroup\"]\n",
    "\n",
    "# Dummify the categorical columns in both train/test set\n",
    "train_dummies_w_streets2 = pd.get_dummies(train_dummies_w_streets, columns=cat_cols)\n",
    "test_dummies_w_streets2 = pd.get_dummies(test_dummies_w_streets, columns=cat_cols)\n",
    "\n",
    "# Ensure the same dummy columns are present in both train and test sets\n",
    "train_dummies_w_streets2, test_dummies_w_streets2 = train_dummies_w_streets2.align(\n",
    "    test_dummies_w_streets2, join=\"left\", axis=1\n",
    ")\n",
    "\n",
    "# Fill any missing columns in the test set with zeros\n",
    "test_dummies_w_streets2.fillna(0, inplace=True)"
   ]
  },
  {
   "cell_type": "markdown",
   "id": "156e90c2",
   "metadata": {},
   "source": [
    "## Same processing as before"
   ]
  },
  {
   "cell_type": "code",
   "execution_count": null,
   "id": "a14e89b7",
   "metadata": {},
   "outputs": [],
   "source": [
    "# Define Model and Variables\n",
    "initial_model2 = GradientBoostingRegressor()\n",
    "X_train2 = train_dummies_w_streets2\n",
    "y_train2 = y_train.copy()\n",
    "X_test2 = test_dummies_w_streets2\n",
    "y_test2 = y_test.copy()\n",
    "\n",
    "# Drop columns with less than 20 observations in it's column\n",
    "col_sums2 = X_train2.iloc[:, 45:].sum()\n",
    "col_sums_filt2 = col_sums2[col_sums2 < 20]\n",
    "\n",
    "small_dumb_cols2 = list(col_sums_filt2.index)\n",
    "\n",
    "X_train2.drop(columns=small_dumb_cols2, inplace=True)\n",
    "X_test2.drop(columns=small_dumb_cols2, inplace=True)"
   ]
  },
  {
   "cell_type": "markdown",
   "id": "5ecadd02",
   "metadata": {},
   "source": [
    "## Model"
   ]
  },
  {
   "cell_type": "code",
   "execution_count": null,
   "id": "c5f26bb3",
   "metadata": {},
   "outputs": [],
   "source": [
    "# initial_model.set_params(verbose=1)\n",
    "# initial_model.fit(X_train, y_train)\n",
    "# initial_scores = cross_val_score(\n",
    "#     initial_model, X_train, y_train, \n",
    "#     cv=5, \n",
    "#     scoring=\"neg_mean_squared_error\", \n",
    "#     verbose=2\n",
    "# )\n",
    "# print(\"Initial Model RMSE: \", np.sqrt(-1 * np.mean(initial_scores)))"
   ]
  },
  {
   "cell_type": "code",
   "execution_count": null,
   "id": "3f77a81f",
   "metadata": {},
   "outputs": [],
   "source": [
    "# k-fold cross-validation\n",
    "\n",
    "# Create the Gradient Boosted Regression model and evaluate it using k-fold cross-validation\n",
    "from sklearn.ensemble import GradientBoostingRegressor\n",
    "from sklearn.metrics import mean_squared_error, r2_score\n",
    "\n",
    "mse_scores = []\n",
    "r2_scores = []\n",
    "\n",
    "for train_index, test_index in kf.split(X):\n",
    "    X_train, X_test = X.iloc[train_index], X.iloc[test_index]\n",
    "    y_train, y_test = y.iloc[train_index], y.iloc[test_index]\n",
    "\n",
    "    model = GradientBoostingRegressor(\n",
    "        n_estimators=100, learning_rate=0.1, max_depth=3, random_state=42\n",
    "    )\n",
    "    model.fit(X_train, y_train)\n",
    "\n",
    "    y_pred = model.predict(X_test)\n",
    "    mse = mean_squared_error(y_test, y_pred)\n",
    "    r2 = r2_score(y_test, y_pred)\n",
    "\n",
    "    mse_scores.append(mse)\n",
    "    r2_scores.append(r2)\n",
    "\n",
    "print(\"MSE scores:\", mse_scores)\n",
    "print(\"R-squared scores:\", r2_scores)"
   ]
  },
  {
   "cell_type": "markdown",
   "id": "31ae4bb3",
   "metadata": {},
   "source": [
    "The output shows the MSE and R-squared scores for each fold of the cross-validation. \n",
    "The MSE scores range from 322,746,634 to 949,124,370 while the R-squared scores range from 0.8501 to 0.9400. \n",
    "\n",
    "These scores indicate how well the model is performing on the testing data, with higher R-squared scores and lower MSE scores indicating better performance. \n",
    "\n",
    "The fact that the R-squared scores are relatively high and the MSE scores are relatively low suggests that the model is performing well on the data."
   ]
  },
  {
   "cell_type": "markdown",
   "id": "e6ead752",
   "metadata": {},
   "source": [
    "## Tuning"
   ]
  },
  {
   "cell_type": "code",
   "execution_count": null,
   "id": "13ead283",
   "metadata": {},
   "outputs": [],
   "source": [
    "def tune_gbm(learning_rate, max_depth):\n",
    "    gbm = GradientBoostingRegressor(\n",
    "        learning_rate=learning_rate, n_estimators=10000, max_depth=max_depth\n",
    "    )\n",
    "    gbm.fit(X_train, y_train)\n",
    "\n",
    "    return gbm\n",
    "\n",
    "def demo_gbm_tuning(model, start=0, end=10000, training_curve=True):\n",
    "    \"\"\"\n",
    "    This function takes a GBM regression model model as input and generates a \n",
    "    performance visualization of the model using the test dataset (X_test and y_test). \n",
    "    The function calculates the mean squared error (MSE) on both the training and test \n",
    "    datasets using a generator that iteratively predicts the targets for different numbers of estimators. \n",
    "    The start and end arguments control the range of the x-axis (i.e., the number of estimators), \n",
    "    and the training_curve argument controls whether to show the training curve or not. \n",
    "    The function also prints the best test score and the corresponding number of estimators.\n",
    "    \"\"\"\n",
    "    gen_train = model.staged_predict(X_train)\n",
    "    gen_test = model.staged_predict(X_test)\n",
    "\n",
    "    trainMSE = []\n",
    "    testMSE = []\n",
    "    steps = range(1, 10001)\n",
    "    for n in tqdm(steps):\n",
    "        y_pred_train = next(gen_train)\n",
    "        y_pred_test = next(gen_test)\n",
    "        trainMSE.append(mean_squared_error(y_pred_train, y_train))\n",
    "        testMSE.append(mean_squared_error(y_pred_test, y_test))\n",
    "\n",
    "    print(\n",
    "        \"The best test score is {:.2f} at the step {}\".format(\n",
    "            min(testMSE), np.argmin(testMSE) + 1\n",
    "        )\n",
    "    )\n",
    "    print(\"-\" * 50)\n",
    "    plt.plot(range(start, end), testMSE[start:end], label=\"test\")\n",
    "    if training_curve:\n",
    "        plt.plot(range(start, end), trainMSE[start:end], label=\"train\")\n",
    "    plt.legend()\n",
    "    plt.show()\n"
   ]
  },
  {
   "cell_type": "code",
   "execution_count": null,
   "id": "0e78b492",
   "metadata": {},
   "outputs": [],
   "source": [
    "learning_rate = 0.001\n",
    "max_depth = 4\n",
    "\n",
    "model1 = tune_gbm(learning_rate, max_depth)\n",
    "\n",
    "start = 0\n",
    "end = 10000  # change start and end to zoom in\n",
    "\n",
    "demo_gbm_tuning(model1, start, end)"
   ]
  },
  {
   "cell_type": "markdown",
   "id": "13be5f7f",
   "metadata": {},
   "source": [
    "The goal is to find the optimal number of estimators where the blue line is at its lowest point while the orange line is also decreasing or leveling off. This will ensure that the model is not overfitting and is generalizing well to new data.\n",
    "\n",
    "The curve with the lowest test MSE represents the best-performing learning rate.\n",
    "\n",
    "You can also look at the shape of the curves to gain insight into the behavior of the model. If the curves are flat or increasing, it may indicate that the model is overfitting or underfitting the data. If the curves are decreasing and plateauing, it may suggest that the model is performing well and additional tuning may not be necessary."
   ]
  },
  {
   "cell_type": "code",
   "execution_count": null,
   "id": "b1642c85",
   "metadata": {},
   "outputs": [],
   "source": [
    "learning_rate = 0.05\n",
    "max_depth = 4\n",
    "\n",
    "model2 = tune_gbm(learning_rate, max_depth)\n",
    "\n",
    "start = 0\n",
    "end = 10000\n",
    "\n",
    "demo_gbm_tuning(model2, start, end)"
   ]
  },
  {
   "cell_type": "code",
   "execution_count": null,
   "id": "a2c533fb",
   "metadata": {},
   "outputs": [],
   "source": [
    "learning_rate = 0.01\n",
    "max_depth = 4\n",
    "\n",
    "model2 = tune_gbm(learning_rate, max_depth)\n",
    "\n",
    "start = 0\n",
    "end = 10000\n",
    "\n",
    "demo_gbm_tuning(model2, start, end)"
   ]
  },
  {
   "cell_type": "code",
   "execution_count": null,
   "id": "c3755414",
   "metadata": {
    "scrolled": false
   },
   "outputs": [],
   "source": [
    "top_n = 20\n",
    "\n",
    "sorted_importance = sorted(\n",
    "    zip(X_train.columns, gbm.feature_importances_), key=lambda t: t[1], reverse=True,\n",
    ")[:top_n]\n",
    "\n",
    "sorted_importance"
   ]
  },
  {
   "cell_type": "code",
   "execution_count": null,
   "id": "134de3d8",
   "metadata": {},
   "outputs": [],
   "source": [
    "a, b = zip(*sorted_importance)  # this splits the list of tuples into two lists\n",
    "pd.DataFrame({\"feature_name\": a, \"importance_score\": b}).plot.bar(\n",
    "    x=\"feature_name\", y=\"importance_score\", legend=None\n",
    ")\n",
    "plt.title(\"Feature Importance Plot\")"
   ]
  },
  {
   "cell_type": "code",
   "execution_count": null,
   "id": "199740fb",
   "metadata": {},
   "outputs": [],
   "source": [
    "## Cumulative Feature Importance ##\n",
    "\n",
    "\n",
    "cumulative_importance = np.cumsum([x[1] for x in sorted_importance])\n",
    "\n",
    "plt.plot(cumulative_importance)\n",
    "plt.xlabel(\"Number of Features\")\n",
    "plt.ylabel(\"Cumulative Feature Importance\")\n",
    "plt.show()"
   ]
  },
  {
   "cell_type": "code",
   "execution_count": null,
   "id": "35874bf8",
   "metadata": {},
   "outputs": [],
   "source": [
    "## WARNING ## \n",
    "## This takes 20+min to run ##\n",
    "\n",
    "# Grid Search for best parameters\n",
    "\n",
    "# Define the parameter grid to search\n",
    "param_grid = {\n",
    "    'learning_rate': [0.1, 0.05, 0.01],\n",
    "    'n_estimators': [5000, 10000, 20000]\n",
    "}\n",
    "\n",
    "# Create a GBM model\n",
    "gbm = GradientBoostingRegressor(max_depth=4)\n",
    "\n",
    "# Perform grid search with cross-validation\n",
    "grid_search = GridSearchCV(gbm, param_grid=param_grid, cv=5)\n",
    "grid_search.fit(X_train, y_train)\n",
    "\n",
    "# Print the best parameters and best score\n",
    "print(\"Best parameters: \", grid_search.best_params_)\n",
    "print(\"Best score: \", -grid_search.best_score_)\n"
   ]
  },
  {
   "cell_type": "code",
   "execution_count": null,
   "id": "9e67faea",
   "metadata": {},
   "outputs": [],
   "source": [
    "-------------------"
   ]
  },
  {
   "cell_type": "code",
   "execution_count": null,
   "id": "f65f744a",
   "metadata": {},
   "outputs": [],
   "source": [
    "# DROPPED 2023-03-27\n",
    "\n",
    "# None of the columns have all o's\n",
    "# BUT some of the dummified columns have a very small amount of data\n",
    "\n",
    "col_sums = X_train.iloc[:, 45:].sum()\n",
    "col_sums_filt = col_sums[col_sums < 20]\n",
    "print(col_sums_filt.sort_values())\n",
    "\n",
    "# Remove all the dummified columns that were only 20 or less observations.\n",
    "# out of the total 1790 observations of the train set\n",
    "\n",
    "small_dumb_cols = list(col_sums_filt.index)\n",
    "\n",
    "X_train.drop(columns=small_dumb_cols, inplace=True)\n",
    "X_test.drop(columns=small_dumb_cols, inplace=True)\n",
    "\n",
    "# Dropped ~78 columns\n",
    "print(X_train.shape)\n",
    "print(X_test.shape)"
   ]
  }
 ],
 "metadata": {
  "kernelspec": {
   "display_name": "Python 3 (ipykernel)",
   "language": "python",
   "name": "python3"
  },
  "language_info": {
   "codemirror_mode": {
    "name": "ipython",
    "version": 3
   },
   "file_extension": ".py",
   "mimetype": "text/x-python",
   "name": "python",
   "nbconvert_exporter": "python",
   "pygments_lexer": "ipython3",
   "version": "3.9.12"
  }
 },
 "nbformat": 4,
 "nbformat_minor": 5
}
