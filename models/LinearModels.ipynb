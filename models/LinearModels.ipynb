{
 "cells": [
  {
   "cell_type": "markdown",
   "id": "4e691ba9",
   "metadata": {},
   "source": [
    "# Linear Models\n",
    "- Simple Linear Regression\n",
    "- Multiple Linear Regression\n",
    "- Ridge Regression\n",
    "- Lasso Regression"
   ]
  },
  {
   "cell_type": "markdown",
   "id": "0cbe1d1d",
   "metadata": {},
   "source": [
    "## Load Packages and Data"
   ]
  },
  {
   "cell_type": "code",
   "execution_count": 1,
   "id": "23904b7c",
   "metadata": {},
   "outputs": [
    {
     "data": {
      "application/javascript": [
       "\n",
       "            setTimeout(function() {\n",
       "                var nbb_cell_id = 1;\n",
       "                var nbb_unformatted_code = \"import matplotlib.pyplot as plt\\nimport matplotlib.ticker as ticker\\nimport seaborn as sns\\nimport numpy as np\\nimport pandas as pd\\nimport seaborn as sns\\n\\nfrom sklearn.linear_model import LinearRegression, Ridge\\nfrom sklearn.ensemble import GradientBoostingRegressor, GradientBoostingClassifier\\nfrom sklearn.preprocessing import LabelEncoder\\nfrom sklearn.model_selection import train_test_split, KFold, cross_val_score\\nfrom sklearn.model_selection import GridSearchCV, RepeatedKFold, validation_curve\\nfrom sklearn.metrics import mean_squared_error, r2_score, mean_absolute_error\\n\\nfrom tqdm import tqdm\\n\\n\\n# this extension properly formats a cell after it is run\\n# !{sys.executable} -m pip install nb_black # UNCOMMENT TO INSTALL\\n%load_ext nb_black\\n%matplotlib inline\\n\\n# Set the maximum number of rows to 200\\npd.set_option(\\\"display.max_rows\\\", 200)\\n\\n# Set the maximum number of columns to 200\\npd.set_option(\\\"display.max_columns\\\", 200)\\n\\nnp.random.seed(42)\";\n",
       "                var nbb_formatted_code = \"import matplotlib.pyplot as plt\\nimport matplotlib.ticker as ticker\\nimport seaborn as sns\\nimport numpy as np\\nimport pandas as pd\\nimport seaborn as sns\\n\\nfrom sklearn.linear_model import LinearRegression, Ridge\\nfrom sklearn.ensemble import GradientBoostingRegressor, GradientBoostingClassifier\\nfrom sklearn.preprocessing import LabelEncoder\\nfrom sklearn.model_selection import train_test_split, KFold, cross_val_score\\nfrom sklearn.model_selection import GridSearchCV, RepeatedKFold, validation_curve\\nfrom sklearn.metrics import mean_squared_error, r2_score, mean_absolute_error\\n\\nfrom tqdm import tqdm\\n\\n\\n# this extension properly formats a cell after it is run\\n# !{sys.executable} -m pip install nb_black # UNCOMMENT TO INSTALL\\n%load_ext nb_black\\n%matplotlib inline\\n\\n# Set the maximum number of rows to 200\\npd.set_option(\\\"display.max_rows\\\", 200)\\n\\n# Set the maximum number of columns to 200\\npd.set_option(\\\"display.max_columns\\\", 200)\\n\\nnp.random.seed(42)\";\n",
       "                var nbb_cells = Jupyter.notebook.get_cells();\n",
       "                for (var i = 0; i < nbb_cells.length; ++i) {\n",
       "                    if (nbb_cells[i].input_prompt_number == nbb_cell_id) {\n",
       "                        if (nbb_cells[i].get_text() == nbb_unformatted_code) {\n",
       "                             nbb_cells[i].set_text(nbb_formatted_code);\n",
       "                        }\n",
       "                        break;\n",
       "                    }\n",
       "                }\n",
       "            }, 500);\n",
       "            "
      ],
      "text/plain": [
       "<IPython.core.display.Javascript object>"
      ]
     },
     "metadata": {},
     "output_type": "display_data"
    }
   ],
   "source": [
    "import matplotlib.pyplot as plt\n",
    "import matplotlib.ticker as ticker\n",
    "import seaborn as sns\n",
    "import numpy as np\n",
    "import pandas as pd\n",
    "import seaborn as sns\n",
    "\n",
    "from sklearn.linear_model import LinearRegression, Ridge\n",
    "from sklearn.ensemble import GradientBoostingRegressor, GradientBoostingClassifier\n",
    "from sklearn.preprocessing import LabelEncoder\n",
    "from sklearn.model_selection import train_test_split, KFold, cross_val_score\n",
    "from sklearn.model_selection import GridSearchCV, RepeatedKFold, validation_curve\n",
    "from sklearn.metrics import mean_squared_error, r2_score, mean_absolute_error\n",
    "\n",
    "from tqdm import tqdm\n",
    "\n",
    "\n",
    "# this extension properly formats a cell after it is run\n",
    "# !{sys.executable} -m pip install nb_black # UNCOMMENT TO INSTALL\n",
    "%load_ext nb_black\n",
    "%matplotlib inline\n",
    "\n",
    "# Set the maximum number of rows to 200\n",
    "pd.set_option(\"display.max_rows\", 200)\n",
    "\n",
    "# Set the maximum number of columns to 200\n",
    "pd.set_option(\"display.max_columns\", 200)\n",
    "\n",
    "np.random.seed(42)"
   ]
  },
  {
   "cell_type": "code",
   "execution_count": 2,
   "id": "1a451698",
   "metadata": {},
   "outputs": [
    {
     "data": {
      "text/plain": [
       "(2558, 65)"
      ]
     },
     "execution_count": 2,
     "metadata": {},
     "output_type": "execute_result"
    },
    {
     "data": {
      "application/javascript": [
       "\n",
       "            setTimeout(function() {\n",
       "                var nbb_cell_id = 2;\n",
       "                var nbb_unformatted_code = \"# Load the Ames, Iowa housing dataset\\ndata = pd.read_csv(\\\"../data/housing_corr.csv\\\")\\ndata.shape\";\n",
       "                var nbb_formatted_code = \"# Load the Ames, Iowa housing dataset\\ndata = pd.read_csv(\\\"../data/housing_corr.csv\\\")\\ndata.shape\";\n",
       "                var nbb_cells = Jupyter.notebook.get_cells();\n",
       "                for (var i = 0; i < nbb_cells.length; ++i) {\n",
       "                    if (nbb_cells[i].input_prompt_number == nbb_cell_id) {\n",
       "                        if (nbb_cells[i].get_text() == nbb_unformatted_code) {\n",
       "                             nbb_cells[i].set_text(nbb_formatted_code);\n",
       "                        }\n",
       "                        break;\n",
       "                    }\n",
       "                }\n",
       "            }, 500);\n",
       "            "
      ],
      "text/plain": [
       "<IPython.core.display.Javascript object>"
      ]
     },
     "metadata": {},
     "output_type": "display_data"
    }
   ],
   "source": [
    "# Load the Ames, Iowa housing dataset\n",
    "data = pd.read_csv(\"../data/housing_corr.csv\")\n",
    "data.shape"
   ]
  },
  {
   "cell_type": "markdown",
   "id": "42d796bb",
   "metadata": {},
   "source": [
    "## Simple Linear Regression"
   ]
  },
  {
   "cell_type": "markdown",
   "id": "6a2dc869",
   "metadata": {},
   "source": [
    "#### Using TotalSF as Predictor"
   ]
  },
  {
   "cell_type": "code",
   "execution_count": 9,
   "id": "55c541d1",
   "metadata": {},
   "outputs": [
    {
     "name": "stdout",
     "output_type": "stream",
     "text": [
      "Average R-squared score: 0.6409440488428209\n"
     ]
    },
    {
     "data": {
      "application/javascript": [
       "\n",
       "            setTimeout(function() {\n",
       "                var nbb_cell_id = 9;\n",
       "                var nbb_unformatted_code = \"X = data[\\\"TotalSF\\\"].values.reshape(-1, 1)\\ny = data[\\\"SalePrice\\\"].values.reshape(-1, 1)\\n\\n# Split the data into training and test sets\\nX_train, X_test, y_train, y_test = train_test_split(\\n    X, y, test_size=0.3, random_state=42\\n)\\n\\n# Define the linear regression model\\nlm = LinearRegression()\\n\\n# Fit Model\\nlm.fit(X_train, y_train)\\n\\n# Define the cross-validation scheme\\ncv = RepeatedKFold(n_splits=10, n_repeats=5, random_state=42)\\n\\n# Calculate the R-squared score using cross-validation\\nscores = cross_val_score(lm, X_test, y_test, cv=cv, scoring=\\\"r2\\\")\\n\\n# Print the average R-squared score across all cross-validation folds\\nprint(f\\\"Average R-squared score: {scores.mean()}\\\")\";\n",
       "                var nbb_formatted_code = \"X = data[\\\"TotalSF\\\"].values.reshape(-1, 1)\\ny = data[\\\"SalePrice\\\"].values.reshape(-1, 1)\\n\\n# Split the data into training and test sets\\nX_train, X_test, y_train, y_test = train_test_split(\\n    X, y, test_size=0.3, random_state=42\\n)\\n\\n# Define the linear regression model\\nlm = LinearRegression()\\n\\n# Fit Model\\nlm.fit(X_train, y_train)\\n\\n# Define the cross-validation scheme\\ncv = RepeatedKFold(n_splits=10, n_repeats=5, random_state=42)\\n\\n# Calculate the R-squared score using cross-validation\\nscores = cross_val_score(lm, X_test, y_test, cv=cv, scoring=\\\"r2\\\")\\n\\n# Print the average R-squared score across all cross-validation folds\\nprint(f\\\"Average R-squared score: {scores.mean()}\\\")\";\n",
       "                var nbb_cells = Jupyter.notebook.get_cells();\n",
       "                for (var i = 0; i < nbb_cells.length; ++i) {\n",
       "                    if (nbb_cells[i].input_prompt_number == nbb_cell_id) {\n",
       "                        if (nbb_cells[i].get_text() == nbb_unformatted_code) {\n",
       "                             nbb_cells[i].set_text(nbb_formatted_code);\n",
       "                        }\n",
       "                        break;\n",
       "                    }\n",
       "                }\n",
       "            }, 500);\n",
       "            "
      ],
      "text/plain": [
       "<IPython.core.display.Javascript object>"
      ]
     },
     "metadata": {},
     "output_type": "display_data"
    }
   ],
   "source": [
    "X = data[\"TotalSF\"].values.reshape(-1, 1)\n",
    "y = data[\"SalePrice\"].values.reshape(-1, 1)\n",
    "\n",
    "# Split the data into training and test sets\n",
    "X_train, X_test, y_train, y_test = train_test_split(\n",
    "    X, y, test_size=0.3, random_state=42\n",
    ")\n",
    "\n",
    "# Define the linear regression model\n",
    "lm = LinearRegression()\n",
    "\n",
    "# Fit Model\n",
    "lm.fit(X_train, y_train)\n",
    "\n",
    "# Define the cross-validation scheme\n",
    "cv = RepeatedKFold(n_splits=10, n_repeats=5, random_state=42)\n",
    "\n",
    "# Calculate the R-squared score using cross-validation\n",
    "scores = cross_val_score(lm, X_test, y_test, cv=cv, scoring=\"r2\")\n",
    "\n",
    "# Print the average R-squared score across all cross-validation folds\n",
    "print(f\"Average R-squared score: {scores.mean()}\")"
   ]
  },
  {
   "cell_type": "markdown",
   "id": "76b45440",
   "metadata": {},
   "source": [
    "#### Using OverallQual as Predictor"
   ]
  },
  {
   "cell_type": "code",
   "execution_count": 10,
   "id": "85e5d51e",
   "metadata": {},
   "outputs": [
    {
     "name": "stdout",
     "output_type": "stream",
     "text": [
      "Average R-squared score: 0.6004552005801451\n"
     ]
    },
    {
     "data": {
      "application/javascript": [
       "\n",
       "            setTimeout(function() {\n",
       "                var nbb_cell_id = 10;\n",
       "                var nbb_unformatted_code = \"X = data[\\\"OverallQual\\\"].values.reshape(-1, 1)\\ny = data[\\\"SalePrice\\\"].values.reshape(-1, 1)\\n\\n# Split the data into training and test sets\\nX_train, X_test, y_train, y_test = train_test_split(\\n    X, y, test_size=0.3, random_state=42\\n)\\n\\n# Define the linear regression model\\nlm = LinearRegression()\\n\\n# Fit Model\\nlm.fit(X_train, y_train)\\n\\n# Define the cross-validation scheme\\ncv = RepeatedKFold(n_splits=10, n_repeats=5, random_state=42)\\n\\n# Calculate the R-squared score using cross-validation\\nscores = cross_val_score(lm, X_test, y_test, cv=cv, scoring=\\\"r2\\\")\\n\\n# Print the average R-squared score across all cross-validation folds\\nprint(f\\\"Average R-squared score: {scores.mean()}\\\")\";\n",
       "                var nbb_formatted_code = \"X = data[\\\"OverallQual\\\"].values.reshape(-1, 1)\\ny = data[\\\"SalePrice\\\"].values.reshape(-1, 1)\\n\\n# Split the data into training and test sets\\nX_train, X_test, y_train, y_test = train_test_split(\\n    X, y, test_size=0.3, random_state=42\\n)\\n\\n# Define the linear regression model\\nlm = LinearRegression()\\n\\n# Fit Model\\nlm.fit(X_train, y_train)\\n\\n# Define the cross-validation scheme\\ncv = RepeatedKFold(n_splits=10, n_repeats=5, random_state=42)\\n\\n# Calculate the R-squared score using cross-validation\\nscores = cross_val_score(lm, X_test, y_test, cv=cv, scoring=\\\"r2\\\")\\n\\n# Print the average R-squared score across all cross-validation folds\\nprint(f\\\"Average R-squared score: {scores.mean()}\\\")\";\n",
       "                var nbb_cells = Jupyter.notebook.get_cells();\n",
       "                for (var i = 0; i < nbb_cells.length; ++i) {\n",
       "                    if (nbb_cells[i].input_prompt_number == nbb_cell_id) {\n",
       "                        if (nbb_cells[i].get_text() == nbb_unformatted_code) {\n",
       "                             nbb_cells[i].set_text(nbb_formatted_code);\n",
       "                        }\n",
       "                        break;\n",
       "                    }\n",
       "                }\n",
       "            }, 500);\n",
       "            "
      ],
      "text/plain": [
       "<IPython.core.display.Javascript object>"
      ]
     },
     "metadata": {},
     "output_type": "display_data"
    }
   ],
   "source": [
    "X = data[\"OverallQual\"].values.reshape(-1, 1)\n",
    "y = data[\"SalePrice\"].values.reshape(-1, 1)\n",
    "\n",
    "# Split the data into training and test sets\n",
    "X_train, X_test, y_train, y_test = train_test_split(\n",
    "    X, y, test_size=0.3, random_state=42\n",
    ")\n",
    "\n",
    "# Define the linear regression model\n",
    "lm = LinearRegression()\n",
    "\n",
    "# Fit Model\n",
    "lm.fit(X_train, y_train)\n",
    "\n",
    "# Define the cross-validation scheme\n",
    "cv = RepeatedKFold(n_splits=10, n_repeats=5, random_state=42)\n",
    "\n",
    "# Calculate the R-squared score using cross-validation\n",
    "scores = cross_val_score(lm, X_test, y_test, cv=cv, scoring=\"r2\")\n",
    "\n",
    "# Print the average R-squared score across all cross-validation folds\n",
    "print(f\"Average R-squared score: {scores.mean()}\")"
   ]
  },
  {
   "cell_type": "markdown",
   "id": "992dfcb0",
   "metadata": {},
   "source": [
    "## Multiple Linear Regression using OverallQual & TotalSF"
   ]
  },
  {
   "cell_type": "code",
   "execution_count": null,
   "id": "f9e30831",
   "metadata": {},
   "outputs": [],
   "source": [
    "TESTING"
   ]
  },
  {
   "cell_type": "markdown",
   "id": "9949653e",
   "metadata": {},
   "source": [
    "asdf"
   ]
  },
  {
   "cell_type": "markdown",
   "id": "b29d6c32",
   "metadata": {},
   "source": [
    "testing testing testing Testinga"
   ]
  },
  {
   "cell_type": "code",
   "execution_count": null,
   "id": "10ce0b74",
   "metadata": {},
   "outputs": [],
   "source": [
    "X = data['OverallQual', 'TotalSF'].values.reshape(-1, 1)\n",
    "y = data[\"SalePrice\"].values.reshape(-1, 1)\n",
    "\n",
    "\n",
    "# Split the data into training and test sets\n",
    "X_train, X_test, y_train, y_test = train_test_split(\n",
    "    X, y, test_size=0.3, random_state=42\n",
    ")\n",
    "\n",
    "# Define the linear regression model\n",
    "lm = LinearRegression()\n",
    "\n",
    "# Fit Model\n",
    "lm.fit(X_train, y_train)\n",
    "\n",
    "# Define the cross-validation scheme\n",
    "cv = RepeatedKFold(n_splits=10, n_repeats=5, random_state=42)\n",
    "\n",
    "# Calculate the R-squared score using cross-validation\n",
    "scores = cross_val_score(lm, X_test, y_test, cv=cv, scoring=\"r2\")\n",
    "\n",
    "# Print the average R-squared score across all cross-validation folds\n",
    "print(f\"Average R-squared score: {scores.mean()}\")"
   ]
  },
  {
   "cell_type": "code",
   "execution_count": null,
   "id": "f2588072",
   "metadata": {},
   "outputs": [],
   "source": [
    "# Extract the independent and dependent variables from both dataframes\n",
    "X_train = train_data[['OverallQual', 'TotalSF']]\n",
    "y_train = train_data['SalePrice'].values\n",
    "\n",
    "X_test = test_data[['OverallQual', 'TotalSF']]\n",
    "y_test = test_data['SalePrice'].values\n",
    "\n",
    "# Create a LinearRegression model and fit it on the training data\n",
    "model = LinearRegression()\n",
    "model.fit(X_train, y_train)\n",
    "\n",
    "# Define the cross-validation scheme\n",
    "cv = RepeatedKFold(n_splits=5, n_repeats=3, random_state=42)\n",
    "\n",
    "# Perform cross-validation and calculate the R-squared score on the test data\n",
    "scores = cross_val_score(model, X_test, y_test, scoring='r2', cv=cv)\n",
    "\n",
    "# Print the mean R-squared score across all cross-validation folds\n",
    "print('Mean R-squared score:', scores.mean())"
   ]
  },
  {
   "cell_type": "markdown",
   "id": "df448b95",
   "metadata": {},
   "source": [
    "## Dummify categorical Values"
   ]
  },
  {
   "cell_type": "code",
   "execution_count": null,
   "id": "d1ff4801",
   "metadata": {},
   "outputs": [],
   "source": [
    "# Identify non-numeric features\n",
    "non_numeric_columns = data.select_dtypes(exclude=['int64', 'float64']).columns.tolist()\n",
    "\n",
    "# Apply one-hot encoding to each non-numeric feature\n",
    "data = pd.get_dummies(data, columns=non_numeric_columns)\n",
    "\n",
    "# Preview the transformed dataset\n",
    "data.head()"
   ]
  },
  {
   "cell_type": "markdown",
   "id": "39d2d774",
   "metadata": {},
   "source": [
    "## Ridge Regression with all 749 Columns..."
   ]
  },
  {
   "cell_type": "code",
   "execution_count": null,
   "id": "8f2cf992",
   "metadata": {},
   "outputs": [],
   "source": [
    "# Split the data into training and test sets\n",
    "train_data, test_data = train_test_split(data, test_size=0.2, random_state=42)\n",
    "\n",
    "# Define the predictor and response variables\n",
    "X_train = train_data.drop('SalePrice', axis=1)\n",
    "y_train = train_data['SalePrice'].values\n",
    "\n",
    "\n",
    "X_test = test_data.drop('SalePrice', axis=1)\n",
    "y_test = test_data['SalePrice'].values\n",
    "\n",
    "# Define the linear regression model\n",
    "ridge = Ridge(alpha=1.0)\n",
    "\n",
    "# Define the cross-validation scheme\n",
    "cv = RepeatedKFold(n_splits=5, n_repeats=3, random_state=42)\n",
    "\n",
    "# Calculate the R-squared score using cross-validation\n",
    "scores = cross_val_score(ridge, X_test, y_test, cv=cv, scoring='r2')\n",
    "\n",
    "# Print the average R-squared score across all cross-validation folds\n",
    "print(f'Average R-squared score: {scores.mean()}')"
   ]
  },
  {
   "cell_type": "markdown",
   "id": "dfacc6f9",
   "metadata": {},
   "source": [
    "## Lasso Regression with all 749 Columns..."
   ]
  },
  {
   "cell_type": "code",
   "execution_count": null,
   "id": "77347a2b",
   "metadata": {},
   "outputs": [],
   "source": [
    "from sklearn.linear_model import Lasso\n",
    "\n",
    "# Split the data into training and test sets\n",
    "train_data, test_data = train_test_split(data, test_size=0.2, random_state=42)\n",
    "\n",
    "# Define the predictor and response variables\n",
    "X_train = train_data.drop('SalePrice', axis=1)\n",
    "y_train = train_data['SalePrice'].values\n",
    "\n",
    "\n",
    "X_test = test_data.drop('SalePrice', axis=1)\n",
    "y_test = test_data['SalePrice'].values\n",
    "\n",
    "# Define the linear regression model\n",
    "lasso = Lasso(alpha=1.0)\n",
    "\n",
    "# Define the cross-validation scheme\n",
    "cv = RepeatedKFold(n_splits=5, n_repeats=3, random_state=42)\n",
    "\n",
    "# Calculate the R-squared score using cross-validation\n",
    "scores = cross_val_score(lasso, X_test, y_test, cv=cv, scoring='r2')\n",
    "\n",
    "# Print the average R-squared score across all cross-validation folds\n",
    "print(f'Average R-squared score: {scores.mean()}')"
   ]
  },
  {
   "cell_type": "code",
   "execution_count": null,
   "id": "058f4363",
   "metadata": {},
   "outputs": [],
   "source": []
  }
 ],
 "metadata": {
  "kernelspec": {
   "display_name": "Python 3 (ipykernel)",
   "language": "python",
   "name": "python3"
  },
  "language_info": {
   "codemirror_mode": {
    "name": "ipython",
    "version": 3
   },
   "file_extension": ".py",
   "mimetype": "text/x-python",
   "name": "python",
   "nbconvert_exporter": "python",
   "pygments_lexer": "ipython3",
   "version": "3.9.12"
  }
 },
 "nbformat": 4,
 "nbformat_minor": 5
}
