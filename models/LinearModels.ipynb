{
 "cells": [
  {
   "cell_type": "code",
   "execution_count": 42,
   "id": "55c541d1",
   "metadata": {},
   "outputs": [
    {
     "name": "stdout",
     "output_type": "stream",
     "text": [
      "Average R-squared score: 0.6804571491914195\n"
     ]
    }
   ],
   "source": [
    "import pandas as pd\n",
    "from sklearn.model_selection import train_test_split, cross_val_score, RepeatedKFold\n",
    "from sklearn.linear_model import LinearRegression\n",
    "\n",
    "# Load the Ames, Iowa housing dataset\n",
    "data = pd.read_csv('housing_corr.csv')\n",
    "\n",
    "# Split the data into training and test sets\n",
    "train_data, test_data = train_test_split(data, test_size=0.2, random_state=42)\n",
    "\n",
    "# Define the predictor and response variables\n",
    "X_train = train_data['TotalSF'].values.reshape(-1, 1)\n",
    "y_train = train_data['SalePrice'].values\n",
    "X_test = test_data['TotalSF'].values.reshape(-1, 1)\n",
    "y_test = test_data['SalePrice'].values\n",
    "\n",
    "# Define the linear regression model\n",
    "model = LinearRegression()\n",
    "\n",
    "# Define the cross-validation scheme\n",
    "cv = RepeatedKFold(n_splits=5, n_repeats=3, random_state=42)\n",
    "\n",
    "# Calculate the R-squared score using cross-validation\n",
    "scores = cross_val_score(model, X_test, y_test, cv=cv, scoring='r2')\n",
    "\n",
    "# Print the average R-squared score across all cross-validation folds\n",
    "print(f'Average R-squared score: {scores.mean()}')"
   ]
  },
  {
   "cell_type": "code",
   "execution_count": 43,
   "id": "85e5d51e",
   "metadata": {},
   "outputs": [
    {
     "name": "stdout",
     "output_type": "stream",
     "text": [
      "Average R-squared score: 0.6005801779660601\n"
     ]
    }
   ],
   "source": [
    "# Split the data into training and test sets\n",
    "train_data, test_data = train_test_split(data, test_size=0.2, random_state=42)\n",
    "\n",
    "# Define the predictor and response variables\n",
    "X_train = train_data['OverallQual'].values.reshape(-1, 1)\n",
    "y_train = train_data['SalePrice'].values\n",
    "X_test = test_data['OverallQual'].values.reshape(-1, 1)\n",
    "y_test = test_data['SalePrice'].values\n",
    "\n",
    "# Define the linear regression model\n",
    "model = LinearRegression()\n",
    "\n",
    "# Define the cross-validation scheme\n",
    "cv = RepeatedKFold(n_splits=5, n_repeats=3, random_state=42)\n",
    "\n",
    "# Calculate the R-squared score using cross-validation\n",
    "scores = cross_val_score(model, X_test, y_test, cv=cv, scoring='r2')\n",
    "\n",
    "# Print the average R-squared score across all cross-validation folds\n",
    "print(f'Average R-squared score: {scores.mean()}')"
   ]
  },
  {
   "cell_type": "code",
   "execution_count": 44,
   "id": "f2588072",
   "metadata": {},
   "outputs": [
    {
     "name": "stdout",
     "output_type": "stream",
     "text": [
      "Mean R-squared score: 0.7576260059571219\n"
     ]
    }
   ],
   "source": [
    "# Extract the independent and dependent variables from both dataframes\n",
    "X_train = train_df[['OverallQual', 'TotalSF']]\n",
    "y_train = train_df['SalePrice'].values\n",
    "\n",
    "X_test = test_df[['OverallQual', 'TotalSF']]\n",
    "y_test = test_df['SalePrice'].values\n",
    "\n",
    "# Create a LinearRegression model and fit it on the training data\n",
    "model = LinearRegression()\n",
    "model.fit(X_train, y_train)\n",
    "\n",
    "# Define the cross-validation scheme\n",
    "cv = RepeatedKFold(n_splits=5, n_repeats=3, random_state=42)\n",
    "\n",
    "# Perform cross-validation and calculate the R-squared score on the test data\n",
    "scores = cross_val_score(model, X_test, y_test, scoring='r2', cv=cv)\n",
    "\n",
    "# Print the mean R-squared score across all cross-validation folds\n",
    "print('Mean R-squared score:', scores.mean())"
   ]
  },
  {
   "cell_type": "code",
   "execution_count": 49,
   "id": "d1ff4801",
   "metadata": {},
   "outputs": [
    {
     "name": "stdout",
     "output_type": "stream",
     "text": [
      "         PID  SalePrice  MSSubClass  LotFrontage  LotArea  OverallQual  \\\n",
      "0  909176150     126000          30          0.0     7890            6   \n",
      "1  905476230     139500         120         42.0     4235            5   \n",
      "2  911128020     124900          30         60.0     6060            5   \n",
      "3  535377150     114000          70         80.0     8146            4   \n",
      "4  534177230     227000          60         70.0     8400            8   \n",
      "\n",
      "   OverallCond  MasVnrArea  ExterCond  BsmtQual  ...  \\\n",
      "0            6         0.0          2         3  ...   \n",
      "1            5       149.0          2         4  ...   \n",
      "2            9         0.0          2         3  ...   \n",
      "3            8         0.0          3         2  ...   \n",
      "4            6         0.0          2         4  ...   \n",
      "\n",
      "   Neighborhood_st_Timber_WHITETAIL_LN  Neighborhood_st_Timber_WHITE_OAK_CIR  \\\n",
      "0                                    0                                     0   \n",
      "1                                    0                                     0   \n",
      "2                                    0                                     0   \n",
      "3                                    0                                     0   \n",
      "4                                    0                                     0   \n",
      "\n",
      "   Neighborhood_st_Timber_WHITE_OAK_DR  Neighborhood_st_Veenker_AMHERST_DR  \\\n",
      "0                                    0                                   0   \n",
      "1                                    0                                   0   \n",
      "2                                    0                                   0   \n",
      "3                                    0                                   0   \n",
      "4                                    0                                   0   \n",
      "\n",
      "   Neighborhood_st_Veenker_GREENSBORO_CIR  \\\n",
      "0                                       0   \n",
      "1                                       0   \n",
      "2                                       0   \n",
      "3                                       0   \n",
      "4                                       0   \n",
      "\n",
      "   Neighborhood_st_Veenker_GREENSBORO_DR  Neighborhood_st_Veenker_KINGMAN_RD  \\\n",
      "0                                      0                                   0   \n",
      "1                                      0                                   0   \n",
      "2                                      0                                   0   \n",
      "3                                      0                                   0   \n",
      "4                                      0                                   0   \n",
      "\n",
      "   Neighborhood_st_Veenker_PINEHURST_CIR  \\\n",
      "0                                      0   \n",
      "1                                      0   \n",
      "2                                      0   \n",
      "3                                      0   \n",
      "4                                      0   \n",
      "\n",
      "   Neighborhood_st_Veenker_TORREY_PINES_CIR  \\\n",
      "0                                         0   \n",
      "1                                         0   \n",
      "2                                         0   \n",
      "3                                         0   \n",
      "4                                         0   \n",
      "\n",
      "   Neighborhood_st_Veenker_TORREY_PINES_RD  \n",
      "0                                        0  \n",
      "1                                        0  \n",
      "2                                        0  \n",
      "3                                        0  \n",
      "4                                        0  \n",
      "\n",
      "[5 rows x 750 columns]\n"
     ]
    }
   ],
   "source": [
    "# Identify non-numeric features\n",
    "non_numeric_columns = data.select_dtypes(exclude=['int64', 'float64']).columns.tolist()\n",
    "\n",
    "# Apply one-hot encoding to each non-numeric feature\n",
    "data = pd.get_dummies(data, columns=non_numeric_columns)\n",
    "\n",
    "# Preview the transformed dataset\n",
    "print(data.head())"
   ]
  },
  {
   "cell_type": "code",
   "execution_count": 51,
   "id": "8f2cf992",
   "metadata": {},
   "outputs": [
    {
     "name": "stderr",
     "output_type": "stream",
     "text": [
      "/Users/mattwoolf/opt/anaconda3/lib/python3.8/site-packages/sklearn/linear_model/_ridge.py:255: UserWarning: Singular matrix in solving dual problem. Using least-squares solution instead.\n",
      "  warnings.warn(\n",
      "/Users/mattwoolf/opt/anaconda3/lib/python3.8/site-packages/sklearn/linear_model/_ridge.py:255: UserWarning: Singular matrix in solving dual problem. Using least-squares solution instead.\n",
      "  warnings.warn(\n",
      "/Users/mattwoolf/opt/anaconda3/lib/python3.8/site-packages/sklearn/linear_model/_ridge.py:255: UserWarning: Singular matrix in solving dual problem. Using least-squares solution instead.\n",
      "  warnings.warn(\n",
      "/Users/mattwoolf/opt/anaconda3/lib/python3.8/site-packages/sklearn/linear_model/_ridge.py:255: UserWarning: Singular matrix in solving dual problem. Using least-squares solution instead.\n",
      "  warnings.warn(\n",
      "/Users/mattwoolf/opt/anaconda3/lib/python3.8/site-packages/sklearn/linear_model/_ridge.py:255: UserWarning: Singular matrix in solving dual problem. Using least-squares solution instead.\n",
      "  warnings.warn(\n",
      "/Users/mattwoolf/opt/anaconda3/lib/python3.8/site-packages/sklearn/linear_model/_ridge.py:255: UserWarning: Singular matrix in solving dual problem. Using least-squares solution instead.\n",
      "  warnings.warn(\n",
      "/Users/mattwoolf/opt/anaconda3/lib/python3.8/site-packages/sklearn/linear_model/_ridge.py:255: UserWarning: Singular matrix in solving dual problem. Using least-squares solution instead.\n",
      "  warnings.warn(\n",
      "/Users/mattwoolf/opt/anaconda3/lib/python3.8/site-packages/sklearn/linear_model/_ridge.py:255: UserWarning: Singular matrix in solving dual problem. Using least-squares solution instead.\n",
      "  warnings.warn(\n",
      "/Users/mattwoolf/opt/anaconda3/lib/python3.8/site-packages/sklearn/linear_model/_ridge.py:255: UserWarning: Singular matrix in solving dual problem. Using least-squares solution instead.\n",
      "  warnings.warn(\n",
      "/Users/mattwoolf/opt/anaconda3/lib/python3.8/site-packages/sklearn/linear_model/_ridge.py:255: UserWarning: Singular matrix in solving dual problem. Using least-squares solution instead.\n",
      "  warnings.warn(\n",
      "/Users/mattwoolf/opt/anaconda3/lib/python3.8/site-packages/sklearn/linear_model/_ridge.py:255: UserWarning: Singular matrix in solving dual problem. Using least-squares solution instead.\n",
      "  warnings.warn(\n",
      "/Users/mattwoolf/opt/anaconda3/lib/python3.8/site-packages/sklearn/linear_model/_ridge.py:255: UserWarning: Singular matrix in solving dual problem. Using least-squares solution instead.\n",
      "  warnings.warn(\n",
      "/Users/mattwoolf/opt/anaconda3/lib/python3.8/site-packages/sklearn/linear_model/_ridge.py:255: UserWarning: Singular matrix in solving dual problem. Using least-squares solution instead.\n",
      "  warnings.warn(\n",
      "/Users/mattwoolf/opt/anaconda3/lib/python3.8/site-packages/sklearn/linear_model/_ridge.py:255: UserWarning: Singular matrix in solving dual problem. Using least-squares solution instead.\n",
      "  warnings.warn(\n",
      "/Users/mattwoolf/opt/anaconda3/lib/python3.8/site-packages/sklearn/linear_model/_ridge.py:255: UserWarning: Singular matrix in solving dual problem. Using least-squares solution instead.\n",
      "  warnings.warn(\n"
     ]
    },
    {
     "name": "stdout",
     "output_type": "stream",
     "text": [
      "Average R-squared score: 0.8057430053026223\n"
     ]
    }
   ],
   "source": [
    "# Split the data into training and test sets\n",
    "train_data, test_data = train_test_split(data, test_size=0.2, random_state=42)\n",
    "\n",
    "# Define the predictor and response variables\n",
    "X_train = train_data.drop('SalePrice', axis=1)\n",
    "y_train = train_data['SalePrice'].values\n",
    "\n",
    "\n",
    "X_test = test_data.drop('SalePrice', axis=1)\n",
    "y_test = test_data['SalePrice'].values\n",
    "\n",
    "# Define the linear regression model\n",
    "ridge = Ridge(alpha=1.0)\n",
    "\n",
    "# Define the cross-validation scheme\n",
    "cv = RepeatedKFold(n_splits=5, n_repeats=3, random_state=42)\n",
    "\n",
    "# Calculate the R-squared score using cross-validation\n",
    "scores = cross_val_score(ridge, X_test, y_test, cv=cv, scoring='r2')\n",
    "\n",
    "# Print the average R-squared score across all cross-validation folds\n",
    "print(f'Average R-squared score: {scores.mean()}')"
   ]
  },
  {
   "cell_type": "code",
   "execution_count": 52,
   "id": "77347a2b",
   "metadata": {},
   "outputs": [
    {
     "name": "stderr",
     "output_type": "stream",
     "text": [
      "/Users/mattwoolf/opt/anaconda3/lib/python3.8/site-packages/sklearn/linear_model/_coordinate_descent.py:631: ConvergenceWarning: Objective did not converge. You might want to increase the number of iterations, check the scale of the features or consider increasing regularisation. Duality gap: 9.412e+09, tolerance: 2.498e+08\n",
      "  model = cd_fast.enet_coordinate_descent(\n",
      "/Users/mattwoolf/opt/anaconda3/lib/python3.8/site-packages/sklearn/linear_model/_coordinate_descent.py:631: ConvergenceWarning: Objective did not converge. You might want to increase the number of iterations, check the scale of the features or consider increasing regularisation. Duality gap: 8.949e+09, tolerance: 2.561e+08\n",
      "  model = cd_fast.enet_coordinate_descent(\n",
      "/Users/mattwoolf/opt/anaconda3/lib/python3.8/site-packages/sklearn/linear_model/_coordinate_descent.py:631: ConvergenceWarning: Objective did not converge. You might want to increase the number of iterations, check the scale of the features or consider increasing regularisation. Duality gap: 1.339e+10, tolerance: 2.424e+08\n",
      "  model = cd_fast.enet_coordinate_descent(\n",
      "/Users/mattwoolf/opt/anaconda3/lib/python3.8/site-packages/sklearn/linear_model/_coordinate_descent.py:631: ConvergenceWarning: Objective did not converge. You might want to increase the number of iterations, check the scale of the features or consider increasing regularisation. Duality gap: 8.173e+09, tolerance: 2.219e+08\n",
      "  model = cd_fast.enet_coordinate_descent(\n",
      "/Users/mattwoolf/opt/anaconda3/lib/python3.8/site-packages/sklearn/linear_model/_coordinate_descent.py:631: ConvergenceWarning: Objective did not converge. You might want to increase the number of iterations, check the scale of the features or consider increasing regularisation. Duality gap: 1.018e+10, tolerance: 2.418e+08\n",
      "  model = cd_fast.enet_coordinate_descent(\n",
      "/Users/mattwoolf/opt/anaconda3/lib/python3.8/site-packages/sklearn/linear_model/_coordinate_descent.py:631: ConvergenceWarning: Objective did not converge. You might want to increase the number of iterations, check the scale of the features or consider increasing regularisation. Duality gap: 8.968e+09, tolerance: 2.504e+08\n",
      "  model = cd_fast.enet_coordinate_descent(\n",
      "/Users/mattwoolf/opt/anaconda3/lib/python3.8/site-packages/sklearn/linear_model/_coordinate_descent.py:631: ConvergenceWarning: Objective did not converge. You might want to increase the number of iterations, check the scale of the features or consider increasing regularisation. Duality gap: 9.942e+09, tolerance: 2.296e+08\n",
      "  model = cd_fast.enet_coordinate_descent(\n",
      "/Users/mattwoolf/opt/anaconda3/lib/python3.8/site-packages/sklearn/linear_model/_coordinate_descent.py:631: ConvergenceWarning: Objective did not converge. You might want to increase the number of iterations, check the scale of the features or consider increasing regularisation. Duality gap: 9.210e+09, tolerance: 2.393e+08\n",
      "  model = cd_fast.enet_coordinate_descent(\n",
      "/Users/mattwoolf/opt/anaconda3/lib/python3.8/site-packages/sklearn/linear_model/_coordinate_descent.py:631: ConvergenceWarning: Objective did not converge. You might want to increase the number of iterations, check the scale of the features or consider increasing regularisation. Duality gap: 8.649e+09, tolerance: 2.319e+08\n",
      "  model = cd_fast.enet_coordinate_descent(\n",
      "/Users/mattwoolf/opt/anaconda3/lib/python3.8/site-packages/sklearn/linear_model/_coordinate_descent.py:631: ConvergenceWarning: Objective did not converge. You might want to increase the number of iterations, check the scale of the features or consider increasing regularisation. Duality gap: 1.307e+10, tolerance: 2.612e+08\n",
      "  model = cd_fast.enet_coordinate_descent(\n",
      "/Users/mattwoolf/opt/anaconda3/lib/python3.8/site-packages/sklearn/linear_model/_coordinate_descent.py:631: ConvergenceWarning: Objective did not converge. You might want to increase the number of iterations, check the scale of the features or consider increasing regularisation. Duality gap: 1.067e+10, tolerance: 2.397e+08\n",
      "  model = cd_fast.enet_coordinate_descent(\n",
      "/Users/mattwoolf/opt/anaconda3/lib/python3.8/site-packages/sklearn/linear_model/_coordinate_descent.py:631: ConvergenceWarning: Objective did not converge. You might want to increase the number of iterations, check the scale of the features or consider increasing regularisation. Duality gap: 1.236e+10, tolerance: 2.468e+08\n",
      "  model = cd_fast.enet_coordinate_descent(\n",
      "/Users/mattwoolf/opt/anaconda3/lib/python3.8/site-packages/sklearn/linear_model/_coordinate_descent.py:631: ConvergenceWarning: Objective did not converge. You might want to increase the number of iterations, check the scale of the features or consider increasing regularisation. Duality gap: 8.245e+09, tolerance: 2.034e+08\n",
      "  model = cd_fast.enet_coordinate_descent(\n"
     ]
    },
    {
     "name": "stdout",
     "output_type": "stream",
     "text": [
      "Average R-squared score: 0.5998425889388569\n"
     ]
    },
    {
     "name": "stderr",
     "output_type": "stream",
     "text": [
      "/Users/mattwoolf/opt/anaconda3/lib/python3.8/site-packages/sklearn/linear_model/_coordinate_descent.py:631: ConvergenceWarning: Objective did not converge. You might want to increase the number of iterations, check the scale of the features or consider increasing regularisation. Duality gap: 9.070e+09, tolerance: 2.637e+08\n",
      "  model = cd_fast.enet_coordinate_descent(\n",
      "/Users/mattwoolf/opt/anaconda3/lib/python3.8/site-packages/sklearn/linear_model/_coordinate_descent.py:631: ConvergenceWarning: Objective did not converge. You might want to increase the number of iterations, check the scale of the features or consider increasing regularisation. Duality gap: 1.088e+10, tolerance: 2.581e+08\n",
      "  model = cd_fast.enet_coordinate_descent(\n"
     ]
    }
   ],
   "source": [
    "from sklearn.linear_model import Lasso\n",
    "\n",
    "# Split the data into training and test sets\n",
    "train_data, test_data = train_test_split(data, test_size=0.2, random_state=42)\n",
    "\n",
    "# Define the predictor and response variables\n",
    "X_train = train_data.drop('SalePrice', axis=1)\n",
    "y_train = train_data['SalePrice'].values\n",
    "\n",
    "\n",
    "X_test = test_data.drop('SalePrice', axis=1)\n",
    "y_test = test_data['SalePrice'].values\n",
    "\n",
    "# Define the linear regression model\n",
    "lasso = Lasso(alpha=1.0)\n",
    "\n",
    "# Define the cross-validation scheme\n",
    "cv = RepeatedKFold(n_splits=5, n_repeats=3, random_state=42)\n",
    "\n",
    "# Calculate the R-squared score using cross-validation\n",
    "scores = cross_val_score(lasso, X_test, y_test, cv=cv, scoring='r2')\n",
    "\n",
    "# Print the average R-squared score across all cross-validation folds\n",
    "print(f'Average R-squared score: {scores.mean()}')"
   ]
  },
  {
   "cell_type": "code",
   "execution_count": null,
   "id": "058f4363",
   "metadata": {},
   "outputs": [],
   "source": []
  }
 ],
 "metadata": {
  "kernelspec": {
   "display_name": "Python 3",
   "language": "python",
   "name": "python3"
  },
  "language_info": {
   "codemirror_mode": {
    "name": "ipython",
    "version": 3
   },
   "file_extension": ".py",
   "mimetype": "text/x-python",
   "name": "python",
   "nbconvert_exporter": "python",
   "pygments_lexer": "ipython3",
   "version": "3.8.8"
  }
 },
 "nbformat": 4,
 "nbformat_minor": 5
}
