{
 "cells": [
  {
   "cell_type": "code",
   "execution_count": 1,
   "id": "d256ea46",
   "metadata": {},
   "outputs": [
    {
     "data": {
      "application/javascript": [
       "\n",
       "            setTimeout(function() {\n",
       "                var nbb_cell_id = 1;\n",
       "                var nbb_unformatted_code = \"import matplotlib.pyplot as plt\\nimport seaborn as sns\\nimport numpy as np\\nimport pandas as pd\\nfrom sklearn.ensemble import GradientBoostingRegressor, GradientBoostingClassifier\\nfrom sklearn.preprocessing import LabelEncoder\\n\\n\\n# this extension properly formats a cell after it is run\\n# !{sys.executable} -m pip install nb_black # UNCOMMENT TO INSTALL\\n%load_ext nb_black \\n%matplotlib inline\\n\\n# Set the maximum number of rows to 200\\npd.set_option(\\\"display.max_rows\\\", 200)\\n\\n# Set the maximum number of columns to 200\\npd.set_option('display.max_columns', 200)\";\n",
       "                var nbb_formatted_code = \"import matplotlib.pyplot as plt\\nimport seaborn as sns\\nimport numpy as np\\nimport pandas as pd\\nfrom sklearn.ensemble import GradientBoostingRegressor, GradientBoostingClassifier\\nfrom sklearn.preprocessing import LabelEncoder\\n\\n\\n# this extension properly formats a cell after it is run\\n# !{sys.executable} -m pip install nb_black # UNCOMMENT TO INSTALL\\n%load_ext nb_black\\n%matplotlib inline\\n\\n# Set the maximum number of rows to 200\\npd.set_option(\\\"display.max_rows\\\", 200)\\n\\n# Set the maximum number of columns to 200\\npd.set_option(\\\"display.max_columns\\\", 200)\";\n",
       "                var nbb_cells = Jupyter.notebook.get_cells();\n",
       "                for (var i = 0; i < nbb_cells.length; ++i) {\n",
       "                    if (nbb_cells[i].input_prompt_number == nbb_cell_id) {\n",
       "                        if (nbb_cells[i].get_text() == nbb_unformatted_code) {\n",
       "                             nbb_cells[i].set_text(nbb_formatted_code);\n",
       "                        }\n",
       "                        break;\n",
       "                    }\n",
       "                }\n",
       "            }, 500);\n",
       "            "
      ],
      "text/plain": [
       "<IPython.core.display.Javascript object>"
      ]
     },
     "metadata": {},
     "output_type": "display_data"
    }
   ],
   "source": [
    "import matplotlib.pyplot as plt\n",
    "import seaborn as sns\n",
    "import numpy as np\n",
    "import pandas as pd\n",
    "from sklearn.ensemble import GradientBoostingRegressor, GradientBoostingClassifier\n",
    "from sklearn.preprocessing import LabelEncoder\n",
    "from sklearn.model_selection import train_test_split\n",
    "from sklearn.model_selection import KFold\n",
    "\n",
    "\n",
    "# this extension properly formats a cell after it is run\n",
    "# !{sys.executable} -m pip install nb_black # UNCOMMENT TO INSTALL\n",
    "%load_ext nb_black\n",
    "%matplotlib inline\n",
    "\n",
    "# Set the maximum number of rows to 200\n",
    "pd.set_option(\"display.max_rows\", 200)\n",
    "\n",
    "# Set the maximum number of columns to 200\n",
    "pd.set_option(\"display.max_columns\", 200)"
   ]
  },
  {
   "cell_type": "code",
   "execution_count": null,
   "id": "61a2c439",
   "metadata": {},
   "outputs": [],
   "source": [
    "ames_train = pd.read_csv('data/strat_train_set.csv')\n",
    "ames_test = pd.read_csv('data/strat_test_set.csv')"
   ]
  },
  {
   "cell_type": "code",
   "execution_count": null,
   "id": "5484d176",
   "metadata": {},
   "outputs": [],
   "source": [
    "ames_data.colums"
   ]
  },
  {
   "cell_type": "code",
   "execution_count": null,
   "id": "3e8217b2",
   "metadata": {},
   "outputs": [],
   "source": [
    "# Reset the index of wage dataframe\n",
    "ames_data.shape[0]"
   ]
  },
  {
   "cell_type": "code",
   "execution_count": null,
   "id": "a28a9e7a",
   "metadata": {},
   "outputs": [],
   "source": [
    "ames_train"
   ]
  },
  {
   "cell_type": "markdown",
   "id": "0e2b43e2",
   "metadata": {},
   "source": [
    "## Fitting GradientBoostingRegression"
   ]
  },
  {
   "cell_type": "code",
   "execution_count": null,
   "id": "a9846ba4",
   "metadata": {},
   "outputs": [],
   "source": [
    "gbr = GradientBoostingRegressor()\n",
    "kf = KFold(n_splits=5, shuffle=True, random_state=42)\n",
    "X = ames_data.loc[:, ames_data.columns != \"column_to_exclude\"]\n",
    "y = ames_data.loc[:, ames_data.columns == \"Solumn to include\"]\n",
    "X_train, X_test, y_train, y_test = train_test_split(X, y, test_size=0.3)"
   ]
  },
  {
   "cell_type": "code",
   "execution_count": null,
   "id": "eeeaf7ee",
   "metadata": {},
   "outputs": [],
   "source": [
    "# FIT\n",
    "gbr.fit(X,y)"
   ]
  },
  {
   "cell_type": "code",
   "execution_count": null,
   "id": "8529ea27",
   "metadata": {},
   "outputs": [],
   "source": [
    "# k-fold cross-validation\n",
    "\n",
    "\n",
    "# Step 3: Create the Gradient Boosted Regression model and evaluate it using k-fold cross-validation\n",
    "from sklearn.ensemble import GradientBoostingRegressor\n",
    "from sklearn.metrics import mean_squared_error, r2_score\n",
    "\n",
    "mse_scores = []\n",
    "r2_scores = []\n",
    "\n",
    "for train_index, test_index in kf.split(X):\n",
    "    X_train, X_test = X.iloc[train_index], X.iloc[test_index]\n",
    "    y_train, y_test = y.iloc[train_index], y.iloc[test_index]\n",
    "\n",
    "    model = GradientBoostingRegressor(n_estimators=100, learning_rate=0.1, max_depth=3, random_state=42)\n",
    "    model.fit(X_train, y_train)\n",
    "\n",
    "    y_pred = model.predict(X_test)\n",
    "    mse = mean_squared_error(y_test, y_pred)\n",
    "    r2 = r2_score(y_test, y_pred)\n",
    "\n",
    "    mse_scores.append(mse)\n",
    "    r2_scores.append(r2)\n",
    "\n",
    "print(\"MSE scores:\", mse_scores)\n",
    "print(\"R-squared scores:\", r2_scores)\n"
   ]
  }
 ],
 "metadata": {
  "kernelspec": {
   "display_name": "Python 3 (ipykernel)",
   "language": "python",
   "name": "python3"
  },
  "language_info": {
   "codemirror_mode": {
    "name": "ipython",
    "version": 3
   },
   "file_extension": ".py",
   "mimetype": "text/x-python",
   "name": "python",
   "nbconvert_exporter": "python",
   "pygments_lexer": "ipython3",
   "version": "3.9.12"
  }
 },
 "nbformat": 4,
 "nbformat_minor": 5
}
