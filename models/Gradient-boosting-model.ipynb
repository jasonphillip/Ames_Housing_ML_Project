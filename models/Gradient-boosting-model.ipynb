{
 "cells": [
  {
   "cell_type": "markdown",
   "id": "a7a28c41",
   "metadata": {},
   "source": [
    "## Load Packages and Data"
   ]
  },
  {
   "cell_type": "code",
   "execution_count": 1,
   "id": "d256ea46",
   "metadata": {},
   "outputs": [
    {
     "data": {
      "application/javascript": [
       "\n",
       "            setTimeout(function() {\n",
       "                var nbb_cell_id = 1;\n",
       "                var nbb_unformatted_code = \"import matplotlib.pyplot as plt\\nimport matplotlib.ticker as ticker\\nimport seaborn as sns\\nimport numpy as np\\nimport pandas as pd\\nimport seaborn as sns\\n\\nfrom sklearn.ensemble import GradientBoostingRegressor, GradientBoostingClassifier\\nfrom sklearn.preprocessing import LabelEncoder\\nfrom sklearn.model_selection import train_test_split\\nfrom sklearn.model_selection import KFold\\nfrom sklearn.metrics import mean_squared_error, r2_score, mean_absolute_error\\nfrom sklearn.model_selection import GridSearchCV\\nfrom sklearn.model_selection import cross_val_score\\nfrom sklearn.model_selection import validation_curve\\n\\nfrom tqdm import tqdm\\n\\n\\n# this extension properly formats a cell after it is run\\n# !{sys.executable} -m pip install nb_black # UNCOMMENT TO INSTALL\\n%load_ext nb_black\\n%matplotlib inline\\n\\n# Set the maximum number of rows to 200\\npd.set_option(\\\"display.max_rows\\\", 200)\\n\\n# Set the maximum number of columns to 200\\npd.set_option(\\\"display.max_columns\\\", 200)\\n\\nnp.random.seed(42)\";\n",
       "                var nbb_formatted_code = \"import matplotlib.pyplot as plt\\nimport matplotlib.ticker as ticker\\nimport seaborn as sns\\nimport numpy as np\\nimport pandas as pd\\nimport seaborn as sns\\n\\nfrom sklearn.ensemble import GradientBoostingRegressor, GradientBoostingClassifier\\nfrom sklearn.preprocessing import LabelEncoder\\nfrom sklearn.model_selection import train_test_split\\nfrom sklearn.model_selection import KFold\\nfrom sklearn.metrics import mean_squared_error, r2_score, mean_absolute_error\\nfrom sklearn.model_selection import GridSearchCV\\nfrom sklearn.model_selection import cross_val_score\\nfrom sklearn.model_selection import validation_curve\\n\\nfrom tqdm import tqdm\\n\\n\\n# this extension properly formats a cell after it is run\\n# !{sys.executable} -m pip install nb_black # UNCOMMENT TO INSTALL\\n%load_ext nb_black\\n%matplotlib inline\\n\\n# Set the maximum number of rows to 200\\npd.set_option(\\\"display.max_rows\\\", 200)\\n\\n# Set the maximum number of columns to 200\\npd.set_option(\\\"display.max_columns\\\", 200)\\n\\nnp.random.seed(42)\";\n",
       "                var nbb_cells = Jupyter.notebook.get_cells();\n",
       "                for (var i = 0; i < nbb_cells.length; ++i) {\n",
       "                    if (nbb_cells[i].input_prompt_number == nbb_cell_id) {\n",
       "                        if (nbb_cells[i].get_text() == nbb_unformatted_code) {\n",
       "                             nbb_cells[i].set_text(nbb_formatted_code);\n",
       "                        }\n",
       "                        break;\n",
       "                    }\n",
       "                }\n",
       "            }, 500);\n",
       "            "
      ],
      "text/plain": [
       "<IPython.core.display.Javascript object>"
      ]
     },
     "metadata": {},
     "output_type": "display_data"
    }
   ],
   "source": [
    "import matplotlib.pyplot as plt\n",
    "import matplotlib.ticker as ticker\n",
    "import seaborn as sns\n",
    "import numpy as np\n",
    "import pandas as pd\n",
    "import seaborn as sns\n",
    "\n",
    "from sklearn.ensemble import GradientBoostingRegressor, GradientBoostingClassifier\n",
    "from sklearn.preprocessing import LabelEncoder\n",
    "from sklearn.model_selection import train_test_split\n",
    "from sklearn.model_selection import KFold\n",
    "from sklearn.metrics import mean_squared_error, r2_score, mean_absolute_error\n",
    "from sklearn.model_selection import GridSearchCV\n",
    "from sklearn.model_selection import cross_val_score\n",
    "from sklearn.model_selection import validation_curve\n",
    "\n",
    "from tqdm import tqdm\n",
    "\n",
    "\n",
    "# this extension properly formats a cell after it is run\n",
    "# !{sys.executable} -m pip install nb_black # UNCOMMENT TO INSTALL\n",
    "%load_ext nb_black\n",
    "%matplotlib inline\n",
    "\n",
    "# Set the maximum number of rows to 200\n",
    "pd.set_option(\"display.max_rows\", 200)\n",
    "\n",
    "# Set the maximum number of columns to 200\n",
    "pd.set_option(\"display.max_columns\", 200)\n",
    "\n",
    "np.random.seed(42)"
   ]
  },
  {
   "cell_type": "code",
   "execution_count": 2,
   "id": "61a2c439",
   "metadata": {},
   "outputs": [
    {
     "data": {
      "application/javascript": [
       "\n",
       "            setTimeout(function() {\n",
       "                var nbb_cell_id = 2;\n",
       "                var nbb_unformatted_code = \"# Load Data\\nhousing_raw = pd.read_csv(\\\"../data/Ames_Housing_Price_Data.csv\\\")\\n\\nhousing_clean = pd.read_csv(\\\"../data/housing_cleaned.csv\\\")  # All features included\\n\\nhousing_corr = pd.read_csv(\\n    \\\"../data/housing_corr.csv\\\"\\n)  # 13 features removed because of colinearity\";\n",
       "                var nbb_formatted_code = \"# Load Data\\nhousing_raw = pd.read_csv(\\\"../data/Ames_Housing_Price_Data.csv\\\")\\n\\nhousing_clean = pd.read_csv(\\\"../data/housing_cleaned.csv\\\")  # All features included\\n\\nhousing_corr = pd.read_csv(\\n    \\\"../data/housing_corr.csv\\\"\\n)  # 13 features removed because of colinearity\";\n",
       "                var nbb_cells = Jupyter.notebook.get_cells();\n",
       "                for (var i = 0; i < nbb_cells.length; ++i) {\n",
       "                    if (nbb_cells[i].input_prompt_number == nbb_cell_id) {\n",
       "                        if (nbb_cells[i].get_text() == nbb_unformatted_code) {\n",
       "                             nbb_cells[i].set_text(nbb_formatted_code);\n",
       "                        }\n",
       "                        break;\n",
       "                    }\n",
       "                }\n",
       "            }, 500);\n",
       "            "
      ],
      "text/plain": [
       "<IPython.core.display.Javascript object>"
      ]
     },
     "metadata": {},
     "output_type": "display_data"
    }
   ],
   "source": [
    "# Load Data\n",
    "housing_raw = pd.read_csv(\"../data/Ames_Housing_Price_Data.csv\")\n",
    "\n",
    "housing_clean = pd.read_csv(\"../data/housing_cleaned.csv\")  # All features included\n",
    "\n",
    "housing_corr = pd.read_csv(\n",
    "    \"../data/housing_corr.csv\"\n",
    ")  # 13 features removed because of colinearity"
   ]
  },
  {
   "cell_type": "code",
   "execution_count": 3,
   "id": "1bf159a1",
   "metadata": {},
   "outputs": [
    {
     "data": {
      "text/plain": [
       "(2580, 82)"
      ]
     },
     "execution_count": 3,
     "metadata": {},
     "output_type": "execute_result"
    },
    {
     "data": {
      "application/javascript": [
       "\n",
       "            setTimeout(function() {\n",
       "                var nbb_cell_id = 3;\n",
       "                var nbb_unformatted_code = \"# Raw Data\\nhousing_raw.shape\";\n",
       "                var nbb_formatted_code = \"# Raw Data\\nhousing_raw.shape\";\n",
       "                var nbb_cells = Jupyter.notebook.get_cells();\n",
       "                for (var i = 0; i < nbb_cells.length; ++i) {\n",
       "                    if (nbb_cells[i].input_prompt_number == nbb_cell_id) {\n",
       "                        if (nbb_cells[i].get_text() == nbb_unformatted_code) {\n",
       "                             nbb_cells[i].set_text(nbb_formatted_code);\n",
       "                        }\n",
       "                        break;\n",
       "                    }\n",
       "                }\n",
       "            }, 500);\n",
       "            "
      ],
      "text/plain": [
       "<IPython.core.display.Javascript object>"
      ]
     },
     "metadata": {},
     "output_type": "display_data"
    }
   ],
   "source": [
    "# Raw Data\n",
    "housing_raw.shape"
   ]
  },
  {
   "cell_type": "code",
   "execution_count": 4,
   "id": "9a75e973",
   "metadata": {},
   "outputs": [
    {
     "data": {
      "text/plain": [
       "(2559, 83)"
      ]
     },
     "execution_count": 4,
     "metadata": {},
     "output_type": "execute_result"
    },
    {
     "data": {
      "application/javascript": [
       "\n",
       "            setTimeout(function() {\n",
       "                var nbb_cell_id = 4;\n",
       "                var nbb_unformatted_code = \"# Cleaned Data\\nhousing_clean.shape\";\n",
       "                var nbb_formatted_code = \"# Cleaned Data\\nhousing_clean.shape\";\n",
       "                var nbb_cells = Jupyter.notebook.get_cells();\n",
       "                for (var i = 0; i < nbb_cells.length; ++i) {\n",
       "                    if (nbb_cells[i].input_prompt_number == nbb_cell_id) {\n",
       "                        if (nbb_cells[i].get_text() == nbb_unformatted_code) {\n",
       "                             nbb_cells[i].set_text(nbb_formatted_code);\n",
       "                        }\n",
       "                        break;\n",
       "                    }\n",
       "                }\n",
       "            }, 500);\n",
       "            "
      ],
      "text/plain": [
       "<IPython.core.display.Javascript object>"
      ]
     },
     "metadata": {},
     "output_type": "display_data"
    }
   ],
   "source": [
    "# Cleaned Data\n",
    "housing_clean.shape"
   ]
  },
  {
   "cell_type": "code",
   "execution_count": 5,
   "id": "b6b49fc5",
   "metadata": {
    "scrolled": false
   },
   "outputs": [
    {
     "data": {
      "text/plain": [
       "(2558, 65)"
      ]
     },
     "execution_count": 5,
     "metadata": {},
     "output_type": "execute_result"
    },
    {
     "data": {
      "application/javascript": [
       "\n",
       "            setTimeout(function() {\n",
       "                var nbb_cell_id = 5;\n",
       "                var nbb_unformatted_code = \"# 13 features removed due to colinearity\\nhousing_corr.shape\";\n",
       "                var nbb_formatted_code = \"# 13 features removed due to colinearity\\nhousing_corr.shape\";\n",
       "                var nbb_cells = Jupyter.notebook.get_cells();\n",
       "                for (var i = 0; i < nbb_cells.length; ++i) {\n",
       "                    if (nbb_cells[i].input_prompt_number == nbb_cell_id) {\n",
       "                        if (nbb_cells[i].get_text() == nbb_unformatted_code) {\n",
       "                             nbb_cells[i].set_text(nbb_formatted_code);\n",
       "                        }\n",
       "                        break;\n",
       "                    }\n",
       "                }\n",
       "            }, 500);\n",
       "            "
      ],
      "text/plain": [
       "<IPython.core.display.Javascript object>"
      ]
     },
     "metadata": {},
     "output_type": "display_data"
    }
   ],
   "source": [
    "# 13 features removed due to colinearity\n",
    "housing_corr.shape"
   ]
  },
  {
   "cell_type": "code",
   "execution_count": 6,
   "id": "8f55aaf3",
   "metadata": {},
   "outputs": [
    {
     "name": "stdout",
     "output_type": "stream",
     "text": [
      "Removed  20  colinear features: \n",
      "\n",
      " {'GarageYrBlt', 'MSSubClass', 'ExterQual', 'FullBath', 'OpenPorchSF', 'GarageArea', 'BsmtFinType1', '2ndFlrSF', 'TotalPorchSF', 'BsmtFinType2', 'YearBuilt', 'GarageCond', 'WoodDeckSF', '1stFlrSF', 'YearRemodAdd', 'TotalBsmtSF', 'EnclosedPorch', 'ScreenPorch', 'GrLivArea', 'FireplaceQu'}\n"
     ]
    },
    {
     "data": {
      "application/javascript": [
       "\n",
       "            setTimeout(function() {\n",
       "                var nbb_cell_id = 6;\n",
       "                var nbb_unformatted_code = \"# Features Removed for Correlation Issues\\nset1 = set(housing_raw.columns)\\nset2 = set(housing_clean.columns)\\nset3 = set(housing_corr.columns)\\n\\nprint(\\n    \\\"Removed \\\",\\n    len(set2.difference(set3)),\\n    \\\" colinear features: \\\\n\\\\n\\\",\\n    set2.difference(set3),\\n)\";\n",
       "                var nbb_formatted_code = \"# Features Removed for Correlation Issues\\nset1 = set(housing_raw.columns)\\nset2 = set(housing_clean.columns)\\nset3 = set(housing_corr.columns)\\n\\nprint(\\n    \\\"Removed \\\",\\n    len(set2.difference(set3)),\\n    \\\" colinear features: \\\\n\\\\n\\\",\\n    set2.difference(set3),\\n)\";\n",
       "                var nbb_cells = Jupyter.notebook.get_cells();\n",
       "                for (var i = 0; i < nbb_cells.length; ++i) {\n",
       "                    if (nbb_cells[i].input_prompt_number == nbb_cell_id) {\n",
       "                        if (nbb_cells[i].get_text() == nbb_unformatted_code) {\n",
       "                             nbb_cells[i].set_text(nbb_formatted_code);\n",
       "                        }\n",
       "                        break;\n",
       "                    }\n",
       "                }\n",
       "            }, 500);\n",
       "            "
      ],
      "text/plain": [
       "<IPython.core.display.Javascript object>"
      ]
     },
     "metadata": {},
     "output_type": "display_data"
    }
   ],
   "source": [
    "# Features Removed for Correlation Issues\n",
    "set1 = set(housing_raw.columns)\n",
    "set2 = set(housing_clean.columns)\n",
    "set3 = set(housing_corr.columns)\n",
    "\n",
    "print(\n",
    "    \"Removed \",\n",
    "    len(set2.difference(set3)),\n",
    "    \" colinear features: \\n\\n\",\n",
    "    set2.difference(set3),\n",
    ")"
   ]
  },
  {
   "cell_type": "markdown",
   "id": "73f4eb2e",
   "metadata": {},
   "source": [
    "#### Small Pre-Processing"
   ]
  },
  {
   "cell_type": "code",
   "execution_count": 7,
   "id": "03dd6cd6",
   "metadata": {},
   "outputs": [
    {
     "data": {
      "application/javascript": [
       "\n",
       "            setTimeout(function() {\n",
       "                var nbb_cell_id = 7;\n",
       "                var nbb_unformatted_code = \"# Removing PID column, as it is a unique identifier per row\\nhousing_corr = housing_corr.drop(\\\"PID\\\", axis=1)\\nhousing_clean = housing_clean.drop(\\\"PID\\\", axis=1)\";\n",
       "                var nbb_formatted_code = \"# Removing PID column, as it is a unique identifier per row\\nhousing_corr = housing_corr.drop(\\\"PID\\\", axis=1)\\nhousing_clean = housing_clean.drop(\\\"PID\\\", axis=1)\";\n",
       "                var nbb_cells = Jupyter.notebook.get_cells();\n",
       "                for (var i = 0; i < nbb_cells.length; ++i) {\n",
       "                    if (nbb_cells[i].input_prompt_number == nbb_cell_id) {\n",
       "                        if (nbb_cells[i].get_text() == nbb_unformatted_code) {\n",
       "                             nbb_cells[i].set_text(nbb_formatted_code);\n",
       "                        }\n",
       "                        break;\n",
       "                    }\n",
       "                }\n",
       "            }, 500);\n",
       "            "
      ],
      "text/plain": [
       "<IPython.core.display.Javascript object>"
      ]
     },
     "metadata": {},
     "output_type": "display_data"
    }
   ],
   "source": [
    "# Removing PID column, as it is a unique identifier per row\n",
    "housing_corr = housing_corr.drop(\"PID\", axis=1)\n",
    "housing_clean = housing_clean.drop(\"PID\", axis=1)"
   ]
  },
  {
   "cell_type": "markdown",
   "id": "8d5af161",
   "metadata": {},
   "source": [
    "## Label Encoding for Categorical Values"
   ]
  },
  {
   "cell_type": "code",
   "execution_count": 8,
   "id": "1880ec0d",
   "metadata": {
    "scrolled": true
   },
   "outputs": [
    {
     "data": {
      "text/plain": [
       "SalePrice            int64\n",
       "MSZoning            object\n",
       "LotFrontage        float64\n",
       "LotArea              int64\n",
       "Street              object\n",
       "Alley               object\n",
       "LotShape            object\n",
       "LandContour         object\n",
       "Utilities           object\n",
       "LotConfig           object\n",
       "LandSlope           object\n",
       "Neighborhood        object\n",
       "Condition1          object\n",
       "Condition2          object\n",
       "BldgType            object\n",
       "HouseStyle          object\n",
       "OverallQual          int64\n",
       "OverallCond          int64\n",
       "RoofStyle           object\n",
       "RoofMatl            object\n",
       "Exterior1st         object\n",
       "Exterior2nd         object\n",
       "MasVnrType          object\n",
       "MasVnrArea         float64\n",
       "ExterCond            int64\n",
       "Foundation          object\n",
       "BsmtQual             int64\n",
       "BsmtCond             int64\n",
       "BsmtExposure         int64\n",
       "BsmtFinSF1         float64\n",
       "BsmtFinSF2         float64\n",
       "BsmtUnfSF          float64\n",
       "Heating             object\n",
       "HeatingQC            int64\n",
       "CentralAir          object\n",
       "Electrical          object\n",
       "BsmtFullBath       float64\n",
       "BsmtHalfBath       float64\n",
       "HalfBath             int64\n",
       "BedroomAbvGr         int64\n",
       "KitchenAbvGr         int64\n",
       "KitchenQual          int64\n",
       "TotRmsAbvGrd         int64\n",
       "Functional          object\n",
       "Fireplaces           int64\n",
       "GarageType          object\n",
       "GarageFinish         int64\n",
       "GarageCars         float64\n",
       "GarageQual           int64\n",
       "PavedDrive          object\n",
       "Fence                int64\n",
       "MoSold               int64\n",
       "YrSold               int64\n",
       "SaleType            object\n",
       "SaleCondition       object\n",
       "Age                  int64\n",
       "RemodAge             int64\n",
       "TotalSF            float64\n",
       "Remodeled            int64\n",
       "TotalBath          float64\n",
       "MSSubClass_cat      object\n",
       "Street_type         object\n",
       "Neighborhood_st     object\n",
       "TotalOutdoorSF       int64\n",
       "dtype: object"
      ]
     },
     "execution_count": 8,
     "metadata": {},
     "output_type": "execute_result"
    },
    {
     "data": {
      "application/javascript": [
       "\n",
       "            setTimeout(function() {\n",
       "                var nbb_cell_id = 8;\n",
       "                var nbb_unformatted_code = \"# In order to do regression, I need to turn categorical values into numerical values\\nhousing_corr.dtypes\";\n",
       "                var nbb_formatted_code = \"# In order to do regression, I need to turn categorical values into numerical values\\nhousing_corr.dtypes\";\n",
       "                var nbb_cells = Jupyter.notebook.get_cells();\n",
       "                for (var i = 0; i < nbb_cells.length; ++i) {\n",
       "                    if (nbb_cells[i].input_prompt_number == nbb_cell_id) {\n",
       "                        if (nbb_cells[i].get_text() == nbb_unformatted_code) {\n",
       "                             nbb_cells[i].set_text(nbb_formatted_code);\n",
       "                        }\n",
       "                        break;\n",
       "                    }\n",
       "                }\n",
       "            }, 500);\n",
       "            "
      ],
      "text/plain": [
       "<IPython.core.display.Javascript object>"
      ]
     },
     "metadata": {},
     "output_type": "display_data"
    }
   ],
   "source": [
    "# In order to do regression, I need to turn categorical values into numerical values\n",
    "housing_corr.dtypes"
   ]
  },
  {
   "cell_type": "code",
   "execution_count": 9,
   "id": "ccab4e10",
   "metadata": {},
   "outputs": [
    {
     "data": {
      "application/javascript": [
       "\n",
       "            setTimeout(function() {\n",
       "                var nbb_cell_id = 9;\n",
       "                var nbb_unformatted_code = \"# List categorical columns to be label encoded for train/test\\ncat_cols = housing_corr.select_dtypes(include=[\\\"object\\\"]).columns.tolist()\\ncat_cols2 = housing_clean.select_dtypes(include=[\\\"object\\\"]).columns.tolist()\\n\\n# Create a dictionary to store the label encoded values\\ncat_cols_encoded = {}\\n\\n# Label Encode the categorical columns in both train/test set to values 1,2,3,4 etc.\\nle = LabelEncoder()\\nfor column in cat_cols:\\n    housing_corr[column + \\\"_encoded\\\"] = le.fit_transform(housing_corr[column])\\n    # Store the mapping of original column to encoded column in the dictionary\\n    cat_cols_encoded[column] = column + \\\"_encoded\\\"\\n\\n# Deleting all Object type columns, now that they've been replaced with labelencoded values\\nhousing_corr_drop = housing_corr.select_dtypes(include=\\\"object\\\").columns\\nhousing_corr = housing_corr.drop(housing_corr_drop, axis=1)\\n\\n# Create a dictionary to store the label encoded values\\ncat_cols_encoded2 = {}\\n\\n# Label Encode the categorical columns in both train/test set to values 1,2,3,4 etc.\\nle2 = LabelEncoder()\\nfor column in cat_cols2:\\n    housing_clean[column + \\\"_encoded\\\"] = le.fit_transform(housing_clean[column])\\n    # Store the mapping of original column to encoded column in the dictionary\\n    cat_cols_encoded[column] = column + \\\"_encoded\\\"\\n\\n# Deleting all Object type columns, now that they've been replaced with labelencoded values\\nhousing_corr_drop = housing_clean.select_dtypes(include=\\\"object\\\").columns\\nhousing_clean = housing_clean.drop(housing_corr_drop, axis=1)\";\n",
       "                var nbb_formatted_code = \"# List categorical columns to be label encoded for train/test\\ncat_cols = housing_corr.select_dtypes(include=[\\\"object\\\"]).columns.tolist()\\ncat_cols2 = housing_clean.select_dtypes(include=[\\\"object\\\"]).columns.tolist()\\n\\n# Create a dictionary to store the label encoded values\\ncat_cols_encoded = {}\\n\\n# Label Encode the categorical columns in both train/test set to values 1,2,3,4 etc.\\nle = LabelEncoder()\\nfor column in cat_cols:\\n    housing_corr[column + \\\"_encoded\\\"] = le.fit_transform(housing_corr[column])\\n    # Store the mapping of original column to encoded column in the dictionary\\n    cat_cols_encoded[column] = column + \\\"_encoded\\\"\\n\\n# Deleting all Object type columns, now that they've been replaced with labelencoded values\\nhousing_corr_drop = housing_corr.select_dtypes(include=\\\"object\\\").columns\\nhousing_corr = housing_corr.drop(housing_corr_drop, axis=1)\\n\\n# Create a dictionary to store the label encoded values\\ncat_cols_encoded2 = {}\\n\\n# Label Encode the categorical columns in both train/test set to values 1,2,3,4 etc.\\nle2 = LabelEncoder()\\nfor column in cat_cols2:\\n    housing_clean[column + \\\"_encoded\\\"] = le.fit_transform(housing_clean[column])\\n    # Store the mapping of original column to encoded column in the dictionary\\n    cat_cols_encoded[column] = column + \\\"_encoded\\\"\\n\\n# Deleting all Object type columns, now that they've been replaced with labelencoded values\\nhousing_corr_drop = housing_clean.select_dtypes(include=\\\"object\\\").columns\\nhousing_clean = housing_clean.drop(housing_corr_drop, axis=1)\";\n",
       "                var nbb_cells = Jupyter.notebook.get_cells();\n",
       "                for (var i = 0; i < nbb_cells.length; ++i) {\n",
       "                    if (nbb_cells[i].input_prompt_number == nbb_cell_id) {\n",
       "                        if (nbb_cells[i].get_text() == nbb_unformatted_code) {\n",
       "                             nbb_cells[i].set_text(nbb_formatted_code);\n",
       "                        }\n",
       "                        break;\n",
       "                    }\n",
       "                }\n",
       "            }, 500);\n",
       "            "
      ],
      "text/plain": [
       "<IPython.core.display.Javascript object>"
      ]
     },
     "metadata": {},
     "output_type": "display_data"
    }
   ],
   "source": [
    "# List categorical columns to be label encoded for train/test\n",
    "cat_cols = housing_corr.select_dtypes(include=[\"object\"]).columns.tolist()\n",
    "cat_cols2 = housing_clean.select_dtypes(include=[\"object\"]).columns.tolist()\n",
    "\n",
    "# Create a dictionary to store the label encoded values\n",
    "cat_cols_encoded = {}\n",
    "\n",
    "# Label Encode the categorical columns in both train/test set to values 1,2,3,4 etc.\n",
    "le = LabelEncoder()\n",
    "for column in cat_cols:\n",
    "    housing_corr[column + \"_encoded\"] = le.fit_transform(housing_corr[column])\n",
    "    # Store the mapping of original column to encoded column in the dictionary\n",
    "    cat_cols_encoded[column] = column + \"_encoded\"\n",
    "\n",
    "# Deleting all Object type columns, now that they've been replaced with labelencoded values\n",
    "housing_corr_drop = housing_corr.select_dtypes(include=\"object\").columns\n",
    "housing_corr = housing_corr.drop(housing_corr_drop, axis=1)\n",
    "\n",
    "# Create a dictionary to store the label encoded values\n",
    "cat_cols_encoded2 = {}\n",
    "\n",
    "# Label Encode the categorical columns in both train/test set to values 1,2,3,4 etc.\n",
    "le2 = LabelEncoder()\n",
    "for column in cat_cols2:\n",
    "    housing_clean[column + \"_encoded\"] = le.fit_transform(housing_clean[column])\n",
    "    # Store the mapping of original column to encoded column in the dictionary\n",
    "    cat_cols_encoded[column] = column + \"_encoded\"\n",
    "\n",
    "# Deleting all Object type columns, now that they've been replaced with labelencoded values\n",
    "housing_corr_drop = housing_clean.select_dtypes(include=\"object\").columns\n",
    "housing_clean = housing_clean.drop(housing_corr_drop, axis=1)\n"
   ]
  },
  {
   "cell_type": "code",
   "execution_count": 10,
   "id": "7451e094",
   "metadata": {
    "scrolled": true
   },
   "outputs": [
    {
     "name": "stdout",
     "output_type": "stream",
     "text": [
      "(2558, 64) SalePrice                    int64\n",
      "LotFrontage                float64\n",
      "LotArea                      int64\n",
      "OverallQual                  int64\n",
      "OverallCond                  int64\n",
      "MasVnrArea                 float64\n",
      "ExterCond                    int64\n",
      "BsmtQual                     int64\n",
      "BsmtCond                     int64\n",
      "BsmtExposure                 int64\n",
      "BsmtFinSF1                 float64\n",
      "BsmtFinSF2                 float64\n",
      "BsmtUnfSF                  float64\n",
      "HeatingQC                    int64\n",
      "BsmtFullBath               float64\n",
      "BsmtHalfBath               float64\n",
      "HalfBath                     int64\n",
      "BedroomAbvGr                 int64\n",
      "KitchenAbvGr                 int64\n",
      "KitchenQual                  int64\n",
      "TotRmsAbvGrd                 int64\n",
      "Fireplaces                   int64\n",
      "GarageFinish                 int64\n",
      "GarageCars                 float64\n",
      "GarageQual                   int64\n",
      "Fence                        int64\n",
      "MoSold                       int64\n",
      "YrSold                       int64\n",
      "Age                          int64\n",
      "RemodAge                     int64\n",
      "TotalSF                    float64\n",
      "Remodeled                    int64\n",
      "TotalBath                  float64\n",
      "TotalOutdoorSF               int64\n",
      "MSZoning_encoded             int64\n",
      "Street_encoded               int64\n",
      "Alley_encoded                int64\n",
      "LotShape_encoded             int64\n",
      "LandContour_encoded          int64\n",
      "Utilities_encoded            int64\n",
      "LotConfig_encoded            int64\n",
      "LandSlope_encoded            int64\n",
      "Neighborhood_encoded         int64\n",
      "Condition1_encoded           int64\n",
      "Condition2_encoded           int64\n",
      "BldgType_encoded             int64\n",
      "HouseStyle_encoded           int64\n",
      "RoofStyle_encoded            int64\n",
      "RoofMatl_encoded             int64\n",
      "Exterior1st_encoded          int64\n",
      "Exterior2nd_encoded          int64\n",
      "MasVnrType_encoded           int64\n",
      "Foundation_encoded           int64\n",
      "Heating_encoded              int64\n",
      "CentralAir_encoded           int64\n",
      "Electrical_encoded           int64\n",
      "Functional_encoded           int64\n",
      "GarageType_encoded           int64\n",
      "PavedDrive_encoded           int64\n",
      "SaleType_encoded             int64\n",
      "SaleCondition_encoded        int64\n",
      "MSSubClass_cat_encoded       int64\n",
      "Street_type_encoded          int64\n",
      "Neighborhood_st_encoded      int64\n",
      "dtype: object\n",
      "(2559, 82) GrLivArea                   int64\n",
      "SalePrice                   int64\n",
      "MSSubClass                  int64\n",
      "LotFrontage               float64\n",
      "LotArea                     int64\n",
      "OverallQual                 int64\n",
      "OverallCond                 int64\n",
      "YearBuilt                   int64\n",
      "YearRemodAdd                int64\n",
      "MasVnrArea                float64\n",
      "BsmtFinSF1                float64\n",
      "BsmtFinSF2                float64\n",
      "BsmtUnfSF                 float64\n",
      "TotalBsmtSF               float64\n",
      "1stFlrSF                    int64\n",
      "2ndFlrSF                    int64\n",
      "BsmtFullBath              float64\n",
      "BsmtHalfBath              float64\n",
      "FullBath                    int64\n",
      "HalfBath                    int64\n",
      "BedroomAbvGr                int64\n",
      "KitchenAbvGr                int64\n",
      "TotRmsAbvGrd                int64\n",
      "Fireplaces                  int64\n",
      "GarageYrBlt               float64\n",
      "GarageCars                float64\n",
      "GarageArea                float64\n",
      "WoodDeckSF                  int64\n",
      "OpenPorchSF                 int64\n",
      "EnclosedPorch               int64\n",
      "ScreenPorch                 int64\n",
      "MoSold                      int64\n",
      "YrSold                      int64\n",
      "Age                         int64\n",
      "RemodAge                    int64\n",
      "TotalSF                   float64\n",
      "Remodeled                   int64\n",
      "TotalPorchSF                int64\n",
      "TotalBath                 float64\n",
      "MSZoning_encoded            int64\n",
      "Street_encoded              int64\n",
      "Alley_encoded               int64\n",
      "LotShape_encoded            int64\n",
      "LandContour_encoded         int64\n",
      "Utilities_encoded           int64\n",
      "LotConfig_encoded           int64\n",
      "LandSlope_encoded           int64\n",
      "Neighborhood_encoded        int64\n",
      "Condition1_encoded          int64\n",
      "Condition2_encoded          int64\n",
      "BldgType_encoded            int64\n",
      "HouseStyle_encoded          int64\n",
      "RoofStyle_encoded           int64\n",
      "RoofMatl_encoded            int64\n",
      "Exterior1st_encoded         int64\n",
      "Exterior2nd_encoded         int64\n",
      "MasVnrType_encoded          int64\n",
      "ExterQual_encoded           int64\n",
      "ExterCond_encoded           int64\n",
      "Foundation_encoded          int64\n",
      "BsmtQual_encoded            int64\n",
      "BsmtCond_encoded            int64\n",
      "BsmtExposure_encoded        int64\n",
      "BsmtFinType1_encoded        int64\n",
      "BsmtFinType2_encoded        int64\n",
      "Heating_encoded             int64\n",
      "HeatingQC_encoded           int64\n",
      "CentralAir_encoded          int64\n",
      "Electrical_encoded          int64\n",
      "KitchenQual_encoded         int64\n",
      "Functional_encoded          int64\n",
      "FireplaceQu_encoded         int64\n",
      "GarageType_encoded          int64\n",
      "GarageFinish_encoded        int64\n",
      "GarageQual_encoded          int64\n",
      "GarageCond_encoded          int64\n",
      "PavedDrive_encoded          int64\n",
      "Fence_encoded               int64\n",
      "SaleType_encoded            int64\n",
      "SaleCondition_encoded       int64\n",
      "MSSubClass_cat_encoded      int64\n",
      "Street_type_encoded         int64\n",
      "dtype: object\n"
     ]
    },
    {
     "data": {
      "application/javascript": [
       "\n",
       "            setTimeout(function() {\n",
       "                var nbb_cell_id = 10;\n",
       "                var nbb_unformatted_code = \"# Did it work? yes!\\nprint(housing_corr.shape, housing_corr.dtypes)\\nprint(housing_clean.shape, housing_clean.dtypes)\";\n",
       "                var nbb_formatted_code = \"# Did it work? yes!\\nprint(housing_corr.shape, housing_corr.dtypes)\\nprint(housing_clean.shape, housing_clean.dtypes)\";\n",
       "                var nbb_cells = Jupyter.notebook.get_cells();\n",
       "                for (var i = 0; i < nbb_cells.length; ++i) {\n",
       "                    if (nbb_cells[i].input_prompt_number == nbb_cell_id) {\n",
       "                        if (nbb_cells[i].get_text() == nbb_unformatted_code) {\n",
       "                             nbb_cells[i].set_text(nbb_formatted_code);\n",
       "                        }\n",
       "                        break;\n",
       "                    }\n",
       "                }\n",
       "            }, 500);\n",
       "            "
      ],
      "text/plain": [
       "<IPython.core.display.Javascript object>"
      ]
     },
     "metadata": {},
     "output_type": "display_data"
    }
   ],
   "source": [
    "# Did it work? yes!\n",
    "print(housing_corr.shape, housing_corr.dtypes)\n",
    "print(housing_clean.shape, housing_clean.dtypes)"
   ]
  },
  {
   "cell_type": "code",
   "execution_count": 11,
   "id": "e9b2222f",
   "metadata": {},
   "outputs": [
    {
     "name": "stdout",
     "output_type": "stream",
     "text": [
      "Index([], dtype='object')\n"
     ]
    },
    {
     "data": {
      "application/javascript": [
       "\n",
       "            setTimeout(function() {\n",
       "                var nbb_cell_id = 11;\n",
       "                var nbb_unformatted_code = \"# Triple Check that there are no object values\\nstrings = housing_corr.select_dtypes(include=[\\\"object\\\"]).columns\\nprint(strings)\";\n",
       "                var nbb_formatted_code = \"# Triple Check that there are no object values\\nstrings = housing_corr.select_dtypes(include=[\\\"object\\\"]).columns\\nprint(strings)\";\n",
       "                var nbb_cells = Jupyter.notebook.get_cells();\n",
       "                for (var i = 0; i < nbb_cells.length; ++i) {\n",
       "                    if (nbb_cells[i].input_prompt_number == nbb_cell_id) {\n",
       "                        if (nbb_cells[i].get_text() == nbb_unformatted_code) {\n",
       "                             nbb_cells[i].set_text(nbb_formatted_code);\n",
       "                        }\n",
       "                        break;\n",
       "                    }\n",
       "                }\n",
       "            }, 500);\n",
       "            "
      ],
      "text/plain": [
       "<IPython.core.display.Javascript object>"
      ]
     },
     "metadata": {},
     "output_type": "display_data"
    }
   ],
   "source": [
    "# Triple Check that there are no object values\n",
    "strings = housing_corr.select_dtypes(include=[\"object\"]).columns\n",
    "print(strings)"
   ]
  },
  {
   "cell_type": "markdown",
   "id": "82442723",
   "metadata": {},
   "source": [
    "## Checking to see if any columns are just 0's"
   ]
  },
  {
   "cell_type": "code",
   "execution_count": 12,
   "id": "9320a081",
   "metadata": {},
   "outputs": [
    {
     "name": "stdout",
     "output_type": "stream",
     "text": [
      "[]\n"
     ]
    },
    {
     "data": {
      "application/javascript": [
       "\n",
       "            setTimeout(function() {\n",
       "                var nbb_cell_id = 12;\n",
       "                var nbb_unformatted_code = \"all_zero_cols_train = []\\nfor col in housing_corr.columns:\\n    if (housing_corr[col] == 0).all():\\n        all_zero_cols_train.append(col)\\nprint(all_zero_cols_train)\";\n",
       "                var nbb_formatted_code = \"all_zero_cols_train = []\\nfor col in housing_corr.columns:\\n    if (housing_corr[col] == 0).all():\\n        all_zero_cols_train.append(col)\\nprint(all_zero_cols_train)\";\n",
       "                var nbb_cells = Jupyter.notebook.get_cells();\n",
       "                for (var i = 0; i < nbb_cells.length; ++i) {\n",
       "                    if (nbb_cells[i].input_prompt_number == nbb_cell_id) {\n",
       "                        if (nbb_cells[i].get_text() == nbb_unformatted_code) {\n",
       "                             nbb_cells[i].set_text(nbb_formatted_code);\n",
       "                        }\n",
       "                        break;\n",
       "                    }\n",
       "                }\n",
       "            }, 500);\n",
       "            "
      ],
      "text/plain": [
       "<IPython.core.display.Javascript object>"
      ]
     },
     "metadata": {},
     "output_type": "display_data"
    }
   ],
   "source": [
    "all_zero_cols_train = []\n",
    "for col in housing_corr.columns:\n",
    "    if (housing_corr[col] == 0).all():\n",
    "        all_zero_cols_train.append(col)\n",
    "print(all_zero_cols_train)"
   ]
  },
  {
   "cell_type": "markdown",
   "id": "2d0e8d56",
   "metadata": {},
   "source": [
    "## Train Test Split"
   ]
  },
  {
   "cell_type": "code",
   "execution_count": 13,
   "id": "a29f7dcb",
   "metadata": {},
   "outputs": [
    {
     "data": {
      "application/javascript": [
       "\n",
       "            setTimeout(function() {\n",
       "                var nbb_cell_id = 13;\n",
       "                var nbb_unformatted_code = \"# All Columns\\nX0 = housing_clean.loc[:, housing_clean.columns != \\\"SalePrice\\\"]\\ny0 = housing_clean.loc[:, \\\"SalePrice\\\"]\\nX0_train, X0_test, y0_train, y0_test = train_test_split(\\n    X0,\\n    y0,\\n    random_state=42,\\n    test_size=0.3,  # stratify=housing_corr[\\\"Neighborhood\\\"] # commenting out for now\\n)\\n\\n# Colinear Columns Removed\\nX = housing_corr.loc[:, housing_corr.columns != \\\"SalePrice\\\"]\\ny = housing_corr.loc[:, \\\"SalePrice\\\"]\\nX_train, X_test, y_train, y_test = train_test_split(\\n    X,\\n    y,\\n    random_state=42,\\n    test_size=0.3,  # stratify=housing_corr[\\\"Neighborhood\\\"] # commenting out for now\\n)\";\n",
       "                var nbb_formatted_code = \"# All Columns\\nX0 = housing_clean.loc[:, housing_clean.columns != \\\"SalePrice\\\"]\\ny0 = housing_clean.loc[:, \\\"SalePrice\\\"]\\nX0_train, X0_test, y0_train, y0_test = train_test_split(\\n    X0,\\n    y0,\\n    random_state=42,\\n    test_size=0.3,  # stratify=housing_corr[\\\"Neighborhood\\\"] # commenting out for now\\n)\\n\\n# Colinear Columns Removed\\nX = housing_corr.loc[:, housing_corr.columns != \\\"SalePrice\\\"]\\ny = housing_corr.loc[:, \\\"SalePrice\\\"]\\nX_train, X_test, y_train, y_test = train_test_split(\\n    X,\\n    y,\\n    random_state=42,\\n    test_size=0.3,  # stratify=housing_corr[\\\"Neighborhood\\\"] # commenting out for now\\n)\";\n",
       "                var nbb_cells = Jupyter.notebook.get_cells();\n",
       "                for (var i = 0; i < nbb_cells.length; ++i) {\n",
       "                    if (nbb_cells[i].input_prompt_number == nbb_cell_id) {\n",
       "                        if (nbb_cells[i].get_text() == nbb_unformatted_code) {\n",
       "                             nbb_cells[i].set_text(nbb_formatted_code);\n",
       "                        }\n",
       "                        break;\n",
       "                    }\n",
       "                }\n",
       "            }, 500);\n",
       "            "
      ],
      "text/plain": [
       "<IPython.core.display.Javascript object>"
      ]
     },
     "metadata": {},
     "output_type": "display_data"
    }
   ],
   "source": [
    "# All Columns\n",
    "X0 = housing_clean.loc[:, housing_clean.columns != \"SalePrice\"]\n",
    "y0 = housing_clean.loc[:, \"SalePrice\"]\n",
    "X0_train, X0_test, y0_train, y0_test = train_test_split(\n",
    "    X0,\n",
    "    y0,\n",
    "    random_state=42,\n",
    "    test_size=0.3,  # stratify=housing_corr[\"Neighborhood\"] # commenting out for now\n",
    ")\n",
    "\n",
    "# Colinear Columns Removed\n",
    "X = housing_corr.loc[:, housing_corr.columns != \"SalePrice\"]\n",
    "y = housing_corr.loc[:, \"SalePrice\"]\n",
    "X_train, X_test, y_train, y_test = train_test_split(\n",
    "    X,\n",
    "    y,\n",
    "    random_state=42,\n",
    "    test_size=0.3,  # stratify=housing_corr[\"Neighborhood\"] # commenting out for now\n",
    ")"
   ]
  },
  {
   "cell_type": "code",
   "execution_count": 14,
   "id": "5a9a20d7",
   "metadata": {},
   "outputs": [
    {
     "name": "stdout",
     "output_type": "stream",
     "text": [
      "(1790, 63)\n",
      "(768, 63)\n",
      "(1791, 81)\n",
      "(768, 81)\n"
     ]
    },
    {
     "data": {
      "application/javascript": [
       "\n",
       "            setTimeout(function() {\n",
       "                var nbb_cell_id = 14;\n",
       "                var nbb_unformatted_code = \"print(X_train.shape)\\nprint(X_test.shape)\\nprint(X0_train.shape)\\nprint(X0_test.shape)\";\n",
       "                var nbb_formatted_code = \"print(X_train.shape)\\nprint(X_test.shape)\\nprint(X0_train.shape)\\nprint(X0_test.shape)\";\n",
       "                var nbb_cells = Jupyter.notebook.get_cells();\n",
       "                for (var i = 0; i < nbb_cells.length; ++i) {\n",
       "                    if (nbb_cells[i].input_prompt_number == nbb_cell_id) {\n",
       "                        if (nbb_cells[i].get_text() == nbb_unformatted_code) {\n",
       "                             nbb_cells[i].set_text(nbb_formatted_code);\n",
       "                        }\n",
       "                        break;\n",
       "                    }\n",
       "                }\n",
       "            }, 500);\n",
       "            "
      ],
      "text/plain": [
       "<IPython.core.display.Javascript object>"
      ]
     },
     "metadata": {},
     "output_type": "display_data"
    }
   ],
   "source": [
    "print(X_train.shape)\n",
    "print(X_test.shape)\n",
    "print(X0_train.shape)\n",
    "print(X0_test.shape)"
   ]
  },
  {
   "cell_type": "markdown",
   "id": "00654762",
   "metadata": {},
   "source": [
    "## Model Scoring Function"
   ]
  },
  {
   "cell_type": "code",
   "execution_count": 15,
   "id": "611e1895",
   "metadata": {},
   "outputs": [
    {
     "data": {
      "application/javascript": [
       "\n",
       "            setTimeout(function() {\n",
       "                var nbb_cell_id = 15;\n",
       "                var nbb_unformatted_code = \"# Creating a scoring function\\n\\n\\ndef r2mae_scores(model, X, y):\\n    # Using R^2 as the scoring metric\\n    r2_scores = cross_val_score(model, X, y, cv=5, scoring=\\\"r2\\\", n_jobs=-1)\\n\\n    # Using Mean Absolute Error as the scoring metric\\n    mae_scores = cross_val_score(\\n        model, X, y, cv=5, scoring=\\\"neg_mean_absolute_error\\\", n_jobs=-1\\n    )\\n\\n    # Convert the MAE scores back to positive\\n    mae_scores = -1 * mae_scores\\n\\n    avg_r2_score = np.mean(r2_scores)\\n    avg_MAE_score = np.mean(mae_scores)\\n\\n    # Print the scores\\n\\n    print(\\\"-\\\" * 50)\\n    print(\\\"5-fold Cross Validation Scoring\\\")\\n    print(\\\"Average R^2 score:\\\", avg_r2_score)\\n    print(\\\"Average MAE score:\\\", avg_MAE_score)\\n    print(\\\"-\\\" * 50)\";\n",
       "                var nbb_formatted_code = \"# Creating a scoring function\\n\\n\\ndef r2mae_scores(model, X, y):\\n    # Using R^2 as the scoring metric\\n    r2_scores = cross_val_score(model, X, y, cv=5, scoring=\\\"r2\\\", n_jobs=-1)\\n\\n    # Using Mean Absolute Error as the scoring metric\\n    mae_scores = cross_val_score(\\n        model, X, y, cv=5, scoring=\\\"neg_mean_absolute_error\\\", n_jobs=-1\\n    )\\n\\n    # Convert the MAE scores back to positive\\n    mae_scores = -1 * mae_scores\\n\\n    avg_r2_score = np.mean(r2_scores)\\n    avg_MAE_score = np.mean(mae_scores)\\n\\n    # Print the scores\\n\\n    print(\\\"-\\\" * 50)\\n    print(\\\"5-fold Cross Validation Scoring\\\")\\n    print(\\\"Average R^2 score:\\\", avg_r2_score)\\n    print(\\\"Average MAE score:\\\", avg_MAE_score)\\n    print(\\\"-\\\" * 50)\";\n",
       "                var nbb_cells = Jupyter.notebook.get_cells();\n",
       "                for (var i = 0; i < nbb_cells.length; ++i) {\n",
       "                    if (nbb_cells[i].input_prompt_number == nbb_cell_id) {\n",
       "                        if (nbb_cells[i].get_text() == nbb_unformatted_code) {\n",
       "                             nbb_cells[i].set_text(nbb_formatted_code);\n",
       "                        }\n",
       "                        break;\n",
       "                    }\n",
       "                }\n",
       "            }, 500);\n",
       "            "
      ],
      "text/plain": [
       "<IPython.core.display.Javascript object>"
      ]
     },
     "metadata": {},
     "output_type": "display_data"
    }
   ],
   "source": [
    "# Creating a scoring function\n",
    "\n",
    "\n",
    "def r2mae_scores(model, X, y):\n",
    "    # Using R^2 as the scoring metric\n",
    "    r2_scores = cross_val_score(model, X, y, cv=5, scoring=\"r2\", n_jobs=-1)\n",
    "\n",
    "    # Using Mean Absolute Error as the scoring metric\n",
    "    mae_scores = cross_val_score(\n",
    "        model, X, y, cv=5, scoring=\"neg_mean_absolute_error\", n_jobs=-1\n",
    "    )\n",
    "\n",
    "    # Convert the MAE scores back to positive\n",
    "    mae_scores = -1 * mae_scores\n",
    "\n",
    "    avg_r2_score = np.mean(r2_scores)\n",
    "    avg_MAE_score = np.mean(mae_scores)\n",
    "\n",
    "    # Print the scores\n",
    "\n",
    "    print(\"-\" * 50)\n",
    "    print(\"5-fold Cross Validation Scoring\")\n",
    "    print(\"Average R^2 score:\", avg_r2_score)\n",
    "    print(\"Average MAE score:\", avg_MAE_score)\n",
    "    print(\"-\" * 50)"
   ]
  },
  {
   "cell_type": "markdown",
   "id": "f3ddf0e5",
   "metadata": {},
   "source": [
    "Note that we pass the negative of the MAE scores because scikit-learn's cross_val_score() function expects a scoring function that returns higher values for better performance, but MAE returns lower values for better performance. We then convert the negative scores back to positive by multiplying them with -1 and print the array of scores and the average score using the np.mean() function."
   ]
  },
  {
   "cell_type": "markdown",
   "id": "c16af0bc",
   "metadata": {},
   "source": [
    "## Gradient Boosting Regression Model"
   ]
  },
  {
   "cell_type": "markdown",
   "id": "d36ec662",
   "metadata": {},
   "source": [
    "#### All Features Model"
   ]
  },
  {
   "cell_type": "code",
   "execution_count": 16,
   "id": "a789b82e",
   "metadata": {},
   "outputs": [
    {
     "name": "stdout",
     "output_type": "stream",
     "text": [
      "--------------------------------------------------\n",
      "5-fold Cross Validation Scoring\n",
      "Average R^2 score: 0.8529575223869721\n",
      "Average MAE score: 16668.24334558076\n",
      "--------------------------------------------------\n"
     ]
    },
    {
     "data": {
      "application/javascript": [
       "\n",
       "            setTimeout(function() {\n",
       "                var nbb_cell_id = 16;\n",
       "                var nbb_unformatted_code = \"# Define Model\\ninitial_model0 = GradientBoostingRegressor()\\n\\n# Fit Model\\ninitial_model0.fit(X0_train, y0_train)\\n\\n# Evaluate\\nr2mae_scores(initial_model0, X0_test, y0_test)\";\n",
       "                var nbb_formatted_code = \"# Define Model\\ninitial_model0 = GradientBoostingRegressor()\\n\\n# Fit Model\\ninitial_model0.fit(X0_train, y0_train)\\n\\n# Evaluate\\nr2mae_scores(initial_model0, X0_test, y0_test)\";\n",
       "                var nbb_cells = Jupyter.notebook.get_cells();\n",
       "                for (var i = 0; i < nbb_cells.length; ++i) {\n",
       "                    if (nbb_cells[i].input_prompt_number == nbb_cell_id) {\n",
       "                        if (nbb_cells[i].get_text() == nbb_unformatted_code) {\n",
       "                             nbb_cells[i].set_text(nbb_formatted_code);\n",
       "                        }\n",
       "                        break;\n",
       "                    }\n",
       "                }\n",
       "            }, 500);\n",
       "            "
      ],
      "text/plain": [
       "<IPython.core.display.Javascript object>"
      ]
     },
     "metadata": {},
     "output_type": "display_data"
    }
   ],
   "source": [
    "# Define Model\n",
    "initial_model0 = GradientBoostingRegressor()\n",
    "\n",
    "# Fit Model\n",
    "initial_model0.fit(X0_train, y0_train)\n",
    "\n",
    "# Evaluate\n",
    "r2mae_scores(initial_model0, X0_test, y0_test)"
   ]
  },
  {
   "cell_type": "markdown",
   "id": "3949b769",
   "metadata": {},
   "source": [
    "#### Colinear Features Removed (13) Model"
   ]
  },
  {
   "cell_type": "code",
   "execution_count": 17,
   "id": "6daf9c71",
   "metadata": {},
   "outputs": [
    {
     "name": "stdout",
     "output_type": "stream",
     "text": [
      "--------------------------------------------------\n",
      "5-fold Cross Validation Scoring\n",
      "Average R^2 score: 0.8889389681272529\n",
      "Average MAE score: 16041.948390068781\n",
      "--------------------------------------------------\n"
     ]
    },
    {
     "data": {
      "application/javascript": [
       "\n",
       "            setTimeout(function() {\n",
       "                var nbb_cell_id = 17;\n",
       "                var nbb_unformatted_code = \"# Define Model\\ninitial_model = GradientBoostingRegressor()\\n\\n# Fit Model\\ninitial_model.fit(X_train, y_train)\\n\\n# Evaluate\\nr2mae_scores(initial_model, X_test, y_test)\";\n",
       "                var nbb_formatted_code = \"# Define Model\\ninitial_model = GradientBoostingRegressor()\\n\\n# Fit Model\\ninitial_model.fit(X_train, y_train)\\n\\n# Evaluate\\nr2mae_scores(initial_model, X_test, y_test)\";\n",
       "                var nbb_cells = Jupyter.notebook.get_cells();\n",
       "                for (var i = 0; i < nbb_cells.length; ++i) {\n",
       "                    if (nbb_cells[i].input_prompt_number == nbb_cell_id) {\n",
       "                        if (nbb_cells[i].get_text() == nbb_unformatted_code) {\n",
       "                             nbb_cells[i].set_text(nbb_formatted_code);\n",
       "                        }\n",
       "                        break;\n",
       "                    }\n",
       "                }\n",
       "            }, 500);\n",
       "            "
      ],
      "text/plain": [
       "<IPython.core.display.Javascript object>"
      ]
     },
     "metadata": {},
     "output_type": "display_data"
    }
   ],
   "source": [
    "# Define Model\n",
    "initial_model = GradientBoostingRegressor()\n",
    "\n",
    "# Fit Model\n",
    "initial_model.fit(X_train, y_train)\n",
    "\n",
    "# Evaluate\n",
    "r2mae_scores(initial_model, X_test, y_test)"
   ]
  },
  {
   "cell_type": "markdown",
   "id": "6bf742ea",
   "metadata": {},
   "source": [
    "## Feature Selection: Optimizing # of Features"
   ]
  },
  {
   "cell_type": "code",
   "execution_count": 18,
   "id": "811827d1",
   "metadata": {},
   "outputs": [
    {
     "data": {
      "application/javascript": [
       "\n",
       "            setTimeout(function() {\n",
       "                var nbb_cell_id = 18;\n",
       "                var nbb_unformatted_code = \"np.random.seed(42)\\n\\n# Take inital Model and sort by feature importance\\ninit_feat_sorted = sorted(\\n    zip(X_train.columns, initial_model.feature_importances_),\\n    key=lambda t: t[1],\\n    reverse=True,\\n)\\n\\n# Loop through sorted features to get the Column names\\nmy_cols = []\\nfor col in init_feat_sorted:\\n    my_cols.append(col[0])\\n\\n# Iterate through total # of features and collect scores\\nfeature_loop_model = GradientBoostingRegressor()\\nmy_scores = []\\nfor i in range(0, len(my_cols)):\\n    feature_loop_model.fit(X_train.iloc[:, 0 : i + 1], y_train)\\n    score = cross_val_score(\\n        feature_loop_model,\\n        X_test.iloc[:, 0 : i + 1],\\n        y_test,\\n        cv=5,\\n        scoring=\\\"r2\\\",\\n        n_jobs=-1,\\n    )\\n    my_scores.append((i, np.mean(score)))\";\n",
       "                var nbb_formatted_code = \"np.random.seed(42)\\n\\n# Take inital Model and sort by feature importance\\ninit_feat_sorted = sorted(\\n    zip(X_train.columns, initial_model.feature_importances_),\\n    key=lambda t: t[1],\\n    reverse=True,\\n)\\n\\n# Loop through sorted features to get the Column names\\nmy_cols = []\\nfor col in init_feat_sorted:\\n    my_cols.append(col[0])\\n\\n# Iterate through total # of features and collect scores\\nfeature_loop_model = GradientBoostingRegressor()\\nmy_scores = []\\nfor i in range(0, len(my_cols)):\\n    feature_loop_model.fit(X_train.iloc[:, 0 : i + 1], y_train)\\n    score = cross_val_score(\\n        feature_loop_model,\\n        X_test.iloc[:, 0 : i + 1],\\n        y_test,\\n        cv=5,\\n        scoring=\\\"r2\\\",\\n        n_jobs=-1,\\n    )\\n    my_scores.append((i, np.mean(score)))\";\n",
       "                var nbb_cells = Jupyter.notebook.get_cells();\n",
       "                for (var i = 0; i < nbb_cells.length; ++i) {\n",
       "                    if (nbb_cells[i].input_prompt_number == nbb_cell_id) {\n",
       "                        if (nbb_cells[i].get_text() == nbb_unformatted_code) {\n",
       "                             nbb_cells[i].set_text(nbb_formatted_code);\n",
       "                        }\n",
       "                        break;\n",
       "                    }\n",
       "                }\n",
       "            }, 500);\n",
       "            "
      ],
      "text/plain": [
       "<IPython.core.display.Javascript object>"
      ]
     },
     "metadata": {},
     "output_type": "display_data"
    }
   ],
   "source": [
    "np.random.seed(42)\n",
    "\n",
    "# Take inital Model and sort by feature importance\n",
    "init_feat_sorted = sorted(\n",
    "    zip(X_train.columns, initial_model.feature_importances_),\n",
    "    key=lambda t: t[1],\n",
    "    reverse=True,\n",
    ")\n",
    "\n",
    "# Loop through sorted features to get the Column names\n",
    "my_cols = []\n",
    "for col in init_feat_sorted:\n",
    "    my_cols.append(col[0])\n",
    "\n",
    "# Iterate through total # of features and collect scores\n",
    "feature_loop_model = GradientBoostingRegressor()\n",
    "my_scores = []\n",
    "for i in range(0, len(my_cols)):\n",
    "    feature_loop_model.fit(X_train.iloc[:, 0 : i + 1], y_train)\n",
    "    score = cross_val_score(\n",
    "        feature_loop_model,\n",
    "        X_test.iloc[:, 0 : i + 1],\n",
    "        y_test,\n",
    "        cv=5,\n",
    "        scoring=\"r2\",\n",
    "        n_jobs=-1,\n",
    "    )\n",
    "    my_scores.append((i, np.mean(score)))"
   ]
  },
  {
   "cell_type": "code",
   "execution_count": 19,
   "id": "3ec65233",
   "metadata": {},
   "outputs": [
    {
     "data": {
      "image/png": "[encoded data removed]",
      "text/plain": [
       "<Figure size 432x288 with 1 Axes>"
      ]
     },
     "metadata": {
      "needs_background": "light"
     },
     "output_type": "display_data"
    },
    {
     "data": {
      "application/javascript": [
       "\n",
       "            setTimeout(function() {\n",
       "                var nbb_cell_id = 19;\n",
       "                var nbb_unformatted_code = \"# Plot Scores\\nx_values = [t[0] for t in my_scores]\\ny_values = [t[1] for t in my_scores]\\n\\nplt.plot(x_values, y_values)\\nplt.axvline(x=29, color=\\\"red\\\", linestyle=\\\"--\\\", alpha=0.4)\\n\\nplt.xlabel(\\\"# of Features\\\")\\nplt.ylabel(\\\"R^2 Performance\\\")\\nplt.title(\\\"Feature Selection\\\")\\n\\nplt.show()\";\n",
       "                var nbb_formatted_code = \"# Plot Scores\\nx_values = [t[0] for t in my_scores]\\ny_values = [t[1] for t in my_scores]\\n\\nplt.plot(x_values, y_values)\\nplt.axvline(x=29, color=\\\"red\\\", linestyle=\\\"--\\\", alpha=0.4)\\n\\nplt.xlabel(\\\"# of Features\\\")\\nplt.ylabel(\\\"R^2 Performance\\\")\\nplt.title(\\\"Feature Selection\\\")\\n\\nplt.show()\";\n",
       "                var nbb_cells = Jupyter.notebook.get_cells();\n",
       "                for (var i = 0; i < nbb_cells.length; ++i) {\n",
       "                    if (nbb_cells[i].input_prompt_number == nbb_cell_id) {\n",
       "                        if (nbb_cells[i].get_text() == nbb_unformatted_code) {\n",
       "                             nbb_cells[i].set_text(nbb_formatted_code);\n",
       "                        }\n",
       "                        break;\n",
       "                    }\n",
       "                }\n",
       "            }, 500);\n",
       "            "
      ],
      "text/plain": [
       "<IPython.core.display.Javascript object>"
      ]
     },
     "metadata": {},
     "output_type": "display_data"
    }
   ],
   "source": [
    "# Plot Scores\n",
    "x_values = [t[0] for t in my_scores]\n",
    "y_values = [t[1] for t in my_scores]\n",
    "\n",
    "plt.plot(x_values, y_values)\n",
    "plt.axvline(x=29, color=\"red\", linestyle=\"--\", alpha=0.4)\n",
    "\n",
    "plt.xlabel(\"# of Features\")\n",
    "plt.ylabel(\"R^2 Performance\")\n",
    "plt.title(\"Feature Selection\")\n",
    "\n",
    "plt.show()"
   ]
  },
  {
   "cell_type": "code",
   "execution_count": 20,
   "id": "e1d7debe",
   "metadata": {
    "scrolled": true
   },
   "outputs": [
    {
     "data": {
      "text/plain": [
       "[('TotalSF', 0.39250356162035066),\n",
       " ('OverallQual', 0.3660695892651641),\n",
       " ('Age', 0.037698792103236914),\n",
       " ('TotalBath', 0.031109619649065747),\n",
       " ('KitchenQual', 0.031022686313285537),\n",
       " ('GarageCars', 0.016889954059281224),\n",
       " ('BsmtFinSF1', 0.016292161599914305),\n",
       " ('LotArea', 0.01418444312124612),\n",
       " ('Fireplaces', 0.013703618092204037),\n",
       " ('RemodAge', 0.011727550950256614),\n",
       " ('MasVnrArea', 0.0110331088687711),\n",
       " ('OverallCond', 0.010493732534938464),\n",
       " ('BsmtQual', 0.006341963440999774),\n",
       " ('Neighborhood_st_encoded', 0.004404492534336242),\n",
       " ('GarageType_encoded', 0.0042364162708349),\n",
       " ('TotalOutdoorSF', 0.004082945927158925),\n",
       " ('TotRmsAbvGrd', 0.003833268782609976),\n",
       " ('CentralAir_encoded', 0.0034592976094035195),\n",
       " ('HeatingQC', 0.002582998542871265),\n",
       " ('MSZoning_encoded', 0.0021090337617354774),\n",
       " ('SaleCondition_encoded', 0.0017556771753137448),\n",
       " ('BsmtExposure', 0.0016613066494576638),\n",
       " ('BsmtUnfSF', 0.0016361001719695765),\n",
       " ('Neighborhood_encoded', 0.001167480963762372),\n",
       " ('HalfBath', 0.0010332691956838722),\n",
       " ('Functional_encoded', 0.0009256253379729266),\n",
       " ('BsmtFullBath', 0.0008792400275019061),\n",
       " ('MSSubClass_cat_encoded', 0.0008623656617308914),\n",
       " ('Condition1_encoded', 0.0007787442322111002),\n",
       " ('GarageQual', 0.0006117474942157145),\n",
       " ('HouseStyle_encoded', 0.0006084506819329956),\n",
       " ('MoSold', 0.0005095104903453865),\n",
       " ('Exterior1st_encoded', 0.00047256737707485676),\n",
       " ('LandContour_encoded', 0.00045085251469262106),\n",
       " ('BldgType_encoded', 0.00041379923581676224),\n",
       " ('PavedDrive_encoded', 0.0003015141781553901),\n",
       " ('RoofStyle_encoded', 0.0002641072749101424),\n",
       " ('LotFrontage', 0.0002606578095081619),\n",
       " ('LotShape_encoded', 0.0002602130257326018),\n",
       " ('BedroomAbvGr', 0.0002471355549981288),\n",
       " ('Street_type_encoded', 0.00018732606721681198),\n",
       " ('RoofMatl_encoded', 0.0001715299760612198),\n",
       " ('YrSold', 0.00015009835973134295),\n",
       " ('LotConfig_encoded', 0.00014292903097199545),\n",
       " ('BsmtFinSF2', 9.644899245868184e-05),\n",
       " ('ExterCond', 8.94094222749109e-05),\n",
       " ('BsmtHalfBath', 6.368293329472334e-05),\n",
       " ('SaleType_encoded', 4.1381615723423815e-05),\n",
       " ('GarageFinish', 4.123986277229894e-05),\n",
       " ('Remodeled', 3.669241472683397e-05),\n",
       " ('Exterior2nd_encoded', 3.4016841151998675e-05),\n",
       " ('BsmtCond', 2.6007325331618782e-05),\n",
       " ('Street_encoded', 2.4130448848563058e-05),\n",
       " ('Foundation_encoded', 1.5506608784251218e-05),\n",
       " ('KitchenAbvGr', 0.0),\n",
       " ('Fence', 0.0),\n",
       " ('Alley_encoded', 0.0),\n",
       " ('Utilities_encoded', 0.0),\n",
       " ('LandSlope_encoded', 0.0),\n",
       " ('Condition2_encoded', 0.0),\n",
       " ('MasVnrType_encoded', 0.0),\n",
       " ('Heating_encoded', 0.0),\n",
       " ('Electrical_encoded', 0.0)]"
      ]
     },
     "execution_count": 20,
     "metadata": {},
     "output_type": "execute_result"
    },
    {
     "data": {
      "application/javascript": [
       "\n",
       "            setTimeout(function() {\n",
       "                var nbb_cell_id = 20;\n",
       "                var nbb_unformatted_code = \"sorted_importance = sorted(\\n    zip(X_train.columns, initial_model.feature_importances_),\\n    key=lambda t: t[1],\\n    reverse=True,\\n)\\nsorted_importance\";\n",
       "                var nbb_formatted_code = \"sorted_importance = sorted(\\n    zip(X_train.columns, initial_model.feature_importances_),\\n    key=lambda t: t[1],\\n    reverse=True,\\n)\\nsorted_importance\";\n",
       "                var nbb_cells = Jupyter.notebook.get_cells();\n",
       "                for (var i = 0; i < nbb_cells.length; ++i) {\n",
       "                    if (nbb_cells[i].input_prompt_number == nbb_cell_id) {\n",
       "                        if (nbb_cells[i].get_text() == nbb_unformatted_code) {\n",
       "                             nbb_cells[i].set_text(nbb_formatted_code);\n",
       "                        }\n",
       "                        break;\n",
       "                    }\n",
       "                }\n",
       "            }, 500);\n",
       "            "
      ],
      "text/plain": [
       "<IPython.core.display.Javascript object>"
      ]
     },
     "metadata": {},
     "output_type": "display_data"
    }
   ],
   "source": [
    "sorted_importance = sorted(\n",
    "    zip(X_train.columns, initial_model.feature_importances_),\n",
    "    key=lambda t: t[1],\n",
    "    reverse=True,\n",
    ")\n",
    "sorted_importance"
   ]
  },
  {
   "cell_type": "code",
   "execution_count": 21,
   "id": "76555683",
   "metadata": {
    "scrolled": false
   },
   "outputs": [
    {
     "data": {
      "text/plain": [
       "<Figure size 1440x720 with 0 Axes>"
      ]
     },
     "metadata": {},
     "output_type": "display_data"
    },
    {
     "data": {
      "image/png": "[encoded data removed]",
      "text/plain": [
       "<Figure size 432x288 with 1 Axes>"
      ]
     },
     "metadata": {
      "needs_background": "light"
     },
     "output_type": "display_data"
    },
    {
     "data": {
      "application/javascript": [
       "\n",
       "            setTimeout(function() {\n",
       "                var nbb_cell_id = 21;\n",
       "                var nbb_unformatted_code = \"# Get data for the plot (35 Features based on above graph)\\na, b = zip(*sorted_importance[:35])\\ndf = pd.DataFrame({\\\"feature_name\\\": a, \\\"importance_score\\\": b})\\n\\n# Plot\\nplt.figure(figsize=(20, 10))\\ndf.plot.bar(x=\\\"feature_name\\\", y=\\\"importance_score\\\", legend=None)\\nplt.title(\\\"Feature Importance\\\")\\nplt.show()\";\n",
       "                var nbb_formatted_code = \"# Get data for the plot (35 Features based on above graph)\\na, b = zip(*sorted_importance[:35])\\ndf = pd.DataFrame({\\\"feature_name\\\": a, \\\"importance_score\\\": b})\\n\\n# Plot\\nplt.figure(figsize=(20, 10))\\ndf.plot.bar(x=\\\"feature_name\\\", y=\\\"importance_score\\\", legend=None)\\nplt.title(\\\"Feature Importance\\\")\\nplt.show()\";\n",
       "                var nbb_cells = Jupyter.notebook.get_cells();\n",
       "                for (var i = 0; i < nbb_cells.length; ++i) {\n",
       "                    if (nbb_cells[i].input_prompt_number == nbb_cell_id) {\n",
       "                        if (nbb_cells[i].get_text() == nbb_unformatted_code) {\n",
       "                             nbb_cells[i].set_text(nbb_formatted_code);\n",
       "                        }\n",
       "                        break;\n",
       "                    }\n",
       "                }\n",
       "            }, 500);\n",
       "            "
      ],
      "text/plain": [
       "<IPython.core.display.Javascript object>"
      ]
     },
     "metadata": {},
     "output_type": "display_data"
    }
   ],
   "source": [
    "# Get data for the plot (35 Features based on above graph)\n",
    "a, b = zip(*sorted_importance[:35])\n",
    "df = pd.DataFrame({\"feature_name\": a, \"importance_score\": b})\n",
    "\n",
    "# Plot\n",
    "plt.figure(figsize=(20, 10))\n",
    "df.plot.bar(x=\"feature_name\", y=\"importance_score\", legend=None)\n",
    "plt.title(\"Feature Importance\")\n",
    "plt.show()"
   ]
  },
  {
   "cell_type": "code",
   "execution_count": 22,
   "id": "97293ff0",
   "metadata": {},
   "outputs": [
    {
     "data": {
      "text/plain": [
       "GradientBoostingRegressor()"
      ]
     },
     "execution_count": 22,
     "metadata": {},
     "output_type": "execute_result"
    },
    {
     "data": {
      "application/javascript": [
       "\n",
       "            setTimeout(function() {\n",
       "                var nbb_cell_id = 22;\n",
       "                var nbb_unformatted_code = \"## select top 35 features\\nX2_train = X_train[my_cols].iloc[:, :36]  # top 35 feat importances\\ny2_train = y_train.copy()\\nX2_test = X_test[my_cols].iloc[:, :36]\\ny2_test = y_test.copy()\\n\\nfeat_select_model = GradientBoostingRegressor()\\nfeat_select_model.fit(X2_train, y2_train)\";\n",
       "                var nbb_formatted_code = \"## select top 35 features\\nX2_train = X_train[my_cols].iloc[:, :36]  # top 35 feat importances\\ny2_train = y_train.copy()\\nX2_test = X_test[my_cols].iloc[:, :36]\\ny2_test = y_test.copy()\\n\\nfeat_select_model = GradientBoostingRegressor()\\nfeat_select_model.fit(X2_train, y2_train)\";\n",
       "                var nbb_cells = Jupyter.notebook.get_cells();\n",
       "                for (var i = 0; i < nbb_cells.length; ++i) {\n",
       "                    if (nbb_cells[i].input_prompt_number == nbb_cell_id) {\n",
       "                        if (nbb_cells[i].get_text() == nbb_unformatted_code) {\n",
       "                             nbb_cells[i].set_text(nbb_formatted_code);\n",
       "                        }\n",
       "                        break;\n",
       "                    }\n",
       "                }\n",
       "            }, 500);\n",
       "            "
      ],
      "text/plain": [
       "<IPython.core.display.Javascript object>"
      ]
     },
     "metadata": {},
     "output_type": "display_data"
    }
   ],
   "source": [
    "## select top 35 features\n",
    "X2_train = X_train[my_cols].iloc[:, :36]  # top 35 feat importances\n",
    "y2_train = y_train.copy()\n",
    "X2_test = X_test[my_cols].iloc[:, :36]\n",
    "y2_test = y_test.copy()\n",
    "\n",
    "feat_select_model = GradientBoostingRegressor()\n",
    "feat_select_model.fit(X2_train, y2_train)"
   ]
  },
  {
   "cell_type": "code",
   "execution_count": 23,
   "id": "69200c66",
   "metadata": {},
   "outputs": [
    {
     "name": "stdout",
     "output_type": "stream",
     "text": [
      "feat_select_model\n",
      "--------------------------------------------------\n",
      "5-fold Cross Validation Scoring\n",
      "Average R^2 score: 0.8860154762624651\n",
      "Average MAE score: 16274.170152137507\n",
      "--------------------------------------------------\n",
      "\n",
      "\n",
      "initial_model\n",
      "--------------------------------------------------\n",
      "5-fold Cross Validation Scoring\n",
      "Average R^2 score: 0.8858678146417635\n",
      "Average MAE score: 16031.884652704195\n",
      "--------------------------------------------------\n"
     ]
    },
    {
     "data": {
      "application/javascript": [
       "\n",
       "            setTimeout(function() {\n",
       "                var nbb_cell_id = 23;\n",
       "                var nbb_unformatted_code = \"# Compare to initial model\\nprint(\\\"feat_select_model\\\")\\nr2mae_scores(feat_select_model, X2_test, y2_test)\\nprint(\\\"\\\\n\\\\ninitial_model\\\")\\nr2mae_scores(initial_model, X_test, y_test)\";\n",
       "                var nbb_formatted_code = \"# Compare to initial model\\nprint(\\\"feat_select_model\\\")\\nr2mae_scores(feat_select_model, X2_test, y2_test)\\nprint(\\\"\\\\n\\\\ninitial_model\\\")\\nr2mae_scores(initial_model, X_test, y_test)\";\n",
       "                var nbb_cells = Jupyter.notebook.get_cells();\n",
       "                for (var i = 0; i < nbb_cells.length; ++i) {\n",
       "                    if (nbb_cells[i].input_prompt_number == nbb_cell_id) {\n",
       "                        if (nbb_cells[i].get_text() == nbb_unformatted_code) {\n",
       "                             nbb_cells[i].set_text(nbb_formatted_code);\n",
       "                        }\n",
       "                        break;\n",
       "                    }\n",
       "                }\n",
       "            }, 500);\n",
       "            "
      ],
      "text/plain": [
       "<IPython.core.display.Javascript object>"
      ]
     },
     "metadata": {},
     "output_type": "display_data"
    }
   ],
   "source": [
    "# Compare to initial model\n",
    "print(\"feat_select_model\")\n",
    "r2mae_scores(feat_select_model, X2_test, y2_test)\n",
    "print(\"\\n\\ninitial_model\")\n",
    "r2mae_scores(initial_model, X_test, y_test)"
   ]
  },
  {
   "cell_type": "markdown",
   "id": "76c03ca3",
   "metadata": {},
   "source": [
    "initial_model: 88.46%\n",
    "feat_select_model: 88.30%\n",
    "Feature selection actually decreased model performance by 0.1%"
   ]
  },
  {
   "cell_type": "markdown",
   "id": "bb222c97",
   "metadata": {},
   "source": [
    "## Tuning the Hyper Parameters"
   ]
  },
  {
   "cell_type": "code",
   "execution_count": 24,
   "id": "06e2c53b",
   "metadata": {},
   "outputs": [
    {
     "name": "stdout",
     "output_type": "stream",
     "text": [
      "Fitting 5 folds for each of 27 candidates, totalling 135 fits\n"
     ]
    },
    {
     "data": {
      "text/plain": [
       "GridSearchCV(cv=5, estimator=GradientBoostingRegressor(random_state=42),\n",
       "             n_jobs=-1,\n",
       "             param_grid={'learning_rate': [0.01, 0.1, 0.5],\n",
       "                         'max_depth': [3, 5, 7],\n",
       "                         'n_estimators': [100, 500, 1000]},\n",
       "             scoring='neg_mean_absolute_error', verbose=1)"
      ]
     },
     "execution_count": 24,
     "metadata": {},
     "output_type": "execute_result"
    },
    {
     "data": {
      "application/javascript": [
       "\n",
       "            setTimeout(function() {\n",
       "                var nbb_cell_id = 24;\n",
       "                var nbb_unformatted_code = \"## GridSearchCV - Creates Tuned Model\\n\\nparam_grid = {\\n    \\\"n_estimators\\\": [100, 500, 1000],\\n    \\\"max_depth\\\": [3, 5, 7],\\n    \\\"learning_rate\\\": [0.01, 0.1, 0.5],\\n}\\n\\ntuned_model_GSV = GridSearchCV(\\n    GradientBoostingRegressor(random_state=42),\\n    param_grid,\\n    cv=5,\\n    scoring=\\\"neg_mean_absolute_error\\\",\\n    n_jobs=-1,  # use all available CPU cores\\n    verbose=1,\\n)\\ntuned_model_GSV.fit(X_train, y_train)\";\n",
       "                var nbb_formatted_code = \"## GridSearchCV - Creates Tuned Model\\n\\nparam_grid = {\\n    \\\"n_estimators\\\": [100, 500, 1000],\\n    \\\"max_depth\\\": [3, 5, 7],\\n    \\\"learning_rate\\\": [0.01, 0.1, 0.5],\\n}\\n\\ntuned_model_GSV = GridSearchCV(\\n    GradientBoostingRegressor(random_state=42),\\n    param_grid,\\n    cv=5,\\n    scoring=\\\"neg_mean_absolute_error\\\",\\n    n_jobs=-1,  # use all available CPU cores\\n    verbose=1,\\n)\\ntuned_model_GSV.fit(X_train, y_train)\";\n",
       "                var nbb_cells = Jupyter.notebook.get_cells();\n",
       "                for (var i = 0; i < nbb_cells.length; ++i) {\n",
       "                    if (nbb_cells[i].input_prompt_number == nbb_cell_id) {\n",
       "                        if (nbb_cells[i].get_text() == nbb_unformatted_code) {\n",
       "                             nbb_cells[i].set_text(nbb_formatted_code);\n",
       "                        }\n",
       "                        break;\n",
       "                    }\n",
       "                }\n",
       "            }, 500);\n",
       "            "
      ],
      "text/plain": [
       "<IPython.core.display.Javascript object>"
      ]
     },
     "metadata": {},
     "output_type": "display_data"
    }
   ],
   "source": [
    "## GridSearchCV - Creates Tuned Model\n",
    "\n",
    "param_grid = {\n",
    "    \"n_estimators\": [100, 500, 1000],\n",
    "    \"max_depth\": [3, 5, 7],\n",
    "    \"learning_rate\": [0.01, 0.1, 0.5],\n",
    "}\n",
    "\n",
    "tuned_model_GSV = GridSearchCV(\n",
    "    GradientBoostingRegressor(random_state=42),\n",
    "    param_grid,\n",
    "    cv=5,\n",
    "    scoring=\"neg_mean_absolute_error\",\n",
    "    n_jobs=-1,  # use all available CPU cores\n",
    "    verbose=1,\n",
    ")\n",
    "tuned_model_GSV.fit(X_train, y_train)"
   ]
  },
  {
   "cell_type": "code",
   "execution_count": 25,
   "id": "7c648bff",
   "metadata": {
    "scrolled": true
   },
   "outputs": [
    {
     "name": "stdout",
     "output_type": "stream",
     "text": [
      "Best hyperparameters:  {'learning_rate': 0.1, 'max_depth': 3, 'n_estimators': 500}\n"
     ]
    },
    {
     "data": {
      "application/javascript": [
       "\n",
       "            setTimeout(function() {\n",
       "                var nbb_cell_id = 25;\n",
       "                var nbb_unformatted_code = \"print(\\\"Best hyperparameters: \\\", tuned_model_GSV.best_params_)\";\n",
       "                var nbb_formatted_code = \"print(\\\"Best hyperparameters: \\\", tuned_model_GSV.best_params_)\";\n",
       "                var nbb_cells = Jupyter.notebook.get_cells();\n",
       "                for (var i = 0; i < nbb_cells.length; ++i) {\n",
       "                    if (nbb_cells[i].input_prompt_number == nbb_cell_id) {\n",
       "                        if (nbb_cells[i].get_text() == nbb_unformatted_code) {\n",
       "                             nbb_cells[i].set_text(nbb_formatted_code);\n",
       "                        }\n",
       "                        break;\n",
       "                    }\n",
       "                }\n",
       "            }, 500);\n",
       "            "
      ],
      "text/plain": [
       "<IPython.core.display.Javascript object>"
      ]
     },
     "metadata": {},
     "output_type": "display_data"
    }
   ],
   "source": [
    "print(\"Best hyperparameters: \", tuned_model_GSV.best_params_)"
   ]
  },
  {
   "cell_type": "code",
   "execution_count": 26,
   "id": "a4cf458c",
   "metadata": {},
   "outputs": [
    {
     "data": {
      "text/plain": [
       "{'mean_fit_time': array([ 0.44489698,  2.23934813,  4.42310791,  0.73521419,  3.66759148,\n",
       "         7.46451173,  1.03433456,  5.31381879, 10.47707214,  0.44348011,\n",
       "         2.28696241,  4.51563878,  0.75350537,  3.66626859,  7.39909439,\n",
       "         1.03366828,  5.16898913, 10.33939295,  0.44352293,  2.23362546,\n",
       "         4.47239976,  0.73158107,  3.70884376,  7.38875403,  1.02752123,\n",
       "         4.9822772 ,  6.26055427]),\n",
       " 'std_fit_time': array([0.00593414, 0.01879513, 0.0387253 , 0.01115787, 0.03261573,\n",
       "        0.06665345, 0.01435884, 0.06012958, 0.0694069 , 0.0149996 ,\n",
       "        0.03898106, 0.06073575, 0.0237211 , 0.01916689, 0.03529948,\n",
       "        0.00946131, 0.08223202, 0.05680511, 0.00711513, 0.03001585,\n",
       "        0.02919694, 0.0205802 , 0.04089253, 0.044     , 0.00777612,\n",
       "        0.07281797, 1.32624637]),\n",
       " 'mean_score_time': array([0.00178413, 0.00445161, 0.00590453, 0.00299087, 0.00869937,\n",
       "        0.01142111, 0.00408363, 0.00889659, 0.01557989, 0.00256968,\n",
       "        0.00353422, 0.00538783, 0.00297384, 0.00590539, 0.00826554,\n",
       "        0.00370636, 0.0072649 , 0.01394143, 0.00217242, 0.00359535,\n",
       "        0.00726428, 0.00261917, 0.00501723, 0.01055546, 0.00248284,\n",
       "        0.00708303, 0.00912757]),\n",
       " 'std_score_time': array([3.99925118e-05, 1.18495214e-03, 2.08657293e-04, 1.49127981e-03,\n",
       "        1.67650757e-03, 2.42706485e-03, 1.73588994e-03, 2.42427500e-04,\n",
       "        1.34074039e-03, 1.68127993e-03, 6.55844462e-04, 6.01655988e-04,\n",
       "        1.31176631e-03, 1.80258396e-03, 2.55449076e-04, 1.13811207e-03,\n",
       "        4.87298587e-04, 2.22764415e-03, 9.90809252e-04, 5.83520401e-04,\n",
       "        2.11404643e-03, 1.21376660e-03, 1.47277500e-04, 2.36487372e-03,\n",
       "        4.61974742e-05, 2.87369331e-04, 1.51926287e-03]),\n",
       " 'param_learning_rate': masked_array(data=[0.01, 0.01, 0.01, 0.01, 0.01, 0.01, 0.01, 0.01, 0.01,\n",
       "                    0.1, 0.1, 0.1, 0.1, 0.1, 0.1, 0.1, 0.1, 0.1, 0.5, 0.5,\n",
       "                    0.5, 0.5, 0.5, 0.5, 0.5, 0.5, 0.5],\n",
       "              mask=[False, False, False, False, False, False, False, False,\n",
       "                    False, False, False, False, False, False, False, False,\n",
       "                    False, False, False, False, False, False, False, False,\n",
       "                    False, False, False],\n",
       "        fill_value='?',\n",
       "             dtype=object),\n",
       " 'param_max_depth': masked_array(data=[3, 3, 3, 5, 5, 5, 7, 7, 7, 3, 3, 3, 5, 5, 5, 7, 7, 7,\n",
       "                    3, 3, 3, 5, 5, 5, 7, 7, 7],\n",
       "              mask=[False, False, False, False, False, False, False, False,\n",
       "                    False, False, False, False, False, False, False, False,\n",
       "                    False, False, False, False, False, False, False, False,\n",
       "                    False, False, False],\n",
       "        fill_value='?',\n",
       "             dtype=object),\n",
       " 'param_n_estimators': masked_array(data=[100, 500, 1000, 100, 500, 1000, 100, 500, 1000, 100,\n",
       "                    500, 1000, 100, 500, 1000, 100, 500, 1000, 100, 500,\n",
       "                    1000, 100, 500, 1000, 100, 500, 1000],\n",
       "              mask=[False, False, False, False, False, False, False, False,\n",
       "                    False, False, False, False, False, False, False, False,\n",
       "                    False, False, False, False, False, False, False, False,\n",
       "                    False, False, False],\n",
       "        fill_value='?',\n",
       "             dtype=object),\n",
       " 'params': [{'learning_rate': 0.01, 'max_depth': 3, 'n_estimators': 100},\n",
       "  {'learning_rate': 0.01, 'max_depth': 3, 'n_estimators': 500},\n",
       "  {'learning_rate': 0.01, 'max_depth': 3, 'n_estimators': 1000},\n",
       "  {'learning_rate': 0.01, 'max_depth': 5, 'n_estimators': 100},\n",
       "  {'learning_rate': 0.01, 'max_depth': 5, 'n_estimators': 500},\n",
       "  {'learning_rate': 0.01, 'max_depth': 5, 'n_estimators': 1000},\n",
       "  {'learning_rate': 0.01, 'max_depth': 7, 'n_estimators': 100},\n",
       "  {'learning_rate': 0.01, 'max_depth': 7, 'n_estimators': 500},\n",
       "  {'learning_rate': 0.01, 'max_depth': 7, 'n_estimators': 1000},\n",
       "  {'learning_rate': 0.1, 'max_depth': 3, 'n_estimators': 100},\n",
       "  {'learning_rate': 0.1, 'max_depth': 3, 'n_estimators': 500},\n",
       "  {'learning_rate': 0.1, 'max_depth': 3, 'n_estimators': 1000},\n",
       "  {'learning_rate': 0.1, 'max_depth': 5, 'n_estimators': 100},\n",
       "  {'learning_rate': 0.1, 'max_depth': 5, 'n_estimators': 500},\n",
       "  {'learning_rate': 0.1, 'max_depth': 5, 'n_estimators': 1000},\n",
       "  {'learning_rate': 0.1, 'max_depth': 7, 'n_estimators': 100},\n",
       "  {'learning_rate': 0.1, 'max_depth': 7, 'n_estimators': 500},\n",
       "  {'learning_rate': 0.1, 'max_depth': 7, 'n_estimators': 1000},\n",
       "  {'learning_rate': 0.5, 'max_depth': 3, 'n_estimators': 100},\n",
       "  {'learning_rate': 0.5, 'max_depth': 3, 'n_estimators': 500},\n",
       "  {'learning_rate': 0.5, 'max_depth': 3, 'n_estimators': 1000},\n",
       "  {'learning_rate': 0.5, 'max_depth': 5, 'n_estimators': 100},\n",
       "  {'learning_rate': 0.5, 'max_depth': 5, 'n_estimators': 500},\n",
       "  {'learning_rate': 0.5, 'max_depth': 5, 'n_estimators': 1000},\n",
       "  {'learning_rate': 0.5, 'max_depth': 7, 'n_estimators': 100},\n",
       "  {'learning_rate': 0.5, 'max_depth': 7, 'n_estimators': 500},\n",
       "  {'learning_rate': 0.5, 'max_depth': 7, 'n_estimators': 1000}],\n",
       " 'split0_test_score': array([-29704.52535442, -16402.12086135, -15035.40643473, -27070.03792919,\n",
       "        -15219.11677618, -14655.77734805, -26204.42188421, -16164.6562995 ,\n",
       "        -16011.01620923, -15172.01658747, -14317.41093899, -14383.66622652,\n",
       "        -14888.21968003, -14441.83777742, -14461.79947271, -16075.84345323,\n",
       "        -16074.03512391, -16074.50898692, -15676.3263037 , -16000.10549425,\n",
       "        -16006.23132594, -16754.731318  , -16758.92382554, -16758.93565524,\n",
       "        -18342.2351852 , -18342.01965764, -18342.01965764]),\n",
       " 'split1_test_score': array([-27730.08695333, -14650.78779186, -13498.55605433, -25380.89399309,\n",
       "        -13820.14530885, -13174.73117744, -25183.52153647, -14686.95308285,\n",
       "        -14431.12914324, -14134.87992186, -13464.08313335, -13294.43821167,\n",
       "        -13317.0509117 , -13134.59286023, -13120.55796837, -14162.91786745,\n",
       "        -14099.65666056, -14099.59979651, -14215.60167148, -14496.11292319,\n",
       "        -14519.55229978, -16726.03851636, -16713.09897586, -16713.10001447,\n",
       "        -16780.59862951, -16779.87475112, -16779.87475111]),\n",
       " 'split2_test_score': array([-28026.43097245, -14337.73092768, -13063.1786113 , -26218.44023862,\n",
       "        -14088.9870971 , -13570.99184149, -26296.48801199, -14889.61269584,\n",
       "        -14572.30595643, -12971.04045643, -12304.62400067, -12404.92720788,\n",
       "        -13209.71237319, -13058.80960612, -13040.74710406, -15220.29744831,\n",
       "        -15181.60234413, -15180.43592883, -14741.93942014, -14493.6975033 ,\n",
       "        -14470.56022511, -16842.80048049, -16896.83409452, -16896.82206515,\n",
       "        -17115.54623565, -17116.27669005, -17116.27669006]),\n",
       " 'split3_test_score': array([-25173.55232559, -12072.32755468, -11304.55120367, -23455.07106247,\n",
       "        -11362.21736682, -10990.83245832, -23284.8523174 , -12011.8944724 ,\n",
       "        -11795.42593326, -11317.04687161, -11187.91326742, -11284.77946093,\n",
       "        -11240.32879067, -11003.20615232, -11024.21828551, -12399.37335904,\n",
       "        -12390.76538665, -12391.22806804, -13797.90724187, -13971.79492302,\n",
       "        -14000.47154103, -13557.02579787, -13575.47879891, -13575.47792646,\n",
       "        -14829.48308078, -14827.80980856, -14827.80980856]),\n",
       " 'split4_test_score': array([-26628.6331906 , -13660.91948669, -12818.48810397, -24460.49390528,\n",
       "        -12962.51998806, -12533.19982249, -23671.21740309, -13467.5622557 ,\n",
       "        -13245.89369682, -13112.57962488, -12610.20517751, -12591.85397696,\n",
       "        -12354.63592637, -12436.77130002, -12492.77706651, -13689.26279951,\n",
       "        -13646.21679819, -13646.5429005 , -14579.57353446, -14728.8561873 ,\n",
       "        -14706.61258167, -15300.71618342, -15286.34453406, -15286.34791366,\n",
       "        -15633.82611821, -15634.22306459, -15634.22306459]),\n",
       " 'mean_test_score': array([-27452.64575928, -14224.77732445, -13144.0360816 , -25316.98742573,\n",
       "        -13490.5973074 , -12985.10652956, -24928.10023063, -14244.13576126,\n",
       "        -14011.1541878 , -13341.51269245, -12776.84730359, -12791.93301679,\n",
       "        -13001.98953639, -12815.04353922, -12828.01997943, -14309.53898551,\n",
       "        -14278.45526269, -14278.46313616, -14602.26963433, -14738.11340621,\n",
       "        -14740.68559471, -15836.26245923, -15846.13604578, -15846.136715  ,\n",
       "        -16540.33784987, -16540.04079439, -16540.0407944 ]),\n",
       " 'std_test_score': array([1506.68035036, 1406.13256737, 1199.93251945, 1272.02208984,\n",
       "        1285.55969183, 1212.57649925, 1252.73622711, 1406.20726583,\n",
       "        1413.2086677 , 1285.94696292, 1060.2929046 , 1024.44551257,\n",
       "        1201.89782272, 1116.58745836, 1110.5093515 , 1265.24981486,\n",
       "        1267.66313924, 1267.46259098,  627.7151365 ,  677.97597471,\n",
       "         674.17378513, 1275.1576245 , 1277.34282885, 1277.34269552,\n",
       "        1215.25400612, 1215.64276548, 1215.64276548]),\n",
       " 'rank_test_score': array([27, 11,  7, 26,  9,  5, 25, 12, 10,  8,  1,  2,  6,  3,  4, 15, 13,\n",
       "        14, 16, 17, 18, 19, 20, 21, 24, 22, 23], dtype=int32)}"
      ]
     },
     "execution_count": 26,
     "metadata": {},
     "output_type": "execute_result"
    },
    {
     "data": {
      "application/javascript": [
       "\n",
       "            setTimeout(function() {\n",
       "                var nbb_cell_id = 26;\n",
       "                var nbb_unformatted_code = \"tuned_model_GSV.cv_results_\";\n",
       "                var nbb_formatted_code = \"tuned_model_GSV.cv_results_\";\n",
       "                var nbb_cells = Jupyter.notebook.get_cells();\n",
       "                for (var i = 0; i < nbb_cells.length; ++i) {\n",
       "                    if (nbb_cells[i].input_prompt_number == nbb_cell_id) {\n",
       "                        if (nbb_cells[i].get_text() == nbb_unformatted_code) {\n",
       "                             nbb_cells[i].set_text(nbb_formatted_code);\n",
       "                        }\n",
       "                        break;\n",
       "                    }\n",
       "                }\n",
       "            }, 500);\n",
       "            "
      ],
      "text/plain": [
       "<IPython.core.display.Javascript object>"
      ]
     },
     "metadata": {},
     "output_type": "display_data"
    }
   ],
   "source": [
    "tuned_model_GSV.cv_results_"
   ]
  },
  {
   "cell_type": "code",
   "execution_count": 27,
   "id": "a1c2aa37",
   "metadata": {},
   "outputs": [
    {
     "data": {
      "text/plain": [
       "GradientBoostingRegressor(n_estimators=500)"
      ]
     },
     "execution_count": 27,
     "metadata": {},
     "output_type": "execute_result"
    },
    {
     "data": {
      "application/javascript": [
       "\n",
       "            setTimeout(function() {\n",
       "                var nbb_cell_id = 27;\n",
       "                var nbb_unformatted_code = \"tuned_model = GradientBoostingRegressor(\\n    learning_rate=0.1, max_depth=3, n_estimators=500\\n)\\n\\ntuned_model.fit(X_train, y_train)\";\n",
       "                var nbb_formatted_code = \"tuned_model = GradientBoostingRegressor(\\n    learning_rate=0.1, max_depth=3, n_estimators=500\\n)\\n\\ntuned_model.fit(X_train, y_train)\";\n",
       "                var nbb_cells = Jupyter.notebook.get_cells();\n",
       "                for (var i = 0; i < nbb_cells.length; ++i) {\n",
       "                    if (nbb_cells[i].input_prompt_number == nbb_cell_id) {\n",
       "                        if (nbb_cells[i].get_text() == nbb_unformatted_code) {\n",
       "                             nbb_cells[i].set_text(nbb_formatted_code);\n",
       "                        }\n",
       "                        break;\n",
       "                    }\n",
       "                }\n",
       "            }, 500);\n",
       "            "
      ],
      "text/plain": [
       "<IPython.core.display.Javascript object>"
      ]
     },
     "metadata": {},
     "output_type": "display_data"
    }
   ],
   "source": [
    "tuned_model = GradientBoostingRegressor(\n",
    "    learning_rate=0.1, max_depth=3, n_estimators=500\n",
    ")\n",
    "\n",
    "tuned_model.fit(X_train, y_train)"
   ]
  },
  {
   "cell_type": "markdown",
   "id": "22ddae7b",
   "metadata": {},
   "source": [
    "## Vizualizing Tuned Parameters"
   ]
  },
  {
   "cell_type": "markdown",
   "id": "ba6c1779",
   "metadata": {},
   "source": [
    "#### n_estimators vs. max_depth\n",
    "Each cell of the heatmap represents the mean test score obtained by the model when it was trained. The color of each cell indicates the magnitude of the mean test score, where red represents higher mean test scores and blue represents lower mean test scores. A higher test score is better; so the combination of hyperparameters `max_depth=5` and `n_estimators=1000` is the optimize selection."
   ]
  },
  {
   "cell_type": "code",
   "execution_count": 28,
   "id": "3d9dd776",
   "metadata": {},
   "outputs": [
    {
     "data": {
      "image/png": "[encoded data removed]",
      "text/plain": [
       "<Figure size 432x288 with 2 Axes>"
      ]
     },
     "metadata": {
      "needs_background": "light"
     },
     "output_type": "display_data"
    },
    {
     "data": {
      "application/javascript": [
       "\n",
       "            setTimeout(function() {\n",
       "                var nbb_cell_id = 28;\n",
       "                var nbb_unformatted_code = \"results = pd.DataFrame(tuned_model_GSV.cv_results_)\\ntable = pd.pivot_table(\\n    results,\\n    values=\\\"mean_test_score\\\",\\n    index=\\\"param_max_depth\\\",\\n    columns=\\\"param_n_estimators\\\",\\n)\\nsns.heatmap(\\n    table,\\n    annot=True,\\n    fmt=\\\".4g\\\",\\n    cmap=\\\"coolwarm\\\",\\n    cbar_kws={\\\"format\\\": ticker.ScalarFormatter(useMathText=False)},\\n)\\nplt.xlabel(\\\"n_estimators\\\")\\nplt.ylabel(\\\"max_depth\\\")\\nplt.show()\";\n",
       "                var nbb_formatted_code = \"results = pd.DataFrame(tuned_model_GSV.cv_results_)\\ntable = pd.pivot_table(\\n    results,\\n    values=\\\"mean_test_score\\\",\\n    index=\\\"param_max_depth\\\",\\n    columns=\\\"param_n_estimators\\\",\\n)\\nsns.heatmap(\\n    table,\\n    annot=True,\\n    fmt=\\\".4g\\\",\\n    cmap=\\\"coolwarm\\\",\\n    cbar_kws={\\\"format\\\": ticker.ScalarFormatter(useMathText=False)},\\n)\\nplt.xlabel(\\\"n_estimators\\\")\\nplt.ylabel(\\\"max_depth\\\")\\nplt.show()\";\n",
       "                var nbb_cells = Jupyter.notebook.get_cells();\n",
       "                for (var i = 0; i < nbb_cells.length; ++i) {\n",
       "                    if (nbb_cells[i].input_prompt_number == nbb_cell_id) {\n",
       "                        if (nbb_cells[i].get_text() == nbb_unformatted_code) {\n",
       "                             nbb_cells[i].set_text(nbb_formatted_code);\n",
       "                        }\n",
       "                        break;\n",
       "                    }\n",
       "                }\n",
       "            }, 500);\n",
       "            "
      ],
      "text/plain": [
       "<IPython.core.display.Javascript object>"
      ]
     },
     "metadata": {},
     "output_type": "display_data"
    }
   ],
   "source": [
    "results = pd.DataFrame(tuned_model_GSV.cv_results_)\n",
    "table = pd.pivot_table(\n",
    "    results,\n",
    "    values=\"mean_test_score\",\n",
    "    index=\"param_max_depth\",\n",
    "    columns=\"param_n_estimators\",\n",
    ")\n",
    "sns.heatmap(\n",
    "    table,\n",
    "    annot=True,\n",
    "    fmt=\".4g\",\n",
    "    cmap=\"coolwarm\",\n",
    "    cbar_kws={\"format\": ticker.ScalarFormatter(useMathText=False)},\n",
    ")\n",
    "plt.xlabel(\"n_estimators\")\n",
    "plt.ylabel(\"max_depth\")\n",
    "plt.show()"
   ]
  },
  {
   "cell_type": "markdown",
   "id": "6966dc5f",
   "metadata": {},
   "source": [
    "#### learning_rate vs Mean Test Score\n",
    "This shows that .1 is the best learning rate because it balances effeciency and effectiveness, right in the elbow. "
   ]
  },
  {
   "cell_type": "code",
   "execution_count": 29,
   "id": "cbc0c6c1",
   "metadata": {},
   "outputs": [
    {
     "data": {
      "image/png": "[encoded data removed]",
      "text/plain": [
       "<Figure size 432x288 with 1 Axes>"
      ]
     },
     "metadata": {
      "needs_background": "light"
     },
     "output_type": "display_data"
    },
    {
     "data": {
      "application/javascript": [
       "\n",
       "            setTimeout(function() {\n",
       "                var nbb_cell_id = 29;\n",
       "                var nbb_unformatted_code = \"learning_rates = [0.01, 0.1, 0.5]\\nscores = [\\n    -tuned_model_GSV.cv_results_[\\\"mean_test_score\\\"][i]\\n    for i in range(len(learning_rates))\\n]\\n\\nplt.plot(learning_rates, scores, \\\"-o\\\")\\nplt.xlabel(\\\"learning rate\\\")\\nplt.ylabel(\\\"mean test score\\\")\\nplt.show()\";\n",
       "                var nbb_formatted_code = \"learning_rates = [0.01, 0.1, 0.5]\\nscores = [\\n    -tuned_model_GSV.cv_results_[\\\"mean_test_score\\\"][i]\\n    for i in range(len(learning_rates))\\n]\\n\\nplt.plot(learning_rates, scores, \\\"-o\\\")\\nplt.xlabel(\\\"learning rate\\\")\\nplt.ylabel(\\\"mean test score\\\")\\nplt.show()\";\n",
       "                var nbb_cells = Jupyter.notebook.get_cells();\n",
       "                for (var i = 0; i < nbb_cells.length; ++i) {\n",
       "                    if (nbb_cells[i].input_prompt_number == nbb_cell_id) {\n",
       "                        if (nbb_cells[i].get_text() == nbb_unformatted_code) {\n",
       "                             nbb_cells[i].set_text(nbb_formatted_code);\n",
       "                        }\n",
       "                        break;\n",
       "                    }\n",
       "                }\n",
       "            }, 500);\n",
       "            "
      ],
      "text/plain": [
       "<IPython.core.display.Javascript object>"
      ]
     },
     "metadata": {},
     "output_type": "display_data"
    }
   ],
   "source": [
    "learning_rates = [0.01, 0.1, 0.5]\n",
    "scores = [\n",
    "    -tuned_model_GSV.cv_results_[\"mean_test_score\"][i]\n",
    "    for i in range(len(learning_rates))\n",
    "]\n",
    "\n",
    "plt.plot(learning_rates, scores, \"-o\")\n",
    "plt.xlabel(\"learning rate\")\n",
    "plt.ylabel(\"mean test score\")\n",
    "plt.show()"
   ]
  },
  {
   "cell_type": "markdown",
   "id": "40404f86",
   "metadata": {},
   "source": [
    "## Evaluate the Tuned Model on TEST data"
   ]
  },
  {
   "cell_type": "code",
   "execution_count": 30,
   "id": "8df375e5",
   "metadata": {
    "scrolled": false
   },
   "outputs": [
    {
     "name": "stdout",
     "output_type": "stream",
     "text": [
      "initial_model\n",
      "--------------------------------------------------\n",
      "5-fold Cross Validation Scoring\n",
      "Average R^2 score: 0.889221144293526\n",
      "Average MAE score: 15973.497303075788\n",
      "--------------------------------------------------\n",
      "\n",
      "\n",
      " feat_select_model\n",
      "--------------------------------------------------\n",
      "5-fold Cross Validation Scoring\n",
      "Average R^2 score: 0.8857001974399896\n",
      "Average MAE score: 16231.121425825011\n",
      "--------------------------------------------------\n",
      "\n",
      "\n",
      "tuned_model\n",
      "--------------------------------------------------\n",
      "5-fold Cross Validation Scoring\n",
      "Average R^2 score: 0.8926102357710286\n",
      "Average MAE score: 15646.275516430596\n",
      "--------------------------------------------------\n",
      "\n",
      "\n",
      "tuned_model with feat select\n",
      "--------------------------------------------------\n",
      "5-fold Cross Validation Scoring\n",
      "Average R^2 score: 0.8854512940160983\n",
      "Average MAE score: 15925.319202082052\n",
      "--------------------------------------------------\n"
     ]
    },
    {
     "data": {
      "application/javascript": [
       "\n",
       "            setTimeout(function() {\n",
       "                var nbb_cell_id = 30;\n",
       "                var nbb_unformatted_code = \"print(\\\"initial_model\\\")\\nr2mae_scores(initial_model, X_test, y_test)\\n\\nprint(\\\"\\\\n\\\\n\\\", \\\"feat_select_model\\\")\\nr2mae_scores(feat_select_model, X2_test, y2_test)\\n\\nprint(\\\"\\\\n\\\\ntuned_model\\\")\\nr2mae_scores(tuned_model, X_test, y_test)\\n\\nprint(\\\"\\\\n\\\\ntuned_model with feat select\\\")\\nr2mae_scores(tuned_model, X2_test, y2_test)\";\n",
       "                var nbb_formatted_code = \"print(\\\"initial_model\\\")\\nr2mae_scores(initial_model, X_test, y_test)\\n\\nprint(\\\"\\\\n\\\\n\\\", \\\"feat_select_model\\\")\\nr2mae_scores(feat_select_model, X2_test, y2_test)\\n\\nprint(\\\"\\\\n\\\\ntuned_model\\\")\\nr2mae_scores(tuned_model, X_test, y_test)\\n\\nprint(\\\"\\\\n\\\\ntuned_model with feat select\\\")\\nr2mae_scores(tuned_model, X2_test, y2_test)\";\n",
       "                var nbb_cells = Jupyter.notebook.get_cells();\n",
       "                for (var i = 0; i < nbb_cells.length; ++i) {\n",
       "                    if (nbb_cells[i].input_prompt_number == nbb_cell_id) {\n",
       "                        if (nbb_cells[i].get_text() == nbb_unformatted_code) {\n",
       "                             nbb_cells[i].set_text(nbb_formatted_code);\n",
       "                        }\n",
       "                        break;\n",
       "                    }\n",
       "                }\n",
       "            }, 500);\n",
       "            "
      ],
      "text/plain": [
       "<IPython.core.display.Javascript object>"
      ]
     },
     "metadata": {},
     "output_type": "display_data"
    }
   ],
   "source": [
    "print(\"initial_model\")\n",
    "r2mae_scores(initial_model, X_test, y_test)\n",
    "\n",
    "print(\"\\n\\n\", \"feat_select_model\")\n",
    "r2mae_scores(feat_select_model, X2_test, y2_test)\n",
    "\n",
    "print(\"\\n\\ntuned_model\")\n",
    "r2mae_scores(tuned_model, X_test, y_test)\n",
    "\n",
    "print(\"\\n\\ntuned_model with feat select\")\n",
    "r2mae_scores(tuned_model, X2_test, y2_test)"
   ]
  },
  {
   "cell_type": "code",
   "execution_count": 31,
   "id": "75b27e03",
   "metadata": {},
   "outputs": [
    {
     "ename": "NameError",
     "evalue": "name 'STOP' is not defined",
     "output_type": "error",
     "traceback": [
      "\u001b[0;31m---------------------------------------------------------------------------\u001b[0m",
      "\u001b[0;31mNameError\u001b[0m                                 Traceback (most recent call last)",
      "Input \u001b[0;32mIn [31]\u001b[0m, in \u001b[0;36m<cell line: 1>\u001b[0;34m()\u001b[0m\n\u001b[0;32m----> 1\u001b[0m \u001b[43mSTOP\u001b[49m\n",
      "\u001b[0;31mNameError\u001b[0m: name 'STOP' is not defined"
     ]
    },
    {
     "data": {
      "application/javascript": [
       "\n",
       "            setTimeout(function() {\n",
       "                var nbb_cell_id = 31;\n",
       "                var nbb_unformatted_code = \"STOP\";\n",
       "                var nbb_formatted_code = \"STOP\";\n",
       "                var nbb_cells = Jupyter.notebook.get_cells();\n",
       "                for (var i = 0; i < nbb_cells.length; ++i) {\n",
       "                    if (nbb_cells[i].input_prompt_number == nbb_cell_id) {\n",
       "                        if (nbb_cells[i].get_text() == nbb_unformatted_code) {\n",
       "                             nbb_cells[i].set_text(nbb_formatted_code);\n",
       "                        }\n",
       "                        break;\n",
       "                    }\n",
       "                }\n",
       "            }, 500);\n",
       "            "
      ],
      "text/plain": [
       "<IPython.core.display.Javascript object>"
      ]
     },
     "metadata": {},
     "output_type": "display_data"
    }
   ],
   "source": [
    "STOP"
   ]
  },
  {
   "cell_type": "markdown",
   "id": "9f0b324e",
   "metadata": {},
   "source": [
    "## YE OLD CODE DUMP"
   ]
  },
  {
   "cell_type": "markdown",
   "id": "379c15eb",
   "metadata": {},
   "source": [
    "## Feature Engineering: Street Grouping\n",
    "#### Function from Creating_test_train notbook with a few changes"
   ]
  },
  {
   "cell_type": "code",
   "execution_count": null,
   "id": "9be4b5a4",
   "metadata": {},
   "outputs": [],
   "source": [
    "# Adding Neighborhood street back to df\n",
    "streets = housing_corr[[\"PID\", \"Neighborhood_st\", \"SalePrice\"]]\n",
    "\n",
    "train_dummies_w_streets = pd.merge(train_dummies, streets, how=\"left\", on=\"PID\")\n",
    "test_dummies_w_streets = pd.merge(test_dummies, streets, how=\"left\", on=\"PID\")"
   ]
  },
  {
   "cell_type": "code",
   "execution_count": null,
   "id": "73f548a1",
   "metadata": {},
   "outputs": [],
   "source": [
    "## Group Streets by Sale Price ##\n",
    "\n",
    "# creating a function to create groups based on mean sale price of streets in each\n",
    "# neighborhood of the training df and adds a new column with the groups created\n",
    "# It then uses the groups created using the training dataframe and creates a new column\n",
    "# in the testing dataframe by mapping these groups.  This will result in missing values\n",
    "# If there is a street neighborhood combination that was in the training dataset but \n",
    "# not the testing dataset\n",
    "\n",
    "\n",
    "def group_neighbor_streets_by_saleprice(\n",
    "    traindf=train_dummies_w_streets, testdf=test_dummies_w_streets, num_quantiles=10  # notice the difference in this line!!\n",
    "):\n",
    "    # Calculate the mean sale price for each street in the training df\n",
    "    street_prices = traindf.groupby(\"Neighborhood_st\")[\"SalePrice\"].mean()\n",
    "    \n",
    "    # Group the streets into the specified number of quantiles based on sale price\n",
    "    labels = [f\"group_{i+1}\" for i in range(num_quantiles)]\n",
    "    groups = pd.qcut(street_prices, q=num_quantiles, labels=range(1, num_quantiles + 1))\n",
    "    \n",
    "    # Create a dictionary that maps each street name to its corresponding sale price group label\n",
    "    street_group_dict = dict(zip(street_prices.index, groups))\n",
    "    \n",
    "    # Add a new column to the training dataframe with the street price groups\n",
    "    traindf[\"StreetPriceGroup\"] = traindf[\"Neighborhood_st\"].map(street_group_dict)\n",
    "    \n",
    "    # Add a new column to the testing dataframe with the street price groups\n",
    "    testdf[\"StreetPriceGroup\"] = testdf[\"Neighborhood_st\"].map(street_group_dict)\n",
    "    return street_group_dict\n"
   ]
  },
  {
   "cell_type": "code",
   "execution_count": null,
   "id": "aed5918d",
   "metadata": {},
   "outputs": [],
   "source": [
    "# the num of quantiles can be changed and it is assigned to d which is the dictionary that\n",
    "# will be used to fill in the missing values\n",
    "\n",
    "d = group_neighbor_streets_by_saleprice(\n",
    "    traindf=train_dummies_w_streets,  # the difference here as well!!\n",
    "    testdf=test_dummies_w_streets,  # the difference here as well!!\n",
    "    num_quantiles=10,\n",
    ")"
   ]
  },
  {
   "cell_type": "code",
   "execution_count": null,
   "id": "30f217e0",
   "metadata": {},
   "outputs": [],
   "source": [
    "## Supporting Function to group_neighbor_streets_by_saleprice to FILL_NA's ##\n",
    "\n",
    "# Dictionary stores missing values in the test df with another group in the same neighborhood\n",
    "\n",
    "\n",
    "def fill_na(testdf=test_dummies_w_streets, d={}):  # DIFFERENT HERE TOO\n",
    "    # Extract the first part of the string in the \"Neighborhood_st\" column\n",
    "    testdf[\"Neighborhood_prefix\"] = testdf[\"Neighborhood_st\"].map(\n",
    "        lambda x: x.split(\"_\")[0]\n",
    "    )\n",
    "\n",
    "    # Create a new dict that only contains the neighborhood\n",
    "    new_dict = {k.split(\"_\")[0]: v for k, v in d.items()}\n",
    "\n",
    "    # Create a list of PIDs with missing StreetPriceGroup values\n",
    "    na_pid_list = testdf[testdf[\"StreetPriceGroup\"].isna()][\"PID\"].tolist()\n",
    "\n",
    "    # Create a Boolean mask to filter the DataFrame\n",
    "    mask = testdf[\"PID\"].isin(na_pid_list)\n",
    "\n",
    "    # Apply the dictionary mapping only to the filtered rows\n",
    "    testdf.loc[mask, \"StreetPriceGroup\"] = testdf[mask][\"Neighborhood_prefix\"].map(\n",
    "        new_dict\n",
    "    )\n",
    "\n",
    "    # Drop the column since there is no more use for it\n",
    "    testdf.drop(\"Neighborhood_prefix\", axis=1, inplace=True)"
   ]
  },
  {
   "cell_type": "code",
   "execution_count": null,
   "id": "13d205de",
   "metadata": {},
   "outputs": [],
   "source": [
    "fill_na(test_dummies_w_streets, d)"
   ]
  },
  {
   "cell_type": "code",
   "execution_count": null,
   "id": "d5867a81",
   "metadata": {},
   "outputs": [],
   "source": [
    "# Remove the column that was used to create groupings\n",
    "train_dummies_w_streets.drop(\"Neighborhood_st\", axis=1, inplace=True)\n",
    "test_dummies_w_streets.drop(\"Neighborhood_st\", axis=1, inplace=True)"
   ]
  },
  {
   "cell_type": "code",
   "execution_count": null,
   "id": "75a75550",
   "metadata": {
    "scrolled": true
   },
   "outputs": [],
   "source": [
    "# Looks like PID should be removed and SalePrice moved to the first column\n",
    "train_dummies_w_streets"
   ]
  },
  {
   "cell_type": "code",
   "execution_count": null,
   "id": "140d8e6e",
   "metadata": {},
   "outputs": [],
   "source": [
    "# Remove PID and move SalePrice to first column\n",
    "# I need to do this in the future and save the csv's after so we dont have to do this each time\n",
    "\n",
    "# TRAIN\n",
    "train_dummies_w_streets = train_dummies_w_streets.iloc[\n",
    "    :,\n",
    "    train_dummies_w_streets.columns.tolist().index(\"SalePrice\") : (\n",
    "        train_dummies_w_streets.columns.tolist().index(\"SalePrice\") + 1\n",
    "    ),\n",
    "].join(train_dummies_w_streets.drop(columns=[\"SalePrice\", \"PID\"]))\n",
    "\n",
    "# TEST\n",
    "test_dummies_w_streets = test_dummies_w_streets.iloc[\n",
    "    :,\n",
    "    test_dummies_w_streets.columns.tolist().index(\"SalePrice\") : (\n",
    "        test_dummies_w_streets.columns.tolist().index(\"SalePrice\") + 1\n",
    "    ),\n",
    "].join(test_dummies_w_streets.drop(columns=[\"SalePrice\", \"PID\"]))"
   ]
  },
  {
   "cell_type": "code",
   "execution_count": null,
   "id": "e7ee3f22",
   "metadata": {},
   "outputs": [],
   "source": [
    "# One Hot Encode it.\n",
    "\n",
    "# List categorical columns to be dummified for train/test\n",
    "cat_cols = [\"StreetPriceGroup\"]\n",
    "\n",
    "# Dummify the categorical columns in both train/test set\n",
    "train_dummies_w_streets2 = pd.get_dummies(train_dummies_w_streets, columns=cat_cols)\n",
    "test_dummies_w_streets2 = pd.get_dummies(test_dummies_w_streets, columns=cat_cols)\n",
    "\n",
    "# Ensure the same dummy columns are present in both train and test sets\n",
    "train_dummies_w_streets2, test_dummies_w_streets2 = train_dummies_w_streets2.align(\n",
    "    test_dummies_w_streets2, join=\"left\", axis=1\n",
    ")\n",
    "\n",
    "# Fill any missing columns in the test set with zeros\n",
    "test_dummies_w_streets2.fillna(0, inplace=True)"
   ]
  },
  {
   "cell_type": "markdown",
   "id": "156e90c2",
   "metadata": {},
   "source": [
    "## Same processing as before"
   ]
  },
  {
   "cell_type": "code",
   "execution_count": null,
   "id": "a14e89b7",
   "metadata": {},
   "outputs": [],
   "source": [
    "# Define Model and Variables\n",
    "initial_model2 = GradientBoostingRegressor()\n",
    "X_train2 = train_dummies_w_streets2\n",
    "y_train2 = y_train.copy()\n",
    "X_test2 = test_dummies_w_streets2\n",
    "y_test2 = y_test.copy()\n",
    "\n",
    "# Drop columns with less than 20 observations in it's column\n",
    "col_sums2 = X_train2.iloc[:, 45:].sum()\n",
    "col_sums_filt2 = col_sums2[col_sums2 < 20]\n",
    "\n",
    "small_dumb_cols2 = list(col_sums_filt2.index)\n",
    "\n",
    "X_train2.drop(columns=small_dumb_cols2, inplace=True)\n",
    "X_test2.drop(columns=small_dumb_cols2, inplace=True)"
   ]
  },
  {
   "cell_type": "markdown",
   "id": "5ecadd02",
   "metadata": {},
   "source": [
    "## Model"
   ]
  },
  {
   "cell_type": "code",
   "execution_count": null,
   "id": "c5f26bb3",
   "metadata": {},
   "outputs": [],
   "source": [
    "# initial_model.set_params(verbose=1)\n",
    "# initial_model.fit(X_train, y_train)\n",
    "# initial_scores = cross_val_score(\n",
    "#     initial_model, X_train, y_train, \n",
    "#     cv=5, \n",
    "#     scoring=\"neg_mean_squared_error\", \n",
    "#     verbose=2\n",
    "# )\n",
    "# print(\"Initial Model RMSE: \", np.sqrt(-1 * np.mean(initial_scores)))"
   ]
  },
  {
   "cell_type": "code",
   "execution_count": null,
   "id": "3f77a81f",
   "metadata": {},
   "outputs": [],
   "source": [
    "# k-fold cross-validation\n",
    "\n",
    "# Create the Gradient Boosted Regression model and evaluate it using k-fold cross-validation\n",
    "from sklearn.ensemble import GradientBoostingRegressor\n",
    "from sklearn.metrics import mean_squared_error, r2_score\n",
    "\n",
    "mse_scores = []\n",
    "r2_scores = []\n",
    "\n",
    "for train_index, test_index in kf.split(X):\n",
    "    X_train, X_test = X.iloc[train_index], X.iloc[test_index]\n",
    "    y_train, y_test = y.iloc[train_index], y.iloc[test_index]\n",
    "\n",
    "    model = GradientBoostingRegressor(\n",
    "        n_estimators=100, learning_rate=0.1, max_depth=3, random_state=42\n",
    "    )\n",
    "    model.fit(X_train, y_train)\n",
    "\n",
    "    y_pred = model.predict(X_test)\n",
    "    mse = mean_squared_error(y_test, y_pred)\n",
    "    r2 = r2_score(y_test, y_pred)\n",
    "\n",
    "    mse_scores.append(mse)\n",
    "    r2_scores.append(r2)\n",
    "\n",
    "print(\"MSE scores:\", mse_scores)\n",
    "print(\"R-squared scores:\", r2_scores)"
   ]
  },
  {
   "cell_type": "markdown",
   "id": "31ae4bb3",
   "metadata": {},
   "source": [
    "The output shows the MSE and R-squared scores for each fold of the cross-validation. \n",
    "The MSE scores range from 322,746,634 to 949,124,370 while the R-squared scores range from 0.8501 to 0.9400. \n",
    "\n",
    "These scores indicate how well the model is performing on the testing data, with higher R-squared scores and lower MSE scores indicating better performance. \n",
    "\n",
    "The fact that the R-squared scores are relatively high and the MSE scores are relatively low suggests that the model is performing well on the data."
   ]
  },
  {
   "cell_type": "markdown",
   "id": "e6ead752",
   "metadata": {},
   "source": [
    "## Tuning"
   ]
  },
  {
   "cell_type": "code",
   "execution_count": null,
   "id": "13ead283",
   "metadata": {},
   "outputs": [],
   "source": [
    "def tune_gbm(learning_rate, max_depth):\n",
    "    gbm = GradientBoostingRegressor(\n",
    "        learning_rate=learning_rate, n_estimators=10000, max_depth=max_depth\n",
    "    )\n",
    "    gbm.fit(X_train, y_train)\n",
    "\n",
    "    return gbm\n",
    "\n",
    "def demo_gbm_tuning(model, start=0, end=10000, training_curve=True):\n",
    "    \"\"\"\n",
    "    This function takes a GBM regression model model as input and generates a \n",
    "    performance visualization of the model using the test dataset (X_test and y_test). \n",
    "    The function calculates the mean squared error (MSE) on both the training and test \n",
    "    datasets using a generator that iteratively predicts the targets for different numbers of estimators. \n",
    "    The start and end arguments control the range of the x-axis (i.e., the number of estimators), \n",
    "    and the training_curve argument controls whether to show the training curve or not. \n",
    "    The function also prints the best test score and the corresponding number of estimators.\n",
    "    \"\"\"\n",
    "    gen_train = model.staged_predict(X_train)\n",
    "    gen_test = model.staged_predict(X_test)\n",
    "\n",
    "    trainMSE = []\n",
    "    testMSE = []\n",
    "    steps = range(1, 10001)\n",
    "    for n in tqdm(steps):\n",
    "        y_pred_train = next(gen_train)\n",
    "        y_pred_test = next(gen_test)\n",
    "        trainMSE.append(mean_squared_error(y_pred_train, y_train))\n",
    "        testMSE.append(mean_squared_error(y_pred_test, y_test))\n",
    "\n",
    "    print(\n",
    "        \"The best test score is {:.2f} at the step {}\".format(\n",
    "            min(testMSE), np.argmin(testMSE) + 1\n",
    "        )\n",
    "    )\n",
    "    print(\"-\" * 50)\n",
    "    plt.plot(range(start, end), testMSE[start:end], label=\"test\")\n",
    "    if training_curve:\n",
    "        plt.plot(range(start, end), trainMSE[start:end], label=\"train\")\n",
    "    plt.legend()\n",
    "    plt.show()\n"
   ]
  },
  {
   "cell_type": "code",
   "execution_count": null,
   "id": "0e78b492",
   "metadata": {},
   "outputs": [],
   "source": [
    "learning_rate = 0.001\n",
    "max_depth = 4\n",
    "\n",
    "model1 = tune_gbm(learning_rate, max_depth)\n",
    "\n",
    "start = 0\n",
    "end = 10000  # change start and end to zoom in\n",
    "\n",
    "demo_gbm_tuning(model1, start, end)"
   ]
  },
  {
   "cell_type": "markdown",
   "id": "13be5f7f",
   "metadata": {},
   "source": [
    "The goal is to find the optimal number of estimators where the blue line is at its lowest point while the orange line is also decreasing or leveling off. This will ensure that the model is not overfitting and is generalizing well to new data.\n",
    "\n",
    "The curve with the lowest test MSE represents the best-performing learning rate.\n",
    "\n",
    "You can also look at the shape of the curves to gain insight into the behavior of the model. If the curves are flat or increasing, it may indicate that the model is overfitting or underfitting the data. If the curves are decreasing and plateauing, it may suggest that the model is performing well and additional tuning may not be necessary."
   ]
  },
  {
   "cell_type": "code",
   "execution_count": null,
   "id": "b1642c85",
   "metadata": {},
   "outputs": [],
   "source": [
    "learning_rate = 0.05\n",
    "max_depth = 4\n",
    "\n",
    "model2 = tune_gbm(learning_rate, max_depth)\n",
    "\n",
    "start = 0\n",
    "end = 10000\n",
    "\n",
    "demo_gbm_tuning(model2, start, end)"
   ]
  },
  {
   "cell_type": "code",
   "execution_count": null,
   "id": "a2c533fb",
   "metadata": {},
   "outputs": [],
   "source": [
    "learning_rate = 0.01\n",
    "max_depth = 4\n",
    "\n",
    "model2 = tune_gbm(learning_rate, max_depth)\n",
    "\n",
    "start = 0\n",
    "end = 10000\n",
    "\n",
    "demo_gbm_tuning(model2, start, end)"
   ]
  },
  {
   "cell_type": "code",
   "execution_count": null,
   "id": "c3755414",
   "metadata": {
    "scrolled": false
   },
   "outputs": [],
   "source": [
    "top_n = 20\n",
    "\n",
    "sorted_importance = sorted(\n",
    "    zip(X_train.columns, gbm.feature_importances_), key=lambda t: t[1], reverse=True,\n",
    ")[:top_n]\n",
    "\n",
    "sorted_importance"
   ]
  },
  {
   "cell_type": "code",
   "execution_count": null,
   "id": "134de3d8",
   "metadata": {},
   "outputs": [],
   "source": [
    "a, b = zip(*sorted_importance)  # this splits the list of tuples into two lists\n",
    "pd.DataFrame({\"feature_name\": a, \"importance_score\": b}).plot.bar(\n",
    "    x=\"feature_name\", y=\"importance_score\", legend=None\n",
    ")\n",
    "plt.title(\"Feature Importance Plot\")"
   ]
  },
  {
   "cell_type": "code",
   "execution_count": null,
   "id": "199740fb",
   "metadata": {},
   "outputs": [],
   "source": [
    "## Cumulative Feature Importance ##\n",
    "\n",
    "\n",
    "cumulative_importance = np.cumsum([x[1] for x in sorted_importance])\n",
    "\n",
    "plt.plot(cumulative_importance)\n",
    "plt.xlabel(\"Number of Features\")\n",
    "plt.ylabel(\"Cumulative Feature Importance\")\n",
    "plt.show()"
   ]
  },
  {
   "cell_type": "code",
   "execution_count": null,
   "id": "35874bf8",
   "metadata": {},
   "outputs": [],
   "source": [
    "## WARNING ## \n",
    "## This takes 20+min to run ##\n",
    "\n",
    "# Grid Search for best parameters\n",
    "\n",
    "# Define the parameter grid to search\n",
    "param_grid = {\n",
    "    'learning_rate': [0.1, 0.05, 0.01],\n",
    "    'n_estimators': [5000, 10000, 20000]\n",
    "}\n",
    "\n",
    "# Create a GBM model\n",
    "gbm = GradientBoostingRegressor(max_depth=4)\n",
    "\n",
    "# Perform grid search with cross-validation\n",
    "grid_search = GridSearchCV(gbm, param_grid=param_grid, cv=5)\n",
    "grid_search.fit(X_train, y_train)\n",
    "\n",
    "# Print the best parameters and best score\n",
    "print(\"Best parameters: \", grid_search.best_params_)\n",
    "print(\"Best score: \", -grid_search.best_score_)\n"
   ]
  },
  {
   "cell_type": "code",
   "execution_count": null,
   "id": "9e67faea",
   "metadata": {},
   "outputs": [],
   "source": [
    "-------------------"
   ]
  },
  {
   "cell_type": "code",
   "execution_count": null,
   "id": "f65f744a",
   "metadata": {},
   "outputs": [],
   "source": [
    "# DROPPED 2023-03-27\n",
    "\n",
    "# None of the columns have all o's\n",
    "# BUT some of the dummified columns have a very small amount of data\n",
    "\n",
    "col_sums = X_train.iloc[:, 45:].sum()\n",
    "col_sums_filt = col_sums[col_sums < 20]\n",
    "print(col_sums_filt.sort_values())\n",
    "\n",
    "# Remove all the dummified columns that were only 20 or less observations.\n",
    "# out of the total 1790 observations of the train set\n",
    "\n",
    "small_dumb_cols = list(col_sums_filt.index)\n",
    "\n",
    "X_train.drop(columns=small_dumb_cols, inplace=True)\n",
    "X_test.drop(columns=small_dumb_cols, inplace=True)\n",
    "\n",
    "# Dropped ~78 columns\n",
    "print(X_train.shape)\n",
    "print(X_test.shape)"
   ]
  }
 ],
 "metadata": {
  "kernelspec": {
   "display_name": "Python 3 (ipykernel)",
   "language": "python",
   "name": "python3"
  },
  "language_info": {
   "codemirror_mode": {
    "name": "ipython",
    "version": 3
   },
   "file_extension": ".py",
   "mimetype": "text/x-python",
   "name": "python",
   "nbconvert_exporter": "python",
   "pygments_lexer": "ipython3",
   "version": "3.9.12"
  }
 },
 "nbformat": 4,
 "nbformat_minor": 5
}
