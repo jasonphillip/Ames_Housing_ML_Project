{
 "cells": [
  {
   "cell_type": "markdown",
   "id": "282c3d12",
   "metadata": {},
   "source": [
    "### Load Packages and Data"
   ]
  },
  {
   "cell_type": "code",
   "execution_count": 29,
   "id": "0d5ea16c",
   "metadata": {},
   "outputs": [
    {
     "name": "stdout",
     "output_type": "stream",
     "text": [
      "The nb_black extension is already loaded. To reload it, use:\n",
      "  %reload_ext nb_black\n"
     ]
    },
    {
     "data": {
      "application/javascript": [
       "\n",
       "            setTimeout(function() {\n",
       "                var nbb_cell_id = 29;\n",
       "                var nbb_unformatted_code = \"import numpy as np\\nimport pandas as pd\\nimport matplotlib.pyplot as plt\\nimport matplotlib.ticker as ticker\\nimport seaborn as sns\\n\\nfrom sklearn.preprocessing import OrdinalEncoder\\nfrom sklearn.model_selection import train_test_split\\nfrom sklearn.model_selection import cross_val_score\\nfrom sklearn import ensemble\\nfrom sklearn.ensemble import RandomForestRegressor\\nfrom sklearn.metrics import mean_squared_error, r2_score\\nfrom sklearn.model_selection import GridSearchCV\\nfrom sklearn.model_selection import RandomizedSearchCV\\nfrom sklearn.ensemble import StackingRegressor\\nfrom sklearn.linear_model import Ridge\\nfrom sklearn.svm import SVR\\n\\nimport pickle\\nimport os\\n\\n# The below extension properly formats a cell after it is run\\n%load_ext nb_black\\n\\n# Setting the maximum number of rows and columns to 200\\npd.set_option(\\\"display.max_rows\\\", 200)\\npd.set_option(\\\"display.max_columns\\\", 200)\\n\\n# Setting random seed\\nnp.random.seed(42)\";\n",
       "                var nbb_formatted_code = \"import numpy as np\\nimport pandas as pd\\nimport matplotlib.pyplot as plt\\nimport matplotlib.ticker as ticker\\nimport seaborn as sns\\n\\nfrom sklearn.preprocessing import OrdinalEncoder\\nfrom sklearn.model_selection import train_test_split\\nfrom sklearn.model_selection import cross_val_score\\nfrom sklearn import ensemble\\nfrom sklearn.ensemble import RandomForestRegressor\\nfrom sklearn.metrics import mean_squared_error, r2_score\\nfrom sklearn.model_selection import GridSearchCV\\nfrom sklearn.model_selection import RandomizedSearchCV\\nfrom sklearn.ensemble import StackingRegressor\\nfrom sklearn.linear_model import Ridge\\nfrom sklearn.svm import SVR\\n\\nimport pickle\\nimport os\\n\\n# The below extension properly formats a cell after it is run\\n%load_ext nb_black\\n\\n# Setting the maximum number of rows and columns to 200\\npd.set_option(\\\"display.max_rows\\\", 200)\\npd.set_option(\\\"display.max_columns\\\", 200)\\n\\n# Setting random seed\\nnp.random.seed(42)\";\n",
       "                var nbb_cells = Jupyter.notebook.get_cells();\n",
       "                for (var i = 0; i < nbb_cells.length; ++i) {\n",
       "                    if (nbb_cells[i].input_prompt_number == nbb_cell_id) {\n",
       "                        if (nbb_cells[i].get_text() == nbb_unformatted_code) {\n",
       "                             nbb_cells[i].set_text(nbb_formatted_code);\n",
       "                        }\n",
       "                        break;\n",
       "                    }\n",
       "                }\n",
       "            }, 500);\n",
       "            "
      ],
      "text/plain": [
       "<IPython.core.display.Javascript object>"
      ]
     },
     "metadata": {},
     "output_type": "display_data"
    }
   ],
   "source": [
    "import numpy as np\n",
    "import pandas as pd\n",
    "import matplotlib.pyplot as plt\n",
    "import matplotlib.ticker as ticker\n",
    "import seaborn as sns\n",
    "\n",
    "from sklearn.preprocessing import OrdinalEncoder\n",
    "from sklearn.model_selection import train_test_split\n",
    "from sklearn.model_selection import cross_val_score\n",
    "from sklearn import ensemble\n",
    "from sklearn.ensemble import RandomForestRegressor\n",
    "from sklearn.metrics import mean_squared_error, r2_score\n",
    "from sklearn.model_selection import GridSearchCV\n",
    "from sklearn.model_selection import RandomizedSearchCV\n",
    "from sklearn.ensemble import StackingRegressor\n",
    "from sklearn.linear_model import Ridge\n",
    "from sklearn.svm import SVR\n",
    "\n",
    "import pickle\n",
    "import os\n",
    "\n",
    "# The below extension properly formats a cell after it is run\n",
    "%load_ext nb_black\n",
    "\n",
    "# Setting the maximum number of rows and columns to 200\n",
    "pd.set_option(\"display.max_rows\", 200)\n",
    "pd.set_option(\"display.max_columns\", 200)\n",
    "\n",
    "# Setting random seed\n",
    "np.random.seed(42)\n"
   ]
  },
  {
   "cell_type": "code",
   "execution_count": 30,
   "id": "29f45b3f",
   "metadata": {},
   "outputs": [
    {
     "data": {
      "application/javascript": [
       "\n",
       "            setTimeout(function() {\n",
       "                var nbb_cell_id = 30;\n",
       "                var nbb_unformatted_code = \"# Load Data\\nhousing = pd.read_csv(\\\"../data/housing_corr.csv\\\")\";\n",
       "                var nbb_formatted_code = \"# Load Data\\nhousing = pd.read_csv(\\\"../data/housing_corr.csv\\\")\";\n",
       "                var nbb_cells = Jupyter.notebook.get_cells();\n",
       "                for (var i = 0; i < nbb_cells.length; ++i) {\n",
       "                    if (nbb_cells[i].input_prompt_number == nbb_cell_id) {\n",
       "                        if (nbb_cells[i].get_text() == nbb_unformatted_code) {\n",
       "                             nbb_cells[i].set_text(nbb_formatted_code);\n",
       "                        }\n",
       "                        break;\n",
       "                    }\n",
       "                }\n",
       "            }, 500);\n",
       "            "
      ],
      "text/plain": [
       "<IPython.core.display.Javascript object>"
      ]
     },
     "metadata": {},
     "output_type": "display_data"
    }
   ],
   "source": [
    "# Load Data\n",
    "housing = pd.read_csv(\"../data/housing_corr.csv\")"
   ]
  },
  {
   "cell_type": "code",
   "execution_count": 31,
   "id": "a4e1150b",
   "metadata": {},
   "outputs": [
    {
     "data": {
      "text/plain": [
       "(2558, 65)"
      ]
     },
     "execution_count": 31,
     "metadata": {},
     "output_type": "execute_result"
    },
    {
     "data": {
      "application/javascript": [
       "\n",
       "            setTimeout(function() {\n",
       "                var nbb_cell_id = 31;\n",
       "                var nbb_unformatted_code = \"housing.shape\";\n",
       "                var nbb_formatted_code = \"housing.shape\";\n",
       "                var nbb_cells = Jupyter.notebook.get_cells();\n",
       "                for (var i = 0; i < nbb_cells.length; ++i) {\n",
       "                    if (nbb_cells[i].input_prompt_number == nbb_cell_id) {\n",
       "                        if (nbb_cells[i].get_text() == nbb_unformatted_code) {\n",
       "                             nbb_cells[i].set_text(nbb_formatted_code);\n",
       "                        }\n",
       "                        break;\n",
       "                    }\n",
       "                }\n",
       "            }, 500);\n",
       "            "
      ],
      "text/plain": [
       "<IPython.core.display.Javascript object>"
      ]
     },
     "metadata": {},
     "output_type": "display_data"
    }
   ],
   "source": [
    "housing.shape"
   ]
  },
  {
   "cell_type": "code",
   "execution_count": 32,
   "id": "bffffa66",
   "metadata": {},
   "outputs": [
    {
     "data": {
      "application/javascript": [
       "\n",
       "            setTimeout(function() {\n",
       "                var nbb_cell_id = 32;\n",
       "                var nbb_unformatted_code = \"# Dropping columns not needed\\nhousing.drop(\\n    [\\\"PID\\\", \\\"Neighborhood_st\\\"], axis=1, inplace=True,\\n)\";\n",
       "                var nbb_formatted_code = \"# Dropping columns not needed\\nhousing.drop(\\n    [\\\"PID\\\", \\\"Neighborhood_st\\\"], axis=1, inplace=True,\\n)\";\n",
       "                var nbb_cells = Jupyter.notebook.get_cells();\n",
       "                for (var i = 0; i < nbb_cells.length; ++i) {\n",
       "                    if (nbb_cells[i].input_prompt_number == nbb_cell_id) {\n",
       "                        if (nbb_cells[i].get_text() == nbb_unformatted_code) {\n",
       "                             nbb_cells[i].set_text(nbb_formatted_code);\n",
       "                        }\n",
       "                        break;\n",
       "                    }\n",
       "                }\n",
       "            }, 500);\n",
       "            "
      ],
      "text/plain": [
       "<IPython.core.display.Javascript object>"
      ]
     },
     "metadata": {},
     "output_type": "display_data"
    }
   ],
   "source": [
    "# Dropping columns not needed\n",
    "housing.drop(\n",
    "    [\"PID\", \"Neighborhood_st\"], axis=1, inplace=True,\n",
    ")"
   ]
  },
  {
   "cell_type": "markdown",
   "id": "6ef8d479",
   "metadata": {},
   "source": [
    "### I'm using the mean saleprice by neigbhorhood to confirm later encoding was done properly"
   ]
  },
  {
   "cell_type": "code",
   "execution_count": 33,
   "id": "c15ef129",
   "metadata": {},
   "outputs": [
    {
     "name": "stdout",
     "output_type": "stream",
     "text": [
      "Neighborhood\n",
      "Blmngtn    196237.173913\n",
      "Blueste    143590.000000\n",
      "BrDale     106094.827586\n",
      "BrkSide    125992.475728\n",
      "ClearCr    215997.435897\n",
      "CollgCr    198103.720339\n",
      "Crawfor    202027.956522\n",
      "Edwards    132003.993865\n",
      "Gilbert    189401.965035\n",
      "Greens     193531.250000\n",
      "IDOTRR     109743.000000\n",
      "MeadowV     96836.470588\n",
      "Mitchel    163389.029126\n",
      "NAmes      144960.639706\n",
      "NPkVill    140743.181818\n",
      "NWAmes     190329.715447\n",
      "NoRidge    326114.298507\n",
      "NridgHt    313662.495868\n",
      "OldTown    126476.975962\n",
      "SWISU      132896.048780\n",
      "Sawyer     137402.215827\n",
      "SawyerW    189152.017857\n",
      "Somerst    228761.853147\n",
      "StoneBr    305307.930233\n",
      "Timber     243461.807692\n",
      "Veenker    251263.043478\n",
      "Name: SalePrice, dtype: float64\n"
     ]
    },
    {
     "data": {
      "application/javascript": [
       "\n",
       "            setTimeout(function() {\n",
       "                var nbb_cell_id = 33;\n",
       "                var nbb_unformatted_code = \"# Calculate the average sale price for each neighborhood\\naverage_sale_price = housing.groupby(\\\"Neighborhood\\\")[\\\"SalePrice\\\"].mean()\\n\\n# Display the average sale price\\nprint(average_sale_price)\";\n",
       "                var nbb_formatted_code = \"# Calculate the average sale price for each neighborhood\\naverage_sale_price = housing.groupby(\\\"Neighborhood\\\")[\\\"SalePrice\\\"].mean()\\n\\n# Display the average sale price\\nprint(average_sale_price)\";\n",
       "                var nbb_cells = Jupyter.notebook.get_cells();\n",
       "                for (var i = 0; i < nbb_cells.length; ++i) {\n",
       "                    if (nbb_cells[i].input_prompt_number == nbb_cell_id) {\n",
       "                        if (nbb_cells[i].get_text() == nbb_unformatted_code) {\n",
       "                             nbb_cells[i].set_text(nbb_formatted_code);\n",
       "                        }\n",
       "                        break;\n",
       "                    }\n",
       "                }\n",
       "            }, 500);\n",
       "            "
      ],
      "text/plain": [
       "<IPython.core.display.Javascript object>"
      ]
     },
     "metadata": {},
     "output_type": "display_data"
    }
   ],
   "source": [
    "# Calculate the average sale price for each neighborhood\n",
    "average_sale_price = housing.groupby(\"Neighborhood\")[\"SalePrice\"].mean()\n",
    "\n",
    "# Display the average sale price\n",
    "print(average_sale_price)"
   ]
  },
  {
   "cell_type": "markdown",
   "id": "b78ca8ef",
   "metadata": {},
   "source": [
    "I'm going to encode the 'Neighborhood' column of the housing dataset using custom mapping, and encode the other categorical features using the OrdinalEncoder without specifying their categories."
   ]
  },
  {
   "cell_type": "code",
   "execution_count": 34,
   "id": "90121476",
   "metadata": {},
   "outputs": [
    {
     "data": {
      "application/javascript": [
       "\n",
       "            setTimeout(function() {\n",
       "                var nbb_cell_id = 34;\n",
       "                var nbb_unformatted_code = \"# Getting a list of categorical features (i.e., object type columns)\\ncat_features = list(housing.select_dtypes(include=[\\\"object\\\"]).columns)\\n\\n# Removing the 'Neighborhood' column from cat_features since this will be dealt with in a different way\\ncat_features.remove('Neighborhood')\\n\\n\\n# Neighborhood mapping dictionary\\nNeighborhood_mapping = {\\n    \\\"SWISU\\\": 0,\\n    \\\"Edwards\\\": 1,\\n    \\\"IDOTRR\\\": 2,\\n    \\\"OldTown\\\": 3,\\n    \\\"NWAmes\\\": 4,\\n    \\\"Blmngtn\\\": 5,\\n    \\\"Mitchel\\\": 6,\\n    \\\"NridgHt\\\": 7,\\n    \\\"NAmes\\\": 8,\\n    \\\"CollgCr\\\": 9,\\n    \\\"SawyerW\\\": 10,\\n    \\\"MeadowV\\\": 11,\\n    \\\"BrDale\\\": 12,\\n    \\\"Gilbert\\\": 13,\\n    \\\"Timber\\\": 14,\\n    \\\"Somerst\\\": 15,\\n    \\\"BrkSide\\\": 16,\\n    \\\"NoRidge\\\": 17,\\n    \\\"Sawyer\\\": 18,\\n    \\\"Crawfor\\\": 19,\\n    \\\"Greens\\\": 20,\\n    \\\"ClearCr\\\": 21,\\n    \\\"StoneBr\\\": 22,\\n    \\\"Veenker\\\": 23,\\n    \\\"NPkVill\\\": 24,\\n    \\\"Blueste\\\": 25,\\n}\\n\\n# Creating a list of neighborhoods sorted by their values in the dictionary\\nsorted_neighborhoods = sorted(Neighborhood_mapping, key=Neighborhood_mapping.get)\\n\\n# Creating an instance of the OrdinalEncoder class with the custom categories for the 'Neighborhood' column\\nneighborhood_encoder = OrdinalEncoder(categories=[sorted_neighborhoods])\\n\\n# Fitting and transform the 'Neighborhood' column\\nhousing['Neighborhood'] = neighborhood_encoder.fit_transform(housing[['Neighborhood']])\\n\\n# Creating an instance of the OrdinalEncoder class for the other categorical features\\nother_encoder = OrdinalEncoder()\\n\\n# Fit and transform the other categorical features\\nhousing[cat_features] = other_encoder.fit_transform(housing[cat_features])\";\n",
       "                var nbb_formatted_code = \"# Getting a list of categorical features (i.e., object type columns)\\ncat_features = list(housing.select_dtypes(include=[\\\"object\\\"]).columns)\\n\\n# Removing the 'Neighborhood' column from cat_features since this will be dealt with in a different way\\ncat_features.remove(\\\"Neighborhood\\\")\\n\\n\\n# Neighborhood mapping dictionary\\nNeighborhood_mapping = {\\n    \\\"SWISU\\\": 0,\\n    \\\"Edwards\\\": 1,\\n    \\\"IDOTRR\\\": 2,\\n    \\\"OldTown\\\": 3,\\n    \\\"NWAmes\\\": 4,\\n    \\\"Blmngtn\\\": 5,\\n    \\\"Mitchel\\\": 6,\\n    \\\"NridgHt\\\": 7,\\n    \\\"NAmes\\\": 8,\\n    \\\"CollgCr\\\": 9,\\n    \\\"SawyerW\\\": 10,\\n    \\\"MeadowV\\\": 11,\\n    \\\"BrDale\\\": 12,\\n    \\\"Gilbert\\\": 13,\\n    \\\"Timber\\\": 14,\\n    \\\"Somerst\\\": 15,\\n    \\\"BrkSide\\\": 16,\\n    \\\"NoRidge\\\": 17,\\n    \\\"Sawyer\\\": 18,\\n    \\\"Crawfor\\\": 19,\\n    \\\"Greens\\\": 20,\\n    \\\"ClearCr\\\": 21,\\n    \\\"StoneBr\\\": 22,\\n    \\\"Veenker\\\": 23,\\n    \\\"NPkVill\\\": 24,\\n    \\\"Blueste\\\": 25,\\n}\\n\\n# Creating a list of neighborhoods sorted by their values in the dictionary\\nsorted_neighborhoods = sorted(Neighborhood_mapping, key=Neighborhood_mapping.get)\\n\\n# Creating an instance of the OrdinalEncoder class with the custom categories for the 'Neighborhood' column\\nneighborhood_encoder = OrdinalEncoder(categories=[sorted_neighborhoods])\\n\\n# Fitting and transform the 'Neighborhood' column\\nhousing[\\\"Neighborhood\\\"] = neighborhood_encoder.fit_transform(housing[[\\\"Neighborhood\\\"]])\\n\\n# Creating an instance of the OrdinalEncoder class for the other categorical features\\nother_encoder = OrdinalEncoder()\\n\\n# Fit and transform the other categorical features\\nhousing[cat_features] = other_encoder.fit_transform(housing[cat_features])\";\n",
       "                var nbb_cells = Jupyter.notebook.get_cells();\n",
       "                for (var i = 0; i < nbb_cells.length; ++i) {\n",
       "                    if (nbb_cells[i].input_prompt_number == nbb_cell_id) {\n",
       "                        if (nbb_cells[i].get_text() == nbb_unformatted_code) {\n",
       "                             nbb_cells[i].set_text(nbb_formatted_code);\n",
       "                        }\n",
       "                        break;\n",
       "                    }\n",
       "                }\n",
       "            }, 500);\n",
       "            "
      ],
      "text/plain": [
       "<IPython.core.display.Javascript object>"
      ]
     },
     "metadata": {},
     "output_type": "display_data"
    }
   ],
   "source": [
    "# Getting a list of categorical features (i.e., object type columns)\n",
    "cat_features = list(housing.select_dtypes(include=[\"object\"]).columns)\n",
    "\n",
    "# Removing the 'Neighborhood' column from cat_features since this will be dealt with in a different way\n",
    "cat_features.remove('Neighborhood')\n",
    "\n",
    "\n",
    "# Neighborhood mapping dictionary\n",
    "Neighborhood_mapping = {\n",
    "    \"SWISU\": 0,\n",
    "    \"Edwards\": 1,\n",
    "    \"IDOTRR\": 2,\n",
    "    \"OldTown\": 3,\n",
    "    \"NWAmes\": 4,\n",
    "    \"Blmngtn\": 5,\n",
    "    \"Mitchel\": 6,\n",
    "    \"NridgHt\": 7,\n",
    "    \"NAmes\": 8,\n",
    "    \"CollgCr\": 9,\n",
    "    \"SawyerW\": 10,\n",
    "    \"MeadowV\": 11,\n",
    "    \"BrDale\": 12,\n",
    "    \"Gilbert\": 13,\n",
    "    \"Timber\": 14,\n",
    "    \"Somerst\": 15,\n",
    "    \"BrkSide\": 16,\n",
    "    \"NoRidge\": 17,\n",
    "    \"Sawyer\": 18,\n",
    "    \"Crawfor\": 19,\n",
    "    \"Greens\": 20,\n",
    "    \"ClearCr\": 21,\n",
    "    \"StoneBr\": 22,\n",
    "    \"Veenker\": 23,\n",
    "    \"NPkVill\": 24,\n",
    "    \"Blueste\": 25,\n",
    "}\n",
    "\n",
    "# Creating a list of neighborhoods sorted by their values in the dictionary\n",
    "sorted_neighborhoods = sorted(Neighborhood_mapping, key=Neighborhood_mapping.get)\n",
    "\n",
    "# Creating an instance of the OrdinalEncoder class with the custom categories for the 'Neighborhood' column\n",
    "neighborhood_encoder = OrdinalEncoder(categories=[sorted_neighborhoods])\n",
    "\n",
    "# Fitting and transform the 'Neighborhood' column\n",
    "housing['Neighborhood'] = neighborhood_encoder.fit_transform(housing[['Neighborhood']])\n",
    "\n",
    "# Creating an instance of the OrdinalEncoder class for the other categorical features\n",
    "other_encoder = OrdinalEncoder()\n",
    "\n",
    "# Fit and transform the other categorical features\n",
    "housing[cat_features] = other_encoder.fit_transform(housing[cat_features])\n",
    "\n"
   ]
  },
  {
   "cell_type": "markdown",
   "id": "3cc76e0a",
   "metadata": {},
   "source": [
    "The following confirms the custom mapping worked correctly"
   ]
  },
  {
   "cell_type": "code",
   "execution_count": 35,
   "id": "1baa0be3",
   "metadata": {
    "scrolled": false
   },
   "outputs": [
    {
     "name": "stdout",
     "output_type": "stream",
     "text": [
      "Neighborhood\n",
      "Blmngtn    196237.173913\n",
      "Blueste    143590.000000\n",
      "BrDale     106094.827586\n",
      "BrkSide    125992.475728\n",
      "ClearCr    215997.435897\n",
      "CollgCr    198103.720339\n",
      "Crawfor    202027.956522\n",
      "Edwards    132003.993865\n",
      "Gilbert    189401.965035\n",
      "Greens     193531.250000\n",
      "IDOTRR     109743.000000\n",
      "MeadowV     96836.470588\n",
      "Mitchel    163389.029126\n",
      "NAmes      144960.639706\n",
      "NPkVill    140743.181818\n",
      "NWAmes     190329.715447\n",
      "NoRidge    326114.298507\n",
      "NridgHt    313662.495868\n",
      "OldTown    126476.975962\n",
      "SWISU      132896.048780\n",
      "Sawyer     137402.215827\n",
      "SawyerW    189152.017857\n",
      "Somerst    228761.853147\n",
      "StoneBr    305307.930233\n",
      "Timber     243461.807692\n",
      "Veenker    251263.043478\n",
      "Name: SalePrice, dtype: float64\n"
     ]
    },
    {
     "data": {
      "application/javascript": [
       "\n",
       "            setTimeout(function() {\n",
       "                var nbb_cell_id = 35;\n",
       "                var nbb_unformatted_code = \"# Creating a copy of the housing dataframe\\nhousing_copy = housing.copy()\\n\\n# Reverting the encoded 'Neighborhood' column back to its original string values\\nhousing_copy['Neighborhood'] = housing_copy['Neighborhood'].replace({v: k for k, v in Neighborhood_mapping.items()})\\n\\n# Calculating the average sale price for each neighborhood\\naverage_sale_price = housing_copy.groupby('Neighborhood')['SalePrice'].mean()\\n\\n# Displaying the average sale price by neighborhood\\nprint(average_sale_price)\";\n",
       "                var nbb_formatted_code = \"# Creating a copy of the housing dataframe\\nhousing_copy = housing.copy()\\n\\n# Reverting the encoded 'Neighborhood' column back to its original string values\\nhousing_copy[\\\"Neighborhood\\\"] = housing_copy[\\\"Neighborhood\\\"].replace(\\n    {v: k for k, v in Neighborhood_mapping.items()}\\n)\\n\\n# Calculating the average sale price for each neighborhood\\naverage_sale_price = housing_copy.groupby(\\\"Neighborhood\\\")[\\\"SalePrice\\\"].mean()\\n\\n# Displaying the average sale price by neighborhood\\nprint(average_sale_price)\";\n",
       "                var nbb_cells = Jupyter.notebook.get_cells();\n",
       "                for (var i = 0; i < nbb_cells.length; ++i) {\n",
       "                    if (nbb_cells[i].input_prompt_number == nbb_cell_id) {\n",
       "                        if (nbb_cells[i].get_text() == nbb_unformatted_code) {\n",
       "                             nbb_cells[i].set_text(nbb_formatted_code);\n",
       "                        }\n",
       "                        break;\n",
       "                    }\n",
       "                }\n",
       "            }, 500);\n",
       "            "
      ],
      "text/plain": [
       "<IPython.core.display.Javascript object>"
      ]
     },
     "metadata": {},
     "output_type": "display_data"
    }
   ],
   "source": [
    "# Creating a copy of the housing dataframe\n",
    "housing_copy = housing.copy()\n",
    "\n",
    "# Reverting the encoded 'Neighborhood' column back to its original string values\n",
    "housing_copy['Neighborhood'] = housing_copy['Neighborhood'].replace({v: k for k, v in Neighborhood_mapping.items()})\n",
    "\n",
    "# Calculating the average sale price for each neighborhood\n",
    "average_sale_price = housing_copy.groupby('Neighborhood')['SalePrice'].mean()\n",
    "\n",
    "# Displaying the average sale price by neighborhood\n",
    "print(average_sale_price)\n"
   ]
  },
  {
   "cell_type": "markdown",
   "id": "a248f9f2",
   "metadata": {},
   "source": [
    "### Creating test/train split"
   ]
  },
  {
   "cell_type": "code",
   "execution_count": 36,
   "id": "eae8d5c1",
   "metadata": {},
   "outputs": [
    {
     "data": {
      "application/javascript": [
       "\n",
       "            setTimeout(function() {\n",
       "                var nbb_cell_id = 36;\n",
       "                var nbb_unformatted_code = \"X = housing.loc[:, housing.columns != \\\"SalePrice\\\"]\\ny = housing.loc[:, \\\"SalePrice\\\"]\\nX_train, X_test, y_train, y_test = train_test_split(\\n    X, y, random_state=42, test_size=0.2,\\n)\";\n",
       "                var nbb_formatted_code = \"X = housing.loc[:, housing.columns != \\\"SalePrice\\\"]\\ny = housing.loc[:, \\\"SalePrice\\\"]\\nX_train, X_test, y_train, y_test = train_test_split(\\n    X, y, random_state=42, test_size=0.2,\\n)\";\n",
       "                var nbb_cells = Jupyter.notebook.get_cells();\n",
       "                for (var i = 0; i < nbb_cells.length; ++i) {\n",
       "                    if (nbb_cells[i].input_prompt_number == nbb_cell_id) {\n",
       "                        if (nbb_cells[i].get_text() == nbb_unformatted_code) {\n",
       "                             nbb_cells[i].set_text(nbb_formatted_code);\n",
       "                        }\n",
       "                        break;\n",
       "                    }\n",
       "                }\n",
       "            }, 500);\n",
       "            "
      ],
      "text/plain": [
       "<IPython.core.display.Javascript object>"
      ]
     },
     "metadata": {},
     "output_type": "display_data"
    }
   ],
   "source": [
    "X = housing.loc[:, housing.columns != \"SalePrice\"]\n",
    "y = housing.loc[:, \"SalePrice\"]\n",
    "X_train, X_test, y_train, y_test = train_test_split(\n",
    "    X, y, random_state=42, test_size=0.2,\n",
    ")"
   ]
  },
  {
   "cell_type": "code",
   "execution_count": 37,
   "id": "f5f471b9",
   "metadata": {},
   "outputs": [
    {
     "name": "stdout",
     "output_type": "stream",
     "text": [
      "(2046, 62)\n",
      "(512, 62)\n"
     ]
    },
    {
     "data": {
      "application/javascript": [
       "\n",
       "            setTimeout(function() {\n",
       "                var nbb_cell_id = 37;\n",
       "                var nbb_unformatted_code = \"print(X_train.shape)\\nprint(X_test.shape)\";\n",
       "                var nbb_formatted_code = \"print(X_train.shape)\\nprint(X_test.shape)\";\n",
       "                var nbb_cells = Jupyter.notebook.get_cells();\n",
       "                for (var i = 0; i < nbb_cells.length; ++i) {\n",
       "                    if (nbb_cells[i].input_prompt_number == nbb_cell_id) {\n",
       "                        if (nbb_cells[i].get_text() == nbb_unformatted_code) {\n",
       "                             nbb_cells[i].set_text(nbb_formatted_code);\n",
       "                        }\n",
       "                        break;\n",
       "                    }\n",
       "                }\n",
       "            }, 500);\n",
       "            "
      ],
      "text/plain": [
       "<IPython.core.display.Javascript object>"
      ]
     },
     "metadata": {},
     "output_type": "display_data"
    }
   ],
   "source": [
    "print(X_train.shape)\n",
    "print(X_test.shape)"
   ]
  },
  {
   "cell_type": "markdown",
   "id": "73493ac1",
   "metadata": {},
   "source": [
    "This code defines two functions that can be used to evaluate the performance of a scikit-learn model using cross-validation: `r2mae_scores` and `print_scores`. The `r2mae_scores` function calculates the average R^2 score and MAE score across a specified number of cross-validation folds, while the `print_scores` function prints these scores to the console. "
   ]
  },
  {
   "cell_type": "code",
   "execution_count": 38,
   "id": "0a6b01bb",
   "metadata": {},
   "outputs": [
    {
     "data": {
      "application/javascript": [
       "\n",
       "            setTimeout(function() {\n",
       "                var nbb_cell_id = 38;\n",
       "                var nbb_unformatted_code = \"def r2mae_scores(model, X, y, cv=5):\\n    \\\"\\\"\\\"\\n    Calculate R^2 and Mean Absolute Error (MAE) scores for the given model using cross-validation.\\n    \\n    Args:\\n        model: A scikit-learn model\\n        X: The feature matrix (numpy array or pandas DataFrame)\\n        y: The target variable (numpy array or pandas Series)\\n        cv: Number of folds for cross-validation (default: 5)\\n\\n    Returns:\\n        avg_r2_score: The average R^2 score across the cross-validation folds\\n        avg_MAE_score: The average MAE score across the cross-validation folds\\n    \\\"\\\"\\\"\\n\\n    # Using R^2 as the scoring metric\\n    r2_scores = cross_val_score(model, X, y, cv=cv, scoring=\\\"r2\\\", n_jobs=-1)\\n\\n    # Using Mean Absolute Error as the scoring metric\\n    mae_scores = cross_val_score(\\n        model, X, y, cv=cv, scoring=\\\"neg_mean_absolute_error\\\", n_jobs=-1\\n    )\\n\\n    # Convert the MAE scores back to positive\\n    mae_scores = -1 * mae_scores\\n\\n    avg_r2_score = np.mean(r2_scores)\\n    avg_MAE_score = np.mean(mae_scores)\\n\\n    return avg_r2_score, avg_MAE_score\\n\\n\\ndef print_scores(avg_r2_score, avg_MAE_score):\\n    \\\"\\\"\\\"\\n    Print the average R^2 and MAE scores.\\n\\n    Args:\\n        avg_r2_score: The average R^2 score\\n        avg_MAE_score: The average MAE score\\n    \\\"\\\"\\\"\\n    print(\\\"-\\\" * 50)\\n    print(\\\"5-fold Cross Validation Scoring\\\")\\n    print(\\\"Average R^2 score:\\\", avg_r2_score)\\n    print(\\\"Average MAE score:\\\", avg_MAE_score)\\n    print(\\\"-\\\" * 50)\";\n",
       "                var nbb_formatted_code = \"def r2mae_scores(model, X, y, cv=5):\\n    \\\"\\\"\\\"\\n    Calculate R^2 and Mean Absolute Error (MAE) scores for the given model using cross-validation.\\n    \\n    Args:\\n        model: A scikit-learn model\\n        X: The feature matrix (numpy array or pandas DataFrame)\\n        y: The target variable (numpy array or pandas Series)\\n        cv: Number of folds for cross-validation (default: 5)\\n\\n    Returns:\\n        avg_r2_score: The average R^2 score across the cross-validation folds\\n        avg_MAE_score: The average MAE score across the cross-validation folds\\n    \\\"\\\"\\\"\\n\\n    # Using R^2 as the scoring metric\\n    r2_scores = cross_val_score(model, X, y, cv=cv, scoring=\\\"r2\\\", n_jobs=-1)\\n\\n    # Using Mean Absolute Error as the scoring metric\\n    mae_scores = cross_val_score(\\n        model, X, y, cv=cv, scoring=\\\"neg_mean_absolute_error\\\", n_jobs=-1\\n    )\\n\\n    # Convert the MAE scores back to positive\\n    mae_scores = -1 * mae_scores\\n\\n    avg_r2_score = np.mean(r2_scores)\\n    avg_MAE_score = np.mean(mae_scores)\\n\\n    return avg_r2_score, avg_MAE_score\\n\\n\\ndef print_scores(avg_r2_score, avg_MAE_score):\\n    \\\"\\\"\\\"\\n    Print the average R^2 and MAE scores.\\n\\n    Args:\\n        avg_r2_score: The average R^2 score\\n        avg_MAE_score: The average MAE score\\n    \\\"\\\"\\\"\\n    print(\\\"-\\\" * 50)\\n    print(\\\"5-fold Cross Validation Scoring\\\")\\n    print(\\\"Average R^2 score:\\\", avg_r2_score)\\n    print(\\\"Average MAE score:\\\", avg_MAE_score)\\n    print(\\\"-\\\" * 50)\";\n",
       "                var nbb_cells = Jupyter.notebook.get_cells();\n",
       "                for (var i = 0; i < nbb_cells.length; ++i) {\n",
       "                    if (nbb_cells[i].input_prompt_number == nbb_cell_id) {\n",
       "                        if (nbb_cells[i].get_text() == nbb_unformatted_code) {\n",
       "                             nbb_cells[i].set_text(nbb_formatted_code);\n",
       "                        }\n",
       "                        break;\n",
       "                    }\n",
       "                }\n",
       "            }, 500);\n",
       "            "
      ],
      "text/plain": [
       "<IPython.core.display.Javascript object>"
      ]
     },
     "metadata": {},
     "output_type": "display_data"
    }
   ],
   "source": [
    "def r2mae_scores(model, X, y, cv=5):\n",
    "    \"\"\"\n",
    "    Calculate R^2 and Mean Absolute Error (MAE) scores for the given model using cross-validation.\n",
    "    \n",
    "    Args:\n",
    "        model: A scikit-learn model\n",
    "        X: The feature matrix (numpy array or pandas DataFrame)\n",
    "        y: The target variable (numpy array or pandas Series)\n",
    "        cv: Number of folds for cross-validation (default: 5)\n",
    "\n",
    "    Returns:\n",
    "        avg_r2_score: The average R^2 score across the cross-validation folds\n",
    "        avg_MAE_score: The average MAE score across the cross-validation folds\n",
    "    \"\"\"\n",
    "\n",
    "    # Using R^2 as the scoring metric\n",
    "    r2_scores = cross_val_score(model, X, y, cv=cv, scoring=\"r2\", n_jobs=-1)\n",
    "\n",
    "    # Using Mean Absolute Error as the scoring metric\n",
    "    mae_scores = cross_val_score(\n",
    "        model, X, y, cv=cv, scoring=\"neg_mean_absolute_error\", n_jobs=-1\n",
    "    )\n",
    "\n",
    "    # Convert the MAE scores back to positive\n",
    "    mae_scores = -1 * mae_scores\n",
    "\n",
    "    avg_r2_score = np.mean(r2_scores)\n",
    "    avg_MAE_score = np.mean(mae_scores)\n",
    "\n",
    "    return avg_r2_score, avg_MAE_score\n",
    "\n",
    "\n",
    "def print_scores(avg_r2_score, avg_MAE_score):\n",
    "    \"\"\"\n",
    "    Print the average R^2 and MAE scores.\n",
    "\n",
    "    Args:\n",
    "        avg_r2_score: The average R^2 score\n",
    "        avg_MAE_score: The average MAE score\n",
    "    \"\"\"\n",
    "    print(\"-\" * 50)\n",
    "    print(\"5-fold Cross Validation Scoring\")\n",
    "    print(\"Average R^2 score:\", avg_r2_score)\n",
    "    print(\"Average MAE score:\", avg_MAE_score)\n",
    "    print(\"-\" * 50)"
   ]
  },
  {
   "cell_type": "markdown",
   "id": "1c1974a8",
   "metadata": {},
   "source": [
    "### Initial run using Random Forest Regression"
   ]
  },
  {
   "cell_type": "code",
   "execution_count": 39,
   "id": "bb95a433",
   "metadata": {},
   "outputs": [
    {
     "name": "stdout",
     "output_type": "stream",
     "text": [
      "--------------------------------------------------\n",
      "5-fold Cross Validation Scoring\n",
      "Average R^2 score: 0.8985070550038822\n",
      "Average MAE score: 14764.637862881904\n",
      "--------------------------------------------------\n"
     ]
    },
    {
     "data": {
      "application/javascript": [
       "\n",
       "            setTimeout(function() {\n",
       "                var nbb_cell_id = 39;\n",
       "                var nbb_unformatted_code = \"model = ensemble.RandomForestRegressor(random_state=0)\\navg_r2_score, avg_MAE_score = r2mae_scores(model, X_train, y_train)\\nprint_scores(avg_r2_score, avg_MAE_score)\";\n",
       "                var nbb_formatted_code = \"model = ensemble.RandomForestRegressor(random_state=0)\\navg_r2_score, avg_MAE_score = r2mae_scores(model, X_train, y_train)\\nprint_scores(avg_r2_score, avg_MAE_score)\";\n",
       "                var nbb_cells = Jupyter.notebook.get_cells();\n",
       "                for (var i = 0; i < nbb_cells.length; ++i) {\n",
       "                    if (nbb_cells[i].input_prompt_number == nbb_cell_id) {\n",
       "                        if (nbb_cells[i].get_text() == nbb_unformatted_code) {\n",
       "                             nbb_cells[i].set_text(nbb_formatted_code);\n",
       "                        }\n",
       "                        break;\n",
       "                    }\n",
       "                }\n",
       "            }, 500);\n",
       "            "
      ],
      "text/plain": [
       "<IPython.core.display.Javascript object>"
      ]
     },
     "metadata": {},
     "output_type": "display_data"
    }
   ],
   "source": [
    "model = ensemble.RandomForestRegressor(random_state=0)\n",
    "avg_r2_score, avg_MAE_score = r2mae_scores(model, X_train, y_train)\n",
    "print_scores(avg_r2_score, avg_MAE_score)"
   ]
  },
  {
   "cell_type": "markdown",
   "id": "07955ef3",
   "metadata": {},
   "source": [
    "## Feature Selection and Optimizing Number of Features"
   ]
  },
  {
   "cell_type": "markdown",
   "id": "d3674f5c",
   "metadata": {},
   "source": [
    "I'm creating four functions that will be used for feature selection and analysis: \n",
    "1.  The feature_importance function accepts a scikit-learn model (estimator), input data X, and target variable y. It fits the model on the provided data and then returns a sorted list of tuples containing the feature names and their respective importances, sorted in descending order of importance.\n",
    "2. The r2_score_by_feature_count() function takes in a model, training and testing data, and returns a list of tuples with the number of features used and the mean R^2 score from 5-fold cross-validation. \n",
    "3. The plot_scores() takes in the output of r2_score_by_feature_count() and plots the feature count vs. R^2 score, with a vertical line indicating the optimal number of features.\n",
    "4. The third function, plot_feature_importance(), takes in a model and the feature matrix for the training data, and plots a bar chart showing the top n_features important features for the given model based on the feature importances calculated from the training data. The function returns a sorted list of tuples containing the name of each feature and its importance score, sorted in descending order, as well as the DataFrame used for plotting the feature importance bar chart."
   ]
  },
  {
   "cell_type": "code",
   "execution_count": 44,
   "id": "3161d898",
   "metadata": {},
   "outputs": [
    {
     "data": {
      "application/javascript": [
       "\n",
       "            setTimeout(function() {\n",
       "                var nbb_cell_id = 44;\n",
       "                var nbb_unformatted_code = \"def r2_score_by_feature_count(model, X_train, y_train, X_test, y_test):\\n    \\\"\\\"\\\"\\n    Calculates the R^2 score for a given model using a subset of the features in X_train and X_test.\\n    The R^2 score is calculated for each subset of features of increasing size.\\n    \\n    Args:\\n        model: A scikit-learn model\\n        X_train: The feature matrix for the training data (numpy array or pandas DataFrame)\\n        y_train: The target variable for the training data (numpy array or pandas Series)\\n        X_test: The feature matrix for the test data (numpy array or pandas DataFrame)\\n        y_test: The target variable for the test data (numpy array or pandas Series)\\n\\n    Returns:\\n        A list of tuples containing the number of features used and the R^2 score for the given model.\\n    \\\"\\\"\\\"\\n    sorted_features = feature_importance(model, X_train, y_train)\\n    selected_columns = [col for col, _ in sorted_features]\\n\\n    scores = []\\n    for i in range(len(selected_columns)):\\n        X_train_subset = X_train[selected_columns[: i + 1]]\\n        X_test_subset = X_test[selected_columns[: i + 1]]\\n\\n        model.fit(X_train_subset, y_train)\\n        score = cross_val_score(\\n            model, X_test_subset, y_test, cv=5, scoring=\\\"r2\\\", n_jobs=-1\\n        )\\n        scores.append((i, np.mean(score)))\\n\\n    return scores\\n\\n\\ndef plot_scores(scores, vline_val):\\n    \\\"\\\"\\\"\\n    Plots the R^2 score for a given model using a subset of the features in X_train and X_test.\\n    The R^2 score is calculated for each subset of features of increasing size.\\n    \\n    Args:\\n        scores: A list of tuples containing the number of features used and the R^2 score for the given model.\\n        vline_val: The optimal number of features, indicated by a vertical red line on the plot.\\n    \\\"\\\"\\\"\\n    x_values = [t[0] for t in scores]\\n    y_values = [t[1] for t in scores]\\n\\n    plt.plot(x_values, y_values)\\n    plt.axvline(x=vline_val, color=\\\"red\\\", linestyle=\\\"--\\\", alpha=0.4)\\n\\n    plt.xlabel(\\\"# of Features\\\")\\n    plt.ylabel(\\\"R^2 Performance\\\")\\n    plt.title(\\\"Feature Selection\\\")\\n\\n    plt.savefig(\\\"../pic/feature_selection_optimal.png\\\", dpi=900)\\n    plt.show()\\n    \\n    \\ndef plot_feature_importance(model, X_train, n_features=35):\\n    \\\"\\\"\\\"\\n    Plots a bar chart showing the top n_features important features for the given model based on the feature importances\\n    calculated from X_train.\\n    \\n    Args:\\n        model: A scikit-learn model\\n        X_train: The feature matrix for the training data (numpy array or pandas DataFrame)\\n        n_features: The number of features to display on the plot (default: 35)\\n\\n    Returns:\\n        sorted_importance: A sorted list of tuples containing the name of each feature and its importance score,\\n                           sorted in descending order.\\n        df: The DataFrame used for plotting the feature importance bar chart.\\n    \\\"\\\"\\\"\\n    sorted_importance = sorted(\\n        zip(X_train.columns, model.feature_importances_),\\n        key=lambda t: t[1],\\n        reverse=True,\\n    )\\n\\n    # Get data for the plot (n_features based on your preference)\\n    a, b = zip(*sorted_importance[:n_features])\\n    df = pd.DataFrame({\\\"feature_name\\\": a, \\\"importance_score\\\": b})\\n\\n    # Plot\\n\\n    plt.rcParams[\\\"figure.autolayout\\\"] = True\\n    plt.subplots_adjust(bottom=0.15)\\n\\n    plt.figure(figsize=(20, 10))\\n    df.plot.bar(x=\\\"feature_name\\\", y=\\\"importance_score\\\", legend=None)\\n    plt.title(\\\"Feature Importance\\\")\\n\\n    plt.savefig(\\\"../pic/feature_importances_bar.png\\\", dpi=900)\\n    plt.show()\\n\\n    return sorted_importance, df\\n\\ndef feature_importance(model, X, y):\\n    model.fit(X, y)\\n    return sorted(\\n        zip(X.columns, model.feature_importances_), key=lambda t: t[1], reverse=True\\n    )\";\n",
       "                var nbb_formatted_code = \"def r2_score_by_feature_count(model, X_train, y_train, X_test, y_test):\\n    \\\"\\\"\\\"\\n    Calculates the R^2 score for a given model using a subset of the features in X_train and X_test.\\n    The R^2 score is calculated for each subset of features of increasing size.\\n    \\n    Args:\\n        model: A scikit-learn model\\n        X_train: The feature matrix for the training data (numpy array or pandas DataFrame)\\n        y_train: The target variable for the training data (numpy array or pandas Series)\\n        X_test: The feature matrix for the test data (numpy array or pandas DataFrame)\\n        y_test: The target variable for the test data (numpy array or pandas Series)\\n\\n    Returns:\\n        A list of tuples containing the number of features used and the R^2 score for the given model.\\n    \\\"\\\"\\\"\\n    sorted_features = feature_importance(model, X_train, y_train)\\n    selected_columns = [col for col, _ in sorted_features]\\n\\n    scores = []\\n    for i in range(len(selected_columns)):\\n        X_train_subset = X_train[selected_columns[: i + 1]]\\n        X_test_subset = X_test[selected_columns[: i + 1]]\\n\\n        model.fit(X_train_subset, y_train)\\n        score = cross_val_score(\\n            model, X_test_subset, y_test, cv=5, scoring=\\\"r2\\\", n_jobs=-1\\n        )\\n        scores.append((i, np.mean(score)))\\n\\n    return scores\\n\\n\\ndef plot_scores(scores, vline_val):\\n    \\\"\\\"\\\"\\n    Plots the R^2 score for a given model using a subset of the features in X_train and X_test.\\n    The R^2 score is calculated for each subset of features of increasing size.\\n    \\n    Args:\\n        scores: A list of tuples containing the number of features used and the R^2 score for the given model.\\n        vline_val: The optimal number of features, indicated by a vertical red line on the plot.\\n    \\\"\\\"\\\"\\n    x_values = [t[0] for t in scores]\\n    y_values = [t[1] for t in scores]\\n\\n    plt.plot(x_values, y_values)\\n    plt.axvline(x=vline_val, color=\\\"red\\\", linestyle=\\\"--\\\", alpha=0.4)\\n\\n    plt.xlabel(\\\"# of Features\\\")\\n    plt.ylabel(\\\"R^2 Performance\\\")\\n    plt.title(\\\"Feature Selection\\\")\\n\\n    plt.savefig(\\\"../pic/feature_selection_optimal.png\\\", dpi=900)\\n    plt.show()\\n\\n\\ndef plot_feature_importance(model, X_train, n_features=35):\\n    \\\"\\\"\\\"\\n    Plots a bar chart showing the top n_features important features for the given model based on the feature importances\\n    calculated from X_train.\\n    \\n    Args:\\n        model: A scikit-learn model\\n        X_train: The feature matrix for the training data (numpy array or pandas DataFrame)\\n        n_features: The number of features to display on the plot (default: 35)\\n\\n    Returns:\\n        sorted_importance: A sorted list of tuples containing the name of each feature and its importance score,\\n                           sorted in descending order.\\n        df: The DataFrame used for plotting the feature importance bar chart.\\n    \\\"\\\"\\\"\\n    sorted_importance = sorted(\\n        zip(X_train.columns, model.feature_importances_),\\n        key=lambda t: t[1],\\n        reverse=True,\\n    )\\n\\n    # Get data for the plot (n_features based on your preference)\\n    a, b = zip(*sorted_importance[:n_features])\\n    df = pd.DataFrame({\\\"feature_name\\\": a, \\\"importance_score\\\": b})\\n\\n    # Plot\\n\\n    plt.rcParams[\\\"figure.autolayout\\\"] = True\\n    plt.subplots_adjust(bottom=0.15)\\n\\n    plt.figure(figsize=(20, 10))\\n    df.plot.bar(x=\\\"feature_name\\\", y=\\\"importance_score\\\", legend=None)\\n    plt.title(\\\"Feature Importance\\\")\\n\\n    plt.savefig(\\\"../pic/feature_importances_bar.png\\\", dpi=900)\\n    plt.show()\\n\\n    return sorted_importance, df\\n\\n\\ndef feature_importance(model, X, y):\\n    model.fit(X, y)\\n    return sorted(\\n        zip(X.columns, model.feature_importances_), key=lambda t: t[1], reverse=True\\n    )\";\n",
       "                var nbb_cells = Jupyter.notebook.get_cells();\n",
       "                for (var i = 0; i < nbb_cells.length; ++i) {\n",
       "                    if (nbb_cells[i].input_prompt_number == nbb_cell_id) {\n",
       "                        if (nbb_cells[i].get_text() == nbb_unformatted_code) {\n",
       "                             nbb_cells[i].set_text(nbb_formatted_code);\n",
       "                        }\n",
       "                        break;\n",
       "                    }\n",
       "                }\n",
       "            }, 500);\n",
       "            "
      ],
      "text/plain": [
       "<IPython.core.display.Javascript object>"
      ]
     },
     "metadata": {},
     "output_type": "display_data"
    }
   ],
   "source": [
    "def feature_importance(model, X, y):\n",
    "    \"\"\"\n",
    "    This function computes the feature importances of a given model, fitted on provided input data (X) and target variable (y).\n",
    "\n",
    "    Args:\n",
    "    model (sklearn estimator): The model for which feature importances will be computed.\n",
    "    X (pd.DataFrame): The input features used for training the model.\n",
    "    y (pd.Series, list or array-like): The target variable used for training the model.\n",
    "\n",
    "    Returns:\n",
    "    list: A sorted list of tuples containing the feature name and its importance, in descending order of importance.\n",
    "    \"\"\"\n",
    "    model.fit(X, y)\n",
    "    return sorted(\n",
    "        zip(X.columns, model.feature_importances_), key=lambda t: t[1], reverse=True\n",
    "    )\n",
    "\n",
    "\n",
    "def r2_score_by_feature_count(model, X_train, y_train, X_test, y_test):\n",
    "    \"\"\"\n",
    "    Calculates the R^2 score for a given model using a subset of the features in X_train and X_test.\n",
    "    The R^2 score is calculated for each subset of features of increasing size.\n",
    "    \n",
    "    Args:\n",
    "        model: A scikit-learn model\n",
    "        X_train: The feature matrix for the training data (numpy array or pandas DataFrame)\n",
    "        y_train: The target variable for the training data (numpy array or pandas Series)\n",
    "        X_test: The feature matrix for the test data (numpy array or pandas DataFrame)\n",
    "        y_test: The target variable for the test data (numpy array or pandas Series)\n",
    "\n",
    "    Returns:\n",
    "        A list of tuples containing the number of features used and the R^2 score for the given model.\n",
    "    \"\"\"\n",
    "    sorted_features = feature_importance(model, X_train, y_train)\n",
    "    selected_columns = [col for col, _ in sorted_features]\n",
    "\n",
    "    scores = []\n",
    "    for i in range(len(selected_columns)):\n",
    "        X_train_subset = X_train[selected_columns[: i + 1]]\n",
    "        X_test_subset = X_test[selected_columns[: i + 1]]\n",
    "\n",
    "        model.fit(X_train_subset, y_train)\n",
    "        score = cross_val_score(\n",
    "            model, X_test_subset, y_test, cv=5, scoring=\"r2\", n_jobs=-1\n",
    "        )\n",
    "        scores.append((i, np.mean(score)))\n",
    "\n",
    "    return scores\n",
    "\n",
    "\n",
    "def plot_scores(scores, vline_val):\n",
    "    \"\"\"\n",
    "    Plots the R^2 score for a given model using a subset of the features in X_train and X_test.\n",
    "    The R^2 score is calculated for each subset of features of increasing size.\n",
    "    \n",
    "    Args:\n",
    "        scores: A list of tuples containing the number of features used and the R^2 score for the given model.\n",
    "        vline_val: The optimal number of features, indicated by a vertical red line on the plot.\n",
    "    \"\"\"\n",
    "    x_values = [t[0] for t in scores]\n",
    "    y_values = [t[1] for t in scores]\n",
    "\n",
    "    plt.plot(x_values, y_values)\n",
    "    plt.axvline(x=vline_val, color=\"red\", linestyle=\"--\", alpha=0.4)\n",
    "\n",
    "    plt.xlabel(\"# of Features\")\n",
    "    plt.ylabel(\"R^2 Performance\")\n",
    "    plt.title(\"Feature Selection\")\n",
    "\n",
    "    plt.savefig(\"../pic/feature_selection_optimal.png\", dpi=900)\n",
    "    plt.show()\n",
    "    \n",
    "    \n",
    "def plot_feature_importance(model, X_train, n_features=35):\n",
    "    \"\"\"\n",
    "    Plots a bar chart showing the top n_features important features for the given model based on the feature importances\n",
    "    calculated from X_train.\n",
    "    \n",
    "    Args:\n",
    "        model: A scikit-learn model\n",
    "        X_train: The feature matrix for the training data (numpy array or pandas DataFrame)\n",
    "        n_features: The number of features to display on the plot (default: 35)\n",
    "\n",
    "    Returns:\n",
    "        sorted_importance: A sorted list of tuples containing the name of each feature and its importance score,\n",
    "                           sorted in descending order.\n",
    "        df: The DataFrame used for plotting the feature importance bar chart.\n",
    "    \"\"\"\n",
    "    sorted_importance = sorted(\n",
    "        zip(X_train.columns, model.feature_importances_),\n",
    "        key=lambda t: t[1],\n",
    "        reverse=True,\n",
    "    )\n",
    "\n",
    "    # Get data for the plot (n_features based on your preference)\n",
    "    a, b = zip(*sorted_importance[:n_features])\n",
    "    df = pd.DataFrame({\"feature_name\": a, \"importance_score\": b})\n",
    "\n",
    "    # Plot\n",
    "\n",
    "    plt.rcParams[\"figure.autolayout\"] = True\n",
    "    plt.subplots_adjust(bottom=0.15)\n",
    "\n",
    "    plt.figure(figsize=(20, 10))\n",
    "    df.plot.bar(x=\"feature_name\", y=\"importance_score\", legend=None)\n",
    "    plt.title(\"Feature Importance\")\n",
    "\n",
    "    plt.savefig(\"../pic/feature_importances_bar.png\", dpi=900)\n",
    "    plt.show()\n",
    "\n",
    "    return sorted_importance, df\n",
    "\n"
   ]
  },
  {
   "cell_type": "code",
   "execution_count": 45,
   "id": "7a099a6d",
   "metadata": {},
   "outputs": [
    {
     "data": {
      "image/png": "[encoded data removed]",
      "text/plain": [
       "<Figure size 432x288 with 1 Axes>"
      ]
     },
     "metadata": {
      "needs_background": "light"
     },
     "output_type": "display_data"
    },
    {
     "data": {
      "application/javascript": [
       "\n",
       "            setTimeout(function() {\n",
       "                var nbb_cell_id = 45;\n",
       "                var nbb_unformatted_code = \"# Running the functions and viewing the plot of feature importance\\nmodel = RandomForestRegressor(random_state=0)\\nscores = r2_score_by_feature_count(model, X_train, y_train, X_test, y_test)\\nplot_scores(scores=scores, vline_val=8)\";\n",
       "                var nbb_formatted_code = \"# Running the functions and viewing the plot of feature importance\\nmodel = RandomForestRegressor(random_state=0)\\nscores = r2_score_by_feature_count(model, X_train, y_train, X_test, y_test)\\nplot_scores(scores=scores, vline_val=8)\";\n",
       "                var nbb_cells = Jupyter.notebook.get_cells();\n",
       "                for (var i = 0; i < nbb_cells.length; ++i) {\n",
       "                    if (nbb_cells[i].input_prompt_number == nbb_cell_id) {\n",
       "                        if (nbb_cells[i].get_text() == nbb_unformatted_code) {\n",
       "                             nbb_cells[i].set_text(nbb_formatted_code);\n",
       "                        }\n",
       "                        break;\n",
       "                    }\n",
       "                }\n",
       "            }, 500);\n",
       "            "
      ],
      "text/plain": [
       "<IPython.core.display.Javascript object>"
      ]
     },
     "metadata": {},
     "output_type": "display_data"
    }
   ],
   "source": [
    "# Running the functions and viewing the plot of feature importance\n",
    "model = RandomForestRegressor(random_state=0)\n",
    "scores = r2_score_by_feature_count(model, X_train, y_train, X_test, y_test)\n",
    "plot_scores(scores=scores, vline_val=8)"
   ]
  },
  {
   "cell_type": "markdown",
   "id": "50b900be",
   "metadata": {},
   "source": [
    "Optimal number of features is 8"
   ]
  },
  {
   "cell_type": "code",
   "execution_count": 46,
   "id": "d7cb529b",
   "metadata": {},
   "outputs": [
    {
     "data": {
      "text/plain": [
       "RandomForestRegressor(random_state=0)"
      ]
     },
     "execution_count": 46,
     "metadata": {},
     "output_type": "execute_result"
    },
    {
     "data": {
      "application/javascript": [
       "\n",
       "            setTimeout(function() {\n",
       "                var nbb_cell_id = 46;\n",
       "                var nbb_unformatted_code = \"# Creating Random Forest Regression model and fitting the feature martix\\n# and target variable\\nrandom_forest_model = RandomForestRegressor(random_state=0)\\nrandom_forest_model.fit(X_train, y_train)\";\n",
       "                var nbb_formatted_code = \"# Creating Random Forest Regression model and fitting the feature martix\\n# and target variable\\nrandom_forest_model = RandomForestRegressor(random_state=0)\\nrandom_forest_model.fit(X_train, y_train)\";\n",
       "                var nbb_cells = Jupyter.notebook.get_cells();\n",
       "                for (var i = 0; i < nbb_cells.length; ++i) {\n",
       "                    if (nbb_cells[i].input_prompt_number == nbb_cell_id) {\n",
       "                        if (nbb_cells[i].get_text() == nbb_unformatted_code) {\n",
       "                             nbb_cells[i].set_text(nbb_formatted_code);\n",
       "                        }\n",
       "                        break;\n",
       "                    }\n",
       "                }\n",
       "            }, 500);\n",
       "            "
      ],
      "text/plain": [
       "<IPython.core.display.Javascript object>"
      ]
     },
     "metadata": {},
     "output_type": "display_data"
    }
   ],
   "source": [
    "# Creating Random Forest Regression model and fitting the feature martix\n",
    "# and target variable\n",
    "random_forest_model = RandomForestRegressor(random_state=0)\n",
    "random_forest_model.fit(X_train, y_train)"
   ]
  },
  {
   "cell_type": "code",
   "execution_count": 47,
   "id": "9c64bb84",
   "metadata": {},
   "outputs": [
    {
     "data": {
      "text/plain": [
       "<Figure size 432x288 with 0 Axes>"
      ]
     },
     "metadata": {},
     "output_type": "display_data"
    },
    {
     "data": {
      "text/plain": [
       "<Figure size 1440x720 with 0 Axes>"
      ]
     },
     "metadata": {},
     "output_type": "display_data"
    },
    {
     "data": {
      "image/png": "[encoded data removed]",
      "text/plain": [
       "<Figure size 432x288 with 1 Axes>"
      ]
     },
     "metadata": {
      "needs_background": "light"
     },
     "output_type": "display_data"
    },
    {
     "data": {
      "text/plain": [
       "([('OverallQual', 0.4574419216463302),\n",
       "  ('TotalSF', 0.341298199594038),\n",
       "  ('Age', 0.025732124377614265),\n",
       "  ('KitchenQual', 0.0204164225887925),\n",
       "  ('LotArea', 0.012957949476761947),\n",
       "  ('RemodAge', 0.012038721824442126),\n",
       "  ('TotalBath', 0.011805292175810982),\n",
       "  ('BsmtUnfSF', 0.010770732493802249),\n",
       "  ('Neighborhood', 0.0100124558478644),\n",
       "  ('BsmtFinSF1', 0.009514976373034379),\n",
       "  ('MasVnrArea', 0.008958385789777394),\n",
       "  ('TotalOutdoorSF', 0.007129137264409378),\n",
       "  ('OverallCond', 0.006503937715420126),\n",
       "  ('GarageCars', 0.005842902802993998),\n",
       "  ('Fireplaces', 0.00573572105633648),\n",
       "  ('BsmtQual', 0.004815873959612165),\n",
       "  ('LotFrontage', 0.004427404961828037),\n",
       "  ('MoSold', 0.0040712013005498125),\n",
       "  ('TotRmsAbvGrd', 0.0027079870009368593),\n",
       "  ('MSSubClass_cat', 0.0024025124690871904),\n",
       "  ('Exterior1st', 0.001848901610576026),\n",
       "  ('Street_type', 0.0017797925291402133),\n",
       "  ('MSZoning', 0.001666707474699248),\n",
       "  ('LandContour', 0.0016105331828132456),\n",
       "  ('YrSold', 0.0015673152998911166),\n",
       "  ('GarageFinish', 0.001537697672458336),\n",
       "  ('CentralAir', 0.0014695560218188446),\n",
       "  ('GarageType', 0.0014612480245697627),\n",
       "  ('BsmtHalfBath', 0.0014141686228726625),\n",
       "  ('Exterior2nd', 0.0013565403018806386),\n",
       "  ('BsmtExposure', 0.0013438026380220424),\n",
       "  ('BsmtFullBath', 0.0013011562929473104),\n",
       "  ('HeatingQC', 0.001220856991260068),\n",
       "  ('HouseStyle', 0.0012208402387249519),\n",
       "  ('BedroomAbvGr', 0.0012085536998353635),\n",
       "  ('HalfBath', 0.0010313234403561253),\n",
       "  ('RoofMatl', 0.0009838213364898119),\n",
       "  ('RoofStyle', 0.0008894267013357522),\n",
       "  ('SaleCondition', 0.0008724407865231848),\n",
       "  ('Foundation', 0.0007861004518248287),\n",
       "  ('MasVnrType', 0.0007700836889853713),\n",
       "  ('LotConfig', 0.000746055580425452),\n",
       "  ('Condition1', 0.0007100203690873579),\n",
       "  ('LotShape', 0.0006620241158797185),\n",
       "  ('Remodeled', 0.0006026774013677119),\n",
       "  ('GarageQual', 0.0005910735078951199),\n",
       "  ('PavedDrive', 0.0005646302950605234),\n",
       "  ('BsmtFinSF2', 0.0005276775941005956),\n",
       "  ('SaleType', 0.0004995487809176066),\n",
       "  ('BldgType', 0.0004844626581505568),\n",
       "  ('BsmtCond', 0.0004807958972072459),\n",
       "  ('Functional', 0.00044879647554918906),\n",
       "  ('ExterCond', 0.00039292407851346115),\n",
       "  ('Fence', 0.0003745145751816325),\n",
       "  ('LandSlope', 0.00030543807282956627),\n",
       "  ('Electrical', 0.00017986867886629694),\n",
       "  ('Alley', 0.0001664864624593062),\n",
       "  ('KitchenAbvGr', 0.00016094976112767957),\n",
       "  ('Condition2', 0.0001307510417273724),\n",
       "  ('Heating', 4.504616731844011e-05),\n",
       "  ('Street', 1.530759868146408e-06),\n",
       "  ('Utilities', 0.0)],\n",
       "       feature_name  importance_score\n",
       " 0      OverallQual          0.457442\n",
       " 1          TotalSF          0.341298\n",
       " 2              Age          0.025732\n",
       " 3      KitchenQual          0.020416\n",
       " 4          LotArea          0.012958\n",
       " 5         RemodAge          0.012039\n",
       " 6        TotalBath          0.011805\n",
       " 7        BsmtUnfSF          0.010771\n",
       " 8     Neighborhood          0.010012\n",
       " 9       BsmtFinSF1          0.009515\n",
       " 10      MasVnrArea          0.008958\n",
       " 11  TotalOutdoorSF          0.007129\n",
       " 12     OverallCond          0.006504\n",
       " 13      GarageCars          0.005843\n",
       " 14      Fireplaces          0.005736\n",
       " 15        BsmtQual          0.004816\n",
       " 16     LotFrontage          0.004427\n",
       " 17          MoSold          0.004071\n",
       " 18    TotRmsAbvGrd          0.002708\n",
       " 19  MSSubClass_cat          0.002403)"
      ]
     },
     "execution_count": 47,
     "metadata": {},
     "output_type": "execute_result"
    },
    {
     "data": {
      "application/javascript": [
       "\n",
       "            setTimeout(function() {\n",
       "                var nbb_cell_id = 47;\n",
       "                var nbb_unformatted_code = \"# Using function created earlier to plot and save feature importance\\nplot_feature_importance(random_forest_model, X_train, n_features=20)\";\n",
       "                var nbb_formatted_code = \"# Using function created earlier to plot and save feature importance\\nplot_feature_importance(random_forest_model, X_train, n_features=20)\";\n",
       "                var nbb_cells = Jupyter.notebook.get_cells();\n",
       "                for (var i = 0; i < nbb_cells.length; ++i) {\n",
       "                    if (nbb_cells[i].input_prompt_number == nbb_cell_id) {\n",
       "                        if (nbb_cells[i].get_text() == nbb_unformatted_code) {\n",
       "                             nbb_cells[i].set_text(nbb_formatted_code);\n",
       "                        }\n",
       "                        break;\n",
       "                    }\n",
       "                }\n",
       "            }, 500);\n",
       "            "
      ],
      "text/plain": [
       "<IPython.core.display.Javascript object>"
      ]
     },
     "metadata": {},
     "output_type": "display_data"
    }
   ],
   "source": [
    "# Using function created earlier to plot and save feature importance\n",
    "plot_feature_importance(random_forest_model, X_train, n_features=20)"
   ]
  },
  {
   "cell_type": "markdown",
   "id": "d28079fe",
   "metadata": {},
   "source": [
    "## Comparing Models of Optimal Features Vs All Features"
   ]
  },
  {
   "cell_type": "code",
   "execution_count": 48,
   "id": "064daa00",
   "metadata": {},
   "outputs": [
    {
     "data": {
      "application/javascript": [
       "\n",
       "            setTimeout(function() {\n",
       "                var nbb_cell_id = 48;\n",
       "                var nbb_unformatted_code = \"def compare_models(model, X_train, y_train, X_test, y_test, optimal_features_count):\\n    \\\"\\\"\\\"\\n    Trains and compares a machine learning model on all available features and on a subset of the most important features.\\n    \\n    Parameters:\\n    -----------\\n    model : object\\n        An instance of a scikit-learn machine learning model.\\n    X_train : array-like\\n        The training data features.\\n    y_train : array-like\\n        The training data labels.\\n    X_test : array-like\\n        The test data features.\\n    y_test : array-like\\n        The test data labels.\\n    optimal_features_count : int\\n        The number of top features to select for training the model.\\n        \\n    Returns:\\n    --------\\n    tuple\\n        A tuple of two floats representing the model's performance scores on the test data, \\n        first using all available features and second using the subset of the most important features.\\n    \\\"\\\"\\\"\\n    # Train and test the model on all available features\\n    model.fit(X_train, y_train)\\n    all_features_score = model.score(X_test, y_test)\\n\\n    # Train and test the model on a subset of the most important features\\n    sorted_features = feature_importance(model, X_train, y_train)\\n    selected_columns = [col for col, _ in sorted_features][:optimal_features_count]\\n\\n    X_train_optimal = X_train[selected_columns]\\n    X_test_optimal = X_test[selected_columns]\\n\\n    model.fit(X_train_optimal, y_train)\\n    optimal_features_score = model.score(X_test_optimal, y_test)\\n\\n    # Return the model's performance scores\\n    return all_features_score, optimal_features_score\";\n",
       "                var nbb_formatted_code = \"def compare_models(model, X_train, y_train, X_test, y_test, optimal_features_count):\\n    \\\"\\\"\\\"\\n    Trains and compares a machine learning model on all available features and on a subset of the most important features.\\n    \\n    Parameters:\\n    -----------\\n    model : object\\n        An instance of a scikit-learn machine learning model.\\n    X_train : array-like\\n        The training data features.\\n    y_train : array-like\\n        The training data labels.\\n    X_test : array-like\\n        The test data features.\\n    y_test : array-like\\n        The test data labels.\\n    optimal_features_count : int\\n        The number of top features to select for training the model.\\n        \\n    Returns:\\n    --------\\n    tuple\\n        A tuple of two floats representing the model's performance scores on the test data, \\n        first using all available features and second using the subset of the most important features.\\n    \\\"\\\"\\\"\\n    # Train and test the model on all available features\\n    model.fit(X_train, y_train)\\n    all_features_score = model.score(X_test, y_test)\\n\\n    # Train and test the model on a subset of the most important features\\n    sorted_features = feature_importance(model, X_train, y_train)\\n    selected_columns = [col for col, _ in sorted_features][:optimal_features_count]\\n\\n    X_train_optimal = X_train[selected_columns]\\n    X_test_optimal = X_test[selected_columns]\\n\\n    model.fit(X_train_optimal, y_train)\\n    optimal_features_score = model.score(X_test_optimal, y_test)\\n\\n    # Return the model's performance scores\\n    return all_features_score, optimal_features_score\";\n",
       "                var nbb_cells = Jupyter.notebook.get_cells();\n",
       "                for (var i = 0; i < nbb_cells.length; ++i) {\n",
       "                    if (nbb_cells[i].input_prompt_number == nbb_cell_id) {\n",
       "                        if (nbb_cells[i].get_text() == nbb_unformatted_code) {\n",
       "                             nbb_cells[i].set_text(nbb_formatted_code);\n",
       "                        }\n",
       "                        break;\n",
       "                    }\n",
       "                }\n",
       "            }, 500);\n",
       "            "
      ],
      "text/plain": [
       "<IPython.core.display.Javascript object>"
      ]
     },
     "metadata": {},
     "output_type": "display_data"
    }
   ],
   "source": [
    "def compare_models(model, X_train, y_train, X_test, y_test, optimal_features_count):\n",
    "    \"\"\"\n",
    "    Trains and compares a machine learning model on all available features and on a subset of the most important features.\n",
    "    \n",
    "    Parameters:\n",
    "    -----------\n",
    "    model : object\n",
    "        An instance of a scikit-learn machine learning model.\n",
    "    X_train : array-like\n",
    "        The training data features.\n",
    "    y_train : array-like\n",
    "        The training data labels.\n",
    "    X_test : array-like\n",
    "        The test data features.\n",
    "    y_test : array-like\n",
    "        The test data labels.\n",
    "    optimal_features_count : int\n",
    "        The number of top features to select for training the model.\n",
    "        \n",
    "    Returns:\n",
    "    --------\n",
    "    tuple\n",
    "        A tuple of two floats representing the model's performance scores on the test data, \n",
    "        first using all available features and second using the subset of the most important features.\n",
    "    \"\"\"\n",
    "    # Train and test the model on all available features\n",
    "    model.fit(X_train, y_train)\n",
    "    all_features_score = model.score(X_test, y_test)\n",
    "\n",
    "    # Train and test the model on a subset of the most important features\n",
    "    sorted_features = feature_importance(model, X_train, y_train)\n",
    "    selected_columns = [col for col, _ in sorted_features][:optimal_features_count]\n",
    "\n",
    "    X_train_optimal = X_train[selected_columns]\n",
    "    X_test_optimal = X_test[selected_columns]\n",
    "\n",
    "    model.fit(X_train_optimal, y_train)\n",
    "    optimal_features_score = model.score(X_test_optimal, y_test)\n",
    "\n",
    "    # Return the model's performance scores\n",
    "    return all_features_score, optimal_features_score\n"
   ]
  },
  {
   "cell_type": "code",
   "execution_count": 49,
   "id": "1429e664",
   "metadata": {},
   "outputs": [
    {
     "name": "stdout",
     "output_type": "stream",
     "text": [
      "R^2 score using all features:  0.9085632354080178\n",
      "R^2 score using optimal features:  0.9022877721760434\n"
     ]
    },
    {
     "data": {
      "application/javascript": [
       "\n",
       "            setTimeout(function() {\n",
       "                var nbb_cell_id = 49;\n",
       "                var nbb_unformatted_code = \"# Initializing random forest regression model\\nmodel = RandomForestRegressor(random_state=0)\\n\\n# Setting the number of optimal features\\noptimal_features_count = 8\\n\\n# Training and comparing the model's performance with optimal vs all features\\nall_features_score, optimal_features_score = compare_models(model, X_train, y_train, X_test, y_test, optimal_features_count)\\n\\n# Printing the model's performance scores\\nprint(\\\"R^2 score using all features: \\\", all_features_score)\\nprint(\\\"R^2 score using optimal features: \\\", optimal_features_score)\";\n",
       "                var nbb_formatted_code = \"# Initializing random forest regression model\\nmodel = RandomForestRegressor(random_state=0)\\n\\n# Setting the number of optimal features\\noptimal_features_count = 8\\n\\n# Training and comparing the model's performance with optimal vs all features\\nall_features_score, optimal_features_score = compare_models(\\n    model, X_train, y_train, X_test, y_test, optimal_features_count\\n)\\n\\n# Printing the model's performance scores\\nprint(\\\"R^2 score using all features: \\\", all_features_score)\\nprint(\\\"R^2 score using optimal features: \\\", optimal_features_score)\";\n",
       "                var nbb_cells = Jupyter.notebook.get_cells();\n",
       "                for (var i = 0; i < nbb_cells.length; ++i) {\n",
       "                    if (nbb_cells[i].input_prompt_number == nbb_cell_id) {\n",
       "                        if (nbb_cells[i].get_text() == nbb_unformatted_code) {\n",
       "                             nbb_cells[i].set_text(nbb_formatted_code);\n",
       "                        }\n",
       "                        break;\n",
       "                    }\n",
       "                }\n",
       "            }, 500);\n",
       "            "
      ],
      "text/plain": [
       "<IPython.core.display.Javascript object>"
      ]
     },
     "metadata": {},
     "output_type": "display_data"
    }
   ],
   "source": [
    "# Initializing random forest regression model\n",
    "model = RandomForestRegressor(random_state=0)\n",
    "\n",
    "# Setting the number of optimal features\n",
    "optimal_features_count = 8\n",
    "\n",
    "# Training and comparing the model's performance with optimal vs all features\n",
    "all_features_score, optimal_features_score = compare_models(model, X_train, y_train, X_test, y_test, optimal_features_count)\n",
    "\n",
    "# Printing the model's performance scores\n",
    "print(\"R^2 score using all features: \", all_features_score)\n",
    "print(\"R^2 score using optimal features: \", optimal_features_score)\n"
   ]
  },
  {
   "cell_type": "markdown",
   "id": "d158d784",
   "metadata": {},
   "source": [
    "The scores show that using all features is best and this is also what the plot shows"
   ]
  },
  {
   "cell_type": "markdown",
   "id": "521144bb",
   "metadata": {},
   "source": [
    "## Checking for Overfitting by Looking at the Train and Test Errors"
   ]
  },
  {
   "cell_type": "code",
   "execution_count": 50,
   "id": "3a442b5e",
   "metadata": {},
   "outputs": [
    {
     "data": {
      "application/javascript": [
       "\n",
       "            setTimeout(function() {\n",
       "                var nbb_cell_id = 50;\n",
       "                var nbb_unformatted_code = \"def evaluate_model(model, X_train, y_train, X_test, y_test):\\n    \\\"\\\"\\\"\\n    Fits a machine learning model to training data, makes predictions on both training and test sets, \\n    and calculates performance metrics including mean squared error (MSE) and R^2 score.\\n    \\n    Parameters:\\n    -----------\\n    model : object\\n        An instance of a scikit-learn machine learning model.\\n    X_train : array-like\\n        The training data features.\\n    y_train : array-like\\n        The training data labels.\\n    X_test : array-like\\n        The test data features.\\n    y_test : array-like\\n        The test data labels.\\n        \\n    Returns:\\n    --------\\n    None\\n        Prints the training and test set performance metrics, including MSE and R^2 scores.\\n    \\\"\\\"\\\"\\n    # Fit the model on the training set\\n    model.fit(X_train, y_train)\\n\\n    # Make predictions on the train and test sets\\n    y_train_pred = model.predict(X_train)\\n    y_test_pred = model.predict(X_test)\\n\\n    # Calculate the mean squared error for the train and test sets\\n    mse_train = mean_squared_error(y_train, y_train_pred)\\n    mse_test = mean_squared_error(y_test, y_test_pred)\\n\\n    # Calculate the R^2 for the train and test sets\\n    r2_train = r2_score(y_train, y_train_pred)\\n    r2_test = r2_score(y_test, y_test_pred)\\n\\n    # Print the performance metrics for the model on both the training and test sets\\n    print(\\\"The training error (MSE) is: %.5f\\\" % mse_train)\\n    print(\\\"The test     error (MSE) is: %.5f\\\" % mse_test)\\n    print(\\\"The training R^2 is: %.5f\\\" % r2_train)\\n    print(\\\"The test     R^2 is: %.5f\\\" % r2_test)\";\n",
       "                var nbb_formatted_code = \"def evaluate_model(model, X_train, y_train, X_test, y_test):\\n    \\\"\\\"\\\"\\n    Fits a machine learning model to training data, makes predictions on both training and test sets, \\n    and calculates performance metrics including mean squared error (MSE) and R^2 score.\\n    \\n    Parameters:\\n    -----------\\n    model : object\\n        An instance of a scikit-learn machine learning model.\\n    X_train : array-like\\n        The training data features.\\n    y_train : array-like\\n        The training data labels.\\n    X_test : array-like\\n        The test data features.\\n    y_test : array-like\\n        The test data labels.\\n        \\n    Returns:\\n    --------\\n    None\\n        Prints the training and test set performance metrics, including MSE and R^2 scores.\\n    \\\"\\\"\\\"\\n    # Fit the model on the training set\\n    model.fit(X_train, y_train)\\n\\n    # Make predictions on the train and test sets\\n    y_train_pred = model.predict(X_train)\\n    y_test_pred = model.predict(X_test)\\n\\n    # Calculate the mean squared error for the train and test sets\\n    mse_train = mean_squared_error(y_train, y_train_pred)\\n    mse_test = mean_squared_error(y_test, y_test_pred)\\n\\n    # Calculate the R^2 for the train and test sets\\n    r2_train = r2_score(y_train, y_train_pred)\\n    r2_test = r2_score(y_test, y_test_pred)\\n\\n    # Print the performance metrics for the model on both the training and test sets\\n    print(\\\"The training error (MSE) is: %.5f\\\" % mse_train)\\n    print(\\\"The test     error (MSE) is: %.5f\\\" % mse_test)\\n    print(\\\"The training R^2 is: %.5f\\\" % r2_train)\\n    print(\\\"The test     R^2 is: %.5f\\\" % r2_test)\";\n",
       "                var nbb_cells = Jupyter.notebook.get_cells();\n",
       "                for (var i = 0; i < nbb_cells.length; ++i) {\n",
       "                    if (nbb_cells[i].input_prompt_number == nbb_cell_id) {\n",
       "                        if (nbb_cells[i].get_text() == nbb_unformatted_code) {\n",
       "                             nbb_cells[i].set_text(nbb_formatted_code);\n",
       "                        }\n",
       "                        break;\n",
       "                    }\n",
       "                }\n",
       "            }, 500);\n",
       "            "
      ],
      "text/plain": [
       "<IPython.core.display.Javascript object>"
      ]
     },
     "metadata": {},
     "output_type": "display_data"
    }
   ],
   "source": [
    "def evaluate_model(model, X_train, y_train, X_test, y_test):\n",
    "    \"\"\"\n",
    "    Fits a machine learning model to training data, makes predictions on both training and test sets, \n",
    "    and calculates performance metrics including mean squared error (MSE) and R^2 score.\n",
    "    \n",
    "    Parameters:\n",
    "    -----------\n",
    "    model : object\n",
    "        An instance of a scikit-learn machine learning model.\n",
    "    X_train : array-like\n",
    "        The training data features.\n",
    "    y_train : array-like\n",
    "        The training data labels.\n",
    "    X_test : array-like\n",
    "        The test data features.\n",
    "    y_test : array-like\n",
    "        The test data labels.\n",
    "        \n",
    "    Returns:\n",
    "    --------\n",
    "    None\n",
    "        Prints the training and test set performance metrics, including MSE and R^2 scores.\n",
    "    \"\"\"\n",
    "    # Fit the model on the training set\n",
    "    model.fit(X_train, y_train)\n",
    "\n",
    "    # Make predictions on the train and test sets\n",
    "    y_train_pred = model.predict(X_train)\n",
    "    y_test_pred = model.predict(X_test)\n",
    "\n",
    "    # Calculate the mean squared error for the train and test sets\n",
    "    mse_train = mean_squared_error(y_train, y_train_pred)\n",
    "    mse_test = mean_squared_error(y_test, y_test_pred)\n",
    "\n",
    "    # Calculate the R^2 for the train and test sets\n",
    "    r2_train = r2_score(y_train, y_train_pred)\n",
    "    r2_test = r2_score(y_test, y_test_pred)\n",
    "\n",
    "    # Print the performance metrics for the model on both the training and test sets\n",
    "    print(\"The training error (MSE) is: %.5f\" % mse_train)\n",
    "    print(\"The test     error (MSE) is: %.5f\" % mse_test)\n",
    "    print(\"The training R^2 is: %.5f\" % r2_train)\n",
    "    print(\"The test     R^2 is: %.5f\" % r2_test)\n"
   ]
  },
  {
   "cell_type": "code",
   "execution_count": 51,
   "id": "82b33721",
   "metadata": {},
   "outputs": [
    {
     "name": "stdout",
     "output_type": "stream",
     "text": [
      "The training error (MSE) is: 83862883.22620\n",
      "The test     error (MSE) is: 541415051.26975\n",
      "The training R^2 is: 0.98482\n",
      "The test     R^2 is: 0.90856\n"
     ]
    },
    {
     "data": {
      "application/javascript": [
       "\n",
       "            setTimeout(function() {\n",
       "                var nbb_cell_id = 51;\n",
       "                var nbb_unformatted_code = \"random_forest_model = RandomForestRegressor(random_state=0)\\nevaluate_model(random_forest_model, X_train, y_train, X_test, y_test)\";\n",
       "                var nbb_formatted_code = \"random_forest_model = RandomForestRegressor(random_state=0)\\nevaluate_model(random_forest_model, X_train, y_train, X_test, y_test)\";\n",
       "                var nbb_cells = Jupyter.notebook.get_cells();\n",
       "                for (var i = 0; i < nbb_cells.length; ++i) {\n",
       "                    if (nbb_cells[i].input_prompt_number == nbb_cell_id) {\n",
       "                        if (nbb_cells[i].get_text() == nbb_unformatted_code) {\n",
       "                             nbb_cells[i].set_text(nbb_formatted_code);\n",
       "                        }\n",
       "                        break;\n",
       "                    }\n",
       "                }\n",
       "            }, 500);\n",
       "            "
      ],
      "text/plain": [
       "<IPython.core.display.Javascript object>"
      ]
     },
     "metadata": {},
     "output_type": "display_data"
    }
   ],
   "source": [
    "random_forest_model = RandomForestRegressor(random_state=0)\n",
    "evaluate_model(random_forest_model, X_train, y_train, X_test, y_test)"
   ]
  },
  {
   "cell_type": "markdown",
   "id": "dfff450c",
   "metadata": {},
   "source": [
    "The high R squared shows the model is overfitting"
   ]
  },
  {
   "cell_type": "markdown",
   "id": "9749113f",
   "metadata": {},
   "source": [
    "## Finding the optimal hyperparameters using RandomizedSearchCV and then evaluating the model's performance using the best parameters found"
   ]
  },
  {
   "cell_type": "code",
   "execution_count": 52,
   "id": "b4b68388",
   "metadata": {},
   "outputs": [
    {
     "data": {
      "application/javascript": [
       "\n",
       "            setTimeout(function() {\n",
       "                var nbb_cell_id = 52;\n",
       "                var nbb_unformatted_code = \"def find_best_params(X_train, y_train):\\n    \\\"\\\"\\\"\\n    Find the best hyperparameters for a RandomForestRegressor using RandomizedSearchCV.\\n\\n    Args:\\n    X_train: (pandas.DataFrame) Training features.\\n    y_train: (pandas.Series) Training target variable.\\n\\n    Returns:\\n    best_params: (dict) Best hyperparameters found by RandomizedSearchCV.\\n    \\\"\\\"\\\"\\n\\n    param_grid = {\\n        \\\"n_estimators\\\": [10, 50, 100, 200],\\n        \\\"max_depth\\\": [10, 20, 30, 40, 50, 60],\\n        \\\"min_samples_split\\\": [2, 5, 10],\\n        \\\"min_samples_leaf\\\": [4, 8, 12],\\n        \\\"max_features\\\": [\\\"auto\\\", \\\"sqrt\\\"],\\n    }\\n\\n    rf = RandomForestRegressor(random_state=0)\\n    randomized_search = RandomizedSearchCV(\\n        estimator=rf,\\n        param_distributions=param_grid,\\n        n_iter=100,\\n        cv=5,\\n        n_jobs=-1,\\n        verbose=2,\\n        scoring=\\\"neg_mean_squared_error\\\",\\n        random_state=0,\\n    )\\n\\n    randomized_search.fit(X_train, y_train)\\n\\n    return randomized_search.best_params_\";\n",
       "                var nbb_formatted_code = \"def find_best_params(X_train, y_train):\\n    \\\"\\\"\\\"\\n    Find the best hyperparameters for a RandomForestRegressor using RandomizedSearchCV.\\n\\n    Args:\\n    X_train: (pandas.DataFrame) Training features.\\n    y_train: (pandas.Series) Training target variable.\\n\\n    Returns:\\n    best_params: (dict) Best hyperparameters found by RandomizedSearchCV.\\n    \\\"\\\"\\\"\\n\\n    param_grid = {\\n        \\\"n_estimators\\\": [10, 50, 100, 200],\\n        \\\"max_depth\\\": [10, 20, 30, 40, 50, 60],\\n        \\\"min_samples_split\\\": [2, 5, 10],\\n        \\\"min_samples_leaf\\\": [4, 8, 12],\\n        \\\"max_features\\\": [\\\"auto\\\", \\\"sqrt\\\"],\\n    }\\n\\n    rf = RandomForestRegressor(random_state=0)\\n    randomized_search = RandomizedSearchCV(\\n        estimator=rf,\\n        param_distributions=param_grid,\\n        n_iter=100,\\n        cv=5,\\n        n_jobs=-1,\\n        verbose=2,\\n        scoring=\\\"neg_mean_squared_error\\\",\\n        random_state=0,\\n    )\\n\\n    randomized_search.fit(X_train, y_train)\\n\\n    return randomized_search.best_params_\";\n",
       "                var nbb_cells = Jupyter.notebook.get_cells();\n",
       "                for (var i = 0; i < nbb_cells.length; ++i) {\n",
       "                    if (nbb_cells[i].input_prompt_number == nbb_cell_id) {\n",
       "                        if (nbb_cells[i].get_text() == nbb_unformatted_code) {\n",
       "                             nbb_cells[i].set_text(nbb_formatted_code);\n",
       "                        }\n",
       "                        break;\n",
       "                    }\n",
       "                }\n",
       "            }, 500);\n",
       "            "
      ],
      "text/plain": [
       "<IPython.core.display.Javascript object>"
      ]
     },
     "metadata": {},
     "output_type": "display_data"
    }
   ],
   "source": [
    "def find_best_params(X_train, y_train):\n",
    "    \"\"\"\n",
    "    Find the best hyperparameters for a RandomForestRegressor using RandomizedSearchCV.\n",
    "\n",
    "    Args:\n",
    "    X_train: (pandas.DataFrame) Training features.\n",
    "    y_train: (pandas.Series) Training target variable.\n",
    "\n",
    "    Returns:\n",
    "    best_params: (dict) Best hyperparameters found by RandomizedSearchCV.\n",
    "    \"\"\"\n",
    "\n",
    "    param_grid = {\n",
    "        \"n_estimators\": [10, 50, 100, 200],\n",
    "        \"max_depth\": [10, 20, 30, 40, 50, 60],\n",
    "        \"min_samples_split\": [2, 5, 10],\n",
    "        \"min_samples_leaf\": [4, 8, 12],\n",
    "        \"max_features\": [\"auto\", \"sqrt\"],\n",
    "    }\n",
    "\n",
    "    rf = RandomForestRegressor(random_state=0)\n",
    "    randomized_search = RandomizedSearchCV(\n",
    "        estimator=rf,\n",
    "        param_distributions=param_grid,\n",
    "        n_iter=100,\n",
    "        cv=5,\n",
    "        n_jobs=-1,\n",
    "        verbose=2,\n",
    "        scoring=\"neg_mean_squared_error\",\n",
    "        random_state=0,\n",
    "    )\n",
    "\n",
    "    randomized_search.fit(X_train, y_train)\n",
    "\n",
    "    return randomized_search.best_params_\n"
   ]
  },
  {
   "cell_type": "code",
   "execution_count": 53,
   "id": "acd681f8",
   "metadata": {},
   "outputs": [
    {
     "name": "stdout",
     "output_type": "stream",
     "text": [
      "Fitting 5 folds for each of 100 candidates, totalling 500 fits\n",
      "Best parameters found by RandomizedSearchCV:\n",
      "{'n_estimators': 200, 'min_samples_split': 2, 'min_samples_leaf': 4, 'max_features': 'auto', 'max_depth': 60}\n",
      "The training error (MSE) is: 228388361.45073\n",
      "The test     error (MSE) is: 526175096.27153\n",
      "The training R^2 is: 0.95867\n",
      "The test     R^2 is: 0.91114\n"
     ]
    },
    {
     "data": {
      "application/javascript": [
       "\n",
       "            setTimeout(function() {\n",
       "                var nbb_cell_id = 53;\n",
       "                var nbb_unformatted_code = \"# Using the find_best_params function to find the best hyperparameters\\nbest_params = find_best_params(X_train, y_train)\\nprint(\\\"Best parameters found by RandomizedSearchCV:\\\")\\nprint(best_params)\\n\\n# Creating a RandomForestRegressor using the best hyperparameters and evaluating it\\nbest_rf = RandomForestRegressor(**best_params, random_state=0)\\nevaluate_model(best_rf, X_train, y_train, X_test, y_test)\";\n",
       "                var nbb_formatted_code = \"# Using the find_best_params function to find the best hyperparameters\\nbest_params = find_best_params(X_train, y_train)\\nprint(\\\"Best parameters found by RandomizedSearchCV:\\\")\\nprint(best_params)\\n\\n# Creating a RandomForestRegressor using the best hyperparameters and evaluating it\\nbest_rf = RandomForestRegressor(**best_params, random_state=0)\\nevaluate_model(best_rf, X_train, y_train, X_test, y_test)\";\n",
       "                var nbb_cells = Jupyter.notebook.get_cells();\n",
       "                for (var i = 0; i < nbb_cells.length; ++i) {\n",
       "                    if (nbb_cells[i].input_prompt_number == nbb_cell_id) {\n",
       "                        if (nbb_cells[i].get_text() == nbb_unformatted_code) {\n",
       "                             nbb_cells[i].set_text(nbb_formatted_code);\n",
       "                        }\n",
       "                        break;\n",
       "                    }\n",
       "                }\n",
       "            }, 500);\n",
       "            "
      ],
      "text/plain": [
       "<IPython.core.display.Javascript object>"
      ]
     },
     "metadata": {},
     "output_type": "display_data"
    }
   ],
   "source": [
    "# Using the find_best_params function to find the best hyperparameters\n",
    "best_params = find_best_params(X_train, y_train)\n",
    "print(\"Best parameters found by RandomizedSearchCV:\")\n",
    "print(best_params)\n",
    "\n",
    "# Creating a RandomForestRegressor using the best hyperparameters and evaluating it\n",
    "best_rf = RandomForestRegressor(**best_params, random_state=0)\n",
    "evaluate_model(best_rf, X_train, y_train, X_test, y_test)\n"
   ]
  },
  {
   "cell_type": "markdown",
   "id": "68af316e",
   "metadata": {},
   "source": [
    "## Vizualizing Tuned Parameters"
   ]
  },
  {
   "cell_type": "code",
   "execution_count": 54,
   "id": "239ea7d6",
   "metadata": {},
   "outputs": [
    {
     "name": "stdout",
     "output_type": "stream",
     "text": [
      "Fitting 5 folds for each of 100 candidates, totalling 500 fits\n"
     ]
    },
    {
     "data": {
      "text/plain": [
       "RandomizedSearchCV(cv=5, estimator=RandomForestRegressor(random_state=0),\n",
       "                   n_iter=100, n_jobs=-1,\n",
       "                   param_distributions={'max_depth': [40, 50, 60],\n",
       "                                        'max_features': ['auto', 'sqrt'],\n",
       "                                        'min_samples_leaf': [4, 8, 12],\n",
       "                                        'min_samples_split': [2, 5, 10],\n",
       "                                        'n_estimators': [50, 100, 200]},\n",
       "                   random_state=0, scoring='neg_mean_squared_error', verbose=2)"
      ]
     },
     "execution_count": 54,
     "metadata": {},
     "output_type": "execute_result"
    },
    {
     "data": {
      "application/javascript": [
       "\n",
       "            setTimeout(function() {\n",
       "                var nbb_cell_id = 54;\n",
       "                var nbb_unformatted_code = \"# Defining the grid of hyperparameters to search\\nparam_grid = {\\n    \\\"n_estimators\\\": [50, 100, 200],\\n    \\\"max_depth\\\": [40, 50, 60],\\n    \\\"min_samples_split\\\": [2, 5, 10],\\n    \\\"min_samples_leaf\\\": [4, 8, 12],\\n    \\\"max_features\\\": [\\\"auto\\\", \\\"sqrt\\\"],\\n}\\n# Initializing RandomRegressor\\nrf = RandomForestRegressor(random_state=0)\\nbest_rf_GS = RandomizedSearchCV(\\n    estimator=rf,\\n    param_distributions=param_grid,\\n    n_iter=100,\\n    cv=5,\\n    n_jobs=-1,\\n    verbose=2,\\n    scoring=\\\"neg_mean_squared_error\\\",\\n    random_state=0,\\n)\\n# Fitting to trainning data\\nbest_rf_GS.fit(X_train, y_train)\";\n",
       "                var nbb_formatted_code = \"# Defining the grid of hyperparameters to search\\nparam_grid = {\\n    \\\"n_estimators\\\": [50, 100, 200],\\n    \\\"max_depth\\\": [40, 50, 60],\\n    \\\"min_samples_split\\\": [2, 5, 10],\\n    \\\"min_samples_leaf\\\": [4, 8, 12],\\n    \\\"max_features\\\": [\\\"auto\\\", \\\"sqrt\\\"],\\n}\\n# Initializing RandomRegressor\\nrf = RandomForestRegressor(random_state=0)\\nbest_rf_GS = RandomizedSearchCV(\\n    estimator=rf,\\n    param_distributions=param_grid,\\n    n_iter=100,\\n    cv=5,\\n    n_jobs=-1,\\n    verbose=2,\\n    scoring=\\\"neg_mean_squared_error\\\",\\n    random_state=0,\\n)\\n# Fitting to trainning data\\nbest_rf_GS.fit(X_train, y_train)\";\n",
       "                var nbb_cells = Jupyter.notebook.get_cells();\n",
       "                for (var i = 0; i < nbb_cells.length; ++i) {\n",
       "                    if (nbb_cells[i].input_prompt_number == nbb_cell_id) {\n",
       "                        if (nbb_cells[i].get_text() == nbb_unformatted_code) {\n",
       "                             nbb_cells[i].set_text(nbb_formatted_code);\n",
       "                        }\n",
       "                        break;\n",
       "                    }\n",
       "                }\n",
       "            }, 500);\n",
       "            "
      ],
      "text/plain": [
       "<IPython.core.display.Javascript object>"
      ]
     },
     "metadata": {},
     "output_type": "display_data"
    }
   ],
   "source": [
    "# Defining the grid of hyperparameters to search\n",
    "param_grid = {\n",
    "    \"n_estimators\": [50, 100, 200],\n",
    "    \"max_depth\": [40, 50, 60],\n",
    "    \"min_samples_split\": [2, 5, 10],\n",
    "    \"min_samples_leaf\": [4, 8, 12],\n",
    "    \"max_features\": [\"auto\", \"sqrt\"],\n",
    "}\n",
    "# Initializing RandomRegressor\n",
    "rf = RandomForestRegressor(random_state=0)\n",
    "best_rf_GS = RandomizedSearchCV(\n",
    "    estimator=rf,\n",
    "    param_distributions=param_grid,\n",
    "    n_iter=100,\n",
    "    cv=5,\n",
    "    n_jobs=-1,\n",
    "    verbose=2,\n",
    "    scoring=\"neg_mean_squared_error\",\n",
    "    random_state=0,\n",
    ")\n",
    "# Fitting to trainning data\n",
    "best_rf_GS.fit(X_train, y_train)"
   ]
  },
  {
   "cell_type": "code",
   "execution_count": 55,
   "id": "513cc0ba",
   "metadata": {},
   "outputs": [
    {
     "data": {
      "text/plain": [
       "{'n_estimators': 200,\n",
       " 'min_samples_split': 2,\n",
       " 'min_samples_leaf': 4,\n",
       " 'max_features': 'auto',\n",
       " 'max_depth': 50}"
      ]
     },
     "execution_count": 55,
     "metadata": {},
     "output_type": "execute_result"
    },
    {
     "data": {
      "application/javascript": [
       "\n",
       "            setTimeout(function() {\n",
       "                var nbb_cell_id = 55;\n",
       "                var nbb_unformatted_code = \"# Checking best parameters\\nbest_rf_GS.best_params_\";\n",
       "                var nbb_formatted_code = \"# Checking best parameters\\nbest_rf_GS.best_params_\";\n",
       "                var nbb_cells = Jupyter.notebook.get_cells();\n",
       "                for (var i = 0; i < nbb_cells.length; ++i) {\n",
       "                    if (nbb_cells[i].input_prompt_number == nbb_cell_id) {\n",
       "                        if (nbb_cells[i].get_text() == nbb_unformatted_code) {\n",
       "                             nbb_cells[i].set_text(nbb_formatted_code);\n",
       "                        }\n",
       "                        break;\n",
       "                    }\n",
       "                }\n",
       "            }, 500);\n",
       "            "
      ],
      "text/plain": [
       "<IPython.core.display.Javascript object>"
      ]
     },
     "metadata": {},
     "output_type": "display_data"
    }
   ],
   "source": [
    "# Checking best parameters\n",
    "best_rf_GS.best_params_"
   ]
  },
  {
   "cell_type": "markdown",
   "id": "76490d03",
   "metadata": {},
   "source": [
    "#### max_depth and n_estimators"
   ]
  },
  {
   "cell_type": "code",
   "execution_count": 56,
   "id": "c8aedc13",
   "metadata": {},
   "outputs": [
    {
     "data": {
      "image/png": "[encoded data removed]",
      "text/plain": [
       "<Figure size 432x288 with 2 Axes>"
      ]
     },
     "metadata": {
      "needs_background": "light"
     },
     "output_type": "display_data"
    },
    {
     "data": {
      "application/javascript": [
       "\n",
       "            setTimeout(function() {\n",
       "                var nbb_cell_id = 56;\n",
       "                var nbb_unformatted_code = \"results = pd.DataFrame(best_rf_GS.cv_results_)\\ntable = pd.pivot_table(\\n    results,\\n    values=\\\"mean_test_score\\\",\\n    index=\\\"param_max_depth\\\",\\n    columns=\\\"param_n_estimators\\\",\\n)\\nsns.heatmap(\\n    table,\\n    annot=True,\\n    fmt=\\\".4g\\\",\\n    cmap=\\\"coolwarm\\\",\\n    cbar_kws={\\\"format\\\": ticker.ScalarFormatter(useMathText=False)},\\n)\\n\\nplt.xlabel(\\\"n_estimators\\\")\\nplt.ylabel(\\\"max_depth\\\")\\n\\nplt.savefig(\\\"../pic/max_depth-n_estimators-heatmap.png\\\", dpi=900)\\nplt.show()\";\n",
       "                var nbb_formatted_code = \"results = pd.DataFrame(best_rf_GS.cv_results_)\\ntable = pd.pivot_table(\\n    results,\\n    values=\\\"mean_test_score\\\",\\n    index=\\\"param_max_depth\\\",\\n    columns=\\\"param_n_estimators\\\",\\n)\\nsns.heatmap(\\n    table,\\n    annot=True,\\n    fmt=\\\".4g\\\",\\n    cmap=\\\"coolwarm\\\",\\n    cbar_kws={\\\"format\\\": ticker.ScalarFormatter(useMathText=False)},\\n)\\n\\nplt.xlabel(\\\"n_estimators\\\")\\nplt.ylabel(\\\"max_depth\\\")\\n\\nplt.savefig(\\\"../pic/max_depth-n_estimators-heatmap.png\\\", dpi=900)\\nplt.show()\";\n",
       "                var nbb_cells = Jupyter.notebook.get_cells();\n",
       "                for (var i = 0; i < nbb_cells.length; ++i) {\n",
       "                    if (nbb_cells[i].input_prompt_number == nbb_cell_id) {\n",
       "                        if (nbb_cells[i].get_text() == nbb_unformatted_code) {\n",
       "                             nbb_cells[i].set_text(nbb_formatted_code);\n",
       "                        }\n",
       "                        break;\n",
       "                    }\n",
       "                }\n",
       "            }, 500);\n",
       "            "
      ],
      "text/plain": [
       "<IPython.core.display.Javascript object>"
      ]
     },
     "metadata": {},
     "output_type": "display_data"
    }
   ],
   "source": [
    "results = pd.DataFrame(best_rf_GS.cv_results_)\n",
    "table = pd.pivot_table(\n",
    "    results,\n",
    "    values=\"mean_test_score\",\n",
    "    index=\"param_max_depth\",\n",
    "    columns=\"param_n_estimators\",\n",
    ")\n",
    "sns.heatmap(\n",
    "    table,\n",
    "    annot=True,\n",
    "    fmt=\".4g\",\n",
    "    cmap=\"coolwarm\",\n",
    "    cbar_kws={\"format\": ticker.ScalarFormatter(useMathText=False)},\n",
    ")\n",
    "\n",
    "plt.xlabel(\"n_estimators\")\n",
    "plt.ylabel(\"max_depth\")\n",
    "\n",
    "plt.savefig(\"../pic/max_depth-n_estimators-heatmap.png\", dpi=900)\n",
    "plt.show()"
   ]
  },
  {
   "cell_type": "markdown",
   "id": "775eed48",
   "metadata": {},
   "source": [
    "#### min_samples_split"
   ]
  },
  {
   "cell_type": "code",
   "execution_count": 57,
   "id": "ae7e1656",
   "metadata": {},
   "outputs": [
    {
     "name": "stdout",
     "output_type": "stream",
     "text": [
      "Fitting 5 folds for each of 100 candidates, totalling 500 fits\n",
      "Fitting 5 folds for each of 100 candidates, totalling 500 fits\n",
      "Fitting 5 folds for each of 100 candidates, totalling 500 fits\n",
      "[CV] END max_depth=60, max_features=auto, min_samples_leaf=12, min_samples_split=5, n_estimators=100; total time=   0.9s\n",
      "[CV] END max_depth=50, max_features=sqrt, min_samples_leaf=12, min_samples_split=2, n_estimators=100; total time=   0.2s\n",
      "[CV] END max_depth=30, max_features=auto, min_samples_leaf=8, min_samples_split=2, n_estimators=50; total time=   0.5s\n",
      "[CV] END max_depth=10, max_features=auto, min_samples_leaf=8, min_samples_split=10, n_estimators=50; total time=   0.5s\n",
      "[CV] END max_depth=50, max_features=auto, min_samples_leaf=12, min_samples_split=5, n_estimators=50; total time=   0.4s\n",
      "[CV] END max_depth=40, max_features=auto, min_samples_leaf=8, min_samples_split=2, n_estimators=200; total time=   1.9s\n",
      "[CV] END max_depth=50, max_features=sqrt, min_samples_leaf=4, min_samples_split=2, n_estimators=100; total time=   0.3s\n",
      "[CV] END max_depth=50, max_features=auto, min_samples_leaf=12, min_samples_split=2, n_estimators=10; total time=   0.1s\n",
      "[CV] END max_depth=10, max_features=auto, min_samples_leaf=8, min_samples_split=2, n_estimators=10; total time=   0.1s\n",
      "[CV] END max_depth=30, max_features=auto, min_samples_leaf=12, min_samples_split=5, n_estimators=200; total time=   1.7s\n",
      "[CV] END max_depth=30, max_features=auto, min_samples_leaf=8, min_samples_split=2, n_estimators=100; total time=   0.9s\n",
      "[CV] END max_depth=20, max_features=auto, min_samples_leaf=4, min_samples_split=5, n_estimators=100; total time=   1.2s\n",
      "[CV] END max_depth=40, max_features=sqrt, min_samples_leaf=8, min_samples_split=10, n_estimators=100; total time=   0.3s\n",
      "[CV] END max_depth=40, max_features=sqrt, min_samples_leaf=12, min_samples_split=2, n_estimators=100; total time=   0.2s\n",
      "[CV] END max_depth=60, max_features=auto, min_samples_leaf=8, min_samples_split=2, n_estimators=100; total time=   1.0s\n",
      "[CV] END max_depth=40, max_features=sqrt, min_samples_leaf=4, min_samples_split=5, n_estimators=200; total time=   0.6s\n",
      "[CV] END max_depth=50, max_features=sqrt, min_samples_leaf=4, min_samples_split=5, n_estimators=100; total time=   0.3s\n",
      "[CV] END max_depth=50, max_features=sqrt, min_samples_leaf=12, min_samples_split=5, n_estimators=10; total time=   0.0s\n",
      "[CV] END max_depth=50, max_features=sqrt, min_samples_leaf=12, min_samples_split=5, n_estimators=10; total time=   0.0s\n",
      "[CV] END max_depth=50, max_features=sqrt, min_samples_leaf=12, min_samples_split=5, n_estimators=10; total time=   0.0s\n",
      "[CV] END max_depth=50, max_features=sqrt, min_samples_leaf=12, min_samples_split=5, n_estimators=10; total time=   0.0s\n",
      "[CV] END max_depth=50, max_features=sqrt, min_samples_leaf=12, min_samples_split=5, n_estimators=10; total time=   0.0s\n",
      "[CV] END max_depth=50, max_features=sqrt, min_samples_leaf=8, min_samples_split=5, n_estimators=10; total time=   0.0s\n",
      "[CV] END max_depth=50, max_features=sqrt, min_samples_leaf=8, min_samples_split=5, n_estimators=10; total time=   0.0s\n",
      "[CV] END max_depth=60, max_features=sqrt, min_samples_leaf=4, min_samples_split=5, n_estimators=100; total time=   0.3s\n",
      "[CV] END max_depth=60, max_features=sqrt, min_samples_leaf=12, min_samples_split=10, n_estimators=200; total time=   0.5s\n",
      "[CV] END max_depth=20, max_features=auto, min_samples_leaf=4, min_samples_split=5, n_estimators=10; total time=   0.1s\n",
      "[CV] END max_depth=30, max_features=auto, min_samples_leaf=12, min_samples_split=10, n_estimators=200; total time=   1.9s\n",
      "[CV] END max_depth=50, max_features=auto, min_samples_leaf=12, min_samples_split=2, n_estimators=200; total time=   1.9s\n",
      "[CV] END max_depth=10, max_features=auto, min_samples_leaf=4, min_samples_split=5, n_estimators=50; total time=   0.6s\n",
      "[CV] END max_depth=20, max_features=sqrt, min_samples_leaf=12, min_samples_split=2, n_estimators=100; total time=   0.3s\n",
      "[CV] END max_depth=20, max_features=sqrt, min_samples_leaf=12, min_samples_split=10, n_estimators=50; total time=   0.1s\n",
      "[CV] END max_depth=10, max_features=sqrt, min_samples_leaf=12, min_samples_split=10, n_estimators=10; total time=   0.0s\n",
      "[CV] END max_depth=50, max_features=auto, min_samples_leaf=12, min_samples_split=5, n_estimators=10; total time=   0.1s\n",
      "[CV] END max_depth=10, max_features=sqrt, min_samples_leaf=8, min_samples_split=5, n_estimators=100; total time=   0.2s\n",
      "[CV] END max_depth=30, max_features=sqrt, min_samples_leaf=8, min_samples_split=5, n_estimators=200; total time=   0.5s\n",
      "[CV] END max_depth=10, max_features=auto, min_samples_leaf=4, min_samples_split=10, n_estimators=100; total time=   1.1s\n",
      "[CV] END max_depth=30, max_features=auto, min_samples_leaf=8, min_samples_split=2, n_estimators=50; total time=   0.5s\n",
      "[CV] END max_depth=50, max_features=auto, min_samples_leaf=12, min_samples_split=5, n_estimators=200; total time=   1.7s\n",
      "[CV] END max_depth=50, max_features=auto, min_samples_leaf=8, min_samples_split=10, n_estimators=10; total time=   0.1s\n",
      "[CV] END max_depth=50, max_features=auto, min_samples_leaf=8, min_samples_split=10, n_estimators=10; total time=   0.1s\n",
      "[CV] END max_depth=20, max_features=auto, min_samples_leaf=8, min_samples_split=5, n_estimators=100; total time=   0.9s\n",
      "[CV] END max_depth=30, max_features=sqrt, min_samples_leaf=8, min_samples_split=5, n_estimators=10; total time=   0.0s\n",
      "[CV] END max_depth=40, max_features=sqrt, min_samples_leaf=12, min_samples_split=5, n_estimators=100; total time=   0.2s\n",
      "[CV] END max_depth=60, max_features=sqrt, min_samples_leaf=12, min_samples_split=5, n_estimators=200; total time=   0.4s\n",
      "[CV] END max_depth=30, max_features=auto, min_samples_leaf=4, min_samples_split=10, n_estimators=200; total time=   2.1s\n",
      "[CV] END max_depth=60, max_features=sqrt, min_samples_leaf=8, min_samples_split=10, n_estimators=50; total time=   0.1s\n",
      "[CV] END max_depth=60, max_features=auto, min_samples_leaf=4, min_samples_split=5, n_estimators=50; total time=   0.6s\n",
      "[CV] END max_depth=20, max_features=auto, min_samples_leaf=12, min_samples_split=2, n_estimators=10; total time=   0.1s\n",
      "[CV] END max_depth=40, max_features=sqrt, min_samples_leaf=8, min_samples_split=10, n_estimators=100; total time=   0.2s\n",
      "[CV] END max_depth=40, max_features=sqrt, min_samples_leaf=12, min_samples_split=2, n_estimators=100; total time=   0.2s\n",
      "[CV] END max_depth=50, max_features=auto, min_samples_leaf=12, min_samples_split=10, n_estimators=10; total time=   0.1s\n",
      "[CV] END max_depth=60, max_features=auto, min_samples_leaf=8, min_samples_split=2, n_estimators=100; total time=   0.9s\n",
      "[CV] END max_depth=40, max_features=sqrt, min_samples_leaf=4, min_samples_split=5, n_estimators=200; total time=   0.5s\n",
      "[CV] END max_depth=50, max_features=sqrt, min_samples_leaf=4, min_samples_split=5, n_estimators=100; total time=   0.3s\n",
      "[CV] END max_depth=50, max_features=sqrt, min_samples_leaf=12, min_samples_split=5, n_estimators=10; total time=   0.0s\n",
      "[CV] END max_depth=50, max_features=sqrt, min_samples_leaf=12, min_samples_split=5, n_estimators=10; total time=   0.0s\n",
      "[CV] END max_depth=50, max_features=sqrt, min_samples_leaf=12, min_samples_split=5, n_estimators=10; total time=   0.0s\n",
      "[CV] END max_depth=50, max_features=sqrt, min_samples_leaf=12, min_samples_split=5, n_estimators=10; total time=   0.0s\n",
      "[CV] END max_depth=50, max_features=sqrt, min_samples_leaf=12, min_samples_split=5, n_estimators=10; total time=   0.0s\n",
      "[CV] END max_depth=50, max_features=sqrt, min_samples_leaf=8, min_samples_split=5, n_estimators=10; total time=   0.0s\n",
      "[CV] END max_depth=50, max_features=sqrt, min_samples_leaf=8, min_samples_split=5, n_estimators=10; total time=   0.0s\n",
      "[CV] END max_depth=60, max_features=sqrt, min_samples_leaf=4, min_samples_split=5, n_estimators=100; total time=   0.3s\n",
      "[CV] END max_depth=60, max_features=sqrt, min_samples_leaf=12, min_samples_split=10, n_estimators=200; total time=   0.5s\n",
      "[CV] END max_depth=60, max_features=auto, min_samples_leaf=12, min_samples_split=5, n_estimators=50; total time=   0.4s\n",
      "[CV] END max_depth=10, max_features=sqrt, min_samples_leaf=8, min_samples_split=2, n_estimators=50; total time=   0.1s\n",
      "[CV] END max_depth=10, max_features=sqrt, min_samples_leaf=8, min_samples_split=5, n_estimators=10; total time=   0.0s\n",
      "[CV] END max_depth=20, max_features=auto, min_samples_leaf=4, min_samples_split=2, n_estimators=100; total time=   1.1s\n",
      "[CV] END max_depth=10, max_features=auto, min_samples_leaf=4, min_samples_split=5, n_estimators=10; total time=   0.1s\n",
      "[CV] END max_depth=40, max_features=auto, min_samples_leaf=8, min_samples_split=5, n_estimators=50; total time=   0.5s\n",
      "[CV] END max_depth=60, max_features=auto, min_samples_leaf=12, min_samples_split=5, n_estimators=200; total time=   1.7s\n",
      "[CV] END max_depth=30, max_features=sqrt, min_samples_leaf=4, min_samples_split=10, n_estimators=100; total time=   0.3s\n",
      "[CV] END max_depth=20, max_features=sqrt, min_samples_leaf=12, min_samples_split=10, n_estimators=50; total time=   0.1s\n",
      "[CV] END max_depth=10, max_features=sqrt, min_samples_leaf=12, min_samples_split=10, n_estimators=10; total time=   0.0s\n",
      "[CV] END max_depth=50, max_features=auto, min_samples_leaf=12, min_samples_split=5, n_estimators=10; total time=   0.1s\n",
      "[CV] END max_depth=10, max_features=auto, min_samples_leaf=8, min_samples_split=10, n_estimators=10; total time=   0.1s\n",
      "[CV] END max_depth=60, max_features=sqrt, min_samples_leaf=8, min_samples_split=2, n_estimators=100; total time=   0.2s\n",
      "[CV] END max_depth=40, max_features=auto, min_samples_leaf=4, min_samples_split=10, n_estimators=100; total time=   1.1s\n",
      "[CV] END max_depth=60, max_features=sqrt, min_samples_leaf=12, min_samples_split=10, n_estimators=50; total time=   0.1s\n",
      "[CV] END max_depth=60, max_features=sqrt, min_samples_leaf=12, min_samples_split=10, n_estimators=50; total time=   0.1s\n",
      "[CV] END max_depth=60, max_features=sqrt, min_samples_leaf=12, min_samples_split=10, n_estimators=50; total time=   0.1s\n",
      "[CV] END max_depth=50, max_features=sqrt, min_samples_leaf=4, min_samples_split=5, n_estimators=200; total time=   0.6s\n",
      "[CV] END max_depth=60, max_features=sqrt, min_samples_leaf=4, min_samples_split=2, n_estimators=50; total time=   0.2s\n",
      "[CV] END max_depth=40, max_features=auto, min_samples_leaf=12, min_samples_split=10, n_estimators=200; total time=   1.8s\n",
      "[CV] END max_depth=60, max_features=auto, min_samples_leaf=4, min_samples_split=5, n_estimators=50; total time=   0.6s\n",
      "[CV] END max_depth=50, max_features=auto, min_samples_leaf=4, min_samples_split=10, n_estimators=50; total time=   0.6s\n",
      "[CV] END max_depth=40, max_features=sqrt, min_samples_leaf=4, min_samples_split=10, n_estimators=50; total time=   0.1s\n",
      "[CV] END max_depth=40, max_features=sqrt, min_samples_leaf=4, min_samples_split=10, n_estimators=50; total time=   0.2s\n",
      "[CV] END max_depth=50, max_features=auto, min_samples_leaf=4, min_samples_split=10, n_estimators=200; total time=   2.3s\n",
      "[CV] END max_depth=40, max_features=auto, min_samples_leaf=12, min_samples_split=2, n_estimators=100; total time=   0.9s\n",
      "[CV] END max_depth=40, max_features=auto, min_samples_leaf=8, min_samples_split=10, n_estimators=100; total time=   1.1s\n",
      "[CV] END max_depth=50, max_features=sqrt, min_samples_leaf=8, min_samples_split=5, n_estimators=200; total time=   0.5s\n",
      "[CV] END max_depth=50, max_features=auto, min_samples_leaf=8, min_samples_split=10, n_estimators=200; total time=   2.1s\n",
      "[CV] END max_depth=60, max_features=sqrt, min_samples_leaf=12, min_samples_split=10, n_estimators=100; total time=   0.2s\n",
      "[CV] END max_depth=40, max_features=auto, min_samples_leaf=12, min_samples_split=2, n_estimators=50; total time=   0.5s\n",
      "[CV] END max_depth=50, max_features=sqrt, min_samples_leaf=4, min_samples_split=10, n_estimators=200; total time=   0.6s\n",
      "[CV] END max_depth=50, max_features=auto, min_samples_leaf=4, min_samples_split=5, n_estimators=200; total time=   2.5s\n",
      "[CV] END max_depth=60, max_features=sqrt, min_samples_leaf=12, min_samples_split=5, n_estimators=50; total time=   0.1s\n",
      "[CV] END max_depth=50, max_features=sqrt, min_samples_leaf=8, min_samples_split=2, n_estimators=50; total time=   0.1s\n",
      "[CV] END max_depth=50, max_features=sqrt, min_samples_leaf=8, min_samples_split=2, n_estimators=50; total time=   0.1s\n",
      "[CV] END max_depth=60, max_features=auto, min_samples_leaf=12, min_samples_split=5, n_estimators=50; total time=   0.5s\n",
      "[CV] END max_depth=40, max_features=sqrt, min_samples_leaf=12, min_samples_split=5, n_estimators=200; total time=   0.5s\n",
      "[CV] END max_depth=60, max_features=sqrt, min_samples_leaf=8, min_samples_split=5, n_estimators=100; total time=   0.3s\n",
      "[CV] END max_depth=60, max_features=auto, min_samples_leaf=4, min_samples_split=2, n_estimators=50; total time=   0.6s\n",
      "[CV] END max_depth=40, max_features=sqrt, min_samples_leaf=12, min_samples_split=5, n_estimators=100; total time=   0.3s\n",
      "[CV] END max_depth=40, max_features=sqrt, min_samples_leaf=12, min_samples_split=5, n_estimators=100; total time=   0.3s\n",
      "[CV] END max_depth=60, max_features=auto, min_samples_leaf=8, min_samples_split=2, n_estimators=200; total time=   1.9s\n",
      "[CV] END max_depth=40, max_features=auto, min_samples_leaf=8, min_samples_split=10, n_estimators=50; total time=   0.5s\n",
      "[CV] END max_depth=50, max_features=auto, min_samples_leaf=12, min_samples_split=10, n_estimators=50; total time=   0.4s\n",
      "[CV] END max_depth=40, max_features=auto, min_samples_leaf=4, min_samples_split=5, n_estimators=50; total time=   0.6s\n",
      "[CV] END max_depth=40, max_features=auto, min_samples_leaf=4, min_samples_split=10, n_estimators=50; total time=   0.6s\n",
      "[CV] END max_depth=50, max_features=sqrt, min_samples_leaf=4, min_samples_split=5, n_estimators=50; total time=   0.1s\n",
      "[CV] END max_depth=40, max_features=auto, min_samples_leaf=8, min_samples_split=5, n_estimators=50; total time=   0.5s\n",
      "[CV] END max_depth=60, max_features=auto, min_samples_leaf=8, min_samples_split=10, n_estimators=200; total time=   1.4s\n",
      "[CV] END max_depth=60, max_features=auto, min_samples_leaf=12, min_samples_split=5, n_estimators=200; total time=   1.6s\n",
      "[CV] END max_depth=60, max_features=sqrt, min_samples_leaf=12, min_samples_split=10, n_estimators=50; total time=   0.1s\n",
      "[CV] END max_depth=50, max_features=sqrt, min_samples_leaf=4, min_samples_split=5, n_estimators=200; total time=   0.6s\n",
      "[CV] END max_depth=50, max_features=sqrt, min_samples_leaf=8, min_samples_split=5, n_estimators=50; total time=   0.1s\n",
      "[CV] END max_depth=40, max_features=auto, min_samples_leaf=12, min_samples_split=10, n_estimators=200; total time=   1.8s\n",
      "[CV] END max_depth=60, max_features=auto, min_samples_leaf=4, min_samples_split=5, n_estimators=50; total time=   0.6s\n",
      "[CV] END max_depth=50, max_features=auto, min_samples_leaf=4, min_samples_split=10, n_estimators=50; total time=   0.6s\n",
      "[CV] END max_depth=40, max_features=sqrt, min_samples_leaf=4, min_samples_split=10, n_estimators=50; total time=   0.1s\n",
      "[CV] END max_depth=40, max_features=sqrt, min_samples_leaf=4, min_samples_split=10, n_estimators=50; total time=   0.1s\n",
      "[CV] END max_depth=60, max_features=sqrt, min_samples_leaf=8, min_samples_split=5, n_estimators=200; total time=   0.5s\n",
      "[CV] END max_depth=50, max_features=sqrt, min_samples_leaf=12, min_samples_split=2, n_estimators=100; total time=   0.2s\n",
      "[CV] END max_depth=50, max_features=sqrt, min_samples_leaf=12, min_samples_split=2, n_estimators=100; total time=   0.2s\n",
      "[CV] END max_depth=50, max_features=sqrt, min_samples_leaf=12, min_samples_split=2, n_estimators=100; total time=   0.2s\n",
      "[CV] END max_depth=60, max_features=auto, min_samples_leaf=8, min_samples_split=10, n_estimators=50; total time=   0.5s\n",
      "[CV] END max_depth=40, max_features=auto, min_samples_leaf=12, min_samples_split=10, n_estimators=50; total time=   0.4s\n",
      "[CV] END max_depth=60, max_features=sqrt, min_samples_leaf=8, min_samples_split=2, n_estimators=200; total time=   0.5s\n",
      "[CV] END max_depth=60, max_features=auto, min_samples_leaf=12, min_samples_split=10, n_estimators=100; total time=   0.9s\n",
      "[CV] END max_depth=50, max_features=auto, min_samples_leaf=4, min_samples_split=10, n_estimators=100; total time=   1.2s\n",
      "[CV] END max_depth=60, max_features=auto, min_samples_leaf=4, min_samples_split=5, n_estimators=200; total time=   2.3s\n",
      "[CV] END max_depth=50, max_features=sqrt, min_samples_leaf=8, min_samples_split=2, n_estimators=200; total time=   0.5s\n",
      "[CV] END max_depth=40, max_features=auto, min_samples_leaf=4, min_samples_split=2, n_estimators=200; total time=   2.4s\n",
      "[CV] END max_depth=50, max_features=auto, min_samples_leaf=12, min_samples_split=2, n_estimators=100; total time=   0.9s\n"
     ]
    },
    {
     "name": "stdout",
     "output_type": "stream",
     "text": [
      "[CV] END max_depth=10, max_features=sqrt, min_samples_leaf=8, min_samples_split=5, n_estimators=100; total time=   0.3s\n",
      "[CV] END max_depth=30, max_features=sqrt, min_samples_leaf=8, min_samples_split=5, n_estimators=200; total time=   0.5s\n",
      "[CV] END max_depth=30, max_features=sqrt, min_samples_leaf=8, min_samples_split=5, n_estimators=200; total time=   0.5s\n",
      "[CV] END max_depth=30, max_features=auto, min_samples_leaf=4, min_samples_split=10, n_estimators=50; total time=   0.6s\n",
      "[CV] END max_depth=20, max_features=auto, min_samples_leaf=12, min_samples_split=10, n_estimators=200; total time=   1.7s\n",
      "[CV] END max_depth=30, max_features=sqrt, min_samples_leaf=8, min_samples_split=2, n_estimators=100; total time=   0.3s\n",
      "[CV] END max_depth=20, max_features=auto, min_samples_leaf=12, min_samples_split=5, n_estimators=10; total time=   0.1s\n",
      "[CV] END max_depth=30, max_features=sqrt, min_samples_leaf=4, min_samples_split=10, n_estimators=10; total time=   0.0s\n",
      "[CV] END max_depth=30, max_features=sqrt, min_samples_leaf=12, min_samples_split=2, n_estimators=50; total time=   0.1s\n",
      "[CV] END max_depth=60, max_features=auto, min_samples_leaf=12, min_samples_split=10, n_estimators=100; total time=   0.9s\n",
      "[CV] END max_depth=10, max_features=auto, min_samples_leaf=4, min_samples_split=2, n_estimators=50; total time=   0.6s\n",
      "[CV] END max_depth=30, max_features=auto, min_samples_leaf=8, min_samples_split=5, n_estimators=10; total time=   0.1s\n",
      "[CV] END max_depth=50, max_features=auto, min_samples_leaf=12, min_samples_split=2, n_estimators=10; total time=   0.1s\n",
      "[CV] END max_depth=10, max_features=auto, min_samples_leaf=8, min_samples_split=2, n_estimators=10; total time=   0.1s\n",
      "[CV] END max_depth=60, max_features=sqrt, min_samples_leaf=12, min_samples_split=5, n_estimators=200; total time=   0.5s\n",
      "[CV] END max_depth=40, max_features=auto, min_samples_leaf=4, min_samples_split=5, n_estimators=10; total time=   0.1s\n",
      "[CV] END max_depth=40, max_features=auto, min_samples_leaf=4, min_samples_split=5, n_estimators=10; total time=   0.1s\n",
      "[CV] END max_depth=60, max_features=auto, min_samples_leaf=4, min_samples_split=2, n_estimators=200; total time=   2.3s\n",
      "[CV] END max_depth=60, max_features=auto, min_samples_leaf=4, min_samples_split=5, n_estimators=50; total time=   0.6s\n",
      "[CV] END max_depth=10, max_features=sqrt, min_samples_leaf=12, min_samples_split=2, n_estimators=10; total time=   0.0s\n",
      "[CV] END max_depth=10, max_features=sqrt, min_samples_leaf=12, min_samples_split=2, n_estimators=10; total time=   0.0s\n",
      "[CV] END max_depth=60, max_features=auto, min_samples_leaf=4, min_samples_split=5, n_estimators=100; total time=   1.2s\n",
      "[CV] END max_depth=10, max_features=auto, min_samples_leaf=4, min_samples_split=5, n_estimators=100; total time=   1.1s\n",
      "[CV] END max_depth=60, max_features=sqrt, min_samples_leaf=8, min_samples_split=5, n_estimators=200; total time=   0.5s\n",
      "[CV] END max_depth=10, max_features=sqrt, min_samples_leaf=12, min_samples_split=5, n_estimators=50; total time=   0.1s\n",
      "[CV] END max_depth=50, max_features=sqrt, min_samples_leaf=8, min_samples_split=5, n_estimators=200; total time=   0.5s\n",
      "[CV] END max_depth=60, max_features=auto, min_samples_leaf=12, min_samples_split=10, n_estimators=10; total time=   0.1s\n",
      "[CV] END max_depth=20, max_features=auto, min_samples_leaf=4, min_samples_split=5, n_estimators=10; total time=   0.1s\n",
      "[CV] END max_depth=30, max_features=auto, min_samples_leaf=12, min_samples_split=10, n_estimators=200; total time=   1.9s\n",
      "[CV] END max_depth=10, max_features=auto, min_samples_leaf=4, min_samples_split=5, n_estimators=10; total time=   0.1s\n",
      "[CV] END max_depth=50, max_features=sqrt, min_samples_leaf=8, min_samples_split=2, n_estimators=10; total time=   0.0s\n",
      "[CV] END max_depth=50, max_features=sqrt, min_samples_leaf=8, min_samples_split=2, n_estimators=10; total time=   0.0s\n",
      "[CV] END max_depth=50, max_features=sqrt, min_samples_leaf=8, min_samples_split=2, n_estimators=10; total time=   0.0s\n",
      "[CV] END max_depth=50, max_features=sqrt, min_samples_leaf=8, min_samples_split=2, n_estimators=10; total time=   0.0s\n",
      "[CV] END max_depth=50, max_features=sqrt, min_samples_leaf=8, min_samples_split=2, n_estimators=10; total time=   0.0s\n",
      "[CV] END max_depth=60, max_features=auto, min_samples_leaf=12, min_samples_split=5, n_estimators=200; total time=   1.9s\n",
      "[CV] END max_depth=20, max_features=sqrt, min_samples_leaf=4, min_samples_split=5, n_estimators=50; total time=   0.2s\n",
      "[CV] END max_depth=30, max_features=sqrt, min_samples_leaf=4, min_samples_split=10, n_estimators=100; total time=   0.3s\n",
      "[CV] END max_depth=10, max_features=auto, min_samples_leaf=4, min_samples_split=5, n_estimators=200; total time=   1.7s\n",
      "[CV] END max_depth=10, max_features=sqrt, min_samples_leaf=8, min_samples_split=5, n_estimators=100; total time=   0.3s\n",
      "[CV] END max_depth=10, max_features=auto, min_samples_leaf=4, min_samples_split=10, n_estimators=100; total time=   1.0s\n",
      "[CV] END max_depth=20, max_features=auto, min_samples_leaf=12, min_samples_split=10, n_estimators=200; total time=   1.7s\n",
      "[CV] END max_depth=30, max_features=sqrt, min_samples_leaf=8, min_samples_split=2, n_estimators=100; total time=   0.3s\n",
      "[CV] END max_depth=20, max_features=auto, min_samples_leaf=12, min_samples_split=5, n_estimators=10; total time=   0.1s\n",
      "[CV] END max_depth=30, max_features=sqrt, min_samples_leaf=12, min_samples_split=2, n_estimators=50; total time=   0.1s\n",
      "[CV] END max_depth=60, max_features=auto, min_samples_leaf=12, min_samples_split=10, n_estimators=100; total time=   0.9s\n",
      "[CV] END max_depth=10, max_features=sqrt, min_samples_leaf=4, min_samples_split=2, n_estimators=50; total time=   0.1s\n",
      "[CV] END max_depth=10, max_features=sqrt, min_samples_leaf=4, min_samples_split=2, n_estimators=50; total time=   0.1s\n",
      "[CV] END max_depth=50, max_features=sqrt, min_samples_leaf=4, min_samples_split=2, n_estimators=100; total time=   0.3s\n",
      "[CV] END max_depth=30, max_features=auto, min_samples_leaf=8, min_samples_split=5, n_estimators=10; total time=   0.1s\n",
      "[CV] END max_depth=50, max_features=auto, min_samples_leaf=12, min_samples_split=2, n_estimators=10; total time=   0.1s\n",
      "[CV] END max_depth=30, max_features=sqrt, min_samples_leaf=8, min_samples_split=5, n_estimators=10; total time=   0.0s\n",
      "[CV] END max_depth=30, max_features=sqrt, min_samples_leaf=8, min_samples_split=5, n_estimators=10; total time=   0.0s\n",
      "[CV] END max_depth=30, max_features=auto, min_samples_leaf=12, min_samples_split=5, n_estimators=200; total time=   1.6s\n",
      "[CV] END max_depth=30, max_features=auto, min_samples_leaf=8, min_samples_split=2, n_estimators=100; total time=   0.9s\n",
      "[CV] END max_depth=20, max_features=auto, min_samples_leaf=4, min_samples_split=5, n_estimators=100; total time=   1.1s\n",
      "[CV] END max_depth=40, max_features=sqrt, min_samples_leaf=8, min_samples_split=10, n_estimators=100; total time=   0.2s\n",
      "[CV] END max_depth=40, max_features=sqrt, min_samples_leaf=12, min_samples_split=2, n_estimators=100; total time=   0.2s\n",
      "[CV] END max_depth=60, max_features=auto, min_samples_leaf=8, min_samples_split=2, n_estimators=100; total time=   0.9s\n",
      "[CV] END max_depth=40, max_features=sqrt, min_samples_leaf=4, min_samples_split=5, n_estimators=200; total time=   0.5s\n",
      "[CV] END max_depth=50, max_features=sqrt, min_samples_leaf=4, min_samples_split=5, n_estimators=100; total time=   0.3s\n",
      "[CV] END max_depth=10, max_features=sqrt, min_samples_leaf=8, min_samples_split=10, n_estimators=200; total time=   0.5s\n",
      "[CV] END max_depth=30, max_features=sqrt, min_samples_leaf=8, min_samples_split=5, n_estimators=100; total time=   0.2s\n",
      "[CV] END max_depth=40, max_features=auto, min_samples_leaf=4, min_samples_split=10, n_estimators=50; total time=   0.5s\n",
      "[CV] END max_depth=30, max_features=auto, min_samples_leaf=4, min_samples_split=2, n_estimators=10; total time=   0.1s\n",
      "[CV] END max_depth=40, max_features=auto, min_samples_leaf=4, min_samples_split=5, n_estimators=50; total time=   0.6s\n",
      "[CV] END max_depth=10, max_features=auto, min_samples_leaf=12, min_samples_split=2, n_estimators=100; total time=   0.8s\n",
      "[CV] END max_depth=50, max_features=auto, min_samples_leaf=12, min_samples_split=2, n_estimators=200; total time=   1.7s\n",
      "[CV] END max_depth=10, max_features=auto, min_samples_leaf=4, min_samples_split=5, n_estimators=50; total time=   0.5s\n",
      "[CV] END max_depth=20, max_features=sqrt, min_samples_leaf=12, min_samples_split=2, n_estimators=100; total time=   0.2s\n",
      "[CV] END max_depth=20, max_features=sqrt, min_samples_leaf=12, min_samples_split=10, n_estimators=50; total time=   0.1s\n",
      "[CV] END max_depth=10, max_features=auto, min_samples_leaf=8, min_samples_split=10, n_estimators=100; total time=   0.8s\n",
      "[CV] END max_depth=60, max_features=sqrt, min_samples_leaf=8, min_samples_split=2, n_estimators=100; total time=   0.2s\n",
      "[CV] END max_depth=40, max_features=auto, min_samples_leaf=4, min_samples_split=10, n_estimators=100; total time=   1.1s\n",
      "[CV] END max_depth=60, max_features=auto, min_samples_leaf=8, min_samples_split=10, n_estimators=100; total time=   1.0s\n",
      "[CV] END max_depth=60, max_features=sqrt, min_samples_leaf=4, min_samples_split=2, n_estimators=50; total time=   0.2s\n",
      "[CV] END max_depth=50, max_features=sqrt, min_samples_leaf=8, min_samples_split=5, n_estimators=50; total time=   0.1s\n",
      "[CV] END max_depth=60, max_features=sqrt, min_samples_leaf=8, min_samples_split=5, n_estimators=50; total time=   0.1s\n",
      "[CV] END max_depth=60, max_features=auto, min_samples_leaf=8, min_samples_split=2, n_estimators=100; total time=   1.0s\n",
      "[CV] END max_depth=50, max_features=auto, min_samples_leaf=8, min_samples_split=2, n_estimators=50; total time=   0.5s\n",
      "[CV] END max_depth=60, max_features=auto, min_samples_leaf=12, min_samples_split=5, n_estimators=100; total time=   0.9s\n",
      "[CV] END max_depth=40, max_features=auto, min_samples_leaf=4, min_samples_split=10, n_estimators=200; total time=   2.3s\n",
      "[CV] END max_depth=40, max_features=auto, min_samples_leaf=12, min_samples_split=10, n_estimators=50; total time=   0.5s\n",
      "[CV] END max_depth=60, max_features=sqrt, min_samples_leaf=8, min_samples_split=2, n_estimators=200; total time=   0.5s\n",
      "[CV] END max_depth=60, max_features=auto, min_samples_leaf=4, min_samples_split=5, n_estimators=100; total time=   1.2s\n",
      "[CV] END max_depth=50, max_features=sqrt, min_samples_leaf=12, min_samples_split=10, n_estimators=100; total time=   0.3s\n",
      "[CV] END max_depth=40, max_features=sqrt, min_samples_leaf=8, min_samples_split=5, n_estimators=100; total time=   0.3s\n",
      "[CV] END max_depth=50, max_features=sqrt, min_samples_leaf=8, min_samples_split=5, n_estimators=200; total time=   0.6s\n",
      "[CV] END max_depth=60, max_features=sqrt, min_samples_leaf=8, min_samples_split=2, n_estimators=50; total time=   0.1s\n",
      "[CV] END max_depth=60, max_features=sqrt, min_samples_leaf=8, min_samples_split=2, n_estimators=50; total time=   0.1s\n",
      "[CV] END max_depth=50, max_features=sqrt, min_samples_leaf=12, min_samples_split=2, n_estimators=200; total time=   0.5s\n",
      "[CV] END max_depth=60, max_features=auto, min_samples_leaf=8, min_samples_split=5, n_estimators=50; total time=   0.5s\n",
      "[CV] END max_depth=50, max_features=sqrt, min_samples_leaf=4, min_samples_split=5, n_estimators=100; total time=   0.3s\n",
      "[CV] END max_depth=60, max_features=sqrt, min_samples_leaf=12, min_samples_split=10, n_estimators=100; total time=   0.2s\n",
      "[CV] END max_depth=60, max_features=sqrt, min_samples_leaf=12, min_samples_split=10, n_estimators=100; total time=   0.2s\n",
      "[CV] END max_depth=50, max_features=sqrt, min_samples_leaf=8, min_samples_split=2, n_estimators=200; total time=   0.6s\n",
      "[CV] END max_depth=60, max_features=sqrt, min_samples_leaf=12, min_samples_split=2, n_estimators=50; total time=   0.1s\n",
      "[CV] END max_depth=60, max_features=auto, min_samples_leaf=4, min_samples_split=2, n_estimators=100; total time=   1.2s\n",
      "[CV] END max_depth=50, max_features=sqrt, min_samples_leaf=4, min_samples_split=2, n_estimators=200; total time=   0.6s\n",
      "[CV] END max_depth=60, max_features=sqrt, min_samples_leaf=4, min_samples_split=10, n_estimators=200; total time=   0.6s\n",
      "[CV] END max_depth=40, max_features=auto, min_samples_leaf=8, min_samples_split=2, n_estimators=100; total time=   1.1s\n",
      "[CV] END max_depth=60, max_features=auto, min_samples_leaf=12, min_samples_split=5, n_estimators=50; total time=   0.5s\n",
      "[CV] END max_depth=50, max_features=sqrt, min_samples_leaf=12, min_samples_split=10, n_estimators=200; total time=   0.5s\n",
      "[CV] END max_depth=60, max_features=auto, min_samples_leaf=4, min_samples_split=2, n_estimators=50; total time=   0.6s\n",
      "[CV] END max_depth=60, max_features=auto, min_samples_leaf=4, min_samples_split=2, n_estimators=200; total time=   2.4s\n",
      "[CV] END max_depth=40, max_features=auto, min_samples_leaf=8, min_samples_split=10, n_estimators=50; total time=   0.5s\n",
      "[CV] END max_depth=50, max_features=auto, min_samples_leaf=12, min_samples_split=10, n_estimators=50; total time=   0.4s\n",
      "[CV] END max_depth=40, max_features=auto, min_samples_leaf=4, min_samples_split=5, n_estimators=50; total time=   0.6s\n",
      "[CV] END max_depth=60, max_features=sqrt, min_samples_leaf=12, min_samples_split=10, n_estimators=200; total time=   0.5s\n",
      "[CV] END max_depth=50, max_features=sqrt, min_samples_leaf=4, min_samples_split=5, n_estimators=50; total time=   0.1s\n",
      "[CV] END max_depth=50, max_features=sqrt, min_samples_leaf=4, min_samples_split=5, n_estimators=50; total time=   0.1s\n",
      "[CV] END max_depth=50, max_features=sqrt, min_samples_leaf=4, min_samples_split=5, n_estimators=50; total time=   0.1s\n",
      "[CV] END max_depth=40, max_features=auto, min_samples_leaf=8, min_samples_split=5, n_estimators=50; total time=   0.5s\n",
      "[CV] END max_depth=50, max_features=auto, min_samples_leaf=8, min_samples_split=5, n_estimators=50; total time=   0.4s\n",
      "[CV] END max_depth=40, max_features=sqrt, min_samples_leaf=8, min_samples_split=10, n_estimators=200; total time=   0.5s\n",
      "[CV] END max_depth=50, max_features=auto, min_samples_leaf=12, min_samples_split=2, n_estimators=200; total time=   1.7s\n",
      "[CV] END max_depth=60, max_features=sqrt, min_samples_leaf=8, min_samples_split=5, n_estimators=50; total time=   0.1s\n",
      "[CV] END max_depth=60, max_features=auto, min_samples_leaf=8, min_samples_split=2, n_estimators=100; total time=   1.0s\n",
      "[CV] END max_depth=40, max_features=sqrt, min_samples_leaf=12, min_samples_split=10, n_estimators=50; total time=   0.1s\n",
      "[CV] END max_depth=50, max_features=sqrt, min_samples_leaf=8, min_samples_split=10, n_estimators=200; total time=   0.5s\n",
      "[CV] END max_depth=40, max_features=sqrt, min_samples_leaf=12, min_samples_split=2, n_estimators=50; total time=   0.1s\n",
      "[CV] END max_depth=50, max_features=auto, min_samples_leaf=4, min_samples_split=2, n_estimators=200; total time=   2.4s\n",
      "[CV] END max_depth=60, max_features=auto, min_samples_leaf=8, min_samples_split=10, n_estimators=50; total time=   0.5s\n",
      "[CV] END max_depth=40, max_features=auto, min_samples_leaf=12, min_samples_split=10, n_estimators=50; total time=   0.4s\n",
      "[CV] END max_depth=60, max_features=sqrt, min_samples_leaf=8, min_samples_split=2, n_estimators=200; total time=   0.5s\n",
      "[CV] END max_depth=40, max_features=auto, min_samples_leaf=12, min_samples_split=2, n_estimators=100; total time=   0.9s\n",
      "[CV] END max_depth=50, max_features=auto, min_samples_leaf=4, min_samples_split=10, n_estimators=100; total time=   1.1s\n",
      "[CV] END max_depth=50, max_features=auto, min_samples_leaf=8, min_samples_split=10, n_estimators=200; total time=   2.0s\n",
      "[CV] END max_depth=60, max_features=sqrt, min_samples_leaf=12, min_samples_split=10, n_estimators=100; total time=   0.2s\n",
      "[CV] END max_depth=50, max_features=sqrt, min_samples_leaf=8, min_samples_split=2, n_estimators=200; total time=   0.5s\n",
      "[CV] END max_depth=60, max_features=sqrt, min_samples_leaf=12, min_samples_split=2, n_estimators=50; total time=   0.1s\n",
      "[CV] END max_depth=60, max_features=auto, min_samples_leaf=4, min_samples_split=2, n_estimators=100; total time=   1.2s\n",
      "[CV] END max_depth=50, max_features=sqrt, min_samples_leaf=4, min_samples_split=2, n_estimators=200; total time=   0.6s\n",
      "[CV] END max_depth=60, max_features=sqrt, min_samples_leaf=4, min_samples_split=10, n_estimators=200; total time=   0.6s\n",
      "[CV] END max_depth=40, max_features=auto, min_samples_leaf=8, min_samples_split=2, n_estimators=100; total time=   1.0s\n",
      "[CV] END max_depth=60, max_features=auto, min_samples_leaf=12, min_samples_split=5, n_estimators=50; total time=   0.4s\n"
     ]
    },
    {
     "data": {
      "application/javascript": [
       "\n",
       "            setTimeout(function() {\n",
       "                var nbb_cell_id = 57;\n",
       "                var nbb_unformatted_code = \"# Defining the parameter values to test\\nmin_samples_split_values = [2, 5, 10]\\n\\n# Initializing an empty list to store the mean cross-validated performance\\nmean_scores = []\\n\\n# Looping over each value of min_samples_split and compute the mean cross-validated performance\\nfor min_samples_split in min_samples_split_values:\\n    rf = RandomForestRegressor(random_state=0, min_samples_split=min_samples_split)\\n    randomized_search = RandomizedSearchCV(\\n        estimator=rf,\\n        param_distributions=param_grid,\\n        n_iter=100,\\n        cv=5,\\n        n_jobs=-1,\\n        verbose=2,\\n        scoring=\\\"neg_mean_squared_error\\\",\\n        random_state=0,\\n    )\\n    randomized_search.fit(X_train, y_train)\\n    mean_score = np.mean(randomized_search.cv_results_['mean_test_score'])\\n    mean_scores.append(mean_score)\";\n",
       "                var nbb_formatted_code = \"# Defining the parameter values to test\\nmin_samples_split_values = [2, 5, 10]\\n\\n# Initializing an empty list to store the mean cross-validated performance\\nmean_scores = []\\n\\n# Looping over each value of min_samples_split and compute the mean cross-validated performance\\nfor min_samples_split in min_samples_split_values:\\n    rf = RandomForestRegressor(random_state=0, min_samples_split=min_samples_split)\\n    randomized_search = RandomizedSearchCV(\\n        estimator=rf,\\n        param_distributions=param_grid,\\n        n_iter=100,\\n        cv=5,\\n        n_jobs=-1,\\n        verbose=2,\\n        scoring=\\\"neg_mean_squared_error\\\",\\n        random_state=0,\\n    )\\n    randomized_search.fit(X_train, y_train)\\n    mean_score = np.mean(randomized_search.cv_results_[\\\"mean_test_score\\\"])\\n    mean_scores.append(mean_score)\";\n",
       "                var nbb_cells = Jupyter.notebook.get_cells();\n",
       "                for (var i = 0; i < nbb_cells.length; ++i) {\n",
       "                    if (nbb_cells[i].input_prompt_number == nbb_cell_id) {\n",
       "                        if (nbb_cells[i].get_text() == nbb_unformatted_code) {\n",
       "                             nbb_cells[i].set_text(nbb_formatted_code);\n",
       "                        }\n",
       "                        break;\n",
       "                    }\n",
       "                }\n",
       "            }, 500);\n",
       "            "
      ],
      "text/plain": [
       "<IPython.core.display.Javascript object>"
      ]
     },
     "metadata": {},
     "output_type": "display_data"
    }
   ],
   "source": [
    "# Defining the parameter values to test\n",
    "min_samples_split_values = [2, 5, 10]\n",
    "\n",
    "# Initializing an empty list to store the mean cross-validated performance\n",
    "mean_scores = []\n",
    "\n",
    "# Looping over each value of min_samples_split and compute the mean cross-validated performance\n",
    "for min_samples_split in min_samples_split_values:\n",
    "    rf = RandomForestRegressor(random_state=0, min_samples_split=min_samples_split)\n",
    "    randomized_search = RandomizedSearchCV(\n",
    "        estimator=rf,\n",
    "        param_distributions=param_grid,\n",
    "        n_iter=100,\n",
    "        cv=5,\n",
    "        n_jobs=-1,\n",
    "        verbose=2,\n",
    "        scoring=\"neg_mean_squared_error\",\n",
    "        random_state=0,\n",
    "    )\n",
    "    randomized_search.fit(X_train, y_train)\n",
    "    mean_score = np.mean(randomized_search.cv_results_['mean_test_score'])\n",
    "    mean_scores.append(mean_score)\n",
    "\n",
    "\n"
   ]
  },
  {
   "cell_type": "code",
   "execution_count": 58,
   "id": "8689bae8",
   "metadata": {},
   "outputs": [
    {
     "data": {
      "image/png": "[encoded data removed]",
      "text/plain": [
       "<Figure size 432x288 with 1 Axes>"
      ]
     },
     "metadata": {
      "needs_background": "light"
     },
     "output_type": "display_data"
    },
    {
     "data": {
      "application/javascript": [
       "\n",
       "            setTimeout(function() {\n",
       "                var nbb_cell_id = 58;\n",
       "                var nbb_unformatted_code = \"# Plotting the results\\nplt.plot(min_samples_split_values, mean_scores)\\nplt.xlabel(\\\"min_samples_split\\\")\\nplt.ylabel(\\\"Mean Cross-Validated Performance\\\")\\nplt.title(\\\"Effect of min_samples_split on Model Performance\\\")\\nplt.show()\";\n",
       "                var nbb_formatted_code = \"# Plotting the results\\nplt.plot(min_samples_split_values, mean_scores)\\nplt.xlabel(\\\"min_samples_split\\\")\\nplt.ylabel(\\\"Mean Cross-Validated Performance\\\")\\nplt.title(\\\"Effect of min_samples_split on Model Performance\\\")\\nplt.show()\";\n",
       "                var nbb_cells = Jupyter.notebook.get_cells();\n",
       "                for (var i = 0; i < nbb_cells.length; ++i) {\n",
       "                    if (nbb_cells[i].input_prompt_number == nbb_cell_id) {\n",
       "                        if (nbb_cells[i].get_text() == nbb_unformatted_code) {\n",
       "                             nbb_cells[i].set_text(nbb_formatted_code);\n",
       "                        }\n",
       "                        break;\n",
       "                    }\n",
       "                }\n",
       "            }, 500);\n",
       "            "
      ],
      "text/plain": [
       "<IPython.core.display.Javascript object>"
      ]
     },
     "metadata": {},
     "output_type": "display_data"
    }
   ],
   "source": [
    "# Plotting the results\n",
    "plt.plot(min_samples_split_values, mean_scores)\n",
    "plt.xlabel(\"min_samples_split\")\n",
    "plt.ylabel(\"Mean Cross-Validated Performance\")\n",
    "plt.title(\"Effect of min_samples_split on Model Performance\")\n",
    "plt.show()"
   ]
  },
  {
   "cell_type": "code",
   "execution_count": 59,
   "id": "92ec7dcd",
   "metadata": {},
   "outputs": [
    {
     "name": "stderr",
     "output_type": "stream",
     "text": [
      "/var/folders/37/_6bzmbwj16q021_3f7fq4yv40000gp/T/ipykernel_5163/2398147226.py:8: SettingWithCopyWarning: \n",
      "A value is trying to be set on a copy of a slice from a DataFrame.\n",
      "Try using .loc[row_indexer,col_indexer] = value instead\n",
      "\n",
      "See the caveats in the documentation: https://pandas.pydata.org/pandas-docs/stable/user_guide/indexing.html#returning-a-view-versus-a-copy\n",
      "  min_samples_split_results[\"param_min_samples_split\"] = pd.to_numeric(\n"
     ]
    },
    {
     "data": {
      "image/png": "[encoded data removed]",
      "text/plain": [
       "<Figure size 432x288 with 1 Axes>"
      ]
     },
     "metadata": {
      "needs_background": "light"
     },
     "output_type": "display_data"
    },
    {
     "data": {
      "application/javascript": [
       "\n",
       "            setTimeout(function() {\n",
       "                var nbb_cell_id = 59;\n",
       "                var nbb_unformatted_code = \"# Extracting the results from the GridSearchCV object\\nresults = pd.DataFrame(best_rf_GS.cv_results_)\\n\\n# Filtering the results for the min_samples_split hyperparameter\\nmin_samples_split_results = results[[\\\"param_min_samples_split\\\", \\\"mean_test_score\\\"]]\\n\\n# Converting the min_samples_split hyperparameter values to numeric\\nmin_samples_split_results[\\\"param_min_samples_split\\\"] = pd.to_numeric(\\n    min_samples_split_results[\\\"param_min_samples_split\\\"]\\n)\\n\\n# Grouping the results by min_samples_split and calculate the mean test score\\nmin_samples_split_results = min_samples_split_results.groupby(\\n    \\\"param_min_samples_split\\\"\\n).mean()\\n\\n# Reseting the index\\nmin_samples_split_results = min_samples_split_results.reset_index()\\n\\n# Plotting the results as a line plot\\nsns.lineplot(\\n    x=\\\"param_min_samples_split\\\",\\n    y=\\\"mean_test_score\\\",\\n    data=min_samples_split_results,\\n)\\nplt.xlabel(\\\"min_samples_split\\\")\\nplt.ylabel(\\\"Mean Test Score\\\")\\nplt.title(\\\"Tuning of min_samples_split\\\")\\n\\nplt.savefig(\\\"../pic/min_samples_split_tuning.png\\\", dpi=900)\\nplt.show()\";\n",
       "                var nbb_formatted_code = \"# Extracting the results from the GridSearchCV object\\nresults = pd.DataFrame(best_rf_GS.cv_results_)\\n\\n# Filtering the results for the min_samples_split hyperparameter\\nmin_samples_split_results = results[[\\\"param_min_samples_split\\\", \\\"mean_test_score\\\"]]\\n\\n# Converting the min_samples_split hyperparameter values to numeric\\nmin_samples_split_results[\\\"param_min_samples_split\\\"] = pd.to_numeric(\\n    min_samples_split_results[\\\"param_min_samples_split\\\"]\\n)\\n\\n# Grouping the results by min_samples_split and calculate the mean test score\\nmin_samples_split_results = min_samples_split_results.groupby(\\n    \\\"param_min_samples_split\\\"\\n).mean()\\n\\n# Reseting the index\\nmin_samples_split_results = min_samples_split_results.reset_index()\\n\\n# Plotting the results as a line plot\\nsns.lineplot(\\n    x=\\\"param_min_samples_split\\\", y=\\\"mean_test_score\\\", data=min_samples_split_results,\\n)\\nplt.xlabel(\\\"min_samples_split\\\")\\nplt.ylabel(\\\"Mean Test Score\\\")\\nplt.title(\\\"Tuning of min_samples_split\\\")\\n\\nplt.savefig(\\\"../pic/min_samples_split_tuning.png\\\", dpi=900)\\nplt.show()\";\n",
       "                var nbb_cells = Jupyter.notebook.get_cells();\n",
       "                for (var i = 0; i < nbb_cells.length; ++i) {\n",
       "                    if (nbb_cells[i].input_prompt_number == nbb_cell_id) {\n",
       "                        if (nbb_cells[i].get_text() == nbb_unformatted_code) {\n",
       "                             nbb_cells[i].set_text(nbb_formatted_code);\n",
       "                        }\n",
       "                        break;\n",
       "                    }\n",
       "                }\n",
       "            }, 500);\n",
       "            "
      ],
      "text/plain": [
       "<IPython.core.display.Javascript object>"
      ]
     },
     "metadata": {},
     "output_type": "display_data"
    }
   ],
   "source": [
    "# Extracting the results from the GridSearchCV object\n",
    "results = pd.DataFrame(best_rf_GS.cv_results_)\n",
    "\n",
    "# Filtering the results for the min_samples_split hyperparameter\n",
    "min_samples_split_results = results[[\"param_min_samples_split\", \"mean_test_score\"]]\n",
    "\n",
    "# Converting the min_samples_split hyperparameter values to numeric\n",
    "min_samples_split_results[\"param_min_samples_split\"] = pd.to_numeric(\n",
    "    min_samples_split_results[\"param_min_samples_split\"]\n",
    ")\n",
    "\n",
    "# Grouping the results by min_samples_split and calculate the mean test score\n",
    "min_samples_split_results = min_samples_split_results.groupby(\n",
    "    \"param_min_samples_split\"\n",
    ").mean()\n",
    "\n",
    "# Reseting the index\n",
    "min_samples_split_results = min_samples_split_results.reset_index()\n",
    "\n",
    "# Plotting the results as a line plot\n",
    "sns.lineplot(\n",
    "    x=\"param_min_samples_split\",\n",
    "    y=\"mean_test_score\",\n",
    "    data=min_samples_split_results,\n",
    ")\n",
    "plt.xlabel(\"min_samples_split\")\n",
    "plt.ylabel(\"Mean Test Score\")\n",
    "plt.title(\"Tuning of min_samples_split\")\n",
    "\n",
    "plt.savefig(\"../pic/min_samples_split_tuning.png\", dpi=900)\n",
    "plt.show()\n"
   ]
  },
  {
   "cell_type": "markdown",
   "id": "17e61d8e",
   "metadata": {},
   "source": [
    "#### min_samples_leaf"
   ]
  },
  {
   "cell_type": "code",
   "execution_count": 60,
   "id": "d01a0460",
   "metadata": {},
   "outputs": [
    {
     "name": "stderr",
     "output_type": "stream",
     "text": [
      "/var/folders/37/_6bzmbwj16q021_3f7fq4yv40000gp/T/ipykernel_5163/2624143712.py:8: SettingWithCopyWarning: \n",
      "A value is trying to be set on a copy of a slice from a DataFrame.\n",
      "Try using .loc[row_indexer,col_indexer] = value instead\n",
      "\n",
      "See the caveats in the documentation: https://pandas.pydata.org/pandas-docs/stable/user_guide/indexing.html#returning-a-view-versus-a-copy\n",
      "  min_samples_leaf_results[\"param_min_samples_leaf\"] = pd.to_numeric(\n"
     ]
    },
    {
     "data": {
      "image/png": "[encoded data removed]",
      "text/plain": [
       "<Figure size 432x288 with 1 Axes>"
      ]
     },
     "metadata": {
      "needs_background": "light"
     },
     "output_type": "display_data"
    },
    {
     "data": {
      "application/javascript": [
       "\n",
       "            setTimeout(function() {\n",
       "                var nbb_cell_id = 60;\n",
       "                var nbb_unformatted_code = \"# Extract the results from the GridSearchCV object\\nresults = pd.DataFrame(best_rf_GS.cv_results_)\\n\\n# Filter the results for the min_samples_leaf hyperparameter\\nmin_samples_leaf_results = results[[\\\"param_min_samples_leaf\\\", \\\"mean_test_score\\\"]]\\n\\n# Convert the min_samples_leaf hyperparameter values to numeric\\nmin_samples_leaf_results[\\\"param_min_samples_leaf\\\"] = pd.to_numeric(\\n    min_samples_leaf_results[\\\"param_min_samples_leaf\\\"]\\n)\\n\\n# Group the results by min_samples_leaf and calculate the mean test score\\nmin_samples_leaf_results = min_samples_leaf_results.groupby(\\n    \\\"param_min_samples_leaf\\\"\\n).mean()\\n\\n# Reset the index\\nmin_samples_leaf_results = min_samples_leaf_results.reset_index()\\n\\n# Use .loc to assign the mean test score to the DataFrame\\nmin_samples_leaf_results.loc[:, \\\"mean_test_score\\\"] = min_samples_leaf_results[\\\"mean_test_score\\\"]\\n\\n# Plot the results as a line plot\\nsns.lineplot(\\n    x=\\\"param_min_samples_leaf\\\",\\n    y=\\\"mean_test_score\\\",\\n    data=min_samples_leaf_results,\\n)\\nplt.xlabel(\\\"min_samples_leaf\\\")\\nplt.ylabel(\\\"Mean Test Score\\\")\\nplt.title(\\\"Tuning of min_samples_leaf\\\")\\n\\nplt.savefig(\\\"../pic/min_samples_leaf_tuning.png\\\", dpi=900)\\nplt.show()\";\n",
       "                var nbb_formatted_code = \"# Extract the results from the GridSearchCV object\\nresults = pd.DataFrame(best_rf_GS.cv_results_)\\n\\n# Filter the results for the min_samples_leaf hyperparameter\\nmin_samples_leaf_results = results[[\\\"param_min_samples_leaf\\\", \\\"mean_test_score\\\"]]\\n\\n# Convert the min_samples_leaf hyperparameter values to numeric\\nmin_samples_leaf_results[\\\"param_min_samples_leaf\\\"] = pd.to_numeric(\\n    min_samples_leaf_results[\\\"param_min_samples_leaf\\\"]\\n)\\n\\n# Group the results by min_samples_leaf and calculate the mean test score\\nmin_samples_leaf_results = min_samples_leaf_results.groupby(\\n    \\\"param_min_samples_leaf\\\"\\n).mean()\\n\\n# Reset the index\\nmin_samples_leaf_results = min_samples_leaf_results.reset_index()\\n\\n# Use .loc to assign the mean test score to the DataFrame\\nmin_samples_leaf_results.loc[:, \\\"mean_test_score\\\"] = min_samples_leaf_results[\\n    \\\"mean_test_score\\\"\\n]\\n\\n# Plot the results as a line plot\\nsns.lineplot(\\n    x=\\\"param_min_samples_leaf\\\", y=\\\"mean_test_score\\\", data=min_samples_leaf_results,\\n)\\nplt.xlabel(\\\"min_samples_leaf\\\")\\nplt.ylabel(\\\"Mean Test Score\\\")\\nplt.title(\\\"Tuning of min_samples_leaf\\\")\\n\\nplt.savefig(\\\"../pic/min_samples_leaf_tuning.png\\\", dpi=900)\\nplt.show()\";\n",
       "                var nbb_cells = Jupyter.notebook.get_cells();\n",
       "                for (var i = 0; i < nbb_cells.length; ++i) {\n",
       "                    if (nbb_cells[i].input_prompt_number == nbb_cell_id) {\n",
       "                        if (nbb_cells[i].get_text() == nbb_unformatted_code) {\n",
       "                             nbb_cells[i].set_text(nbb_formatted_code);\n",
       "                        }\n",
       "                        break;\n",
       "                    }\n",
       "                }\n",
       "            }, 500);\n",
       "            "
      ],
      "text/plain": [
       "<IPython.core.display.Javascript object>"
      ]
     },
     "metadata": {},
     "output_type": "display_data"
    }
   ],
   "source": [
    "# Extract the results from the GridSearchCV object\n",
    "results = pd.DataFrame(best_rf_GS.cv_results_)\n",
    "\n",
    "# Filter the results for the min_samples_leaf hyperparameter\n",
    "min_samples_leaf_results = results[[\"param_min_samples_leaf\", \"mean_test_score\"]]\n",
    "\n",
    "# Convert the min_samples_leaf hyperparameter values to numeric\n",
    "min_samples_leaf_results[\"param_min_samples_leaf\"] = pd.to_numeric(\n",
    "    min_samples_leaf_results[\"param_min_samples_leaf\"]\n",
    ")\n",
    "\n",
    "# Group the results by min_samples_leaf and calculate the mean test score\n",
    "min_samples_leaf_results = min_samples_leaf_results.groupby(\n",
    "    \"param_min_samples_leaf\"\n",
    ").mean()\n",
    "\n",
    "# Reset the index\n",
    "min_samples_leaf_results = min_samples_leaf_results.reset_index()\n",
    "\n",
    "# Use .loc to assign the mean test score to the DataFrame\n",
    "min_samples_leaf_results.loc[:, \"mean_test_score\"] = min_samples_leaf_results[\"mean_test_score\"]\n",
    "\n",
    "# Plot the results as a line plot\n",
    "sns.lineplot(\n",
    "    x=\"param_min_samples_leaf\",\n",
    "    y=\"mean_test_score\",\n",
    "    data=min_samples_leaf_results,\n",
    ")\n",
    "plt.xlabel(\"min_samples_leaf\")\n",
    "plt.ylabel(\"Mean Test Score\")\n",
    "plt.title(\"Tuning of min_samples_leaf\")\n",
    "\n",
    "plt.savefig(\"../pic/min_samples_leaf_tuning.png\", dpi=900)\n",
    "plt.show()\n"
   ]
  },
  {
   "cell_type": "markdown",
   "id": "651cd702",
   "metadata": {},
   "source": [
    "## Stacking several models in an attempt to reduce overfitting and increase score"
   ]
  },
  {
   "cell_type": "code",
   "execution_count": 61,
   "id": "887c16dc",
   "metadata": {},
   "outputs": [
    {
     "name": "stdout",
     "output_type": "stream",
     "text": [
      "The training error (MSE) is: 285685746.61138\n",
      "The test     error (MSE) is: 423609991.18574\n",
      "The training R^2 is: 0.94830\n",
      "The test     R^2 is: 0.92846\n"
     ]
    },
    {
     "data": {
      "application/javascript": [
       "\n",
       "            setTimeout(function() {\n",
       "                var nbb_cell_id = 61;\n",
       "                var nbb_unformatted_code = \"\\n# Defining the base estimators\\nbase_estimators = [\\n    ('rf', RandomForestRegressor(**best_params, random_state=0)),\\n    ('ridge', Ridge(random_state=0)),\\n    ('svr', SVR(kernel='linear'))\\n]\\n\\n# Creating the stacking regressor\\nstacking_regressor = StackingRegressor(estimators=base_estimators, final_estimator=Ridge(random_state=0))\\n\\n# Evaluating the stacking regressor\\nevaluate_model(stacking_regressor, X_train, y_train, X_test, y_test)\";\n",
       "                var nbb_formatted_code = \"# Defining the base estimators\\nbase_estimators = [\\n    (\\\"rf\\\", RandomForestRegressor(**best_params, random_state=0)),\\n    (\\\"ridge\\\", Ridge(random_state=0)),\\n    (\\\"svr\\\", SVR(kernel=\\\"linear\\\")),\\n]\\n\\n# Creating the stacking regressor\\nstacking_regressor = StackingRegressor(\\n    estimators=base_estimators, final_estimator=Ridge(random_state=0)\\n)\\n\\n# Evaluating the stacking regressor\\nevaluate_model(stacking_regressor, X_train, y_train, X_test, y_test)\";\n",
       "                var nbb_cells = Jupyter.notebook.get_cells();\n",
       "                for (var i = 0; i < nbb_cells.length; ++i) {\n",
       "                    if (nbb_cells[i].input_prompt_number == nbb_cell_id) {\n",
       "                        if (nbb_cells[i].get_text() == nbb_unformatted_code) {\n",
       "                             nbb_cells[i].set_text(nbb_formatted_code);\n",
       "                        }\n",
       "                        break;\n",
       "                    }\n",
       "                }\n",
       "            }, 500);\n",
       "            "
      ],
      "text/plain": [
       "<IPython.core.display.Javascript object>"
      ]
     },
     "metadata": {},
     "output_type": "display_data"
    }
   ],
   "source": [
    "\n",
    "# Defining the base estimators\n",
    "base_estimators = [\n",
    "    ('rf', RandomForestRegressor(**best_params, random_state=0)),\n",
    "    ('ridge', Ridge(random_state=0)),\n",
    "    ('svr', SVR(kernel='linear'))\n",
    "]\n",
    "\n",
    "# Creating the stacking regressor\n",
    "stacking_regressor = StackingRegressor(estimators=base_estimators, final_estimator=Ridge(random_state=0))\n",
    "\n",
    "# Evaluating the stacking regressor\n",
    "evaluate_model(stacking_regressor, X_train, y_train, X_test, y_test)\n"
   ]
  },
  {
   "cell_type": "markdown",
   "id": "e81fddbf",
   "metadata": {},
   "source": [
    "StackingRegressor brings test score up to .927 and training score down to .947 which improves the overfitting problem.  However we decided to go with random forest since it will work better with SHAP"
   ]
  },
  {
   "cell_type": "markdown",
   "id": "13e36b4c",
   "metadata": {},
   "source": [
    "Saving as a pickle to be used for Shap in another notebook"
   ]
  },
  {
   "cell_type": "code",
   "execution_count": 62,
   "id": "de9a8860",
   "metadata": {},
   "outputs": [
    {
     "data": {
      "application/javascript": [
       "\n",
       "            setTimeout(function() {\n",
       "                var nbb_cell_id = 62;\n",
       "                var nbb_unformatted_code = \"# Defining the file paths for saving the pickled objects\\nbest_rf_path = os.path.join(\\\"..\\\", \\\"data\\\", \\\"best_rf.pkl\\\")\\nX_train_path = os.path.join(\\\"..\\\", \\\"data\\\", \\\"X_train.pkl\\\")\\n\\n# Saving the best_rf model\\nwith open(best_rf_path, \\\"wb\\\") as f:\\n    pickle.dump(best_rf, f)\\n\\n# Saving the X_train DataFrame\\nX_train.to_pickle(X_train_path)\";\n",
       "                var nbb_formatted_code = \"# Defining the file paths for saving the pickled objects\\nbest_rf_path = os.path.join(\\\"..\\\", \\\"data\\\", \\\"best_rf.pkl\\\")\\nX_train_path = os.path.join(\\\"..\\\", \\\"data\\\", \\\"X_train.pkl\\\")\\n\\n# Saving the best_rf model\\nwith open(best_rf_path, \\\"wb\\\") as f:\\n    pickle.dump(best_rf, f)\\n\\n# Saving the X_train DataFrame\\nX_train.to_pickle(X_train_path)\";\n",
       "                var nbb_cells = Jupyter.notebook.get_cells();\n",
       "                for (var i = 0; i < nbb_cells.length; ++i) {\n",
       "                    if (nbb_cells[i].input_prompt_number == nbb_cell_id) {\n",
       "                        if (nbb_cells[i].get_text() == nbb_unformatted_code) {\n",
       "                             nbb_cells[i].set_text(nbb_formatted_code);\n",
       "                        }\n",
       "                        break;\n",
       "                    }\n",
       "                }\n",
       "            }, 500);\n",
       "            "
      ],
      "text/plain": [
       "<IPython.core.display.Javascript object>"
      ]
     },
     "metadata": {},
     "output_type": "display_data"
    }
   ],
   "source": [
    "# Defining the file paths for saving the pickled objects\n",
    "best_rf_path = os.path.join(\"..\", \"data\", \"best_rf.pkl\")\n",
    "X_train_path = os.path.join(\"..\", \"data\", \"X_train.pkl\")\n",
    "\n",
    "# Saving the best_rf model\n",
    "with open(best_rf_path, \"wb\") as f:\n",
    "    pickle.dump(best_rf, f)\n",
    "\n",
    "# Saving the X_train DataFrame\n",
    "X_train.to_pickle(X_train_path)\n"
   ]
  }
 ],
 "metadata": {
  "kernelspec": {
   "display_name": "Python 3 (ipykernel)",
   "language": "python",
   "name": "python3"
  },
  "language_info": {
   "codemirror_mode": {
    "name": "ipython",
    "version": 3
   },
   "file_extension": ".py",
   "mimetype": "text/x-python",
   "name": "python",
   "nbconvert_exporter": "python",
   "pygments_lexer": "ipython3",
   "version": "3.9.12"
  }
 },
 "nbformat": 4,
 "nbformat_minor": 5
}
