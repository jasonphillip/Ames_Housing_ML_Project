{
 "cells": [
  {
   "cell_type": "markdown",
   "id": "282c3d12",
   "metadata": {},
   "source": [
    "### Load Packages and Data"
   ]
  },
  {
   "cell_type": "code",
   "execution_count": 46,
   "id": "0d5ea16c",
   "metadata": {},
   "outputs": [
    {
     "name": "stdout",
     "output_type": "stream",
     "text": [
      "The nb_black extension is already loaded. To reload it, use:\n",
      "  %reload_ext nb_black\n"
     ]
    },
    {
     "data": {
      "application/javascript": [
       "\n",
       "            setTimeout(function() {\n",
       "                var nbb_cell_id = 46;\n",
       "                var nbb_unformatted_code = \"import numpy as np\\nimport pandas as pd\\nimport matplotlib.pyplot as plt\\nimport matplotlib.ticker as ticker\\nimport seaborn as sns\\n\\nfrom sklearn.preprocessing import OrdinalEncoder\\nfrom sklearn.model_selection import train_test_split\\nfrom sklearn.model_selection import cross_val_score\\nfrom sklearn import ensemble\\nfrom sklearn.ensemble import RandomForestRegressor\\nfrom sklearn.metrics import mean_squared_error, r2_score\\nfrom sklearn.model_selection import GridSearchCV\\nimport shap\\n\\n\\n# import seaborn as sns\\n# from sklearn.ensemble import RandomForestRegressor\\n# from sklearn.preprocessing import LabelEncoder\\n# from sklearn.model_selection import cross_val_score, KFold\\n\\n\\n# the below extension properly formats a cell after it is run\\n%load_ext nb_black\\n\\n# Set the maximum number of rows to 200\\npd.set_option(\\\"display.max_rows\\\", 200)\\n\\n\\n# Set the maximum number of columns to 200\\npd.set_option(\\\"display.max_columns\\\", 200)\";\n",
       "                var nbb_formatted_code = \"import numpy as np\\nimport pandas as pd\\nimport matplotlib.pyplot as plt\\nimport matplotlib.ticker as ticker\\nimport seaborn as sns\\n\\nfrom sklearn.preprocessing import OrdinalEncoder\\nfrom sklearn.model_selection import train_test_split\\nfrom sklearn.model_selection import cross_val_score\\nfrom sklearn import ensemble\\nfrom sklearn.ensemble import RandomForestRegressor\\nfrom sklearn.metrics import mean_squared_error, r2_score\\nfrom sklearn.model_selection import GridSearchCV\\nimport shap\\n\\n\\n# import seaborn as sns\\n# from sklearn.ensemble import RandomForestRegressor\\n# from sklearn.preprocessing import LabelEncoder\\n# from sklearn.model_selection import cross_val_score, KFold\\n\\n\\n# the below extension properly formats a cell after it is run\\n%load_ext nb_black\\n\\n# Set the maximum number of rows to 200\\npd.set_option(\\\"display.max_rows\\\", 200)\\n\\n\\n# Set the maximum number of columns to 200\\npd.set_option(\\\"display.max_columns\\\", 200)\";\n",
       "                var nbb_cells = Jupyter.notebook.get_cells();\n",
       "                for (var i = 0; i < nbb_cells.length; ++i) {\n",
       "                    if (nbb_cells[i].input_prompt_number == nbb_cell_id) {\n",
       "                        if (nbb_cells[i].get_text() == nbb_unformatted_code) {\n",
       "                             nbb_cells[i].set_text(nbb_formatted_code);\n",
       "                        }\n",
       "                        break;\n",
       "                    }\n",
       "                }\n",
       "            }, 500);\n",
       "            "
      ],
      "text/plain": [
       "<IPython.core.display.Javascript object>"
      ]
     },
     "metadata": {},
     "output_type": "display_data"
    }
   ],
   "source": [
    "import numpy as np\n",
    "import pandas as pd\n",
    "import matplotlib.pyplot as plt\n",
    "import matplotlib.ticker as ticker\n",
    "import seaborn as sns\n",
    "\n",
    "from sklearn.preprocessing import OrdinalEncoder\n",
    "from sklearn.model_selection import train_test_split\n",
    "from sklearn.model_selection import cross_val_score\n",
    "from sklearn import ensemble\n",
    "from sklearn.ensemble import RandomForestRegressor\n",
    "from sklearn.metrics import mean_squared_error, r2_score\n",
    "from sklearn.model_selection import GridSearchCV\n",
    "import shap\n",
    "\n",
    "\n",
    "# import seaborn as sns\n",
    "# from sklearn.ensemble import RandomForestRegressor\n",
    "# from sklearn.preprocessing import LabelEncoder\n",
    "# from sklearn.model_selection import cross_val_score, KFold\n",
    "\n",
    "\n",
    "# the below extension properly formats a cell after it is run\n",
    "%load_ext nb_black\n",
    "\n",
    "# Set the maximum number of rows to 200\n",
    "pd.set_option(\"display.max_rows\", 200)\n",
    "\n",
    "\n",
    "# Set the maximum number of columns to 200\n",
    "pd.set_option(\"display.max_columns\", 200)"
   ]
  },
  {
   "cell_type": "code",
   "execution_count": 2,
   "id": "29f45b3f",
   "metadata": {},
   "outputs": [
    {
     "data": {
      "application/javascript": [
       "\n",
       "            setTimeout(function() {\n",
       "                var nbb_cell_id = 2;\n",
       "                var nbb_unformatted_code = \"# Load Data\\nhousing = pd.read_csv(\\\"../data/housing_corr.csv\\\")\";\n",
       "                var nbb_formatted_code = \"# Load Data\\nhousing = pd.read_csv(\\\"../data/housing_corr.csv\\\")\";\n",
       "                var nbb_cells = Jupyter.notebook.get_cells();\n",
       "                for (var i = 0; i < nbb_cells.length; ++i) {\n",
       "                    if (nbb_cells[i].input_prompt_number == nbb_cell_id) {\n",
       "                        if (nbb_cells[i].get_text() == nbb_unformatted_code) {\n",
       "                             nbb_cells[i].set_text(nbb_formatted_code);\n",
       "                        }\n",
       "                        break;\n",
       "                    }\n",
       "                }\n",
       "            }, 500);\n",
       "            "
      ],
      "text/plain": [
       "<IPython.core.display.Javascript object>"
      ]
     },
     "metadata": {},
     "output_type": "display_data"
    }
   ],
   "source": [
    "# Load Data\n",
    "housing = pd.read_csv(\"../data/housing_corr.csv\")"
   ]
  },
  {
   "cell_type": "code",
   "execution_count": 3,
   "id": "a4e1150b",
   "metadata": {},
   "outputs": [
    {
     "data": {
      "text/plain": [
       "(2558, 65)"
      ]
     },
     "execution_count": 3,
     "metadata": {},
     "output_type": "execute_result"
    },
    {
     "data": {
      "application/javascript": [
       "\n",
       "            setTimeout(function() {\n",
       "                var nbb_cell_id = 3;\n",
       "                var nbb_unformatted_code = \"housing.shape\";\n",
       "                var nbb_formatted_code = \"housing.shape\";\n",
       "                var nbb_cells = Jupyter.notebook.get_cells();\n",
       "                for (var i = 0; i < nbb_cells.length; ++i) {\n",
       "                    if (nbb_cells[i].input_prompt_number == nbb_cell_id) {\n",
       "                        if (nbb_cells[i].get_text() == nbb_unformatted_code) {\n",
       "                             nbb_cells[i].set_text(nbb_formatted_code);\n",
       "                        }\n",
       "                        break;\n",
       "                    }\n",
       "                }\n",
       "            }, 500);\n",
       "            "
      ],
      "text/plain": [
       "<IPython.core.display.Javascript object>"
      ]
     },
     "metadata": {},
     "output_type": "display_data"
    }
   ],
   "source": [
    "housing.shape"
   ]
  },
  {
   "cell_type": "code",
   "execution_count": 4,
   "id": "bffffa66",
   "metadata": {},
   "outputs": [
    {
     "data": {
      "application/javascript": [
       "\n",
       "            setTimeout(function() {\n",
       "                var nbb_cell_id = 4;\n",
       "                var nbb_unformatted_code = \"# Dropping columns not needed\\nhousing.drop(\\n    [\\\"PID\\\", \\\"Neighborhood_st\\\"], axis=1, inplace=True,\\n)\";\n",
       "                var nbb_formatted_code = \"# Dropping columns not needed\\nhousing.drop(\\n    [\\\"PID\\\", \\\"Neighborhood_st\\\"], axis=1, inplace=True,\\n)\";\n",
       "                var nbb_cells = Jupyter.notebook.get_cells();\n",
       "                for (var i = 0; i < nbb_cells.length; ++i) {\n",
       "                    if (nbb_cells[i].input_prompt_number == nbb_cell_id) {\n",
       "                        if (nbb_cells[i].get_text() == nbb_unformatted_code) {\n",
       "                             nbb_cells[i].set_text(nbb_formatted_code);\n",
       "                        }\n",
       "                        break;\n",
       "                    }\n",
       "                }\n",
       "            }, 500);\n",
       "            "
      ],
      "text/plain": [
       "<IPython.core.display.Javascript object>"
      ]
     },
     "metadata": {},
     "output_type": "display_data"
    }
   ],
   "source": [
    "# Dropping columns not needed\n",
    "housing.drop(\n",
    "    [\"PID\", \"Neighborhood_st\"], axis=1, inplace=True,\n",
    ")"
   ]
  },
  {
   "cell_type": "markdown",
   "id": "6ef8d479",
   "metadata": {},
   "source": [
    "# The below average sale by neigborhood is to comfirm later the encoding worked"
   ]
  },
  {
   "cell_type": "code",
   "execution_count": 5,
   "id": "c15ef129",
   "metadata": {},
   "outputs": [
    {
     "name": "stdout",
     "output_type": "stream",
     "text": [
      "Neighborhood\n",
      "Blmngtn    196237.173913\n",
      "Blueste    143590.000000\n",
      "BrDale     106094.827586\n",
      "BrkSide    125992.475728\n",
      "ClearCr    215997.435897\n",
      "CollgCr    198103.720339\n",
      "Crawfor    202027.956522\n",
      "Edwards    132003.993865\n",
      "Gilbert    189401.965035\n",
      "Greens     193531.250000\n",
      "IDOTRR     109743.000000\n",
      "MeadowV     96836.470588\n",
      "Mitchel    163389.029126\n",
      "NAmes      144960.639706\n",
      "NPkVill    140743.181818\n",
      "NWAmes     190329.715447\n",
      "NoRidge    326114.298507\n",
      "NridgHt    313662.495868\n",
      "OldTown    126476.975962\n",
      "SWISU      132896.048780\n",
      "Sawyer     137402.215827\n",
      "SawyerW    189152.017857\n",
      "Somerst    228761.853147\n",
      "StoneBr    305307.930233\n",
      "Timber     243461.807692\n",
      "Veenker    251263.043478\n",
      "Name: SalePrice, dtype: float64\n"
     ]
    },
    {
     "data": {
      "application/javascript": [
       "\n",
       "            setTimeout(function() {\n",
       "                var nbb_cell_id = 5;\n",
       "                var nbb_unformatted_code = \"# Calculate the average sale price for each neighborhood\\naverage_sale_price = housing.groupby(\\\"Neighborhood\\\")[\\\"SalePrice\\\"].mean()\\n\\n# Display the average sale price\\nprint(average_sale_price)\";\n",
       "                var nbb_formatted_code = \"# Calculate the average sale price for each neighborhood\\naverage_sale_price = housing.groupby(\\\"Neighborhood\\\")[\\\"SalePrice\\\"].mean()\\n\\n# Display the average sale price\\nprint(average_sale_price)\";\n",
       "                var nbb_cells = Jupyter.notebook.get_cells();\n",
       "                for (var i = 0; i < nbb_cells.length; ++i) {\n",
       "                    if (nbb_cells[i].input_prompt_number == nbb_cell_id) {\n",
       "                        if (nbb_cells[i].get_text() == nbb_unformatted_code) {\n",
       "                             nbb_cells[i].set_text(nbb_formatted_code);\n",
       "                        }\n",
       "                        break;\n",
       "                    }\n",
       "                }\n",
       "            }, 500);\n",
       "            "
      ],
      "text/plain": [
       "<IPython.core.display.Javascript object>"
      ]
     },
     "metadata": {},
     "output_type": "display_data"
    }
   ],
   "source": [
    "# Calculate the average sale price for each neighborhood\n",
    "average_sale_price = housing.groupby(\"Neighborhood\")[\"SalePrice\"].mean()\n",
    "\n",
    "# Display the average sale price\n",
    "print(average_sale_price)"
   ]
  },
  {
   "cell_type": "code",
   "execution_count": 6,
   "id": "10db820a",
   "metadata": {
    "scrolled": true
   },
   "outputs": [
    {
     "data": {
      "text/plain": [
       "array(['SWISU', 'Edwards', 'IDOTRR', 'OldTown', 'NWAmes', 'Blmngtn',\n",
       "       'Mitchel', 'NridgHt', 'NAmes', 'CollgCr', 'SawyerW', 'MeadowV',\n",
       "       'BrDale', 'Gilbert', 'Timber', 'Somerst', 'BrkSide', 'NoRidge',\n",
       "       'Sawyer', 'Crawfor', 'Greens', 'ClearCr', 'StoneBr', 'Veenker',\n",
       "       'NPkVill', 'Blueste'], dtype=object)"
      ]
     },
     "execution_count": 6,
     "metadata": {},
     "output_type": "execute_result"
    },
    {
     "data": {
      "application/javascript": [
       "\n",
       "            setTimeout(function() {\n",
       "                var nbb_cell_id = 6;\n",
       "                var nbb_unformatted_code = \"housing.Neighborhood.unique()\";\n",
       "                var nbb_formatted_code = \"housing.Neighborhood.unique()\";\n",
       "                var nbb_cells = Jupyter.notebook.get_cells();\n",
       "                for (var i = 0; i < nbb_cells.length; ++i) {\n",
       "                    if (nbb_cells[i].input_prompt_number == nbb_cell_id) {\n",
       "                        if (nbb_cells[i].get_text() == nbb_unformatted_code) {\n",
       "                             nbb_cells[i].set_text(nbb_formatted_code);\n",
       "                        }\n",
       "                        break;\n",
       "                    }\n",
       "                }\n",
       "            }, 500);\n",
       "            "
      ],
      "text/plain": [
       "<IPython.core.display.Javascript object>"
      ]
     },
     "metadata": {},
     "output_type": "display_data"
    }
   ],
   "source": [
    "housing.Neighborhood.unique()"
   ]
  },
  {
   "cell_type": "code",
   "execution_count": 7,
   "id": "39b1f26d",
   "metadata": {},
   "outputs": [
    {
     "data": {
      "application/javascript": [
       "\n",
       "            setTimeout(function() {\n",
       "                var nbb_cell_id = 7;\n",
       "                var nbb_unformatted_code = \"# # define the mapping for the Neighborhood feature\\n\\n# Neighborhood_mapping = {\\n#     \\\"SWISU\\\": 0,\\n#     \\\"Edwards\\\": 1,\\n#     \\\"IDOTRR\\\": 2,\\n#     \\\"OldTown\\\": 3,\\n#     \\\"NWAmes\\\": 4,\\n#     \\\"Blmngtn\\\": 5,\\n#     \\\"Mitchel\\\": 6,\\n#     \\\"NridgHt\\\": 7,\\n#     \\\"NAmes\\\": 8,\\n#     \\\"CollgCr\\\": 9,\\n#     \\\"SawyerW\\\": 10,\\n#     \\\"MeadowV\\\": 11,\\n#     \\\"BrDale\\\": 12,\\n#     \\\"Gilbert\\\": 13,\\n#     \\\"Timber\\\": 14,\\n#     \\\"Somerst\\\": 15,\\n#     \\\"BrkSide\\\": 16,\\n#     \\\"NoRidge\\\": 17,\\n#     \\\"Sawyer\\\": 18,\\n#     \\\"Crawfor\\\": 19,\\n#     \\\"Greens\\\": 20,\\n#     \\\"ClearCr\\\": 21,\\n#     \\\"StoneBr\\\": 22,\\n#     \\\"Veenker\\\": 23,\\n#     \\\"NPkVill\\\": 24,\\n#     \\\"Blueste\\\": 25,\\n# }\";\n",
       "                var nbb_formatted_code = \"# # define the mapping for the Neighborhood feature\\n\\n# Neighborhood_mapping = {\\n#     \\\"SWISU\\\": 0,\\n#     \\\"Edwards\\\": 1,\\n#     \\\"IDOTRR\\\": 2,\\n#     \\\"OldTown\\\": 3,\\n#     \\\"NWAmes\\\": 4,\\n#     \\\"Blmngtn\\\": 5,\\n#     \\\"Mitchel\\\": 6,\\n#     \\\"NridgHt\\\": 7,\\n#     \\\"NAmes\\\": 8,\\n#     \\\"CollgCr\\\": 9,\\n#     \\\"SawyerW\\\": 10,\\n#     \\\"MeadowV\\\": 11,\\n#     \\\"BrDale\\\": 12,\\n#     \\\"Gilbert\\\": 13,\\n#     \\\"Timber\\\": 14,\\n#     \\\"Somerst\\\": 15,\\n#     \\\"BrkSide\\\": 16,\\n#     \\\"NoRidge\\\": 17,\\n#     \\\"Sawyer\\\": 18,\\n#     \\\"Crawfor\\\": 19,\\n#     \\\"Greens\\\": 20,\\n#     \\\"ClearCr\\\": 21,\\n#     \\\"StoneBr\\\": 22,\\n#     \\\"Veenker\\\": 23,\\n#     \\\"NPkVill\\\": 24,\\n#     \\\"Blueste\\\": 25,\\n# }\";\n",
       "                var nbb_cells = Jupyter.notebook.get_cells();\n",
       "                for (var i = 0; i < nbb_cells.length; ++i) {\n",
       "                    if (nbb_cells[i].input_prompt_number == nbb_cell_id) {\n",
       "                        if (nbb_cells[i].get_text() == nbb_unformatted_code) {\n",
       "                             nbb_cells[i].set_text(nbb_formatted_code);\n",
       "                        }\n",
       "                        break;\n",
       "                    }\n",
       "                }\n",
       "            }, 500);\n",
       "            "
      ],
      "text/plain": [
       "<IPython.core.display.Javascript object>"
      ]
     },
     "metadata": {},
     "output_type": "display_data"
    }
   ],
   "source": [
    "# # define the mapping for the Neighborhood feature\n",
    "\n",
    "# Neighborhood_mapping = {\n",
    "#     \"SWISU\": 0,\n",
    "#     \"Edwards\": 1,\n",
    "#     \"IDOTRR\": 2,\n",
    "#     \"OldTown\": 3,\n",
    "#     \"NWAmes\": 4,\n",
    "#     \"Blmngtn\": 5,\n",
    "#     \"Mitchel\": 6,\n",
    "#     \"NridgHt\": 7,\n",
    "#     \"NAmes\": 8,\n",
    "#     \"CollgCr\": 9,\n",
    "#     \"SawyerW\": 10,\n",
    "#     \"MeadowV\": 11,\n",
    "#     \"BrDale\": 12,\n",
    "#     \"Gilbert\": 13,\n",
    "#     \"Timber\": 14,\n",
    "#     \"Somerst\": 15,\n",
    "#     \"BrkSide\": 16,\n",
    "#     \"NoRidge\": 17,\n",
    "#     \"Sawyer\": 18,\n",
    "#     \"Crawfor\": 19,\n",
    "#     \"Greens\": 20,\n",
    "#     \"ClearCr\": 21,\n",
    "#     \"StoneBr\": 22,\n",
    "#     \"Veenker\": 23,\n",
    "#     \"NPkVill\": 24,\n",
    "#     \"Blueste\": 25,\n",
    "# }"
   ]
  },
  {
   "cell_type": "markdown",
   "id": "b7c7072d",
   "metadata": {},
   "source": [
    "### Ordinal encoding data"
   ]
  },
  {
   "cell_type": "markdown",
   "id": "b78ca8ef",
   "metadata": {},
   "source": [
    "# This code encodes the 'Neighborhood' column of a housing dataset using a custom mapping, and encodes other categorical features using the OrdinalEncoder without specifying their categories."
   ]
  },
  {
   "cell_type": "code",
   "execution_count": 8,
   "id": "90121476",
   "metadata": {},
   "outputs": [
    {
     "data": {
      "application/javascript": [
       "\n",
       "            setTimeout(function() {\n",
       "                var nbb_cell_id = 8;\n",
       "                var nbb_unformatted_code = \"\\n# Getting a list of categorical features (i.e., object type columns)\\ncat_features = list(housing.select_dtypes(include=[\\\"object\\\"]).columns)\\n\\n# Removing the 'Neighborhood' column from cat_features since this will be dealt with in a different way\\ncat_features.remove('Neighborhood')\\n\\n\\n# Neighborhood mapping dictionary\\nNeighborhood_mapping = {\\n    \\\"SWISU\\\": 0,\\n    \\\"Edwards\\\": 1,\\n    \\\"IDOTRR\\\": 2,\\n    \\\"OldTown\\\": 3,\\n    \\\"NWAmes\\\": 4,\\n    \\\"Blmngtn\\\": 5,\\n    \\\"Mitchel\\\": 6,\\n    \\\"NridgHt\\\": 7,\\n    \\\"NAmes\\\": 8,\\n    \\\"CollgCr\\\": 9,\\n    \\\"SawyerW\\\": 10,\\n    \\\"MeadowV\\\": 11,\\n    \\\"BrDale\\\": 12,\\n    \\\"Gilbert\\\": 13,\\n    \\\"Timber\\\": 14,\\n    \\\"Somerst\\\": 15,\\n    \\\"BrkSide\\\": 16,\\n    \\\"NoRidge\\\": 17,\\n    \\\"Sawyer\\\": 18,\\n    \\\"Crawfor\\\": 19,\\n    \\\"Greens\\\": 20,\\n    \\\"ClearCr\\\": 21,\\n    \\\"StoneBr\\\": 22,\\n    \\\"Veenker\\\": 23,\\n    \\\"NPkVill\\\": 24,\\n    \\\"Blueste\\\": 25,\\n}\\n\\n# Creating a list of neighborhoods sorted by their values in the dictionary\\nsorted_neighborhoods = sorted(Neighborhood_mapping, key=Neighborhood_mapping.get)\\n\\n# Creating an instance of the OrdinalEncoder class with the custom categories for the 'Neighborhood' column\\nneighborhood_encoder = OrdinalEncoder(categories=[sorted_neighborhoods])\\n\\n# Fitting and transform the 'Neighborhood' column\\nhousing['Neighborhood'] = neighborhood_encoder.fit_transform(housing[['Neighborhood']])\\n\\n# Creating an instance of the OrdinalEncoder class for the other categorical features\\nother_encoder = OrdinalEncoder()\\n\\n\\n# Fit and transform the other categorical features\\nhousing[cat_features] = other_encoder.fit_transform(housing[cat_features])\";\n",
       "                var nbb_formatted_code = \"# Getting a list of categorical features (i.e., object type columns)\\ncat_features = list(housing.select_dtypes(include=[\\\"object\\\"]).columns)\\n\\n# Removing the 'Neighborhood' column from cat_features since this will be dealt with in a different way\\ncat_features.remove(\\\"Neighborhood\\\")\\n\\n\\n# Neighborhood mapping dictionary\\nNeighborhood_mapping = {\\n    \\\"SWISU\\\": 0,\\n    \\\"Edwards\\\": 1,\\n    \\\"IDOTRR\\\": 2,\\n    \\\"OldTown\\\": 3,\\n    \\\"NWAmes\\\": 4,\\n    \\\"Blmngtn\\\": 5,\\n    \\\"Mitchel\\\": 6,\\n    \\\"NridgHt\\\": 7,\\n    \\\"NAmes\\\": 8,\\n    \\\"CollgCr\\\": 9,\\n    \\\"SawyerW\\\": 10,\\n    \\\"MeadowV\\\": 11,\\n    \\\"BrDale\\\": 12,\\n    \\\"Gilbert\\\": 13,\\n    \\\"Timber\\\": 14,\\n    \\\"Somerst\\\": 15,\\n    \\\"BrkSide\\\": 16,\\n    \\\"NoRidge\\\": 17,\\n    \\\"Sawyer\\\": 18,\\n    \\\"Crawfor\\\": 19,\\n    \\\"Greens\\\": 20,\\n    \\\"ClearCr\\\": 21,\\n    \\\"StoneBr\\\": 22,\\n    \\\"Veenker\\\": 23,\\n    \\\"NPkVill\\\": 24,\\n    \\\"Blueste\\\": 25,\\n}\\n\\n# Creating a list of neighborhoods sorted by their values in the dictionary\\nsorted_neighborhoods = sorted(Neighborhood_mapping, key=Neighborhood_mapping.get)\\n\\n# Creating an instance of the OrdinalEncoder class with the custom categories for the 'Neighborhood' column\\nneighborhood_encoder = OrdinalEncoder(categories=[sorted_neighborhoods])\\n\\n# Fitting and transform the 'Neighborhood' column\\nhousing[\\\"Neighborhood\\\"] = neighborhood_encoder.fit_transform(housing[[\\\"Neighborhood\\\"]])\\n\\n# Creating an instance of the OrdinalEncoder class for the other categorical features\\nother_encoder = OrdinalEncoder()\\n\\n\\n# Fit and transform the other categorical features\\nhousing[cat_features] = other_encoder.fit_transform(housing[cat_features])\";\n",
       "                var nbb_cells = Jupyter.notebook.get_cells();\n",
       "                for (var i = 0; i < nbb_cells.length; ++i) {\n",
       "                    if (nbb_cells[i].input_prompt_number == nbb_cell_id) {\n",
       "                        if (nbb_cells[i].get_text() == nbb_unformatted_code) {\n",
       "                             nbb_cells[i].set_text(nbb_formatted_code);\n",
       "                        }\n",
       "                        break;\n",
       "                    }\n",
       "                }\n",
       "            }, 500);\n",
       "            "
      ],
      "text/plain": [
       "<IPython.core.display.Javascript object>"
      ]
     },
     "metadata": {},
     "output_type": "display_data"
    }
   ],
   "source": [
    "\n",
    "# Getting a list of categorical features (i.e., object type columns)\n",
    "cat_features = list(housing.select_dtypes(include=[\"object\"]).columns)\n",
    "\n",
    "# Removing the 'Neighborhood' column from cat_features since this will be dealt with in a different way\n",
    "cat_features.remove('Neighborhood')\n",
    "\n",
    "\n",
    "# Neighborhood mapping dictionary\n",
    "Neighborhood_mapping = {\n",
    "    \"SWISU\": 0,\n",
    "    \"Edwards\": 1,\n",
    "    \"IDOTRR\": 2,\n",
    "    \"OldTown\": 3,\n",
    "    \"NWAmes\": 4,\n",
    "    \"Blmngtn\": 5,\n",
    "    \"Mitchel\": 6,\n",
    "    \"NridgHt\": 7,\n",
    "    \"NAmes\": 8,\n",
    "    \"CollgCr\": 9,\n",
    "    \"SawyerW\": 10,\n",
    "    \"MeadowV\": 11,\n",
    "    \"BrDale\": 12,\n",
    "    \"Gilbert\": 13,\n",
    "    \"Timber\": 14,\n",
    "    \"Somerst\": 15,\n",
    "    \"BrkSide\": 16,\n",
    "    \"NoRidge\": 17,\n",
    "    \"Sawyer\": 18,\n",
    "    \"Crawfor\": 19,\n",
    "    \"Greens\": 20,\n",
    "    \"ClearCr\": 21,\n",
    "    \"StoneBr\": 22,\n",
    "    \"Veenker\": 23,\n",
    "    \"NPkVill\": 24,\n",
    "    \"Blueste\": 25,\n",
    "}\n",
    "\n",
    "# Creating a list of neighborhoods sorted by their values in the dictionary\n",
    "sorted_neighborhoods = sorted(Neighborhood_mapping, key=Neighborhood_mapping.get)\n",
    "\n",
    "# Creating an instance of the OrdinalEncoder class with the custom categories for the 'Neighborhood' column\n",
    "neighborhood_encoder = OrdinalEncoder(categories=[sorted_neighborhoods])\n",
    "\n",
    "# Fitting and transform the 'Neighborhood' column\n",
    "housing['Neighborhood'] = neighborhood_encoder.fit_transform(housing[['Neighborhood']])\n",
    "\n",
    "# Creating an instance of the OrdinalEncoder class for the other categorical features\n",
    "other_encoder = OrdinalEncoder()\n",
    "\n",
    "\n",
    "# Fit and transform the other categorical features\n",
    "housing[cat_features] = other_encoder.fit_transform(housing[cat_features])\n",
    "\n"
   ]
  },
  {
   "cell_type": "markdown",
   "id": "3cc76e0a",
   "metadata": {},
   "source": [
    "## The following is to confirm it worked"
   ]
  },
  {
   "cell_type": "code",
   "execution_count": 9,
   "id": "1baa0be3",
   "metadata": {
    "scrolled": false
   },
   "outputs": [
    {
     "data": {
      "application/javascript": [
       "\n",
       "            setTimeout(function() {\n",
       "                var nbb_cell_id = 9;\n",
       "                var nbb_unformatted_code = \"# # Revert the encoded 'Neighborhood' column back to its original string values\\n# housing['Neighborhood'] = housing['Neighborhood'].replace({v: k for k, v in Neighborhood_mapping.items()})\\n\\n# # Calculate the average sale price for each neighborhood\\n# average_sale_price = housing.groupby('Neighborhood')['SalePrice'].mean()\\n\\n# # Display the average sale price\\n# print(average_sale_price)\";\n",
       "                var nbb_formatted_code = \"# # Revert the encoded 'Neighborhood' column back to its original string values\\n# housing['Neighborhood'] = housing['Neighborhood'].replace({v: k for k, v in Neighborhood_mapping.items()})\\n\\n# # Calculate the average sale price for each neighborhood\\n# average_sale_price = housing.groupby('Neighborhood')['SalePrice'].mean()\\n\\n# # Display the average sale price\\n# print(average_sale_price)\";\n",
       "                var nbb_cells = Jupyter.notebook.get_cells();\n",
       "                for (var i = 0; i < nbb_cells.length; ++i) {\n",
       "                    if (nbb_cells[i].input_prompt_number == nbb_cell_id) {\n",
       "                        if (nbb_cells[i].get_text() == nbb_unformatted_code) {\n",
       "                             nbb_cells[i].set_text(nbb_formatted_code);\n",
       "                        }\n",
       "                        break;\n",
       "                    }\n",
       "                }\n",
       "            }, 500);\n",
       "            "
      ],
      "text/plain": [
       "<IPython.core.display.Javascript object>"
      ]
     },
     "metadata": {},
     "output_type": "display_data"
    }
   ],
   "source": [
    "# # Revert the encoded 'Neighborhood' column back to its original string values\n",
    "# housing['Neighborhood'] = housing['Neighborhood'].replace({v: k for k, v in Neighborhood_mapping.items()})\n",
    "\n",
    "# # Calculate the average sale price for each neighborhood\n",
    "# average_sale_price = housing.groupby('Neighborhood')['SalePrice'].mean()\n",
    "\n",
    "# # Display the average sale price\n",
    "# print(average_sale_price)\n"
   ]
  },
  {
   "cell_type": "markdown",
   "id": "a9c40b6a",
   "metadata": {},
   "source": [
    "# CONFIRMED!  THE NUMBERS ARE THE SAME AS BEFORE"
   ]
  },
  {
   "cell_type": "code",
   "execution_count": 10,
   "id": "86a3908c",
   "metadata": {},
   "outputs": [
    {
     "data": {
      "application/javascript": [
       "\n",
       "            setTimeout(function() {\n",
       "                var nbb_cell_id = 10;\n",
       "                var nbb_unformatted_code = \"# OLD WAY OF DOING IT -  DELETE\\n\\n# # get a list of categorical features (i.e., object type columns)\\n# cat_features = list(housing.select_dtypes(include=[\\\"object\\\"]).columns)\\n\\n# # create an instance of the OrdinalEncoder class\\n# ordinal_encoder = OrdinalEncoder()\\n\\n# # fit the ordinal encoder to the categorical features\\n# ordinal_encoder.fit(housing[cat_features])\\n\\n# # transform the categorical features into encoded numerical values\\n# housing[cat_features] = ordinal_encoder.transform(housing[cat_features])\";\n",
       "                var nbb_formatted_code = \"# OLD WAY OF DOING IT -  DELETE\\n\\n# # get a list of categorical features (i.e., object type columns)\\n# cat_features = list(housing.select_dtypes(include=[\\\"object\\\"]).columns)\\n\\n# # create an instance of the OrdinalEncoder class\\n# ordinal_encoder = OrdinalEncoder()\\n\\n# # fit the ordinal encoder to the categorical features\\n# ordinal_encoder.fit(housing[cat_features])\\n\\n# # transform the categorical features into encoded numerical values\\n# housing[cat_features] = ordinal_encoder.transform(housing[cat_features])\";\n",
       "                var nbb_cells = Jupyter.notebook.get_cells();\n",
       "                for (var i = 0; i < nbb_cells.length; ++i) {\n",
       "                    if (nbb_cells[i].input_prompt_number == nbb_cell_id) {\n",
       "                        if (nbb_cells[i].get_text() == nbb_unformatted_code) {\n",
       "                             nbb_cells[i].set_text(nbb_formatted_code);\n",
       "                        }\n",
       "                        break;\n",
       "                    }\n",
       "                }\n",
       "            }, 500);\n",
       "            "
      ],
      "text/plain": [
       "<IPython.core.display.Javascript object>"
      ]
     },
     "metadata": {},
     "output_type": "display_data"
    }
   ],
   "source": [
    "# OLD WAY OF DOING IT -  DELETE\n",
    "\n",
    "# # get a list of categorical features (i.e., object type columns)\n",
    "# cat_features = list(housing.select_dtypes(include=[\"object\"]).columns)\n",
    "\n",
    "# # create an instance of the OrdinalEncoder class\n",
    "# ordinal_encoder = OrdinalEncoder()\n",
    "\n",
    "# # fit the ordinal encoder to the categorical features\n",
    "# ordinal_encoder.fit(housing[cat_features])\n",
    "\n",
    "# # transform the categorical features into encoded numerical values\n",
    "# housing[cat_features] = ordinal_encoder.transform(housing[cat_features])"
   ]
  },
  {
   "cell_type": "markdown",
   "id": "a248f9f2",
   "metadata": {},
   "source": [
    "## Train Test Split"
   ]
  },
  {
   "cell_type": "code",
   "execution_count": 11,
   "id": "eae8d5c1",
   "metadata": {},
   "outputs": [
    {
     "data": {
      "application/javascript": [
       "\n",
       "            setTimeout(function() {\n",
       "                var nbb_cell_id = 11;\n",
       "                var nbb_unformatted_code = \"X = housing.loc[:, housing.columns != \\\"SalePrice\\\"]\\ny = housing.loc[:, \\\"SalePrice\\\"]\\nX_train, X_test, y_train, y_test = train_test_split(\\n    X, y, random_state=42, test_size=0.2,\\n)\";\n",
       "                var nbb_formatted_code = \"X = housing.loc[:, housing.columns != \\\"SalePrice\\\"]\\ny = housing.loc[:, \\\"SalePrice\\\"]\\nX_train, X_test, y_train, y_test = train_test_split(\\n    X, y, random_state=42, test_size=0.2,\\n)\";\n",
       "                var nbb_cells = Jupyter.notebook.get_cells();\n",
       "                for (var i = 0; i < nbb_cells.length; ++i) {\n",
       "                    if (nbb_cells[i].input_prompt_number == nbb_cell_id) {\n",
       "                        if (nbb_cells[i].get_text() == nbb_unformatted_code) {\n",
       "                             nbb_cells[i].set_text(nbb_formatted_code);\n",
       "                        }\n",
       "                        break;\n",
       "                    }\n",
       "                }\n",
       "            }, 500);\n",
       "            "
      ],
      "text/plain": [
       "<IPython.core.display.Javascript object>"
      ]
     },
     "metadata": {},
     "output_type": "display_data"
    }
   ],
   "source": [
    "X = housing.loc[:, housing.columns != \"SalePrice\"]\n",
    "y = housing.loc[:, \"SalePrice\"]\n",
    "X_train, X_test, y_train, y_test = train_test_split(\n",
    "    X, y, random_state=42, test_size=0.2,\n",
    ")"
   ]
  },
  {
   "cell_type": "code",
   "execution_count": 12,
   "id": "f5f471b9",
   "metadata": {},
   "outputs": [
    {
     "name": "stdout",
     "output_type": "stream",
     "text": [
      "(2046, 62)\n",
      "(512, 62)\n"
     ]
    },
    {
     "data": {
      "application/javascript": [
       "\n",
       "            setTimeout(function() {\n",
       "                var nbb_cell_id = 12;\n",
       "                var nbb_unformatted_code = \"print(X_train.shape)\\nprint(X_test.shape)\";\n",
       "                var nbb_formatted_code = \"print(X_train.shape)\\nprint(X_test.shape)\";\n",
       "                var nbb_cells = Jupyter.notebook.get_cells();\n",
       "                for (var i = 0; i < nbb_cells.length; ++i) {\n",
       "                    if (nbb_cells[i].input_prompt_number == nbb_cell_id) {\n",
       "                        if (nbb_cells[i].get_text() == nbb_unformatted_code) {\n",
       "                             nbb_cells[i].set_text(nbb_formatted_code);\n",
       "                        }\n",
       "                        break;\n",
       "                    }\n",
       "                }\n",
       "            }, 500);\n",
       "            "
      ],
      "text/plain": [
       "<IPython.core.display.Javascript object>"
      ]
     },
     "metadata": {},
     "output_type": "display_data"
    }
   ],
   "source": [
    "print(X_train.shape)\n",
    "print(X_test.shape)"
   ]
  },
  {
   "cell_type": "markdown",
   "id": "73493ac1",
   "metadata": {},
   "source": [
    "### Model Scoring Function"
   ]
  },
  {
   "cell_type": "code",
   "execution_count": 13,
   "id": "0a6b01bb",
   "metadata": {},
   "outputs": [
    {
     "data": {
      "application/javascript": [
       "\n",
       "            setTimeout(function() {\n",
       "                var nbb_cell_id = 13;\n",
       "                var nbb_unformatted_code = \"def r2mae_scores(model, X, y, cv=5):\\n    \\\"\\\"\\\"\\n    Calculate R^2 and Mean Absolute Error (MAE) scores for the given model using cross-validation.\\n    \\n    Args:\\n        model: A scikit-learn model\\n        X: The feature matrix (numpy array or pandas DataFrame)\\n        y: The target variable (numpy array or pandas Series)\\n        cv: Number of folds for cross-validation (default: 5)\\n\\n    Returns:\\n        avg_r2_score: The average R^2 score across the cross-validation folds\\n        avg_MAE_score: The average MAE score across the cross-validation folds\\n    \\\"\\\"\\\"\\n\\n    # Using R^2 as the scoring metric\\n    r2_scores = cross_val_score(model, X, y, cv=cv, scoring=\\\"r2\\\", n_jobs=-1)\\n\\n    # Using Mean Absolute Error as the scoring metric\\n    mae_scores = cross_val_score(\\n        model, X, y, cv=cv, scoring=\\\"neg_mean_absolute_error\\\", n_jobs=-1\\n    )\\n\\n    # Convert the MAE scores back to positive\\n    mae_scores = -1 * mae_scores\\n\\n    avg_r2_score = np.mean(r2_scores)\\n    avg_MAE_score = np.mean(mae_scores)\\n\\n    return avg_r2_score, avg_MAE_score\\n\\n\\ndef print_scores(avg_r2_score, avg_MAE_score):\\n    \\\"\\\"\\\"\\n    Print the average R^2 and MAE scores.\\n\\n    Args:\\n        avg_r2_score: The average R^2 score\\n        avg_MAE_score: The average MAE score\\n    \\\"\\\"\\\"\\n    print(\\\"-\\\" * 50)\\n    print(\\\"5-fold Cross Validation Scoring\\\")\\n    print(\\\"Average R^2 score:\\\", avg_r2_score)\\n    print(\\\"Average MAE score:\\\", avg_MAE_score)\\n    print(\\\"-\\\" * 50)\";\n",
       "                var nbb_formatted_code = \"def r2mae_scores(model, X, y, cv=5):\\n    \\\"\\\"\\\"\\n    Calculate R^2 and Mean Absolute Error (MAE) scores for the given model using cross-validation.\\n    \\n    Args:\\n        model: A scikit-learn model\\n        X: The feature matrix (numpy array or pandas DataFrame)\\n        y: The target variable (numpy array or pandas Series)\\n        cv: Number of folds for cross-validation (default: 5)\\n\\n    Returns:\\n        avg_r2_score: The average R^2 score across the cross-validation folds\\n        avg_MAE_score: The average MAE score across the cross-validation folds\\n    \\\"\\\"\\\"\\n\\n    # Using R^2 as the scoring metric\\n    r2_scores = cross_val_score(model, X, y, cv=cv, scoring=\\\"r2\\\", n_jobs=-1)\\n\\n    # Using Mean Absolute Error as the scoring metric\\n    mae_scores = cross_val_score(\\n        model, X, y, cv=cv, scoring=\\\"neg_mean_absolute_error\\\", n_jobs=-1\\n    )\\n\\n    # Convert the MAE scores back to positive\\n    mae_scores = -1 * mae_scores\\n\\n    avg_r2_score = np.mean(r2_scores)\\n    avg_MAE_score = np.mean(mae_scores)\\n\\n    return avg_r2_score, avg_MAE_score\\n\\n\\ndef print_scores(avg_r2_score, avg_MAE_score):\\n    \\\"\\\"\\\"\\n    Print the average R^2 and MAE scores.\\n\\n    Args:\\n        avg_r2_score: The average R^2 score\\n        avg_MAE_score: The average MAE score\\n    \\\"\\\"\\\"\\n    print(\\\"-\\\" * 50)\\n    print(\\\"5-fold Cross Validation Scoring\\\")\\n    print(\\\"Average R^2 score:\\\", avg_r2_score)\\n    print(\\\"Average MAE score:\\\", avg_MAE_score)\\n    print(\\\"-\\\" * 50)\";\n",
       "                var nbb_cells = Jupyter.notebook.get_cells();\n",
       "                for (var i = 0; i < nbb_cells.length; ++i) {\n",
       "                    if (nbb_cells[i].input_prompt_number == nbb_cell_id) {\n",
       "                        if (nbb_cells[i].get_text() == nbb_unformatted_code) {\n",
       "                             nbb_cells[i].set_text(nbb_formatted_code);\n",
       "                        }\n",
       "                        break;\n",
       "                    }\n",
       "                }\n",
       "            }, 500);\n",
       "            "
      ],
      "text/plain": [
       "<IPython.core.display.Javascript object>"
      ]
     },
     "metadata": {},
     "output_type": "display_data"
    }
   ],
   "source": [
    "def r2mae_scores(model, X, y, cv=5):\n",
    "    \"\"\"\n",
    "    Calculate R^2 and Mean Absolute Error (MAE) scores for the given model using cross-validation.\n",
    "    \n",
    "    Args:\n",
    "        model: A scikit-learn model\n",
    "        X: The feature matrix (numpy array or pandas DataFrame)\n",
    "        y: The target variable (numpy array or pandas Series)\n",
    "        cv: Number of folds for cross-validation (default: 5)\n",
    "\n",
    "    Returns:\n",
    "        avg_r2_score: The average R^2 score across the cross-validation folds\n",
    "        avg_MAE_score: The average MAE score across the cross-validation folds\n",
    "    \"\"\"\n",
    "\n",
    "    # Using R^2 as the scoring metric\n",
    "    r2_scores = cross_val_score(model, X, y, cv=cv, scoring=\"r2\", n_jobs=-1)\n",
    "\n",
    "    # Using Mean Absolute Error as the scoring metric\n",
    "    mae_scores = cross_val_score(\n",
    "        model, X, y, cv=cv, scoring=\"neg_mean_absolute_error\", n_jobs=-1\n",
    "    )\n",
    "\n",
    "    # Convert the MAE scores back to positive\n",
    "    mae_scores = -1 * mae_scores\n",
    "\n",
    "    avg_r2_score = np.mean(r2_scores)\n",
    "    avg_MAE_score = np.mean(mae_scores)\n",
    "\n",
    "    return avg_r2_score, avg_MAE_score\n",
    "\n",
    "\n",
    "def print_scores(avg_r2_score, avg_MAE_score):\n",
    "    \"\"\"\n",
    "    Print the average R^2 and MAE scores.\n",
    "\n",
    "    Args:\n",
    "        avg_r2_score: The average R^2 score\n",
    "        avg_MAE_score: The average MAE score\n",
    "    \"\"\"\n",
    "    print(\"-\" * 50)\n",
    "    print(\"5-fold Cross Validation Scoring\")\n",
    "    print(\"Average R^2 score:\", avg_r2_score)\n",
    "    print(\"Average MAE score:\", avg_MAE_score)\n",
    "    print(\"-\" * 50)"
   ]
  },
  {
   "cell_type": "markdown",
   "id": "1c1974a8",
   "metadata": {},
   "source": [
    "### Random Tree Regression"
   ]
  },
  {
   "cell_type": "code",
   "execution_count": 14,
   "id": "bb95a433",
   "metadata": {},
   "outputs": [
    {
     "name": "stdout",
     "output_type": "stream",
     "text": [
      "--------------------------------------------------\n",
      "5-fold Cross Validation Scoring\n",
      "Average R^2 score: 0.8985070550038822\n",
      "Average MAE score: 14764.637862881904\n",
      "--------------------------------------------------\n"
     ]
    },
    {
     "data": {
      "application/javascript": [
       "\n",
       "            setTimeout(function() {\n",
       "                var nbb_cell_id = 14;\n",
       "                var nbb_unformatted_code = \"model = ensemble.RandomForestRegressor(random_state=0)\\navg_r2_score, avg_MAE_score = r2mae_scores(model, X_train, y_train)\\nprint_scores(avg_r2_score, avg_MAE_score)\";\n",
       "                var nbb_formatted_code = \"model = ensemble.RandomForestRegressor(random_state=0)\\navg_r2_score, avg_MAE_score = r2mae_scores(model, X_train, y_train)\\nprint_scores(avg_r2_score, avg_MAE_score)\";\n",
       "                var nbb_cells = Jupyter.notebook.get_cells();\n",
       "                for (var i = 0; i < nbb_cells.length; ++i) {\n",
       "                    if (nbb_cells[i].input_prompt_number == nbb_cell_id) {\n",
       "                        if (nbb_cells[i].get_text() == nbb_unformatted_code) {\n",
       "                             nbb_cells[i].set_text(nbb_formatted_code);\n",
       "                        }\n",
       "                        break;\n",
       "                    }\n",
       "                }\n",
       "            }, 500);\n",
       "            "
      ],
      "text/plain": [
       "<IPython.core.display.Javascript object>"
      ]
     },
     "metadata": {},
     "output_type": "display_data"
    }
   ],
   "source": [
    "model = ensemble.RandomForestRegressor(random_state=0)\n",
    "avg_r2_score, avg_MAE_score = r2mae_scores(model, X_train, y_train)\n",
    "print_scores(avg_r2_score, avg_MAE_score)"
   ]
  },
  {
   "cell_type": "markdown",
   "id": "07955ef3",
   "metadata": {},
   "source": [
    "### Feature Selection and Optimizing Number of Features"
   ]
  },
  {
   "cell_type": "code",
   "execution_count": 95,
   "id": "3f46032b",
   "metadata": {},
   "outputs": [
    {
     "data": {
      "application/javascript": [
       "\n",
       "            setTimeout(function() {\n",
       "                var nbb_cell_id = 95;\n",
       "                var nbb_unformatted_code = \"# from sklearn.model_selection import cross_val_score\\n\\nnp.random.seed(42)\\n\\n\\ndef feature_importance(model, X, y):\\n    model.fit(X, y)\\n    return sorted(\\n        zip(X.columns, model.feature_importances_), key=lambda t: t[1], reverse=True\\n    )\\n\\n\\ndef r2_score_by_feature_count(model, X_train, y_train, X_test, y_test):\\n    sorted_features = feature_importance(model, X_train, y_train)\\n    selected_columns = [col for col, _ in sorted_features]\\n\\n    scores = []\\n    for i in range(len(selected_columns)):\\n        X_train_subset = X_train[selected_columns[: i + 1]]\\n        X_test_subset = X_test[selected_columns[: i + 1]]\\n\\n        model.fit(X_train_subset, y_train)\\n        score = cross_val_score(\\n            model, X_test_subset, y_test, cv=5, scoring=\\\"r2\\\", n_jobs=-1\\n        )\\n        scores.append((i, np.mean(score)))\\n\\n    return scores\\n\\n\\ndef plot_scores(scores, vline_val):\\n    x_values = [t[0] for t in scores]\\n    y_values = [t[1] for t in scores]\\n\\n    plt.plot(x_values, y_values)\\n    plt.axvline(x=vline_val, color=\\\"red\\\", linestyle=\\\"--\\\", alpha=0.4)\\n\\n    plt.xlabel(\\\"# of Features\\\")\\n    plt.ylabel(\\\"R^2 Performance\\\")\\n    plt.title(\\\"Feature Selection\\\")\\n\\n    plt.savefig(\\\"../pic/feature_selection_optimal.png\\\", dpi=900)\\n    plt.show()\";\n",
       "                var nbb_formatted_code = \"# from sklearn.model_selection import cross_val_score\\n\\nnp.random.seed(42)\\n\\n\\ndef feature_importance(model, X, y):\\n    model.fit(X, y)\\n    return sorted(\\n        zip(X.columns, model.feature_importances_), key=lambda t: t[1], reverse=True\\n    )\\n\\n\\ndef r2_score_by_feature_count(model, X_train, y_train, X_test, y_test):\\n    sorted_features = feature_importance(model, X_train, y_train)\\n    selected_columns = [col for col, _ in sorted_features]\\n\\n    scores = []\\n    for i in range(len(selected_columns)):\\n        X_train_subset = X_train[selected_columns[: i + 1]]\\n        X_test_subset = X_test[selected_columns[: i + 1]]\\n\\n        model.fit(X_train_subset, y_train)\\n        score = cross_val_score(\\n            model, X_test_subset, y_test, cv=5, scoring=\\\"r2\\\", n_jobs=-1\\n        )\\n        scores.append((i, np.mean(score)))\\n\\n    return scores\\n\\n\\ndef plot_scores(scores, vline_val):\\n    x_values = [t[0] for t in scores]\\n    y_values = [t[1] for t in scores]\\n\\n    plt.plot(x_values, y_values)\\n    plt.axvline(x=vline_val, color=\\\"red\\\", linestyle=\\\"--\\\", alpha=0.4)\\n\\n    plt.xlabel(\\\"# of Features\\\")\\n    plt.ylabel(\\\"R^2 Performance\\\")\\n    plt.title(\\\"Feature Selection\\\")\\n\\n    plt.savefig(\\\"../pic/feature_selection_optimal.png\\\", dpi=900)\\n    plt.show()\";\n",
       "                var nbb_cells = Jupyter.notebook.get_cells();\n",
       "                for (var i = 0; i < nbb_cells.length; ++i) {\n",
       "                    if (nbb_cells[i].input_prompt_number == nbb_cell_id) {\n",
       "                        if (nbb_cells[i].get_text() == nbb_unformatted_code) {\n",
       "                             nbb_cells[i].set_text(nbb_formatted_code);\n",
       "                        }\n",
       "                        break;\n",
       "                    }\n",
       "                }\n",
       "            }, 500);\n",
       "            "
      ],
      "text/plain": [
       "<IPython.core.display.Javascript object>"
      ]
     },
     "metadata": {},
     "output_type": "display_data"
    }
   ],
   "source": [
    "# from sklearn.model_selection import cross_val_score\n",
    "\n",
    "np.random.seed(42)\n",
    "\n",
    "\n",
    "def feature_importance(model, X, y):\n",
    "    model.fit(X, y)\n",
    "    return sorted(\n",
    "        zip(X.columns, model.feature_importances_), key=lambda t: t[1], reverse=True\n",
    "    )\n",
    "\n",
    "\n",
    "def r2_score_by_feature_count(model, X_train, y_train, X_test, y_test):\n",
    "    sorted_features = feature_importance(model, X_train, y_train)\n",
    "    selected_columns = [col for col, _ in sorted_features]\n",
    "\n",
    "    scores = []\n",
    "    for i in range(len(selected_columns)):\n",
    "        X_train_subset = X_train[selected_columns[: i + 1]]\n",
    "        X_test_subset = X_test[selected_columns[: i + 1]]\n",
    "\n",
    "        model.fit(X_train_subset, y_train)\n",
    "        score = cross_val_score(\n",
    "            model, X_test_subset, y_test, cv=5, scoring=\"r2\", n_jobs=-1\n",
    "        )\n",
    "        scores.append((i, np.mean(score)))\n",
    "\n",
    "    return scores\n",
    "\n",
    "\n",
    "def plot_scores(scores, vline_val):\n",
    "    x_values = [t[0] for t in scores]\n",
    "    y_values = [t[1] for t in scores]\n",
    "\n",
    "    plt.plot(x_values, y_values)\n",
    "    plt.axvline(x=vline_val, color=\"red\", linestyle=\"--\", alpha=0.4)\n",
    "\n",
    "    plt.xlabel(\"# of Features\")\n",
    "    plt.ylabel(\"R^2 Performance\")\n",
    "    plt.title(\"Feature Selection\")\n",
    "\n",
    "    plt.savefig(\"../pic/feature_selection_optimal.png\", dpi=900)\n",
    "    plt.show()"
   ]
  },
  {
   "cell_type": "code",
   "execution_count": 96,
   "id": "7a099a6d",
   "metadata": {},
   "outputs": [
    {
     "data": {
      "application/javascript": [
       "\n",
       "            setTimeout(function() {\n",
       "                var nbb_cell_id = 96;\n",
       "                var nbb_unformatted_code = \"model = RandomForestRegressor(random_state=0)\\nscores = r2_score_by_feature_count(model, X_train, y_train, X_test, y_test)\";\n",
       "                var nbb_formatted_code = \"model = RandomForestRegressor(random_state=0)\\nscores = r2_score_by_feature_count(model, X_train, y_train, X_test, y_test)\";\n",
       "                var nbb_cells = Jupyter.notebook.get_cells();\n",
       "                for (var i = 0; i < nbb_cells.length; ++i) {\n",
       "                    if (nbb_cells[i].input_prompt_number == nbb_cell_id) {\n",
       "                        if (nbb_cells[i].get_text() == nbb_unformatted_code) {\n",
       "                             nbb_cells[i].set_text(nbb_formatted_code);\n",
       "                        }\n",
       "                        break;\n",
       "                    }\n",
       "                }\n",
       "            }, 500);\n",
       "            "
      ],
      "text/plain": [
       "<IPython.core.display.Javascript object>"
      ]
     },
     "metadata": {},
     "output_type": "display_data"
    }
   ],
   "source": [
    "model = RandomForestRegressor(random_state=0)\n",
    "scores = r2_score_by_feature_count(model, X_train, y_train, X_test, y_test)"
   ]
  },
  {
   "cell_type": "code",
   "execution_count": 97,
   "id": "eb0dee2e",
   "metadata": {},
   "outputs": [
    {
     "data": {
      "image/png": "[encoded data removed]",
      "text/plain": [
       "<Figure size 432x288 with 1 Axes>"
      ]
     },
     "metadata": {
      "needs_background": "light"
     },
     "output_type": "display_data"
    },
    {
     "data": {
      "application/javascript": [
       "\n",
       "            setTimeout(function() {\n",
       "                var nbb_cell_id = 97;\n",
       "                var nbb_unformatted_code = \"plot_scores(scores=scores, vline_val=8)\";\n",
       "                var nbb_formatted_code = \"plot_scores(scores=scores, vline_val=8)\";\n",
       "                var nbb_cells = Jupyter.notebook.get_cells();\n",
       "                for (var i = 0; i < nbb_cells.length; ++i) {\n",
       "                    if (nbb_cells[i].input_prompt_number == nbb_cell_id) {\n",
       "                        if (nbb_cells[i].get_text() == nbb_unformatted_code) {\n",
       "                             nbb_cells[i].set_text(nbb_formatted_code);\n",
       "                        }\n",
       "                        break;\n",
       "                    }\n",
       "                }\n",
       "            }, 500);\n",
       "            "
      ],
      "text/plain": [
       "<IPython.core.display.Javascript object>"
      ]
     },
     "metadata": {},
     "output_type": "display_data"
    }
   ],
   "source": [
    "plot_scores(scores=scores, vline_val=8)"
   ]
  },
  {
   "cell_type": "markdown",
   "id": "50b900be",
   "metadata": {},
   "source": [
    "Optimal number of features is 8"
   ]
  },
  {
   "cell_type": "code",
   "execution_count": 104,
   "id": "98c20750",
   "metadata": {},
   "outputs": [
    {
     "data": {
      "application/javascript": [
       "\n",
       "            setTimeout(function() {\n",
       "                var nbb_cell_id = 104;\n",
       "                var nbb_unformatted_code = \"def plot_feature_importance(model, X_train, n_features=35):\\n    sorted_importance = sorted(\\n        zip(X_train.columns, model.feature_importances_),\\n        key=lambda t: t[1],\\n        reverse=True,\\n    )\\n\\n    # Get data for the plot (n_features based on your preference)\\n    a, b = zip(*sorted_importance[:n_features])\\n    df = pd.DataFrame({\\\"feature_name\\\": a, \\\"importance_score\\\": b})\\n\\n    # Plot\\n    \\n    plt.rcParams['figure.autolayout'] = True\\n    plt.subplots_adjust(bottom=0.15)\\n\\n    plt.figure(figsize=(20, 10))\\n    df.plot.bar(x=\\\"feature_name\\\", y=\\\"importance_score\\\", legend=None)\\n    plt.title(\\\"Feature Importance\\\")\\n\\n    plt.savefig(\\\"../pic/feature_importances_bar.png\\\", dpi=900)\\n    plt.show()\";\n",
       "                var nbb_formatted_code = \"def plot_feature_importance(model, X_train, n_features=35):\\n    sorted_importance = sorted(\\n        zip(X_train.columns, model.feature_importances_),\\n        key=lambda t: t[1],\\n        reverse=True,\\n    )\\n\\n    # Get data for the plot (n_features based on your preference)\\n    a, b = zip(*sorted_importance[:n_features])\\n    df = pd.DataFrame({\\\"feature_name\\\": a, \\\"importance_score\\\": b})\\n\\n    # Plot\\n\\n    plt.rcParams[\\\"figure.autolayout\\\"] = True\\n    plt.subplots_adjust(bottom=0.15)\\n\\n    plt.figure(figsize=(20, 10))\\n    df.plot.bar(x=\\\"feature_name\\\", y=\\\"importance_score\\\", legend=None)\\n    plt.title(\\\"Feature Importance\\\")\\n\\n    plt.savefig(\\\"../pic/feature_importances_bar.png\\\", dpi=900)\\n    plt.show()\";\n",
       "                var nbb_cells = Jupyter.notebook.get_cells();\n",
       "                for (var i = 0; i < nbb_cells.length; ++i) {\n",
       "                    if (nbb_cells[i].input_prompt_number == nbb_cell_id) {\n",
       "                        if (nbb_cells[i].get_text() == nbb_unformatted_code) {\n",
       "                             nbb_cells[i].set_text(nbb_formatted_code);\n",
       "                        }\n",
       "                        break;\n",
       "                    }\n",
       "                }\n",
       "            }, 500);\n",
       "            "
      ],
      "text/plain": [
       "<IPython.core.display.Javascript object>"
      ]
     },
     "metadata": {},
     "output_type": "display_data"
    }
   ],
   "source": [
    "def plot_feature_importance(model, X_train, n_features=35):\n",
    "    sorted_importance = sorted(\n",
    "        zip(X_train.columns, model.feature_importances_),\n",
    "        key=lambda t: t[1],\n",
    "        reverse=True,\n",
    "    )\n",
    "\n",
    "    # Get data for the plot (n_features based on your preference)\n",
    "    a, b = zip(*sorted_importance[:n_features])\n",
    "    df = pd.DataFrame({\"feature_name\": a, \"importance_score\": b})\n",
    "\n",
    "    # Plot\n",
    "\n",
    "    plt.rcParams[\"figure.autolayout\"] = True\n",
    "    plt.subplots_adjust(bottom=0.15)\n",
    "\n",
    "    plt.figure(figsize=(20, 10))\n",
    "    df.plot.bar(x=\"feature_name\", y=\"importance_score\", legend=None)\n",
    "    plt.title(\"Feature Importance\")\n",
    "\n",
    "    plt.savefig(\"../pic/feature_importances_bar.png\", dpi=900)\n",
    "    plt.show()"
   ]
  },
  {
   "cell_type": "code",
   "execution_count": 19,
   "id": "d7cb529b",
   "metadata": {},
   "outputs": [
    {
     "data": {
      "text/plain": [
       "RandomForestRegressor(random_state=0)"
      ]
     },
     "execution_count": 19,
     "metadata": {},
     "output_type": "execute_result"
    },
    {
     "data": {
      "application/javascript": [
       "\n",
       "            setTimeout(function() {\n",
       "                var nbb_cell_id = 19;\n",
       "                var nbb_unformatted_code = \"random_forest_model = RandomForestRegressor(random_state=0)\\nrandom_forest_model.fit(X_train, y_train)\";\n",
       "                var nbb_formatted_code = \"random_forest_model = RandomForestRegressor(random_state=0)\\nrandom_forest_model.fit(X_train, y_train)\";\n",
       "                var nbb_cells = Jupyter.notebook.get_cells();\n",
       "                for (var i = 0; i < nbb_cells.length; ++i) {\n",
       "                    if (nbb_cells[i].input_prompt_number == nbb_cell_id) {\n",
       "                        if (nbb_cells[i].get_text() == nbb_unformatted_code) {\n",
       "                             nbb_cells[i].set_text(nbb_formatted_code);\n",
       "                        }\n",
       "                        break;\n",
       "                    }\n",
       "                }\n",
       "            }, 500);\n",
       "            "
      ],
      "text/plain": [
       "<IPython.core.display.Javascript object>"
      ]
     },
     "metadata": {},
     "output_type": "display_data"
    }
   ],
   "source": [
    "random_forest_model = RandomForestRegressor(random_state=0)\n",
    "random_forest_model.fit(X_train, y_train)"
   ]
  },
  {
   "cell_type": "code",
   "execution_count": 107,
   "id": "9c64bb84",
   "metadata": {},
   "outputs": [
    {
     "data": {
      "text/plain": [
       "<Figure size 432x288 with 0 Axes>"
      ]
     },
     "metadata": {},
     "output_type": "display_data"
    },
    {
     "data": {
      "text/plain": [
       "<Figure size 1440x720 with 0 Axes>"
      ]
     },
     "metadata": {},
     "output_type": "display_data"
    },
    {
     "data": {
      "image/png": "[encoded data removed]",
      "text/plain": [
       "<Figure size 432x288 with 1 Axes>"
      ]
     },
     "metadata": {
      "needs_background": "light"
     },
     "output_type": "display_data"
    },
    {
     "data": {
      "application/javascript": [
       "\n",
       "            setTimeout(function() {\n",
       "                var nbb_cell_id = 107;\n",
       "                var nbb_unformatted_code = \"plot_feature_importance(random_forest_model, X_train, n_features=20)\";\n",
       "                var nbb_formatted_code = \"plot_feature_importance(random_forest_model, X_train, n_features=20)\";\n",
       "                var nbb_cells = Jupyter.notebook.get_cells();\n",
       "                for (var i = 0; i < nbb_cells.length; ++i) {\n",
       "                    if (nbb_cells[i].input_prompt_number == nbb_cell_id) {\n",
       "                        if (nbb_cells[i].get_text() == nbb_unformatted_code) {\n",
       "                             nbb_cells[i].set_text(nbb_formatted_code);\n",
       "                        }\n",
       "                        break;\n",
       "                    }\n",
       "                }\n",
       "            }, 500);\n",
       "            "
      ],
      "text/plain": [
       "<IPython.core.display.Javascript object>"
      ]
     },
     "metadata": {},
     "output_type": "display_data"
    }
   ],
   "source": [
    "plot_feature_importance(random_forest_model, X_train, n_features=20)"
   ]
  },
  {
   "cell_type": "markdown",
   "id": "d28079fe",
   "metadata": {},
   "source": [
    "## Comparing Models of Optimal Features Vs All Features"
   ]
  },
  {
   "cell_type": "code",
   "execution_count": 21,
   "id": "5642d3e7",
   "metadata": {},
   "outputs": [
    {
     "data": {
      "application/javascript": [
       "\n",
       "            setTimeout(function() {\n",
       "                var nbb_cell_id = 21;\n",
       "                var nbb_unformatted_code = \"def compare_models(model, X_train, y_train, X_test, y_test, optimal_features_count):\\n    # All features\\n    model.fit(X_train, y_train)\\n    all_features_score = model.score(X_test, y_test)\\n\\n    # Optimal features\\n    sorted_features = feature_importance(model, X_train, y_train)\\n    selected_columns = [col for col, _ in sorted_features][:optimal_features_count]\\n\\n    X_train_optimal = X_train[selected_columns]\\n    X_test_optimal = X_test[selected_columns]\\n\\n    model.fit(X_train_optimal, y_train)\\n    optimal_features_score = model.score(X_test_optimal, y_test)\\n\\n    return all_features_score, optimal_features_score\";\n",
       "                var nbb_formatted_code = \"def compare_models(model, X_train, y_train, X_test, y_test, optimal_features_count):\\n    # All features\\n    model.fit(X_train, y_train)\\n    all_features_score = model.score(X_test, y_test)\\n\\n    # Optimal features\\n    sorted_features = feature_importance(model, X_train, y_train)\\n    selected_columns = [col for col, _ in sorted_features][:optimal_features_count]\\n\\n    X_train_optimal = X_train[selected_columns]\\n    X_test_optimal = X_test[selected_columns]\\n\\n    model.fit(X_train_optimal, y_train)\\n    optimal_features_score = model.score(X_test_optimal, y_test)\\n\\n    return all_features_score, optimal_features_score\";\n",
       "                var nbb_cells = Jupyter.notebook.get_cells();\n",
       "                for (var i = 0; i < nbb_cells.length; ++i) {\n",
       "                    if (nbb_cells[i].input_prompt_number == nbb_cell_id) {\n",
       "                        if (nbb_cells[i].get_text() == nbb_unformatted_code) {\n",
       "                             nbb_cells[i].set_text(nbb_formatted_code);\n",
       "                        }\n",
       "                        break;\n",
       "                    }\n",
       "                }\n",
       "            }, 500);\n",
       "            "
      ],
      "text/plain": [
       "<IPython.core.display.Javascript object>"
      ]
     },
     "metadata": {},
     "output_type": "display_data"
    }
   ],
   "source": [
    "def compare_models(model, X_train, y_train, X_test, y_test, optimal_features_count):\n",
    "    # All features\n",
    "    model.fit(X_train, y_train)\n",
    "    all_features_score = model.score(X_test, y_test)\n",
    "\n",
    "    # Optimal features\n",
    "    sorted_features = feature_importance(model, X_train, y_train)\n",
    "    selected_columns = [col for col, _ in sorted_features][:optimal_features_count]\n",
    "\n",
    "    X_train_optimal = X_train[selected_columns]\n",
    "    X_test_optimal = X_test[selected_columns]\n",
    "\n",
    "    model.fit(X_train_optimal, y_train)\n",
    "    optimal_features_score = model.score(X_test_optimal, y_test)\n",
    "\n",
    "    return all_features_score, optimal_features_score"
   ]
  },
  {
   "cell_type": "code",
   "execution_count": 22,
   "id": "07bfddc1",
   "metadata": {},
   "outputs": [
    {
     "name": "stdout",
     "output_type": "stream",
     "text": [
      "R^2 score using all features:  0.9085632354080178\n",
      "R^2 score using optimal features:  0.9022877721760434\n"
     ]
    },
    {
     "data": {
      "application/javascript": [
       "\n",
       "            setTimeout(function() {\n",
       "                var nbb_cell_id = 22;\n",
       "                var nbb_unformatted_code = \"model = RandomForestRegressor(random_state=0)\\noptimal_features_count = 8  # This from the plot_scores function\\nall_features_score, optimal_features_score = compare_models(\\n    model, X_train, y_train, X_test, y_test, optimal_features_count\\n)\\n\\nprint(\\\"R^2 score using all features: \\\", all_features_score)\\nprint(\\\"R^2 score using optimal features: \\\", optimal_features_score)\";\n",
       "                var nbb_formatted_code = \"model = RandomForestRegressor(random_state=0)\\noptimal_features_count = 8  # This from the plot_scores function\\nall_features_score, optimal_features_score = compare_models(\\n    model, X_train, y_train, X_test, y_test, optimal_features_count\\n)\\n\\nprint(\\\"R^2 score using all features: \\\", all_features_score)\\nprint(\\\"R^2 score using optimal features: \\\", optimal_features_score)\";\n",
       "                var nbb_cells = Jupyter.notebook.get_cells();\n",
       "                for (var i = 0; i < nbb_cells.length; ++i) {\n",
       "                    if (nbb_cells[i].input_prompt_number == nbb_cell_id) {\n",
       "                        if (nbb_cells[i].get_text() == nbb_unformatted_code) {\n",
       "                             nbb_cells[i].set_text(nbb_formatted_code);\n",
       "                        }\n",
       "                        break;\n",
       "                    }\n",
       "                }\n",
       "            }, 500);\n",
       "            "
      ],
      "text/plain": [
       "<IPython.core.display.Javascript object>"
      ]
     },
     "metadata": {},
     "output_type": "display_data"
    }
   ],
   "source": [
    "model = RandomForestRegressor(random_state=0)\n",
    "optimal_features_count = 8  # This from the plot_scores function\n",
    "all_features_score, optimal_features_score = compare_models(\n",
    "    model, X_train, y_train, X_test, y_test, optimal_features_count\n",
    ")\n",
    "\n",
    "print(\"R^2 score using all features: \", all_features_score)\n",
    "print(\"R^2 score using optimal features: \", optimal_features_score)"
   ]
  },
  {
   "cell_type": "markdown",
   "id": "d158d784",
   "metadata": {},
   "source": [
    "The scores show that using all features is best and this is also what the plot shows"
   ]
  },
  {
   "cell_type": "markdown",
   "id": "521144bb",
   "metadata": {},
   "source": [
    "## Checking for Overfitting by Looking at the Train and Test Errors"
   ]
  },
  {
   "cell_type": "code",
   "execution_count": 23,
   "id": "9f484279",
   "metadata": {},
   "outputs": [
    {
     "data": {
      "application/javascript": [
       "\n",
       "            setTimeout(function() {\n",
       "                var nbb_cell_id = 23;\n",
       "                var nbb_unformatted_code = \"def evaluate_model(model, X_train, y_train, X_test, y_test):\\n    # Fit the model on the training set\\n    model.fit(X_train, y_train)\\n\\n    # Make predictions on the train and test sets\\n    y_train_pred = model.predict(X_train)\\n    y_test_pred = model.predict(X_test)\\n\\n    # Calculate the mean squared error for the train and test sets\\n    mse_train = mean_squared_error(y_train, y_train_pred)\\n    mse_test = mean_squared_error(y_test, y_test_pred)\\n\\n    # Calculate the R^2 for the train and test sets\\n    r2_train = r2_score(y_train, y_train_pred)\\n    r2_test = r2_score(y_test, y_test_pred)\\n\\n    print(\\\"The training error (MSE) is: %.5f\\\" % mse_train)\\n    print(\\\"The test     error (MSE) is: %.5f\\\" % mse_test)\\n    print(\\\"The training R^2 is: %.5f\\\" % r2_train)\\n    print(\\\"The test     R^2 is: %.5f\\\" % r2_test)\";\n",
       "                var nbb_formatted_code = \"def evaluate_model(model, X_train, y_train, X_test, y_test):\\n    # Fit the model on the training set\\n    model.fit(X_train, y_train)\\n\\n    # Make predictions on the train and test sets\\n    y_train_pred = model.predict(X_train)\\n    y_test_pred = model.predict(X_test)\\n\\n    # Calculate the mean squared error for the train and test sets\\n    mse_train = mean_squared_error(y_train, y_train_pred)\\n    mse_test = mean_squared_error(y_test, y_test_pred)\\n\\n    # Calculate the R^2 for the train and test sets\\n    r2_train = r2_score(y_train, y_train_pred)\\n    r2_test = r2_score(y_test, y_test_pred)\\n\\n    print(\\\"The training error (MSE) is: %.5f\\\" % mse_train)\\n    print(\\\"The test     error (MSE) is: %.5f\\\" % mse_test)\\n    print(\\\"The training R^2 is: %.5f\\\" % r2_train)\\n    print(\\\"The test     R^2 is: %.5f\\\" % r2_test)\";\n",
       "                var nbb_cells = Jupyter.notebook.get_cells();\n",
       "                for (var i = 0; i < nbb_cells.length; ++i) {\n",
       "                    if (nbb_cells[i].input_prompt_number == nbb_cell_id) {\n",
       "                        if (nbb_cells[i].get_text() == nbb_unformatted_code) {\n",
       "                             nbb_cells[i].set_text(nbb_formatted_code);\n",
       "                        }\n",
       "                        break;\n",
       "                    }\n",
       "                }\n",
       "            }, 500);\n",
       "            "
      ],
      "text/plain": [
       "<IPython.core.display.Javascript object>"
      ]
     },
     "metadata": {},
     "output_type": "display_data"
    }
   ],
   "source": [
    "def evaluate_model(model, X_train, y_train, X_test, y_test):\n",
    "    # Fit the model on the training set\n",
    "    model.fit(X_train, y_train)\n",
    "\n",
    "    # Make predictions on the train and test sets\n",
    "    y_train_pred = model.predict(X_train)\n",
    "    y_test_pred = model.predict(X_test)\n",
    "\n",
    "    # Calculate the mean squared error for the train and test sets\n",
    "    mse_train = mean_squared_error(y_train, y_train_pred)\n",
    "    mse_test = mean_squared_error(y_test, y_test_pred)\n",
    "\n",
    "    # Calculate the R^2 for the train and test sets\n",
    "    r2_train = r2_score(y_train, y_train_pred)\n",
    "    r2_test = r2_score(y_test, y_test_pred)\n",
    "\n",
    "    print(\"The training error (MSE) is: %.5f\" % mse_train)\n",
    "    print(\"The test     error (MSE) is: %.5f\" % mse_test)\n",
    "    print(\"The training R^2 is: %.5f\" % r2_train)\n",
    "    print(\"The test     R^2 is: %.5f\" % r2_test)"
   ]
  },
  {
   "cell_type": "code",
   "execution_count": 24,
   "id": "82b33721",
   "metadata": {},
   "outputs": [
    {
     "name": "stdout",
     "output_type": "stream",
     "text": [
      "The training error (MSE) is: 83862883.22620\n",
      "The test     error (MSE) is: 541415051.26975\n",
      "The training R^2 is: 0.98482\n",
      "The test     R^2 is: 0.90856\n"
     ]
    },
    {
     "data": {
      "application/javascript": [
       "\n",
       "            setTimeout(function() {\n",
       "                var nbb_cell_id = 24;\n",
       "                var nbb_unformatted_code = \"random_forest_model = RandomForestRegressor(random_state=0)\\nevaluate_model(random_forest_model, X_train, y_train, X_test, y_test)\";\n",
       "                var nbb_formatted_code = \"random_forest_model = RandomForestRegressor(random_state=0)\\nevaluate_model(random_forest_model, X_train, y_train, X_test, y_test)\";\n",
       "                var nbb_cells = Jupyter.notebook.get_cells();\n",
       "                for (var i = 0; i < nbb_cells.length; ++i) {\n",
       "                    if (nbb_cells[i].input_prompt_number == nbb_cell_id) {\n",
       "                        if (nbb_cells[i].get_text() == nbb_unformatted_code) {\n",
       "                             nbb_cells[i].set_text(nbb_formatted_code);\n",
       "                        }\n",
       "                        break;\n",
       "                    }\n",
       "                }\n",
       "            }, 500);\n",
       "            "
      ],
      "text/plain": [
       "<IPython.core.display.Javascript object>"
      ]
     },
     "metadata": {},
     "output_type": "display_data"
    }
   ],
   "source": [
    "random_forest_model = RandomForestRegressor(random_state=0)\n",
    "evaluate_model(random_forest_model, X_train, y_train, X_test, y_test)"
   ]
  },
  {
   "cell_type": "markdown",
   "id": "dfff450c",
   "metadata": {},
   "source": [
    "Model is overfitting"
   ]
  },
  {
   "cell_type": "markdown",
   "id": "9749113f",
   "metadata": {},
   "source": [
    "# Tuning the Hyper Parameters"
   ]
  },
  {
   "cell_type": "code",
   "execution_count": 25,
   "id": "056cc000",
   "metadata": {},
   "outputs": [
    {
     "name": "stdout",
     "output_type": "stream",
     "text": [
      "Fitting 5 folds for each of 100 candidates, totalling 500 fits\n",
      "Best parameters found by RandomizedSearchCV:\n",
      "{'n_estimators': 200, 'min_samples_split': 2, 'min_samples_leaf': 4, 'max_features': 'auto', 'max_depth': 60}\n",
      "The training error (MSE) is: 228388361.45073\n",
      "The test     error (MSE) is: 526175096.27153\n",
      "The training R^2 is: 0.95867\n",
      "The test     R^2 is: 0.91114\n"
     ]
    },
    {
     "data": {
      "application/javascript": [
       "\n",
       "            setTimeout(function() {\n",
       "                var nbb_cell_id = 25;\n",
       "                var nbb_unformatted_code = \"# This code is using better parameters and result in a higher test score and lower training score\\n\\nfrom sklearn.model_selection import RandomizedSearchCV\\n\\n\\ndef find_best_params(X_train, y_train):\\n    param_grid = {\\n        \\\"n_estimators\\\": [10, 50, 100, 200],\\n        \\\"max_depth\\\": [10, 20, 30, 40, 50, 60],\\n        \\\"min_samples_split\\\": [2, 5, 10],\\n        \\\"min_samples_leaf\\\": [4, 8, 12],\\n        \\\"max_features\\\": [\\\"auto\\\", \\\"sqrt\\\"],\\n    }\\n\\n    rf = RandomForestRegressor(random_state=0)\\n    randomized_search = RandomizedSearchCV(\\n        estimator=rf,\\n        param_distributions=param_grid,\\n        n_iter=100,\\n        cv=5,\\n        n_jobs=-1,\\n        verbose=2,\\n        scoring=\\\"neg_mean_squared_error\\\",\\n        random_state=0,\\n    )\\n\\n    randomized_search.fit(X_train, y_train)\\n\\n    return randomized_search.best_params_\\n\\n\\nbest_params = find_best_params(X_train, y_train)\\nprint(\\\"Best parameters found by RandomizedSearchCV:\\\")\\nprint(best_params)\\n\\nbest_rf = RandomForestRegressor(**best_params, random_state=0)\\n\\nevaluate_model(best_rf, X_train, y_train, X_test, y_test)\";\n",
       "                var nbb_formatted_code = \"# This code is using better parameters and result in a higher test score and lower training score\\n\\nfrom sklearn.model_selection import RandomizedSearchCV\\n\\n\\ndef find_best_params(X_train, y_train):\\n    param_grid = {\\n        \\\"n_estimators\\\": [10, 50, 100, 200],\\n        \\\"max_depth\\\": [10, 20, 30, 40, 50, 60],\\n        \\\"min_samples_split\\\": [2, 5, 10],\\n        \\\"min_samples_leaf\\\": [4, 8, 12],\\n        \\\"max_features\\\": [\\\"auto\\\", \\\"sqrt\\\"],\\n    }\\n\\n    rf = RandomForestRegressor(random_state=0)\\n    randomized_search = RandomizedSearchCV(\\n        estimator=rf,\\n        param_distributions=param_grid,\\n        n_iter=100,\\n        cv=5,\\n        n_jobs=-1,\\n        verbose=2,\\n        scoring=\\\"neg_mean_squared_error\\\",\\n        random_state=0,\\n    )\\n\\n    randomized_search.fit(X_train, y_train)\\n\\n    return randomized_search.best_params_\\n\\n\\nbest_params = find_best_params(X_train, y_train)\\nprint(\\\"Best parameters found by RandomizedSearchCV:\\\")\\nprint(best_params)\\n\\nbest_rf = RandomForestRegressor(**best_params, random_state=0)\\n\\nevaluate_model(best_rf, X_train, y_train, X_test, y_test)\";\n",
       "                var nbb_cells = Jupyter.notebook.get_cells();\n",
       "                for (var i = 0; i < nbb_cells.length; ++i) {\n",
       "                    if (nbb_cells[i].input_prompt_number == nbb_cell_id) {\n",
       "                        if (nbb_cells[i].get_text() == nbb_unformatted_code) {\n",
       "                             nbb_cells[i].set_text(nbb_formatted_code);\n",
       "                        }\n",
       "                        break;\n",
       "                    }\n",
       "                }\n",
       "            }, 500);\n",
       "            "
      ],
      "text/plain": [
       "<IPython.core.display.Javascript object>"
      ]
     },
     "metadata": {},
     "output_type": "display_data"
    }
   ],
   "source": [
    "# This code is using better parameters and result in a higher test score and lower training score\n",
    "\n",
    "from sklearn.model_selection import RandomizedSearchCV\n",
    "\n",
    "\n",
    "def find_best_params(X_train, y_train):\n",
    "    param_grid = {\n",
    "        \"n_estimators\": [10, 50, 100, 200],\n",
    "        \"max_depth\": [10, 20, 30, 40, 50, 60],\n",
    "        \"min_samples_split\": [2, 5, 10],\n",
    "        \"min_samples_leaf\": [4, 8, 12],\n",
    "        \"max_features\": [\"auto\", \"sqrt\"],\n",
    "    }\n",
    "\n",
    "    rf = RandomForestRegressor(random_state=0)\n",
    "    randomized_search = RandomizedSearchCV(\n",
    "        estimator=rf,\n",
    "        param_distributions=param_grid,\n",
    "        n_iter=100,\n",
    "        cv=5,\n",
    "        n_jobs=-1,\n",
    "        verbose=2,\n",
    "        scoring=\"neg_mean_squared_error\",\n",
    "        random_state=0,\n",
    "    )\n",
    "\n",
    "    randomized_search.fit(X_train, y_train)\n",
    "\n",
    "    return randomized_search.best_params_\n",
    "\n",
    "\n",
    "best_params = find_best_params(X_train, y_train)\n",
    "print(\"Best parameters found by RandomizedSearchCV:\")\n",
    "print(best_params)\n",
    "\n",
    "best_rf = RandomForestRegressor(**best_params, random_state=0)\n",
    "\n",
    "evaluate_model(best_rf, X_train, y_train, X_test, y_test)"
   ]
  },
  {
   "cell_type": "markdown",
   "id": "e0b4edf6",
   "metadata": {},
   "source": [
    "## Vizualizing Tuned Parameters"
   ]
  },
  {
   "cell_type": "code",
   "execution_count": 83,
   "id": "c637a732",
   "metadata": {},
   "outputs": [
    {
     "name": "stdout",
     "output_type": "stream",
     "text": [
      "Fitting 5 folds for each of 100 candidates, totalling 500 fits\n"
     ]
    },
    {
     "data": {
      "text/plain": [
       "RandomizedSearchCV(cv=5, estimator=RandomForestRegressor(random_state=0),\n",
       "                   n_iter=100, n_jobs=-1,\n",
       "                   param_distributions={'max_depth': [40, 50, 60],\n",
       "                                        'max_features': ['auto', 'sqrt'],\n",
       "                                        'min_samples_leaf': [4, 8, 12],\n",
       "                                        'min_samples_split': [2, 5, 10],\n",
       "                                        'n_estimators': [50, 100, 200]},\n",
       "                   random_state=0, scoring='neg_mean_squared_error', verbose=2)"
      ]
     },
     "execution_count": 83,
     "metadata": {},
     "output_type": "execute_result"
    },
    {
     "data": {
      "application/javascript": [
       "\n",
       "            setTimeout(function() {\n",
       "                var nbb_cell_id = 83;\n",
       "                var nbb_unformatted_code = \"param_grid = {\\n    \\\"n_estimators\\\": [50, 100, 200],\\n    \\\"max_depth\\\": [40, 50, 60],\\n    \\\"min_samples_split\\\": [2, 5, 10],\\n    \\\"min_samples_leaf\\\": [4, 8, 12],\\n    \\\"max_features\\\": [\\\"auto\\\", \\\"sqrt\\\"],\\n}\\n\\nrf = RandomForestRegressor(random_state=0)\\nbest_rf_GS = RandomizedSearchCV(\\n    estimator=rf,\\n    param_distributions=param_grid,\\n    n_iter=100,\\n    cv=5,\\n    n_jobs=-1,\\n    verbose=2,\\n    scoring=\\\"neg_mean_squared_error\\\",\\n    random_state=0,\\n)\\nbest_rf_GS.fit(X_train, y_train)\";\n",
       "                var nbb_formatted_code = \"param_grid = {\\n    \\\"n_estimators\\\": [50, 100, 200],\\n    \\\"max_depth\\\": [40, 50, 60],\\n    \\\"min_samples_split\\\": [2, 5, 10],\\n    \\\"min_samples_leaf\\\": [4, 8, 12],\\n    \\\"max_features\\\": [\\\"auto\\\", \\\"sqrt\\\"],\\n}\\n\\nrf = RandomForestRegressor(random_state=0)\\nbest_rf_GS = RandomizedSearchCV(\\n    estimator=rf,\\n    param_distributions=param_grid,\\n    n_iter=100,\\n    cv=5,\\n    n_jobs=-1,\\n    verbose=2,\\n    scoring=\\\"neg_mean_squared_error\\\",\\n    random_state=0,\\n)\\nbest_rf_GS.fit(X_train, y_train)\";\n",
       "                var nbb_cells = Jupyter.notebook.get_cells();\n",
       "                for (var i = 0; i < nbb_cells.length; ++i) {\n",
       "                    if (nbb_cells[i].input_prompt_number == nbb_cell_id) {\n",
       "                        if (nbb_cells[i].get_text() == nbb_unformatted_code) {\n",
       "                             nbb_cells[i].set_text(nbb_formatted_code);\n",
       "                        }\n",
       "                        break;\n",
       "                    }\n",
       "                }\n",
       "            }, 500);\n",
       "            "
      ],
      "text/plain": [
       "<IPython.core.display.Javascript object>"
      ]
     },
     "metadata": {},
     "output_type": "display_data"
    }
   ],
   "source": [
    "param_grid = {\n",
    "    \"n_estimators\": [50, 100, 200],\n",
    "    \"max_depth\": [40, 50, 60],\n",
    "    \"min_samples_split\": [2, 5, 10],\n",
    "    \"min_samples_leaf\": [4, 8, 12],\n",
    "    \"max_features\": [\"auto\", \"sqrt\"],\n",
    "}\n",
    "\n",
    "rf = RandomForestRegressor(random_state=0)\n",
    "best_rf_GS = RandomizedSearchCV(\n",
    "    estimator=rf,\n",
    "    param_distributions=param_grid,\n",
    "    n_iter=100,\n",
    "    cv=5,\n",
    "    n_jobs=-1,\n",
    "    verbose=2,\n",
    "    scoring=\"neg_mean_squared_error\",\n",
    "    random_state=0,\n",
    ")\n",
    "best_rf_GS.fit(X_train, y_train)"
   ]
  },
  {
   "cell_type": "code",
   "execution_count": 84,
   "id": "426fa136",
   "metadata": {},
   "outputs": [
    {
     "data": {
      "text/plain": [
       "{'n_estimators': 200,\n",
       " 'min_samples_split': 2,\n",
       " 'min_samples_leaf': 4,\n",
       " 'max_features': 'auto',\n",
       " 'max_depth': 50}"
      ]
     },
     "execution_count": 84,
     "metadata": {},
     "output_type": "execute_result"
    },
    {
     "data": {
      "application/javascript": [
       "\n",
       "            setTimeout(function() {\n",
       "                var nbb_cell_id = 84;\n",
       "                var nbb_unformatted_code = \"best_rf_GS.best_params_\";\n",
       "                var nbb_formatted_code = \"best_rf_GS.best_params_\";\n",
       "                var nbb_cells = Jupyter.notebook.get_cells();\n",
       "                for (var i = 0; i < nbb_cells.length; ++i) {\n",
       "                    if (nbb_cells[i].input_prompt_number == nbb_cell_id) {\n",
       "                        if (nbb_cells[i].get_text() == nbb_unformatted_code) {\n",
       "                             nbb_cells[i].set_text(nbb_formatted_code);\n",
       "                        }\n",
       "                        break;\n",
       "                    }\n",
       "                }\n",
       "            }, 500);\n",
       "            "
      ],
      "text/plain": [
       "<IPython.core.display.Javascript object>"
      ]
     },
     "metadata": {},
     "output_type": "display_data"
    }
   ],
   "source": [
    "best_rf_GS.best_params_"
   ]
  },
  {
   "cell_type": "markdown",
   "id": "d53d7440",
   "metadata": {},
   "source": [
    "#### max_depth and n_estimators"
   ]
  },
  {
   "cell_type": "code",
   "execution_count": 85,
   "id": "1a5aa1e2",
   "metadata": {},
   "outputs": [
    {
     "data": {
      "image/png": "[encoded data removed]",
      "text/plain": [
       "<Figure size 432x288 with 2 Axes>"
      ]
     },
     "metadata": {
      "needs_background": "light"
     },
     "output_type": "display_data"
    },
    {
     "data": {
      "application/javascript": [
       "\n",
       "            setTimeout(function() {\n",
       "                var nbb_cell_id = 85;\n",
       "                var nbb_unformatted_code = \"results = pd.DataFrame(best_rf_GS.cv_results_)\\ntable = pd.pivot_table(\\n    results,\\n    values=\\\"mean_test_score\\\",\\n    index=\\\"param_max_depth\\\",\\n    columns=\\\"param_n_estimators\\\",\\n)\\nsns.heatmap(\\n    table,\\n    annot=True,\\n    fmt=\\\".4g\\\",\\n    cmap=\\\"coolwarm\\\",\\n    cbar_kws={\\\"format\\\": ticker.ScalarFormatter(useMathText=False)},\\n)\\n\\nplt.xlabel(\\\"n_estimators\\\")\\nplt.ylabel(\\\"max_depth\\\")\\n\\nplt.savefig(\\\"../pic/max_depth-n_estimators-heatmap.png\\\", dpi=900)\\nplt.show()\";\n",
       "                var nbb_formatted_code = \"results = pd.DataFrame(best_rf_GS.cv_results_)\\ntable = pd.pivot_table(\\n    results,\\n    values=\\\"mean_test_score\\\",\\n    index=\\\"param_max_depth\\\",\\n    columns=\\\"param_n_estimators\\\",\\n)\\nsns.heatmap(\\n    table,\\n    annot=True,\\n    fmt=\\\".4g\\\",\\n    cmap=\\\"coolwarm\\\",\\n    cbar_kws={\\\"format\\\": ticker.ScalarFormatter(useMathText=False)},\\n)\\n\\nplt.xlabel(\\\"n_estimators\\\")\\nplt.ylabel(\\\"max_depth\\\")\\n\\nplt.savefig(\\\"../pic/max_depth-n_estimators-heatmap.png\\\", dpi=900)\\nplt.show()\";\n",
       "                var nbb_cells = Jupyter.notebook.get_cells();\n",
       "                for (var i = 0; i < nbb_cells.length; ++i) {\n",
       "                    if (nbb_cells[i].input_prompt_number == nbb_cell_id) {\n",
       "                        if (nbb_cells[i].get_text() == nbb_unformatted_code) {\n",
       "                             nbb_cells[i].set_text(nbb_formatted_code);\n",
       "                        }\n",
       "                        break;\n",
       "                    }\n",
       "                }\n",
       "            }, 500);\n",
       "            "
      ],
      "text/plain": [
       "<IPython.core.display.Javascript object>"
      ]
     },
     "metadata": {},
     "output_type": "display_data"
    }
   ],
   "source": [
    "results = pd.DataFrame(best_rf_GS.cv_results_)\n",
    "table = pd.pivot_table(\n",
    "    results,\n",
    "    values=\"mean_test_score\",\n",
    "    index=\"param_max_depth\",\n",
    "    columns=\"param_n_estimators\",\n",
    ")\n",
    "sns.heatmap(\n",
    "    table,\n",
    "    annot=True,\n",
    "    fmt=\".4g\",\n",
    "    cmap=\"coolwarm\",\n",
    "    cbar_kws={\"format\": ticker.ScalarFormatter(useMathText=False)},\n",
    ")\n",
    "\n",
    "plt.xlabel(\"n_estimators\")\n",
    "plt.ylabel(\"max_depth\")\n",
    "\n",
    "plt.savefig(\"../pic/max_depth-n_estimators-heatmap.png\", dpi=900)\n",
    "plt.show()"
   ]
  },
  {
   "cell_type": "markdown",
   "id": "408bea1d",
   "metadata": {},
   "source": [
    "#### min_samples_split"
   ]
  },
  {
   "cell_type": "code",
   "execution_count": 86,
   "id": "a1f98cf7",
   "metadata": {},
   "outputs": [
    {
     "name": "stdout",
     "output_type": "stream",
     "text": [
      "Fitting 5 folds for each of 100 candidates, totalling 500 fits\n",
      "Fitting 5 folds for each of 100 candidates, totalling 500 fits\n",
      "[CV] END max_depth=30, max_features=auto, min_samples_leaf=4, min_samples_split=10, n_estimators=100; total time=   1.0s\n",
      "[CV] END max_depth=30, max_features=sqrt, min_samples_leaf=8, min_samples_split=5, n_estimators=200; total time=   0.4s\n",
      "[CV] END max_depth=30, max_features=auto, min_samples_leaf=4, min_samples_split=10, n_estimators=50; total time=   0.6s\n",
      "[CV] END max_depth=50, max_features=sqrt, min_samples_leaf=12, min_samples_split=2, n_estimators=100; total time=   0.2s\n",
      "[CV] END max_depth=20, max_features=auto, min_samples_leaf=12, min_samples_split=10, n_estimators=200; total time=   1.6s\n",
      "[CV] END max_depth=50, max_features=auto, min_samples_leaf=12, min_samples_split=5, n_estimators=200; total time=   1.6s\n",
      "[CV] END max_depth=30, max_features=sqrt, min_samples_leaf=8, min_samples_split=2, n_estimators=100; total time=   0.2s\n",
      "[CV] END max_depth=20, max_features=auto, min_samples_leaf=12, min_samples_split=5, n_estimators=10; total time=   0.1s\n",
      "[CV] END max_depth=30, max_features=sqrt, min_samples_leaf=4, min_samples_split=10, n_estimators=10; total time=   0.0s\n",
      "[CV] END max_depth=30, max_features=sqrt, min_samples_leaf=12, min_samples_split=2, n_estimators=50; total time=   0.1s\n",
      "[CV] END max_depth=60, max_features=auto, min_samples_leaf=12, min_samples_split=10, n_estimators=100; total time=   0.8s\n",
      "[CV] END max_depth=10, max_features=auto, min_samples_leaf=4, min_samples_split=2, n_estimators=50; total time=   0.5s\n",
      "[CV] END max_depth=10, max_features=sqrt, min_samples_leaf=4, min_samples_split=2, n_estimators=50; total time=   0.1s\n",
      "[CV] END max_depth=50, max_features=sqrt, min_samples_leaf=4, min_samples_split=2, n_estimators=100; total time=   0.2s\n",
      "[CV] END max_depth=30, max_features=auto, min_samples_leaf=8, min_samples_split=5, n_estimators=10; total time=   0.1s\n",
      "[CV] END max_depth=50, max_features=auto, min_samples_leaf=12, min_samples_split=2, n_estimators=10; total time=   0.1s\n",
      "[CV] END max_depth=10, max_features=auto, min_samples_leaf=8, min_samples_split=2, n_estimators=10; total time=   0.1s\n",
      "[CV] END max_depth=40, max_features=sqrt, min_samples_leaf=12, min_samples_split=5, n_estimators=100; total time=   0.2s\n",
      "[CV] END max_depth=30, max_features=auto, min_samples_leaf=12, min_samples_split=5, n_estimators=200; total time=   1.6s\n",
      "[CV] END max_depth=60, max_features=auto, min_samples_leaf=4, min_samples_split=2, n_estimators=200; total time=   2.1s\n",
      "[CV] END max_depth=20, max_features=auto, min_samples_leaf=4, min_samples_split=5, n_estimators=100; total time=   1.0s\n",
      "[CV] END max_depth=20, max_features=sqrt, min_samples_leaf=12, min_samples_split=2, n_estimators=200; total time=   0.3s\n",
      "[CV] END max_depth=20, max_features=auto, min_samples_leaf=12, min_samples_split=2, n_estimators=10; total time=   0.1s\n",
      "[CV] END max_depth=10, max_features=sqrt, min_samples_leaf=12, min_samples_split=2, n_estimators=10; total time=   0.0s\n",
      "[CV] END max_depth=60, max_features=auto, min_samples_leaf=4, min_samples_split=5, n_estimators=100; total time=   0.9s\n",
      "[CV] END max_depth=40, max_features=sqrt, min_samples_leaf=8, min_samples_split=10, n_estimators=100; total time=   0.2s\n",
      "[CV] END max_depth=40, max_features=sqrt, min_samples_leaf=8, min_samples_split=10, n_estimators=100; total time=   0.2s\n",
      "[CV] END max_depth=50, max_features=auto, min_samples_leaf=12, min_samples_split=10, n_estimators=10; total time=   0.1s\n",
      "[CV] END max_depth=60, max_features=auto, min_samples_leaf=8, min_samples_split=2, n_estimators=100; total time=   0.8s\n",
      "[CV] END max_depth=20, max_features=sqrt, min_samples_leaf=8, min_samples_split=2, n_estimators=100; total time=   0.2s\n",
      "[CV] END max_depth=40, max_features=sqrt, min_samples_leaf=4, min_samples_split=5, n_estimators=200; total time=   0.4s\n",
      "[CV] END max_depth=50, max_features=sqrt, min_samples_leaf=4, min_samples_split=5, n_estimators=100; total time=   0.2s\n",
      "[CV] END max_depth=30, max_features=auto, min_samples_leaf=8, min_samples_split=10, n_estimators=10; total time=   0.1s\n",
      "[CV] END max_depth=30, max_features=auto, min_samples_leaf=8, min_samples_split=10, n_estimators=10; total time=   0.1s\n",
      "[CV] END max_depth=60, max_features=sqrt, min_samples_leaf=8, min_samples_split=5, n_estimators=200; total time=   0.3s\n",
      "[CV] END max_depth=50, max_features=sqrt, min_samples_leaf=12, min_samples_split=5, n_estimators=10; total time=   0.0s\n",
      "[CV] END max_depth=50, max_features=sqrt, min_samples_leaf=12, min_samples_split=5, n_estimators=10; total time=   0.0s\n",
      "[CV] END max_depth=50, max_features=sqrt, min_samples_leaf=12, min_samples_split=5, n_estimators=10; total time=   0.0s\n",
      "[CV] END max_depth=50, max_features=sqrt, min_samples_leaf=8, min_samples_split=5, n_estimators=10; total time=   0.0s\n",
      "[CV] END max_depth=60, max_features=sqrt, min_samples_leaf=4, min_samples_split=5, n_estimators=100; total time=   0.2s\n",
      "[CV] END max_depth=10, max_features=sqrt, min_samples_leaf=12, min_samples_split=5, n_estimators=50; total time=   0.1s\n",
      "[CV] END max_depth=30, max_features=sqrt, min_samples_leaf=8, min_samples_split=5, n_estimators=100; total time=   0.2s\n",
      "[CV] END max_depth=60, max_features=sqrt, min_samples_leaf=12, min_samples_split=10, n_estimators=200; total time=   0.3s\n",
      "[CV] END max_depth=40, max_features=auto, min_samples_leaf=4, min_samples_split=10, n_estimators=50; total time=   0.4s\n",
      "[CV] END max_depth=20, max_features=auto, min_samples_leaf=4, min_samples_split=5, n_estimators=10; total time=   0.1s\n",
      "[CV] END max_depth=30, max_features=auto, min_samples_leaf=12, min_samples_split=10, n_estimators=200; total time=   1.4s\n",
      "[CV] END max_depth=10, max_features=auto, min_samples_leaf=12, min_samples_split=2, n_estimators=100; total time=   0.7s\n",
      "[CV] END max_depth=10, max_features=auto, min_samples_leaf=4, min_samples_split=5, n_estimators=10; total time=   0.1s\n",
      "[CV] END max_depth=10, max_features=auto, min_samples_leaf=4, min_samples_split=5, n_estimators=10; total time=   0.1s\n",
      "[CV] END max_depth=10, max_features=auto, min_samples_leaf=4, min_samples_split=5, n_estimators=10; total time=   0.1s\n",
      "[CV] END max_depth=50, max_features=auto, min_samples_leaf=12, min_samples_split=2, n_estimators=200; total time=   1.4s\n",
      "[CV] END max_depth=40, max_features=auto, min_samples_leaf=8, min_samples_split=5, n_estimators=50; total time=   0.4s\n",
      "[CV] END max_depth=20, max_features=sqrt, min_samples_leaf=8, min_samples_split=5, n_estimators=10; total time=   0.0s\n",
      "[CV] END max_depth=20, max_features=sqrt, min_samples_leaf=8, min_samples_split=5, n_estimators=10; total time=   0.0s\n",
      "[CV] END max_depth=20, max_features=sqrt, min_samples_leaf=8, min_samples_split=5, n_estimators=10; total time=   0.0s\n",
      "[CV] END max_depth=20, max_features=sqrt, min_samples_leaf=8, min_samples_split=5, n_estimators=10; total time=   0.0s\n",
      "[CV] END max_depth=60, max_features=auto, min_samples_leaf=8, min_samples_split=5, n_estimators=100; total time=   0.8s\n",
      "[CV] END max_depth=10, max_features=auto, min_samples_leaf=4, min_samples_split=5, n_estimators=50; total time=   0.4s\n",
      "[CV] END max_depth=20, max_features=sqrt, min_samples_leaf=4, min_samples_split=5, n_estimators=50; total time=   0.1s\n",
      "[CV] END max_depth=20, max_features=sqrt, min_samples_leaf=4, min_samples_split=5, n_estimators=50; total time=   0.1s\n",
      "[CV] END max_depth=20, max_features=sqrt, min_samples_leaf=12, min_samples_split=2, n_estimators=100; total time=   0.2s\n",
      "[CV] END max_depth=10, max_features=auto, min_samples_leaf=4, min_samples_split=5, n_estimators=200; total time=   1.7s\n",
      "[CV] END max_depth=50, max_features=auto, min_samples_leaf=8, min_samples_split=5, n_estimators=50; total time=   0.4s\n",
      "[CV] END max_depth=60, max_features=sqrt, min_samples_leaf=8, min_samples_split=2, n_estimators=100; total time=   0.2s\n",
      "[CV] END max_depth=40, max_features=auto, min_samples_leaf=4, min_samples_split=10, n_estimators=100; total time=   0.9s\n",
      "[CV] END max_depth=40, max_features=sqrt, min_samples_leaf=8, min_samples_split=10, n_estimators=200; total time=   0.3s\n",
      "[CV] END max_depth=60, max_features=auto, min_samples_leaf=8, min_samples_split=10, n_estimators=100; total time=   0.7s\n",
      "[CV] END max_depth=60, max_features=sqrt, min_samples_leaf=12, min_samples_split=10, n_estimators=50; total time=   0.1s\n",
      "[CV] END max_depth=60, max_features=sqrt, min_samples_leaf=12, min_samples_split=10, n_estimators=50; total time=   0.1s\n",
      "[CV] END max_depth=60, max_features=sqrt, min_samples_leaf=12, min_samples_split=10, n_estimators=50; total time=   0.1s\n",
      "[CV] END max_depth=60, max_features=sqrt, min_samples_leaf=12, min_samples_split=10, n_estimators=50; total time=   0.1s\n",
      "[CV] END max_depth=50, max_features=sqrt, min_samples_leaf=4, min_samples_split=5, n_estimators=200; total time=   0.4s\n",
      "[CV] END max_depth=60, max_features=sqrt, min_samples_leaf=4, min_samples_split=2, n_estimators=50; total time=   0.1s\n",
      "[CV] END max_depth=50, max_features=sqrt, min_samples_leaf=8, min_samples_split=5, n_estimators=50; total time=   0.1s\n",
      "[CV] END max_depth=40, max_features=auto, min_samples_leaf=12, min_samples_split=10, n_estimators=200; total time=   1.3s\n",
      "[CV] END max_depth=60, max_features=sqrt, min_samples_leaf=8, min_samples_split=5, n_estimators=50; total time=   0.1s\n",
      "[CV] END max_depth=60, max_features=sqrt, min_samples_leaf=8, min_samples_split=5, n_estimators=50; total time=   0.1s\n",
      "[CV] END max_depth=50, max_features=auto, min_samples_leaf=8, min_samples_split=2, n_estimators=50; total time=   0.4s\n",
      "[CV] END max_depth=40, max_features=sqrt, min_samples_leaf=12, min_samples_split=10, n_estimators=50; total time=   0.1s\n",
      "[CV] END max_depth=40, max_features=sqrt, min_samples_leaf=12, min_samples_split=10, n_estimators=50; total time=   0.1s\n",
      "[CV] END max_depth=50, max_features=sqrt, min_samples_leaf=8, min_samples_split=10, n_estimators=200; total time=   0.3s\n",
      "[CV] END max_depth=60, max_features=auto, min_samples_leaf=4, min_samples_split=5, n_estimators=50; total time=   0.5s\n",
      "[CV] END max_depth=40, max_features=sqrt, min_samples_leaf=12, min_samples_split=2, n_estimators=50; total time=   0.1s\n",
      "[CV] END max_depth=40, max_features=sqrt, min_samples_leaf=12, min_samples_split=2, n_estimators=50; total time=   0.1s\n",
      "[CV] END max_depth=50, max_features=auto, min_samples_leaf=4, min_samples_split=2, n_estimators=200; total time=   1.8s\n",
      "[CV] END max_depth=40, max_features=sqrt, min_samples_leaf=8, min_samples_split=2, n_estimators=100; total time=   0.2s\n",
      "[CV] END max_depth=40, max_features=sqrt, min_samples_leaf=8, min_samples_split=2, n_estimators=100; total time=   0.2s\n",
      "[CV] END max_depth=40, max_features=sqrt, min_samples_leaf=4, min_samples_split=10, n_estimators=50; total time=   0.1s\n",
      "[CV] END max_depth=40, max_features=sqrt, min_samples_leaf=4, min_samples_split=10, n_estimators=50; total time=   0.1s\n",
      "[CV] END max_depth=60, max_features=sqrt, min_samples_leaf=8, min_samples_split=5, n_estimators=200; total time=   0.3s\n",
      "[CV] END max_depth=50, max_features=sqrt, min_samples_leaf=12, min_samples_split=2, n_estimators=100; total time=   0.1s\n",
      "[CV] END max_depth=60, max_features=auto, min_samples_leaf=8, min_samples_split=10, n_estimators=50; total time=   0.4s\n",
      "[CV] END max_depth=60, max_features=sqrt, min_samples_leaf=4, min_samples_split=2, n_estimators=200; total time=   0.4s\n",
      "[CV] END max_depth=40, max_features=auto, min_samples_leaf=12, min_samples_split=10, n_estimators=50; total time=   0.3s\n",
      "[CV] END max_depth=50, max_features=auto, min_samples_leaf=4, min_samples_split=2, n_estimators=50; total time=   0.5s\n",
      "[CV] END max_depth=60, max_features=sqrt, min_samples_leaf=8, min_samples_split=2, n_estimators=200; total time=   0.3s\n",
      "[CV] END max_depth=60, max_features=auto, min_samples_leaf=4, min_samples_split=5, n_estimators=100; total time=   0.9s\n",
      "[CV] END max_depth=40, max_features=auto, min_samples_leaf=8, min_samples_split=10, n_estimators=100; total time=   0.7s\n",
      "[CV] END max_depth=50, max_features=sqrt, min_samples_leaf=12, min_samples_split=10, n_estimators=100; total time=   0.1s\n",
      "[CV] END max_depth=50, max_features=sqrt, min_samples_leaf=12, min_samples_split=10, n_estimators=100; total time=   0.1s\n",
      "[CV] END max_depth=50, max_features=sqrt, min_samples_leaf=12, min_samples_split=10, n_estimators=100; total time=   0.2s\n",
      "[CV] END max_depth=40, max_features=sqrt, min_samples_leaf=8, min_samples_split=5, n_estimators=100; total time=   0.2s\n",
      "[CV] END max_depth=40, max_features=auto, min_samples_leaf=12, min_samples_split=5, n_estimators=100; total time=   0.7s\n",
      "[CV] END max_depth=60, max_features=auto, min_samples_leaf=4, min_samples_split=5, n_estimators=200; total time=   1.8s\n",
      "[CV] END max_depth=40, max_features=sqrt, min_samples_leaf=4, min_samples_split=2, n_estimators=50; total time=   0.1s\n",
      "[CV] END max_depth=40, max_features=sqrt, min_samples_leaf=4, min_samples_split=2, n_estimators=50; total time=   0.1s\n",
      "[CV] END max_depth=60, max_features=auto, min_samples_leaf=8, min_samples_split=5, n_estimators=50; total time=   0.4s\n",
      "[CV] END max_depth=50, max_features=auto, min_samples_leaf=4, min_samples_split=2, n_estimators=100; total time=   0.9s\n",
      "[CV] END max_depth=40, max_features=sqrt, min_samples_leaf=4, min_samples_split=5, n_estimators=50; total time=   0.1s\n",
      "[CV] END max_depth=50, max_features=sqrt, min_samples_leaf=4, min_samples_split=10, n_estimators=200; total time=   0.4s\n",
      "[CV] END max_depth=40, max_features=auto, min_samples_leaf=4, min_samples_split=2, n_estimators=200; total time=   1.8s\n",
      "[CV] END max_depth=50, max_features=sqrt, min_samples_leaf=4, min_samples_split=2, n_estimators=200; total time=   0.4s\n",
      "[CV] END max_depth=50, max_features=sqrt, min_samples_leaf=4, min_samples_split=2, n_estimators=200; total time=   0.4s\n",
      "[CV] END max_depth=40, max_features=sqrt, min_samples_leaf=8, min_samples_split=10, n_estimators=100; total time=   0.2s\n",
      "[CV] END max_depth=60, max_features=sqrt, min_samples_leaf=4, min_samples_split=10, n_estimators=200; total time=   0.4s\n",
      "[CV] END max_depth=50, max_features=auto, min_samples_leaf=12, min_samples_split=2, n_estimators=100; total time=   0.7s\n",
      "[CV] END max_depth=50, max_features=sqrt, min_samples_leaf=8, min_samples_split=10, n_estimators=100; total time=   0.2s\n",
      "[CV] END max_depth=50, max_features=sqrt, min_samples_leaf=8, min_samples_split=2, n_estimators=50; total time=   0.1s\n",
      "[CV] END max_depth=60, max_features=auto, min_samples_leaf=12, min_samples_split=5, n_estimators=50; total time=   0.3s\n",
      "[CV] END max_depth=60, max_features=auto, min_samples_leaf=12, min_samples_split=2, n_estimators=50; total time=   0.3s\n",
      "[CV] END max_depth=40, max_features=sqrt, min_samples_leaf=12, min_samples_split=5, n_estimators=200; total time=   0.3s\n",
      "[CV] END max_depth=50, max_features=sqrt, min_samples_leaf=12, min_samples_split=10, n_estimators=200; total time=   0.3s\n",
      "[CV] END max_depth=60, max_features=sqrt, min_samples_leaf=8, min_samples_split=5, n_estimators=100; total time=   0.2s\n",
      "[CV] END max_depth=50, max_features=auto, min_samples_leaf=8, min_samples_split=2, n_estimators=100; total time=   0.8s\n",
      "[CV] END max_depth=50, max_features=auto, min_samples_leaf=8, min_samples_split=10, n_estimators=50; total time=   0.4s\n",
      "[CV] END max_depth=40, max_features=sqrt, min_samples_leaf=12, min_samples_split=5, n_estimators=100; total time=   0.2s\n",
      "[CV] END max_depth=40, max_features=sqrt, min_samples_leaf=12, min_samples_split=5, n_estimators=50; total time=   0.1s\n",
      "[CV] END max_depth=40, max_features=sqrt, min_samples_leaf=12, min_samples_split=5, n_estimators=50; total time=   0.1s\n",
      "[CV] END max_depth=40, max_features=auto, min_samples_leaf=8, min_samples_split=5, n_estimators=100; total time=   0.8s\n",
      "[CV] END max_depth=60, max_features=auto, min_samples_leaf=8, min_samples_split=2, n_estimators=200; total time=   1.6s\n",
      "[CV] END max_depth=60, max_features=sqrt, min_samples_leaf=4, min_samples_split=10, n_estimators=50; total time=   0.1s\n",
      "[CV] END max_depth=60, max_features=sqrt, min_samples_leaf=4, min_samples_split=10, n_estimators=50; total time=   0.1s\n",
      "[CV] END max_depth=40, max_features=auto, min_samples_leaf=12, min_samples_split=2, n_estimators=200; total time=   1.4s\n",
      "[CV] END max_depth=40, max_features=auto, min_samples_leaf=4, min_samples_split=5, n_estimators=50; total time=   0.5s\n",
      "[CV] END max_depth=60, max_features=sqrt, min_samples_leaf=12, min_samples_split=10, n_estimators=200; total time=   0.3s\n",
      "[CV] END max_depth=50, max_features=sqrt, min_samples_leaf=8, min_samples_split=5, n_estimators=100; total time=   0.2s\n"
     ]
    },
    {
     "name": "stdout",
     "output_type": "stream",
     "text": [
      "[CV] END max_depth=60, max_features=auto, min_samples_leaf=12, min_samples_split=5, n_estimators=100; total time=   0.8s\n",
      "[CV] END max_depth=10, max_features=sqrt, min_samples_leaf=8, min_samples_split=5, n_estimators=100; total time=   0.2s\n",
      "[CV] END max_depth=10, max_features=auto, min_samples_leaf=4, min_samples_split=10, n_estimators=100; total time=   1.0s\n",
      "[CV] END max_depth=20, max_features=auto, min_samples_leaf=12, min_samples_split=5, n_estimators=100; total time=   0.8s\n",
      "[CV] END max_depth=30, max_features=auto, min_samples_leaf=8, min_samples_split=2, n_estimators=50; total time=   0.4s\n",
      "[CV] END max_depth=10, max_features=auto, min_samples_leaf=8, min_samples_split=10, n_estimators=50; total time=   0.5s\n",
      "[CV] END max_depth=50, max_features=auto, min_samples_leaf=12, min_samples_split=5, n_estimators=50; total time=   0.4s\n",
      "[CV] END max_depth=40, max_features=auto, min_samples_leaf=8, min_samples_split=2, n_estimators=200; total time=   1.8s\n",
      "[CV] END max_depth=60, max_features=auto, min_samples_leaf=12, min_samples_split=2, n_estimators=50; total time=   0.4s\n",
      "[CV] END max_depth=50, max_features=auto, min_samples_leaf=8, min_samples_split=10, n_estimators=10; total time=   0.1s\n",
      "[CV] END max_depth=20, max_features=auto, min_samples_leaf=8, min_samples_split=5, n_estimators=100; total time=   0.9s\n",
      "[CV] END max_depth=30, max_features=auto, min_samples_leaf=4, min_samples_split=5, n_estimators=100; total time=   1.0s\n",
      "[CV] END max_depth=60, max_features=sqrt, min_samples_leaf=12, min_samples_split=5, n_estimators=200; total time=   0.4s\n",
      "[CV] END max_depth=40, max_features=auto, min_samples_leaf=4, min_samples_split=5, n_estimators=10; total time=   0.1s\n",
      "[CV] END max_depth=30, max_features=auto, min_samples_leaf=4, min_samples_split=10, n_estimators=200; total time=   2.1s\n",
      "[CV] END max_depth=50, max_features=sqrt, min_samples_leaf=12, min_samples_split=2, n_estimators=200; total time=   0.4s\n",
      "[CV] END max_depth=30, max_features=auto, min_samples_leaf=8, min_samples_split=2, n_estimators=100; total time=   0.9s\n",
      "[CV] END max_depth=60, max_features=sqrt, min_samples_leaf=8, min_samples_split=10, n_estimators=50; total time=   0.1s\n",
      "[CV] END max_depth=60, max_features=auto, min_samples_leaf=4, min_samples_split=5, n_estimators=50; total time=   0.5s\n",
      "[CV] END max_depth=10, max_features=auto, min_samples_leaf=8, min_samples_split=2, n_estimators=200; total time=   1.7s\n",
      "[CV] END max_depth=50, max_features=auto, min_samples_leaf=12, min_samples_split=10, n_estimators=10; total time=   0.1s\n",
      "[CV] END max_depth=10, max_features=auto, min_samples_leaf=4, min_samples_split=5, n_estimators=100; total time=   1.0s\n",
      "[CV] END max_depth=40, max_features=sqrt, min_samples_leaf=4, min_samples_split=5, n_estimators=200; total time=   0.4s\n",
      "[CV] END max_depth=50, max_features=sqrt, min_samples_leaf=4, min_samples_split=5, n_estimators=100; total time=   0.2s\n",
      "[CV] END max_depth=30, max_features=auto, min_samples_leaf=8, min_samples_split=10, n_estimators=10; total time=   0.1s\n",
      "[CV] END max_depth=60, max_features=sqrt, min_samples_leaf=8, min_samples_split=5, n_estimators=200; total time=   0.4s\n",
      "[CV] END max_depth=60, max_features=sqrt, min_samples_leaf=4, min_samples_split=5, n_estimators=100; total time=   0.2s\n",
      "[CV] END max_depth=50, max_features=sqrt, min_samples_leaf=8, min_samples_split=5, n_estimators=200; total time=   0.4s\n",
      "[CV] END max_depth=20, max_features=sqrt, min_samples_leaf=12, min_samples_split=10, n_estimators=100; total time=   0.2s\n",
      "[CV] END max_depth=60, max_features=auto, min_samples_leaf=12, min_samples_split=10, n_estimators=10; total time=   0.1s\n",
      "[CV] END max_depth=60, max_features=auto, min_samples_leaf=12, min_samples_split=5, n_estimators=50; total time=   0.4s\n",
      "[CV] END max_depth=20, max_features=auto, min_samples_leaf=4, min_samples_split=5, n_estimators=10; total time=   0.1s\n",
      "[CV] END max_depth=30, max_features=auto, min_samples_leaf=4, min_samples_split=2, n_estimators=10; total time=   0.1s\n",
      "[CV] END max_depth=40, max_features=auto, min_samples_leaf=4, min_samples_split=5, n_estimators=50; total time=   0.6s\n",
      "[CV] END max_depth=10, max_features=sqrt, min_samples_leaf=8, min_samples_split=2, n_estimators=50; total time=   0.1s\n",
      "[CV] END max_depth=20, max_features=auto, min_samples_leaf=4, min_samples_split=2, n_estimators=100; total time=   1.1s\n",
      "[CV] END max_depth=10, max_features=sqrt, min_samples_leaf=4, min_samples_split=10, n_estimators=50; total time=   0.1s\n",
      "[CV] END max_depth=30, max_features=auto, min_samples_leaf=8, min_samples_split=2, n_estimators=200; total time=   1.8s\n",
      "[CV] END max_depth=50, max_features=sqrt, min_samples_leaf=8, min_samples_split=2, n_estimators=10; total time=   0.0s\n",
      "[CV] END max_depth=50, max_features=sqrt, min_samples_leaf=8, min_samples_split=2, n_estimators=10; total time=   0.0s\n",
      "[CV] END max_depth=60, max_features=auto, min_samples_leaf=12, min_samples_split=5, n_estimators=200; total time=   1.6s\n",
      "[CV] END max_depth=30, max_features=sqrt, min_samples_leaf=4, min_samples_split=10, n_estimators=100; total time=   0.2s\n",
      "[CV] END max_depth=10, max_features=auto, min_samples_leaf=4, min_samples_split=5, n_estimators=200; total time=   1.9s\n",
      "[CV] END max_depth=50, max_features=auto, min_samples_leaf=8, min_samples_split=5, n_estimators=50; total time=   0.5s\n",
      "[CV] END max_depth=60, max_features=sqrt, min_samples_leaf=8, min_samples_split=2, n_estimators=100; total time=   0.2s\n",
      "[CV] END max_depth=40, max_features=auto, min_samples_leaf=4, min_samples_split=10, n_estimators=100; total time=   1.1s\n",
      "[CV] END max_depth=50, max_features=auto, min_samples_leaf=12, min_samples_split=2, n_estimators=200; total time=   1.6s\n",
      "[CV] END max_depth=60, max_features=sqrt, min_samples_leaf=4, min_samples_split=2, n_estimators=50; total time=   0.1s\n",
      "[CV] END max_depth=50, max_features=sqrt, min_samples_leaf=8, min_samples_split=5, n_estimators=50; total time=   0.1s\n",
      "[CV] END max_depth=40, max_features=auto, min_samples_leaf=12, min_samples_split=10, n_estimators=200; total time=   1.6s\n",
      "[CV] END max_depth=50, max_features=auto, min_samples_leaf=8, min_samples_split=2, n_estimators=50; total time=   0.5s\n",
      "[CV] END max_depth=40, max_features=sqrt, min_samples_leaf=12, min_samples_split=10, n_estimators=50; total time=   0.1s\n",
      "[CV] END max_depth=50, max_features=sqrt, min_samples_leaf=8, min_samples_split=10, n_estimators=200; total time=   0.4s\n",
      "[CV] END max_depth=60, max_features=auto, min_samples_leaf=4, min_samples_split=5, n_estimators=50; total time=   0.5s\n",
      "[CV] END max_depth=50, max_features=auto, min_samples_leaf=4, min_samples_split=10, n_estimators=50; total time=   0.5s\n",
      "[CV] END max_depth=40, max_features=auto, min_samples_leaf=4, min_samples_split=10, n_estimators=200; total time=   2.0s\n",
      "[CV] END max_depth=50, max_features=auto, min_samples_leaf=4, min_samples_split=10, n_estimators=200; total time=   2.0s\n",
      "[CV] END max_depth=40, max_features=auto, min_samples_leaf=12, min_samples_split=2, n_estimators=100; total time=   0.8s\n",
      "[CV] END max_depth=60, max_features=auto, min_samples_leaf=12, min_samples_split=10, n_estimators=100; total time=   0.8s\n",
      "[CV] END max_depth=50, max_features=auto, min_samples_leaf=4, min_samples_split=10, n_estimators=100; total time=   1.0s\n",
      "[CV] END max_depth=50, max_features=sqrt, min_samples_leaf=8, min_samples_split=5, n_estimators=200; total time=   0.4s\n",
      "[CV] END max_depth=50, max_features=auto, min_samples_leaf=8, min_samples_split=10, n_estimators=200; total time=   1.7s\n",
      "[CV] END max_depth=60, max_features=sqrt, min_samples_leaf=8, min_samples_split=2, n_estimators=50; total time=   0.1s\n",
      "[CV] END max_depth=50, max_features=sqrt, min_samples_leaf=12, min_samples_split=2, n_estimators=200; total time=   0.3s\n",
      "[CV] END max_depth=40, max_features=sqrt, min_samples_leaf=4, min_samples_split=2, n_estimators=50; total time=   0.1s\n",
      "[CV] END max_depth=50, max_features=sqrt, min_samples_leaf=4, min_samples_split=5, n_estimators=100; total time=   0.2s\n",
      "[CV] END max_depth=50, max_features=auto, min_samples_leaf=4, min_samples_split=2, n_estimators=100; total time=   1.0s\n",
      "[CV] END max_depth=40, max_features=sqrt, min_samples_leaf=4, min_samples_split=5, n_estimators=50; total time=   0.1s\n",
      "[CV] END max_depth=60, max_features=sqrt, min_samples_leaf=12, min_samples_split=2, n_estimators=50; total time=   0.1s\n",
      "[CV] END max_depth=60, max_features=auto, min_samples_leaf=4, min_samples_split=2, n_estimators=100; total time=   1.1s\n",
      "[CV] END max_depth=50, max_features=auto, min_samples_leaf=4, min_samples_split=5, n_estimators=200; total time=   2.1s\n",
      "[CV] END max_depth=40, max_features=auto, min_samples_leaf=8, min_samples_split=2, n_estimators=100; total time=   0.8s\n",
      "[CV] END max_depth=60, max_features=sqrt, min_samples_leaf=12, min_samples_split=5, n_estimators=50; total time=   0.1s\n",
      "[CV] END max_depth=60, max_features=sqrt, min_samples_leaf=12, min_samples_split=5, n_estimators=50; total time=   0.1s\n",
      "[CV] END max_depth=50, max_features=sqrt, min_samples_leaf=8, min_samples_split=2, n_estimators=50; total time=   0.1s\n",
      "[CV] END max_depth=50, max_features=auto, min_samples_leaf=12, min_samples_split=10, n_estimators=200; total time=   1.5s\n",
      "[CV] END max_depth=60, max_features=sqrt, min_samples_leaf=8, min_samples_split=5, n_estimators=100; total time=   0.2s\n",
      "[CV] END max_depth=60, max_features=auto, min_samples_leaf=4, min_samples_split=2, n_estimators=50; total time=   0.5s\n",
      "[CV] END max_depth=60, max_features=auto, min_samples_leaf=4, min_samples_split=2, n_estimators=200; total time=   1.8s\n",
      "[CV] END max_depth=40, max_features=auto, min_samples_leaf=12, min_samples_split=5, n_estimators=200; total time=   1.4s\n",
      "[CV] END max_depth=60, max_features=sqrt, min_samples_leaf=4, min_samples_split=10, n_estimators=50; total time=   0.1s\n",
      "[CV] END max_depth=60, max_features=sqrt, min_samples_leaf=4, min_samples_split=10, n_estimators=50; total time=   0.1s\n",
      "[CV] END max_depth=60, max_features=sqrt, min_samples_leaf=4, min_samples_split=10, n_estimators=50; total time=   0.1s\n",
      "[CV] END max_depth=40, max_features=auto, min_samples_leaf=12, min_samples_split=2, n_estimators=200; total time=   1.4s\n",
      "[CV] END max_depth=40, max_features=auto, min_samples_leaf=4, min_samples_split=5, n_estimators=50; total time=   0.5s\n",
      "[CV] END max_depth=60, max_features=sqrt, min_samples_leaf=12, min_samples_split=10, n_estimators=200; total time=   0.3s\n",
      "[CV] END max_depth=40, max_features=auto, min_samples_leaf=4, min_samples_split=10, n_estimators=50; total time=   0.5s\n",
      "[CV] END max_depth=50, max_features=auto, min_samples_leaf=12, min_samples_split=5, n_estimators=50; total time=   0.4s\n",
      "[CV] END max_depth=50, max_features=sqrt, min_samples_leaf=4, min_samples_split=5, n_estimators=50; total time=   0.1s\n",
      "[CV] END max_depth=60, max_features=auto, min_samples_leaf=8, min_samples_split=5, n_estimators=100; total time=   0.8s\n",
      "[CV] END max_depth=40, max_features=auto, min_samples_leaf=8, min_samples_split=5, n_estimators=50; total time=   0.4s\n",
      "[CV] END max_depth=60, max_features=auto, min_samples_leaf=12, min_samples_split=5, n_estimators=200; total time=   1.4s\n",
      "[CV] END max_depth=40, max_features=sqrt, min_samples_leaf=8, min_samples_split=10, n_estimators=200; total time=   0.3s\n",
      "[CV] END max_depth=60, max_features=auto, min_samples_leaf=8, min_samples_split=10, n_estimators=100; total time=   0.8s\n",
      "[CV] END max_depth=60, max_features=sqrt, min_samples_leaf=12, min_samples_split=10, n_estimators=50; total time=   0.1s\n",
      "[CV] END max_depth=60, max_features=sqrt, min_samples_leaf=12, min_samples_split=10, n_estimators=50; total time=   0.1s\n",
      "[CV] END max_depth=60, max_features=sqrt, min_samples_leaf=12, min_samples_split=10, n_estimators=50; total time=   0.1s\n",
      "[CV] END max_depth=50, max_features=sqrt, min_samples_leaf=4, min_samples_split=5, n_estimators=200; total time=   0.4s\n",
      "[CV] END max_depth=60, max_features=auto, min_samples_leaf=8, min_samples_split=5, n_estimators=200; total time=   1.6s\n",
      "[CV] END max_depth=60, max_features=sqrt, min_samples_leaf=8, min_samples_split=5, n_estimators=50; total time=   0.1s\n",
      "[CV] END max_depth=60, max_features=sqrt, min_samples_leaf=8, min_samples_split=5, n_estimators=50; total time=   0.1s\n",
      "[CV] END max_depth=60, max_features=auto, min_samples_leaf=8, min_samples_split=2, n_estimators=100; total time=   0.8s\n",
      "[CV] END max_depth=60, max_features=auto, min_samples_leaf=12, min_samples_split=5, n_estimators=100; total time=   0.7s\n",
      "[CV] END max_depth=40, max_features=sqrt, min_samples_leaf=12, min_samples_split=2, n_estimators=50; total time=   0.1s\n",
      "[CV] END max_depth=50, max_features=auto, min_samples_leaf=4, min_samples_split=2, n_estimators=200; total time=   1.9s\n",
      "[CV] END max_depth=40, max_features=sqrt, min_samples_leaf=8, min_samples_split=2, n_estimators=100; total time=   0.2s\n",
      "[CV] END max_depth=40, max_features=sqrt, min_samples_leaf=8, min_samples_split=2, n_estimators=100; total time=   0.2s\n",
      "[CV] END max_depth=40, max_features=sqrt, min_samples_leaf=4, min_samples_split=10, n_estimators=50; total time=   0.1s\n",
      "[CV] END max_depth=60, max_features=sqrt, min_samples_leaf=8, min_samples_split=5, n_estimators=200; total time=   0.3s\n",
      "[CV] END max_depth=50, max_features=sqrt, min_samples_leaf=12, min_samples_split=2, n_estimators=100; total time=   0.1s\n",
      "[CV] END max_depth=60, max_features=auto, min_samples_leaf=8, min_samples_split=10, n_estimators=50; total time=   0.4s\n",
      "[CV] END max_depth=60, max_features=sqrt, min_samples_leaf=4, min_samples_split=2, n_estimators=200; total time=   0.4s\n",
      "[CV] END max_depth=40, max_features=auto, min_samples_leaf=12, min_samples_split=10, n_estimators=50; total time=   0.4s\n",
      "[CV] END max_depth=50, max_features=auto, min_samples_leaf=4, min_samples_split=2, n_estimators=50; total time=   0.5s\n",
      "[CV] END max_depth=60, max_features=sqrt, min_samples_leaf=8, min_samples_split=2, n_estimators=200; total time=   0.3s\n",
      "[CV] END max_depth=60, max_features=auto, min_samples_leaf=4, min_samples_split=5, n_estimators=100; total time=   0.9s\n",
      "[CV] END max_depth=40, max_features=auto, min_samples_leaf=8, min_samples_split=10, n_estimators=100; total time=   0.8s\n",
      "[CV] END max_depth=50, max_features=sqrt, min_samples_leaf=12, min_samples_split=10, n_estimators=100; total time=   0.1s\n",
      "[CV] END max_depth=50, max_features=sqrt, min_samples_leaf=12, min_samples_split=10, n_estimators=100; total time=   0.1s\n",
      "[CV] END max_depth=50, max_features=sqrt, min_samples_leaf=12, min_samples_split=10, n_estimators=100; total time=   0.2s\n",
      "[CV] END max_depth=40, max_features=sqrt, min_samples_leaf=8, min_samples_split=5, n_estimators=100; total time=   0.2s\n",
      "[CV] END max_depth=50, max_features=sqrt, min_samples_leaf=8, min_samples_split=5, n_estimators=200; total time=   0.3s\n",
      "[CV] END max_depth=50, max_features=auto, min_samples_leaf=8, min_samples_split=10, n_estimators=200; total time=   1.6s\n",
      "[CV] END max_depth=60, max_features=sqrt, min_samples_leaf=8, min_samples_split=2, n_estimators=50; total time=   0.1s\n",
      "[CV] END max_depth=60, max_features=sqrt, min_samples_leaf=8, min_samples_split=2, n_estimators=50; total time=   0.1s\n",
      "[CV] END max_depth=50, max_features=sqrt, min_samples_leaf=12, min_samples_split=2, n_estimators=200; total time=   0.3s\n",
      "[CV] END max_depth=40, max_features=sqrt, min_samples_leaf=4, min_samples_split=2, n_estimators=50; total time=   0.1s\n",
      "[CV] END max_depth=50, max_features=sqrt, min_samples_leaf=4, min_samples_split=5, n_estimators=100; total time=   0.2s\n",
      "[CV] END max_depth=50, max_features=auto, min_samples_leaf=4, min_samples_split=2, n_estimators=100; total time=   0.9s\n",
      "[CV] END max_depth=40, max_features=sqrt, min_samples_leaf=4, min_samples_split=5, n_estimators=50; total time=   0.1s\n",
      "[CV] END max_depth=40, max_features=sqrt, min_samples_leaf=4, min_samples_split=5, n_estimators=50; total time=   0.1s\n",
      "[CV] END max_depth=50, max_features=sqrt, min_samples_leaf=4, min_samples_split=10, n_estimators=200; total time=   0.4s\n",
      "[CV] END max_depth=40, max_features=auto, min_samples_leaf=4, min_samples_split=2, n_estimators=200; total time=   1.9s\n",
      "[CV] END max_depth=50, max_features=sqrt, min_samples_leaf=4, min_samples_split=2, n_estimators=200; total time=   0.4s\n",
      "[CV] END max_depth=50, max_features=sqrt, min_samples_leaf=8, min_samples_split=10, n_estimators=50; total time=   0.1s\n",
      "[CV] END max_depth=50, max_features=sqrt, min_samples_leaf=8, min_samples_split=10, n_estimators=50; total time=   0.1s\n"
     ]
    },
    {
     "name": "stdout",
     "output_type": "stream",
     "text": [
      "[CV] END max_depth=60, max_features=auto, min_samples_leaf=12, min_samples_split=5, n_estimators=100; total time=   0.8s\n",
      "[CV] END max_depth=10, max_features=sqrt, min_samples_leaf=8, min_samples_split=5, n_estimators=100; total time=   0.2s\n",
      "[CV] END max_depth=30, max_features=sqrt, min_samples_leaf=8, min_samples_split=5, n_estimators=200; total time=   0.4s\n",
      "[CV] END max_depth=30, max_features=auto, min_samples_leaf=4, min_samples_split=10, n_estimators=50; total time=   0.6s\n",
      "[CV] END max_depth=50, max_features=sqrt, min_samples_leaf=12, min_samples_split=2, n_estimators=100; total time=   0.2s\n",
      "[CV] END max_depth=20, max_features=auto, min_samples_leaf=12, min_samples_split=10, n_estimators=200; total time=   1.6s\n",
      "[CV] END max_depth=50, max_features=auto, min_samples_leaf=12, min_samples_split=5, n_estimators=200; total time=   1.6s\n",
      "[CV] END max_depth=50, max_features=sqrt, min_samples_leaf=4, min_samples_split=10, n_estimators=10; total time=   0.0s\n",
      "[CV] END max_depth=50, max_features=sqrt, min_samples_leaf=4, min_samples_split=10, n_estimators=10; total time=   0.0s\n",
      "[CV] END max_depth=50, max_features=sqrt, min_samples_leaf=4, min_samples_split=10, n_estimators=10; total time=   0.0s\n",
      "[CV] END max_depth=50, max_features=sqrt, min_samples_leaf=4, min_samples_split=10, n_estimators=10; total time=   0.0s\n",
      "[CV] END max_depth=20, max_features=auto, min_samples_leaf=12, min_samples_split=5, n_estimators=10; total time=   0.1s\n",
      "[CV] END max_depth=30, max_features=sqrt, min_samples_leaf=4, min_samples_split=10, n_estimators=10; total time=   0.0s\n",
      "[CV] END max_depth=30, max_features=sqrt, min_samples_leaf=4, min_samples_split=10, n_estimators=10; total time=   0.0s\n",
      "[CV] END max_depth=30, max_features=sqrt, min_samples_leaf=4, min_samples_split=10, n_estimators=10; total time=   0.0s\n",
      "[CV] END max_depth=30, max_features=sqrt, min_samples_leaf=12, min_samples_split=2, n_estimators=50; total time=   0.1s\n",
      "[CV] END max_depth=60, max_features=auto, min_samples_leaf=12, min_samples_split=10, n_estimators=100; total time=   0.8s\n",
      "[CV] END max_depth=10, max_features=auto, min_samples_leaf=4, min_samples_split=2, n_estimators=50; total time=   0.5s\n",
      "[CV] END max_depth=10, max_features=sqrt, min_samples_leaf=4, min_samples_split=2, n_estimators=50; total time=   0.1s\n",
      "[CV] END max_depth=50, max_features=sqrt, min_samples_leaf=4, min_samples_split=2, n_estimators=100; total time=   0.3s\n",
      "[CV] END max_depth=30, max_features=auto, min_samples_leaf=8, min_samples_split=5, n_estimators=10; total time=   0.1s\n",
      "[CV] END max_depth=10, max_features=auto, min_samples_leaf=8, min_samples_split=2, n_estimators=10; total time=   0.1s\n",
      "[CV] END max_depth=30, max_features=sqrt, min_samples_leaf=8, min_samples_split=5, n_estimators=10; total time=   0.0s\n",
      "[CV] END max_depth=30, max_features=sqrt, min_samples_leaf=8, min_samples_split=5, n_estimators=10; total time=   0.0s\n",
      "[CV] END max_depth=40, max_features=sqrt, min_samples_leaf=12, min_samples_split=5, n_estimators=100; total time=   0.2s\n",
      "[CV] END max_depth=30, max_features=auto, min_samples_leaf=12, min_samples_split=5, n_estimators=200; total time=   1.7s\n",
      "[CV] END max_depth=60, max_features=auto, min_samples_leaf=4, min_samples_split=2, n_estimators=200; total time=   2.1s\n",
      "[CV] END max_depth=20, max_features=auto, min_samples_leaf=4, min_samples_split=5, n_estimators=100; total time=   1.0s\n",
      "[CV] END max_depth=20, max_features=sqrt, min_samples_leaf=12, min_samples_split=2, n_estimators=200; total time=   0.3s\n",
      "[CV] END max_depth=20, max_features=auto, min_samples_leaf=12, min_samples_split=2, n_estimators=10; total time=   0.1s\n",
      "[CV] END max_depth=10, max_features=sqrt, min_samples_leaf=12, min_samples_split=2, n_estimators=10; total time=   0.0s\n",
      "[CV] END max_depth=60, max_features=auto, min_samples_leaf=4, min_samples_split=5, n_estimators=100; total time=   1.0s\n",
      "[CV] END max_depth=40, max_features=sqrt, min_samples_leaf=8, min_samples_split=10, n_estimators=100; total time=   0.2s\n",
      "[CV] END max_depth=40, max_features=sqrt, min_samples_leaf=12, min_samples_split=2, n_estimators=100; total time=   0.2s\n",
      "[CV] END max_depth=10, max_features=auto, min_samples_leaf=4, min_samples_split=5, n_estimators=100; total time=   1.0s\n",
      "[CV] END max_depth=40, max_features=sqrt, min_samples_leaf=4, min_samples_split=5, n_estimators=200; total time=   0.4s\n",
      "[CV] END max_depth=50, max_features=sqrt, min_samples_leaf=4, min_samples_split=5, n_estimators=100; total time=   0.2s\n",
      "[CV] END max_depth=60, max_features=sqrt, min_samples_leaf=8, min_samples_split=5, n_estimators=200; total time=   0.4s\n",
      "[CV] END max_depth=50, max_features=sqrt, min_samples_leaf=12, min_samples_split=5, n_estimators=10; total time=   0.0s\n",
      "[CV] END max_depth=50, max_features=sqrt, min_samples_leaf=12, min_samples_split=5, n_estimators=10; total time=   0.0s\n",
      "[CV] END max_depth=50, max_features=sqrt, min_samples_leaf=8, min_samples_split=5, n_estimators=10; total time=   0.0s\n",
      "[CV] END max_depth=50, max_features=sqrt, min_samples_leaf=8, min_samples_split=5, n_estimators=10; total time=   0.0s\n",
      "[CV] END max_depth=60, max_features=sqrt, min_samples_leaf=4, min_samples_split=5, n_estimators=100; total time=   0.2s\n",
      "[CV] END max_depth=50, max_features=sqrt, min_samples_leaf=8, min_samples_split=5, n_estimators=200; total time=   0.4s\n",
      "[CV] END max_depth=20, max_features=sqrt, min_samples_leaf=12, min_samples_split=10, n_estimators=100; total time=   0.2s\n",
      "[CV] END max_depth=40, max_features=auto, min_samples_leaf=4, min_samples_split=10, n_estimators=50; total time=   0.5s\n",
      "[CV] END max_depth=20, max_features=auto, min_samples_leaf=4, min_samples_split=5, n_estimators=10; total time=   0.1s\n",
      "[CV] END max_depth=30, max_features=auto, min_samples_leaf=4, min_samples_split=2, n_estimators=10; total time=   0.1s\n",
      "[CV] END max_depth=40, max_features=auto, min_samples_leaf=4, min_samples_split=5, n_estimators=50; total time=   0.5s\n",
      "[CV] END max_depth=10, max_features=sqrt, min_samples_leaf=8, min_samples_split=2, n_estimators=50; total time=   0.1s\n",
      "[CV] END max_depth=10, max_features=sqrt, min_samples_leaf=8, min_samples_split=5, n_estimators=10; total time=   0.0s\n",
      "[CV] END max_depth=20, max_features=auto, min_samples_leaf=4, min_samples_split=2, n_estimators=100; total time=   1.0s\n",
      "[CV] END max_depth=10, max_features=sqrt, min_samples_leaf=4, min_samples_split=10, n_estimators=50; total time=   0.1s\n",
      "[CV] END max_depth=30, max_features=auto, min_samples_leaf=8, min_samples_split=2, n_estimators=200; total time=   1.7s\n",
      "[CV] END max_depth=40, max_features=auto, min_samples_leaf=8, min_samples_split=5, n_estimators=50; total time=   0.5s\n",
      "[CV] END max_depth=20, max_features=sqrt, min_samples_leaf=8, min_samples_split=5, n_estimators=10; total time=   0.0s\n",
      "[CV] END max_depth=60, max_features=auto, min_samples_leaf=8, min_samples_split=5, n_estimators=100; total time=   0.9s\n",
      "[CV] END max_depth=10, max_features=auto, min_samples_leaf=4, min_samples_split=5, n_estimators=50; total time=   0.5s\n",
      "[CV] END max_depth=30, max_features=sqrt, min_samples_leaf=4, min_samples_split=10, n_estimators=100; total time=   0.2s\n",
      "[CV] END max_depth=10, max_features=auto, min_samples_leaf=4, min_samples_split=5, n_estimators=200; total time=   1.8s\n",
      "[CV] END max_depth=60, max_features=auto, min_samples_leaf=12, min_samples_split=5, n_estimators=200; total time=   1.6s\n",
      "[CV] END max_depth=40, max_features=sqrt, min_samples_leaf=8, min_samples_split=10, n_estimators=200; total time=   0.3s\n",
      "[CV] END max_depth=60, max_features=auto, min_samples_leaf=8, min_samples_split=10, n_estimators=100; total time=   0.9s\n",
      "[CV] END max_depth=50, max_features=sqrt, min_samples_leaf=4, min_samples_split=5, n_estimators=200; total time=   0.4s\n",
      "[CV] END max_depth=60, max_features=auto, min_samples_leaf=8, min_samples_split=5, n_estimators=200; total time=   1.7s\n",
      "[CV] END max_depth=60, max_features=sqrt, min_samples_leaf=8, min_samples_split=5, n_estimators=50; total time=   0.1s\n",
      "[CV] END max_depth=50, max_features=auto, min_samples_leaf=8, min_samples_split=2, n_estimators=50; total time=   0.4s\n",
      "[CV] END max_depth=40, max_features=sqrt, min_samples_leaf=12, min_samples_split=10, n_estimators=50; total time=   0.1s\n",
      "[CV] END max_depth=50, max_features=sqrt, min_samples_leaf=8, min_samples_split=10, n_estimators=200; total time=   0.4s\n",
      "[CV] END max_depth=60, max_features=auto, min_samples_leaf=4, min_samples_split=5, n_estimators=50; total time=   0.5s\n",
      "[CV] END max_depth=40, max_features=sqrt, min_samples_leaf=12, min_samples_split=2, n_estimators=50; total time=   0.1s\n",
      "[CV] END max_depth=50, max_features=auto, min_samples_leaf=4, min_samples_split=10, n_estimators=50; total time=   0.5s\n",
      "[CV] END max_depth=40, max_features=auto, min_samples_leaf=4, min_samples_split=10, n_estimators=200; total time=   1.9s\n",
      "[CV] END max_depth=50, max_features=auto, min_samples_leaf=4, min_samples_split=10, n_estimators=200; total time=   1.9s\n",
      "[CV] END max_depth=60, max_features=sqrt, min_samples_leaf=8, min_samples_split=2, n_estimators=200; total time=   0.3s\n",
      "[CV] END max_depth=60, max_features=auto, min_samples_leaf=4, min_samples_split=5, n_estimators=100; total time=   1.1s\n",
      "[CV] END max_depth=40, max_features=auto, min_samples_leaf=8, min_samples_split=10, n_estimators=100; total time=   0.9s\n",
      "[CV] END max_depth=50, max_features=sqrt, min_samples_leaf=12, min_samples_split=10, n_estimators=100; total time=   0.2s\n",
      "[CV] END max_depth=40, max_features=sqrt, min_samples_leaf=8, min_samples_split=5, n_estimators=100; total time=   0.2s\n",
      "[CV] END max_depth=40, max_features=auto, min_samples_leaf=12, min_samples_split=5, n_estimators=100; total time=   0.8s\n",
      "[CV] END max_depth=60, max_features=auto, min_samples_leaf=4, min_samples_split=5, n_estimators=200; total time=   2.1s\n",
      "[CV] END max_depth=50, max_features=sqrt, min_samples_leaf=4, min_samples_split=5, n_estimators=100; total time=   0.2s\n",
      "[CV] END max_depth=60, max_features=sqrt, min_samples_leaf=12, min_samples_split=10, n_estimators=100; total time=   0.2s\n",
      "[CV] END max_depth=40, max_features=auto, min_samples_leaf=12, min_samples_split=2, n_estimators=50; total time=   0.4s\n",
      "[CV] END max_depth=50, max_features=sqrt, min_samples_leaf=8, min_samples_split=2, n_estimators=200; total time=   0.4s\n",
      "[CV] END max_depth=60, max_features=sqrt, min_samples_leaf=12, min_samples_split=2, n_estimators=50; total time=   0.1s\n",
      "[CV] END max_depth=60, max_features=auto, min_samples_leaf=4, min_samples_split=2, n_estimators=100; total time=   1.1s\n",
      "[CV] END max_depth=50, max_features=auto, min_samples_leaf=4, min_samples_split=5, n_estimators=200; total time=   2.1s\n",
      "[CV] END max_depth=40, max_features=auto, min_samples_leaf=8, min_samples_split=2, n_estimators=100; total time=   0.8s\n",
      "[CV] END max_depth=60, max_features=sqrt, min_samples_leaf=12, min_samples_split=5, n_estimators=50; total time=   0.1s\n",
      "[CV] END max_depth=50, max_features=sqrt, min_samples_leaf=8, min_samples_split=10, n_estimators=100; total time=   0.2s\n",
      "[CV] END max_depth=60, max_features=auto, min_samples_leaf=12, min_samples_split=5, n_estimators=50; total time=   0.4s\n",
      "[CV] END max_depth=60, max_features=auto, min_samples_leaf=12, min_samples_split=2, n_estimators=50; total time=   0.4s\n",
      "[CV] END max_depth=40, max_features=sqrt, min_samples_leaf=12, min_samples_split=5, n_estimators=200; total time=   0.3s\n",
      "[CV] END max_depth=50, max_features=sqrt, min_samples_leaf=12, min_samples_split=10, n_estimators=200; total time=   0.3s\n",
      "[CV] END max_depth=60, max_features=sqrt, min_samples_leaf=8, min_samples_split=5, n_estimators=100; total time=   0.2s\n",
      "[CV] END max_depth=60, max_features=auto, min_samples_leaf=4, min_samples_split=2, n_estimators=50; total time=   0.5s\n",
      "[CV] END max_depth=60, max_features=auto, min_samples_leaf=4, min_samples_split=2, n_estimators=200; total time=   2.1s\n",
      "[CV] END max_depth=40, max_features=auto, min_samples_leaf=12, min_samples_split=5, n_estimators=200; total time=   1.5s\n",
      "[CV] END max_depth=40, max_features=auto, min_samples_leaf=8, min_samples_split=10, n_estimators=50; total time=   0.4s\n",
      "[CV] END max_depth=50, max_features=auto, min_samples_leaf=12, min_samples_split=10, n_estimators=50; total time=   0.4s\n",
      "[CV] END max_depth=40, max_features=sqrt, min_samples_leaf=12, min_samples_split=10, n_estimators=100; total time=   0.2s\n",
      "[CV] END max_depth=50, max_features=auto, min_samples_leaf=12, min_samples_split=5, n_estimators=100; total time=   0.8s\n",
      "[CV] END max_depth=60, max_features=sqrt, min_samples_leaf=12, min_samples_split=10, n_estimators=200; total time=   0.3s\n",
      "[CV] END max_depth=40, max_features=auto, min_samples_leaf=4, min_samples_split=10, n_estimators=50; total time=   0.5s\n",
      "[CV] END max_depth=50, max_features=auto, min_samples_leaf=12, min_samples_split=5, n_estimators=50; total time=   0.4s\n",
      "[CV] END max_depth=50, max_features=sqrt, min_samples_leaf=4, min_samples_split=5, n_estimators=50; total time=   0.1s\n",
      "[CV] END max_depth=60, max_features=auto, min_samples_leaf=8, min_samples_split=5, n_estimators=100; total time=   0.9s\n",
      "[CV] END max_depth=60, max_features=auto, min_samples_leaf=8, min_samples_split=10, n_estimators=200; total time=   1.5s\n",
      "[CV] END max_depth=50, max_features=auto, min_samples_leaf=8, min_samples_split=5, n_estimators=50; total time=   0.5s\n",
      "[CV] END max_depth=60, max_features=sqrt, min_samples_leaf=8, min_samples_split=2, n_estimators=100; total time=   0.2s\n",
      "[CV] END max_depth=40, max_features=auto, min_samples_leaf=4, min_samples_split=10, n_estimators=100; total time=   1.0s\n",
      "[CV] END max_depth=50, max_features=auto, min_samples_leaf=12, min_samples_split=2, n_estimators=200; total time=   1.6s\n",
      "[CV] END max_depth=60, max_features=sqrt, min_samples_leaf=4, min_samples_split=2, n_estimators=50; total time=   0.1s\n",
      "[CV] END max_depth=50, max_features=sqrt, min_samples_leaf=8, min_samples_split=5, n_estimators=50; total time=   0.1s\n",
      "[CV] END max_depth=40, max_features=auto, min_samples_leaf=12, min_samples_split=10, n_estimators=200; total time=   1.6s\n",
      "[CV] END max_depth=50, max_features=auto, min_samples_leaf=8, min_samples_split=2, n_estimators=50; total time=   0.4s\n",
      "[CV] END max_depth=40, max_features=sqrt, min_samples_leaf=12, min_samples_split=10, n_estimators=50; total time=   0.1s\n",
      "[CV] END max_depth=50, max_features=sqrt, min_samples_leaf=8, min_samples_split=10, n_estimators=200; total time=   0.4s\n",
      "[CV] END max_depth=60, max_features=auto, min_samples_leaf=4, min_samples_split=5, n_estimators=50; total time=   0.6s\n",
      "[CV] END max_depth=50, max_features=auto, min_samples_leaf=4, min_samples_split=2, n_estimators=200; total time=   2.2s\n",
      "[CV] END max_depth=40, max_features=sqrt, min_samples_leaf=8, min_samples_split=2, n_estimators=100; total time=   0.2s\n",
      "[CV] END max_depth=60, max_features=sqrt, min_samples_leaf=8, min_samples_split=5, n_estimators=200; total time=   0.4s\n",
      "[CV] END max_depth=50, max_features=auto, min_samples_leaf=4, min_samples_split=10, n_estimators=200; total time=   2.0s\n",
      "[CV] END max_depth=60, max_features=sqrt, min_samples_leaf=8, min_samples_split=2, n_estimators=200; total time=   0.4s\n",
      "[CV] END max_depth=60, max_features=auto, min_samples_leaf=4, min_samples_split=5, n_estimators=100; total time=   1.1s\n",
      "[CV] END max_depth=40, max_features=auto, min_samples_leaf=8, min_samples_split=10, n_estimators=100; total time=   0.9s\n",
      "[CV] END max_depth=40, max_features=sqrt, min_samples_leaf=8, min_samples_split=5, n_estimators=100; total time=   0.2s\n",
      "[CV] END max_depth=40, max_features=auto, min_samples_leaf=12, min_samples_split=5, n_estimators=100; total time=   0.7s\n",
      "[CV] END max_depth=60, max_features=auto, min_samples_leaf=4, min_samples_split=5, n_estimators=200; total time=   2.1s\n",
      "[CV] END max_depth=50, max_features=sqrt, min_samples_leaf=4, min_samples_split=5, n_estimators=100; total time=   0.2s\n",
      "[CV] END max_depth=50, max_features=auto, min_samples_leaf=4, min_samples_split=2, n_estimators=100; total time=   1.1s\n",
      "[CV] END max_depth=60, max_features=sqrt, min_samples_leaf=12, min_samples_split=2, n_estimators=50; total time=   0.1s\n",
      "[CV] END max_depth=60, max_features=auto, min_samples_leaf=4, min_samples_split=2, n_estimators=100; total time=   1.1s\n",
      "[CV] END max_depth=50, max_features=auto, min_samples_leaf=4, min_samples_split=5, n_estimators=200; total time=   2.0s\n",
      "[CV] END max_depth=40, max_features=auto, min_samples_leaf=8, min_samples_split=2, n_estimators=100; total time=   0.8s\n"
     ]
    },
    {
     "name": "stdout",
     "output_type": "stream",
     "text": [
      "Fitting 5 folds for each of 100 candidates, totalling 500 fits\n",
      "[CV] END max_depth=30, max_features=auto, min_samples_leaf=4, min_samples_split=10, n_estimators=100; total time=   1.0s\n",
      "[CV] END max_depth=30, max_features=sqrt, min_samples_leaf=8, min_samples_split=5, n_estimators=200; total time=   0.3s\n",
      "[CV] END max_depth=30, max_features=auto, min_samples_leaf=4, min_samples_split=10, n_estimators=50; total time=   0.5s\n",
      "[CV] END max_depth=50, max_features=sqrt, min_samples_leaf=12, min_samples_split=2, n_estimators=100; total time=   0.2s\n",
      "[CV] END max_depth=20, max_features=auto, min_samples_leaf=12, min_samples_split=5, n_estimators=100; total time=   0.8s\n",
      "[CV] END max_depth=30, max_features=auto, min_samples_leaf=8, min_samples_split=2, n_estimators=50; total time=   0.5s\n",
      "[CV] END max_depth=10, max_features=auto, min_samples_leaf=8, min_samples_split=10, n_estimators=50; total time=   0.4s\n",
      "[CV] END max_depth=50, max_features=auto, min_samples_leaf=12, min_samples_split=5, n_estimators=50; total time=   0.4s\n",
      "[CV] END max_depth=40, max_features=auto, min_samples_leaf=8, min_samples_split=2, n_estimators=200; total time=   1.7s\n",
      "[CV] END max_depth=60, max_features=auto, min_samples_leaf=12, min_samples_split=2, n_estimators=50; total time=   0.4s\n",
      "[CV] END max_depth=50, max_features=auto, min_samples_leaf=8, min_samples_split=10, n_estimators=10; total time=   0.1s\n",
      "[CV] END max_depth=20, max_features=auto, min_samples_leaf=8, min_samples_split=5, n_estimators=100; total time=   0.9s\n",
      "[CV] END max_depth=30, max_features=auto, min_samples_leaf=4, min_samples_split=5, n_estimators=100; total time=   1.0s\n",
      "[CV] END max_depth=60, max_features=sqrt, min_samples_leaf=12, min_samples_split=5, n_estimators=200; total time=   0.3s\n",
      "[CV] END max_depth=30, max_features=sqrt, min_samples_leaf=8, min_samples_split=10, n_estimators=10; total time=   0.0s\n",
      "[CV] END max_depth=30, max_features=sqrt, min_samples_leaf=8, min_samples_split=10, n_estimators=10; total time=   0.0s\n",
      "[CV] END max_depth=40, max_features=auto, min_samples_leaf=4, min_samples_split=5, n_estimators=10; total time=   0.1s\n",
      "[CV] END max_depth=30, max_features=auto, min_samples_leaf=4, min_samples_split=10, n_estimators=200; total time=   2.0s\n",
      "[CV] END max_depth=50, max_features=sqrt, min_samples_leaf=12, min_samples_split=2, n_estimators=200; total time=   0.4s\n",
      "[CV] END max_depth=30, max_features=auto, min_samples_leaf=8, min_samples_split=2, n_estimators=100; total time=   0.9s\n",
      "[CV] END max_depth=60, max_features=sqrt, min_samples_leaf=8, min_samples_split=10, n_estimators=50; total time=   0.1s\n",
      "[CV] END max_depth=60, max_features=auto, min_samples_leaf=4, min_samples_split=5, n_estimators=50; total time=   0.5s\n",
      "[CV] END max_depth=20, max_features=sqrt, min_samples_leaf=12, min_samples_split=2, n_estimators=200; total time=   0.3s\n",
      "[CV] END max_depth=20, max_features=auto, min_samples_leaf=12, min_samples_split=2, n_estimators=10; total time=   0.1s\n",
      "[CV] END max_depth=10, max_features=sqrt, min_samples_leaf=12, min_samples_split=2, n_estimators=10; total time=   0.0s\n",
      "[CV] END max_depth=60, max_features=auto, min_samples_leaf=4, min_samples_split=5, n_estimators=100; total time=   1.0s\n",
      "[CV] END max_depth=40, max_features=sqrt, min_samples_leaf=8, min_samples_split=10, n_estimators=100; total time=   0.2s\n",
      "[CV] END max_depth=40, max_features=sqrt, min_samples_leaf=12, min_samples_split=2, n_estimators=100; total time=   0.2s\n",
      "[CV] END max_depth=10, max_features=auto, min_samples_leaf=4, min_samples_split=5, n_estimators=100; total time=   0.9s\n",
      "[CV] END max_depth=60, max_features=sqrt, min_samples_leaf=12, min_samples_split=5, n_estimators=50; total time=   0.1s\n",
      "[CV] END max_depth=50, max_features=auto, min_samples_leaf=12, min_samples_split=5, n_estimators=100; total time=   0.8s\n",
      "[CV] END max_depth=20, max_features=sqrt, min_samples_leaf=12, min_samples_split=2, n_estimators=10; total time=   0.0s\n",
      "[CV] END max_depth=20, max_features=sqrt, min_samples_leaf=12, min_samples_split=2, n_estimators=10; total time=   0.0s\n",
      "[CV] END max_depth=10, max_features=sqrt, min_samples_leaf=8, min_samples_split=10, n_estimators=200; total time=   0.4s\n",
      "[CV] END max_depth=10, max_features=sqrt, min_samples_leaf=12, min_samples_split=5, n_estimators=50; total time=   0.1s\n",
      "[CV] END max_depth=30, max_features=sqrt, min_samples_leaf=8, min_samples_split=5, n_estimators=100; total time=   0.2s\n",
      "[CV] END max_depth=60, max_features=sqrt, min_samples_leaf=12, min_samples_split=10, n_estimators=200; total time=   0.3s\n",
      "[CV] END max_depth=60, max_features=auto, min_samples_leaf=12, min_samples_split=10, n_estimators=10; total time=   0.1s\n",
      "[CV] END max_depth=60, max_features=auto, min_samples_leaf=12, min_samples_split=5, n_estimators=50; total time=   0.4s\n",
      "[CV] END max_depth=30, max_features=auto, min_samples_leaf=4, min_samples_split=2, n_estimators=10; total time=   0.1s\n",
      "[CV] END max_depth=40, max_features=auto, min_samples_leaf=4, min_samples_split=5, n_estimators=50; total time=   0.5s\n",
      "[CV] END max_depth=10, max_features=sqrt, min_samples_leaf=8, min_samples_split=2, n_estimators=50; total time=   0.1s\n",
      "[CV] END max_depth=10, max_features=sqrt, min_samples_leaf=8, min_samples_split=5, n_estimators=10; total time=   0.0s\n",
      "[CV] END max_depth=10, max_features=sqrt, min_samples_leaf=8, min_samples_split=5, n_estimators=10; total time=   0.0s\n",
      "[CV] END max_depth=20, max_features=auto, min_samples_leaf=4, min_samples_split=2, n_estimators=100; total time=   1.0s\n",
      "[CV] END max_depth=10, max_features=sqrt, min_samples_leaf=4, min_samples_split=10, n_estimators=50; total time=   0.1s\n",
      "[CV] END max_depth=30, max_features=auto, min_samples_leaf=8, min_samples_split=2, n_estimators=200; total time=   1.7s\n",
      "[CV] END max_depth=40, max_features=auto, min_samples_leaf=8, min_samples_split=5, n_estimators=50; total time=   0.5s\n",
      "[CV] END max_depth=60, max_features=auto, min_samples_leaf=8, min_samples_split=5, n_estimators=100; total time=   0.9s\n",
      "[CV] END max_depth=10, max_features=auto, min_samples_leaf=4, min_samples_split=5, n_estimators=50; total time=   0.5s\n",
      "[CV] END max_depth=30, max_features=sqrt, min_samples_leaf=4, min_samples_split=10, n_estimators=100; total time=   0.2s\n",
      "[CV] END max_depth=20, max_features=sqrt, min_samples_leaf=12, min_samples_split=10, n_estimators=50; total time=   0.1s\n",
      "[CV] END max_depth=10, max_features=auto, min_samples_leaf=8, min_samples_split=10, n_estimators=100; total time=   0.9s\n",
      "[CV] END max_depth=10, max_features=sqrt, min_samples_leaf=12, min_samples_split=10, n_estimators=10; total time=   0.0s\n",
      "[CV] END max_depth=10, max_features=sqrt, min_samples_leaf=12, min_samples_split=10, n_estimators=10; total time=   0.0s\n",
      "[CV] END max_depth=50, max_features=auto, min_samples_leaf=12, min_samples_split=5, n_estimators=10; total time=   0.1s\n",
      "[CV] END max_depth=10, max_features=auto, min_samples_leaf=8, min_samples_split=10, n_estimators=10; total time=   0.1s\n",
      "[CV] END max_depth=60, max_features=auto, min_samples_leaf=12, min_samples_split=5, n_estimators=200; total time=   1.6s\n",
      "[CV] END max_depth=50, max_features=auto, min_samples_leaf=12, min_samples_split=2, n_estimators=200; total time=   1.6s\n",
      "[CV] END max_depth=60, max_features=sqrt, min_samples_leaf=4, min_samples_split=2, n_estimators=50; total time=   0.1s\n",
      "[CV] END max_depth=60, max_features=sqrt, min_samples_leaf=4, min_samples_split=2, n_estimators=50; total time=   0.1s\n",
      "[CV] END max_depth=40, max_features=auto, min_samples_leaf=12, min_samples_split=10, n_estimators=200; total time=   1.6s\n",
      "[CV] END max_depth=50, max_features=auto, min_samples_leaf=8, min_samples_split=2, n_estimators=50; total time=   0.4s\n",
      "[CV] END max_depth=40, max_features=sqrt, min_samples_leaf=12, min_samples_split=10, n_estimators=50; total time=   0.1s\n",
      "[CV] END max_depth=50, max_features=sqrt, min_samples_leaf=8, min_samples_split=10, n_estimators=200; total time=   0.4s\n",
      "[CV] END max_depth=60, max_features=auto, min_samples_leaf=4, min_samples_split=5, n_estimators=50; total time=   0.5s\n",
      "[CV] END max_depth=40, max_features=sqrt, min_samples_leaf=12, min_samples_split=2, n_estimators=50; total time=   0.1s\n",
      "[CV] END max_depth=50, max_features=auto, min_samples_leaf=4, min_samples_split=10, n_estimators=50; total time=   0.5s\n",
      "[CV] END max_depth=40, max_features=auto, min_samples_leaf=4, min_samples_split=10, n_estimators=200; total time=   1.9s\n",
      "[CV] END max_depth=50, max_features=auto, min_samples_leaf=4, min_samples_split=10, n_estimators=200; total time=   2.0s\n",
      "[CV] END max_depth=60, max_features=sqrt, min_samples_leaf=8, min_samples_split=2, n_estimators=200; total time=   0.3s\n",
      "[CV] END max_depth=40, max_features=auto, min_samples_leaf=12, min_samples_split=2, n_estimators=100; total time=   0.8s\n",
      "[CV] END max_depth=60, max_features=auto, min_samples_leaf=12, min_samples_split=10, n_estimators=100; total time=   0.8s\n",
      "[CV] END max_depth=50, max_features=auto, min_samples_leaf=4, min_samples_split=10, n_estimators=100; total time=   1.1s\n",
      "[CV] END max_depth=50, max_features=sqrt, min_samples_leaf=8, min_samples_split=5, n_estimators=200; total time=   0.4s\n",
      "[CV] END max_depth=50, max_features=auto, min_samples_leaf=8, min_samples_split=10, n_estimators=200; total time=   1.7s\n",
      "[CV] END max_depth=50, max_features=sqrt, min_samples_leaf=12, min_samples_split=2, n_estimators=200; total time=   0.3s\n",
      "[CV] END max_depth=60, max_features=auto, min_samples_leaf=8, min_samples_split=5, n_estimators=50; total time=   0.4s\n",
      "[CV] END max_depth=60, max_features=sqrt, min_samples_leaf=12, min_samples_split=10, n_estimators=100; total time=   0.2s\n",
      "[CV] END max_depth=40, max_features=auto, min_samples_leaf=12, min_samples_split=2, n_estimators=50; total time=   0.4s\n",
      "[CV] END max_depth=50, max_features=sqrt, min_samples_leaf=8, min_samples_split=2, n_estimators=200; total time=   0.4s\n",
      "[CV] END max_depth=50, max_features=sqrt, min_samples_leaf=4, min_samples_split=10, n_estimators=200; total time=   0.4s\n",
      "[CV] END max_depth=40, max_features=auto, min_samples_leaf=4, min_samples_split=2, n_estimators=200; total time=   2.1s\n",
      "[CV] END max_depth=50, max_features=sqrt, min_samples_leaf=4, min_samples_split=2, n_estimators=200; total time=   0.4s\n",
      "[CV] END max_depth=40, max_features=sqrt, min_samples_leaf=8, min_samples_split=10, n_estimators=100; total time=   0.2s\n",
      "[CV] END max_depth=60, max_features=sqrt, min_samples_leaf=4, min_samples_split=10, n_estimators=200; total time=   0.4s\n",
      "[CV] END max_depth=50, max_features=auto, min_samples_leaf=12, min_samples_split=2, n_estimators=100; total time=   0.8s\n",
      "[CV] END max_depth=50, max_features=sqrt, min_samples_leaf=8, min_samples_split=2, n_estimators=50; total time=   0.1s\n",
      "[CV] END max_depth=50, max_features=auto, min_samples_leaf=12, min_samples_split=10, n_estimators=200; total time=   1.5s\n",
      "[CV] END max_depth=50, max_features=auto, min_samples_leaf=8, min_samples_split=2, n_estimators=100; total time=   0.9s\n",
      "[CV] END max_depth=50, max_features=auto, min_samples_leaf=8, min_samples_split=10, n_estimators=50; total time=   0.5s\n",
      "[CV] END max_depth=40, max_features=sqrt, min_samples_leaf=12, min_samples_split=5, n_estimators=100; total time=   0.2s\n",
      "[CV] END max_depth=40, max_features=sqrt, min_samples_leaf=12, min_samples_split=5, n_estimators=50; total time=   0.1s\n",
      "[CV] END max_depth=40, max_features=auto, min_samples_leaf=8, min_samples_split=5, n_estimators=100; total time=   0.9s\n",
      "[CV] END max_depth=60, max_features=auto, min_samples_leaf=8, min_samples_split=2, n_estimators=200; total time=   1.8s\n",
      "[CV] END max_depth=40, max_features=auto, min_samples_leaf=12, min_samples_split=2, n_estimators=200; total time=   1.6s\n",
      "[CV] END max_depth=40, max_features=auto, min_samples_leaf=4, min_samples_split=5, n_estimators=50; total time=   0.5s\n",
      "[CV] END max_depth=50, max_features=sqrt, min_samples_leaf=8, min_samples_split=5, n_estimators=100; total time=   0.2s\n",
      "[CV] END max_depth=50, max_features=auto, min_samples_leaf=8, min_samples_split=5, n_estimators=200; total time=   1.7s\n",
      "[CV] END max_depth=40, max_features=auto, min_samples_leaf=8, min_samples_split=5, n_estimators=50; total time=   0.4s\n",
      "[CV] END max_depth=50, max_features=auto, min_samples_leaf=8, min_samples_split=5, n_estimators=50; total time=   0.5s\n",
      "[CV] END max_depth=60, max_features=sqrt, min_samples_leaf=8, min_samples_split=2, n_estimators=100; total time=   0.2s\n",
      "[CV] END max_depth=40, max_features=auto, min_samples_leaf=4, min_samples_split=10, n_estimators=100; total time=   1.0s\n",
      "[CV] END max_depth=40, max_features=sqrt, min_samples_leaf=8, min_samples_split=10, n_estimators=200; total time=   0.4s\n",
      "[CV] END max_depth=60, max_features=auto, min_samples_leaf=8, min_samples_split=10, n_estimators=100; total time=   0.9s\n",
      "[CV] END max_depth=50, max_features=sqrt, min_samples_leaf=4, min_samples_split=5, n_estimators=200; total time=   0.4s\n",
      "[CV] END max_depth=60, max_features=sqrt, min_samples_leaf=4, min_samples_split=2, n_estimators=50; total time=   0.1s\n",
      "[CV] END max_depth=50, max_features=sqrt, min_samples_leaf=8, min_samples_split=5, n_estimators=50; total time=   0.1s\n",
      "[CV] END max_depth=40, max_features=auto, min_samples_leaf=12, min_samples_split=10, n_estimators=200; total time=   1.5s\n",
      "[CV] END max_depth=50, max_features=auto, min_samples_leaf=8, min_samples_split=2, n_estimators=50; total time=   0.5s\n",
      "[CV] END max_depth=50, max_features=sqrt, min_samples_leaf=8, min_samples_split=10, n_estimators=200; total time=   0.4s\n",
      "[CV] END max_depth=60, max_features=auto, min_samples_leaf=4, min_samples_split=5, n_estimators=50; total time=   0.5s\n",
      "[CV] END max_depth=40, max_features=sqrt, min_samples_leaf=12, min_samples_split=2, n_estimators=50; total time=   0.1s\n",
      "[CV] END max_depth=50, max_features=auto, min_samples_leaf=4, min_samples_split=2, n_estimators=200; total time=   2.3s\n",
      "[CV] END max_depth=40, max_features=sqrt, min_samples_leaf=8, min_samples_split=2, n_estimators=100; total time=   0.2s\n",
      "[CV] END max_depth=60, max_features=sqrt, min_samples_leaf=8, min_samples_split=5, n_estimators=200; total time=   0.3s\n",
      "[CV] END max_depth=50, max_features=sqrt, min_samples_leaf=12, min_samples_split=2, n_estimators=100; total time=   0.2s\n",
      "[CV] END max_depth=60, max_features=auto, min_samples_leaf=8, min_samples_split=10, n_estimators=50; total time=   0.4s\n",
      "[CV] END max_depth=60, max_features=sqrt, min_samples_leaf=4, min_samples_split=2, n_estimators=200; total time=   0.4s\n",
      "[CV] END max_depth=40, max_features=auto, min_samples_leaf=12, min_samples_split=10, n_estimators=50; total time=   0.4s\n",
      "[CV] END max_depth=50, max_features=auto, min_samples_leaf=4, min_samples_split=2, n_estimators=50; total time=   0.6s\n",
      "[CV] END max_depth=40, max_features=auto, min_samples_leaf=12, min_samples_split=2, n_estimators=100; total time=   0.8s\n",
      "[CV] END max_depth=60, max_features=auto, min_samples_leaf=12, min_samples_split=10, n_estimators=100; total time=   0.7s\n",
      "[CV] END max_depth=50, max_features=auto, min_samples_leaf=4, min_samples_split=10, n_estimators=100; total time=   1.0s\n",
      "[CV] END max_depth=50, max_features=sqrt, min_samples_leaf=8, min_samples_split=5, n_estimators=200; total time=   0.4s\n",
      "[CV] END max_depth=50, max_features=auto, min_samples_leaf=8, min_samples_split=10, n_estimators=200; total time=   1.7s\n",
      "[CV] END max_depth=60, max_features=sqrt, min_samples_leaf=8, min_samples_split=2, n_estimators=50; total time=   0.1s\n",
      "[CV] END max_depth=50, max_features=sqrt, min_samples_leaf=12, min_samples_split=2, n_estimators=200; total time=   0.3s\n",
      "[CV] END max_depth=40, max_features=sqrt, min_samples_leaf=4, min_samples_split=2, n_estimators=50; total time=   0.1s\n",
      "[CV] END max_depth=60, max_features=auto, min_samples_leaf=8, min_samples_split=5, n_estimators=50; total time=   0.4s\n",
      "[CV] END max_depth=60, max_features=sqrt, min_samples_leaf=12, min_samples_split=10, n_estimators=100; total time=   0.2s\n",
      "[CV] END max_depth=40, max_features=auto, min_samples_leaf=12, min_samples_split=2, n_estimators=50; total time=   0.4s\n",
      "[CV] END max_depth=50, max_features=sqrt, min_samples_leaf=8, min_samples_split=2, n_estimators=200; total time=   0.4s\n",
      "[CV] END max_depth=50, max_features=sqrt, min_samples_leaf=4, min_samples_split=10, n_estimators=200; total time=   0.4s\n",
      "[CV] END max_depth=40, max_features=auto, min_samples_leaf=4, min_samples_split=2, n_estimators=200; total time=   2.0s\n",
      "[CV] END max_depth=50, max_features=sqrt, min_samples_leaf=4, min_samples_split=2, n_estimators=200; total time=   0.4s\n"
     ]
    },
    {
     "name": "stdout",
     "output_type": "stream",
     "text": [
      "[CV] END max_depth=60, max_features=auto, min_samples_leaf=12, min_samples_split=5, n_estimators=100; total time=   0.8s\n",
      "[CV] END max_depth=10, max_features=sqrt, min_samples_leaf=8, min_samples_split=5, n_estimators=100; total time=   0.2s\n",
      "[CV] END max_depth=30, max_features=sqrt, min_samples_leaf=8, min_samples_split=5, n_estimators=200; total time=   0.4s\n",
      "[CV] END max_depth=30, max_features=auto, min_samples_leaf=4, min_samples_split=10, n_estimators=50; total time=   0.6s\n",
      "[CV] END max_depth=50, max_features=sqrt, min_samples_leaf=12, min_samples_split=2, n_estimators=100; total time=   0.2s\n",
      "[CV] END max_depth=20, max_features=auto, min_samples_leaf=12, min_samples_split=10, n_estimators=200; total time=   1.6s\n",
      "[CV] END max_depth=50, max_features=auto, min_samples_leaf=12, min_samples_split=5, n_estimators=200; total time=   1.6s\n",
      "[CV] END max_depth=30, max_features=sqrt, min_samples_leaf=8, min_samples_split=2, n_estimators=100; total time=   0.2s\n",
      "[CV] END max_depth=20, max_features=auto, min_samples_leaf=12, min_samples_split=5, n_estimators=10; total time=   0.1s\n",
      "[CV] END max_depth=30, max_features=sqrt, min_samples_leaf=12, min_samples_split=2, n_estimators=50; total time=   0.1s\n",
      "[CV] END max_depth=60, max_features=auto, min_samples_leaf=12, min_samples_split=10, n_estimators=100; total time=   0.7s\n",
      "[CV] END max_depth=10, max_features=auto, min_samples_leaf=4, min_samples_split=2, n_estimators=50; total time=   0.5s\n",
      "[CV] END max_depth=10, max_features=sqrt, min_samples_leaf=4, min_samples_split=2, n_estimators=50; total time=   0.1s\n",
      "[CV] END max_depth=10, max_features=sqrt, min_samples_leaf=4, min_samples_split=2, n_estimators=50; total time=   0.1s\n",
      "[CV] END max_depth=50, max_features=sqrt, min_samples_leaf=4, min_samples_split=2, n_estimators=100; total time=   0.2s\n",
      "[CV] END max_depth=30, max_features=auto, min_samples_leaf=8, min_samples_split=5, n_estimators=10; total time=   0.1s\n",
      "[CV] END max_depth=50, max_features=auto, min_samples_leaf=12, min_samples_split=2, n_estimators=10; total time=   0.1s\n",
      "[CV] END max_depth=10, max_features=auto, min_samples_leaf=8, min_samples_split=2, n_estimators=10; total time=   0.1s\n",
      "[CV] END max_depth=30, max_features=sqrt, min_samples_leaf=8, min_samples_split=5, n_estimators=10; total time=   0.0s\n",
      "[CV] END max_depth=30, max_features=sqrt, min_samples_leaf=8, min_samples_split=5, n_estimators=10; total time=   0.0s\n",
      "[CV] END max_depth=40, max_features=sqrt, min_samples_leaf=12, min_samples_split=5, n_estimators=100; total time=   0.2s\n",
      "[CV] END max_depth=30, max_features=auto, min_samples_leaf=12, min_samples_split=5, n_estimators=200; total time=   1.6s\n",
      "[CV] END max_depth=60, max_features=auto, min_samples_leaf=4, min_samples_split=2, n_estimators=200; total time=   2.1s\n",
      "[CV] END max_depth=20, max_features=auto, min_samples_leaf=4, min_samples_split=5, n_estimators=100; total time=   1.0s\n",
      "[CV] END max_depth=20, max_features=sqrt, min_samples_leaf=12, min_samples_split=2, n_estimators=200; total time=   0.3s\n",
      "[CV] END max_depth=20, max_features=auto, min_samples_leaf=12, min_samples_split=2, n_estimators=10; total time=   0.1s\n",
      "[CV] END max_depth=10, max_features=sqrt, min_samples_leaf=12, min_samples_split=2, n_estimators=10; total time=   0.0s\n",
      "[CV] END max_depth=10, max_features=sqrt, min_samples_leaf=12, min_samples_split=2, n_estimators=10; total time=   0.0s\n",
      "[CV] END max_depth=60, max_features=auto, min_samples_leaf=4, min_samples_split=5, n_estimators=100; total time=   1.1s\n",
      "[CV] END max_depth=40, max_features=sqrt, min_samples_leaf=8, min_samples_split=10, n_estimators=100; total time=   0.2s\n",
      "[CV] END max_depth=40, max_features=sqrt, min_samples_leaf=12, min_samples_split=2, n_estimators=100; total time=   0.2s\n",
      "[CV] END max_depth=10, max_features=auto, min_samples_leaf=4, min_samples_split=5, n_estimators=100; total time=   1.0s\n",
      "[CV] END max_depth=40, max_features=sqrt, min_samples_leaf=4, min_samples_split=5, n_estimators=200; total time=   0.4s\n",
      "[CV] END max_depth=50, max_features=sqrt, min_samples_leaf=4, min_samples_split=5, n_estimators=100; total time=   0.2s\n",
      "[CV] END max_depth=30, max_features=auto, min_samples_leaf=8, min_samples_split=10, n_estimators=10; total time=   0.1s\n",
      "[CV] END max_depth=60, max_features=sqrt, min_samples_leaf=8, min_samples_split=5, n_estimators=200; total time=   0.4s\n",
      "[CV] END max_depth=50, max_features=sqrt, min_samples_leaf=8, min_samples_split=5, n_estimators=10; total time=   0.0s\n",
      "[CV] END max_depth=60, max_features=sqrt, min_samples_leaf=4, min_samples_split=5, n_estimators=100; total time=   0.2s\n",
      "[CV] END max_depth=50, max_features=sqrt, min_samples_leaf=8, min_samples_split=5, n_estimators=200; total time=   0.4s\n",
      "[CV] END max_depth=20, max_features=sqrt, min_samples_leaf=12, min_samples_split=10, n_estimators=100; total time=   0.2s\n",
      "[CV] END max_depth=40, max_features=auto, min_samples_leaf=4, min_samples_split=10, n_estimators=50; total time=   0.5s\n",
      "[CV] END max_depth=30, max_features=auto, min_samples_leaf=12, min_samples_split=10, n_estimators=200; total time=   1.5s\n",
      "[CV] END max_depth=10, max_features=auto, min_samples_leaf=12, min_samples_split=2, n_estimators=100; total time=   0.8s\n",
      "[CV] END max_depth=10, max_features=auto, min_samples_leaf=4, min_samples_split=5, n_estimators=10; total time=   0.1s\n",
      "[CV] END max_depth=50, max_features=auto, min_samples_leaf=12, min_samples_split=2, n_estimators=200; total time=   1.5s\n",
      "[CV] END max_depth=50, max_features=sqrt, min_samples_leaf=8, min_samples_split=2, n_estimators=10; total time=   0.0s\n",
      "[CV] END max_depth=60, max_features=auto, min_samples_leaf=12, min_samples_split=5, n_estimators=200; total time=   1.6s\n",
      "[CV] END max_depth=20, max_features=sqrt, min_samples_leaf=4, min_samples_split=5, n_estimators=50; total time=   0.1s\n",
      "[CV] END max_depth=30, max_features=sqrt, min_samples_leaf=4, min_samples_split=10, n_estimators=100; total time=   0.2s\n",
      "[CV] END max_depth=20, max_features=sqrt, min_samples_leaf=12, min_samples_split=10, n_estimators=50; total time=   0.1s\n",
      "[CV] END max_depth=10, max_features=auto, min_samples_leaf=8, min_samples_split=10, n_estimators=100; total time=   0.9s\n",
      "[CV] END max_depth=10, max_features=sqrt, min_samples_leaf=12, min_samples_split=10, n_estimators=10; total time=   0.0s\n",
      "[CV] END max_depth=50, max_features=auto, min_samples_leaf=12, min_samples_split=5, n_estimators=10; total time=   0.1s\n",
      "[CV] END max_depth=10, max_features=auto, min_samples_leaf=8, min_samples_split=10, n_estimators=10; total time=   0.1s\n",
      "[CV] END max_depth=50, max_features=auto, min_samples_leaf=8, min_samples_split=5, n_estimators=50; total time=   0.4s\n",
      "[CV] END max_depth=60, max_features=sqrt, min_samples_leaf=8, min_samples_split=2, n_estimators=100; total time=   0.2s\n",
      "[CV] END max_depth=40, max_features=auto, min_samples_leaf=4, min_samples_split=10, n_estimators=100; total time=   1.0s\n",
      "[CV] END max_depth=50, max_features=auto, min_samples_leaf=12, min_samples_split=2, n_estimators=200; total time=   1.6s\n",
      "[CV] END max_depth=60, max_features=auto, min_samples_leaf=8, min_samples_split=5, n_estimators=200; total time=   1.7s\n",
      "[CV] END max_depth=60, max_features=auto, min_samples_leaf=8, min_samples_split=2, n_estimators=100; total time=   0.9s\n",
      "[CV] END max_depth=60, max_features=auto, min_samples_leaf=12, min_samples_split=5, n_estimators=100; total time=   0.7s\n",
      "[CV] END max_depth=50, max_features=auto, min_samples_leaf=4, min_samples_split=2, n_estimators=200; total time=   2.0s\n",
      "[CV] END max_depth=40, max_features=sqrt, min_samples_leaf=8, min_samples_split=2, n_estimators=100; total time=   0.2s\n",
      "[CV] END max_depth=40, max_features=sqrt, min_samples_leaf=4, min_samples_split=10, n_estimators=50; total time=   0.1s\n",
      "[CV] END max_depth=60, max_features=sqrt, min_samples_leaf=8, min_samples_split=5, n_estimators=200; total time=   0.4s\n",
      "[CV] END max_depth=50, max_features=sqrt, min_samples_leaf=12, min_samples_split=2, n_estimators=100; total time=   0.2s\n",
      "[CV] END max_depth=60, max_features=auto, min_samples_leaf=8, min_samples_split=10, n_estimators=50; total time=   0.5s\n",
      "[CV] END max_depth=60, max_features=sqrt, min_samples_leaf=4, min_samples_split=2, n_estimators=200; total time=   0.4s\n",
      "[CV] END max_depth=40, max_features=auto, min_samples_leaf=12, min_samples_split=10, n_estimators=50; total time=   0.4s\n",
      "[CV] END max_depth=50, max_features=auto, min_samples_leaf=4, min_samples_split=2, n_estimators=50; total time=   0.5s\n",
      "[CV] END max_depth=60, max_features=auto, min_samples_leaf=4, min_samples_split=5, n_estimators=100; total time=   1.0s\n",
      "[CV] END max_depth=40, max_features=auto, min_samples_leaf=8, min_samples_split=10, n_estimators=100; total time=   0.9s\n",
      "[CV] END max_depth=50, max_features=sqrt, min_samples_leaf=12, min_samples_split=10, n_estimators=100; total time=   0.2s\n",
      "[CV] END max_depth=40, max_features=sqrt, min_samples_leaf=8, min_samples_split=5, n_estimators=100; total time=   0.2s\n",
      "[CV] END max_depth=40, max_features=auto, min_samples_leaf=12, min_samples_split=5, n_estimators=100; total time=   0.8s\n",
      "[CV] END max_depth=60, max_features=auto, min_samples_leaf=4, min_samples_split=5, n_estimators=200; total time=   2.0s\n",
      "[CV] END max_depth=50, max_features=sqrt, min_samples_leaf=4, min_samples_split=5, n_estimators=100; total time=   0.2s\n",
      "[CV] END max_depth=50, max_features=auto, min_samples_leaf=4, min_samples_split=2, n_estimators=100; total time=   1.1s\n",
      "[CV] END max_depth=40, max_features=sqrt, min_samples_leaf=4, min_samples_split=5, n_estimators=50; total time=   0.1s\n",
      "[CV] END max_depth=60, max_features=sqrt, min_samples_leaf=12, min_samples_split=2, n_estimators=50; total time=   0.1s\n",
      "[CV] END max_depth=60, max_features=auto, min_samples_leaf=4, min_samples_split=2, n_estimators=100; total time=   1.1s\n",
      "[CV] END max_depth=50, max_features=auto, min_samples_leaf=4, min_samples_split=5, n_estimators=200; total time=   2.0s\n",
      "[CV] END max_depth=40, max_features=auto, min_samples_leaf=8, min_samples_split=2, n_estimators=100; total time=   0.8s\n",
      "[CV] END max_depth=60, max_features=sqrt, min_samples_leaf=12, min_samples_split=5, n_estimators=50; total time=   0.1s\n",
      "[CV] END max_depth=50, max_features=sqrt, min_samples_leaf=8, min_samples_split=10, n_estimators=100; total time=   0.2s\n",
      "[CV] END max_depth=50, max_features=auto, min_samples_leaf=12, min_samples_split=10, n_estimators=200; total time=   1.5s\n",
      "[CV] END max_depth=50, max_features=auto, min_samples_leaf=8, min_samples_split=2, n_estimators=100; total time=   0.9s\n",
      "[CV] END max_depth=50, max_features=auto, min_samples_leaf=8, min_samples_split=10, n_estimators=50; total time=   0.4s\n",
      "[CV] END max_depth=40, max_features=sqrt, min_samples_leaf=12, min_samples_split=5, n_estimators=100; total time=   0.2s\n",
      "[CV] END max_depth=40, max_features=sqrt, min_samples_leaf=12, min_samples_split=5, n_estimators=50; total time=   0.1s\n",
      "[CV] END max_depth=40, max_features=auto, min_samples_leaf=8, min_samples_split=5, n_estimators=100; total time=   0.9s\n",
      "[CV] END max_depth=60, max_features=auto, min_samples_leaf=8, min_samples_split=2, n_estimators=200; total time=   1.9s\n",
      "[CV] END max_depth=40, max_features=auto, min_samples_leaf=8, min_samples_split=10, n_estimators=50; total time=   0.4s\n",
      "[CV] END max_depth=50, max_features=auto, min_samples_leaf=12, min_samples_split=10, n_estimators=50; total time=   0.4s\n",
      "[CV] END max_depth=40, max_features=sqrt, min_samples_leaf=12, min_samples_split=10, n_estimators=100; total time=   0.2s\n",
      "[CV] END max_depth=50, max_features=auto, min_samples_leaf=12, min_samples_split=5, n_estimators=100; total time=   0.7s\n",
      "[CV] END max_depth=60, max_features=sqrt, min_samples_leaf=12, min_samples_split=10, n_estimators=200; total time=   0.3s\n",
      "[CV] END max_depth=40, max_features=auto, min_samples_leaf=4, min_samples_split=10, n_estimators=50; total time=   0.5s\n",
      "[CV] END max_depth=50, max_features=auto, min_samples_leaf=12, min_samples_split=5, n_estimators=50; total time=   0.4s\n",
      "[CV] END max_depth=50, max_features=sqrt, min_samples_leaf=4, min_samples_split=5, n_estimators=50; total time=   0.1s\n",
      "[CV] END max_depth=60, max_features=auto, min_samples_leaf=8, min_samples_split=5, n_estimators=100; total time=   0.9s\n",
      "[CV] END max_depth=60, max_features=auto, min_samples_leaf=8, min_samples_split=10, n_estimators=200; total time=   1.5s\n",
      "[CV] END max_depth=50, max_features=auto, min_samples_leaf=8, min_samples_split=5, n_estimators=50; total time=   0.4s\n",
      "[CV] END max_depth=60, max_features=sqrt, min_samples_leaf=8, min_samples_split=2, n_estimators=100; total time=   0.2s\n",
      "[CV] END max_depth=40, max_features=auto, min_samples_leaf=4, min_samples_split=10, n_estimators=100; total time=   1.0s\n",
      "[CV] END max_depth=50, max_features=auto, min_samples_leaf=12, min_samples_split=2, n_estimators=200; total time=   1.6s\n",
      "[CV] END max_depth=60, max_features=auto, min_samples_leaf=8, min_samples_split=5, n_estimators=200; total time=   1.7s\n",
      "[CV] END max_depth=60, max_features=auto, min_samples_leaf=8, min_samples_split=2, n_estimators=100; total time=   0.8s\n",
      "[CV] END max_depth=60, max_features=auto, min_samples_leaf=12, min_samples_split=5, n_estimators=100; total time=   0.8s\n",
      "[CV] END max_depth=40, max_features=sqrt, min_samples_leaf=12, min_samples_split=2, n_estimators=50; total time=   0.1s\n",
      "[CV] END max_depth=50, max_features=auto, min_samples_leaf=4, min_samples_split=10, n_estimators=50; total time=   0.5s\n",
      "[CV] END max_depth=40, max_features=auto, min_samples_leaf=4, min_samples_split=10, n_estimators=200; total time=   2.3s\n",
      "[CV] END max_depth=50, max_features=sqrt, min_samples_leaf=12, min_samples_split=2, n_estimators=100; total time=   0.2s\n",
      "[CV] END max_depth=60, max_features=auto, min_samples_leaf=8, min_samples_split=10, n_estimators=50; total time=   0.4s\n",
      "[CV] END max_depth=60, max_features=sqrt, min_samples_leaf=4, min_samples_split=2, n_estimators=200; total time=   0.4s\n",
      "[CV] END max_depth=40, max_features=auto, min_samples_leaf=12, min_samples_split=10, n_estimators=50; total time=   0.4s\n",
      "[CV] END max_depth=50, max_features=auto, min_samples_leaf=4, min_samples_split=2, n_estimators=50; total time=   0.6s\n",
      "[CV] END max_depth=60, max_features=auto, min_samples_leaf=4, min_samples_split=5, n_estimators=100; total time=   1.1s\n",
      "[CV] END max_depth=40, max_features=auto, min_samples_leaf=8, min_samples_split=10, n_estimators=100; total time=   0.9s\n",
      "[CV] END max_depth=50, max_features=sqrt, min_samples_leaf=12, min_samples_split=10, n_estimators=100; total time=   0.2s\n",
      "[CV] END max_depth=40, max_features=sqrt, min_samples_leaf=8, min_samples_split=5, n_estimators=100; total time=   0.2s\n",
      "[CV] END max_depth=40, max_features=auto, min_samples_leaf=12, min_samples_split=5, n_estimators=100; total time=   0.8s\n",
      "[CV] END max_depth=60, max_features=auto, min_samples_leaf=4, min_samples_split=5, n_estimators=200; total time=   2.0s\n",
      "[CV] END max_depth=50, max_features=sqrt, min_samples_leaf=4, min_samples_split=5, n_estimators=100; total time=   0.2s\n",
      "[CV] END max_depth=50, max_features=auto, min_samples_leaf=4, min_samples_split=2, n_estimators=100; total time=   1.1s\n",
      "[CV] END max_depth=50, max_features=sqrt, min_samples_leaf=4, min_samples_split=10, n_estimators=200; total time=   0.4s\n",
      "[CV] END max_depth=40, max_features=auto, min_samples_leaf=4, min_samples_split=2, n_estimators=200; total time=   2.0s\n",
      "[CV] END max_depth=50, max_features=sqrt, min_samples_leaf=4, min_samples_split=2, n_estimators=200; total time=   0.4s\n",
      "[CV] END max_depth=40, max_features=sqrt, min_samples_leaf=8, min_samples_split=10, n_estimators=100; total time=   0.2s\n",
      "[CV] END max_depth=60, max_features=sqrt, min_samples_leaf=4, min_samples_split=10, n_estimators=200; total time=   0.4s\n",
      "[CV] END max_depth=50, max_features=auto, min_samples_leaf=12, min_samples_split=2, n_estimators=100; total time=   0.8s\n",
      "[CV] END max_depth=50, max_features=sqrt, min_samples_leaf=8, min_samples_split=2, n_estimators=50; total time=   0.1s\n",
      "[CV] END max_depth=60, max_features=auto, min_samples_leaf=12, min_samples_split=5, n_estimators=50; total time=   0.4s\n",
      "[CV] END max_depth=60, max_features=auto, min_samples_leaf=12, min_samples_split=2, n_estimators=50; total time=   0.4s\n",
      "[CV] END max_depth=40, max_features=sqrt, min_samples_leaf=12, min_samples_split=5, n_estimators=200; total time=   0.4s\n",
      "[CV] END max_depth=50, max_features=sqrt, min_samples_leaf=12, min_samples_split=10, n_estimators=200; total time=   0.3s\n"
     ]
    },
    {
     "name": "stdout",
     "output_type": "stream",
     "text": [
      "[CV] END max_depth=60, max_features=auto, min_samples_leaf=12, min_samples_split=5, n_estimators=100; total time=   0.8s\n",
      "[CV] END max_depth=10, max_features=sqrt, min_samples_leaf=8, min_samples_split=5, n_estimators=100; total time=   0.2s\n",
      "[CV] END max_depth=10, max_features=auto, min_samples_leaf=4, min_samples_split=10, n_estimators=100; total time=   1.1s\n",
      "[CV] END max_depth=20, max_features=auto, min_samples_leaf=12, min_samples_split=10, n_estimators=200; total time=   1.6s\n",
      "[CV] END max_depth=50, max_features=auto, min_samples_leaf=12, min_samples_split=5, n_estimators=50; total time=   0.4s\n",
      "[CV] END max_depth=40, max_features=auto, min_samples_leaf=8, min_samples_split=2, n_estimators=200; total time=   1.8s\n",
      "[CV] END max_depth=60, max_features=auto, min_samples_leaf=12, min_samples_split=2, n_estimators=50; total time=   0.4s\n",
      "[CV] END max_depth=50, max_features=auto, min_samples_leaf=8, min_samples_split=10, n_estimators=10; total time=   0.1s\n",
      "[CV] END max_depth=20, max_features=auto, min_samples_leaf=8, min_samples_split=5, n_estimators=100; total time=   0.9s\n",
      "[CV] END max_depth=30, max_features=auto, min_samples_leaf=4, min_samples_split=5, n_estimators=100; total time=   1.1s\n",
      "[CV] END max_depth=60, max_features=sqrt, min_samples_leaf=12, min_samples_split=5, n_estimators=200; total time=   0.3s\n",
      "[CV] END max_depth=30, max_features=sqrt, min_samples_leaf=8, min_samples_split=10, n_estimators=10; total time=   0.0s\n",
      "[CV] END max_depth=40, max_features=auto, min_samples_leaf=4, min_samples_split=5, n_estimators=10; total time=   0.1s\n",
      "[CV] END max_depth=30, max_features=auto, min_samples_leaf=4, min_samples_split=10, n_estimators=200; total time=   2.1s\n",
      "[CV] END max_depth=50, max_features=sqrt, min_samples_leaf=12, min_samples_split=2, n_estimators=200; total time=   0.3s\n",
      "[CV] END max_depth=30, max_features=auto, min_samples_leaf=8, min_samples_split=2, n_estimators=100; total time=   0.8s\n",
      "[CV] END max_depth=60, max_features=sqrt, min_samples_leaf=8, min_samples_split=10, n_estimators=50; total time=   0.1s\n",
      "[CV] END max_depth=60, max_features=sqrt, min_samples_leaf=8, min_samples_split=10, n_estimators=50; total time=   0.1s\n",
      "[CV] END max_depth=60, max_features=auto, min_samples_leaf=4, min_samples_split=5, n_estimators=50; total time=   0.5s\n",
      "[CV] END max_depth=10, max_features=auto, min_samples_leaf=8, min_samples_split=2, n_estimators=200; total time=   1.7s\n",
      "[CV] END max_depth=60, max_features=auto, min_samples_leaf=8, min_samples_split=2, n_estimators=100; total time=   0.9s\n",
      "[CV] END max_depth=20, max_features=sqrt, min_samples_leaf=8, min_samples_split=2, n_estimators=100; total time=   0.2s\n",
      "[CV] END max_depth=60, max_features=sqrt, min_samples_leaf=12, min_samples_split=5, n_estimators=50; total time=   0.1s\n",
      "[CV] END max_depth=50, max_features=auto, min_samples_leaf=12, min_samples_split=5, n_estimators=100; total time=   0.8s\n",
      "[CV] END max_depth=10, max_features=sqrt, min_samples_leaf=8, min_samples_split=10, n_estimators=200; total time=   0.4s\n",
      "[CV] END max_depth=10, max_features=sqrt, min_samples_leaf=12, min_samples_split=5, n_estimators=50; total time=   0.1s\n",
      "[CV] END max_depth=30, max_features=sqrt, min_samples_leaf=8, min_samples_split=5, n_estimators=100; total time=   0.2s\n",
      "[CV] END max_depth=60, max_features=sqrt, min_samples_leaf=12, min_samples_split=10, n_estimators=200; total time=   0.4s\n",
      "[CV] END max_depth=60, max_features=auto, min_samples_leaf=12, min_samples_split=10, n_estimators=10; total time=   0.1s\n",
      "[CV] END max_depth=60, max_features=auto, min_samples_leaf=12, min_samples_split=5, n_estimators=50; total time=   0.4s\n",
      "[CV] END max_depth=20, max_features=auto, min_samples_leaf=4, min_samples_split=5, n_estimators=10; total time=   0.1s\n",
      "[CV] END max_depth=30, max_features=auto, min_samples_leaf=4, min_samples_split=2, n_estimators=10; total time=   0.1s\n",
      "[CV] END max_depth=40, max_features=auto, min_samples_leaf=4, min_samples_split=5, n_estimators=50; total time=   0.5s\n",
      "[CV] END max_depth=10, max_features=sqrt, min_samples_leaf=8, min_samples_split=2, n_estimators=50; total time=   0.1s\n",
      "[CV] END max_depth=20, max_features=auto, min_samples_leaf=4, min_samples_split=2, n_estimators=100; total time=   1.0s\n",
      "[CV] END max_depth=10, max_features=sqrt, min_samples_leaf=4, min_samples_split=10, n_estimators=50; total time=   0.1s\n",
      "[CV] END max_depth=30, max_features=auto, min_samples_leaf=8, min_samples_split=2, n_estimators=200; total time=   1.9s\n",
      "[CV] END max_depth=50, max_features=sqrt, min_samples_leaf=8, min_samples_split=2, n_estimators=10; total time=   0.0s\n",
      "[CV] END max_depth=50, max_features=sqrt, min_samples_leaf=8, min_samples_split=2, n_estimators=10; total time=   0.0s\n",
      "[CV] END max_depth=60, max_features=auto, min_samples_leaf=12, min_samples_split=5, n_estimators=200; total time=   1.6s\n",
      "[CV] END max_depth=20, max_features=sqrt, min_samples_leaf=4, min_samples_split=5, n_estimators=50; total time=   0.1s\n",
      "[CV] END max_depth=20, max_features=sqrt, min_samples_leaf=12, min_samples_split=2, n_estimators=100; total time=   0.2s\n",
      "[CV] END max_depth=20, max_features=sqrt, min_samples_leaf=12, min_samples_split=10, n_estimators=50; total time=   0.1s\n",
      "[CV] END max_depth=10, max_features=auto, min_samples_leaf=8, min_samples_split=10, n_estimators=100; total time=   0.9s\n",
      "[CV] END max_depth=50, max_features=auto, min_samples_leaf=12, min_samples_split=5, n_estimators=10; total time=   0.1s\n",
      "[CV] END max_depth=10, max_features=auto, min_samples_leaf=8, min_samples_split=10, n_estimators=10; total time=   0.1s\n",
      "[CV] END max_depth=60, max_features=auto, min_samples_leaf=12, min_samples_split=5, n_estimators=200; total time=   1.6s\n",
      "[CV] END max_depth=40, max_features=sqrt, min_samples_leaf=8, min_samples_split=10, n_estimators=200; total time=   0.4s\n",
      "[CV] END max_depth=60, max_features=auto, min_samples_leaf=8, min_samples_split=10, n_estimators=100; total time=   0.9s\n",
      "[CV] END max_depth=50, max_features=sqrt, min_samples_leaf=4, min_samples_split=5, n_estimators=200; total time=   0.4s\n",
      "[CV] END max_depth=60, max_features=auto, min_samples_leaf=8, min_samples_split=5, n_estimators=200; total time=   1.7s\n",
      "[CV] END max_depth=60, max_features=auto, min_samples_leaf=8, min_samples_split=2, n_estimators=100; total time=   0.8s\n",
      "[CV] END max_depth=60, max_features=auto, min_samples_leaf=12, min_samples_split=5, n_estimators=100; total time=   0.7s\n",
      "[CV] END max_depth=50, max_features=auto, min_samples_leaf=4, min_samples_split=2, n_estimators=200; total time=   2.1s\n",
      "[CV] END max_depth=40, max_features=sqrt, min_samples_leaf=8, min_samples_split=2, n_estimators=100; total time=   0.2s\n",
      "[CV] END max_depth=40, max_features=sqrt, min_samples_leaf=4, min_samples_split=10, n_estimators=50; total time=   0.1s\n",
      "[CV] END max_depth=60, max_features=sqrt, min_samples_leaf=8, min_samples_split=5, n_estimators=200; total time=   0.3s\n",
      "[CV] END max_depth=50, max_features=sqrt, min_samples_leaf=12, min_samples_split=2, n_estimators=100; total time=   0.2s\n",
      "[CV] END max_depth=60, max_features=auto, min_samples_leaf=8, min_samples_split=10, n_estimators=50; total time=   0.4s\n",
      "[CV] END max_depth=60, max_features=sqrt, min_samples_leaf=4, min_samples_split=2, n_estimators=200; total time=   0.4s\n",
      "[CV] END max_depth=40, max_features=auto, min_samples_leaf=12, min_samples_split=10, n_estimators=50; total time=   0.4s\n",
      "[CV] END max_depth=50, max_features=auto, min_samples_leaf=4, min_samples_split=2, n_estimators=50; total time=   0.5s\n",
      "[CV] END max_depth=40, max_features=auto, min_samples_leaf=12, min_samples_split=2, n_estimators=100; total time=   0.8s\n",
      "[CV] END max_depth=60, max_features=auto, min_samples_leaf=12, min_samples_split=10, n_estimators=100; total time=   0.8s\n",
      "[CV] END max_depth=50, max_features=auto, min_samples_leaf=4, min_samples_split=10, n_estimators=100; total time=   1.0s\n",
      "[CV] END max_depth=50, max_features=sqrt, min_samples_leaf=8, min_samples_split=5, n_estimators=200; total time=   0.4s\n",
      "[CV] END max_depth=50, max_features=auto, min_samples_leaf=8, min_samples_split=10, n_estimators=200; total time=   1.7s\n",
      "[CV] END max_depth=60, max_features=sqrt, min_samples_leaf=8, min_samples_split=2, n_estimators=50; total time=   0.1s\n",
      "[CV] END max_depth=50, max_features=sqrt, min_samples_leaf=12, min_samples_split=2, n_estimators=200; total time=   0.4s\n",
      "[CV] END max_depth=40, max_features=sqrt, min_samples_leaf=4, min_samples_split=2, n_estimators=50; total time=   0.1s\n",
      "[CV] END max_depth=50, max_features=sqrt, min_samples_leaf=4, min_samples_split=5, n_estimators=100; total time=   0.2s\n",
      "[CV] END max_depth=50, max_features=auto, min_samples_leaf=4, min_samples_split=2, n_estimators=100; total time=   1.1s\n",
      "[CV] END max_depth=40, max_features=sqrt, min_samples_leaf=4, min_samples_split=5, n_estimators=50; total time=   0.1s\n",
      "[CV] END max_depth=60, max_features=sqrt, min_samples_leaf=12, min_samples_split=2, n_estimators=50; total time=   0.1s\n",
      "[CV] END max_depth=60, max_features=auto, min_samples_leaf=4, min_samples_split=2, n_estimators=100; total time=   1.0s\n",
      "[CV] END max_depth=50, max_features=auto, min_samples_leaf=4, min_samples_split=5, n_estimators=200; total time=   2.1s\n",
      "[CV] END max_depth=40, max_features=auto, min_samples_leaf=8, min_samples_split=2, n_estimators=100; total time=   0.9s\n",
      "[CV] END max_depth=60, max_features=sqrt, min_samples_leaf=12, min_samples_split=5, n_estimators=50; total time=   0.1s\n",
      "[CV] END max_depth=50, max_features=sqrt, min_samples_leaf=8, min_samples_split=10, n_estimators=100; total time=   0.2s\n",
      "[CV] END max_depth=60, max_features=auto, min_samples_leaf=12, min_samples_split=5, n_estimators=50; total time=   0.4s\n",
      "[CV] END max_depth=60, max_features=auto, min_samples_leaf=12, min_samples_split=2, n_estimators=50; total time=   0.4s\n",
      "[CV] END max_depth=40, max_features=sqrt, min_samples_leaf=12, min_samples_split=5, n_estimators=200; total time=   0.3s\n",
      "[CV] END max_depth=50, max_features=sqrt, min_samples_leaf=12, min_samples_split=10, n_estimators=200; total time=   0.4s\n",
      "[CV] END max_depth=60, max_features=sqrt, min_samples_leaf=8, min_samples_split=5, n_estimators=100; total time=   0.2s\n",
      "[CV] END max_depth=60, max_features=auto, min_samples_leaf=4, min_samples_split=2, n_estimators=50; total time=   0.5s\n",
      "[CV] END max_depth=60, max_features=auto, min_samples_leaf=4, min_samples_split=2, n_estimators=200; total time=   2.1s\n",
      "[CV] END max_depth=40, max_features=auto, min_samples_leaf=12, min_samples_split=5, n_estimators=200; total time=   1.6s\n",
      "[CV] END max_depth=40, max_features=auto, min_samples_leaf=8, min_samples_split=10, n_estimators=50; total time=   0.4s\n",
      "[CV] END max_depth=50, max_features=auto, min_samples_leaf=12, min_samples_split=10, n_estimators=50; total time=   0.4s\n",
      "[CV] END max_depth=40, max_features=sqrt, min_samples_leaf=12, min_samples_split=10, n_estimators=100; total time=   0.2s\n",
      "[CV] END max_depth=50, max_features=auto, min_samples_leaf=12, min_samples_split=5, n_estimators=100; total time=   0.8s\n",
      "[CV] END max_depth=60, max_features=sqrt, min_samples_leaf=12, min_samples_split=10, n_estimators=200; total time=   0.4s\n",
      "[CV] END max_depth=50, max_features=auto, min_samples_leaf=8, min_samples_split=5, n_estimators=200; total time=   1.8s\n",
      "[CV] END max_depth=60, max_features=auto, min_samples_leaf=8, min_samples_split=10, n_estimators=200; total time=   1.6s\n",
      "[CV] END max_depth=50, max_features=auto, min_samples_leaf=8, min_samples_split=5, n_estimators=50; total time=   0.4s\n",
      "[CV] END max_depth=60, max_features=sqrt, min_samples_leaf=8, min_samples_split=2, n_estimators=100; total time=   0.2s\n",
      "[CV] END max_depth=40, max_features=auto, min_samples_leaf=4, min_samples_split=10, n_estimators=100; total time=   1.0s\n",
      "[CV] END max_depth=50, max_features=auto, min_samples_leaf=12, min_samples_split=2, n_estimators=200; total time=   1.6s\n",
      "[CV] END max_depth=60, max_features=sqrt, min_samples_leaf=4, min_samples_split=2, n_estimators=50; total time=   0.1s\n",
      "[CV] END max_depth=50, max_features=sqrt, min_samples_leaf=8, min_samples_split=5, n_estimators=50; total time=   0.1s\n",
      "[CV] END max_depth=40, max_features=auto, min_samples_leaf=12, min_samples_split=10, n_estimators=200; total time=   1.5s\n",
      "[CV] END max_depth=60, max_features=auto, min_samples_leaf=8, min_samples_split=2, n_estimators=100; total time=   0.9s\n",
      "[CV] END max_depth=60, max_features=auto, min_samples_leaf=12, min_samples_split=5, n_estimators=100; total time=   0.8s\n",
      "[CV] END max_depth=50, max_features=auto, min_samples_leaf=4, min_samples_split=10, n_estimators=50; total time=   0.5s\n",
      "[CV] END max_depth=40, max_features=auto, min_samples_leaf=4, min_samples_split=10, n_estimators=200; total time=   2.2s\n",
      "[CV] END max_depth=50, max_features=sqrt, min_samples_leaf=12, min_samples_split=2, n_estimators=100; total time=   0.2s\n",
      "[CV] END max_depth=60, max_features=auto, min_samples_leaf=8, min_samples_split=10, n_estimators=50; total time=   0.4s\n",
      "[CV] END max_depth=60, max_features=sqrt, min_samples_leaf=4, min_samples_split=2, n_estimators=200; total time=   0.4s\n",
      "[CV] END max_depth=40, max_features=auto, min_samples_leaf=12, min_samples_split=10, n_estimators=50; total time=   0.4s\n",
      "[CV] END max_depth=50, max_features=auto, min_samples_leaf=4, min_samples_split=2, n_estimators=50; total time=   0.6s\n",
      "[CV] END max_depth=40, max_features=auto, min_samples_leaf=12, min_samples_split=2, n_estimators=100; total time=   0.8s\n",
      "[CV] END max_depth=60, max_features=auto, min_samples_leaf=12, min_samples_split=10, n_estimators=100; total time=   0.9s\n",
      "[CV] END max_depth=50, max_features=auto, min_samples_leaf=4, min_samples_split=10, n_estimators=100; total time=   1.0s\n",
      "[CV] END max_depth=50, max_features=sqrt, min_samples_leaf=8, min_samples_split=5, n_estimators=200; total time=   0.3s\n",
      "[CV] END max_depth=50, max_features=auto, min_samples_leaf=8, min_samples_split=10, n_estimators=200; total time=   1.7s\n",
      "[CV] END max_depth=50, max_features=sqrt, min_samples_leaf=12, min_samples_split=2, n_estimators=200; total time=   0.4s\n",
      "[CV] END max_depth=60, max_features=auto, min_samples_leaf=8, min_samples_split=5, n_estimators=50; total time=   0.4s\n",
      "[CV] END max_depth=50, max_features=auto, min_samples_leaf=4, min_samples_split=2, n_estimators=100; total time=   1.0s\n",
      "[CV] END max_depth=50, max_features=sqrt, min_samples_leaf=4, min_samples_split=10, n_estimators=200; total time=   0.4s\n",
      "[CV] END max_depth=40, max_features=auto, min_samples_leaf=4, min_samples_split=2, n_estimators=200; total time=   2.1s\n",
      "[CV] END max_depth=50, max_features=sqrt, min_samples_leaf=4, min_samples_split=2, n_estimators=200; total time=   0.4s\n",
      "[CV] END max_depth=50, max_features=sqrt, min_samples_leaf=8, min_samples_split=10, n_estimators=50; total time=   0.1s\n",
      "[CV] END max_depth=40, max_features=sqrt, min_samples_leaf=8, min_samples_split=10, n_estimators=100; total time=   0.2s\n",
      "[CV] END max_depth=40, max_features=auto, min_samples_leaf=8, min_samples_split=2, n_estimators=100; total time=   0.9s\n",
      "[CV] END max_depth=60, max_features=sqrt, min_samples_leaf=12, min_samples_split=5, n_estimators=50; total time=   0.1s\n",
      "[CV] END max_depth=60, max_features=sqrt, min_samples_leaf=12, min_samples_split=5, n_estimators=50; total time=   0.1s\n",
      "[CV] END max_depth=50, max_features=sqrt, min_samples_leaf=8, min_samples_split=10, n_estimators=100; total time=   0.2s\n",
      "[CV] END max_depth=60, max_features=auto, min_samples_leaf=12, min_samples_split=5, n_estimators=50; total time=   0.4s\n",
      "[CV] END max_depth=60, max_features=auto, min_samples_leaf=12, min_samples_split=2, n_estimators=50; total time=   0.4s\n",
      "[CV] END max_depth=40, max_features=sqrt, min_samples_leaf=12, min_samples_split=5, n_estimators=200; total time=   0.4s\n",
      "[CV] END max_depth=50, max_features=sqrt, min_samples_leaf=12, min_samples_split=10, n_estimators=200; total time=   0.4s\n",
      "[CV] END max_depth=50, max_features=auto, min_samples_leaf=8, min_samples_split=2, n_estimators=100; total time=   0.9s\n",
      "[CV] END max_depth=50, max_features=auto, min_samples_leaf=8, min_samples_split=10, n_estimators=50; total time=   0.4s\n",
      "[CV] END max_depth=40, max_features=sqrt, min_samples_leaf=12, min_samples_split=5, n_estimators=100; total time=   0.2s\n",
      "[CV] END max_depth=40, max_features=auto, min_samples_leaf=8, min_samples_split=5, n_estimators=100; total time=   0.8s\n",
      "[CV] END max_depth=60, max_features=auto, min_samples_leaf=8, min_samples_split=2, n_estimators=200; total time=   1.7s\n"
     ]
    },
    {
     "name": "stdout",
     "output_type": "stream",
     "text": [
      "[CV] END max_depth=30, max_features=auto, min_samples_leaf=4, min_samples_split=10, n_estimators=100; total time=   1.0s\n",
      "[CV] END max_depth=30, max_features=sqrt, min_samples_leaf=8, min_samples_split=5, n_estimators=200; total time=   0.4s\n",
      "[CV] END max_depth=30, max_features=auto, min_samples_leaf=4, min_samples_split=10, n_estimators=50; total time=   0.5s\n",
      "[CV] END max_depth=50, max_features=sqrt, min_samples_leaf=12, min_samples_split=2, n_estimators=100; total time=   0.2s\n",
      "[CV] END max_depth=20, max_features=auto, min_samples_leaf=12, min_samples_split=10, n_estimators=200; total time=   1.7s\n",
      "[CV] END max_depth=50, max_features=auto, min_samples_leaf=12, min_samples_split=5, n_estimators=50; total time=   0.5s\n",
      "[CV] END max_depth=40, max_features=auto, min_samples_leaf=8, min_samples_split=2, n_estimators=200; total time=   1.7s\n",
      "[CV] END max_depth=60, max_features=auto, min_samples_leaf=12, min_samples_split=2, n_estimators=50; total time=   0.4s\n",
      "[CV] END max_depth=50, max_features=auto, min_samples_leaf=8, min_samples_split=10, n_estimators=10; total time=   0.1s\n",
      "[CV] END max_depth=20, max_features=auto, min_samples_leaf=8, min_samples_split=5, n_estimators=100; total time=   0.8s\n",
      "[CV] END max_depth=30, max_features=auto, min_samples_leaf=4, min_samples_split=5, n_estimators=100; total time=   1.0s\n",
      "[CV] END max_depth=60, max_features=sqrt, min_samples_leaf=12, min_samples_split=5, n_estimators=200; total time=   0.3s\n",
      "[CV] END max_depth=30, max_features=sqrt, min_samples_leaf=8, min_samples_split=10, n_estimators=10; total time=   0.0s\n",
      "[CV] END max_depth=30, max_features=sqrt, min_samples_leaf=8, min_samples_split=10, n_estimators=10; total time=   0.0s\n",
      "[CV] END max_depth=40, max_features=auto, min_samples_leaf=4, min_samples_split=5, n_estimators=10; total time=   0.1s\n",
      "[CV] END max_depth=30, max_features=auto, min_samples_leaf=4, min_samples_split=10, n_estimators=200; total time=   2.1s\n",
      "[CV] END max_depth=50, max_features=sqrt, min_samples_leaf=12, min_samples_split=2, n_estimators=200; total time=   0.4s\n",
      "[CV] END max_depth=30, max_features=auto, min_samples_leaf=8, min_samples_split=2, n_estimators=100; total time=   0.9s\n",
      "[CV] END max_depth=60, max_features=sqrt, min_samples_leaf=8, min_samples_split=10, n_estimators=50; total time=   0.1s\n",
      "[CV] END max_depth=60, max_features=auto, min_samples_leaf=4, min_samples_split=5, n_estimators=50; total time=   0.5s\n",
      "[CV] END max_depth=20, max_features=sqrt, min_samples_leaf=12, min_samples_split=2, n_estimators=200; total time=   0.3s\n",
      "[CV] END max_depth=20, max_features=auto, min_samples_leaf=12, min_samples_split=2, n_estimators=10; total time=   0.1s\n",
      "[CV] END max_depth=60, max_features=auto, min_samples_leaf=4, min_samples_split=5, n_estimators=100; total time=   1.1s\n",
      "[CV] END max_depth=40, max_features=sqrt, min_samples_leaf=12, min_samples_split=2, n_estimators=100; total time=   0.2s\n",
      "[CV] END max_depth=50, max_features=auto, min_samples_leaf=12, min_samples_split=10, n_estimators=10; total time=   0.1s\n",
      "[CV] END max_depth=60, max_features=auto, min_samples_leaf=8, min_samples_split=2, n_estimators=100; total time=   0.9s\n",
      "[CV] END max_depth=20, max_features=sqrt, min_samples_leaf=8, min_samples_split=2, n_estimators=100; total time=   0.2s\n",
      "[CV] END max_depth=60, max_features=sqrt, min_samples_leaf=12, min_samples_split=5, n_estimators=50; total time=   0.1s\n",
      "[CV] END max_depth=50, max_features=auto, min_samples_leaf=12, min_samples_split=5, n_estimators=100; total time=   0.8s\n",
      "[CV] END max_depth=10, max_features=sqrt, min_samples_leaf=8, min_samples_split=10, n_estimators=200; total time=   0.4s\n",
      "[CV] END max_depth=30, max_features=sqrt, min_samples_leaf=8, min_samples_split=5, n_estimators=100; total time=   0.2s\n",
      "[CV] END max_depth=60, max_features=sqrt, min_samples_leaf=12, min_samples_split=10, n_estimators=200; total time=   0.4s\n",
      "[CV] END max_depth=60, max_features=auto, min_samples_leaf=12, min_samples_split=10, n_estimators=10; total time=   0.1s\n",
      "[CV] END max_depth=60, max_features=auto, min_samples_leaf=12, min_samples_split=5, n_estimators=50; total time=   0.4s\n",
      "[CV] END max_depth=30, max_features=auto, min_samples_leaf=12, min_samples_split=10, n_estimators=200; total time=   1.6s\n",
      "[CV] END max_depth=10, max_features=auto, min_samples_leaf=12, min_samples_split=2, n_estimators=100; total time=   0.8s\n",
      "[CV] END max_depth=50, max_features=auto, min_samples_leaf=12, min_samples_split=2, n_estimators=200; total time=   1.7s\n",
      "[CV] END max_depth=60, max_features=auto, min_samples_leaf=12, min_samples_split=5, n_estimators=200; total time=   1.5s\n",
      "[CV] END max_depth=20, max_features=sqrt, min_samples_leaf=4, min_samples_split=5, n_estimators=50; total time=   0.1s\n",
      "[CV] END max_depth=20, max_features=sqrt, min_samples_leaf=12, min_samples_split=2, n_estimators=100; total time=   0.2s\n",
      "[CV] END max_depth=20, max_features=sqrt, min_samples_leaf=12, min_samples_split=10, n_estimators=50; total time=   0.1s\n",
      "[CV] END max_depth=10, max_features=auto, min_samples_leaf=8, min_samples_split=10, n_estimators=100; total time=   0.8s\n",
      "[CV] END max_depth=50, max_features=auto, min_samples_leaf=12, min_samples_split=5, n_estimators=10; total time=   0.1s\n",
      "[CV] END max_depth=10, max_features=auto, min_samples_leaf=8, min_samples_split=10, n_estimators=10; total time=   0.1s\n",
      "[CV] END max_depth=50, max_features=auto, min_samples_leaf=8, min_samples_split=5, n_estimators=50; total time=   0.4s\n",
      "[CV] END max_depth=60, max_features=sqrt, min_samples_leaf=8, min_samples_split=2, n_estimators=100; total time=   0.2s\n",
      "[CV] END max_depth=40, max_features=auto, min_samples_leaf=4, min_samples_split=10, n_estimators=100; total time=   1.0s\n",
      "[CV] END max_depth=50, max_features=auto, min_samples_leaf=12, min_samples_split=2, n_estimators=200; total time=   1.5s\n",
      "[CV] END max_depth=60, max_features=auto, min_samples_leaf=8, min_samples_split=5, n_estimators=200; total time=   1.7s\n",
      "[CV] END max_depth=60, max_features=sqrt, min_samples_leaf=8, min_samples_split=5, n_estimators=50; total time=   0.1s\n",
      "[CV] END max_depth=60, max_features=auto, min_samples_leaf=8, min_samples_split=2, n_estimators=100; total time=   0.8s\n",
      "[CV] END max_depth=60, max_features=auto, min_samples_leaf=12, min_samples_split=5, n_estimators=100; total time=   0.7s\n",
      "[CV] END max_depth=50, max_features=auto, min_samples_leaf=4, min_samples_split=2, n_estimators=200; total time=   2.2s\n",
      "[CV] END max_depth=40, max_features=sqrt, min_samples_leaf=4, min_samples_split=10, n_estimators=50; total time=   0.1s\n",
      "[CV] END max_depth=60, max_features=sqrt, min_samples_leaf=8, min_samples_split=5, n_estimators=200; total time=   0.4s\n",
      "[CV] END max_depth=50, max_features=auto, min_samples_leaf=4, min_samples_split=10, n_estimators=200; total time=   2.0s\n",
      "[CV] END max_depth=60, max_features=sqrt, min_samples_leaf=8, min_samples_split=2, n_estimators=200; total time=   0.3s\n",
      "[CV] END max_depth=60, max_features=auto, min_samples_leaf=4, min_samples_split=5, n_estimators=100; total time=   1.1s\n",
      "[CV] END max_depth=40, max_features=auto, min_samples_leaf=8, min_samples_split=10, n_estimators=100; total time=   0.9s\n",
      "[CV] END max_depth=40, max_features=auto, min_samples_leaf=12, min_samples_split=5, n_estimators=100; total time=   0.8s\n",
      "[CV] END max_depth=60, max_features=auto, min_samples_leaf=4, min_samples_split=5, n_estimators=200; total time=   2.1s\n",
      "[CV] END max_depth=60, max_features=auto, min_samples_leaf=8, min_samples_split=5, n_estimators=50; total time=   0.5s\n",
      "[CV] END max_depth=60, max_features=sqrt, min_samples_leaf=12, min_samples_split=10, n_estimators=100; total time=   0.2s\n",
      "[CV] END max_depth=40, max_features=auto, min_samples_leaf=12, min_samples_split=2, n_estimators=50; total time=   0.4s\n",
      "[CV] END max_depth=50, max_features=sqrt, min_samples_leaf=8, min_samples_split=2, n_estimators=200; total time=   0.4s\n",
      "[CV] END max_depth=60, max_features=sqrt, min_samples_leaf=12, min_samples_split=2, n_estimators=50; total time=   0.1s\n",
      "[CV] END max_depth=60, max_features=auto, min_samples_leaf=4, min_samples_split=2, n_estimators=100; total time=   1.2s\n",
      "[CV] END max_depth=50, max_features=auto, min_samples_leaf=4, min_samples_split=5, n_estimators=200; total time=   2.2s\n",
      "[CV] END max_depth=40, max_features=auto, min_samples_leaf=8, min_samples_split=2, n_estimators=100; total time=   0.9s\n",
      "[CV] END max_depth=50, max_features=sqrt, min_samples_leaf=8, min_samples_split=2, n_estimators=50; total time=   0.1s\n",
      "[CV] END max_depth=50, max_features=auto, min_samples_leaf=12, min_samples_split=10, n_estimators=200; total time=   1.5s\n",
      "[CV] END max_depth=60, max_features=sqrt, min_samples_leaf=8, min_samples_split=5, n_estimators=100; total time=   0.2s\n",
      "[CV] END max_depth=60, max_features=auto, min_samples_leaf=4, min_samples_split=2, n_estimators=50; total time=   0.5s\n",
      "[CV] END max_depth=60, max_features=auto, min_samples_leaf=4, min_samples_split=2, n_estimators=200; total time=   2.1s\n",
      "[CV] END max_depth=40, max_features=auto, min_samples_leaf=12, min_samples_split=5, n_estimators=200; total time=   1.7s\n",
      "[CV] END max_depth=40, max_features=auto, min_samples_leaf=8, min_samples_split=10, n_estimators=50; total time=   0.4s\n",
      "[CV] END max_depth=50, max_features=auto, min_samples_leaf=12, min_samples_split=10, n_estimators=50; total time=   0.4s\n",
      "[CV] END max_depth=50, max_features=auto, min_samples_leaf=12, min_samples_split=5, n_estimators=100; total time=   0.8s\n",
      "[CV] END max_depth=50, max_features=sqrt, min_samples_leaf=8, min_samples_split=5, n_estimators=100; total time=   0.2s\n",
      "[CV] END max_depth=40, max_features=auto, min_samples_leaf=4, min_samples_split=10, n_estimators=50; total time=   0.5s\n",
      "[CV] END max_depth=50, max_features=auto, min_samples_leaf=12, min_samples_split=5, n_estimators=50; total time=   0.4s\n",
      "[CV] END max_depth=50, max_features=sqrt, min_samples_leaf=4, min_samples_split=5, n_estimators=50; total time=   0.1s\n",
      "[CV] END max_depth=60, max_features=auto, min_samples_leaf=8, min_samples_split=5, n_estimators=100; total time=   0.9s\n",
      "[CV] END max_depth=60, max_features=auto, min_samples_leaf=8, min_samples_split=10, n_estimators=200; total time=   1.6s\n",
      "[CV] END max_depth=60, max_features=auto, min_samples_leaf=12, min_samples_split=5, n_estimators=200; total time=   1.6s\n",
      "[CV] END max_depth=40, max_features=sqrt, min_samples_leaf=8, min_samples_split=10, n_estimators=200; total time=   0.4s\n",
      "[CV] END max_depth=60, max_features=auto, min_samples_leaf=8, min_samples_split=10, n_estimators=100; total time=   0.9s\n",
      "[CV] END max_depth=50, max_features=sqrt, min_samples_leaf=4, min_samples_split=5, n_estimators=200; total time=   0.4s\n",
      "[CV] END max_depth=60, max_features=sqrt, min_samples_leaf=4, min_samples_split=2, n_estimators=50; total time=   0.1s\n",
      "[CV] END max_depth=50, max_features=sqrt, min_samples_leaf=8, min_samples_split=5, n_estimators=50; total time=   0.1s\n",
      "[CV] END max_depth=40, max_features=auto, min_samples_leaf=12, min_samples_split=10, n_estimators=200; total time=   1.5s\n",
      "[CV] END max_depth=50, max_features=auto, min_samples_leaf=8, min_samples_split=2, n_estimators=50; total time=   0.5s\n",
      "[CV] END max_depth=40, max_features=sqrt, min_samples_leaf=12, min_samples_split=10, n_estimators=50; total time=   0.1s\n",
      "[CV] END max_depth=50, max_features=sqrt, min_samples_leaf=8, min_samples_split=10, n_estimators=200; total time=   0.4s\n",
      "[CV] END max_depth=60, max_features=auto, min_samples_leaf=4, min_samples_split=5, n_estimators=50; total time=   0.5s\n",
      "[CV] END max_depth=50, max_features=auto, min_samples_leaf=4, min_samples_split=2, n_estimators=200; total time=   2.2s\n",
      "[CV] END max_depth=40, max_features=sqrt, min_samples_leaf=4, min_samples_split=10, n_estimators=50; total time=   0.1s\n",
      "[CV] END max_depth=40, max_features=sqrt, min_samples_leaf=4, min_samples_split=10, n_estimators=50; total time=   0.1s\n",
      "[CV] END max_depth=60, max_features=sqrt, min_samples_leaf=8, min_samples_split=5, n_estimators=200; total time=   0.4s\n",
      "[CV] END max_depth=50, max_features=sqrt, min_samples_leaf=12, min_samples_split=2, n_estimators=100; total time=   0.2s\n",
      "[CV] END max_depth=60, max_features=auto, min_samples_leaf=8, min_samples_split=10, n_estimators=50; total time=   0.5s\n",
      "[CV] END max_depth=60, max_features=sqrt, min_samples_leaf=4, min_samples_split=2, n_estimators=200; total time=   0.5s\n",
      "[CV] END max_depth=40, max_features=auto, min_samples_leaf=12, min_samples_split=10, n_estimators=50; total time=   0.4s\n",
      "[CV] END max_depth=50, max_features=auto, min_samples_leaf=4, min_samples_split=2, n_estimators=50; total time=   0.6s\n",
      "[CV] END max_depth=60, max_features=auto, min_samples_leaf=4, min_samples_split=5, n_estimators=100; total time=   1.1s\n",
      "[CV] END max_depth=40, max_features=auto, min_samples_leaf=8, min_samples_split=10, n_estimators=100; total time=   0.8s\n",
      "[CV] END max_depth=50, max_features=sqrt, min_samples_leaf=12, min_samples_split=10, n_estimators=100; total time=   0.2s\n",
      "[CV] END max_depth=40, max_features=sqrt, min_samples_leaf=8, min_samples_split=5, n_estimators=100; total time=   0.2s\n",
      "[CV] END max_depth=50, max_features=sqrt, min_samples_leaf=8, min_samples_split=5, n_estimators=200; total time=   0.4s\n",
      "[CV] END max_depth=50, max_features=auto, min_samples_leaf=8, min_samples_split=10, n_estimators=200; total time=   1.7s\n",
      "[CV] END max_depth=60, max_features=sqrt, min_samples_leaf=8, min_samples_split=2, n_estimators=50; total time=   0.1s\n",
      "[CV] END max_depth=60, max_features=sqrt, min_samples_leaf=8, min_samples_split=2, n_estimators=50; total time=   0.1s\n",
      "[CV] END max_depth=50, max_features=sqrt, min_samples_leaf=12, min_samples_split=2, n_estimators=200; total time=   0.3s\n",
      "[CV] END max_depth=60, max_features=auto, min_samples_leaf=8, min_samples_split=5, n_estimators=50; total time=   0.4s\n",
      "[CV] END max_depth=60, max_features=sqrt, min_samples_leaf=12, min_samples_split=10, n_estimators=100; total time=   0.2s\n",
      "[CV] END max_depth=40, max_features=auto, min_samples_leaf=12, min_samples_split=2, n_estimators=50; total time=   0.4s\n",
      "[CV] END max_depth=50, max_features=sqrt, min_samples_leaf=8, min_samples_split=2, n_estimators=200; total time=   0.4s\n",
      "[CV] END max_depth=40, max_features=sqrt, min_samples_leaf=4, min_samples_split=5, n_estimators=50; total time=   0.1s\n",
      "[CV] END max_depth=60, max_features=sqrt, min_samples_leaf=12, min_samples_split=2, n_estimators=50; total time=   0.1s\n",
      "[CV] END max_depth=60, max_features=auto, min_samples_leaf=4, min_samples_split=2, n_estimators=100; total time=   1.0s\n",
      "[CV] END max_depth=50, max_features=auto, min_samples_leaf=4, min_samples_split=5, n_estimators=200; total time=   2.1s\n",
      "[CV] END max_depth=40, max_features=auto, min_samples_leaf=8, min_samples_split=2, n_estimators=100; total time=   0.8s\n",
      "[CV] END max_depth=60, max_features=sqrt, min_samples_leaf=12, min_samples_split=5, n_estimators=50; total time=   0.1s\n",
      "[CV] END max_depth=50, max_features=sqrt, min_samples_leaf=8, min_samples_split=2, n_estimators=50; total time=   0.1s\n",
      "[CV] END max_depth=50, max_features=auto, min_samples_leaf=12, min_samples_split=10, n_estimators=200; total time=   1.5s\n",
      "[CV] END max_depth=60, max_features=sqrt, min_samples_leaf=8, min_samples_split=5, n_estimators=100; total time=   0.2s\n",
      "[CV] END max_depth=60, max_features=auto, min_samples_leaf=4, min_samples_split=2, n_estimators=50; total time=   0.5s\n",
      "[CV] END max_depth=60, max_features=auto, min_samples_leaf=4, min_samples_split=2, n_estimators=200; total time=   2.1s\n",
      "[CV] END max_depth=40, max_features=auto, min_samples_leaf=12, min_samples_split=5, n_estimators=200; total time=   1.6s\n",
      "[CV] END max_depth=40, max_features=auto, min_samples_leaf=8, min_samples_split=10, n_estimators=50; total time=   0.5s\n",
      "[CV] END max_depth=50, max_features=auto, min_samples_leaf=12, min_samples_split=10, n_estimators=50; total time=   0.4s\n",
      "[CV] END max_depth=50, max_features=auto, min_samples_leaf=12, min_samples_split=5, n_estimators=100; total time=   0.7s\n",
      "[CV] END max_depth=60, max_features=sqrt, min_samples_leaf=12, min_samples_split=10, n_estimators=200; total time=   0.3s\n",
      "[CV] END max_depth=40, max_features=auto, min_samples_leaf=4, min_samples_split=10, n_estimators=50; total time=   0.5s\n",
      "[CV] END max_depth=50, max_features=auto, min_samples_leaf=12, min_samples_split=5, n_estimators=50; total time=   0.4s\n",
      "[CV] END max_depth=50, max_features=sqrt, min_samples_leaf=4, min_samples_split=5, n_estimators=50; total time=   0.1s\n"
     ]
    },
    {
     "name": "stdout",
     "output_type": "stream",
     "text": [
      "[CV] END max_depth=60, max_features=auto, min_samples_leaf=12, min_samples_split=5, n_estimators=100; total time=   0.8s\n",
      "[CV] END max_depth=10, max_features=sqrt, min_samples_leaf=8, min_samples_split=5, n_estimators=100; total time=   0.2s\n",
      "[CV] END max_depth=10, max_features=auto, min_samples_leaf=4, min_samples_split=10, n_estimators=100; total time=   1.0s\n",
      "[CV] END max_depth=20, max_features=auto, min_samples_leaf=12, min_samples_split=5, n_estimators=100; total time=   0.8s\n",
      "[CV] END max_depth=30, max_features=auto, min_samples_leaf=8, min_samples_split=2, n_estimators=50; total time=   0.5s\n",
      "[CV] END max_depth=10, max_features=auto, min_samples_leaf=8, min_samples_split=10, n_estimators=50; total time=   0.4s\n",
      "[CV] END max_depth=50, max_features=auto, min_samples_leaf=12, min_samples_split=5, n_estimators=50; total time=   0.4s\n",
      "[CV] END max_depth=40, max_features=auto, min_samples_leaf=8, min_samples_split=2, n_estimators=200; total time=   1.7s\n",
      "[CV] END max_depth=60, max_features=auto, min_samples_leaf=12, min_samples_split=2, n_estimators=50; total time=   0.4s\n",
      "[CV] END max_depth=50, max_features=auto, min_samples_leaf=8, min_samples_split=10, n_estimators=10; total time=   0.1s\n",
      "[CV] END max_depth=20, max_features=auto, min_samples_leaf=8, min_samples_split=5, n_estimators=100; total time=   0.9s\n",
      "[CV] END max_depth=30, max_features=auto, min_samples_leaf=8, min_samples_split=5, n_estimators=10; total time=   0.1s\n",
      "[CV] END max_depth=30, max_features=auto, min_samples_leaf=8, min_samples_split=5, n_estimators=10; total time=   0.1s\n",
      "[CV] END max_depth=50, max_features=auto, min_samples_leaf=12, min_samples_split=2, n_estimators=10; total time=   0.1s\n",
      "[CV] END max_depth=10, max_features=auto, min_samples_leaf=8, min_samples_split=2, n_estimators=10; total time=   0.1s\n",
      "[CV] END max_depth=30, max_features=sqrt, min_samples_leaf=8, min_samples_split=5, n_estimators=10; total time=   0.0s\n",
      "[CV] END max_depth=40, max_features=sqrt, min_samples_leaf=12, min_samples_split=5, n_estimators=100; total time=   0.2s\n",
      "[CV] END max_depth=30, max_features=auto, min_samples_leaf=12, min_samples_split=5, n_estimators=200; total time=   1.7s\n",
      "[CV] END max_depth=60, max_features=auto, min_samples_leaf=4, min_samples_split=2, n_estimators=200; total time=   2.2s\n",
      "[CV] END max_depth=20, max_features=auto, min_samples_leaf=4, min_samples_split=5, n_estimators=100; total time=   1.0s\n",
      "[CV] END max_depth=10, max_features=auto, min_samples_leaf=8, min_samples_split=2, n_estimators=200; total time=   1.7s\n",
      "[CV] END max_depth=50, max_features=auto, min_samples_leaf=12, min_samples_split=10, n_estimators=10; total time=   0.1s\n",
      "[CV] END max_depth=60, max_features=auto, min_samples_leaf=8, min_samples_split=2, n_estimators=100; total time=   0.9s\n",
      "[CV] END max_depth=20, max_features=sqrt, min_samples_leaf=8, min_samples_split=2, n_estimators=100; total time=   0.2s\n",
      "[CV] END max_depth=40, max_features=sqrt, min_samples_leaf=4, min_samples_split=5, n_estimators=200; total time=   0.4s\n",
      "[CV] END max_depth=50, max_features=sqrt, min_samples_leaf=4, min_samples_split=5, n_estimators=100; total time=   0.2s\n",
      "[CV] END max_depth=30, max_features=auto, min_samples_leaf=8, min_samples_split=10, n_estimators=10; total time=   0.1s\n",
      "[CV] END max_depth=60, max_features=sqrt, min_samples_leaf=8, min_samples_split=5, n_estimators=200; total time=   0.4s\n",
      "[CV] END max_depth=50, max_features=sqrt, min_samples_leaf=8, min_samples_split=5, n_estimators=10; total time=   0.0s\n",
      "[CV] END max_depth=60, max_features=sqrt, min_samples_leaf=4, min_samples_split=5, n_estimators=100; total time=   0.2s\n",
      "[CV] END max_depth=50, max_features=sqrt, min_samples_leaf=8, min_samples_split=5, n_estimators=200; total time=   0.4s\n",
      "[CV] END max_depth=20, max_features=sqrt, min_samples_leaf=12, min_samples_split=10, n_estimators=100; total time=   0.2s\n",
      "[CV] END max_depth=40, max_features=auto, min_samples_leaf=4, min_samples_split=10, n_estimators=50; total time=   0.5s\n",
      "[CV] END max_depth=20, max_features=auto, min_samples_leaf=4, min_samples_split=5, n_estimators=10; total time=   0.1s\n",
      "[CV] END max_depth=30, max_features=auto, min_samples_leaf=4, min_samples_split=2, n_estimators=10; total time=   0.1s\n",
      "[CV] END max_depth=40, max_features=auto, min_samples_leaf=4, min_samples_split=5, n_estimators=50; total time=   0.5s\n",
      "[CV] END max_depth=10, max_features=sqrt, min_samples_leaf=8, min_samples_split=2, n_estimators=50; total time=   0.1s\n",
      "[CV] END max_depth=10, max_features=sqrt, min_samples_leaf=8, min_samples_split=5, n_estimators=10; total time=   0.0s\n",
      "[CV] END max_depth=10, max_features=sqrt, min_samples_leaf=8, min_samples_split=5, n_estimators=10; total time=   0.0s\n",
      "[CV] END max_depth=20, max_features=auto, min_samples_leaf=4, min_samples_split=2, n_estimators=100; total time=   1.1s\n",
      "[CV] END max_depth=10, max_features=sqrt, min_samples_leaf=4, min_samples_split=10, n_estimators=50; total time=   0.1s\n",
      "[CV] END max_depth=30, max_features=auto, min_samples_leaf=8, min_samples_split=2, n_estimators=200; total time=   1.7s\n",
      "[CV] END max_depth=40, max_features=auto, min_samples_leaf=8, min_samples_split=5, n_estimators=50; total time=   0.5s\n",
      "[CV] END max_depth=60, max_features=auto, min_samples_leaf=8, min_samples_split=5, n_estimators=100; total time=   0.8s\n",
      "[CV] END max_depth=10, max_features=auto, min_samples_leaf=4, min_samples_split=5, n_estimators=50; total time=   0.5s\n",
      "[CV] END max_depth=30, max_features=sqrt, min_samples_leaf=4, min_samples_split=10, n_estimators=100; total time=   0.2s\n",
      "[CV] END max_depth=10, max_features=auto, min_samples_leaf=4, min_samples_split=5, n_estimators=200; total time=   1.8s\n",
      "[CV] END max_depth=50, max_features=auto, min_samples_leaf=8, min_samples_split=5, n_estimators=50; total time=   0.4s\n",
      "[CV] END max_depth=60, max_features=sqrt, min_samples_leaf=8, min_samples_split=2, n_estimators=100; total time=   0.2s\n",
      "[CV] END max_depth=40, max_features=auto, min_samples_leaf=4, min_samples_split=10, n_estimators=100; total time=   1.0s\n",
      "[CV] END max_depth=50, max_features=auto, min_samples_leaf=12, min_samples_split=2, n_estimators=200; total time=   1.6s\n",
      "[CV] END max_depth=60, max_features=auto, min_samples_leaf=8, min_samples_split=5, n_estimators=200; total time=   1.7s\n",
      "[CV] END max_depth=60, max_features=sqrt, min_samples_leaf=8, min_samples_split=5, n_estimators=50; total time=   0.1s\n",
      "[CV] END max_depth=60, max_features=auto, min_samples_leaf=8, min_samples_split=2, n_estimators=100; total time=   0.9s\n",
      "[CV] END max_depth=60, max_features=auto, min_samples_leaf=12, min_samples_split=5, n_estimators=100; total time=   0.8s\n",
      "[CV] END max_depth=50, max_features=auto, min_samples_leaf=4, min_samples_split=10, n_estimators=50; total time=   0.5s\n",
      "[CV] END max_depth=40, max_features=auto, min_samples_leaf=4, min_samples_split=10, n_estimators=200; total time=   1.9s\n",
      "[CV] END max_depth=50, max_features=auto, min_samples_leaf=4, min_samples_split=10, n_estimators=200; total time=   2.0s\n",
      "[CV] END max_depth=60, max_features=sqrt, min_samples_leaf=8, min_samples_split=2, n_estimators=200; total time=   0.4s\n",
      "[CV] END max_depth=60, max_features=auto, min_samples_leaf=4, min_samples_split=5, n_estimators=100; total time=   1.1s\n",
      "[CV] END max_depth=40, max_features=auto, min_samples_leaf=8, min_samples_split=10, n_estimators=100; total time=   0.8s\n",
      "[CV] END max_depth=40, max_features=sqrt, min_samples_leaf=8, min_samples_split=5, n_estimators=100; total time=   0.2s\n",
      "[CV] END max_depth=40, max_features=sqrt, min_samples_leaf=8, min_samples_split=5, n_estimators=100; total time=   0.2s\n",
      "[CV] END max_depth=50, max_features=sqrt, min_samples_leaf=8, min_samples_split=5, n_estimators=200; total time=   0.4s\n",
      "[CV] END max_depth=50, max_features=auto, min_samples_leaf=8, min_samples_split=10, n_estimators=200; total time=   1.7s\n",
      "[CV] END max_depth=60, max_features=sqrt, min_samples_leaf=8, min_samples_split=2, n_estimators=50; total time=   0.1s\n",
      "[CV] END max_depth=50, max_features=sqrt, min_samples_leaf=12, min_samples_split=2, n_estimators=200; total time=   0.4s\n",
      "[CV] END max_depth=60, max_features=auto, min_samples_leaf=8, min_samples_split=5, n_estimators=50; total time=   0.4s\n",
      "[CV] END max_depth=50, max_features=auto, min_samples_leaf=4, min_samples_split=2, n_estimators=100; total time=   1.0s\n",
      "[CV] END max_depth=50, max_features=sqrt, min_samples_leaf=4, min_samples_split=10, n_estimators=200; total time=   0.4s\n",
      "[CV] END max_depth=40, max_features=auto, min_samples_leaf=4, min_samples_split=2, n_estimators=200; total time=   2.1s\n",
      "[CV] END max_depth=50, max_features=sqrt, min_samples_leaf=4, min_samples_split=2, n_estimators=200; total time=   0.4s\n",
      "[CV] END max_depth=50, max_features=sqrt, min_samples_leaf=8, min_samples_split=10, n_estimators=50; total time=   0.1s\n",
      "[CV] END max_depth=40, max_features=sqrt, min_samples_leaf=8, min_samples_split=10, n_estimators=100; total time=   0.2s\n",
      "[CV] END max_depth=60, max_features=sqrt, min_samples_leaf=4, min_samples_split=10, n_estimators=200; total time=   0.4s\n",
      "[CV] END max_depth=50, max_features=auto, min_samples_leaf=12, min_samples_split=2, n_estimators=100; total time=   0.8s\n",
      "[CV] END max_depth=50, max_features=sqrt, min_samples_leaf=8, min_samples_split=2, n_estimators=50; total time=   0.1s\n",
      "[CV] END max_depth=60, max_features=auto, min_samples_leaf=12, min_samples_split=5, n_estimators=50; total time=   0.4s\n",
      "[CV] END max_depth=60, max_features=auto, min_samples_leaf=12, min_samples_split=2, n_estimators=50; total time=   0.4s\n",
      "[CV] END max_depth=40, max_features=sqrt, min_samples_leaf=12, min_samples_split=5, n_estimators=200; total time=   0.4s\n",
      "[CV] END max_depth=50, max_features=sqrt, min_samples_leaf=12, min_samples_split=10, n_estimators=200; total time=   0.4s\n",
      "[CV] END max_depth=50, max_features=auto, min_samples_leaf=8, min_samples_split=2, n_estimators=100; total time=   0.8s\n",
      "[CV] END max_depth=50, max_features=auto, min_samples_leaf=8, min_samples_split=10, n_estimators=50; total time=   0.4s\n",
      "[CV] END max_depth=40, max_features=sqrt, min_samples_leaf=12, min_samples_split=5, n_estimators=100; total time=   0.2s\n",
      "[CV] END max_depth=40, max_features=sqrt, min_samples_leaf=12, min_samples_split=5, n_estimators=50; total time=   0.1s\n",
      "[CV] END max_depth=40, max_features=auto, min_samples_leaf=8, min_samples_split=5, n_estimators=100; total time=   0.9s\n",
      "[CV] END max_depth=60, max_features=auto, min_samples_leaf=8, min_samples_split=2, n_estimators=200; total time=   1.8s\n",
      "[CV] END max_depth=40, max_features=auto, min_samples_leaf=8, min_samples_split=10, n_estimators=50; total time=   0.4s\n",
      "[CV] END max_depth=50, max_features=auto, min_samples_leaf=12, min_samples_split=10, n_estimators=50; total time=   0.4s\n",
      "[CV] END max_depth=40, max_features=sqrt, min_samples_leaf=12, min_samples_split=10, n_estimators=100; total time=   0.2s\n",
      "[CV] END max_depth=40, max_features=sqrt, min_samples_leaf=12, min_samples_split=10, n_estimators=100; total time=   0.2s\n",
      "[CV] END max_depth=50, max_features=auto, min_samples_leaf=12, min_samples_split=5, n_estimators=100; total time=   0.8s\n",
      "[CV] END max_depth=50, max_features=sqrt, min_samples_leaf=8, min_samples_split=5, n_estimators=100; total time=   0.2s\n",
      "[CV] END max_depth=50, max_features=auto, min_samples_leaf=8, min_samples_split=5, n_estimators=200; total time=   1.7s\n",
      "[CV] END max_depth=40, max_features=auto, min_samples_leaf=8, min_samples_split=5, n_estimators=50; total time=   0.4s\n",
      "[CV] END max_depth=60, max_features=auto, min_samples_leaf=12, min_samples_split=5, n_estimators=200; total time=   1.6s\n",
      "[CV] END max_depth=50, max_features=auto, min_samples_leaf=12, min_samples_split=2, n_estimators=200; total time=   1.6s\n",
      "[CV] END max_depth=60, max_features=sqrt, min_samples_leaf=4, min_samples_split=2, n_estimators=50; total time=   0.1s\n",
      "[CV] END max_depth=50, max_features=sqrt, min_samples_leaf=8, min_samples_split=5, n_estimators=50; total time=   0.1s\n",
      "[CV] END max_depth=40, max_features=auto, min_samples_leaf=12, min_samples_split=10, n_estimators=200; total time=   1.5s\n",
      "[CV] END max_depth=50, max_features=auto, min_samples_leaf=8, min_samples_split=2, n_estimators=50; total time=   0.4s\n",
      "[CV] END max_depth=40, max_features=sqrt, min_samples_leaf=12, min_samples_split=10, n_estimators=50; total time=   0.1s\n",
      "[CV] END max_depth=50, max_features=sqrt, min_samples_leaf=8, min_samples_split=10, n_estimators=200; total time=   0.4s\n",
      "[CV] END max_depth=60, max_features=auto, min_samples_leaf=4, min_samples_split=5, n_estimators=50; total time=   0.6s\n",
      "[CV] END max_depth=50, max_features=auto, min_samples_leaf=4, min_samples_split=2, n_estimators=200; total time=   2.2s\n",
      "[CV] END max_depth=40, max_features=sqrt, min_samples_leaf=8, min_samples_split=2, n_estimators=100; total time=   0.2s\n",
      "[CV] END max_depth=40, max_features=sqrt, min_samples_leaf=4, min_samples_split=10, n_estimators=50; total time=   0.1s\n",
      "[CV] END max_depth=50, max_features=auto, min_samples_leaf=4, min_samples_split=10, n_estimators=200; total time=   2.0s\n",
      "[CV] END max_depth=60, max_features=sqrt, min_samples_leaf=8, min_samples_split=2, n_estimators=200; total time=   0.4s\n",
      "[CV] END max_depth=40, max_features=auto, min_samples_leaf=12, min_samples_split=2, n_estimators=100; total time=   0.8s\n",
      "[CV] END max_depth=60, max_features=auto, min_samples_leaf=12, min_samples_split=10, n_estimators=100; total time=   0.8s\n",
      "[CV] END max_depth=50, max_features=auto, min_samples_leaf=4, min_samples_split=10, n_estimators=100; total time=   1.0s\n",
      "[CV] END max_depth=50, max_features=sqrt, min_samples_leaf=8, min_samples_split=5, n_estimators=200; total time=   0.4s\n",
      "[CV] END max_depth=50, max_features=auto, min_samples_leaf=8, min_samples_split=10, n_estimators=200; total time=   1.7s\n",
      "[CV] END max_depth=50, max_features=sqrt, min_samples_leaf=12, min_samples_split=2, n_estimators=200; total time=   0.3s\n",
      "[CV] END max_depth=40, max_features=sqrt, min_samples_leaf=4, min_samples_split=2, n_estimators=50; total time=   0.1s\n",
      "[CV] END max_depth=60, max_features=auto, min_samples_leaf=8, min_samples_split=5, n_estimators=50; total time=   0.4s\n",
      "[CV] END max_depth=60, max_features=sqrt, min_samples_leaf=12, min_samples_split=10, n_estimators=100; total time=   0.2s\n",
      "[CV] END max_depth=40, max_features=auto, min_samples_leaf=12, min_samples_split=2, n_estimators=50; total time=   0.4s\n",
      "[CV] END max_depth=50, max_features=sqrt, min_samples_leaf=8, min_samples_split=2, n_estimators=200; total time=   0.3s\n",
      "[CV] END max_depth=40, max_features=sqrt, min_samples_leaf=4, min_samples_split=5, n_estimators=50; total time=   0.1s\n",
      "[CV] END max_depth=60, max_features=sqrt, min_samples_leaf=12, min_samples_split=2, n_estimators=50; total time=   0.1s\n",
      "[CV] END max_depth=60, max_features=auto, min_samples_leaf=4, min_samples_split=2, n_estimators=100; total time=   1.1s\n",
      "[CV] END max_depth=50, max_features=auto, min_samples_leaf=4, min_samples_split=5, n_estimators=200; total time=   2.1s\n",
      "[CV] END max_depth=40, max_features=auto, min_samples_leaf=8, min_samples_split=2, n_estimators=100; total time=   0.8s\n",
      "[CV] END max_depth=50, max_features=sqrt, min_samples_leaf=8, min_samples_split=10, n_estimators=100; total time=   0.2s\n",
      "[CV] END max_depth=60, max_features=auto, min_samples_leaf=12, min_samples_split=5, n_estimators=50; total time=   0.4s\n",
      "[CV] END max_depth=60, max_features=auto, min_samples_leaf=12, min_samples_split=2, n_estimators=50; total time=   0.4s\n",
      "[CV] END max_depth=40, max_features=sqrt, min_samples_leaf=12, min_samples_split=5, n_estimators=200; total time=   0.3s\n",
      "[CV] END max_depth=50, max_features=sqrt, min_samples_leaf=12, min_samples_split=10, n_estimators=200; total time=   0.3s\n",
      "[CV] END max_depth=50, max_features=auto, min_samples_leaf=8, min_samples_split=2, n_estimators=100; total time=   0.8s\n",
      "[CV] END max_depth=50, max_features=auto, min_samples_leaf=8, min_samples_split=10, n_estimators=50; total time=   0.5s\n",
      "[CV] END max_depth=40, max_features=sqrt, min_samples_leaf=12, min_samples_split=5, n_estimators=100; total time=   0.2s\n",
      "[CV] END max_depth=40, max_features=sqrt, min_samples_leaf=12, min_samples_split=5, n_estimators=50; total time=   0.1s\n",
      "[CV] END max_depth=40, max_features=sqrt, min_samples_leaf=12, min_samples_split=5, n_estimators=50; total time=   0.1s\n",
      "[CV] END max_depth=40, max_features=auto, min_samples_leaf=8, min_samples_split=5, n_estimators=100; total time=   0.8s\n"
     ]
    },
    {
     "name": "stdout",
     "output_type": "stream",
     "text": [
      "[CV] END max_depth=30, max_features=auto, min_samples_leaf=4, min_samples_split=10, n_estimators=100; total time=   1.0s\n",
      "[CV] END max_depth=10, max_features=auto, min_samples_leaf=4, min_samples_split=10, n_estimators=100; total time=   1.0s\n",
      "[CV] END max_depth=20, max_features=auto, min_samples_leaf=12, min_samples_split=5, n_estimators=100; total time=   0.8s\n",
      "[CV] END max_depth=30, max_features=auto, min_samples_leaf=8, min_samples_split=2, n_estimators=50; total time=   0.4s\n",
      "[CV] END max_depth=10, max_features=auto, min_samples_leaf=8, min_samples_split=10, n_estimators=50; total time=   0.5s\n",
      "[CV] END max_depth=50, max_features=auto, min_samples_leaf=12, min_samples_split=5, n_estimators=200; total time=   1.6s\n",
      "[CV] END max_depth=30, max_features=sqrt, min_samples_leaf=8, min_samples_split=2, n_estimators=100; total time=   0.2s\n",
      "[CV] END max_depth=50, max_features=sqrt, min_samples_leaf=4, min_samples_split=10, n_estimators=10; total time=   0.0s\n",
      "[CV] END max_depth=20, max_features=auto, min_samples_leaf=12, min_samples_split=5, n_estimators=10; total time=   0.1s\n",
      "[CV] END max_depth=30, max_features=sqrt, min_samples_leaf=4, min_samples_split=10, n_estimators=10; total time=   0.0s\n",
      "[CV] END max_depth=30, max_features=sqrt, min_samples_leaf=12, min_samples_split=2, n_estimators=50; total time=   0.1s\n",
      "[CV] END max_depth=60, max_features=auto, min_samples_leaf=12, min_samples_split=10, n_estimators=100; total time=   0.8s\n",
      "[CV] END max_depth=10, max_features=auto, min_samples_leaf=4, min_samples_split=2, n_estimators=50; total time=   0.5s\n",
      "[CV] END max_depth=50, max_features=sqrt, min_samples_leaf=4, min_samples_split=2, n_estimators=100; total time=   0.2s\n",
      "[CV] END max_depth=30, max_features=auto, min_samples_leaf=4, min_samples_split=5, n_estimators=100; total time=   1.1s\n",
      "[CV] END max_depth=60, max_features=sqrt, min_samples_leaf=12, min_samples_split=5, n_estimators=200; total time=   0.3s\n",
      "[CV] END max_depth=40, max_features=auto, min_samples_leaf=4, min_samples_split=5, n_estimators=10; total time=   0.1s\n",
      "[CV] END max_depth=30, max_features=auto, min_samples_leaf=4, min_samples_split=10, n_estimators=200; total time=   2.2s\n",
      "[CV] END max_depth=50, max_features=sqrt, min_samples_leaf=12, min_samples_split=2, n_estimators=200; total time=   0.3s\n",
      "[CV] END max_depth=30, max_features=auto, min_samples_leaf=8, min_samples_split=2, n_estimators=100; total time=   0.9s\n",
      "[CV] END max_depth=60, max_features=auto, min_samples_leaf=4, min_samples_split=5, n_estimators=50; total time=   0.5s\n",
      "[CV] END max_depth=10, max_features=auto, min_samples_leaf=8, min_samples_split=2, n_estimators=200; total time=   1.7s\n",
      "[CV] END max_depth=40, max_features=sqrt, min_samples_leaf=12, min_samples_split=2, n_estimators=100; total time=   0.2s\n",
      "[CV] END max_depth=10, max_features=auto, min_samples_leaf=4, min_samples_split=5, n_estimators=100; total time=   1.0s\n",
      "[CV] END max_depth=60, max_features=sqrt, min_samples_leaf=12, min_samples_split=5, n_estimators=50; total time=   0.1s\n",
      "[CV] END max_depth=50, max_features=auto, min_samples_leaf=12, min_samples_split=5, n_estimators=100; total time=   0.8s\n",
      "[CV] END max_depth=20, max_features=sqrt, min_samples_leaf=12, min_samples_split=2, n_estimators=10; total time=   0.0s\n",
      "[CV] END max_depth=10, max_features=sqrt, min_samples_leaf=8, min_samples_split=10, n_estimators=200; total time=   0.4s\n",
      "[CV] END max_depth=10, max_features=sqrt, min_samples_leaf=12, min_samples_split=5, n_estimators=50; total time=   0.1s\n",
      "[CV] END max_depth=30, max_features=sqrt, min_samples_leaf=8, min_samples_split=5, n_estimators=100; total time=   0.2s\n",
      "[CV] END max_depth=60, max_features=sqrt, min_samples_leaf=12, min_samples_split=10, n_estimators=200; total time=   0.4s\n",
      "[CV] END max_depth=60, max_features=auto, min_samples_leaf=12, min_samples_split=10, n_estimators=10; total time=   0.1s\n",
      "[CV] END max_depth=60, max_features=auto, min_samples_leaf=12, min_samples_split=5, n_estimators=50; total time=   0.4s\n",
      "[CV] END max_depth=30, max_features=auto, min_samples_leaf=12, min_samples_split=10, n_estimators=200; total time=   1.6s\n",
      "[CV] END max_depth=10, max_features=auto, min_samples_leaf=12, min_samples_split=2, n_estimators=100; total time=   0.8s\n",
      "[CV] END max_depth=10, max_features=auto, min_samples_leaf=4, min_samples_split=5, n_estimators=10; total time=   0.1s\n",
      "[CV] END max_depth=50, max_features=auto, min_samples_leaf=12, min_samples_split=2, n_estimators=200; total time=   1.7s\n",
      "[CV] END max_depth=60, max_features=auto, min_samples_leaf=12, min_samples_split=5, n_estimators=200; total time=   1.6s\n",
      "[CV] END max_depth=20, max_features=sqrt, min_samples_leaf=12, min_samples_split=2, n_estimators=100; total time=   0.2s\n",
      "[CV] END max_depth=20, max_features=sqrt, min_samples_leaf=12, min_samples_split=10, n_estimators=50; total time=   0.1s\n",
      "[CV] END max_depth=10, max_features=auto, min_samples_leaf=8, min_samples_split=10, n_estimators=100; total time=   0.8s\n",
      "[CV] END max_depth=10, max_features=sqrt, min_samples_leaf=12, min_samples_split=10, n_estimators=10; total time=   0.0s\n",
      "[CV] END max_depth=10, max_features=sqrt, min_samples_leaf=12, min_samples_split=10, n_estimators=10; total time=   0.0s\n",
      "[CV] END max_depth=50, max_features=auto, min_samples_leaf=12, min_samples_split=5, n_estimators=10; total time=   0.1s\n",
      "[CV] END max_depth=10, max_features=auto, min_samples_leaf=8, min_samples_split=10, n_estimators=10; total time=   0.1s\n",
      "[CV] END max_depth=60, max_features=auto, min_samples_leaf=12, min_samples_split=5, n_estimators=200; total time=   1.5s\n",
      "[CV] END max_depth=40, max_features=sqrt, min_samples_leaf=8, min_samples_split=10, n_estimators=200; total time=   0.3s\n",
      "[CV] END max_depth=60, max_features=auto, min_samples_leaf=8, min_samples_split=10, n_estimators=100; total time=   0.8s\n",
      "[CV] END max_depth=60, max_features=sqrt, min_samples_leaf=12, min_samples_split=10, n_estimators=50; total time=   0.1s\n",
      "[CV] END max_depth=50, max_features=sqrt, min_samples_leaf=4, min_samples_split=5, n_estimators=200; total time=   0.4s\n",
      "[CV] END max_depth=60, max_features=sqrt, min_samples_leaf=4, min_samples_split=2, n_estimators=50; total time=   0.1s\n",
      "[CV] END max_depth=50, max_features=sqrt, min_samples_leaf=8, min_samples_split=5, n_estimators=50; total time=   0.1s\n",
      "[CV] END max_depth=40, max_features=auto, min_samples_leaf=12, min_samples_split=10, n_estimators=200; total time=   1.5s\n",
      "[CV] END max_depth=60, max_features=auto, min_samples_leaf=8, min_samples_split=2, n_estimators=100; total time=   0.9s\n",
      "[CV] END max_depth=60, max_features=auto, min_samples_leaf=12, min_samples_split=5, n_estimators=100; total time=   0.8s\n",
      "[CV] END max_depth=50, max_features=auto, min_samples_leaf=4, min_samples_split=10, n_estimators=50; total time=   0.5s\n",
      "[CV] END max_depth=40, max_features=auto, min_samples_leaf=4, min_samples_split=10, n_estimators=200; total time=   2.1s\n",
      "[CV] END max_depth=50, max_features=sqrt, min_samples_leaf=12, min_samples_split=2, n_estimators=100; total time=   0.2s\n",
      "[CV] END max_depth=60, max_features=auto, min_samples_leaf=8, min_samples_split=10, n_estimators=50; total time=   0.5s\n",
      "[CV] END max_depth=60, max_features=sqrt, min_samples_leaf=4, min_samples_split=2, n_estimators=200; total time=   0.4s\n",
      "[CV] END max_depth=40, max_features=auto, min_samples_leaf=12, min_samples_split=10, n_estimators=50; total time=   0.4s\n",
      "[CV] END max_depth=50, max_features=auto, min_samples_leaf=4, min_samples_split=2, n_estimators=50; total time=   0.5s\n",
      "[CV] END max_depth=40, max_features=auto, min_samples_leaf=12, min_samples_split=2, n_estimators=100; total time=   0.8s\n",
      "[CV] END max_depth=60, max_features=auto, min_samples_leaf=12, min_samples_split=10, n_estimators=100; total time=   0.8s\n",
      "[CV] END max_depth=50, max_features=auto, min_samples_leaf=4, min_samples_split=10, n_estimators=100; total time=   1.0s\n",
      "[CV] END max_depth=50, max_features=sqrt, min_samples_leaf=8, min_samples_split=5, n_estimators=200; total time=   0.4s\n",
      "[CV] END max_depth=50, max_features=auto, min_samples_leaf=8, min_samples_split=10, n_estimators=200; total time=   1.7s\n",
      "[CV] END max_depth=60, max_features=sqrt, min_samples_leaf=8, min_samples_split=2, n_estimators=50; total time=   0.1s\n",
      "[CV] END max_depth=60, max_features=sqrt, min_samples_leaf=8, min_samples_split=2, n_estimators=50; total time=   0.1s\n",
      "[CV] END max_depth=50, max_features=sqrt, min_samples_leaf=12, min_samples_split=2, n_estimators=200; total time=   0.3s\n",
      "[CV] END max_depth=40, max_features=sqrt, min_samples_leaf=4, min_samples_split=2, n_estimators=50; total time=   0.1s\n",
      "[CV] END max_depth=60, max_features=auto, min_samples_leaf=8, min_samples_split=5, n_estimators=50; total time=   0.4s\n",
      "[CV] END max_depth=60, max_features=sqrt, min_samples_leaf=12, min_samples_split=10, n_estimators=100; total time=   0.2s\n",
      "[CV] END max_depth=40, max_features=auto, min_samples_leaf=12, min_samples_split=2, n_estimators=50; total time=   0.4s\n",
      "[CV] END max_depth=50, max_features=sqrt, min_samples_leaf=8, min_samples_split=2, n_estimators=200; total time=   0.4s\n",
      "[CV] END max_depth=50, max_features=sqrt, min_samples_leaf=4, min_samples_split=10, n_estimators=200; total time=   0.4s\n",
      "[CV] END max_depth=40, max_features=auto, min_samples_leaf=4, min_samples_split=2, n_estimators=200; total time=   2.1s\n",
      "[CV] END max_depth=50, max_features=sqrt, min_samples_leaf=4, min_samples_split=2, n_estimators=200; total time=   0.4s\n",
      "[CV] END max_depth=40, max_features=sqrt, min_samples_leaf=8, min_samples_split=10, n_estimators=100; total time=   0.2s\n",
      "[CV] END max_depth=60, max_features=sqrt, min_samples_leaf=4, min_samples_split=10, n_estimators=200; total time=   0.4s\n",
      "[CV] END max_depth=50, max_features=auto, min_samples_leaf=12, min_samples_split=2, n_estimators=100; total time=   0.7s\n",
      "[CV] END max_depth=50, max_features=sqrt, min_samples_leaf=8, min_samples_split=10, n_estimators=100; total time=   0.2s\n",
      "[CV] END max_depth=60, max_features=auto, min_samples_leaf=12, min_samples_split=5, n_estimators=50; total time=   0.4s\n",
      "[CV] END max_depth=60, max_features=auto, min_samples_leaf=12, min_samples_split=2, n_estimators=50; total time=   0.4s\n",
      "[CV] END max_depth=40, max_features=sqrt, min_samples_leaf=12, min_samples_split=5, n_estimators=200; total time=   0.3s\n",
      "[CV] END max_depth=50, max_features=sqrt, min_samples_leaf=12, min_samples_split=10, n_estimators=200; total time=   0.4s\n",
      "[CV] END max_depth=50, max_features=auto, min_samples_leaf=8, min_samples_split=2, n_estimators=100; total time=   0.8s\n",
      "[CV] END max_depth=50, max_features=auto, min_samples_leaf=8, min_samples_split=10, n_estimators=50; total time=   0.4s\n",
      "[CV] END max_depth=40, max_features=sqrt, min_samples_leaf=12, min_samples_split=5, n_estimators=100; total time=   0.2s\n",
      "[CV] END max_depth=40, max_features=auto, min_samples_leaf=8, min_samples_split=5, n_estimators=100; total time=   0.9s\n",
      "[CV] END max_depth=60, max_features=auto, min_samples_leaf=8, min_samples_split=2, n_estimators=200; total time=   1.7s\n",
      "[CV] END max_depth=40, max_features=auto, min_samples_leaf=12, min_samples_split=2, n_estimators=200; total time=   1.7s\n",
      "[CV] END max_depth=40, max_features=auto, min_samples_leaf=4, min_samples_split=5, n_estimators=50; total time=   0.5s\n",
      "[CV] END max_depth=50, max_features=sqrt, min_samples_leaf=8, min_samples_split=5, n_estimators=100; total time=   0.2s\n",
      "[CV] END max_depth=50, max_features=auto, min_samples_leaf=8, min_samples_split=5, n_estimators=200; total time=   1.8s\n",
      "[CV] END max_depth=40, max_features=auto, min_samples_leaf=8, min_samples_split=5, n_estimators=50; total time=   0.4s\n",
      "[CV] END max_depth=60, max_features=auto, min_samples_leaf=12, min_samples_split=5, n_estimators=200; total time=   1.6s\n",
      "[CV] END max_depth=50, max_features=auto, min_samples_leaf=12, min_samples_split=2, n_estimators=200; total time=   1.5s\n",
      "[CV] END max_depth=60, max_features=auto, min_samples_leaf=8, min_samples_split=5, n_estimators=200; total time=   1.8s\n",
      "[CV] END max_depth=60, max_features=auto, min_samples_leaf=8, min_samples_split=2, n_estimators=100; total time=   0.9s\n",
      "[CV] END max_depth=60, max_features=auto, min_samples_leaf=12, min_samples_split=5, n_estimators=100; total time=   0.8s\n",
      "[CV] END max_depth=50, max_features=auto, min_samples_leaf=4, min_samples_split=10, n_estimators=50; total time=   0.5s\n",
      "[CV] END max_depth=40, max_features=auto, min_samples_leaf=4, min_samples_split=10, n_estimators=200; total time=   2.2s\n",
      "[CV] END max_depth=50, max_features=auto, min_samples_leaf=4, min_samples_split=10, n_estimators=200; total time=   2.0s\n",
      "[CV] END max_depth=60, max_features=sqrt, min_samples_leaf=8, min_samples_split=2, n_estimators=200; total time=   0.4s\n",
      "[CV] END max_depth=60, max_features=auto, min_samples_leaf=4, min_samples_split=5, n_estimators=100; total time=   1.1s\n",
      "[CV] END max_depth=50, max_features=auto, min_samples_leaf=4, min_samples_split=10, n_estimators=100; total time=   1.0s\n",
      "[CV] END max_depth=40, max_features=auto, min_samples_leaf=12, min_samples_split=5, n_estimators=100; total time=   0.8s\n",
      "[CV] END max_depth=60, max_features=auto, min_samples_leaf=4, min_samples_split=5, n_estimators=200; total time=   2.1s\n",
      "[CV] END max_depth=50, max_features=sqrt, min_samples_leaf=4, min_samples_split=5, n_estimators=100; total time=   0.2s\n",
      "[CV] END max_depth=60, max_features=sqrt, min_samples_leaf=12, min_samples_split=10, n_estimators=100; total time=   0.2s\n",
      "[CV] END max_depth=40, max_features=auto, min_samples_leaf=12, min_samples_split=2, n_estimators=50; total time=   0.4s\n",
      "[CV] END max_depth=50, max_features=sqrt, min_samples_leaf=8, min_samples_split=2, n_estimators=200; total time=   0.4s\n",
      "[CV] END max_depth=60, max_features=sqrt, min_samples_leaf=12, min_samples_split=2, n_estimators=50; total time=   0.1s\n",
      "[CV] END max_depth=60, max_features=auto, min_samples_leaf=4, min_samples_split=2, n_estimators=100; total time=   1.1s\n",
      "[CV] END max_depth=50, max_features=auto, min_samples_leaf=4, min_samples_split=5, n_estimators=200; total time=   2.1s\n",
      "[CV] END max_depth=40, max_features=auto, min_samples_leaf=8, min_samples_split=2, n_estimators=100; total time=   0.9s\n",
      "[CV] END max_depth=50, max_features=sqrt, min_samples_leaf=8, min_samples_split=10, n_estimators=100; total time=   0.2s\n",
      "[CV] END max_depth=60, max_features=auto, min_samples_leaf=12, min_samples_split=5, n_estimators=50; total time=   0.4s\n",
      "[CV] END max_depth=60, max_features=auto, min_samples_leaf=12, min_samples_split=2, n_estimators=50; total time=   0.4s\n",
      "[CV] END max_depth=40, max_features=sqrt, min_samples_leaf=12, min_samples_split=5, n_estimators=200; total time=   0.3s\n",
      "[CV] END max_depth=50, max_features=sqrt, min_samples_leaf=12, min_samples_split=10, n_estimators=200; total time=   0.3s\n",
      "[CV] END max_depth=60, max_features=sqrt, min_samples_leaf=8, min_samples_split=5, n_estimators=100; total time=   0.2s\n",
      "[CV] END max_depth=60, max_features=auto, min_samples_leaf=4, min_samples_split=2, n_estimators=50; total time=   0.5s\n",
      "[CV] END max_depth=60, max_features=auto, min_samples_leaf=4, min_samples_split=2, n_estimators=200; total time=   2.0s\n",
      "[CV] END max_depth=40, max_features=auto, min_samples_leaf=12, min_samples_split=5, n_estimators=200; total time=   1.6s\n",
      "[CV] END max_depth=40, max_features=auto, min_samples_leaf=8, min_samples_split=10, n_estimators=50; total time=   0.5s\n",
      "[CV] END max_depth=50, max_features=auto, min_samples_leaf=12, min_samples_split=10, n_estimators=50; total time=   0.4s\n",
      "[CV] END max_depth=40, max_features=sqrt, min_samples_leaf=12, min_samples_split=10, n_estimators=100; total time=   0.2s\n",
      "[CV] END max_depth=50, max_features=auto, min_samples_leaf=12, min_samples_split=5, n_estimators=100; total time=   0.8s\n",
      "[CV] END max_depth=60, max_features=sqrt, min_samples_leaf=12, min_samples_split=10, n_estimators=200; total time=   0.4s\n",
      "[CV] END max_depth=50, max_features=auto, min_samples_leaf=8, min_samples_split=5, n_estimators=200; total time=   1.7s\n",
      "[CV] END max_depth=40, max_features=auto, min_samples_leaf=8, min_samples_split=5, n_estimators=50; total time=   0.4s\n",
      "[CV] END max_depth=50, max_features=auto, min_samples_leaf=8, min_samples_split=5, n_estimators=50; total time=   0.4s\n",
      "[CV] END max_depth=60, max_features=sqrt, min_samples_leaf=8, min_samples_split=2, n_estimators=100; total time=   0.2s\n",
      "[CV] END max_depth=40, max_features=auto, min_samples_leaf=4, min_samples_split=10, n_estimators=100; total time=   1.0s\n"
     ]
    },
    {
     "name": "stdout",
     "output_type": "stream",
     "text": [
      "[CV] END max_depth=30, max_features=auto, min_samples_leaf=4, min_samples_split=10, n_estimators=100; total time=   1.0s\n",
      "[CV] END max_depth=10, max_features=auto, min_samples_leaf=4, min_samples_split=10, n_estimators=100; total time=   1.0s\n",
      "[CV] END max_depth=20, max_features=auto, min_samples_leaf=12, min_samples_split=5, n_estimators=100; total time=   0.8s\n",
      "[CV] END max_depth=30, max_features=auto, min_samples_leaf=8, min_samples_split=2, n_estimators=50; total time=   0.5s\n",
      "[CV] END max_depth=10, max_features=auto, min_samples_leaf=8, min_samples_split=10, n_estimators=50; total time=   0.4s\n",
      "[CV] END max_depth=50, max_features=auto, min_samples_leaf=12, min_samples_split=5, n_estimators=200; total time=   1.5s\n",
      "[CV] END max_depth=30, max_features=sqrt, min_samples_leaf=8, min_samples_split=2, n_estimators=100; total time=   0.2s\n",
      "[CV] END max_depth=30, max_features=sqrt, min_samples_leaf=8, min_samples_split=2, n_estimators=100; total time=   0.2s\n",
      "[CV] END max_depth=20, max_features=auto, min_samples_leaf=12, min_samples_split=5, n_estimators=10; total time=   0.1s\n",
      "[CV] END max_depth=30, max_features=sqrt, min_samples_leaf=12, min_samples_split=2, n_estimators=50; total time=   0.1s\n",
      "[CV] END max_depth=60, max_features=auto, min_samples_leaf=12, min_samples_split=10, n_estimators=100; total time=   0.8s\n",
      "[CV] END max_depth=10, max_features=auto, min_samples_leaf=4, min_samples_split=2, n_estimators=50; total time=   0.5s\n",
      "[CV] END max_depth=10, max_features=sqrt, min_samples_leaf=4, min_samples_split=2, n_estimators=50; total time=   0.1s\n",
      "[CV] END max_depth=50, max_features=sqrt, min_samples_leaf=4, min_samples_split=2, n_estimators=100; total time=   0.2s\n",
      "[CV] END max_depth=50, max_features=auto, min_samples_leaf=12, min_samples_split=2, n_estimators=10; total time=   0.1s\n",
      "[CV] END max_depth=50, max_features=auto, min_samples_leaf=12, min_samples_split=2, n_estimators=10; total time=   0.1s\n",
      "[CV] END max_depth=10, max_features=auto, min_samples_leaf=8, min_samples_split=2, n_estimators=10; total time=   0.1s\n",
      "[CV] END max_depth=40, max_features=sqrt, min_samples_leaf=12, min_samples_split=5, n_estimators=100; total time=   0.2s\n",
      "[CV] END max_depth=30, max_features=auto, min_samples_leaf=12, min_samples_split=5, n_estimators=200; total time=   1.6s\n",
      "[CV] END max_depth=60, max_features=auto, min_samples_leaf=4, min_samples_split=2, n_estimators=200; total time=   2.1s\n",
      "[CV] END max_depth=20, max_features=auto, min_samples_leaf=4, min_samples_split=5, n_estimators=100; total time=   1.1s\n",
      "[CV] END max_depth=10, max_features=auto, min_samples_leaf=8, min_samples_split=2, n_estimators=200; total time=   1.7s\n",
      "[CV] END max_depth=50, max_features=auto, min_samples_leaf=12, min_samples_split=10, n_estimators=10; total time=   0.1s\n",
      "[CV] END max_depth=60, max_features=auto, min_samples_leaf=8, min_samples_split=2, n_estimators=100; total time=   0.8s\n",
      "[CV] END max_depth=20, max_features=sqrt, min_samples_leaf=8, min_samples_split=2, n_estimators=100; total time=   0.2s\n",
      "[CV] END max_depth=60, max_features=sqrt, min_samples_leaf=12, min_samples_split=5, n_estimators=50; total time=   0.1s\n",
      "[CV] END max_depth=50, max_features=auto, min_samples_leaf=12, min_samples_split=5, n_estimators=100; total time=   0.8s\n",
      "[CV] END max_depth=20, max_features=sqrt, min_samples_leaf=12, min_samples_split=2, n_estimators=10; total time=   0.0s\n",
      "[CV] END max_depth=20, max_features=sqrt, min_samples_leaf=12, min_samples_split=2, n_estimators=10; total time=   0.0s\n",
      "[CV] END max_depth=10, max_features=sqrt, min_samples_leaf=8, min_samples_split=10, n_estimators=200; total time=   0.4s\n",
      "[CV] END max_depth=10, max_features=sqrt, min_samples_leaf=12, min_samples_split=5, n_estimators=50; total time=   0.1s\n",
      "[CV] END max_depth=50, max_features=sqrt, min_samples_leaf=8, min_samples_split=5, n_estimators=200; total time=   0.4s\n",
      "[CV] END max_depth=20, max_features=sqrt, min_samples_leaf=12, min_samples_split=10, n_estimators=100; total time=   0.2s\n",
      "[CV] END max_depth=40, max_features=auto, min_samples_leaf=4, min_samples_split=10, n_estimators=50; total time=   0.5s\n",
      "[CV] END max_depth=30, max_features=auto, min_samples_leaf=12, min_samples_split=10, n_estimators=200; total time=   1.6s\n",
      "[CV] END max_depth=10, max_features=auto, min_samples_leaf=12, min_samples_split=2, n_estimators=100; total time=   0.7s\n",
      "[CV] END max_depth=50, max_features=auto, min_samples_leaf=12, min_samples_split=2, n_estimators=200; total time=   1.5s\n",
      "[CV] END max_depth=40, max_features=auto, min_samples_leaf=8, min_samples_split=5, n_estimators=50; total time=   0.4s\n",
      "[CV] END max_depth=60, max_features=auto, min_samples_leaf=8, min_samples_split=5, n_estimators=100; total time=   0.9s\n",
      "[CV] END max_depth=10, max_features=auto, min_samples_leaf=4, min_samples_split=5, n_estimators=50; total time=   0.5s\n",
      "[CV] END max_depth=20, max_features=sqrt, min_samples_leaf=12, min_samples_split=2, n_estimators=100; total time=   0.2s\n",
      "[CV] END max_depth=10, max_features=auto, min_samples_leaf=4, min_samples_split=5, n_estimators=200; total time=   1.8s\n",
      "[CV] END max_depth=60, max_features=auto, min_samples_leaf=12, min_samples_split=5, n_estimators=200; total time=   1.6s\n",
      "[CV] END max_depth=40, max_features=sqrt, min_samples_leaf=8, min_samples_split=10, n_estimators=200; total time=   0.4s\n",
      "[CV] END max_depth=60, max_features=auto, min_samples_leaf=8, min_samples_split=10, n_estimators=100; total time=   0.9s\n",
      "[CV] END max_depth=50, max_features=sqrt, min_samples_leaf=4, min_samples_split=5, n_estimators=200; total time=   0.4s\n",
      "[CV] END max_depth=50, max_features=sqrt, min_samples_leaf=8, min_samples_split=5, n_estimators=50; total time=   0.1s\n",
      "[CV] END max_depth=50, max_features=sqrt, min_samples_leaf=8, min_samples_split=5, n_estimators=50; total time=   0.1s\n",
      "[CV] END max_depth=40, max_features=auto, min_samples_leaf=12, min_samples_split=10, n_estimators=200; total time=   1.5s\n",
      "[CV] END max_depth=50, max_features=auto, min_samples_leaf=8, min_samples_split=2, n_estimators=50; total time=   0.5s\n",
      "[CV] END max_depth=50, max_features=sqrt, min_samples_leaf=8, min_samples_split=10, n_estimators=200; total time=   0.3s\n",
      "[CV] END max_depth=60, max_features=auto, min_samples_leaf=4, min_samples_split=5, n_estimators=50; total time=   0.5s\n",
      "[CV] END max_depth=40, max_features=sqrt, min_samples_leaf=12, min_samples_split=2, n_estimators=50; total time=   0.1s\n",
      "[CV] END max_depth=50, max_features=auto, min_samples_leaf=4, min_samples_split=2, n_estimators=200; total time=   2.1s\n",
      "[CV] END max_depth=40, max_features=sqrt, min_samples_leaf=8, min_samples_split=2, n_estimators=100; total time=   0.2s\n",
      "[CV] END max_depth=60, max_features=sqrt, min_samples_leaf=8, min_samples_split=5, n_estimators=200; total time=   0.4s\n",
      "[CV] END max_depth=50, max_features=sqrt, min_samples_leaf=12, min_samples_split=2, n_estimators=100; total time=   0.2s\n",
      "[CV] END max_depth=60, max_features=auto, min_samples_leaf=8, min_samples_split=10, n_estimators=50; total time=   0.4s\n",
      "[CV] END max_depth=60, max_features=sqrt, min_samples_leaf=4, min_samples_split=2, n_estimators=200; total time=   0.4s\n",
      "[CV] END max_depth=40, max_features=auto, min_samples_leaf=12, min_samples_split=10, n_estimators=50; total time=   0.4s\n",
      "[CV] END max_depth=50, max_features=auto, min_samples_leaf=4, min_samples_split=2, n_estimators=50; total time=   0.5s\n",
      "[CV] END max_depth=40, max_features=auto, min_samples_leaf=12, min_samples_split=2, n_estimators=100; total time=   0.8s\n",
      "[CV] END max_depth=60, max_features=auto, min_samples_leaf=12, min_samples_split=10, n_estimators=100; total time=   0.8s\n",
      "[CV] END max_depth=50, max_features=auto, min_samples_leaf=4, min_samples_split=10, n_estimators=100; total time=   0.9s\n",
      "[CV] END max_depth=40, max_features=auto, min_samples_leaf=12, min_samples_split=5, n_estimators=100; total time=   0.8s\n",
      "[CV] END max_depth=60, max_features=auto, min_samples_leaf=4, min_samples_split=5, n_estimators=200; total time=   2.1s\n",
      "[CV] END max_depth=50, max_features=sqrt, min_samples_leaf=4, min_samples_split=5, n_estimators=100; total time=   0.2s\n",
      "[CV] END max_depth=60, max_features=sqrt, min_samples_leaf=12, min_samples_split=10, n_estimators=100; total time=   0.2s\n",
      "[CV] END max_depth=40, max_features=auto, min_samples_leaf=12, min_samples_split=2, n_estimators=50; total time=   0.4s\n",
      "[CV] END max_depth=50, max_features=sqrt, min_samples_leaf=8, min_samples_split=2, n_estimators=200; total time=   0.4s\n",
      "[CV] END max_depth=40, max_features=sqrt, min_samples_leaf=4, min_samples_split=5, n_estimators=50; total time=   0.1s\n",
      "[CV] END max_depth=50, max_features=sqrt, min_samples_leaf=4, min_samples_split=10, n_estimators=200; total time=   0.4s\n",
      "[CV] END max_depth=40, max_features=auto, min_samples_leaf=4, min_samples_split=2, n_estimators=200; total time=   2.2s\n",
      "[CV] END max_depth=50, max_features=sqrt, min_samples_leaf=8, min_samples_split=10, n_estimators=50; total time=   0.1s\n",
      "[CV] END max_depth=50, max_features=sqrt, min_samples_leaf=8, min_samples_split=10, n_estimators=50; total time=   0.1s\n",
      "[CV] END max_depth=50, max_features=sqrt, min_samples_leaf=8, min_samples_split=10, n_estimators=50; total time=   0.1s\n",
      "[CV] END max_depth=50, max_features=sqrt, min_samples_leaf=8, min_samples_split=10, n_estimators=50; total time=   0.1s\n",
      "[CV] END max_depth=40, max_features=sqrt, min_samples_leaf=8, min_samples_split=10, n_estimators=100; total time=   0.2s\n",
      "[CV] END max_depth=60, max_features=sqrt, min_samples_leaf=4, min_samples_split=10, n_estimators=200; total time=   0.4s\n",
      "[CV] END max_depth=50, max_features=auto, min_samples_leaf=12, min_samples_split=2, n_estimators=100; total time=   0.8s\n",
      "[CV] END max_depth=50, max_features=auto, min_samples_leaf=12, min_samples_split=10, n_estimators=200; total time=   1.6s\n",
      "[CV] END max_depth=60, max_features=auto, min_samples_leaf=4, min_samples_split=2, n_estimators=50; total time=   0.5s\n",
      "[CV] END max_depth=60, max_features=auto, min_samples_leaf=4, min_samples_split=2, n_estimators=200; total time=   2.0s\n",
      "[CV] END max_depth=40, max_features=auto, min_samples_leaf=12, min_samples_split=5, n_estimators=200; total time=   1.6s\n",
      "[CV] END max_depth=40, max_features=auto, min_samples_leaf=12, min_samples_split=2, n_estimators=200; total time=   1.6s\n",
      "[CV] END max_depth=40, max_features=auto, min_samples_leaf=4, min_samples_split=5, n_estimators=50; total time=   0.6s\n",
      "[CV] END max_depth=40, max_features=auto, min_samples_leaf=4, min_samples_split=10, n_estimators=50; total time=   0.5s\n",
      "[CV] END max_depth=50, max_features=auto, min_samples_leaf=12, min_samples_split=5, n_estimators=50; total time=   0.4s\n",
      "[CV] END max_depth=50, max_features=sqrt, min_samples_leaf=4, min_samples_split=5, n_estimators=50; total time=   0.1s\n",
      "[CV] END max_depth=60, max_features=auto, min_samples_leaf=8, min_samples_split=5, n_estimators=100; total time=   0.9s\n",
      "[CV] END max_depth=60, max_features=auto, min_samples_leaf=8, min_samples_split=10, n_estimators=200; total time=   1.5s\n",
      "[CV] END max_depth=60, max_features=auto, min_samples_leaf=12, min_samples_split=5, n_estimators=200; total time=   1.5s\n",
      "[CV] END max_depth=40, max_features=sqrt, min_samples_leaf=8, min_samples_split=10, n_estimators=200; total time=   0.4s\n",
      "[CV] END max_depth=60, max_features=auto, min_samples_leaf=8, min_samples_split=10, n_estimators=100; total time=   0.8s\n",
      "[CV] END max_depth=50, max_features=sqrt, min_samples_leaf=4, min_samples_split=5, n_estimators=200; total time=   0.4s\n",
      "[CV] END max_depth=60, max_features=auto, min_samples_leaf=8, min_samples_split=5, n_estimators=200; total time=   1.8s\n",
      "[CV] END max_depth=60, max_features=auto, min_samples_leaf=8, min_samples_split=2, n_estimators=100; total time=   0.9s\n",
      "[CV] END max_depth=60, max_features=auto, min_samples_leaf=12, min_samples_split=5, n_estimators=100; total time=   0.8s\n",
      "[CV] END max_depth=50, max_features=auto, min_samples_leaf=4, min_samples_split=10, n_estimators=50; total time=   0.5s\n",
      "[CV] END max_depth=40, max_features=auto, min_samples_leaf=4, min_samples_split=10, n_estimators=200; total time=   2.2s\n",
      "[CV] END max_depth=50, max_features=auto, min_samples_leaf=4, min_samples_split=10, n_estimators=200; total time=   2.0s\n",
      "[CV] END max_depth=40, max_features=auto, min_samples_leaf=12, min_samples_split=2, n_estimators=100; total time=   0.8s\n",
      "[CV] END max_depth=60, max_features=auto, min_samples_leaf=12, min_samples_split=10, n_estimators=100; total time=   0.8s\n",
      "[CV] END max_depth=50, max_features=auto, min_samples_leaf=4, min_samples_split=10, n_estimators=100; total time=   1.0s\n",
      "[CV] END max_depth=40, max_features=auto, min_samples_leaf=12, min_samples_split=5, n_estimators=100; total time=   0.8s\n",
      "[CV] END max_depth=60, max_features=auto, min_samples_leaf=4, min_samples_split=5, n_estimators=200; total time=   2.1s\n",
      "[CV] END max_depth=50, max_features=sqrt, min_samples_leaf=4, min_samples_split=5, n_estimators=100; total time=   0.2s\n",
      "[CV] END max_depth=60, max_features=sqrt, min_samples_leaf=12, min_samples_split=10, n_estimators=100; total time=   0.2s\n",
      "[CV] END max_depth=40, max_features=auto, min_samples_leaf=12, min_samples_split=2, n_estimators=50; total time=   0.4s\n",
      "[CV] END max_depth=50, max_features=sqrt, min_samples_leaf=8, min_samples_split=2, n_estimators=200; total time=   0.4s\n",
      "[CV] END max_depth=50, max_features=sqrt, min_samples_leaf=4, min_samples_split=10, n_estimators=200; total time=   0.4s\n",
      "[CV] END max_depth=40, max_features=auto, min_samples_leaf=4, min_samples_split=2, n_estimators=200; total time=   2.0s\n",
      "[CV] END max_depth=50, max_features=sqrt, min_samples_leaf=4, min_samples_split=2, n_estimators=200; total time=   0.4s\n",
      "[CV] END max_depth=50, max_features=sqrt, min_samples_leaf=8, min_samples_split=10, n_estimators=50; total time=   0.1s\n",
      "[CV] END max_depth=40, max_features=sqrt, min_samples_leaf=8, min_samples_split=10, n_estimators=100; total time=   0.2s\n",
      "[CV] END max_depth=60, max_features=sqrt, min_samples_leaf=4, min_samples_split=10, n_estimators=200; total time=   0.4s\n",
      "[CV] END max_depth=50, max_features=auto, min_samples_leaf=12, min_samples_split=2, n_estimators=100; total time=   0.8s\n",
      "[CV] END max_depth=50, max_features=auto, min_samples_leaf=12, min_samples_split=10, n_estimators=200; total time=   1.6s\n",
      "[CV] END max_depth=60, max_features=auto, min_samples_leaf=4, min_samples_split=2, n_estimators=50; total time=   0.5s\n",
      "[CV] END max_depth=60, max_features=auto, min_samples_leaf=4, min_samples_split=2, n_estimators=200; total time=   2.0s\n",
      "[CV] END max_depth=40, max_features=auto, min_samples_leaf=12, min_samples_split=5, n_estimators=200; total time=   1.6s\n",
      "[CV] END max_depth=40, max_features=auto, min_samples_leaf=8, min_samples_split=10, n_estimators=50; total time=   0.4s\n",
      "[CV] END max_depth=50, max_features=auto, min_samples_leaf=12, min_samples_split=10, n_estimators=50; total time=   0.4s\n",
      "[CV] END max_depth=40, max_features=sqrt, min_samples_leaf=12, min_samples_split=10, n_estimators=100; total time=   0.2s\n",
      "[CV] END max_depth=50, max_features=auto, min_samples_leaf=12, min_samples_split=5, n_estimators=100; total time=   0.8s\n",
      "[CV] END max_depth=60, max_features=sqrt, min_samples_leaf=12, min_samples_split=10, n_estimators=200; total time=   0.3s\n",
      "[CV] END max_depth=40, max_features=auto, min_samples_leaf=4, min_samples_split=10, n_estimators=50; total time=   0.5s\n",
      "[CV] END max_depth=50, max_features=auto, min_samples_leaf=12, min_samples_split=5, n_estimators=50; total time=   0.4s\n",
      "[CV] END max_depth=50, max_features=sqrt, min_samples_leaf=4, min_samples_split=5, n_estimators=50; total time=   0.1s\n",
      "[CV] END max_depth=60, max_features=auto, min_samples_leaf=8, min_samples_split=5, n_estimators=100; total time=   0.9s\n",
      "[CV] END max_depth=60, max_features=auto, min_samples_leaf=8, min_samples_split=10, n_estimators=200; total time=   1.5s\n",
      "[CV] END max_depth=60, max_features=auto, min_samples_leaf=12, min_samples_split=5, n_estimators=200; total time=   1.6s\n",
      "[CV] END max_depth=50, max_features=auto, min_samples_leaf=12, min_samples_split=2, n_estimators=200; total time=   1.6s\n",
      "[CV] END max_depth=60, max_features=auto, min_samples_leaf=8, min_samples_split=5, n_estimators=200; total time=   1.8s\n",
      "[CV] END max_depth=60, max_features=auto, min_samples_leaf=8, min_samples_split=2, n_estimators=100; total time=   0.9s\n",
      "[CV] END max_depth=60, max_features=auto, min_samples_leaf=12, min_samples_split=5, n_estimators=100; total time=   0.8s"
     ]
    },
    {
     "data": {
      "image/png": "[encoded data removed]",
      "text/plain": [
       "<Figure size 432x288 with 1 Axes>"
      ]
     },
     "metadata": {
      "needs_background": "light"
     },
     "output_type": "display_data"
    },
    {
     "data": {
      "application/javascript": [
       "\n",
       "            setTimeout(function() {\n",
       "                var nbb_cell_id = 86;\n",
       "                var nbb_unformatted_code = \"import matplotlib.pyplot as plt\\nimport numpy as np\\n\\n# Define the parameter values to test\\nmin_samples_split_values = [2, 5, 10]\\n\\n# Initialize an empty list to store the mean cross-validated performance\\nmean_scores = []\\n\\n# Loop over each value of min_samples_split and compute the mean cross-validated performance\\nfor min_samples_split in min_samples_split_values:\\n    rf = RandomForestRegressor(random_state=0, min_samples_split=min_samples_split)\\n    randomized_search = RandomizedSearchCV(\\n        estimator=rf,\\n        param_distributions=param_grid,\\n        n_iter=100,\\n        cv=5,\\n        n_jobs=-1,\\n        verbose=2,\\n        scoring=\\\"neg_mean_squared_error\\\",\\n        random_state=0,\\n    )\\n    randomized_search.fit(X_train, y_train)\\n    mean_score = np.mean(randomized_search.cv_results_['mean_test_score'])\\n    mean_scores.append(mean_score)\\n\\n# Plot the results\\nplt.plot(min_samples_split_values, mean_scores)\\nplt.xlabel('min_samples_split')\\nplt.ylabel('Mean Cross-Validated Performance')\\nplt.title('Effect of min_samples_split on Model Performance')\\nplt.show()\";\n",
       "                var nbb_formatted_code = \"import matplotlib.pyplot as plt\\nimport numpy as np\\n\\n# Define the parameter values to test\\nmin_samples_split_values = [2, 5, 10]\\n\\n# Initialize an empty list to store the mean cross-validated performance\\nmean_scores = []\\n\\n# Loop over each value of min_samples_split and compute the mean cross-validated performance\\nfor min_samples_split in min_samples_split_values:\\n    rf = RandomForestRegressor(random_state=0, min_samples_split=min_samples_split)\\n    randomized_search = RandomizedSearchCV(\\n        estimator=rf,\\n        param_distributions=param_grid,\\n        n_iter=100,\\n        cv=5,\\n        n_jobs=-1,\\n        verbose=2,\\n        scoring=\\\"neg_mean_squared_error\\\",\\n        random_state=0,\\n    )\\n    randomized_search.fit(X_train, y_train)\\n    mean_score = np.mean(randomized_search.cv_results_[\\\"mean_test_score\\\"])\\n    mean_scores.append(mean_score)\\n\\n# Plot the results\\nplt.plot(min_samples_split_values, mean_scores)\\nplt.xlabel(\\\"min_samples_split\\\")\\nplt.ylabel(\\\"Mean Cross-Validated Performance\\\")\\nplt.title(\\\"Effect of min_samples_split on Model Performance\\\")\\nplt.show()\";\n",
       "                var nbb_cells = Jupyter.notebook.get_cells();\n",
       "                for (var i = 0; i < nbb_cells.length; ++i) {\n",
       "                    if (nbb_cells[i].input_prompt_number == nbb_cell_id) {\n",
       "                        if (nbb_cells[i].get_text() == nbb_unformatted_code) {\n",
       "                             nbb_cells[i].set_text(nbb_formatted_code);\n",
       "                        }\n",
       "                        break;\n",
       "                    }\n",
       "                }\n",
       "            }, 500);\n",
       "            "
      ],
      "text/plain": [
       "<IPython.core.display.Javascript object>"
      ]
     },
     "metadata": {},
     "output_type": "display_data"
    }
   ],
   "source": [
    "import matplotlib.pyplot as plt\n",
    "import numpy as np\n",
    "\n",
    "# Define the parameter values to test\n",
    "min_samples_split_values = [2, 5, 10]\n",
    "\n",
    "# Initialize an empty list to store the mean cross-validated performance\n",
    "mean_scores = []\n",
    "\n",
    "# Loop over each value of min_samples_split and compute the mean cross-validated performance\n",
    "for min_samples_split in min_samples_split_values:\n",
    "    rf = RandomForestRegressor(random_state=0, min_samples_split=min_samples_split)\n",
    "    randomized_search = RandomizedSearchCV(\n",
    "        estimator=rf,\n",
    "        param_distributions=param_grid,\n",
    "        n_iter=100,\n",
    "        cv=5,\n",
    "        n_jobs=-1,\n",
    "        verbose=2,\n",
    "        scoring=\"neg_mean_squared_error\",\n",
    "        random_state=0,\n",
    "    )\n",
    "    randomized_search.fit(X_train, y_train)\n",
    "    mean_score = np.mean(randomized_search.cv_results_['mean_test_score'])\n",
    "    mean_scores.append(mean_score)\n",
    "\n",
    "# Plot the results\n",
    "plt.plot(min_samples_split_values, mean_scores)\n",
    "plt.xlabel('min_samples_split')\n",
    "plt.ylabel('Mean Cross-Validated Performance')\n",
    "plt.title('Effect of min_samples_split on Model Performance')\n",
    "plt.show()\n"
   ]
  },
  {
   "cell_type": "code",
   "execution_count": 87,
   "id": "1318042c",
   "metadata": {},
   "outputs": [
    {
     "name": "stderr",
     "output_type": "stream",
     "text": [
      "\n",
      "A value is trying to be set on a copy of a slice from a DataFrame.\n",
      "Try using .loc[row_indexer,col_indexer] = value instead\n",
      "\n",
      "See the caveats in the documentation: https://pandas.pydata.org/pandas-docs/stable/user_guide/indexing.html#returning-a-view-versus-a-copy\n"
     ]
    },
    {
     "data": {
      "image/png": "[encoded data removed]",
      "text/plain": [
       "<Figure size 432x288 with 1 Axes>"
      ]
     },
     "metadata": {
      "needs_background": "light"
     },
     "output_type": "display_data"
    },
    {
     "data": {
      "application/javascript": [
       "\n",
       "            setTimeout(function() {\n",
       "                var nbb_cell_id = 87;\n",
       "                var nbb_unformatted_code = \"# Extract the results from the GridSearchCV object\\nresults = pd.DataFrame(best_rf_GS.cv_results_)\\n\\n# Filter the results for the min_samples_split hyperparameter\\nmin_samples_split_results = results[[\\\"param_min_samples_split\\\", \\\"mean_test_score\\\"]]\\n\\n# Convert the min_samples_split hyperparameter values to numeric\\nmin_samples_split_results[\\\"param_min_samples_split\\\"] = pd.to_numeric(\\n    min_samples_split_results[\\\"param_min_samples_split\\\"]\\n)\\n\\n# Group the results by min_samples_split and calculate the mean test score\\nmin_samples_split_results = min_samples_split_results.groupby(\\n    \\\"param_min_samples_split\\\"\\n).mean()\\n\\n# Reset the index\\nmin_samples_split_results = min_samples_split_results.reset_index()\\n\\n# Plot the results as a line plot\\nsns.lineplot(\\n    x=\\\"param_min_samples_split\\\",\\n    y=\\\"mean_test_score\\\",\\n    data=min_samples_split_results,\\n)\\nplt.xlabel(\\\"min_samples_split\\\")\\nplt.ylabel(\\\"Mean Test Score\\\")\\nplt.title(\\\"Tuning of min_samples_split\\\")\\n\\nplt.savefig(\\\"../pic/min_samples_split_tuning.png\\\", dpi=900)\\nplt.show()\";\n",
       "                var nbb_formatted_code = \"# Extract the results from the GridSearchCV object\\nresults = pd.DataFrame(best_rf_GS.cv_results_)\\n\\n# Filter the results for the min_samples_split hyperparameter\\nmin_samples_split_results = results[[\\\"param_min_samples_split\\\", \\\"mean_test_score\\\"]]\\n\\n# Convert the min_samples_split hyperparameter values to numeric\\nmin_samples_split_results[\\\"param_min_samples_split\\\"] = pd.to_numeric(\\n    min_samples_split_results[\\\"param_min_samples_split\\\"]\\n)\\n\\n# Group the results by min_samples_split and calculate the mean test score\\nmin_samples_split_results = min_samples_split_results.groupby(\\n    \\\"param_min_samples_split\\\"\\n).mean()\\n\\n# Reset the index\\nmin_samples_split_results = min_samples_split_results.reset_index()\\n\\n# Plot the results as a line plot\\nsns.lineplot(\\n    x=\\\"param_min_samples_split\\\", y=\\\"mean_test_score\\\", data=min_samples_split_results,\\n)\\nplt.xlabel(\\\"min_samples_split\\\")\\nplt.ylabel(\\\"Mean Test Score\\\")\\nplt.title(\\\"Tuning of min_samples_split\\\")\\n\\nplt.savefig(\\\"../pic/min_samples_split_tuning.png\\\", dpi=900)\\nplt.show()\";\n",
       "                var nbb_cells = Jupyter.notebook.get_cells();\n",
       "                for (var i = 0; i < nbb_cells.length; ++i) {\n",
       "                    if (nbb_cells[i].input_prompt_number == nbb_cell_id) {\n",
       "                        if (nbb_cells[i].get_text() == nbb_unformatted_code) {\n",
       "                             nbb_cells[i].set_text(nbb_formatted_code);\n",
       "                        }\n",
       "                        break;\n",
       "                    }\n",
       "                }\n",
       "            }, 500);\n",
       "            "
      ],
      "text/plain": [
       "<IPython.core.display.Javascript object>"
      ]
     },
     "metadata": {},
     "output_type": "display_data"
    }
   ],
   "source": [
    "# Extract the results from the GridSearchCV object\n",
    "results = pd.DataFrame(best_rf_GS.cv_results_)\n",
    "\n",
    "# Filter the results for the min_samples_split hyperparameter\n",
    "min_samples_split_results = results[[\"param_min_samples_split\", \"mean_test_score\"]]\n",
    "\n",
    "# Convert the min_samples_split hyperparameter values to numeric\n",
    "min_samples_split_results[\"param_min_samples_split\"] = pd.to_numeric(\n",
    "    min_samples_split_results[\"param_min_samples_split\"]\n",
    ")\n",
    "\n",
    "# Group the results by min_samples_split and calculate the mean test score\n",
    "min_samples_split_results = min_samples_split_results.groupby(\n",
    "    \"param_min_samples_split\"\n",
    ").mean()\n",
    "\n",
    "# Reset the index\n",
    "min_samples_split_results = min_samples_split_results.reset_index()\n",
    "\n",
    "# Plot the results as a line plot\n",
    "sns.lineplot(\n",
    "    x=\"param_min_samples_split\",\n",
    "    y=\"mean_test_score\",\n",
    "    data=min_samples_split_results,\n",
    ")\n",
    "plt.xlabel(\"min_samples_split\")\n",
    "plt.ylabel(\"Mean Test Score\")\n",
    "plt.title(\"Tuning of min_samples_split\")\n",
    "\n",
    "plt.savefig(\"../pic/min_samples_split_tuning.png\", dpi=900)\n",
    "plt.show()\n"
   ]
  },
  {
   "cell_type": "markdown",
   "id": "760e3a07",
   "metadata": {},
   "source": [
    "#### min_samples_leaf"
   ]
  },
  {
   "cell_type": "code",
   "execution_count": 89,
   "id": "f59255f1",
   "metadata": {},
   "outputs": [
    {
     "name": "stderr",
     "output_type": "stream",
     "text": [
      "\n",
      "A value is trying to be set on a copy of a slice from a DataFrame.\n",
      "Try using .loc[row_indexer,col_indexer] = value instead\n",
      "\n",
      "See the caveats in the documentation: https://pandas.pydata.org/pandas-docs/stable/user_guide/indexing.html#returning-a-view-versus-a-copy\n"
     ]
    },
    {
     "data": {
      "image/png": "[encoded data removed]",
      "text/plain": [
       "<Figure size 432x288 with 1 Axes>"
      ]
     },
     "metadata": {
      "needs_background": "light"
     },
     "output_type": "display_data"
    },
    {
     "data": {
      "application/javascript": [
       "\n",
       "            setTimeout(function() {\n",
       "                var nbb_cell_id = 89;\n",
       "                var nbb_unformatted_code = \"# Extract the results from the GridSearchCV object\\nresults = pd.DataFrame(best_rf_GS.cv_results_)\\n\\n# Filter the results for the min_samples_leaf hyperparameter\\nmin_samples_leaf_results = results[[\\\"param_min_samples_leaf\\\", \\\"mean_test_score\\\"]]\\n\\n# Convert the min_samples_leaf hyperparameter values to numeric\\nmin_samples_leaf_results[\\\"param_min_samples_leaf\\\"] = pd.to_numeric(\\n    min_samples_leaf_results[\\\"param_min_samples_leaf\\\"]\\n)\\n\\n# Group the results by min_samples_leaf and calculate the mean test score\\nmin_samples_leaf_results = min_samples_leaf_results.groupby(\\n    \\\"param_min_samples_leaf\\\"\\n).mean()\\n\\n# Reset the index\\nmin_samples_leaf_results = min_samples_leaf_results.reset_index()\\n\\n# Use .loc to assign the mean test score to the DataFrame\\nmin_samples_leaf_results.loc[:, \\\"mean_test_score\\\"] = min_samples_leaf_results[\\\"mean_test_score\\\"]\\n\\n# Plot the results as a line plot\\nsns.lineplot(\\n    x=\\\"param_min_samples_leaf\\\",\\n    y=\\\"mean_test_score\\\",\\n    data=min_samples_leaf_results,\\n)\\nplt.xlabel(\\\"min_samples_leaf\\\")\\nplt.ylabel(\\\"Mean Test Score\\\")\\nplt.title(\\\"Tuning of min_samples_leaf\\\")\\n\\nplt.savefig(\\\"../pic/min_samples_leaf_tuning.png\\\", dpi=900)\\nplt.show()\";\n",
       "                var nbb_formatted_code = \"# Extract the results from the GridSearchCV object\\nresults = pd.DataFrame(best_rf_GS.cv_results_)\\n\\n# Filter the results for the min_samples_leaf hyperparameter\\nmin_samples_leaf_results = results[[\\\"param_min_samples_leaf\\\", \\\"mean_test_score\\\"]]\\n\\n# Convert the min_samples_leaf hyperparameter values to numeric\\nmin_samples_leaf_results[\\\"param_min_samples_leaf\\\"] = pd.to_numeric(\\n    min_samples_leaf_results[\\\"param_min_samples_leaf\\\"]\\n)\\n\\n# Group the results by min_samples_leaf and calculate the mean test score\\nmin_samples_leaf_results = min_samples_leaf_results.groupby(\\n    \\\"param_min_samples_leaf\\\"\\n).mean()\\n\\n# Reset the index\\nmin_samples_leaf_results = min_samples_leaf_results.reset_index()\\n\\n# Use .loc to assign the mean test score to the DataFrame\\nmin_samples_leaf_results.loc[:, \\\"mean_test_score\\\"] = min_samples_leaf_results[\\n    \\\"mean_test_score\\\"\\n]\\n\\n# Plot the results as a line plot\\nsns.lineplot(\\n    x=\\\"param_min_samples_leaf\\\", y=\\\"mean_test_score\\\", data=min_samples_leaf_results,\\n)\\nplt.xlabel(\\\"min_samples_leaf\\\")\\nplt.ylabel(\\\"Mean Test Score\\\")\\nplt.title(\\\"Tuning of min_samples_leaf\\\")\\n\\nplt.savefig(\\\"../pic/min_samples_leaf_tuning.png\\\", dpi=900)\\nplt.show()\";\n",
       "                var nbb_cells = Jupyter.notebook.get_cells();\n",
       "                for (var i = 0; i < nbb_cells.length; ++i) {\n",
       "                    if (nbb_cells[i].input_prompt_number == nbb_cell_id) {\n",
       "                        if (nbb_cells[i].get_text() == nbb_unformatted_code) {\n",
       "                             nbb_cells[i].set_text(nbb_formatted_code);\n",
       "                        }\n",
       "                        break;\n",
       "                    }\n",
       "                }\n",
       "            }, 500);\n",
       "            "
      ],
      "text/plain": [
       "<IPython.core.display.Javascript object>"
      ]
     },
     "metadata": {},
     "output_type": "display_data"
    },
    {
     "name": "stdout",
     "output_type": "stream",
     "text": [
      "[CV] END max_depth=50, max_features=sqrt, min_samples_leaf=8, min_samples_split=10, n_estimators=50; total time=   0.1s\n",
      "[CV] END max_depth=40, max_features=sqrt, min_samples_leaf=8, min_samples_split=10, n_estimators=100; total time=   0.2s\n",
      "[CV] END max_depth=60, max_features=sqrt, min_samples_leaf=4, min_samples_split=10, n_estimators=200; total time=   0.4s\n",
      "[CV] END max_depth=50, max_features=auto, min_samples_leaf=12, min_samples_split=2, n_estimators=100; total time=   0.7s\n",
      "[CV] END max_depth=50, max_features=sqrt, min_samples_leaf=8, min_samples_split=10, n_estimators=100; total time=   0.2s\n",
      "[CV] END max_depth=50, max_features=auto, min_samples_leaf=12, min_samples_split=10, n_estimators=200; total time=   1.4s\n",
      "[CV] END max_depth=60, max_features=sqrt, min_samples_leaf=8, min_samples_split=5, n_estimators=100; total time=   0.2s\n",
      "[CV] END max_depth=60, max_features=auto, min_samples_leaf=4, min_samples_split=2, n_estimators=50; total time=   0.5s\n",
      "[CV] END max_depth=60, max_features=auto, min_samples_leaf=4, min_samples_split=2, n_estimators=200; total time=   1.8s\n",
      "[CV] END max_depth=60, max_features=auto, min_samples_leaf=8, min_samples_split=2, n_estimators=200; total time=   1.5s\n",
      "[CV] END max_depth=60, max_features=sqrt, min_samples_leaf=4, min_samples_split=10, n_estimators=50; total time=   0.1s\n",
      "[CV] END max_depth=60, max_features=sqrt, min_samples_leaf=4, min_samples_split=10, n_estimators=50; total time=   0.1s\n",
      "[CV] END max_depth=60, max_features=sqrt, min_samples_leaf=4, min_samples_split=10, n_estimators=50; total time=   0.1s\n",
      "[CV] END max_depth=40, max_features=auto, min_samples_leaf=8, min_samples_split=10, n_estimators=50; total time=   0.4s\n",
      "[CV] END max_depth=50, max_features=auto, min_samples_leaf=12, min_samples_split=10, n_estimators=50; total time=   0.3s\n",
      "[CV] END max_depth=40, max_features=sqrt, min_samples_leaf=12, min_samples_split=10, n_estimators=100; total time=   0.2s\n",
      "[CV] END max_depth=40, max_features=sqrt, min_samples_leaf=12, min_samples_split=10, n_estimators=100; total time=   0.2s\n",
      "[CV] END max_depth=50, max_features=auto, min_samples_leaf=12, min_samples_split=5, n_estimators=100; total time=   0.7s\n",
      "[CV] END max_depth=60, max_features=sqrt, min_samples_leaf=12, min_samples_split=10, n_estimators=200; total time=   0.3s\n",
      "[CV] END max_depth=40, max_features=auto, min_samples_leaf=4, min_samples_split=10, n_estimators=50; total time=   0.5s\n",
      "[CV] END max_depth=50, max_features=auto, min_samples_leaf=12, min_samples_split=5, n_estimators=50; total time=   0.4s\n",
      "[CV] END max_depth=60, max_features=auto, min_samples_leaf=8, min_samples_split=5, n_estimators=100; total time=   0.8s\n",
      "[CV] END max_depth=40, max_features=auto, min_samples_leaf=8, min_samples_split=5, n_estimators=50; total time=   0.4s\n",
      "[CV] END max_depth=50, max_features=auto, min_samples_leaf=8, min_samples_split=5, n_estimators=50; total time=   0.4s\n",
      "[CV] END max_depth=60, max_features=sqrt, min_samples_leaf=8, min_samples_split=2, n_estimators=100; total time=   0.2s\n",
      "[CV] END max_depth=40, max_features=auto, min_samples_leaf=4, min_samples_split=10, n_estimators=100; total time=   0.9s\n",
      "[CV] END max_depth=40, max_features=sqrt, min_samples_leaf=8, min_samples_split=10, n_estimators=200; total time=   0.3s\n",
      "[CV] END max_depth=60, max_features=auto, min_samples_leaf=8, min_samples_split=10, n_estimators=100; total time=   0.8s\n",
      "[CV] END max_depth=60, max_features=sqrt, min_samples_leaf=12, min_samples_split=10, n_estimators=50; total time=   0.1s\n",
      "[CV] END max_depth=60, max_features=sqrt, min_samples_leaf=12, min_samples_split=10, n_estimators=50; total time=   0.1s\n",
      "[CV] END max_depth=50, max_features=sqrt, min_samples_leaf=4, min_samples_split=5, n_estimators=200; total time=   0.4s\n",
      "[CV] END max_depth=60, max_features=auto, min_samples_leaf=8, min_samples_split=5, n_estimators=200; total time=   1.5s\n",
      "[CV] END max_depth=60, max_features=sqrt, min_samples_leaf=8, min_samples_split=5, n_estimators=50; total time=   0.1s\n",
      "[CV] END max_depth=60, max_features=sqrt, min_samples_leaf=8, min_samples_split=5, n_estimators=50; total time=   0.1s\n",
      "[CV] END max_depth=60, max_features=sqrt, min_samples_leaf=8, min_samples_split=5, n_estimators=50; total time=   0.1s\n",
      "[CV] END max_depth=60, max_features=auto, min_samples_leaf=8, min_samples_split=2, n_estimators=100; total time=   0.8s\n",
      "[CV] END max_depth=60, max_features=auto, min_samples_leaf=12, min_samples_split=5, n_estimators=100; total time=   0.7s\n",
      "[CV] END max_depth=40, max_features=sqrt, min_samples_leaf=12, min_samples_split=2, n_estimators=50; total time=   0.1s\n",
      "[CV] END max_depth=50, max_features=auto, min_samples_leaf=4, min_samples_split=2, n_estimators=200; total time=   1.9s\n",
      "[CV] END max_depth=40, max_features=sqrt, min_samples_leaf=8, min_samples_split=2, n_estimators=100; total time=   0.2s\n",
      "[CV] END max_depth=40, max_features=sqrt, min_samples_leaf=8, min_samples_split=2, n_estimators=100; total time=   0.2s\n",
      "[CV] END max_depth=40, max_features=sqrt, min_samples_leaf=4, min_samples_split=10, n_estimators=50; total time=   0.1s\n",
      "[CV] END max_depth=60, max_features=sqrt, min_samples_leaf=8, min_samples_split=5, n_estimators=200; total time=   0.3s\n",
      "[CV] END max_depth=50, max_features=auto, min_samples_leaf=4, min_samples_split=10, n_estimators=200; total time=   1.8s\n",
      "[CV] END max_depth=60, max_features=sqrt, min_samples_leaf=8, min_samples_split=2, n_estimators=200; total time=   0.3s\n",
      "[CV] END max_depth=60, max_features=auto, min_samples_leaf=4, min_samples_split=5, n_estimators=100; total time=   0.9s\n",
      "[CV] END max_depth=40, max_features=auto, min_samples_leaf=8, min_samples_split=10, n_estimators=100; total time=   0.8s\n",
      "[CV] END max_depth=50, max_features=sqrt, min_samples_leaf=12, min_samples_split=10, n_estimators=100; total time=   0.2s\n",
      "[CV] END max_depth=50, max_features=sqrt, min_samples_leaf=12, min_samples_split=10, n_estimators=100; total time=   0.1s\n",
      "[CV] END max_depth=40, max_features=sqrt, min_samples_leaf=8, min_samples_split=5, n_estimators=100; total time=   0.2s\n",
      "[CV] END max_depth=40, max_features=sqrt, min_samples_leaf=8, min_samples_split=5, n_estimators=100; total time=   0.2s\n",
      "[CV] END max_depth=40, max_features=auto, min_samples_leaf=12, min_samples_split=5, n_estimators=100; total time=   0.7s\n",
      "[CV] END max_depth=60, max_features=auto, min_samples_leaf=4, min_samples_split=5, n_estimators=200; total time=   1.9s\n",
      "[CV] END max_depth=40, max_features=sqrt, min_samples_leaf=4, min_samples_split=2, n_estimators=50; total time=   0.1s\n",
      "[CV] END max_depth=60, max_features=auto, min_samples_leaf=8, min_samples_split=5, n_estimators=50; total time=   0.4s\n",
      "[CV] END max_depth=50, max_features=auto, min_samples_leaf=4, min_samples_split=2, n_estimators=100; total time=   0.9s\n",
      "[CV] END max_depth=40, max_features=sqrt, min_samples_leaf=4, min_samples_split=5, n_estimators=50; total time=   0.1s\n",
      "[CV] END max_depth=50, max_features=sqrt, min_samples_leaf=4, min_samples_split=10, n_estimators=200; total time=   0.4s\n",
      "[CV] END max_depth=40, max_features=auto, min_samples_leaf=4, min_samples_split=2, n_estimators=200; total time=   1.9s\n",
      "[CV] END max_depth=50, max_features=sqrt, min_samples_leaf=4, min_samples_split=2, n_estimators=200; total time=   0.4s\n",
      "[CV] END max_depth=50, max_features=sqrt, min_samples_leaf=8, min_samples_split=10, n_estimators=50; total time=   0.1s\n",
      "[CV] END max_depth=50, max_features=sqrt, min_samples_leaf=8, min_samples_split=10, n_estimators=50; total time=   0.1s\n",
      "[CV] END max_depth=50, max_features=sqrt, min_samples_leaf=8, min_samples_split=10, n_estimators=50; total time=   0.1s\n",
      "[CV] END max_depth=60, max_features=sqrt, min_samples_leaf=4, min_samples_split=10, n_estimators=200; total time=   0.4s\n",
      "[CV] END max_depth=40, max_features=auto, min_samples_leaf=8, min_samples_split=2, n_estimators=100; total time=   0.8s\n",
      "[CV] END max_depth=50, max_features=sqrt, min_samples_leaf=8, min_samples_split=10, n_estimators=100; total time=   0.2s\n",
      "[CV] END max_depth=50, max_features=auto, min_samples_leaf=12, min_samples_split=10, n_estimators=200; total time=   1.4s\n",
      "[CV] END max_depth=50, max_features=sqrt, min_samples_leaf=12, min_samples_split=10, n_estimators=200; total time=   0.3s\n",
      "[CV] END max_depth=60, max_features=auto, min_samples_leaf=4, min_samples_split=2, n_estimators=50; total time=   0.5s\n",
      "[CV] END max_depth=60, max_features=auto, min_samples_leaf=4, min_samples_split=2, n_estimators=200; total time=   1.8s\n",
      "[CV] END max_depth=60, max_features=auto, min_samples_leaf=8, min_samples_split=2, n_estimators=200; total time=   1.5s\n",
      "[CV] END max_depth=60, max_features=sqrt, min_samples_leaf=4, min_samples_split=10, n_estimators=50; total time=   0.1s\n",
      "[CV] END max_depth=60, max_features=sqrt, min_samples_leaf=4, min_samples_split=10, n_estimators=50; total time=   0.1s\n",
      "[CV] END max_depth=40, max_features=auto, min_samples_leaf=12, min_samples_split=2, n_estimators=200; total time=   1.4s\n",
      "[CV] END max_depth=40, max_features=auto, min_samples_leaf=4, min_samples_split=5, n_estimators=50; total time=   0.5s\n",
      "[CV] END max_depth=60, max_features=sqrt, min_samples_leaf=12, min_samples_split=10, n_estimators=200; total time=   0.3s\n",
      "[CV] END max_depth=40, max_features=auto, min_samples_leaf=4, min_samples_split=10, n_estimators=50; total time=   0.5s\n",
      "[CV] END max_depth=50, max_features=auto, min_samples_leaf=12, min_samples_split=5, n_estimators=50; total time=   0.4s\n",
      "[CV] END max_depth=50, max_features=sqrt, min_samples_leaf=4, min_samples_split=5, n_estimators=50; total time=   0.1s\n",
      "[CV] END max_depth=60, max_features=auto, min_samples_leaf=8, min_samples_split=5, n_estimators=100; total time=   0.8s\n",
      "[CV] END max_depth=40, max_features=auto, min_samples_leaf=8, min_samples_split=5, n_estimators=50; total time=   0.4s\n",
      "[CV] END max_depth=50, max_features=auto, min_samples_leaf=8, min_samples_split=5, n_estimators=50; total time=   0.4s\n",
      "[CV] END max_depth=60, max_features=sqrt, min_samples_leaf=8, min_samples_split=2, n_estimators=100; total time=   0.2s\n",
      "[CV] END max_depth=40, max_features=auto, min_samples_leaf=4, min_samples_split=10, n_estimators=100; total time=   0.9s\n",
      "[CV] END max_depth=40, max_features=sqrt, min_samples_leaf=8, min_samples_split=10, n_estimators=200; total time=   0.3s\n",
      "[CV] END max_depth=60, max_features=auto, min_samples_leaf=8, min_samples_split=10, n_estimators=100; total time=   0.8s\n",
      "[CV] END max_depth=60, max_features=sqrt, min_samples_leaf=12, min_samples_split=10, n_estimators=50; total time=   0.1s\n",
      "[CV] END max_depth=50, max_features=sqrt, min_samples_leaf=4, min_samples_split=5, n_estimators=200; total time=   0.4s\n",
      "[CV] END max_depth=60, max_features=auto, min_samples_leaf=8, min_samples_split=5, n_estimators=200; total time=   1.6s\n",
      "[CV] END max_depth=60, max_features=sqrt, min_samples_leaf=8, min_samples_split=5, n_estimators=50; total time=   0.1s\n",
      "[CV] END max_depth=60, max_features=auto, min_samples_leaf=8, min_samples_split=2, n_estimators=100; total time=   0.8s\n",
      "[CV] END max_depth=60, max_features=auto, min_samples_leaf=12, min_samples_split=5, n_estimators=100; total time=   0.7s\n",
      "[CV] END max_depth=40, max_features=sqrt, min_samples_leaf=12, min_samples_split=2, n_estimators=50; total time=   0.1s\n",
      "[CV] END max_depth=40, max_features=sqrt, min_samples_leaf=12, min_samples_split=2, n_estimators=50; total time=   0.1s\n",
      "[CV] END max_depth=50, max_features=auto, min_samples_leaf=4, min_samples_split=10, n_estimators=50; total time=   0.5s\n",
      "[CV] END max_depth=40, max_features=auto, min_samples_leaf=4, min_samples_split=10, n_estimators=200; total time=   1.8s\n",
      "[CV] END max_depth=60, max_features=sqrt, min_samples_leaf=8, min_samples_split=5, n_estimators=200; total time=   0.3s\n",
      "[CV] END max_depth=50, max_features=sqrt, min_samples_leaf=12, min_samples_split=2, n_estimators=100; total time=   0.2s\n",
      "[CV] END max_depth=60, max_features=auto, min_samples_leaf=8, min_samples_split=10, n_estimators=50; total time=   0.4s\n",
      "[CV] END max_depth=60, max_features=sqrt, min_samples_leaf=4, min_samples_split=2, n_estimators=200; total time=   0.4s\n",
      "[CV] END max_depth=40, max_features=auto, min_samples_leaf=12, min_samples_split=10, n_estimators=50; total time=   0.4s\n",
      "[CV] END max_depth=50, max_features=auto, min_samples_leaf=4, min_samples_split=2, n_estimators=50; total time=   0.5s\n",
      "[CV] END max_depth=60, max_features=sqrt, min_samples_leaf=8, min_samples_split=2, n_estimators=200; total time=   0.3s\n",
      "[CV] END max_depth=60, max_features=auto, min_samples_leaf=4, min_samples_split=5, n_estimators=100; total time=   0.9s\n",
      "[CV] END max_depth=40, max_features=auto, min_samples_leaf=8, min_samples_split=10, n_estimators=100; total time=   0.8s\n",
      "[CV] END max_depth=50, max_features=sqrt, min_samples_leaf=12, min_samples_split=10, n_estimators=100; total time=   0.1s\n",
      "[CV] END max_depth=40, max_features=sqrt, min_samples_leaf=8, min_samples_split=5, n_estimators=100; total time=   0.2s\n",
      "[CV] END max_depth=40, max_features=auto, min_samples_leaf=12, min_samples_split=5, n_estimators=100; total time=   0.7s\n",
      "[CV] END max_depth=50, max_features=auto, min_samples_leaf=8, min_samples_split=10, n_estimators=200; total time=   1.6s\n",
      "[CV] END max_depth=60, max_features=sqrt, min_samples_leaf=8, min_samples_split=2, n_estimators=50; total time=   0.1s\n",
      "[CV] END max_depth=60, max_features=sqrt, min_samples_leaf=8, min_samples_split=2, n_estimators=50; total time=   0.1s\n",
      "[CV] END max_depth=50, max_features=sqrt, min_samples_leaf=12, min_samples_split=2, n_estimators=200; total time=   0.3s\n",
      "[CV] END max_depth=40, max_features=sqrt, min_samples_leaf=4, min_samples_split=2, n_estimators=50; total time=   0.1s\n",
      "[CV] END max_depth=60, max_features=auto, min_samples_leaf=8, min_samples_split=5, n_estimators=50; total time=   0.4s\n",
      "[CV] END max_depth=60, max_features=sqrt, min_samples_leaf=12, min_samples_split=10, n_estimators=100; total time=   0.2s\n",
      "[CV] END max_depth=40, max_features=auto, min_samples_leaf=12, min_samples_split=2, n_estimators=50; total time=   0.4s\n",
      "[CV] END max_depth=50, max_features=sqrt, min_samples_leaf=8, min_samples_split=2, n_estimators=200; total time=   0.3s\n",
      "[CV] END max_depth=40, max_features=sqrt, min_samples_leaf=4, min_samples_split=5, n_estimators=50; total time=   0.1s\n",
      "[CV] END max_depth=60, max_features=sqrt, min_samples_leaf=12, min_samples_split=2, n_estimators=50; total time=   0.1s\n",
      "[CV] END max_depth=60, max_features=auto, min_samples_leaf=4, min_samples_split=2, n_estimators=100; total time=   0.9s\n",
      "[CV] END max_depth=50, max_features=auto, min_samples_leaf=4, min_samples_split=5, n_estimators=200; total time=   2.0s\n",
      "[CV] END max_depth=60, max_features=sqrt, min_samples_leaf=4, min_samples_split=10, n_estimators=200; total time=   0.4s\n",
      "[CV] END max_depth=50, max_features=auto, min_samples_leaf=12, min_samples_split=2, n_estimators=100; total time=   0.7s\n",
      "[CV] END max_depth=60, max_features=sqrt, min_samples_leaf=12, min_samples_split=5, n_estimators=50; total time=   0.1s\n",
      "[CV] END max_depth=50, max_features=sqrt, min_samples_leaf=8, min_samples_split=10, n_estimators=100; total time=   0.2s\n",
      "[CV] END max_depth=50, max_features=auto, min_samples_leaf=12, min_samples_split=10, n_estimators=200; total time=   1.4s\n",
      "[CV] END max_depth=60, max_features=sqrt, min_samples_leaf=8, min_samples_split=5, n_estimators=100; total time=   0.2s\n",
      "[CV] END max_depth=60, max_features=auto, min_samples_leaf=4, min_samples_split=2, n_estimators=50; total time=   0.5s\n",
      "[CV] END max_depth=60, max_features=auto, min_samples_leaf=4, min_samples_split=2, n_estimators=200; total time=   1.9s\n",
      "[CV] END max_depth=60, max_features=auto, min_samples_leaf=8, min_samples_split=2, n_estimators=200; total time=   1.6s\n",
      "[CV] END max_depth=40, max_features=auto, min_samples_leaf=12, min_samples_split=2, n_estimators=200; total time=   1.4s\n",
      "[CV] END max_depth=40, max_features=auto, min_samples_leaf=4, min_samples_split=5, n_estimators=50; total time=   0.5s\n",
      "[CV] END max_depth=60, max_features=sqrt, min_samples_leaf=12, min_samples_split=10, n_estimators=200; total time=   0.3s\n",
      "[CV] END max_depth=50, max_features=sqrt, min_samples_leaf=8, min_samples_split=5, n_estimators=100; total time=   0.2s\n",
      "[CV] END max_depth=50, max_features=auto, min_samples_leaf=8, min_samples_split=5, n_estimators=200; total time=   1.6s\n",
      "[CV] END max_depth=40, max_features=auto, min_samples_leaf=8, min_samples_split=5, n_estimators=50; total time=   0.4s\n",
      "[CV] END max_depth=50, max_features=auto, min_samples_leaf=8, min_samples_split=5, n_estimators=200; total time=   1.5s\n",
      "[CV] END max_depth=40, max_features=auto, min_samples_leaf=8, min_samples_split=5, n_estimators=50; total time=   0.4s\n",
      "[CV] END max_depth=50, max_features=auto, min_samples_leaf=8, min_samples_split=5, n_estimators=50; total time=   0.4s\n",
      "[CV] END max_depth=60, max_features=sqrt, min_samples_leaf=8, min_samples_split=2, n_estimators=100; total time=   0.2s\n",
      "[CV] END max_depth=40, max_features=auto, min_samples_leaf=4, min_samples_split=10, n_estimators=100; total time=   0.9s\n",
      "[CV] END max_depth=40, max_features=sqrt, min_samples_leaf=8, min_samples_split=10, n_estimators=200; total time=   0.3s\n",
      "[CV] END max_depth=60, max_features=auto, min_samples_leaf=8, min_samples_split=10, n_estimators=100; total time=   0.8s\n",
      "[CV] END max_depth=60, max_features=sqrt, min_samples_leaf=12, min_samples_split=10, n_estimators=50; total time=   0.1s\n",
      "[CV] END max_depth=60, max_features=sqrt, min_samples_leaf=12, min_samples_split=10, n_estimators=50; total time=   0.1s\n",
      "[CV] END max_depth=50, max_features=sqrt, min_samples_leaf=4, min_samples_split=5, n_estimators=200; total time=   0.4s\n",
      "[CV] END max_depth=60, max_features=auto, min_samples_leaf=8, min_samples_split=5, n_estimators=200; total time=   1.5s\n",
      "[CV] END max_depth=60, max_features=sqrt, min_samples_leaf=8, min_samples_split=5, n_estimators=50; total time=   0.1s\n",
      "[CV] END max_depth=60, max_features=sqrt, min_samples_leaf=8, min_samples_split=5, n_estimators=50; total time=   0.1s\n",
      "[CV] END max_depth=60, max_features=sqrt, min_samples_leaf=8, min_samples_split=5, n_estimators=50; total time=   0.1s\n",
      "[CV] END max_depth=50, max_features=auto, min_samples_leaf=8, min_samples_split=2, n_estimators=50; total time=   0.4s\n",
      "[CV] END max_depth=40, max_features=sqrt, min_samples_leaf=12, min_samples_split=10, n_estimators=50; total time=   0.1s\n",
      "[CV] END max_depth=40, max_features=sqrt, min_samples_leaf=12, min_samples_split=10, n_estimators=50; total time=   0.1s\n",
      "[CV] END max_depth=50, max_features=sqrt, min_samples_leaf=8, min_samples_split=10, n_estimators=200; total time=   0.3s\n",
      "[CV] END max_depth=60, max_features=auto, min_samples_leaf=4, min_samples_split=5, n_estimators=50; total time=   0.5s\n",
      "[CV] END max_depth=40, max_features=sqrt, min_samples_leaf=12, min_samples_split=2, n_estimators=50; total time=   0.1s\n",
      "[CV] END max_depth=40, max_features=sqrt, min_samples_leaf=12, min_samples_split=2, n_estimators=50; total time=   0.1s\n",
      "[CV] END max_depth=50, max_features=auto, min_samples_leaf=4, min_samples_split=10, n_estimators=50; total time=   0.4s\n",
      "[CV] END max_depth=40, max_features=auto, min_samples_leaf=4, min_samples_split=10, n_estimators=200; total time=   1.8s\n",
      "[CV] END max_depth=40, max_features=sqrt, min_samples_leaf=4, min_samples_split=10, n_estimators=50; total time=   0.1s\n",
      "[CV] END max_depth=60, max_features=sqrt, min_samples_leaf=8, min_samples_split=5, n_estimators=200; total time=   0.3s\n",
      "[CV] END max_depth=50, max_features=auto, min_samples_leaf=4, min_samples_split=10, n_estimators=200; total time=   1.8s\n",
      "[CV] END max_depth=60, max_features=sqrt, min_samples_leaf=8, min_samples_split=2, n_estimators=200; total time=   0.3s\n",
      "[CV] END max_depth=40, max_features=auto, min_samples_leaf=12, min_samples_split=2, n_estimators=100; total time=   0.7s\n",
      "[CV] END max_depth=60, max_features=auto, min_samples_leaf=12, min_samples_split=10, n_estimators=100; total time=   0.7s\n",
      "[CV] END max_depth=40, max_features=auto, min_samples_leaf=8, min_samples_split=10, n_estimators=100; total time=   0.8s\n",
      "[CV] END max_depth=40, max_features=sqrt, min_samples_leaf=8, min_samples_split=5, n_estimators=100; total time=   0.2s\n",
      "[CV] END max_depth=40, max_features=auto, min_samples_leaf=12, min_samples_split=5, n_estimators=100; total time=   0.7s\n",
      "[CV] END max_depth=60, max_features=auto, min_samples_leaf=4, min_samples_split=5, n_estimators=200; total time=   1.8s\n",
      "[CV] END max_depth=40, max_features=sqrt, min_samples_leaf=4, min_samples_split=2, n_estimators=50; total time=   0.1s\n",
      "[CV] END max_depth=40, max_features=sqrt, min_samples_leaf=4, min_samples_split=2, n_estimators=50; total time=   0.1s\n",
      "[CV] END max_depth=60, max_features=auto, min_samples_leaf=8, min_samples_split=5, n_estimators=50; total time=   0.4s\n",
      "[CV] END max_depth=50, max_features=auto, min_samples_leaf=4, min_samples_split=2, n_estimators=100; total time=   0.9s\n",
      "[CV] END max_depth=40, max_features=sqrt, min_samples_leaf=4, min_samples_split=5, n_estimators=50; total time=   0.1s\n",
      "[CV] END max_depth=60, max_features=sqrt, min_samples_leaf=12, min_samples_split=2, n_estimators=50; total time=   0.1s\n",
      "[CV] END max_depth=60, max_features=auto, min_samples_leaf=4, min_samples_split=2, n_estimators=100; total time=   0.9s\n",
      "[CV] END max_depth=50, max_features=auto, min_samples_leaf=4, min_samples_split=5, n_estimators=200; total time=   1.9s\n",
      "[CV] END max_depth=60, max_features=sqrt, min_samples_leaf=4, min_samples_split=10, n_estimators=200; total time=   0.4s\n",
      "[CV] END max_depth=50, max_features=auto, min_samples_leaf=12, min_samples_split=2, n_estimators=100; total time=   0.7s\n",
      "[CV] END max_depth=60, max_features=sqrt, min_samples_leaf=12, min_samples_split=5, n_estimators=50; total time=   0.1s\n",
      "[CV] END max_depth=50, max_features=sqrt, min_samples_leaf=8, min_samples_split=2, n_estimators=50; total time=   0.1s\n",
      "[CV] END max_depth=50, max_features=sqrt, min_samples_leaf=8, min_samples_split=2, n_estimators=50; total time=   0.1s\n",
      "[CV] END max_depth=60, max_features=auto, min_samples_leaf=12, min_samples_split=5, n_estimators=50; total time=   0.4s\n",
      "[CV] END max_depth=60, max_features=auto, min_samples_leaf=12, min_samples_split=2, n_estimators=50; total time=   0.3s\n",
      "[CV] END max_depth=40, max_features=sqrt, min_samples_leaf=12, min_samples_split=5, n_estimators=200; total time=   0.3s\n",
      "[CV] END max_depth=50, max_features=sqrt, min_samples_leaf=12, min_samples_split=10, n_estimators=200; total time=   0.3s\n",
      "[CV] END max_depth=60, max_features=sqrt, min_samples_leaf=8, min_samples_split=5, n_estimators=100; total time=   0.2s\n",
      "[CV] END max_depth=50, max_features=auto, min_samples_leaf=8, min_samples_split=2, n_estimators=100; total time=   0.8s\n",
      "[CV] END max_depth=50, max_features=auto, min_samples_leaf=8, min_samples_split=10, n_estimators=50; total time=   0.4s\n",
      "[CV] END max_depth=40, max_features=sqrt, min_samples_leaf=12, min_samples_split=5, n_estimators=100; total time=   0.1s\n",
      "[CV] END max_depth=40, max_features=sqrt, min_samples_leaf=12, min_samples_split=5, n_estimators=50; total time=   0.1s\n",
      "[CV] END max_depth=40, max_features=auto, min_samples_leaf=8, min_samples_split=5, n_estimators=100; total time=   0.8s\n",
      "[CV] END max_depth=60, max_features=auto, min_samples_leaf=8, min_samples_split=2, n_estimators=200; total time=   1.6s\n",
      "[CV] END max_depth=60, max_features=sqrt, min_samples_leaf=4, min_samples_split=10, n_estimators=50; total time=   0.1s\n",
      "[CV] END max_depth=40, max_features=auto, min_samples_leaf=12, min_samples_split=2, n_estimators=200; total time=   1.3s\n",
      "[CV] END max_depth=40, max_features=auto, min_samples_leaf=4, min_samples_split=5, n_estimators=50; total time=   0.5s\n",
      "[CV] END max_depth=60, max_features=sqrt, min_samples_leaf=12, min_samples_split=10, n_estimators=200; total time=   0.3s\n",
      "[CV] END max_depth=40, max_features=auto, min_samples_leaf=4, min_samples_split=10, n_estimators=50; total time=   0.4s\n",
      "[CV] END max_depth=50, max_features=auto, min_samples_leaf=12, min_samples_split=5, n_estimators=50; total time=   0.3s\n",
      "[CV] END max_depth=50, max_features=sqrt, min_samples_leaf=4, min_samples_split=5, n_estimators=50; total time=   0.1s\n",
      "[CV] END max_depth=50, max_features=sqrt, min_samples_leaf=4, min_samples_split=5, n_estimators=50; total time=   0.1s\n",
      "[CV] END max_depth=60, max_features=auto, min_samples_leaf=8, min_samples_split=5, n_estimators=100; total time=   0.7s\n",
      "[CV] END max_depth=40, max_features=auto, min_samples_leaf=8, min_samples_split=5, n_estimators=50; total time=   0.4s\n",
      "[CV] END max_depth=50, max_features=auto, min_samples_leaf=8, min_samples_split=5, n_estimators=50; total time=   0.4s\n",
      "[CV] END max_depth=60, max_features=sqrt, min_samples_leaf=8, min_samples_split=2, n_estimators=100; total time=   0.2s\n",
      "[CV] END max_depth=40, max_features=auto, min_samples_leaf=4, min_samples_split=10, n_estimators=100; total time=   0.9s\n",
      "[CV] END max_depth=40, max_features=sqrt, min_samples_leaf=8, min_samples_split=10, n_estimators=200; total time=   0.3s\n",
      "[CV] END max_depth=60, max_features=auto, min_samples_leaf=8, min_samples_split=10, n_estimators=100; total time=   0.8s\n",
      "[CV] END max_depth=60, max_features=sqrt, min_samples_leaf=12, min_samples_split=10, n_estimators=50; total time=   0.1s\n",
      "[CV] END max_depth=60, max_features=sqrt, min_samples_leaf=12, min_samples_split=10, n_estimators=50; total time=   0.1s\n",
      "[CV] END max_depth=60, max_features=sqrt, min_samples_leaf=12, min_samples_split=10, n_estimators=50; total time=   0.1s\n",
      "[CV] END max_depth=50, max_features=sqrt, min_samples_leaf=4, min_samples_split=5, n_estimators=200; total time=   0.4s\n",
      "[CV] END max_depth=60, max_features=sqrt, min_samples_leaf=4, min_samples_split=2, n_estimators=50; total time=   0.1s\n",
      "[CV] END max_depth=60, max_features=sqrt, min_samples_leaf=4, min_samples_split=2, n_estimators=50; total time=   0.1s\n",
      "[CV] END max_depth=50, max_features=sqrt, min_samples_leaf=8, min_samples_split=5, n_estimators=50; total time=   0.1s\n",
      "[CV] END max_depth=40, max_features=auto, min_samples_leaf=12, min_samples_split=10, n_estimators=200; total time=   1.4s\n",
      "[CV] END max_depth=60, max_features=auto, min_samples_leaf=8, min_samples_split=2, n_estimators=100; total time=   0.8s\n",
      "[CV] END max_depth=60, max_features=auto, min_samples_leaf=12, min_samples_split=5, n_estimators=100; total time=   0.7s\n",
      "[CV] END max_depth=40, max_features=sqrt, min_samples_leaf=12, min_samples_split=2, n_estimators=50; total time=   0.1s\n",
      "[CV] END max_depth=40, max_features=sqrt, min_samples_leaf=12, min_samples_split=2, n_estimators=50; total time=   0.1s\n",
      "[CV] END max_depth=40, max_features=sqrt, min_samples_leaf=12, min_samples_split=2, n_estimators=50; total time=   0.1s\n",
      "[CV] END max_depth=50, max_features=auto, min_samples_leaf=4, min_samples_split=10, n_estimators=50; total time=   0.5s\n",
      "[CV] END max_depth=40, max_features=auto, min_samples_leaf=4, min_samples_split=10, n_estimators=200; total time=   1.8s\n",
      "[CV] END max_depth=50, max_features=auto, min_samples_leaf=4, min_samples_split=10, n_estimators=200; total time=   1.8s\n",
      "[CV] END max_depth=60, max_features=sqrt, min_samples_leaf=8, min_samples_split=2, n_estimators=200; total time=   0.3s\n",
      "[CV] END max_depth=60, max_features=sqrt, min_samples_leaf=8, min_samples_split=2, n_estimators=200; total time=   0.3s\n",
      "[CV] END max_depth=60, max_features=auto, min_samples_leaf=4, min_samples_split=5, n_estimators=100; total time=   0.9s\n",
      "[CV] END max_depth=40, max_features=auto, min_samples_leaf=8, min_samples_split=10, n_estimators=100; total time=   0.8s\n",
      "[CV] END max_depth=50, max_features=sqrt, min_samples_leaf=12, min_samples_split=10, n_estimators=100; total time=   0.2s\n",
      "[CV] END max_depth=40, max_features=sqrt, min_samples_leaf=8, min_samples_split=5, n_estimators=100; total time=   0.2s\n",
      "[CV] END max_depth=40, max_features=auto, min_samples_leaf=12, min_samples_split=5, n_estimators=100; total time=   0.7s\n",
      "[CV] END max_depth=60, max_features=auto, min_samples_leaf=4, min_samples_split=5, n_estimators=200; total time=   1.8s\n",
      "[CV] END max_depth=40, max_features=sqrt, min_samples_leaf=4, min_samples_split=2, n_estimators=50; total time=   0.1s\n",
      "[CV] END max_depth=40, max_features=sqrt, min_samples_leaf=4, min_samples_split=2, n_estimators=50; total time=   0.1s\n",
      "[CV] END max_depth=40, max_features=sqrt, min_samples_leaf=4, min_samples_split=2, n_estimators=50; total time=   0.1s\n",
      "[CV] END max_depth=60, max_features=auto, min_samples_leaf=8, min_samples_split=5, n_estimators=50; total time=   0.4s\n",
      "[CV] END max_depth=50, max_features=auto, min_samples_leaf=4, min_samples_split=2, n_estimators=100; total time=   1.0s\n",
      "[CV] END max_depth=40, max_features=sqrt, min_samples_leaf=4, min_samples_split=5, n_estimators=50; total time=   0.1s\n",
      "[CV] END max_depth=60, max_features=sqrt, min_samples_leaf=12, min_samples_split=2, n_estimators=50; total time=   0.1s\n",
      "[CV] END max_depth=60, max_features=auto, min_samples_leaf=4, min_samples_split=2, n_estimators=100; total time=   0.9s\n",
      "[CV] END max_depth=50, max_features=auto, min_samples_leaf=4, min_samples_split=5, n_estimators=200; total time=   1.8s\n",
      "[CV] END max_depth=50, max_features=sqrt, min_samples_leaf=8, min_samples_split=10, n_estimators=50; total time=   0.1s\n",
      "[CV] END max_depth=40, max_features=sqrt, min_samples_leaf=8, min_samples_split=10, n_estimators=100; total time=   0.2s\n",
      "[CV] END max_depth=60, max_features=sqrt, min_samples_leaf=4, min_samples_split=10, n_estimators=200; total time=   0.4s\n",
      "[CV] END max_depth=50, max_features=auto, min_samples_leaf=12, min_samples_split=2, n_estimators=100; total time=   0.7s\n",
      "[CV] END max_depth=60, max_features=sqrt, min_samples_leaf=12, min_samples_split=5, n_estimators=50; total time=   0.1s\n",
      "[CV] END max_depth=50, max_features=sqrt, min_samples_leaf=8, min_samples_split=2, n_estimators=50; total time=   0.1s\n",
      "[CV] END max_depth=50, max_features=auto, min_samples_leaf=12, min_samples_split=10, n_estimators=200; total time=   1.4s\n",
      "[CV] END max_depth=60, max_features=sqrt, min_samples_leaf=8, min_samples_split=5, n_estimators=100; total time=   0.2s\n",
      "[CV] END max_depth=50, max_features=auto, min_samples_leaf=8, min_samples_split=2, n_estimators=100; total time=   0.8s\n",
      "[CV] END max_depth=50, max_features=auto, min_samples_leaf=8, min_samples_split=10, n_estimators=50; total time=   0.4s\n",
      "[CV] END max_depth=40, max_features=sqrt, min_samples_leaf=12, min_samples_split=5, n_estimators=100; total time=   0.1s\n",
      "[CV] END max_depth=40, max_features=sqrt, min_samples_leaf=12, min_samples_split=5, n_estimators=50; total time=   0.1s\n",
      "[CV] END max_depth=40, max_features=sqrt, min_samples_leaf=12, min_samples_split=5, n_estimators=50; total time=   0.1s\n",
      "[CV] END max_depth=40, max_features=auto, min_samples_leaf=8, min_samples_split=5, n_estimators=100; total time=   0.8s\n",
      "[CV] END max_depth=60, max_features=auto, min_samples_leaf=8, min_samples_split=2, n_estimators=200; total time=   1.5s\n",
      "[CV] END max_depth=60, max_features=sqrt, min_samples_leaf=4, min_samples_split=10, n_estimators=50; total time=   0.1s\n",
      "[CV] END max_depth=60, max_features=sqrt, min_samples_leaf=4, min_samples_split=10, n_estimators=50; total time=   0.1s\n",
      "[CV] END max_depth=40, max_features=auto, min_samples_leaf=12, min_samples_split=2, n_estimators=200; total time=   1.4s\n",
      "[CV] END max_depth=40, max_features=auto, min_samples_leaf=4, min_samples_split=5, n_estimators=50; total time=   0.5s\n",
      "[CV] END max_depth=60, max_features=sqrt, min_samples_leaf=12, min_samples_split=10, n_estimators=200; total time=   0.3s\n",
      "[CV] END max_depth=40, max_features=auto, min_samples_leaf=4, min_samples_split=10, n_estimators=50; total time=   0.4s\n",
      "[CV] END max_depth=50, max_features=auto, min_samples_leaf=12, min_samples_split=5, n_estimators=50; total time=   0.3s\n",
      "[CV] END max_depth=50, max_features=sqrt, min_samples_leaf=4, min_samples_split=5, n_estimators=50; total time=   0.1s\n",
      "[CV] END max_depth=50, max_features=sqrt, min_samples_leaf=4, min_samples_split=5, n_estimators=50; total time=   0.1s\n",
      "[CV] END max_depth=50, max_features=sqrt, min_samples_leaf=4, min_samples_split=5, n_estimators=50; total time=   0.1s\n",
      "[CV] END max_depth=60, max_features=auto, min_samples_leaf=8, min_samples_split=5, n_estimators=100; total time=   0.8s\n",
      "[CV] END max_depth=40, max_features=auto, min_samples_leaf=8, min_samples_split=5, n_estimators=50; total time=   0.4s\n",
      "[CV] END max_depth=60, max_features=auto, min_samples_leaf=12, min_samples_split=5, n_estimators=200; total time=   1.4s\n",
      "[CV] END max_depth=40, max_features=sqrt, min_samples_leaf=8, min_samples_split=10, n_estimators=200; total time=   0.3s\n",
      "[CV] END max_depth=60, max_features=auto, min_samples_leaf=8, min_samples_split=10, n_estimators=100; total time=   0.7s\n",
      "[CV] END max_depth=60, max_features=sqrt, min_samples_leaf=12, min_samples_split=10, n_estimators=50; total time=   0.1s\n",
      "[CV] END max_depth=60, max_features=sqrt, min_samples_leaf=12, min_samples_split=10, n_estimators=50; total time=   0.1s\n",
      "[CV] END max_depth=60, max_features=sqrt, min_samples_leaf=12, min_samples_split=10, n_estimators=50; total time=   0.1s\n",
      "[CV] END max_depth=50, max_features=sqrt, min_samples_leaf=4, min_samples_split=5, n_estimators=200; total time=   0.4s\n",
      "[CV] END max_depth=60, max_features=auto, min_samples_leaf=8, min_samples_split=5, n_estimators=200; total time=   1.5s\n",
      "[CV] END max_depth=60, max_features=sqrt, min_samples_leaf=8, min_samples_split=5, n_estimators=50; total time=   0.1s\n",
      "[CV] END max_depth=60, max_features=sqrt, min_samples_leaf=8, min_samples_split=5, n_estimators=50; total time=   0.1s\n",
      "[CV] END max_depth=60, max_features=auto, min_samples_leaf=8, min_samples_split=2, n_estimators=100; total time=   0.8s\n",
      "[CV] END max_depth=60, max_features=auto, min_samples_leaf=12, min_samples_split=5, n_estimators=100; total time=   0.7s\n",
      "[CV] END max_depth=40, max_features=sqrt, min_samples_leaf=12, min_samples_split=2, n_estimators=50; total time=   0.1s\n",
      "[CV] END max_depth=50, max_features=auto, min_samples_leaf=4, min_samples_split=2, n_estimators=200; total time=   1.8s\n",
      "[CV] END max_depth=40, max_features=sqrt, min_samples_leaf=8, min_samples_split=2, n_estimators=100; total time=   0.2s\n",
      "[CV] END max_depth=40, max_features=sqrt, min_samples_leaf=8, min_samples_split=2, n_estimators=100; total time=   0.2s\n",
      "[CV] END max_depth=40, max_features=sqrt, min_samples_leaf=4, min_samples_split=10, n_estimators=50; total time=   0.1s\n",
      "[CV] END max_depth=60, max_features=sqrt, min_samples_leaf=8, min_samples_split=5, n_estimators=200; total time=   0.3s\n",
      "[CV] END max_depth=50, max_features=sqrt, min_samples_leaf=12, min_samples_split=2, n_estimators=100; total time=   0.1s\n",
      "[CV] END max_depth=60, max_features=auto, min_samples_leaf=8, min_samples_split=10, n_estimators=50; total time=   0.4s\n",
      "[CV] END max_depth=60, max_features=sqrt, min_samples_leaf=4, min_samples_split=2, n_estimators=200; total time=   0.4s\n",
      "[CV] END max_depth=40, max_features=auto, min_samples_leaf=12, min_samples_split=10, n_estimators=50; total time=   0.3s\n",
      "[CV] END max_depth=50, max_features=auto, min_samples_leaf=4, min_samples_split=2, n_estimators=50; total time=   0.5s\n",
      "[CV] END max_depth=60, max_features=sqrt, min_samples_leaf=8, min_samples_split=2, n_estimators=200; total time=   0.3s\n",
      "[CV] END max_depth=60, max_features=auto, min_samples_leaf=4, min_samples_split=5, n_estimators=100; total time=   0.9s\n",
      "[CV] END max_depth=40, max_features=auto, min_samples_leaf=8, min_samples_split=10, n_estimators=100; total time=   0.8s\n",
      "[CV] END max_depth=50, max_features=sqrt, min_samples_leaf=12, min_samples_split=10, n_estimators=100; total time=   0.1s\n",
      "[CV] END max_depth=50, max_features=sqrt, min_samples_leaf=12, min_samples_split=10, n_estimators=100; total time=   0.2s\n",
      "[CV] END max_depth=50, max_features=sqrt, min_samples_leaf=12, min_samples_split=10, n_estimators=100; total time=   0.1s\n",
      "[CV] END max_depth=40, max_features=sqrt, min_samples_leaf=8, min_samples_split=5, n_estimators=100; total time=   0.2s\n",
      "[CV] END max_depth=40, max_features=auto, min_samples_leaf=12, min_samples_split=5, n_estimators=100; total time=   0.7s\n",
      "[CV] END max_depth=60, max_features=auto, min_samples_leaf=4, min_samples_split=5, n_estimators=200; total time=   1.8s\n",
      "[CV] END max_depth=40, max_features=sqrt, min_samples_leaf=4, min_samples_split=2, n_estimators=50; total time=   0.1s\n",
      "[CV] END max_depth=40, max_features=sqrt, min_samples_leaf=4, min_samples_split=2, n_estimators=50; total time=   0.1s\n",
      "[CV] END max_depth=60, max_features=auto, min_samples_leaf=8, min_samples_split=5, n_estimators=50; total time=   0.4s\n",
      "[CV] END max_depth=60, max_features=sqrt, min_samples_leaf=12, min_samples_split=10, n_estimators=100; total time=   0.2s\n",
      "[CV] END max_depth=40, max_features=auto, min_samples_leaf=12, min_samples_split=2, n_estimators=50; total time=   0.3s\n",
      "[CV] END max_depth=50, max_features=sqrt, min_samples_leaf=8, min_samples_split=2, n_estimators=200; total time=   0.3s\n",
      "[CV] END max_depth=40, max_features=sqrt, min_samples_leaf=4, min_samples_split=5, n_estimators=50; total time=   0.1s\n",
      "[CV] END max_depth=40, max_features=sqrt, min_samples_leaf=4, min_samples_split=5, n_estimators=50; total time=   0.1s\n",
      "[CV] END max_depth=60, max_features=sqrt, min_samples_leaf=12, min_samples_split=2, n_estimators=50; total time=   0.1s\n",
      "[CV] END max_depth=60, max_features=auto, min_samples_leaf=4, min_samples_split=2, n_estimators=100; total time=   1.0s\n",
      "[CV] END max_depth=50, max_features=auto, min_samples_leaf=4, min_samples_split=5, n_estimators=200; total time=   1.8s\n",
      "[CV] END max_depth=50, max_features=sqrt, min_samples_leaf=8, min_samples_split=10, n_estimators=50; total time=   0.1s\n",
      "[CV] END max_depth=40, max_features=sqrt, min_samples_leaf=8, min_samples_split=10, n_estimators=100; total time=   0.2s\n",
      "[CV] END max_depth=40, max_features=auto, min_samples_leaf=8, min_samples_split=2, n_estimators=100; total time=   0.8s\n",
      "[CV] END max_depth=60, max_features=sqrt, min_samples_leaf=12, min_samples_split=5, n_estimators=50; total time=   0.1s\n",
      "[CV] END max_depth=60, max_features=sqrt, min_samples_leaf=12, min_samples_split=5, n_estimators=50; total time=   0.1s\n",
      "[CV] END max_depth=50, max_features=sqrt, min_samples_leaf=8, min_samples_split=10, n_estimators=100; total time=   0.2s\n",
      "[CV] END max_depth=50, max_features=auto, min_samples_leaf=12, min_samples_split=10, n_estimators=200; total time=   1.4s\n",
      "[CV] END max_depth=60, max_features=sqrt, min_samples_leaf=8, min_samples_split=5, n_estimators=100; total time=   0.2s\n",
      "[CV] END max_depth=50, max_features=auto, min_samples_leaf=8, min_samples_split=2, n_estimators=100; total time=   0.8s\n",
      "[CV] END max_depth=50, max_features=auto, min_samples_leaf=8, min_samples_split=10, n_estimators=50; total time=   0.4s\n",
      "[CV] END max_depth=40, max_features=sqrt, min_samples_leaf=12, min_samples_split=5, n_estimators=100; total time=   0.1s\n",
      "[CV] END max_depth=40, max_features=sqrt, min_samples_leaf=12, min_samples_split=5, n_estimators=100; total time=   0.2s\n",
      "[CV] END max_depth=40, max_features=sqrt, min_samples_leaf=12, min_samples_split=5, n_estimators=50; total time=   0.1s\n",
      "[CV] END max_depth=40, max_features=auto, min_samples_leaf=8, min_samples_split=5, n_estimators=100; total time=   0.8s\n",
      "[CV] END max_depth=60, max_features=auto, min_samples_leaf=8, min_samples_split=2, n_estimators=200; total time=   1.5s\n",
      "[CV] END max_depth=60, max_features=sqrt, min_samples_leaf=4, min_samples_split=10, n_estimators=50; total time=   0.1s\n",
      "[CV] END max_depth=60, max_features=sqrt, min_samples_leaf=4, min_samples_split=10, n_estimators=50; total time=   0.1s\n",
      "[CV] END max_depth=60, max_features=sqrt, min_samples_leaf=4, min_samples_split=10, n_estimators=50; total time=   0.1s\n",
      "[CV] END max_depth=40, max_features=auto, min_samples_leaf=12, min_samples_split=2, n_estimators=200; total time=   1.4s\n",
      "[CV] END max_depth=40, max_features=auto, min_samples_leaf=4, min_samples_split=5, n_estimators=50; total time=   0.5s\n",
      "[CV] END max_depth=60, max_features=sqrt, min_samples_leaf=12, min_samples_split=10, n_estimators=200; total time=   0.3s\n",
      "[CV] END max_depth=40, max_features=auto, min_samples_leaf=4, min_samples_split=10, n_estimators=50; total time=   0.5s\n",
      "[CV] END max_depth=50, max_features=auto, min_samples_leaf=12, min_samples_split=5, n_estimators=50; total time=   0.4s\n",
      "[CV] END max_depth=50, max_features=sqrt, min_samples_leaf=4, min_samples_split=5, n_estimators=50; total time=   0.1s\n",
      "[CV] END max_depth=60, max_features=auto, min_samples_leaf=8, min_samples_split=5, n_estimators=100; total time=   0.8s\n",
      "[CV] END max_depth=40, max_features=auto, min_samples_leaf=8, min_samples_split=5, n_estimators=50; total time=   0.4s\n"
     ]
    },
    {
     "name": "stdout",
     "output_type": "stream",
     "text": [
      "[CV] END max_depth=40, max_features=sqrt, min_samples_leaf=8, min_samples_split=10, n_estimators=100; total time=   0.2s\n",
      "[CV] END max_depth=60, max_features=sqrt, min_samples_leaf=4, min_samples_split=10, n_estimators=200; total time=   0.4s\n",
      "[CV] END max_depth=50, max_features=auto, min_samples_leaf=12, min_samples_split=2, n_estimators=100; total time=   0.8s\n",
      "[CV] END max_depth=50, max_features=sqrt, min_samples_leaf=8, min_samples_split=2, n_estimators=50; total time=   0.1s\n",
      "[CV] END max_depth=50, max_features=auto, min_samples_leaf=12, min_samples_split=10, n_estimators=200; total time=   1.5s\n",
      "[CV] END max_depth=50, max_features=auto, min_samples_leaf=8, min_samples_split=2, n_estimators=100; total time=   0.8s\n",
      "[CV] END max_depth=50, max_features=auto, min_samples_leaf=8, min_samples_split=10, n_estimators=50; total time=   0.4s\n",
      "[CV] END max_depth=40, max_features=sqrt, min_samples_leaf=12, min_samples_split=5, n_estimators=100; total time=   0.2s\n",
      "[CV] END max_depth=40, max_features=sqrt, min_samples_leaf=12, min_samples_split=5, n_estimators=50; total time=   0.1s\n",
      "[CV] END max_depth=40, max_features=sqrt, min_samples_leaf=12, min_samples_split=5, n_estimators=50; total time=   0.1s\n",
      "[CV] END max_depth=40, max_features=auto, min_samples_leaf=8, min_samples_split=5, n_estimators=100; total time=   0.9s\n",
      "[CV] END max_depth=40, max_features=auto, min_samples_leaf=12, min_samples_split=5, n_estimators=200; total time=   1.5s\n",
      "[CV] END max_depth=60, max_features=sqrt, min_samples_leaf=4, min_samples_split=10, n_estimators=50; total time=   0.1s\n",
      "[CV] END max_depth=40, max_features=auto, min_samples_leaf=12, min_samples_split=2, n_estimators=200; total time=   1.5s\n",
      "[CV] END max_depth=40, max_features=auto, min_samples_leaf=4, min_samples_split=5, n_estimators=50; total time=   0.5s\n",
      "[CV] END max_depth=50, max_features=sqrt, min_samples_leaf=8, min_samples_split=5, n_estimators=100; total time=   0.2s\n",
      "[CV] END max_depth=50, max_features=auto, min_samples_leaf=8, min_samples_split=5, n_estimators=200; total time=   1.7s\n",
      "[CV] END max_depth=40, max_features=auto, min_samples_leaf=8, min_samples_split=5, n_estimators=50; total time=   0.4s\n",
      "[CV] END max_depth=60, max_features=auto, min_samples_leaf=12, min_samples_split=5, n_estimators=200; total time=   1.5s\n",
      "[CV] END max_depth=40, max_features=sqrt, min_samples_leaf=8, min_samples_split=10, n_estimators=200; total time=   0.5s\n",
      "[CV] END max_depth=60, max_features=auto, min_samples_leaf=8, min_samples_split=10, n_estimators=100; total time=   0.9s\n",
      "[CV] END max_depth=50, max_features=sqrt, min_samples_leaf=4, min_samples_split=5, n_estimators=200; total time=   0.5s\n",
      "[CV] END max_depth=50, max_features=sqrt, min_samples_leaf=8, min_samples_split=5, n_estimators=50; total time=   0.1s\n",
      "[CV] END max_depth=40, max_features=auto, min_samples_leaf=12, min_samples_split=10, n_estimators=200; total time=   1.5s\n",
      "[CV] END max_depth=50, max_features=auto, min_samples_leaf=8, min_samples_split=2, n_estimators=50; total time=   0.4s\n",
      "[CV] END max_depth=40, max_features=sqrt, min_samples_leaf=12, min_samples_split=10, n_estimators=50; total time=   0.1s\n",
      "[CV] END max_depth=40, max_features=sqrt, min_samples_leaf=12, min_samples_split=10, n_estimators=50; total time=   0.1s\n",
      "[CV] END max_depth=50, max_features=sqrt, min_samples_leaf=8, min_samples_split=10, n_estimators=200; total time=   0.4s\n",
      "[CV] END max_depth=60, max_features=auto, min_samples_leaf=4, min_samples_split=5, n_estimators=50; total time=   0.5s\n",
      "[CV] END max_depth=50, max_features=auto, min_samples_leaf=4, min_samples_split=10, n_estimators=50; total time=   0.5s\n",
      "[CV] END max_depth=40, max_features=auto, min_samples_leaf=4, min_samples_split=10, n_estimators=200; total time=   2.1s\n",
      "[CV] END max_depth=50, max_features=auto, min_samples_leaf=4, min_samples_split=10, n_estimators=200; total time=   2.0s\n",
      "[CV] END max_depth=60, max_features=sqrt, min_samples_leaf=8, min_samples_split=2, n_estimators=200; total time=   0.4s\n",
      "[CV] END max_depth=60, max_features=auto, min_samples_leaf=4, min_samples_split=5, n_estimators=100; total time=   1.1s\n",
      "[CV] END max_depth=40, max_features=auto, min_samples_leaf=8, min_samples_split=10, n_estimators=100; total time=   0.9s\n",
      "[CV] END max_depth=40, max_features=sqrt, min_samples_leaf=8, min_samples_split=5, n_estimators=100; total time=   0.2s\n",
      "[CV] END max_depth=40, max_features=auto, min_samples_leaf=12, min_samples_split=5, n_estimators=100; total time=   0.8s\n",
      "[CV] END max_depth=60, max_features=auto, min_samples_leaf=4, min_samples_split=5, n_estimators=200; total time=   2.2s\n",
      "[CV] END max_depth=50, max_features=auto, min_samples_leaf=4, min_samples_split=2, n_estimators=100; total time=   1.1s\n",
      "[CV] END max_depth=50, max_features=sqrt, min_samples_leaf=4, min_samples_split=10, n_estimators=200; total time=   0.5s\n",
      "[CV] END max_depth=40, max_features=auto, min_samples_leaf=4, min_samples_split=2, n_estimators=200; total time=   2.1s\n",
      "[CV] END max_depth=50, max_features=sqrt, min_samples_leaf=4, min_samples_split=2, n_estimators=200; total time=   0.4s\n",
      "[CV] END max_depth=40, max_features=sqrt, min_samples_leaf=8, min_samples_split=10, n_estimators=100; total time=   0.2s\n",
      "[CV] END max_depth=60, max_features=sqrt, min_samples_leaf=4, min_samples_split=10, n_estimators=200; total time=   0.4s\n",
      "[CV] END max_depth=50, max_features=auto, min_samples_leaf=12, min_samples_split=2, n_estimators=100; total time=   0.8s\n",
      "[CV] END max_depth=50, max_features=sqrt, min_samples_leaf=8, min_samples_split=2, n_estimators=50; total time=   0.1s\n",
      "[CV] END max_depth=50, max_features=sqrt, min_samples_leaf=8, min_samples_split=2, n_estimators=50; total time=   0.1s\n",
      "[CV] END max_depth=60, max_features=auto, min_samples_leaf=12, min_samples_split=5, n_estimators=50; total time=   0.4s\n",
      "[CV] END max_depth=60, max_features=auto, min_samples_leaf=12, min_samples_split=2, n_estimators=50; total time=   0.4s\n",
      "[CV] END max_depth=40, max_features=sqrt, min_samples_leaf=12, min_samples_split=5, n_estimators=200; total time=   0.3s\n",
      "[CV] END max_depth=50, max_features=sqrt, min_samples_leaf=12, min_samples_split=10, n_estimators=200; total time=   0.4s\n",
      "[CV] END max_depth=50, max_features=auto, min_samples_leaf=8, min_samples_split=2, n_estimators=100; total time=   0.8s\n",
      "[CV] END max_depth=50, max_features=auto, min_samples_leaf=8, min_samples_split=10, n_estimators=50; total time=   0.4s\n",
      "[CV] END max_depth=40, max_features=sqrt, min_samples_leaf=12, min_samples_split=5, n_estimators=100; total time=   0.2s\n",
      "[CV] END max_depth=40, max_features=sqrt, min_samples_leaf=12, min_samples_split=5, n_estimators=50; total time=   0.1s\n",
      "[CV] END max_depth=40, max_features=sqrt, min_samples_leaf=12, min_samples_split=5, n_estimators=50; total time=   0.1s\n",
      "[CV] END max_depth=40, max_features=auto, min_samples_leaf=8, min_samples_split=5, n_estimators=100; total time=   0.9s\n",
      "[CV] END max_depth=40, max_features=auto, min_samples_leaf=12, min_samples_split=5, n_estimators=200; total time=   1.6s\n",
      "[CV] END max_depth=60, max_features=sqrt, min_samples_leaf=4, min_samples_split=10, n_estimators=50; total time=   0.1s\n",
      "[CV] END max_depth=40, max_features=auto, min_samples_leaf=8, min_samples_split=10, n_estimators=50; total time=   0.5s\n",
      "[CV] END max_depth=50, max_features=auto, min_samples_leaf=12, min_samples_split=10, n_estimators=50; total time=   0.4s\n",
      "[CV] END max_depth=40, max_features=sqrt, min_samples_leaf=12, min_samples_split=10, n_estimators=100; total time=   0.2s\n",
      "[CV] END max_depth=50, max_features=auto, min_samples_leaf=12, min_samples_split=5, n_estimators=100; total time=   0.7s\n",
      "[CV] END max_depth=60, max_features=sqrt, min_samples_leaf=12, min_samples_split=10, n_estimators=200; total time=   0.4s\n",
      "[CV] END max_depth=40, max_features=auto, min_samples_leaf=4, min_samples_split=10, n_estimators=50; total time=   0.6s\n",
      "[CV] END max_depth=50, max_features=auto, min_samples_leaf=12, min_samples_split=5, n_estimators=50; total time=   0.4s\n",
      "[CV] END max_depth=60, max_features=auto, min_samples_leaf=8, min_samples_split=5, n_estimators=100; total time=   0.9s\n",
      "[CV] END max_depth=60, max_features=auto, min_samples_leaf=8, min_samples_split=10, n_estimators=200; total time=   1.5s\n",
      "[CV] END max_depth=60, max_features=auto, min_samples_leaf=12, min_samples_split=5, n_estimators=200; total time=   1.6s\n",
      "[CV] END max_depth=50, max_features=auto, min_samples_leaf=12, min_samples_split=2, n_estimators=200; total time=   1.5s\n",
      "[CV] END max_depth=60, max_features=auto, min_samples_leaf=8, min_samples_split=5, n_estimators=200; total time=   1.7s\n",
      "[CV] END max_depth=60, max_features=sqrt, min_samples_leaf=8, min_samples_split=5, n_estimators=50; total time=   0.1s\n",
      "[CV] END max_depth=60, max_features=auto, min_samples_leaf=8, min_samples_split=2, n_estimators=100; total time=   0.9s\n",
      "[CV] END max_depth=60, max_features=auto, min_samples_leaf=12, min_samples_split=5, n_estimators=100; total time=   0.8s\n",
      "[CV] END max_depth=50, max_features=auto, min_samples_leaf=4, min_samples_split=10, n_estimators=50; total time=   0.5s\n",
      "[CV] END max_depth=40, max_features=auto, min_samples_leaf=4, min_samples_split=10, n_estimators=200; total time=   1.9s\n",
      "[CV] END max_depth=50, max_features=auto, min_samples_leaf=4, min_samples_split=10, n_estimators=200; total time=   2.1s\n",
      "[CV] END max_depth=40, max_features=auto, min_samples_leaf=12, min_samples_split=2, n_estimators=100; total time=   0.8s\n",
      "[CV] END max_depth=60, max_features=auto, min_samples_leaf=12, min_samples_split=10, n_estimators=100; total time=   0.8s\n",
      "[CV] END max_depth=50, max_features=auto, min_samples_leaf=4, min_samples_split=10, n_estimators=100; total time=   1.0s\n",
      "[CV] END max_depth=50, max_features=sqrt, min_samples_leaf=8, min_samples_split=5, n_estimators=200; total time=   0.4s\n",
      "[CV] END max_depth=50, max_features=auto, min_samples_leaf=8, min_samples_split=10, n_estimators=200; total time=   1.8s\n",
      "[CV] END max_depth=60, max_features=sqrt, min_samples_leaf=8, min_samples_split=2, n_estimators=50; total time=   0.1s\n",
      "[CV] END max_depth=50, max_features=sqrt, min_samples_leaf=12, min_samples_split=2, n_estimators=200; total time=   0.3s\n",
      "[CV] END max_depth=60, max_features=auto, min_samples_leaf=8, min_samples_split=5, n_estimators=50; total time=   0.4s\n",
      "[CV] END max_depth=60, max_features=sqrt, min_samples_leaf=12, min_samples_split=10, n_estimators=100; total time=   0.2s\n",
      "[CV] END max_depth=40, max_features=auto, min_samples_leaf=12, min_samples_split=2, n_estimators=50; total time=   0.4s\n",
      "[CV] END max_depth=50, max_features=sqrt, min_samples_leaf=8, min_samples_split=2, n_estimators=200; total time=   0.3s\n",
      "[CV] END max_depth=50, max_features=sqrt, min_samples_leaf=4, min_samples_split=10, n_estimators=200; total time=   0.5s\n",
      "[CV] END max_depth=40, max_features=auto, min_samples_leaf=4, min_samples_split=2, n_estimators=200; total time=   2.2s\n",
      "[CV] END max_depth=50, max_features=sqrt, min_samples_leaf=4, min_samples_split=2, n_estimators=200; total time=   0.4s\n",
      "[CV] END max_depth=60, max_features=sqrt, min_samples_leaf=4, min_samples_split=10, n_estimators=200; total time=   0.6s\n",
      "[CV] END max_depth=50, max_features=auto, min_samples_leaf=12, min_samples_split=2, n_estimators=100; total time=   0.7s\n",
      "[CV] END max_depth=50, max_features=sqrt, min_samples_leaf=8, min_samples_split=2, n_estimators=50; total time=   0.1s\n",
      "[CV] END max_depth=60, max_features=auto, min_samples_leaf=12, min_samples_split=5, n_estimators=50; total time=   0.4s\n",
      "[CV] END max_depth=60, max_features=auto, min_samples_leaf=12, min_samples_split=2, n_estimators=50; total time=   0.4s\n",
      "[CV] END max_depth=40, max_features=sqrt, min_samples_leaf=12, min_samples_split=5, n_estimators=200; total time=   0.3s\n",
      "[CV] END max_depth=50, max_features=sqrt, min_samples_leaf=12, min_samples_split=10, n_estimators=200; total time=   0.3s\n",
      "[CV] END max_depth=50, max_features=auto, min_samples_leaf=8, min_samples_split=2, n_estimators=100; total time=   0.9s\n",
      "[CV] END max_depth=50, max_features=auto, min_samples_leaf=8, min_samples_split=10, n_estimators=50; total time=   0.4s\n",
      "[CV] END max_depth=40, max_features=sqrt, min_samples_leaf=12, min_samples_split=5, n_estimators=100; total time=   0.2s\n",
      "[CV] END max_depth=40, max_features=sqrt, min_samples_leaf=12, min_samples_split=5, n_estimators=50; total time=   0.1s\n",
      "[CV] END max_depth=40, max_features=auto, min_samples_leaf=8, min_samples_split=5, n_estimators=100; total time=   0.9s\n",
      "[CV] END max_depth=60, max_features=auto, min_samples_leaf=8, min_samples_split=2, n_estimators=200; total time=   1.7s\n",
      "[CV] END max_depth=40, max_features=auto, min_samples_leaf=12, min_samples_split=2, n_estimators=200; total time=   1.6s\n",
      "[CV] END max_depth=40, max_features=auto, min_samples_leaf=4, min_samples_split=5, n_estimators=50; total time=   0.5s\n",
      "[CV] END max_depth=50, max_features=sqrt, min_samples_leaf=8, min_samples_split=5, n_estimators=100; total time=   0.2s\n",
      "[CV] END max_depth=50, max_features=auto, min_samples_leaf=8, min_samples_split=5, n_estimators=200; total time=   1.7s\n",
      "[CV] END max_depth=40, max_features=auto, min_samples_leaf=8, min_samples_split=5, n_estimators=50; total time=   0.4s\n",
      "[CV] END max_depth=60, max_features=auto, min_samples_leaf=8, min_samples_split=5, n_estimators=100; total time=   0.9s\n",
      "[CV] END max_depth=60, max_features=auto, min_samples_leaf=8, min_samples_split=10, n_estimators=200; total time=   1.5s\n",
      "[CV] END max_depth=60, max_features=auto, min_samples_leaf=12, min_samples_split=5, n_estimators=200; total time=   1.5s\n",
      "[CV] END max_depth=40, max_features=sqrt, min_samples_leaf=8, min_samples_split=10, n_estimators=200; total time=   0.5s\n",
      "[CV] END max_depth=60, max_features=auto, min_samples_leaf=8, min_samples_split=10, n_estimators=100; total time=   0.9s\n",
      "[CV] END max_depth=50, max_features=sqrt, min_samples_leaf=4, min_samples_split=5, n_estimators=200; total time=   0.4s\n",
      "[CV] END max_depth=60, max_features=sqrt, min_samples_leaf=4, min_samples_split=2, n_estimators=50; total time=   0.1s\n",
      "[CV] END max_depth=50, max_features=sqrt, min_samples_leaf=8, min_samples_split=5, n_estimators=50; total time=   0.1s\n",
      "[CV] END max_depth=40, max_features=auto, min_samples_leaf=12, min_samples_split=10, n_estimators=200; total time=   1.6s\n",
      "[CV] END max_depth=50, max_features=auto, min_samples_leaf=8, min_samples_split=2, n_estimators=50; total time=   0.4s\n",
      "[CV] END max_depth=50, max_features=sqrt, min_samples_leaf=8, min_samples_split=10, n_estimators=200; total time=   0.4s\n",
      "[CV] END max_depth=60, max_features=auto, min_samples_leaf=4, min_samples_split=5, n_estimators=50; total time=   0.5s\n",
      "[CV] END max_depth=40, max_features=sqrt, min_samples_leaf=12, min_samples_split=2, n_estimators=50; total time=   0.1s\n",
      "[CV] END max_depth=50, max_features=auto, min_samples_leaf=4, min_samples_split=2, n_estimators=200; total time=   2.1s\n",
      "[CV] END max_depth=40, max_features=sqrt, min_samples_leaf=4, min_samples_split=10, n_estimators=50; total time=   0.1s\n",
      "[CV] END max_depth=40, max_features=sqrt, min_samples_leaf=4, min_samples_split=10, n_estimators=50; total time=   0.1s\n",
      "[CV] END max_depth=60, max_features=sqrt, min_samples_leaf=8, min_samples_split=5, n_estimators=200; total time=   0.4s\n",
      "[CV] END max_depth=50, max_features=sqrt, min_samples_leaf=12, min_samples_split=2, n_estimators=100; total time=   0.2s\n",
      "[CV] END max_depth=60, max_features=auto, min_samples_leaf=8, min_samples_split=10, n_estimators=50; total time=   0.4s\n",
      "[CV] END max_depth=60, max_features=sqrt, min_samples_leaf=4, min_samples_split=2, n_estimators=200; total time=   0.4s\n",
      "[CV] END max_depth=40, max_features=auto, min_samples_leaf=12, min_samples_split=10, n_estimators=50; total time=   0.4s\n",
      "[CV] END max_depth=50, max_features=auto, min_samples_leaf=4, min_samples_split=2, n_estimators=50; total time=   0.5s\n",
      "[CV] END max_depth=60, max_features=auto, min_samples_leaf=4, min_samples_split=5, n_estimators=100; total time=   1.0s\n",
      "[CV] END max_depth=40, max_features=auto, min_samples_leaf=8, min_samples_split=10, n_estimators=100; total time=   0.8s\n",
      "[CV] END max_depth=50, max_features=sqrt, min_samples_leaf=12, min_samples_split=10, n_estimators=100; total time=   0.2s\n",
      "[CV] END max_depth=50, max_features=sqrt, min_samples_leaf=12, min_samples_split=10, n_estimators=100; total time=   0.2s\n",
      "[CV] END max_depth=40, max_features=sqrt, min_samples_leaf=8, min_samples_split=5, n_estimators=100; total time=   0.2s\n",
      "[CV] END max_depth=40, max_features=auto, min_samples_leaf=12, min_samples_split=5, n_estimators=100; total time=   0.8s\n",
      "[CV] END max_depth=60, max_features=auto, min_samples_leaf=4, min_samples_split=5, n_estimators=200; total time=   2.1s\n",
      "[CV] END max_depth=50, max_features=sqrt, min_samples_leaf=4, min_samples_split=5, n_estimators=100; total time=   0.2s\n",
      "[CV] END max_depth=50, max_features=auto, min_samples_leaf=4, min_samples_split=2, n_estimators=100; total time=   1.1s\n",
      "[CV] END max_depth=40, max_features=sqrt, min_samples_leaf=4, min_samples_split=5, n_estimators=50; total time=   0.1s\n",
      "[CV] END max_depth=60, max_features=sqrt, min_samples_leaf=12, min_samples_split=2, n_estimators=50; total time=   0.1s\n",
      "[CV] END max_depth=60, max_features=auto, min_samples_leaf=4, min_samples_split=2, n_estimators=100; total time=   1.0s\n",
      "[CV] END max_depth=50, max_features=auto, min_samples_leaf=4, min_samples_split=5, n_estimators=200; total time=   2.2s\n",
      "[CV] END max_depth=50, max_features=auto, min_samples_leaf=12, min_samples_split=2, n_estimators=100; total time=   0.8s\n",
      "[CV] END max_depth=50, max_features=sqrt, min_samples_leaf=8, min_samples_split=10, n_estimators=100; total time=   0.2s\n",
      "[CV] END max_depth=50, max_features=auto, min_samples_leaf=12, min_samples_split=10, n_estimators=200; total time=   1.6s\n",
      "[CV] END max_depth=50, max_features=auto, min_samples_leaf=8, min_samples_split=2, n_estimators=100; total time=   0.9s\n",
      "[CV] END max_depth=50, max_features=auto, min_samples_leaf=8, min_samples_split=10, n_estimators=50; total time=   0.5s\n",
      "[CV] END max_depth=40, max_features=sqrt, min_samples_leaf=12, min_samples_split=5, n_estimators=100; total time=   0.2s\n",
      "[CV] END max_depth=40, max_features=sqrt, min_samples_leaf=12, min_samples_split=5, n_estimators=50; total time=   0.1s\n",
      "[CV] END max_depth=40, max_features=auto, min_samples_leaf=8, min_samples_split=5, n_estimators=100; total time=   0.8s\n",
      "[CV] END max_depth=60, max_features=auto, min_samples_leaf=8, min_samples_split=2, n_estimators=200; total time=   1.7s\n",
      "[CV] END max_depth=40, max_features=auto, min_samples_leaf=12, min_samples_split=2, n_estimators=200; total time=   1.5s\n",
      "[CV] END max_depth=40, max_features=auto, min_samples_leaf=4, min_samples_split=5, n_estimators=50; total time=   0.6s\n",
      "[CV] END max_depth=50, max_features=sqrt, min_samples_leaf=8, min_samples_split=5, n_estimators=100; total time=   0.2s\n",
      "[CV] END max_depth=50, max_features=auto, min_samples_leaf=8, min_samples_split=5, n_estimators=200; total time=   1.8s\n",
      "[CV] END max_depth=60, max_features=auto, min_samples_leaf=8, min_samples_split=10, n_estimators=200; total time=   1.5s\n",
      "[CV] END max_depth=60, max_features=auto, min_samples_leaf=12, min_samples_split=5, n_estimators=200; total time=   1.5s\n",
      "[CV] END max_depth=40, max_features=sqrt, min_samples_leaf=8, min_samples_split=10, n_estimators=200; total time=   0.4s\n",
      "[CV] END max_depth=60, max_features=auto, min_samples_leaf=8, min_samples_split=10, n_estimators=100; total time=   0.8s\n",
      "[CV] END max_depth=60, max_features=sqrt, min_samples_leaf=12, min_samples_split=10, n_estimators=50; total time=   0.1s\n",
      "[CV] END max_depth=50, max_features=sqrt, min_samples_leaf=4, min_samples_split=5, n_estimators=200; total time=   0.4s\n",
      "[CV] END max_depth=60, max_features=sqrt, min_samples_leaf=4, min_samples_split=2, n_estimators=50; total time=   0.1s\n",
      "[CV] END max_depth=50, max_features=sqrt, min_samples_leaf=8, min_samples_split=5, n_estimators=50; total time=   0.1s\n",
      "[CV] END max_depth=40, max_features=auto, min_samples_leaf=12, min_samples_split=10, n_estimators=200; total time=   1.6s\n",
      "[CV] END max_depth=50, max_features=auto, min_samples_leaf=8, min_samples_split=2, n_estimators=50; total time=   0.5s\n",
      "[CV] END max_depth=50, max_features=sqrt, min_samples_leaf=8, min_samples_split=10, n_estimators=200; total time=   0.4s\n",
      "[CV] END max_depth=60, max_features=auto, min_samples_leaf=4, min_samples_split=5, n_estimators=50; total time=   0.5s\n",
      "[CV] END max_depth=50, max_features=auto, min_samples_leaf=4, min_samples_split=2, n_estimators=200; total time=   2.1s\n",
      "[CV] END max_depth=40, max_features=sqrt, min_samples_leaf=8, min_samples_split=2, n_estimators=100; total time=   0.2s\n",
      "[CV] END max_depth=60, max_features=sqrt, min_samples_leaf=8, min_samples_split=5, n_estimators=200; total time=   0.4s\n",
      "[CV] END max_depth=50, max_features=sqrt, min_samples_leaf=12, min_samples_split=2, n_estimators=100; total time=   0.2s\n",
      "[CV] END max_depth=60, max_features=auto, min_samples_leaf=8, min_samples_split=10, n_estimators=50; total time=   0.4s\n",
      "[CV] END max_depth=60, max_features=sqrt, min_samples_leaf=4, min_samples_split=2, n_estimators=200; total time=   0.4s\n",
      "[CV] END max_depth=40, max_features=auto, min_samples_leaf=12, min_samples_split=10, n_estimators=50; total time=   0.4s\n",
      "[CV] END max_depth=50, max_features=auto, min_samples_leaf=4, min_samples_split=2, n_estimators=50; total time=   0.5s\n",
      "[CV] END max_depth=40, max_features=auto, min_samples_leaf=12, min_samples_split=2, n_estimators=100; total time=   0.8s\n",
      "[CV] END max_depth=60, max_features=auto, min_samples_leaf=12, min_samples_split=10, n_estimators=100; total time=   0.8s\n",
      "[CV] END max_depth=50, max_features=auto, min_samples_leaf=4, min_samples_split=10, n_estimators=100; total time=   1.0s\n",
      "[CV] END max_depth=50, max_features=sqrt, min_samples_leaf=8, min_samples_split=5, n_estimators=200; total time=   0.4s\n",
      "[CV] END max_depth=50, max_features=auto, min_samples_leaf=8, min_samples_split=10, n_estimators=200; total time=   1.8s\n",
      "[CV] END max_depth=60, max_features=sqrt, min_samples_leaf=8, min_samples_split=2, n_estimators=50; total time=   0.1s\n",
      "[CV] END max_depth=50, max_features=sqrt, min_samples_leaf=12, min_samples_split=2, n_estimators=200; total time=   0.4s\n",
      "[CV] END max_depth=40, max_features=sqrt, min_samples_leaf=4, min_samples_split=2, n_estimators=50; total time=   0.1s\n",
      "[CV] END max_depth=50, max_features=sqrt, min_samples_leaf=4, min_samples_split=5, n_estimators=100; total time=   0.2s\n",
      "[CV] END max_depth=50, max_features=auto, min_samples_leaf=4, min_samples_split=2, n_estimators=100; total time=   1.0s\n",
      "[CV] END max_depth=50, max_features=sqrt, min_samples_leaf=4, min_samples_split=10, n_estimators=200; total time=   0.4s\n",
      "[CV] END max_depth=40, max_features=auto, min_samples_leaf=4, min_samples_split=2, n_estimators=200; total time=   2.1s\n",
      "[CV] END max_depth=50, max_features=sqrt, min_samples_leaf=4, min_samples_split=2, n_estimators=200; total time=   0.4s\n",
      "[CV] END max_depth=50, max_features=sqrt, min_samples_leaf=8, min_samples_split=10, n_estimators=50; total time=   0.1s\n",
      "[CV] END max_depth=40, max_features=sqrt, min_samples_leaf=8, min_samples_split=10, n_estimators=100; total time=   0.2s\n",
      "[CV] END max_depth=60, max_features=sqrt, min_samples_leaf=4, min_samples_split=10, n_estimators=200; total time=   0.5s\n",
      "[CV] END max_depth=50, max_features=auto, min_samples_leaf=12, min_samples_split=2, n_estimators=100; total time=   0.8s\n",
      "[CV] END max_depth=60, max_features=auto, min_samples_leaf=12, min_samples_split=5, n_estimators=50; total time=   0.4s\n",
      "[CV] END max_depth=60, max_features=auto, min_samples_leaf=12, min_samples_split=2, n_estimators=50; total time=   0.4s\n",
      "[CV] END max_depth=40, max_features=sqrt, min_samples_leaf=12, min_samples_split=5, n_estimators=200; total time=   0.3s\n",
      "[CV] END max_depth=50, max_features=sqrt, min_samples_leaf=12, min_samples_split=10, n_estimators=200; total time=   0.3s\n",
      "[CV] END max_depth=60, max_features=sqrt, min_samples_leaf=8, min_samples_split=5, n_estimators=100; total time=   0.2s\n",
      "[CV] END max_depth=60, max_features=auto, min_samples_leaf=4, min_samples_split=2, n_estimators=50; total time=   0.5s\n",
      "[CV] END max_depth=60, max_features=auto, min_samples_leaf=4, min_samples_split=2, n_estimators=200; total time=   2.1s\n",
      "[CV] END max_depth=40, max_features=auto, min_samples_leaf=12, min_samples_split=5, n_estimators=200; total time=   1.6s\n",
      "[CV] END max_depth=40, max_features=auto, min_samples_leaf=8, min_samples_split=10, n_estimators=50; total time=   0.4s\n",
      "[CV] END max_depth=50, max_features=auto, min_samples_leaf=12, min_samples_split=10, n_estimators=50; total time=   0.4s\n",
      "[CV] END max_depth=50, max_features=auto, min_samples_leaf=12, min_samples_split=5, n_estimators=100; total time=   0.8s\n",
      "[CV] END max_depth=60, max_features=sqrt, min_samples_leaf=12, min_samples_split=10, n_estimators=200; total time=   0.4s\n",
      "[CV] END max_depth=50, max_features=auto, min_samples_leaf=8, min_samples_split=5, n_estimators=200; total time=   1.7s\n",
      "[CV] END max_depth=40, max_features=auto, min_samples_leaf=8, min_samples_split=5, n_estimators=50; total time=   0.4s\n"
     ]
    },
    {
     "name": "stdout",
     "output_type": "stream",
     "text": [
      "[CV] END max_depth=60, max_features=sqrt, min_samples_leaf=8, min_samples_split=5, n_estimators=100; total time=   0.2s\n",
      "[CV] END max_depth=60, max_features=auto, min_samples_leaf=4, min_samples_split=2, n_estimators=50; total time=   0.5s\n",
      "[CV] END max_depth=60, max_features=auto, min_samples_leaf=4, min_samples_split=2, n_estimators=200; total time=   2.1s\n",
      "[CV] END max_depth=40, max_features=auto, min_samples_leaf=12, min_samples_split=5, n_estimators=200; total time=   1.5s\n",
      "[CV] END max_depth=40, max_features=auto, min_samples_leaf=8, min_samples_split=10, n_estimators=50; total time=   0.4s\n",
      "[CV] END max_depth=50, max_features=auto, min_samples_leaf=12, min_samples_split=10, n_estimators=50; total time=   0.4s\n",
      "[CV] END max_depth=40, max_features=sqrt, min_samples_leaf=12, min_samples_split=10, n_estimators=100; total time=   0.2s\n",
      "[CV] END max_depth=50, max_features=auto, min_samples_leaf=12, min_samples_split=5, n_estimators=100; total time=   0.7s\n",
      "[CV] END max_depth=50, max_features=sqrt, min_samples_leaf=8, min_samples_split=5, n_estimators=100; total time=   0.2s\n",
      "[CV] END max_depth=40, max_features=auto, min_samples_leaf=4, min_samples_split=10, n_estimators=50; total time=   0.5s\n",
      "[CV] END max_depth=50, max_features=auto, min_samples_leaf=12, min_samples_split=5, n_estimators=50; total time=   0.4s\n",
      "[CV] END max_depth=50, max_features=sqrt, min_samples_leaf=4, min_samples_split=5, n_estimators=50; total time=   0.1s\n",
      "[CV] END max_depth=60, max_features=auto, min_samples_leaf=8, min_samples_split=5, n_estimators=100; total time=   0.9s\n",
      "[CV] END max_depth=40, max_features=auto, min_samples_leaf=8, min_samples_split=5, n_estimators=50; total time=   0.4s\n",
      "[CV] END max_depth=60, max_features=auto, min_samples_leaf=12, min_samples_split=5, n_estimators=200; total time=   1.6s\n",
      "[CV] END max_depth=50, max_features=auto, min_samples_leaf=12, min_samples_split=2, n_estimators=200; total time=   1.6s\n",
      "[CV] END max_depth=60, max_features=auto, min_samples_leaf=8, min_samples_split=5, n_estimators=200; total time=   1.7s\n",
      "[CV] END max_depth=60, max_features=sqrt, min_samples_leaf=8, min_samples_split=5, n_estimators=50; total time=   0.1s\n",
      "[CV] END max_depth=50, max_features=auto, min_samples_leaf=8, min_samples_split=2, n_estimators=50; total time=   0.4s\n",
      "[CV] END max_depth=40, max_features=sqrt, min_samples_leaf=12, min_samples_split=10, n_estimators=50; total time=   0.1s\n",
      "[CV] END max_depth=40, max_features=sqrt, min_samples_leaf=12, min_samples_split=10, n_estimators=50; total time=   0.1s\n",
      "[CV] END max_depth=50, max_features=sqrt, min_samples_leaf=8, min_samples_split=10, n_estimators=200; total time=   0.4s\n",
      "[CV] END max_depth=60, max_features=auto, min_samples_leaf=4, min_samples_split=5, n_estimators=50; total time=   0.5s\n",
      "[CV] END max_depth=50, max_features=auto, min_samples_leaf=4, min_samples_split=2, n_estimators=200; total time=   2.1s\n",
      "[CV] END max_depth=40, max_features=sqrt, min_samples_leaf=8, min_samples_split=2, n_estimators=100; total time=   0.2s\n",
      "[CV] END max_depth=40, max_features=sqrt, min_samples_leaf=4, min_samples_split=10, n_estimators=50; total time=   0.1s\n",
      "[CV] END max_depth=60, max_features=sqrt, min_samples_leaf=8, min_samples_split=5, n_estimators=200; total time=   0.3s\n",
      "[CV] END max_depth=50, max_features=sqrt, min_samples_leaf=12, min_samples_split=2, n_estimators=100; total time=   0.2s\n",
      "[CV] END max_depth=60, max_features=auto, min_samples_leaf=8, min_samples_split=10, n_estimators=50; total time=   0.4s\n",
      "[CV] END max_depth=60, max_features=sqrt, min_samples_leaf=4, min_samples_split=2, n_estimators=200; total time=   0.4s\n",
      "[CV] END max_depth=40, max_features=auto, min_samples_leaf=12, min_samples_split=10, n_estimators=50; total time=   0.4s\n",
      "[CV] END max_depth=50, max_features=auto, min_samples_leaf=4, min_samples_split=2, n_estimators=50; total time=   0.5s\n",
      "[CV] END max_depth=40, max_features=auto, min_samples_leaf=12, min_samples_split=2, n_estimators=100; total time=   0.7s\n",
      "[CV] END max_depth=60, max_features=auto, min_samples_leaf=12, min_samples_split=10, n_estimators=100; total time=   0.8s\n",
      "[CV] END max_depth=50, max_features=auto, min_samples_leaf=4, min_samples_split=10, n_estimators=100; total time=   1.1s\n",
      "[CV] END max_depth=50, max_features=sqrt, min_samples_leaf=8, min_samples_split=5, n_estimators=200; total time=   0.4s\n",
      "[CV] END max_depth=50, max_features=auto, min_samples_leaf=8, min_samples_split=10, n_estimators=200; total time=   1.8s\n",
      "[CV] END max_depth=50, max_features=sqrt, min_samples_leaf=12, min_samples_split=2, n_estimators=200; total time=   0.3s\n",
      "[CV] END max_depth=40, max_features=sqrt, min_samples_leaf=4, min_samples_split=2, n_estimators=50; total time=   0.1s\n",
      "[CV] END max_depth=50, max_features=sqrt, min_samples_leaf=4, min_samples_split=5, n_estimators=100; total time=   0.2s\n",
      "[CV] END max_depth=50, max_features=auto, min_samples_leaf=4, min_samples_split=2, n_estimators=100; total time=   1.1s\n",
      "[CV] END max_depth=40, max_features=sqrt, min_samples_leaf=4, min_samples_split=5, n_estimators=50; total time=   0.1s\n",
      "[CV] END max_depth=60, max_features=sqrt, min_samples_leaf=12, min_samples_split=2, n_estimators=50; total time=   0.1s\n",
      "[CV] END max_depth=60, max_features=auto, min_samples_leaf=4, min_samples_split=2, n_estimators=100; total time=   1.0s\n",
      "[CV] END max_depth=50, max_features=auto, min_samples_leaf=4, min_samples_split=5, n_estimators=200; total time=   2.1s\n",
      "[CV] END max_depth=40, max_features=auto, min_samples_leaf=8, min_samples_split=2, n_estimators=100; total time=   0.8s\n",
      "[CV] END max_depth=60, max_features=sqrt, min_samples_leaf=12, min_samples_split=5, n_estimators=50; total time=   0.1s\n",
      "[CV] END max_depth=50, max_features=sqrt, min_samples_leaf=8, min_samples_split=10, n_estimators=100; total time=   0.2s\n",
      "[CV] END max_depth=60, max_features=auto, min_samples_leaf=12, min_samples_split=5, n_estimators=50; total time=   0.4s\n",
      "[CV] END max_depth=60, max_features=auto, min_samples_leaf=12, min_samples_split=2, n_estimators=50; total time=   0.4s\n",
      "[CV] END max_depth=40, max_features=sqrt, min_samples_leaf=12, min_samples_split=5, n_estimators=200; total time=   0.3s\n",
      "[CV] END max_depth=50, max_features=sqrt, min_samples_leaf=12, min_samples_split=10, n_estimators=200; total time=   0.3s\n",
      "[CV] END max_depth=50, max_features=auto, min_samples_leaf=8, min_samples_split=2, n_estimators=100; total time=   0.9s\n",
      "[CV] END max_depth=50, max_features=auto, min_samples_leaf=8, min_samples_split=10, n_estimators=50; total time=   0.4s\n",
      "[CV] END max_depth=40, max_features=sqrt, min_samples_leaf=12, min_samples_split=5, n_estimators=100; total time=   0.2s\n",
      "[CV] END max_depth=40, max_features=auto, min_samples_leaf=8, min_samples_split=5, n_estimators=100; total time=   0.9s\n",
      "[CV] END max_depth=60, max_features=auto, min_samples_leaf=8, min_samples_split=2, n_estimators=200; total time=   1.7s\n",
      "[CV] END max_depth=40, max_features=auto, min_samples_leaf=12, min_samples_split=2, n_estimators=200; total time=   1.5s\n",
      "[CV] END max_depth=40, max_features=auto, min_samples_leaf=4, min_samples_split=5, n_estimators=50; total time=   0.5s\n",
      "[CV] END max_depth=50, max_features=sqrt, min_samples_leaf=8, min_samples_split=5, n_estimators=100; total time=   0.2s\n",
      "[CV] END max_depth=50, max_features=auto, min_samples_leaf=8, min_samples_split=5, n_estimators=200; total time=   1.7s\n",
      "[CV] END max_depth=40, max_features=auto, min_samples_leaf=8, min_samples_split=5, n_estimators=50; total time=   0.4s\n",
      "[CV] END max_depth=60, max_features=auto, min_samples_leaf=12, min_samples_split=5, n_estimators=200; total time=   1.5s\n",
      "[CV] END max_depth=40, max_features=sqrt, min_samples_leaf=8, min_samples_split=10, n_estimators=200; total time=   0.4s\n",
      "[CV] END max_depth=60, max_features=auto, min_samples_leaf=8, min_samples_split=10, n_estimators=100; total time=   0.8s\n",
      "[CV] END max_depth=50, max_features=sqrt, min_samples_leaf=4, min_samples_split=5, n_estimators=200; total time=   0.4s\n",
      "[CV] END max_depth=60, max_features=sqrt, min_samples_leaf=4, min_samples_split=2, n_estimators=50; total time=   0.1s\n",
      "[CV] END max_depth=50, max_features=sqrt, min_samples_leaf=8, min_samples_split=5, n_estimators=50; total time=   0.1s\n",
      "[CV] END max_depth=40, max_features=auto, min_samples_leaf=12, min_samples_split=10, n_estimators=200; total time=   1.6s\n",
      "[CV] END max_depth=50, max_features=auto, min_samples_leaf=8, min_samples_split=2, n_estimators=50; total time=   0.4s\n",
      "[CV] END max_depth=40, max_features=sqrt, min_samples_leaf=12, min_samples_split=10, n_estimators=50; total time=   0.1s\n",
      "[CV] END max_depth=40, max_features=sqrt, min_samples_leaf=12, min_samples_split=10, n_estimators=50; total time=   0.1s\n",
      "[CV] END max_depth=50, max_features=sqrt, min_samples_leaf=8, min_samples_split=10, n_estimators=200; total time=   0.4s\n",
      "[CV] END max_depth=60, max_features=auto, min_samples_leaf=4, min_samples_split=5, n_estimators=50; total time=   0.6s\n",
      "[CV] END max_depth=50, max_features=auto, min_samples_leaf=4, min_samples_split=2, n_estimators=200; total time=   2.1s\n",
      "[CV] END max_depth=40, max_features=sqrt, min_samples_leaf=4, min_samples_split=10, n_estimators=50; total time=   0.1s\n",
      "[CV] END max_depth=40, max_features=sqrt, min_samples_leaf=4, min_samples_split=10, n_estimators=50; total time=   0.1s\n",
      "[CV] END max_depth=60, max_features=sqrt, min_samples_leaf=8, min_samples_split=5, n_estimators=200; total time=   0.4s\n",
      "[CV] END max_depth=50, max_features=sqrt, min_samples_leaf=12, min_samples_split=2, n_estimators=100; total time=   0.2s\n",
      "[CV] END max_depth=60, max_features=auto, min_samples_leaf=8, min_samples_split=10, n_estimators=50; total time=   0.4s\n",
      "[CV] END max_depth=60, max_features=sqrt, min_samples_leaf=4, min_samples_split=2, n_estimators=200; total time=   0.4s\n",
      "[CV] END max_depth=40, max_features=auto, min_samples_leaf=12, min_samples_split=10, n_estimators=50; total time=   0.4s\n",
      "[CV] END max_depth=50, max_features=auto, min_samples_leaf=4, min_samples_split=2, n_estimators=50; total time=   0.5s\n",
      "[CV] END max_depth=40, max_features=auto, min_samples_leaf=12, min_samples_split=2, n_estimators=100; total time=   0.8s\n",
      "[CV] END max_depth=60, max_features=auto, min_samples_leaf=12, min_samples_split=10, n_estimators=100; total time=   0.8s\n",
      "[CV] END max_depth=50, max_features=auto, min_samples_leaf=4, min_samples_split=10, n_estimators=100; total time=   1.0s\n",
      "[CV] END max_depth=50, max_features=sqrt, min_samples_leaf=8, min_samples_split=5, n_estimators=200; total time=   0.4s\n",
      "[CV] END max_depth=60, max_features=auto, min_samples_leaf=4, min_samples_split=5, n_estimators=200; total time=   2.2s\n",
      "[CV] END max_depth=50, max_features=sqrt, min_samples_leaf=4, min_samples_split=5, n_estimators=100; total time=   0.2s\n",
      "[CV] END max_depth=50, max_features=auto, min_samples_leaf=4, min_samples_split=2, n_estimators=100; total time=   1.0s\n",
      "[CV] END max_depth=60, max_features=sqrt, min_samples_leaf=12, min_samples_split=2, n_estimators=50; total time=   0.1s\n",
      "[CV] END max_depth=60, max_features=auto, min_samples_leaf=4, min_samples_split=2, n_estimators=100; total time=   1.1s\n",
      "[CV] END max_depth=50, max_features=auto, min_samples_leaf=4, min_samples_split=5, n_estimators=200; total time=   2.1s\n",
      "[CV] END max_depth=40, max_features=auto, min_samples_leaf=8, min_samples_split=2, n_estimators=100; total time=   0.9s\n",
      "[CV] END max_depth=50, max_features=sqrt, min_samples_leaf=8, min_samples_split=10, n_estimators=100; total time=   0.2s\n",
      "[CV] END max_depth=50, max_features=auto, min_samples_leaf=12, min_samples_split=10, n_estimators=200; total time=   1.5s\n",
      "[CV] END max_depth=60, max_features=sqrt, min_samples_leaf=8, min_samples_split=5, n_estimators=100; total time=   0.2s\n",
      "[CV] END max_depth=60, max_features=auto, min_samples_leaf=4, min_samples_split=2, n_estimators=50; total time=   0.5s\n",
      "[CV] END max_depth=60, max_features=auto, min_samples_leaf=4, min_samples_split=2, n_estimators=200; total time=   2.1s\n",
      "[CV] END max_depth=40, max_features=auto, min_samples_leaf=12, min_samples_split=5, n_estimators=200; total time=   1.5s\n",
      "[CV] END max_depth=40, max_features=auto, min_samples_leaf=12, min_samples_split=2, n_estimators=200; total time=   1.6s\n",
      "[CV] END max_depth=40, max_features=auto, min_samples_leaf=4, min_samples_split=5, n_estimators=50; total time=   0.5s\n",
      "[CV] END max_depth=40, max_features=auto, min_samples_leaf=4, min_samples_split=10, n_estimators=50; total time=   0.5s\n",
      "[CV] END max_depth=50, max_features=auto, min_samples_leaf=12, min_samples_split=5, n_estimators=50; total time=   0.4s\n",
      "[CV] END max_depth=50, max_features=sqrt, min_samples_leaf=4, min_samples_split=5, n_estimators=50; total time=   0.1s\n",
      "[CV] END max_depth=60, max_features=auto, min_samples_leaf=8, min_samples_split=5, n_estimators=100; total time=   0.9s\n",
      "[CV] END max_depth=40, max_features=auto, min_samples_leaf=8, min_samples_split=5, n_estimators=50; total time=   0.4s\n"
     ]
    },
    {
     "name": "stdout",
     "output_type": "stream",
     "text": [
      "[CV] END max_depth=60, max_features=auto, min_samples_leaf=8, min_samples_split=2, n_estimators=200; total time=   1.7s\n",
      "[CV] END max_depth=40, max_features=auto, min_samples_leaf=12, min_samples_split=2, n_estimators=200; total time=   1.5s\n",
      "[CV] END max_depth=40, max_features=auto, min_samples_leaf=4, min_samples_split=5, n_estimators=50; total time=   0.5s\n",
      "[CV] END max_depth=50, max_features=sqrt, min_samples_leaf=8, min_samples_split=5, n_estimators=100; total time=   0.2s\n",
      "[CV] END max_depth=50, max_features=auto, min_samples_leaf=8, min_samples_split=5, n_estimators=200; total time=   1.8s\n",
      "[CV] END max_depth=60, max_features=auto, min_samples_leaf=8, min_samples_split=10, n_estimators=200; total time=   1.5s\n",
      "[CV] END max_depth=50, max_features=auto, min_samples_leaf=8, min_samples_split=5, n_estimators=50; total time=   0.4s\n",
      "[CV] END max_depth=60, max_features=sqrt, min_samples_leaf=8, min_samples_split=2, n_estimators=100; total time=   0.2s\n",
      "[CV] END max_depth=40, max_features=auto, min_samples_leaf=4, min_samples_split=10, n_estimators=100; total time=   1.0s\n",
      "[CV] END max_depth=40, max_features=sqrt, min_samples_leaf=8, min_samples_split=10, n_estimators=200; total time=   0.4s\n",
      "[CV] END max_depth=60, max_features=auto, min_samples_leaf=8, min_samples_split=10, n_estimators=100; total time=   0.8s\n",
      "[CV] END max_depth=50, max_features=sqrt, min_samples_leaf=4, min_samples_split=5, n_estimators=200; total time=   0.4s\n",
      "[CV] END max_depth=60, max_features=sqrt, min_samples_leaf=4, min_samples_split=2, n_estimators=50; total time=   0.1s\n",
      "[CV] END max_depth=50, max_features=sqrt, min_samples_leaf=8, min_samples_split=5, n_estimators=50; total time=   0.1s\n",
      "[CV] END max_depth=40, max_features=auto, min_samples_leaf=12, min_samples_split=10, n_estimators=200; total time=   1.6s\n",
      "[CV] END max_depth=50, max_features=auto, min_samples_leaf=8, min_samples_split=2, n_estimators=50; total time=   0.5s\n",
      "[CV] END max_depth=50, max_features=sqrt, min_samples_leaf=8, min_samples_split=10, n_estimators=200; total time=   0.4s\n",
      "[CV] END max_depth=60, max_features=auto, min_samples_leaf=4, min_samples_split=5, n_estimators=50; total time=   0.6s\n",
      "[CV] END max_depth=50, max_features=auto, min_samples_leaf=4, min_samples_split=2, n_estimators=200; total time=   2.1s\n",
      "[CV] END max_depth=40, max_features=sqrt, min_samples_leaf=8, min_samples_split=2, n_estimators=100; total time=   0.2s\n",
      "[CV] END max_depth=60, max_features=sqrt, min_samples_leaf=8, min_samples_split=5, n_estimators=200; total time=   0.4s\n",
      "[CV] END max_depth=50, max_features=auto, min_samples_leaf=4, min_samples_split=10, n_estimators=200; total time=   2.0s\n",
      "[CV] END max_depth=40, max_features=auto, min_samples_leaf=12, min_samples_split=2, n_estimators=100; total time=   0.8s\n",
      "[CV] END max_depth=60, max_features=auto, min_samples_leaf=12, min_samples_split=10, n_estimators=100; total time=   0.8s\n",
      "[CV] END max_depth=50, max_features=auto, min_samples_leaf=4, min_samples_split=10, n_estimators=100; total time=   1.0s\n",
      "[CV] END max_depth=50, max_features=sqrt, min_samples_leaf=8, min_samples_split=5, n_estimators=200; total time=   0.4s\n",
      "[CV] END max_depth=50, max_features=auto, min_samples_leaf=8, min_samples_split=10, n_estimators=200; total time=   1.8s\n",
      "[CV] END max_depth=60, max_features=sqrt, min_samples_leaf=8, min_samples_split=2, n_estimators=50; total time=   0.1s\n",
      "[CV] END max_depth=50, max_features=sqrt, min_samples_leaf=12, min_samples_split=2, n_estimators=200; total time=   0.3s\n",
      "[CV] END max_depth=60, max_features=auto, min_samples_leaf=8, min_samples_split=5, n_estimators=50; total time=   0.4s\n",
      "[CV] END max_depth=60, max_features=sqrt, min_samples_leaf=12, min_samples_split=10, n_estimators=100; total time=   0.2s\n",
      "[CV] END max_depth=40, max_features=auto, min_samples_leaf=12, min_samples_split=2, n_estimators=50; total time=   0.4s\n",
      "[CV] END max_depth=50, max_features=sqrt, min_samples_leaf=8, min_samples_split=2, n_estimators=200; total time=   0.4s\n",
      "[CV] END max_depth=60, max_features=sqrt, min_samples_leaf=12, min_samples_split=2, n_estimators=50; total time=   0.1s\n",
      "[CV] END max_depth=60, max_features=auto, min_samples_leaf=4, min_samples_split=2, n_estimators=100; total time=   1.1s\n",
      "[CV] END max_depth=50, max_features=auto, min_samples_leaf=4, min_samples_split=5, n_estimators=200; total time=   2.1s\n",
      "[CV] END max_depth=40, max_features=auto, min_samples_leaf=8, min_samples_split=2, n_estimators=100; total time=   0.9s\n",
      "[CV] END max_depth=60, max_features=sqrt, min_samples_leaf=12, min_samples_split=5, n_estimators=50; total time=   0.1s\n",
      "[CV] END max_depth=50, max_features=sqrt, min_samples_leaf=8, min_samples_split=2, n_estimators=50; total time=   0.1s\n",
      "[CV] END max_depth=50, max_features=auto, min_samples_leaf=12, min_samples_split=10, n_estimators=200; total time=   1.5s\n",
      "[CV] END max_depth=60, max_features=sqrt, min_samples_leaf=8, min_samples_split=5, n_estimators=100; total time=   0.2s\n",
      "[CV] END max_depth=60, max_features=auto, min_samples_leaf=4, min_samples_split=2, n_estimators=50; total time=   0.5s\n",
      "[CV] END max_depth=60, max_features=auto, min_samples_leaf=4, min_samples_split=2, n_estimators=200; total time=   2.2s\n",
      "[CV] END max_depth=40, max_features=auto, min_samples_leaf=12, min_samples_split=5, n_estimators=200; total time=   1.5s\n",
      "[CV] END max_depth=40, max_features=auto, min_samples_leaf=8, min_samples_split=10, n_estimators=50; total time=   0.4s\n",
      "[CV] END max_depth=50, max_features=auto, min_samples_leaf=12, min_samples_split=10, n_estimators=50; total time=   0.4s\n",
      "[CV] END max_depth=40, max_features=sqrt, min_samples_leaf=12, min_samples_split=10, n_estimators=100; total time=   0.2s\n",
      "[CV] END max_depth=50, max_features=auto, min_samples_leaf=12, min_samples_split=5, n_estimators=100; total time=   0.8s\n",
      "[CV] END max_depth=60, max_features=sqrt, min_samples_leaf=12, min_samples_split=10, n_estimators=200; total time=   0.3s\n",
      "[CV] END max_depth=50, max_features=auto, min_samples_leaf=8, min_samples_split=5, n_estimators=200; total time=   1.7s\n",
      "[CV] END max_depth=40, max_features=auto, min_samples_leaf=8, min_samples_split=5, n_estimators=50; total time=   0.4s\n",
      "[CV] END max_depth=50, max_features=auto, min_samples_leaf=8, min_samples_split=5, n_estimators=50; total time=   0.4s\n",
      "[CV] END max_depth=60, max_features=sqrt, min_samples_leaf=8, min_samples_split=2, n_estimators=100; total time=   0.2s\n",
      "[CV] END max_depth=40, max_features=auto, min_samples_leaf=4, min_samples_split=10, n_estimators=100; total time=   1.0s\n",
      "[CV] END max_depth=50, max_features=auto, min_samples_leaf=12, min_samples_split=2, n_estimators=200; total time=   1.5s\n",
      "[CV] END max_depth=60, max_features=auto, min_samples_leaf=8, min_samples_split=5, n_estimators=200; total time=   1.7s\n",
      "[CV] END max_depth=60, max_features=sqrt, min_samples_leaf=8, min_samples_split=5, n_estimators=50; total time=   0.1s\n",
      "[CV] END max_depth=60, max_features=auto, min_samples_leaf=8, min_samples_split=2, n_estimators=100; total time=   0.8s\n",
      "[CV] END max_depth=60, max_features=auto, min_samples_leaf=12, min_samples_split=5, n_estimators=100; total time=   0.8s\n",
      "[CV] END max_depth=50, max_features=auto, min_samples_leaf=4, min_samples_split=10, n_estimators=50; total time=   0.5s\n",
      "[CV] END max_depth=40, max_features=auto, min_samples_leaf=4, min_samples_split=10, n_estimators=200; total time=   2.0s\n",
      "[CV] END max_depth=50, max_features=auto, min_samples_leaf=4, min_samples_split=10, n_estimators=200; total time=   2.0s\n",
      "[CV] END max_depth=40, max_features=auto, min_samples_leaf=12, min_samples_split=2, n_estimators=100; total time=   0.9s\n",
      "[CV] END max_depth=60, max_features=auto, min_samples_leaf=12, min_samples_split=10, n_estimators=100; total time=   0.8s\n",
      "[CV] END max_depth=50, max_features=auto, min_samples_leaf=4, min_samples_split=10, n_estimators=100; total time=   1.1s\n",
      "[CV] END max_depth=50, max_features=sqrt, min_samples_leaf=8, min_samples_split=5, n_estimators=200; total time=   0.4s\n",
      "[CV] END max_depth=50, max_features=auto, min_samples_leaf=8, min_samples_split=10, n_estimators=200; total time=   1.7s\n",
      "[CV] END max_depth=50, max_features=sqrt, min_samples_leaf=12, min_samples_split=2, n_estimators=200; total time=   0.4s\n",
      "[CV] END max_depth=60, max_features=auto, min_samples_leaf=8, min_samples_split=5, n_estimators=50; total time=   0.4s\n",
      "[CV] END max_depth=60, max_features=sqrt, min_samples_leaf=12, min_samples_split=10, n_estimators=100; total time=   0.2s\n",
      "[CV] END max_depth=40, max_features=auto, min_samples_leaf=12, min_samples_split=2, n_estimators=50; total time=   0.4s\n",
      "[CV] END max_depth=50, max_features=sqrt, min_samples_leaf=8, min_samples_split=2, n_estimators=200; total time=   0.4s\n",
      "[CV] END max_depth=60, max_features=sqrt, min_samples_leaf=12, min_samples_split=2, n_estimators=50; total time=   0.1s\n",
      "[CV] END max_depth=60, max_features=auto, min_samples_leaf=4, min_samples_split=2, n_estimators=100; total time=   1.0s\n",
      "[CV] END max_depth=50, max_features=auto, min_samples_leaf=4, min_samples_split=5, n_estimators=200; total time=   2.0s\n",
      "[CV] END max_depth=60, max_features=sqrt, min_samples_leaf=4, min_samples_split=10, n_estimators=200; total time=   0.4s\n",
      "[CV] END max_depth=50, max_features=auto, min_samples_leaf=12, min_samples_split=2, n_estimators=100; total time=   0.8s\n",
      "[CV] END max_depth=50, max_features=auto, min_samples_leaf=12, min_samples_split=10, n_estimators=200; total time=   1.5s\n",
      "[CV] END max_depth=50, max_features=auto, min_samples_leaf=8, min_samples_split=2, n_estimators=100; total time=   0.9s\n",
      "[CV] END max_depth=50, max_features=auto, min_samples_leaf=8, min_samples_split=10, n_estimators=50; total time=   0.4s\n",
      "[CV] END max_depth=40, max_features=sqrt, min_samples_leaf=12, min_samples_split=5, n_estimators=100; total time=   0.2s\n",
      "[CV] END max_depth=40, max_features=sqrt, min_samples_leaf=12, min_samples_split=5, n_estimators=50; total time=   0.1s\n",
      "[CV] END max_depth=40, max_features=auto, min_samples_leaf=8, min_samples_split=5, n_estimators=100; total time=   0.9s\n",
      "[CV] END max_depth=60, max_features=auto, min_samples_leaf=8, min_samples_split=2, n_estimators=200; total time=   1.7s\n",
      "[CV] END max_depth=40, max_features=auto, min_samples_leaf=12, min_samples_split=2, n_estimators=200; total time=   1.5s\n",
      "[CV] END max_depth=40, max_features=auto, min_samples_leaf=4, min_samples_split=5, n_estimators=50; total time=   0.6s\n",
      "[CV] END max_depth=50, max_features=sqrt, min_samples_leaf=8, min_samples_split=5, n_estimators=100; total time=   0.2s\n",
      "[CV] END max_depth=50, max_features=auto, min_samples_leaf=8, min_samples_split=5, n_estimators=200; total time=   1.8s\n",
      "[CV] END max_depth=60, max_features=auto, min_samples_leaf=8, min_samples_split=10, n_estimators=200; total time=   1.5s\n",
      "[CV] END max_depth=40, max_features=auto, min_samples_leaf=12, min_samples_split=2, n_estimators=200; total time=   1.6s\n",
      "[CV] END max_depth=40, max_features=auto, min_samples_leaf=4, min_samples_split=5, n_estimators=50; total time=   0.5s\n",
      "[CV] END max_depth=50, max_features=sqrt, min_samples_leaf=8, min_samples_split=5, n_estimators=100; total time=   0.2s\n",
      "[CV] END max_depth=50, max_features=auto, min_samples_leaf=8, min_samples_split=5, n_estimators=200; total time=   1.7s\n",
      "[CV] END max_depth=60, max_features=auto, min_samples_leaf=8, min_samples_split=10, n_estimators=200; total time=   1.5s\n",
      "[CV] END max_depth=60, max_features=auto, min_samples_leaf=12, min_samples_split=5, n_estimators=200; total time=   1.6s\n",
      "[CV] END max_depth=50, max_features=auto, min_samples_leaf=12, min_samples_split=2, n_estimators=200; total time=   1.6s\n",
      "[CV] END max_depth=60, max_features=auto, min_samples_leaf=8, min_samples_split=5, n_estimators=200; total time=   1.7s\n",
      "[CV] END max_depth=60, max_features=auto, min_samples_leaf=8, min_samples_split=2, n_estimators=100; total time=   0.9s\n",
      "[CV] END max_depth=60, max_features=auto, min_samples_leaf=12, min_samples_split=5, n_estimators=100; total time=   0.8s\n",
      "[CV] END max_depth=50, max_features=auto, min_samples_leaf=4, min_samples_split=10, n_estimators=50; total time=   0.5s\n",
      "[CV] END max_depth=40, max_features=auto, min_samples_leaf=4, min_samples_split=10, n_estimators=200; total time=   2.1s\n",
      "[CV] END max_depth=50, max_features=sqrt, min_samples_leaf=12, min_samples_split=2, n_estimators=100; total time=   0.2s\n",
      "[CV] END max_depth=60, max_features=auto, min_samples_leaf=8, min_samples_split=10, n_estimators=50; total time=   0.4s\n",
      "[CV] END max_depth=60, max_features=sqrt, min_samples_leaf=4, min_samples_split=2, n_estimators=200; total time=   0.4s\n",
      "[CV] END max_depth=40, max_features=auto, min_samples_leaf=12, min_samples_split=10, n_estimators=50; total time=   0.4s\n",
      "[CV] END max_depth=50, max_features=auto, min_samples_leaf=4, min_samples_split=2, n_estimators=50; total time=   0.5s\n",
      "[CV] END max_depth=40, max_features=auto, min_samples_leaf=12, min_samples_split=2, n_estimators=100; total time=   0.8s\n",
      "[CV] END max_depth=60, max_features=auto, min_samples_leaf=12, min_samples_split=10, n_estimators=100; total time=   0.8s\n",
      "[CV] END max_depth=50, max_features=auto, min_samples_leaf=4, min_samples_split=10, n_estimators=100; total time=   1.0s\n",
      "[CV] END max_depth=50, max_features=sqrt, min_samples_leaf=8, min_samples_split=5, n_estimators=200; total time=   0.4s\n",
      "[CV] END max_depth=50, max_features=auto, min_samples_leaf=8, min_samples_split=10, n_estimators=200; total time=   1.8s\n",
      "[CV] END max_depth=60, max_features=sqrt, min_samples_leaf=8, min_samples_split=2, n_estimators=50; total time=   0.1s\n",
      "[CV] END max_depth=50, max_features=sqrt, min_samples_leaf=12, min_samples_split=2, n_estimators=200; total time=   0.4s\n",
      "[CV] END max_depth=60, max_features=auto, min_samples_leaf=8, min_samples_split=5, n_estimators=50; total time=   0.5s\n",
      "[CV] END max_depth=60, max_features=sqrt, min_samples_leaf=12, min_samples_split=10, n_estimators=100; total time=   0.2s\n",
      "[CV] END max_depth=40, max_features=auto, min_samples_leaf=12, min_samples_split=2, n_estimators=50; total time=   0.4s\n",
      "[CV] END max_depth=50, max_features=sqrt, min_samples_leaf=8, min_samples_split=2, n_estimators=200; total time=   0.4s\n",
      "[CV] END max_depth=40, max_features=sqrt, min_samples_leaf=4, min_samples_split=5, n_estimators=50; total time=   0.1s\n",
      "[CV] END max_depth=60, max_features=sqrt, min_samples_leaf=12, min_samples_split=2, n_estimators=50; total time=   0.1s\n",
      "[CV] END max_depth=60, max_features=auto, min_samples_leaf=4, min_samples_split=2, n_estimators=100; total time=   1.0s\n",
      "[CV] END max_depth=50, max_features=auto, min_samples_leaf=4, min_samples_split=5, n_estimators=200; total time=   2.1s\n",
      "[CV] END max_depth=40, max_features=auto, min_samples_leaf=8, min_samples_split=2, n_estimators=100; total time=   0.9s\n",
      "[CV] END max_depth=50, max_features=sqrt, min_samples_leaf=8, min_samples_split=10, n_estimators=100; total time=   0.2s\n",
      "[CV] END max_depth=60, max_features=auto, min_samples_leaf=12, min_samples_split=5, n_estimators=50; total time=   0.4s\n",
      "[CV] END max_depth=60, max_features=auto, min_samples_leaf=12, min_samples_split=2, n_estimators=50; total time=   0.5s\n",
      "[CV] END max_depth=40, max_features=sqrt, min_samples_leaf=12, min_samples_split=5, n_estimators=200; total time=   0.4s\n",
      "[CV] END max_depth=60, max_features=sqrt, min_samples_leaf=8, min_samples_split=5, n_estimators=100; total time=   0.2s\n",
      "[CV] END max_depth=60, max_features=sqrt, min_samples_leaf=8, min_samples_split=5, n_estimators=100; total time=   0.2s\n",
      "[CV] END max_depth=60, max_features=auto, min_samples_leaf=4, min_samples_split=2, n_estimators=50; total time=   0.6s\n",
      "[CV] END max_depth=60, max_features=auto, min_samples_leaf=4, min_samples_split=2, n_estimators=200; total time=   2.1s\n",
      "[CV] END max_depth=40, max_features=auto, min_samples_leaf=12, min_samples_split=5, n_estimators=200; total time=   1.6s\n",
      "[CV] END max_depth=40, max_features=auto, min_samples_leaf=8, min_samples_split=10, n_estimators=50; total time=   0.5s\n",
      "[CV] END max_depth=50, max_features=auto, min_samples_leaf=12, min_samples_split=10, n_estimators=50; total time=   0.4s\n",
      "[CV] END max_depth=50, max_features=auto, min_samples_leaf=12, min_samples_split=5, n_estimators=100; total time=   0.8s\n",
      "[CV] END max_depth=50, max_features=sqrt, min_samples_leaf=8, min_samples_split=5, n_estimators=100; total time=   0.2s\n",
      "[CV] END max_depth=50, max_features=sqrt, min_samples_leaf=8, min_samples_split=5, n_estimators=100; total time=   0.2s\n",
      "[CV] END max_depth=50, max_features=auto, min_samples_leaf=8, min_samples_split=5, n_estimators=200; total time=   1.8s\n",
      "[CV] END max_depth=60, max_features=auto, min_samples_leaf=8, min_samples_split=10, n_estimators=200; total time=   1.6s\n",
      "[CV] END max_depth=60, max_features=auto, min_samples_leaf=12, min_samples_split=5, n_estimators=200; total time=   1.6s\n",
      "[CV] END max_depth=40, max_features=sqrt, min_samples_leaf=8, min_samples_split=10, n_estimators=200; total time=   0.4s\n",
      "[CV] END max_depth=60, max_features=auto, min_samples_leaf=8, min_samples_split=10, n_estimators=100; total time=   0.9s\n",
      "[CV] END max_depth=50, max_features=sqrt, min_samples_leaf=4, min_samples_split=5, n_estimators=200; total time=   0.4s\n",
      "[CV] END max_depth=60, max_features=sqrt, min_samples_leaf=4, min_samples_split=2, n_estimators=50; total time=   0.1s\n",
      "[CV] END max_depth=50, max_features=sqrt, min_samples_leaf=8, min_samples_split=5, n_estimators=50; total time=   0.1s\n",
      "[CV] END max_depth=40, max_features=auto, min_samples_leaf=12, min_samples_split=10, n_estimators=200; total time=   1.5s\n",
      "[CV] END max_depth=50, max_features=auto, min_samples_leaf=8, min_samples_split=2, n_estimators=50; total time=   0.4s\n",
      "[CV] END max_depth=40, max_features=sqrt, min_samples_leaf=12, min_samples_split=10, n_estimators=50; total time=   0.1s\n",
      "[CV] END max_depth=50, max_features=sqrt, min_samples_leaf=8, min_samples_split=10, n_estimators=200; total time=   0.4s\n",
      "[CV] END max_depth=60, max_features=auto, min_samples_leaf=4, min_samples_split=5, n_estimators=50; total time=   0.5s\n",
      "[CV] END max_depth=50, max_features=auto, min_samples_leaf=4, min_samples_split=2, n_estimators=200; total time=   2.1s\n",
      "[CV] END max_depth=40, max_features=sqrt, min_samples_leaf=8, min_samples_split=2, n_estimators=100; total time=   0.2s\n",
      "[CV] END max_depth=40, max_features=sqrt, min_samples_leaf=4, min_samples_split=10, n_estimators=50; total time=   0.1s\n",
      "[CV] END max_depth=60, max_features=sqrt, min_samples_leaf=8, min_samples_split=5, n_estimators=200; total time=   0.4s\n",
      "[CV] END max_depth=50, max_features=sqrt, min_samples_leaf=12, min_samples_split=2, n_estimators=100; total time=   0.2s\n",
      "[CV] END max_depth=60, max_features=auto, min_samples_leaf=8, min_samples_split=10, n_estimators=50; total time=   0.4s\n",
      "[CV] END max_depth=60, max_features=sqrt, min_samples_leaf=4, min_samples_split=2, n_estimators=200; total time=   0.5s\n",
      "[CV] END max_depth=40, max_features=auto, min_samples_leaf=12, min_samples_split=10, n_estimators=50; total time=   0.4s\n",
      "[CV] END max_depth=50, max_features=auto, min_samples_leaf=4, min_samples_split=2, n_estimators=50; total time=   0.5s\n",
      "[CV] END max_depth=60, max_features=auto, min_samples_leaf=4, min_samples_split=5, n_estimators=100; total time=   1.0s\n",
      "[CV] END max_depth=40, max_features=auto, min_samples_leaf=8, min_samples_split=10, n_estimators=100; total time=   0.9s\n",
      "[CV] END max_depth=50, max_features=sqrt, min_samples_leaf=12, min_samples_split=10, n_estimators=100; total time=   0.2s\n",
      "[CV] END max_depth=40, max_features=sqrt, min_samples_leaf=8, min_samples_split=5, n_estimators=100; total time=   0.2s\n",
      "[CV] END max_depth=40, max_features=auto, min_samples_leaf=12, min_samples_split=5, n_estimators=100; total time=   0.8s\n",
      "[CV] END max_depth=60, max_features=auto, min_samples_leaf=4, min_samples_split=5, n_estimators=200; total time=   2.1s\n",
      "[CV] END max_depth=50, max_features=sqrt, min_samples_leaf=4, min_samples_split=5, n_estimators=100; total time=   0.2s\n",
      "[CV] END max_depth=60, max_features=sqrt, min_samples_leaf=12, min_samples_split=10, n_estimators=100; total time=   0.2s\n",
      "[CV] END max_depth=40, max_features=auto, min_samples_leaf=12, min_samples_split=2, n_estimators=50; total time=   0.4s\n",
      "[CV] END max_depth=50, max_features=sqrt, min_samples_leaf=8, min_samples_split=2, n_estimators=200; total time=   0.4s\n",
      "[CV] END max_depth=50, max_features=sqrt, min_samples_leaf=4, min_samples_split=10, n_estimators=200; total time=   0.4s\n",
      "[CV] END max_depth=40, max_features=auto, min_samples_leaf=4, min_samples_split=2, n_estimators=200; total time=   2.1s\n",
      "[CV] END max_depth=50, max_features=sqrt, min_samples_leaf=4, min_samples_split=2, n_estimators=200; total time=   0.4s\n",
      "[CV] END max_depth=50, max_features=sqrt, min_samples_leaf=8, min_samples_split=10, n_estimators=50; total time=   0.1s\n",
      "[CV] END max_depth=40, max_features=sqrt, min_samples_leaf=8, min_samples_split=10, n_estimators=100; total time=   0.2s\n",
      "[CV] END max_depth=40, max_features=auto, min_samples_leaf=8, min_samples_split=2, n_estimators=100; total time=   0.8s\n",
      "[CV] END max_depth=60, max_features=sqrt, min_samples_leaf=12, min_samples_split=5, n_estimators=50; total time=   0.1s\n",
      "[CV] END max_depth=60, max_features=sqrt, min_samples_leaf=12, min_samples_split=5, n_estimators=50; total time=   0.1s\n",
      "[CV] END max_depth=50, max_features=sqrt, min_samples_leaf=8, min_samples_split=2, n_estimators=50; total time=   0.1s\n",
      "[CV] END max_depth=50, max_features=sqrt, min_samples_leaf=8, min_samples_split=2, n_estimators=50; total time=   0.1s\n",
      "[CV] END max_depth=60, max_features=auto, min_samples_leaf=12, min_samples_split=5, n_estimators=50; total time=   0.4s\n",
      "[CV] END max_depth=60, max_features=auto, min_samples_leaf=12, min_samples_split=2, n_estimators=50; total time=   0.4s\n",
      "[CV] END max_depth=40, max_features=sqrt, min_samples_leaf=12, min_samples_split=5, n_estimators=200; total time=   0.4s\n",
      "[CV] END max_depth=50, max_features=sqrt, min_samples_leaf=12, min_samples_split=10, n_estimators=200; total time=   0.3s\n",
      "[CV] END max_depth=60, max_features=auto, min_samples_leaf=4, min_samples_split=2, n_estimators=50; total time=   0.5s\n",
      "[CV] END max_depth=60, max_features=auto, min_samples_leaf=4, min_samples_split=2, n_estimators=200; total time=   2.0s\n",
      "[CV] END max_depth=40, max_features=auto, min_samples_leaf=12, min_samples_split=5, n_estimators=200; total time=   1.6s\n",
      "[CV] END max_depth=40, max_features=auto, min_samples_leaf=8, min_samples_split=10, n_estimators=50; total time=   0.4s\n",
      "[CV] END max_depth=50, max_features=auto, min_samples_leaf=12, min_samples_split=10, n_estimators=50; total time=   0.5s\n",
      "[CV] END max_depth=40, max_features=sqrt, min_samples_leaf=12, min_samples_split=10, n_estimators=100; total time=   0.2s\n",
      "[CV] END max_depth=50, max_features=auto, min_samples_leaf=12, min_samples_split=5, n_estimators=100; total time=   0.8s\n",
      "[CV] END max_depth=50, max_features=sqrt, min_samples_leaf=8, min_samples_split=5, n_estimators=100; total time=   0.2s\n",
      "[CV] END max_depth=40, max_features=auto, min_samples_leaf=4, min_samples_split=10, n_estimators=50; total time=   0.5s\n",
      "[CV] END max_depth=50, max_features=auto, min_samples_leaf=12, min_samples_split=5, n_estimators=50; total time=   0.4s\n",
      "[CV] END max_depth=50, max_features=sqrt, min_samples_leaf=4, min_samples_split=5, n_estimators=50; total time=   0.1s\n",
      "[CV] END max_depth=60, max_features=auto, min_samples_leaf=8, min_samples_split=5, n_estimators=100; total time=   0.8s\n",
      "[CV] END max_depth=60, max_features=auto, min_samples_leaf=8, min_samples_split=10, n_estimators=200; total time=   1.5s\n"
     ]
    },
    {
     "name": "stdout",
     "output_type": "stream",
     "text": [
      "[CV] END max_depth=60, max_features=sqrt, min_samples_leaf=12, min_samples_split=5, n_estimators=50; total time=   0.1s\n",
      "[CV] END max_depth=50, max_features=sqrt, min_samples_leaf=8, min_samples_split=10, n_estimators=100; total time=   0.2s\n",
      "[CV] END max_depth=50, max_features=auto, min_samples_leaf=12, min_samples_split=10, n_estimators=200; total time=   1.5s\n",
      "[CV] END max_depth=50, max_features=auto, min_samples_leaf=8, min_samples_split=2, n_estimators=100; total time=   0.9s\n",
      "[CV] END max_depth=50, max_features=auto, min_samples_leaf=8, min_samples_split=10, n_estimators=50; total time=   0.5s\n",
      "[CV] END max_depth=40, max_features=sqrt, min_samples_leaf=12, min_samples_split=5, n_estimators=100; total time=   0.2s\n",
      "[CV] END max_depth=40, max_features=auto, min_samples_leaf=8, min_samples_split=5, n_estimators=100; total time=   0.8s\n",
      "[CV] END max_depth=60, max_features=auto, min_samples_leaf=8, min_samples_split=2, n_estimators=200; total time=   1.7s\n",
      "[CV] END max_depth=40, max_features=auto, min_samples_leaf=12, min_samples_split=2, n_estimators=200; total time=   1.6s\n",
      "[CV] END max_depth=40, max_features=auto, min_samples_leaf=4, min_samples_split=5, n_estimators=50; total time=   0.5s\n",
      "[CV] END max_depth=50, max_features=sqrt, min_samples_leaf=8, min_samples_split=5, n_estimators=100; total time=   0.2s\n",
      "[CV] END max_depth=50, max_features=auto, min_samples_leaf=8, min_samples_split=5, n_estimators=200; total time=   1.7s\n",
      "[CV] END max_depth=60, max_features=auto, min_samples_leaf=8, min_samples_split=10, n_estimators=200; total time=   1.5s\n",
      "[CV] END max_depth=50, max_features=auto, min_samples_leaf=8, min_samples_split=5, n_estimators=50; total time=   0.4s\n",
      "[CV] END max_depth=60, max_features=sqrt, min_samples_leaf=8, min_samples_split=2, n_estimators=100; total time=   0.2s\n",
      "[CV] END max_depth=40, max_features=auto, min_samples_leaf=4, min_samples_split=10, n_estimators=100; total time=   1.0s\n",
      "[CV] END max_depth=50, max_features=auto, min_samples_leaf=12, min_samples_split=2, n_estimators=200; total time=   1.7s\n",
      "[CV] END max_depth=60, max_features=sqrt, min_samples_leaf=4, min_samples_split=2, n_estimators=50; total time=   0.1s\n",
      "[CV] END max_depth=50, max_features=sqrt, min_samples_leaf=8, min_samples_split=5, n_estimators=50; total time=   0.1s\n",
      "[CV] END max_depth=40, max_features=auto, min_samples_leaf=12, min_samples_split=10, n_estimators=200; total time=   1.6s\n",
      "[CV] END max_depth=50, max_features=auto, min_samples_leaf=8, min_samples_split=2, n_estimators=50; total time=   0.5s\n",
      "[CV] END max_depth=40, max_features=sqrt, min_samples_leaf=12, min_samples_split=10, n_estimators=50; total time=   0.1s\n",
      "[CV] END max_depth=50, max_features=sqrt, min_samples_leaf=8, min_samples_split=10, n_estimators=200; total time=   0.4s\n",
      "[CV] END max_depth=60, max_features=auto, min_samples_leaf=4, min_samples_split=5, n_estimators=50; total time=   0.6s\n",
      "[CV] END max_depth=50, max_features=auto, min_samples_leaf=4, min_samples_split=2, n_estimators=200; total time=   2.1s\n",
      "[CV] END max_depth=40, max_features=sqrt, min_samples_leaf=8, min_samples_split=2, n_estimators=100; total time=   0.2s\n",
      "[CV] END max_depth=40, max_features=sqrt, min_samples_leaf=4, min_samples_split=10, n_estimators=50; total time=   0.1s\n",
      "[CV] END max_depth=60, max_features=sqrt, min_samples_leaf=8, min_samples_split=5, n_estimators=200; total time=   0.4s\n",
      "[CV] END max_depth=50, max_features=sqrt, min_samples_leaf=12, min_samples_split=2, n_estimators=100; total time=   0.2s\n",
      "[CV] END max_depth=60, max_features=auto, min_samples_leaf=8, min_samples_split=10, n_estimators=50; total time=   0.4s\n",
      "[CV] END max_depth=60, max_features=sqrt, min_samples_leaf=4, min_samples_split=2, n_estimators=200; total time=   0.5s\n",
      "[CV] END max_depth=40, max_features=auto, min_samples_leaf=12, min_samples_split=10, n_estimators=50; total time=   0.4s\n",
      "[CV] END max_depth=50, max_features=auto, min_samples_leaf=4, min_samples_split=2, n_estimators=50; total time=   0.5s\n",
      "[CV] END max_depth=40, max_features=auto, min_samples_leaf=12, min_samples_split=2, n_estimators=100; total time=   0.7s\n",
      "[CV] END max_depth=60, max_features=auto, min_samples_leaf=12, min_samples_split=10, n_estimators=100; total time=   0.8s\n",
      "[CV] END max_depth=50, max_features=auto, min_samples_leaf=4, min_samples_split=10, n_estimators=100; total time=   1.0s\n",
      "[CV] END max_depth=50, max_features=sqrt, min_samples_leaf=8, min_samples_split=5, n_estimators=200; total time=   0.4s\n",
      "[CV] END max_depth=50, max_features=auto, min_samples_leaf=8, min_samples_split=10, n_estimators=200; total time=   1.7s\n",
      "[CV] END max_depth=60, max_features=sqrt, min_samples_leaf=8, min_samples_split=2, n_estimators=50; total time=   0.1s\n",
      "[CV] END max_depth=60, max_features=sqrt, min_samples_leaf=8, min_samples_split=2, n_estimators=50; total time=   0.1s\n",
      "[CV] END max_depth=50, max_features=sqrt, min_samples_leaf=12, min_samples_split=2, n_estimators=200; total time=   0.3s\n",
      "[CV] END max_depth=60, max_features=auto, min_samples_leaf=8, min_samples_split=5, n_estimators=50; total time=   0.4s\n",
      "[CV] END max_depth=60, max_features=sqrt, min_samples_leaf=12, min_samples_split=10, n_estimators=100; total time=   0.2s\n",
      "[CV] END max_depth=40, max_features=auto, min_samples_leaf=12, min_samples_split=2, n_estimators=50; total time=   0.4s\n",
      "[CV] END max_depth=50, max_features=sqrt, min_samples_leaf=8, min_samples_split=2, n_estimators=200; total time=   0.4s\n",
      "[CV] END max_depth=50, max_features=sqrt, min_samples_leaf=4, min_samples_split=10, n_estimators=200; total time=   0.4s\n",
      "[CV] END max_depth=40, max_features=auto, min_samples_leaf=4, min_samples_split=2, n_estimators=200; total time=   2.0s\n",
      "[CV] END max_depth=50, max_features=sqrt, min_samples_leaf=4, min_samples_split=2, n_estimators=200; total time=   0.4s\n",
      "[CV] END max_depth=50, max_features=sqrt, min_samples_leaf=8, min_samples_split=10, n_estimators=50; total time=   0.1s\n",
      "[CV] END max_depth=40, max_features=sqrt, min_samples_leaf=8, min_samples_split=10, n_estimators=100; total time=   0.2s\n",
      "[CV] END max_depth=60, max_features=sqrt, min_samples_leaf=4, min_samples_split=10, n_estimators=200; total time=   0.4s\n",
      "[CV] END max_depth=50, max_features=auto, min_samples_leaf=12, min_samples_split=2, n_estimators=100; total time=   0.8s\n",
      "[CV] END max_depth=50, max_features=sqrt, min_samples_leaf=8, min_samples_split=2, n_estimators=50; total time=   0.1s\n",
      "[CV] END max_depth=60, max_features=auto, min_samples_leaf=12, min_samples_split=5, n_estimators=50; total time=   0.4s\n",
      "[CV] END max_depth=60, max_features=auto, min_samples_leaf=12, min_samples_split=2, n_estimators=50; total time=   0.4s\n",
      "[CV] END max_depth=40, max_features=sqrt, min_samples_leaf=12, min_samples_split=5, n_estimators=200; total time=   0.4s\n",
      "[CV] END max_depth=50, max_features=sqrt, min_samples_leaf=12, min_samples_split=10, n_estimators=200; total time=   0.3s\n",
      "[CV] END max_depth=60, max_features=auto, min_samples_leaf=4, min_samples_split=2, n_estimators=50; total time=   0.5s\n",
      "[CV] END max_depth=60, max_features=auto, min_samples_leaf=4, min_samples_split=2, n_estimators=200; total time=   2.0s\n",
      "[CV] END max_depth=40, max_features=auto, min_samples_leaf=12, min_samples_split=5, n_estimators=200; total time=   1.6s\n",
      "[CV] END max_depth=40, max_features=auto, min_samples_leaf=8, min_samples_split=10, n_estimators=50; total time=   0.5s\n",
      "[CV] END max_depth=50, max_features=auto, min_samples_leaf=12, min_samples_split=10, n_estimators=50; total time=   0.4s\n",
      "[CV] END max_depth=40, max_features=sqrt, min_samples_leaf=12, min_samples_split=10, n_estimators=100; total time=   0.2s\n",
      "[CV] END max_depth=40, max_features=sqrt, min_samples_leaf=12, min_samples_split=10, n_estimators=100; total time=   0.2s\n",
      "[CV] END max_depth=50, max_features=auto, min_samples_leaf=12, min_samples_split=5, n_estimators=100; total time=   0.8s\n",
      "[CV] END max_depth=50, max_features=sqrt, min_samples_leaf=8, min_samples_split=5, n_estimators=100; total time=   0.2s\n",
      "[CV] END max_depth=40, max_features=auto, min_samples_leaf=4, min_samples_split=10, n_estimators=50; total time=   0.5s\n",
      "[CV] END max_depth=50, max_features=auto, min_samples_leaf=12, min_samples_split=5, n_estimators=50; total time=   0.4s\n",
      "[CV] END max_depth=60, max_features=auto, min_samples_leaf=8, min_samples_split=5, n_estimators=100; total time=   0.9s\n",
      "[CV] END max_depth=60, max_features=auto, min_samples_leaf=8, min_samples_split=10, n_estimators=200; total time=   1.5s\n",
      "[CV] END max_depth=50, max_features=auto, min_samples_leaf=8, min_samples_split=5, n_estimators=50; total time=   0.4s\n",
      "[CV] END max_depth=60, max_features=sqrt, min_samples_leaf=8, min_samples_split=2, n_estimators=100; total time=   0.2s\n",
      "[CV] END max_depth=40, max_features=auto, min_samples_leaf=4, min_samples_split=10, n_estimators=100; total time=   1.1s\n",
      "[CV] END max_depth=50, max_features=auto, min_samples_leaf=12, min_samples_split=2, n_estimators=200; total time=   1.6s\n",
      "[CV] END max_depth=60, max_features=sqrt, min_samples_leaf=4, min_samples_split=2, n_estimators=50; total time=   0.1s\n",
      "[CV] END max_depth=40, max_features=auto, min_samples_leaf=12, min_samples_split=10, n_estimators=200; total time=   1.5s\n",
      "[CV] END max_depth=50, max_features=auto, min_samples_leaf=8, min_samples_split=2, n_estimators=50; total time=   0.4s\n",
      "[CV] END max_depth=40, max_features=sqrt, min_samples_leaf=12, min_samples_split=10, n_estimators=50; total time=   0.1s\n",
      "[CV] END max_depth=50, max_features=sqrt, min_samples_leaf=8, min_samples_split=10, n_estimators=200; total time=   0.4s\n",
      "[CV] END max_depth=60, max_features=auto, min_samples_leaf=4, min_samples_split=5, n_estimators=50; total time=   0.6s\n",
      "[CV] END max_depth=50, max_features=auto, min_samples_leaf=4, min_samples_split=2, n_estimators=200; total time=   2.1s\n",
      "[CV] END max_depth=40, max_features=sqrt, min_samples_leaf=8, min_samples_split=2, n_estimators=100; total time=   0.2s\n",
      "[CV] END max_depth=40, max_features=sqrt, min_samples_leaf=4, min_samples_split=10, n_estimators=50; total time=   0.1s\n",
      "[CV] END max_depth=50, max_features=auto, min_samples_leaf=4, min_samples_split=10, n_estimators=200; total time=   2.0s\n",
      "[CV] END max_depth=60, max_features=sqrt, min_samples_leaf=8, min_samples_split=2, n_estimators=200; total time=   0.4s\n",
      "[CV] END max_depth=40, max_features=auto, min_samples_leaf=12, min_samples_split=2, n_estimators=100; total time=   0.8s\n",
      "[CV] END max_depth=60, max_features=auto, min_samples_leaf=12, min_samples_split=10, n_estimators=100; total time=   0.8s\n",
      "[CV] END max_depth=50, max_features=auto, min_samples_leaf=4, min_samples_split=10, n_estimators=100; total time=   1.0s\n",
      "[CV] END max_depth=50, max_features=sqrt, min_samples_leaf=8, min_samples_split=5, n_estimators=200; total time=   0.4s\n",
      "[CV] END max_depth=50, max_features=auto, min_samples_leaf=8, min_samples_split=10, n_estimators=200; total time=   1.7s\n",
      "[CV] END max_depth=60, max_features=sqrt, min_samples_leaf=8, min_samples_split=2, n_estimators=50; total time=   0.1s\n",
      "[CV] END max_depth=50, max_features=sqrt, min_samples_leaf=12, min_samples_split=2, n_estimators=200; total time=   0.4s\n",
      "[CV] END max_depth=60, max_features=auto, min_samples_leaf=8, min_samples_split=5, n_estimators=50; total time=   0.4s\n",
      "[CV] END max_depth=50, max_features=auto, min_samples_leaf=4, min_samples_split=2, n_estimators=100; total time=   1.0s\n",
      "[CV] END max_depth=60, max_features=sqrt, min_samples_leaf=12, min_samples_split=2, n_estimators=50; total time=   0.1s\n",
      "[CV] END max_depth=60, max_features=auto, min_samples_leaf=4, min_samples_split=2, n_estimators=100; total time=   1.0s\n",
      "[CV] END max_depth=50, max_features=auto, min_samples_leaf=4, min_samples_split=5, n_estimators=200; total time=   2.1s\n",
      "[CV] END max_depth=40, max_features=auto, min_samples_leaf=8, min_samples_split=2, n_estimators=100; total time=   0.9s\n",
      "[CV] END max_depth=50, max_features=sqrt, min_samples_leaf=8, min_samples_split=10, n_estimators=100; total time=   0.2s\n",
      "[CV] END max_depth=50, max_features=sqrt, min_samples_leaf=8, min_samples_split=2, n_estimators=50; total time=   0.1s\n",
      "[CV] END max_depth=50, max_features=auto, min_samples_leaf=12, min_samples_split=10, n_estimators=200; total time=   1.5s\n",
      "[CV] END max_depth=50, max_features=auto, min_samples_leaf=8, min_samples_split=2, n_estimators=100; total time=   0.9s\n",
      "[CV] END max_depth=50, max_features=auto, min_samples_leaf=8, min_samples_split=10, n_estimators=50; total time=   0.4s\n",
      "[CV] END max_depth=40, max_features=sqrt, min_samples_leaf=12, min_samples_split=5, n_estimators=100; total time=   0.2s\n",
      "[CV] END max_depth=40, max_features=auto, min_samples_leaf=8, min_samples_split=5, n_estimators=100; total time=   0.9s\n",
      "[CV] END max_depth=60, max_features=auto, min_samples_leaf=8, min_samples_split=2, n_estimators=200; total time=   1.7s\n",
      "[CV] END max_depth=60, max_features=sqrt, min_samples_leaf=4, min_samples_split=10, n_estimators=50; total time=   0.1s\n",
      "[CV] END max_depth=40, max_features=auto, min_samples_leaf=8, min_samples_split=10, n_estimators=50; total time=   0.4s\n",
      "[CV] END max_depth=50, max_features=auto, min_samples_leaf=12, min_samples_split=10, n_estimators=50; total time=   0.4s\n",
      "[CV] END max_depth=40, max_features=sqrt, min_samples_leaf=12, min_samples_split=10, n_estimators=100; total time=   0.2s\n",
      "[CV] END max_depth=40, max_features=sqrt, min_samples_leaf=12, min_samples_split=10, n_estimators=100; total time=   0.2s\n",
      "[CV] END max_depth=50, max_features=auto, min_samples_leaf=12, min_samples_split=5, n_estimators=100; total time=   0.8s\n",
      "[CV] END max_depth=50, max_features=sqrt, min_samples_leaf=8, min_samples_split=5, n_estimators=100; total time=   0.2s\n",
      "[CV] END max_depth=40, max_features=auto, min_samples_leaf=4, min_samples_split=10, n_estimators=50; total time=   0.5s\n",
      "[CV] END max_depth=50, max_features=auto, min_samples_leaf=12, min_samples_split=5, n_estimators=50; total time=   0.4s\n",
      "[CV] END max_depth=50, max_features=sqrt, min_samples_leaf=4, min_samples_split=5, n_estimators=50; total time=   0.1s\n",
      "[CV] END max_depth=60, max_features=auto, min_samples_leaf=8, min_samples_split=5, n_estimators=100; total time=   0.9s\n",
      "[CV] END max_depth=60, max_features=auto, min_samples_leaf=8, min_samples_split=10, n_estimators=200; total time=   1.5s\n",
      "\n",
      "[CV] END max_depth=50, max_features=auto, min_samples_leaf=4, min_samples_split=10, n_estimators=50; total time=   0.5s\n",
      "[CV] END max_depth=40, max_features=auto, min_samples_leaf=4, min_samples_split=10, n_estimators=200; total time=   2.0s\n",
      "[CV] END max_depth=50, max_features=auto, min_samples_leaf=4, min_samples_split=10, n_estimators=200; total time=   2.1s\n",
      "[CV] END max_depth=60, max_features=sqrt, min_samples_leaf=8, min_samples_split=2, n_estimators=200; total time=   0.4s\n",
      "[CV] END max_depth=60, max_features=auto, min_samples_leaf=4, min_samples_split=5, n_estimators=100; total time=   1.1s\n",
      "[CV] END max_depth=40, max_features=auto, min_samples_leaf=8, min_samples_split=10, n_estimators=100; total time=   0.9s\n",
      "[CV] END max_depth=40, max_features=auto, min_samples_leaf=12, min_samples_split=5, n_estimators=100; total time=   0.8s\n",
      "[CV] END max_depth=60, max_features=auto, min_samples_leaf=4, min_samples_split=5, n_estimators=200; total time=   2.2s\n",
      "[CV] END max_depth=50, max_features=sqrt, min_samples_leaf=4, min_samples_split=5, n_estimators=100; total time=   0.3s\n",
      "[CV] END max_depth=60, max_features=sqrt, min_samples_leaf=12, min_samples_split=10, n_estimators=100; total time=   0.2s\n",
      "[CV] END max_depth=40, max_features=auto, min_samples_leaf=12, min_samples_split=2, n_estimators=50; total time=   0.4s\n",
      "[CV] END max_depth=50, max_features=sqrt, min_samples_leaf=8, min_samples_split=2, n_estimators=200; total time=   0.4s\n",
      "[CV] END max_depth=50, max_features=sqrt, min_samples_leaf=4, min_samples_split=10, n_estimators=200; total time=   0.4s\n",
      "[CV] END max_depth=40, max_features=auto, min_samples_leaf=4, min_samples_split=2, n_estimators=200; total time=   2.2s\n",
      "[CV] END max_depth=50, max_features=sqrt, min_samples_leaf=4, min_samples_split=2, n_estimators=200; total time=   0.4s\n",
      "[CV] END max_depth=40, max_features=sqrt, min_samples_leaf=8, min_samples_split=10, n_estimators=100; total time=   0.2s\n",
      "[CV] END max_depth=60, max_features=sqrt, min_samples_leaf=4, min_samples_split=10, n_estimators=200; total time=   0.4s\n",
      "[CV] END max_depth=50, max_features=auto, min_samples_leaf=12, min_samples_split=2, n_estimators=100; total time=   0.8s\n",
      "[CV] END max_depth=50, max_features=auto, min_samples_leaf=12, min_samples_split=10, n_estimators=200; total time=   1.4s\n",
      "[CV] END max_depth=60, max_features=sqrt, min_samples_leaf=8, min_samples_split=5, n_estimators=100; total time=   0.2s\n",
      "[CV] END max_depth=60, max_features=auto, min_samples_leaf=4, min_samples_split=2, n_estimators=50; total time=   0.5s\n",
      "[CV] END max_depth=60, max_features=auto, min_samples_leaf=4, min_samples_split=2, n_estimators=200; total time=   2.1s\n",
      "[CV] END max_depth=40, max_features=auto, min_samples_leaf=12, min_samples_split=5, n_estimators=200; total time=   1.5s\n",
      "[CV] END max_depth=40, max_features=auto, min_samples_leaf=8, min_samples_split=10, n_estimators=50; total time=   0.5s\n",
      "[CV] END max_depth=50, max_features=auto, min_samples_leaf=12, min_samples_split=10, n_estimators=50; total time=   0.4s\n",
      "[CV] END max_depth=40, max_features=sqrt, min_samples_leaf=12, min_samples_split=10, n_estimators=100; total time=   0.2s\n",
      "[CV] END max_depth=50, max_features=auto, min_samples_leaf=12, min_samples_split=5, n_estimators=100; total time=   0.8s\n",
      "[CV] END max_depth=60, max_features=sqrt, min_samples_leaf=12, min_samples_split=10, n_estimators=200; total time=   0.3s\n",
      "[CV] END max_depth=50, max_features=auto, min_samples_leaf=8, min_samples_split=5, n_estimators=200; total time=   1.7s\n",
      "[CV] END max_depth=40, max_features=auto, min_samples_leaf=8, min_samples_split=5, n_estimators=50; total time=   0.5s\n",
      "[CV] END max_depth=50, max_features=auto, min_samples_leaf=8, min_samples_split=5, n_estimators=50; total time=   0.4s\n",
      "[CV] END max_depth=60, max_features=sqrt, min_samples_leaf=8, min_samples_split=2, n_estimators=100; total time=   0.2s\n",
      "[CV] END max_depth=40, max_features=auto, min_samples_leaf=4, min_samples_split=10, n_estimators=100; total time=   1.0s\n",
      "[CV] END max_depth=50, max_features=auto, min_samples_leaf=12, min_samples_split=2, n_estimators=200; total time=   1.5s\n",
      "[CV] END max_depth=60, max_features=sqrt, min_samples_leaf=4, min_samples_split=2, n_estimators=50; total time=   0.1s\n",
      "[CV] END max_depth=50, max_features=sqrt, min_samples_leaf=8, min_samples_split=5, n_estimators=50; total time=   0.1s\n",
      "[CV] END max_depth=50, max_features=sqrt, min_samples_leaf=8, min_samples_split=5, n_estimators=50; total time=   0.1s\n",
      "[CV] END max_depth=40, max_features=auto, min_samples_leaf=12, min_samples_split=10, n_estimators=200; total time=   1.5s\n",
      "[CV] END max_depth=50, max_features=auto, min_samples_leaf=8, min_samples_split=2, n_estimators=50; total time=   0.4s\n",
      "[CV] END max_depth=40, max_features=sqrt, min_samples_leaf=12, min_samples_split=10, n_estimators=50; total time=   0.1s\n",
      "[CV] END max_depth=50, max_features=sqrt, min_samples_leaf=8, min_samples_split=10, n_estimators=200; total time=   0.3s\n",
      "[CV] END max_depth=60, max_features=auto, min_samples_leaf=4, min_samples_split=5, n_estimators=50; total time=   0.5s\n",
      "[CV] END max_depth=40, max_features=sqrt, min_samples_leaf=12, min_samples_split=2, n_estimators=50; total time=   0.1s\n",
      "[CV] END max_depth=50, max_features=auto, min_samples_leaf=4, min_samples_split=10, n_estimators=50; total time=   0.5s\n",
      "[CV] END max_depth=40, max_features=auto, min_samples_leaf=4, min_samples_split=10, n_estimators=200; total time=   2.0s\n",
      "[CV] END max_depth=50, max_features=auto, min_samples_leaf=4, min_samples_split=10, n_estimators=200; total time=   2.0s\n",
      "[CV] END max_depth=60, max_features=sqrt, min_samples_leaf=8, min_samples_split=2, n_estimators=200; total time=   0.4s\n",
      "[CV] END max_depth=60, max_features=auto, min_samples_leaf=4, min_samples_split=5, n_estimators=100; total time=   1.1s\n",
      "[CV] END max_depth=40, max_features=auto, min_samples_leaf=8, min_samples_split=10, n_estimators=100; total time=   0.8s\n",
      "[CV] END max_depth=40, max_features=sqrt, min_samples_leaf=8, min_samples_split=5, n_estimators=100; total time=   0.2s\n",
      "[CV] END max_depth=40, max_features=auto, min_samples_leaf=12, min_samples_split=5, n_estimators=100; total time=   0.7s\n",
      "[CV] END max_depth=60, max_features=auto, min_samples_leaf=4, min_samples_split=5, n_estimators=200; total time=   2.0s\n",
      "[CV] END max_depth=40, max_features=sqrt, min_samples_leaf=4, min_samples_split=2, n_estimators=50; total time=   0.1s\n",
      "[CV] END max_depth=50, max_features=sqrt, min_samples_leaf=4, min_samples_split=5, n_estimators=100; total time=   0.2s\n",
      "[CV] END max_depth=50, max_features=auto, min_samples_leaf=4, min_samples_split=2, n_estimators=100; total time=   1.0s\n",
      "[CV] END max_depth=40, max_features=sqrt, min_samples_leaf=4, min_samples_split=5, n_estimators=50; total time=   0.1s\n",
      "[CV] END max_depth=50, max_features=sqrt, min_samples_leaf=4, min_samples_split=10, n_estimators=200; total time=   0.4s\n",
      "[CV] END max_depth=40, max_features=auto, min_samples_leaf=4, min_samples_split=2, n_estimators=200; total time=   2.1s\n",
      "[CV] END max_depth=50, max_features=sqrt, min_samples_leaf=4, min_samples_split=2, n_estimators=200; total time=   0.4s\n",
      "[CV] END max_depth=50, max_features=sqrt, min_samples_leaf=8, min_samples_split=10, n_estimators=50; total time=   0.1s\n",
      "[CV] END max_depth=40, max_features=sqrt, min_samples_leaf=8, min_samples_split=10, n_estimators=100; total time=   0.2s\n",
      "[CV] END max_depth=40, max_features=auto, min_samples_leaf=8, min_samples_split=2, n_estimators=100; total time=   0.9s\n",
      "[CV] END max_depth=50, max_features=sqrt, min_samples_leaf=8, min_samples_split=10, n_estimators=100; total time=   0.2s\n",
      "[CV] END max_depth=50, max_features=sqrt, min_samples_leaf=8, min_samples_split=2, n_estimators=50; total time=   0.1s\n",
      "[CV] END max_depth=60, max_features=auto, min_samples_leaf=12, min_samples_split=5, n_estimators=50; total time=   0.4s\n",
      "[CV] END max_depth=60, max_features=auto, min_samples_leaf=12, min_samples_split=2, n_estimators=50; total time=   0.4s\n",
      "[CV] END max_depth=40, max_features=sqrt, min_samples_leaf=12, min_samples_split=5, n_estimators=200; total time=   0.3s\n",
      "[CV] END max_depth=50, max_features=sqrt, min_samples_leaf=12, min_samples_split=10, n_estimators=200; total time=   0.4s\n",
      "[CV] END max_depth=60, max_features=sqrt, min_samples_leaf=8, min_samples_split=5, n_estimators=100; total time=   0.2s\n",
      "[CV] END max_depth=60, max_features=auto, min_samples_leaf=4, min_samples_split=2, n_estimators=50; total time=   0.5s\n",
      "[CV] END max_depth=60, max_features=auto, min_samples_leaf=4, min_samples_split=2, n_estimators=200; total time=   2.1s\n",
      "[CV] END max_depth=40, max_features=auto, min_samples_leaf=12, min_samples_split=5, n_estimators=200; total time=   1.6s\n",
      "[CV] END max_depth=40, max_features=auto, min_samples_leaf=8, min_samples_split=10, n_estimators=50; total time=   0.4s\n",
      "[CV] END max_depth=50, max_features=auto, min_samples_leaf=12, min_samples_split=10, n_estimators=50; total time=   0.4s\n",
      "[CV] END max_depth=40, max_features=sqrt, min_samples_leaf=12, min_samples_split=10, n_estimators=100; total time=   0.2s\n",
      "[CV] END max_depth=50, max_features=auto, min_samples_leaf=12, min_samples_split=5, n_estimators=100; total time=   0.8s\n",
      "[CV] END max_depth=60, max_features=sqrt, min_samples_leaf=12, min_samples_split=10, n_estimators=200; total time=   0.4s\n",
      "[CV] END max_depth=50, max_features=auto, min_samples_leaf=8, min_samples_split=5, n_estimators=200; total time=   1.8s\n",
      "[CV] END max_depth=60, max_features=auto, min_samples_leaf=8, min_samples_split=10, n_estimators=200; total time=   1.5s\n"
     ]
    },
    {
     "name": "stdout",
     "output_type": "stream",
     "text": [
      "[CV] END max_depth=50, max_features=auto, min_samples_leaf=12, min_samples_split=2, n_estimators=200; total time=   1.5s\n",
      "[CV] END max_depth=60, max_features=auto, min_samples_leaf=8, min_samples_split=5, n_estimators=200; total time=   1.7s\n",
      "[CV] END max_depth=60, max_features=sqrt, min_samples_leaf=8, min_samples_split=5, n_estimators=50; total time=   0.1s\n",
      "[CV] END max_depth=60, max_features=auto, min_samples_leaf=8, min_samples_split=2, n_estimators=100; total time=   0.9s\n",
      "[CV] END max_depth=60, max_features=auto, min_samples_leaf=12, min_samples_split=5, n_estimators=100; total time=   0.8s\n",
      "[CV] END max_depth=50, max_features=auto, min_samples_leaf=4, min_samples_split=10, n_estimators=50; total time=   0.5s\n",
      "[CV] END max_depth=40, max_features=auto, min_samples_leaf=4, min_samples_split=10, n_estimators=200; total time=   2.1s\n",
      "[CV] END max_depth=50, max_features=sqrt, min_samples_leaf=12, min_samples_split=2, n_estimators=100; total time=   0.2s\n",
      "[CV] END max_depth=60, max_features=auto, min_samples_leaf=8, min_samples_split=10, n_estimators=50; total time=   0.4s\n",
      "[CV] END max_depth=60, max_features=sqrt, min_samples_leaf=4, min_samples_split=2, n_estimators=200; total time=   0.4s\n",
      "[CV] END max_depth=40, max_features=auto, min_samples_leaf=12, min_samples_split=10, n_estimators=50; total time=   0.4s\n",
      "[CV] END max_depth=50, max_features=auto, min_samples_leaf=4, min_samples_split=2, n_estimators=50; total time=   0.5s\n",
      "[CV] END max_depth=40, max_features=auto, min_samples_leaf=12, min_samples_split=2, n_estimators=100; total time=   0.8s\n",
      "[CV] END max_depth=60, max_features=auto, min_samples_leaf=12, min_samples_split=10, n_estimators=100; total time=   0.8s\n",
      "[CV] END max_depth=50, max_features=auto, min_samples_leaf=4, min_samples_split=10, n_estimators=100; total time=   1.0s\n",
      "[CV] END max_depth=50, max_features=sqrt, min_samples_leaf=8, min_samples_split=5, n_estimators=200; total time=   0.3s\n",
      "[CV] END max_depth=50, max_features=auto, min_samples_leaf=8, min_samples_split=10, n_estimators=200; total time=   1.7s\n",
      "[CV] END max_depth=60, max_features=sqrt, min_samples_leaf=8, min_samples_split=2, n_estimators=50; total time=   0.1s\n",
      "[CV] END max_depth=50, max_features=sqrt, min_samples_leaf=12, min_samples_split=2, n_estimators=200; total time=   0.4s\n",
      "[CV] END max_depth=50, max_features=sqrt, min_samples_leaf=4, min_samples_split=5, n_estimators=100; total time=   0.2s\n",
      "[CV] END max_depth=50, max_features=sqrt, min_samples_leaf=4, min_samples_split=5, n_estimators=100; total time=   0.2s\n",
      "[CV] END max_depth=60, max_features=sqrt, min_samples_leaf=12, min_samples_split=10, n_estimators=100; total time=   0.2s\n",
      "[CV] END max_depth=40, max_features=auto, min_samples_leaf=12, min_samples_split=2, n_estimators=50; total time=   0.4s\n",
      "[CV] END max_depth=50, max_features=sqrt, min_samples_leaf=8, min_samples_split=2, n_estimators=200; total time=   0.3s\n",
      "[CV] END max_depth=50, max_features=sqrt, min_samples_leaf=4, min_samples_split=10, n_estimators=200; total time=   0.4s\n",
      "[CV] END max_depth=40, max_features=auto, min_samples_leaf=4, min_samples_split=2, n_estimators=200; total time=   2.1s\n",
      "[CV] END max_depth=50, max_features=sqrt, min_samples_leaf=4, min_samples_split=2, n_estimators=200; total time=   0.5s\n",
      "[CV] END max_depth=40, max_features=sqrt, min_samples_leaf=8, min_samples_split=10, n_estimators=100; total time=   0.2s\n",
      "[CV] END max_depth=40, max_features=auto, min_samples_leaf=8, min_samples_split=2, n_estimators=100; total time=   0.8s\n",
      "[CV] END max_depth=60, max_features=sqrt, min_samples_leaf=12, min_samples_split=5, n_estimators=50; total time=   0.1s\n",
      "[CV] END max_depth=60, max_features=sqrt, min_samples_leaf=12, min_samples_split=5, n_estimators=50; total time=   0.1s\n",
      "[CV] END max_depth=50, max_features=sqrt, min_samples_leaf=8, min_samples_split=10, n_estimators=100; total time=   0.2s\n",
      "[CV] END max_depth=60, max_features=auto, min_samples_leaf=12, min_samples_split=5, n_estimators=50; total time=   0.4s\n",
      "[CV] END max_depth=60, max_features=auto, min_samples_leaf=12, min_samples_split=2, n_estimators=50; total time=   0.4s\n",
      "[CV] END max_depth=40, max_features=sqrt, min_samples_leaf=12, min_samples_split=5, n_estimators=200; total time=   0.3s\n",
      "[CV] END max_depth=50, max_features=sqrt, min_samples_leaf=12, min_samples_split=10, n_estimators=200; total time=   0.4s\n",
      "[CV] END max_depth=50, max_features=auto, min_samples_leaf=8, min_samples_split=2, n_estimators=100; total time=   0.9s\n",
      "[CV] END max_depth=50, max_features=auto, min_samples_leaf=8, min_samples_split=10, n_estimators=50; total time=   0.4s\n",
      "[CV] END max_depth=40, max_features=sqrt, min_samples_leaf=12, min_samples_split=5, n_estimators=100; total time=   0.2s\n",
      "[CV] END max_depth=40, max_features=auto, min_samples_leaf=8, min_samples_split=5, n_estimators=100; total time=   0.9s\n",
      "[CV] END max_depth=60, max_features=auto, min_samples_leaf=8, min_samples_split=2, n_estimators=200; total time=   1.8s\n",
      "[CV] END max_depth=40, max_features=auto, min_samples_leaf=12, min_samples_split=2, n_estimators=200; total time=   1.6s\n",
      "[CV] END max_depth=40, max_features=auto, min_samples_leaf=4, min_samples_split=5, n_estimators=50; total time=   0.5s\n",
      "[CV] END max_depth=40, max_features=auto, min_samples_leaf=4, min_samples_split=10, n_estimators=50; total time=   0.5s\n",
      "[CV] END max_depth=50, max_features=auto, min_samples_leaf=12, min_samples_split=5, n_estimators=50; total time=   0.4s\n",
      "[CV] END max_depth=50, max_features=sqrt, min_samples_leaf=4, min_samples_split=5, n_estimators=50; total time=   0.1s\n",
      "[CV] END max_depth=60, max_features=auto, min_samples_leaf=8, min_samples_split=5, n_estimators=100; total time=   0.9s\n",
      "[CV] END max_depth=60, max_features=auto, min_samples_leaf=8, min_samples_split=10, n_estimators=200; total time=   1.5s\n",
      "[CV] END max_depth=50, max_features=auto, min_samples_leaf=8, min_samples_split=5, n_estimators=50; total time=   0.4s\n",
      "[CV] END max_depth=60, max_features=sqrt, min_samples_leaf=8, min_samples_split=2, n_estimators=100; total time=   0.2s\n",
      "[CV] END max_depth=40, max_features=auto, min_samples_leaf=4, min_samples_split=10, n_estimators=100; total time=   1.0s\n",
      "[CV] END max_depth=50, max_features=auto, min_samples_leaf=12, min_samples_split=2, n_estimators=200; total time=   1.5s\n",
      "[CV] END max_depth=60, max_features=auto, min_samples_leaf=8, min_samples_split=5, n_estimators=200; total time=   1.7s\n",
      "[CV] END max_depth=60, max_features=auto, min_samples_leaf=8, min_samples_split=2, n_estimators=100; total time=   0.9s\n",
      "[CV] END max_depth=60, max_features=auto, min_samples_leaf=12, min_samples_split=5, n_estimators=100; total time=   0.7s\n",
      "[CV] END max_depth=40, max_features=sqrt, min_samples_leaf=12, min_samples_split=2, n_estimators=50; total time=   0.1s\n",
      "[CV] END max_depth=50, max_features=auto, min_samples_leaf=4, min_samples_split=10, n_estimators=50; total time=   0.5s\n",
      "[CV] END max_depth=40, max_features=auto, min_samples_leaf=4, min_samples_split=10, n_estimators=200; total time=   2.0s\n",
      "[CV] END max_depth=50, max_features=auto, min_samples_leaf=4, min_samples_split=10, n_estimators=200; total time=   2.0s\n",
      "[CV] END max_depth=60, max_features=sqrt, min_samples_leaf=8, min_samples_split=2, n_estimators=200; total time=   0.4s\n",
      "[CV] END max_depth=60, max_features=auto, min_samples_leaf=4, min_samples_split=5, n_estimators=100; total time=   1.1s\n",
      "[CV] END max_depth=40, max_features=auto, min_samples_leaf=8, min_samples_split=10, n_estimators=100; total time=   0.9s\n",
      "[CV] END max_depth=40, max_features=sqrt, min_samples_leaf=8, min_samples_split=5, n_estimators=100; total time=   0.2s\n",
      "[CV] END max_depth=40, max_features=auto, min_samples_leaf=12, min_samples_split=5, n_estimators=100; total time=   0.8s\n",
      "[CV] END max_depth=60, max_features=auto, min_samples_leaf=4, min_samples_split=5, n_estimators=200; total time=   2.1s\n",
      "[CV] END max_depth=50, max_features=sqrt, min_samples_leaf=4, min_samples_split=5, n_estimators=100; total time=   0.2s\n",
      "[CV] END max_depth=50, max_features=auto, min_samples_leaf=4, min_samples_split=2, n_estimators=100; total time=   1.0s\n",
      "[CV] END max_depth=40, max_features=sqrt, min_samples_leaf=4, min_samples_split=5, n_estimators=50; total time=   0.1s\n",
      "[CV] END max_depth=50, max_features=sqrt, min_samples_leaf=4, min_samples_split=10, n_estimators=200; total time=   0.4s\n",
      "[CV] END max_depth=40, max_features=auto, min_samples_leaf=4, min_samples_split=2, n_estimators=200; total time=   2.1s\n",
      "[CV] END max_depth=50, max_features=sqrt, min_samples_leaf=4, min_samples_split=2, n_estimators=200; total time=   0.4s\n",
      "[CV] END max_depth=50, max_features=sqrt, min_samples_leaf=8, min_samples_split=10, n_estimators=50; total time=   0.1s\n",
      "[CV] END max_depth=40, max_features=sqrt, min_samples_leaf=8, min_samples_split=10, n_estimators=100; total time=   0.2s\n",
      "[CV] END max_depth=60, max_features=sqrt, min_samples_leaf=4, min_samples_split=10, n_estimators=200; total time=   0.5s\n",
      "[CV] END max_depth=50, max_features=auto, min_samples_leaf=12, min_samples_split=2, n_estimators=100; total time=   0.8s\n",
      "[CV] END max_depth=60, max_features=auto, min_samples_leaf=12, min_samples_split=5, n_estimators=50; total time=   0.4s\n",
      "[CV] END max_depth=60, max_features=auto, min_samples_leaf=12, min_samples_split=2, n_estimators=50; total time=   0.4s\n",
      "[CV] END max_depth=40, max_features=sqrt, min_samples_leaf=12, min_samples_split=5, n_estimators=200; total time=   0.3s\n",
      "[CV] END max_depth=50, max_features=sqrt, min_samples_leaf=12, min_samples_split=10, n_estimators=200; total time=   0.4s\n",
      "[CV] END max_depth=50, max_features=auto, min_samples_leaf=8, min_samples_split=2, n_estimators=100; total time=   0.9s\n",
      "[CV] END max_depth=50, max_features=auto, min_samples_leaf=8, min_samples_split=10, n_estimators=50; total time=   0.4s\n",
      "[CV] END max_depth=40, max_features=sqrt, min_samples_leaf=12, min_samples_split=5, n_estimators=50; total time=   0.1s\n",
      "[CV] END max_depth=40, max_features=sqrt, min_samples_leaf=12, min_samples_split=5, n_estimators=50; total time=   0.1s\n",
      "[CV] END max_depth=40, max_features=auto, min_samples_leaf=8, min_samples_split=5, n_estimators=100; total time=   0.9s\n",
      "[CV] END max_depth=40, max_features=auto, min_samples_leaf=12, min_samples_split=5, n_estimators=200; total time=   1.5s\n",
      "[CV] END max_depth=60, max_features=sqrt, min_samples_leaf=4, min_samples_split=10, n_estimators=50; total time=   0.1s\n",
      "[CV] END max_depth=40, max_features=auto, min_samples_leaf=8, min_samples_split=10, n_estimators=50; total time=   0.4s\n",
      "[CV] END max_depth=50, max_features=auto, min_samples_leaf=12, min_samples_split=10, n_estimators=50; total time=   0.4s\n",
      "[CV] END max_depth=40, max_features=sqrt, min_samples_leaf=12, min_samples_split=10, n_estimators=100; total time=   0.2s\n",
      "[CV] END max_depth=50, max_features=auto, min_samples_leaf=12, min_samples_split=5, n_estimators=100; total time=   0.8s\n",
      "[CV] END max_depth=60, max_features=sqrt, min_samples_leaf=12, min_samples_split=10, n_estimators=200; total time=   0.4s\n",
      "[CV] END max_depth=40, max_features=auto, min_samples_leaf=4, min_samples_split=10, n_estimators=50; total time=   0.5s\n",
      "[CV] END max_depth=50, max_features=auto, min_samples_leaf=12, min_samples_split=5, n_estimators=50; total time=   0.4s\n",
      "[CV] END max_depth=50, max_features=sqrt, min_samples_leaf=4, min_samples_split=5, n_estimators=50; total time=   0.1s\n",
      "[CV] END max_depth=60, max_features=auto, min_samples_leaf=8, min_samples_split=5, n_estimators=100; total time=   0.9s\n",
      "[CV] END max_depth=60, max_features=auto, min_samples_leaf=8, min_samples_split=10, n_estimators=200; total time=   1.5s\n"
     ]
    }
   ],
   "source": [
    "# Extract the results from the GridSearchCV object\n",
    "results = pd.DataFrame(best_rf_GS.cv_results_)\n",
    "\n",
    "# Filter the results for the min_samples_leaf hyperparameter\n",
    "min_samples_leaf_results = results[[\"param_min_samples_leaf\", \"mean_test_score\"]]\n",
    "\n",
    "# Convert the min_samples_leaf hyperparameter values to numeric\n",
    "min_samples_leaf_results[\"param_min_samples_leaf\"] = pd.to_numeric(\n",
    "    min_samples_leaf_results[\"param_min_samples_leaf\"]\n",
    ")\n",
    "\n",
    "# Group the results by min_samples_leaf and calculate the mean test score\n",
    "min_samples_leaf_results = min_samples_leaf_results.groupby(\n",
    "    \"param_min_samples_leaf\"\n",
    ").mean()\n",
    "\n",
    "# Reset the index\n",
    "min_samples_leaf_results = min_samples_leaf_results.reset_index()\n",
    "\n",
    "# Use .loc to assign the mean test score to the DataFrame\n",
    "min_samples_leaf_results.loc[:, \"mean_test_score\"] = min_samples_leaf_results[\"mean_test_score\"]\n",
    "\n",
    "# Plot the results as a line plot\n",
    "sns.lineplot(\n",
    "    x=\"param_min_samples_leaf\",\n",
    "    y=\"mean_test_score\",\n",
    "    data=min_samples_leaf_results,\n",
    ")\n",
    "plt.xlabel(\"min_samples_leaf\")\n",
    "plt.ylabel(\"Mean Test Score\")\n",
    "plt.title(\"Tuning of min_samples_leaf\")\n",
    "\n",
    "plt.savefig(\"../pic/min_samples_leaf_tuning.png\", dpi=900)\n",
    "plt.show()\n"
   ]
  },
  {
   "cell_type": "markdown",
   "id": "e81fddbf",
   "metadata": {},
   "source": [
    "## StackingRegressor brings test score up to .927 and training score down to .947"
   ]
  },
  {
   "cell_type": "code",
   "execution_count": 26,
   "id": "887c16dc",
   "metadata": {},
   "outputs": [
    {
     "name": "stdout",
     "output_type": "stream",
     "text": [
      "The training error (MSE) is: 285685746.61138\n",
      "The test     error (MSE) is: 423609991.18574\n",
      "The training R^2 is: 0.94830\n",
      "The test     R^2 is: 0.92846\n"
     ]
    },
    {
     "data": {
      "application/javascript": [
       "\n",
       "            setTimeout(function() {\n",
       "                var nbb_cell_id = 26;\n",
       "                var nbb_unformatted_code = \"\\n\\n\\n\\nfrom sklearn.ensemble import StackingRegressor\\nfrom sklearn.linear_model import Ridge\\nfrom sklearn.svm import SVR\\n\\n# Define the base estimators\\nbase_estimators = [\\n    ('rf', RandomForestRegressor(**best_params, random_state=0)),\\n    ('ridge', Ridge(random_state=0)),\\n    ('svr', SVR(kernel='linear'))\\n]\\n\\n# Create the stacking regressor\\nstacking_regressor = StackingRegressor(estimators=base_estimators, final_estimator=Ridge(random_state=0))\\n\\n# Evaluate the stacking regressor\\nevaluate_model(stacking_regressor, X_train, y_train, X_test, y_test)\";\n",
       "                var nbb_formatted_code = \"from sklearn.ensemble import StackingRegressor\\nfrom sklearn.linear_model import Ridge\\nfrom sklearn.svm import SVR\\n\\n# Define the base estimators\\nbase_estimators = [\\n    (\\\"rf\\\", RandomForestRegressor(**best_params, random_state=0)),\\n    (\\\"ridge\\\", Ridge(random_state=0)),\\n    (\\\"svr\\\", SVR(kernel=\\\"linear\\\")),\\n]\\n\\n# Create the stacking regressor\\nstacking_regressor = StackingRegressor(\\n    estimators=base_estimators, final_estimator=Ridge(random_state=0)\\n)\\n\\n# Evaluate the stacking regressor\\nevaluate_model(stacking_regressor, X_train, y_train, X_test, y_test)\";\n",
       "                var nbb_cells = Jupyter.notebook.get_cells();\n",
       "                for (var i = 0; i < nbb_cells.length; ++i) {\n",
       "                    if (nbb_cells[i].input_prompt_number == nbb_cell_id) {\n",
       "                        if (nbb_cells[i].get_text() == nbb_unformatted_code) {\n",
       "                             nbb_cells[i].set_text(nbb_formatted_code);\n",
       "                        }\n",
       "                        break;\n",
       "                    }\n",
       "                }\n",
       "            }, 500);\n",
       "            "
      ],
      "text/plain": [
       "<IPython.core.display.Javascript object>"
      ]
     },
     "metadata": {},
     "output_type": "display_data"
    }
   ],
   "source": [
    "\n",
    "\n",
    "\n",
    "\n",
    "from sklearn.ensemble import StackingRegressor\n",
    "from sklearn.linear_model import Ridge\n",
    "from sklearn.svm import SVR\n",
    "\n",
    "# Define the base estimators\n",
    "base_estimators = [\n",
    "    ('rf', RandomForestRegressor(**best_params, random_state=0)),\n",
    "    ('ridge', Ridge(random_state=0)),\n",
    "    ('svr', SVR(kernel='linear'))\n",
    "]\n",
    "\n",
    "# Create the stacking regressor\n",
    "stacking_regressor = StackingRegressor(estimators=base_estimators, final_estimator=Ridge(random_state=0))\n",
    "\n",
    "# Evaluate the stacking regressor\n",
    "evaluate_model(stacking_regressor, X_train, y_train, X_test, y_test)\n"
   ]
  },
  {
   "cell_type": "code",
   "execution_count": 27,
   "id": "12346a6f",
   "metadata": {},
   "outputs": [
    {
     "data": {
      "image/png": "[encoded data removed]",
      "text/plain": [
       "<Figure size 576x468 with 3 Axes>"
      ]
     },
     "metadata": {},
     "output_type": "display_data"
    },
    {
     "data": {
      "application/javascript": [
       "\n",
       "            setTimeout(function() {\n",
       "                var nbb_cell_id = 27;\n",
       "                var nbb_unformatted_code = \"# WATERFALL WITH STACKING REGRESSOR\\n\\n# Fit the stacking regressor\\nstacking_regressor.fit(X_train, y_train)\\n\\n# Get the RandomForestRegressor within the stacking regressor\\nrf_stacking = stacking_regressor.named_estimators_['rf']\\n\\n# Create a SHAP explainer for the RandomForest model within the stacking regressor\\nexplainer_stacking = shap.Explainer(rf_stacking, X_train)\\n\\n# Calculate SHAP values for the first instance in the dataset\\ninstance_index = 0\\n\\n# Get the SHAP values for the specified instance in X_train\\nshap_values_instance_stacking = explainer_stacking(X_train.iloc[instance_index : instance_index + 1, :])\\n\\n# Plot the SHAP values as a waterfall plot for the instance\\nshap.plots.waterfall(shap_values_instance_stacking[0])\";\n",
       "                var nbb_formatted_code = \"# WATERFALL WITH STACKING REGRESSOR\\n\\n# Fit the stacking regressor\\nstacking_regressor.fit(X_train, y_train)\\n\\n# Get the RandomForestRegressor within the stacking regressor\\nrf_stacking = stacking_regressor.named_estimators_[\\\"rf\\\"]\\n\\n# Create a SHAP explainer for the RandomForest model within the stacking regressor\\nexplainer_stacking = shap.Explainer(rf_stacking, X_train)\\n\\n# Calculate SHAP values for the first instance in the dataset\\ninstance_index = 0\\n\\n# Get the SHAP values for the specified instance in X_train\\nshap_values_instance_stacking = explainer_stacking(\\n    X_train.iloc[instance_index : instance_index + 1, :]\\n)\\n\\n# Plot the SHAP values as a waterfall plot for the instance\\nshap.plots.waterfall(shap_values_instance_stacking[0])\";\n",
       "                var nbb_cells = Jupyter.notebook.get_cells();\n",
       "                for (var i = 0; i < nbb_cells.length; ++i) {\n",
       "                    if (nbb_cells[i].input_prompt_number == nbb_cell_id) {\n",
       "                        if (nbb_cells[i].get_text() == nbb_unformatted_code) {\n",
       "                             nbb_cells[i].set_text(nbb_formatted_code);\n",
       "                        }\n",
       "                        break;\n",
       "                    }\n",
       "                }\n",
       "            }, 500);\n",
       "            "
      ],
      "text/plain": [
       "<IPython.core.display.Javascript object>"
      ]
     },
     "metadata": {},
     "output_type": "display_data"
    }
   ],
   "source": [
    "# WATERFALL WITH STACKING REGRESSOR\n",
    "\n",
    "# Fit the stacking regressor\n",
    "stacking_regressor.fit(X_train, y_train)\n",
    "\n",
    "# Get the RandomForestRegressor within the stacking regressor\n",
    "rf_stacking = stacking_regressor.named_estimators_['rf']\n",
    "\n",
    "# Create a SHAP explainer for the RandomForest model within the stacking regressor\n",
    "explainer_stacking = shap.Explainer(rf_stacking, X_train)\n",
    "\n",
    "# Calculate SHAP values for the first instance in the dataset\n",
    "instance_index = 0\n",
    "\n",
    "# Get the SHAP values for the specified instance in X_train\n",
    "shap_values_instance_stacking = explainer_stacking(X_train.iloc[instance_index : instance_index + 1, :])\n",
    "\n",
    "# Plot the SHAP values as a waterfall plot for the instance\n",
    "shap.plots.waterfall(shap_values_instance_stacking[0])\n"
   ]
  },
  {
   "cell_type": "code",
   "execution_count": 28,
   "id": "2d3b8f01",
   "metadata": {},
   "outputs": [
    {
     "data": {
      "application/javascript": [
       "\n",
       "            setTimeout(function() {\n",
       "                var nbb_cell_id = 28;\n",
       "                var nbb_unformatted_code = \"# OLD CODE  DELETE\\n\\n# from sklearn.model_selection import RandomizedSearchCV\\n\\n# def find_best_params(X_train, y_train):\\n#     param_grid = {\\n#         'n_estimators': [10, 50, 100, 200],\\n#         'max_depth': [None, 10, 20, 30],\\n#         'min_samples_split': [2, 5, 10],\\n#         'min_samples_leaf': [1, 2, 4],\\n#         'max_features': ['auto', 'sqrt']\\n#     }\\n\\n#     rf = RandomForestRegressor(random_state=0)\\n#     randomized_search = RandomizedSearchCV(estimator=rf, param_distributions=param_grid, n_iter=100, cv=5, n_jobs=-1, verbose=2, scoring='neg_mean_squared_error', random_state=0)\\n\\n#     randomized_search.fit(X_train, y_train)\\n\\n#     return randomized_search.best_params_\\n\\n# best_params = find_best_params(X_train, y_train)\\n# print(\\\"Best parameters found by RandomizedSearchCV:\\\")\\n# print(best_params)\\n\\n# best_rf = RandomForestRegressor(**best_params, random_state=0)\\n# evaluate_model(best_rf, X_train, y_train, X_test, y_test)\";\n",
       "                var nbb_formatted_code = \"# OLD CODE  DELETE\\n\\n# from sklearn.model_selection import RandomizedSearchCV\\n\\n# def find_best_params(X_train, y_train):\\n#     param_grid = {\\n#         'n_estimators': [10, 50, 100, 200],\\n#         'max_depth': [None, 10, 20, 30],\\n#         'min_samples_split': [2, 5, 10],\\n#         'min_samples_leaf': [1, 2, 4],\\n#         'max_features': ['auto', 'sqrt']\\n#     }\\n\\n#     rf = RandomForestRegressor(random_state=0)\\n#     randomized_search = RandomizedSearchCV(estimator=rf, param_distributions=param_grid, n_iter=100, cv=5, n_jobs=-1, verbose=2, scoring='neg_mean_squared_error', random_state=0)\\n\\n#     randomized_search.fit(X_train, y_train)\\n\\n#     return randomized_search.best_params_\\n\\n# best_params = find_best_params(X_train, y_train)\\n# print(\\\"Best parameters found by RandomizedSearchCV:\\\")\\n# print(best_params)\\n\\n# best_rf = RandomForestRegressor(**best_params, random_state=0)\\n# evaluate_model(best_rf, X_train, y_train, X_test, y_test)\";\n",
       "                var nbb_cells = Jupyter.notebook.get_cells();\n",
       "                for (var i = 0; i < nbb_cells.length; ++i) {\n",
       "                    if (nbb_cells[i].input_prompt_number == nbb_cell_id) {\n",
       "                        if (nbb_cells[i].get_text() == nbb_unformatted_code) {\n",
       "                             nbb_cells[i].set_text(nbb_formatted_code);\n",
       "                        }\n",
       "                        break;\n",
       "                    }\n",
       "                }\n",
       "            }, 500);\n",
       "            "
      ],
      "text/plain": [
       "<IPython.core.display.Javascript object>"
      ]
     },
     "metadata": {},
     "output_type": "display_data"
    }
   ],
   "source": [
    "# OLD CODE  DELETE\n",
    "\n",
    "# from sklearn.model_selection import RandomizedSearchCV\n",
    "\n",
    "# def find_best_params(X_train, y_train):\n",
    "#     param_grid = {\n",
    "#         'n_estimators': [10, 50, 100, 200],\n",
    "#         'max_depth': [None, 10, 20, 30],\n",
    "#         'min_samples_split': [2, 5, 10],\n",
    "#         'min_samples_leaf': [1, 2, 4],\n",
    "#         'max_features': ['auto', 'sqrt']\n",
    "#     }\n",
    "\n",
    "#     rf = RandomForestRegressor(random_state=0)\n",
    "#     randomized_search = RandomizedSearchCV(estimator=rf, param_distributions=param_grid, n_iter=100, cv=5, n_jobs=-1, verbose=2, scoring='neg_mean_squared_error', random_state=0)\n",
    "\n",
    "#     randomized_search.fit(X_train, y_train)\n",
    "\n",
    "#     return randomized_search.best_params_\n",
    "\n",
    "# best_params = find_best_params(X_train, y_train)\n",
    "# print(\"Best parameters found by RandomizedSearchCV:\")\n",
    "# print(best_params)\n",
    "\n",
    "# best_rf = RandomForestRegressor(**best_params, random_state=0)\n",
    "# evaluate_model(best_rf, X_train, y_train, X_test, y_test)\n"
   ]
  },
  {
   "cell_type": "markdown",
   "id": "da2d2a7b",
   "metadata": {},
   "source": [
    "# Using Shap to look at the features that contributed the most to the SalePrice"
   ]
  },
  {
   "cell_type": "code",
   "execution_count": 29,
   "id": "6a6e7647",
   "metadata": {},
   "outputs": [
    {
     "data": {
      "image/png": "[encoded data removed]",
      "text/plain": [
       "<Figure size 576x468 with 3 Axes>"
      ]
     },
     "metadata": {},
     "output_type": "display_data"
    },
    {
     "data": {
      "application/javascript": [
       "\n",
       "            setTimeout(function() {\n",
       "                var nbb_cell_id = 29;\n",
       "                var nbb_unformatted_code = \"# Create a SHAP explainer for the RandomForest model\\nexplainer = shap.Explainer(best_rf, X_train)\\n\\n# Calculate SHAP values for the first instance in the dataset\\ninstance_index = 0\\n\\n# Get the SHAP values for the specified instance in X_train\\nshap_values_instance = explainer(X_train.iloc[instance_index : instance_index + 1, :])\\n\\n# Plot the SHAP values as a waterfall plot for the instance\\n# A waterfall plot helps visualize the contribution of each feature to the final prediction for the instance\\nshap.plots.waterfall(shap_values_instance[0])\";\n",
       "                var nbb_formatted_code = \"# Create a SHAP explainer for the RandomForest model\\nexplainer = shap.Explainer(best_rf, X_train)\\n\\n# Calculate SHAP values for the first instance in the dataset\\ninstance_index = 0\\n\\n# Get the SHAP values for the specified instance in X_train\\nshap_values_instance = explainer(X_train.iloc[instance_index : instance_index + 1, :])\\n\\n# Plot the SHAP values as a waterfall plot for the instance\\n# A waterfall plot helps visualize the contribution of each feature to the final prediction for the instance\\nshap.plots.waterfall(shap_values_instance[0])\";\n",
       "                var nbb_cells = Jupyter.notebook.get_cells();\n",
       "                for (var i = 0; i < nbb_cells.length; ++i) {\n",
       "                    if (nbb_cells[i].input_prompt_number == nbb_cell_id) {\n",
       "                        if (nbb_cells[i].get_text() == nbb_unformatted_code) {\n",
       "                             nbb_cells[i].set_text(nbb_formatted_code);\n",
       "                        }\n",
       "                        break;\n",
       "                    }\n",
       "                }\n",
       "            }, 500);\n",
       "            "
      ],
      "text/plain": [
       "<IPython.core.display.Javascript object>"
      ]
     },
     "metadata": {},
     "output_type": "display_data"
    }
   ],
   "source": [
    "# Create a SHAP explainer for the RandomForest model\n",
    "explainer = shap.Explainer(best_rf, X_train)\n",
    "\n",
    "# Calculate SHAP values for the first instance in the dataset\n",
    "instance_index = 0\n",
    "\n",
    "# Get the SHAP values for the specified instance in X_train\n",
    "shap_values_instance = explainer(X_train.iloc[instance_index : instance_index + 1, :])\n",
    "\n",
    "# Plot the SHAP values as a waterfall plot for the instance\n",
    "# A waterfall plot helps visualize the contribution of each feature to the final prediction for the instance\n",
    "shap.plots.waterfall(shap_values_instance[0])"
   ]
  },
  {
   "cell_type": "markdown",
   "id": "f907dd75",
   "metadata": {},
   "source": [
    "## SHAP for total bathrooms"
   ]
  },
  {
   "cell_type": "code",
   "execution_count": 30,
   "id": "a6b1776b",
   "metadata": {
    "scrolled": false
   },
   "outputs": [
    {
     "name": "stderr",
     "output_type": "stream",
     "text": [
      " 99%|===================| 2026/2046 [00:53<00:00]        "
     ]
    },
    {
     "data": {
      "image/png": "[encoded data removed]",
      "text/plain": [
       "<Figure size 540x360 with 3 Axes>"
      ]
     },
     "metadata": {
      "needs_background": "light"
     },
     "output_type": "display_data"
    },
    {
     "data": {
      "application/javascript": [
       "\n",
       "            setTimeout(function() {\n",
       "                var nbb_cell_id = 30;\n",
       "                var nbb_unformatted_code = \"# Looking at the interaction of total bathrooms and total bedrooms\\n\\n# Create a SHAP explainer for the RandomForest model\\nexplainer = shap.Explainer(best_rf, X_train)\\n\\n# Calculate SHAP values for the entire dataset\\nshap_values = explainer(X_train)\\n\\n# Plot the interaction between TotalBath and BedroomAbvGr\\nshap.plots.scatter(shap_values[:, \\\"TotalBath\\\"], color=shap_values[:, \\\"BedroomAbvGr\\\"])\\n\\nplt.show()\";\n",
       "                var nbb_formatted_code = \"# Looking at the interaction of total bathrooms and total bedrooms\\n\\n# Create a SHAP explainer for the RandomForest model\\nexplainer = shap.Explainer(best_rf, X_train)\\n\\n# Calculate SHAP values for the entire dataset\\nshap_values = explainer(X_train)\\n\\n# Plot the interaction between TotalBath and BedroomAbvGr\\nshap.plots.scatter(shap_values[:, \\\"TotalBath\\\"], color=shap_values[:, \\\"BedroomAbvGr\\\"])\\n\\nplt.show()\";\n",
       "                var nbb_cells = Jupyter.notebook.get_cells();\n",
       "                for (var i = 0; i < nbb_cells.length; ++i) {\n",
       "                    if (nbb_cells[i].input_prompt_number == nbb_cell_id) {\n",
       "                        if (nbb_cells[i].get_text() == nbb_unformatted_code) {\n",
       "                             nbb_cells[i].set_text(nbb_formatted_code);\n",
       "                        }\n",
       "                        break;\n",
       "                    }\n",
       "                }\n",
       "            }, 500);\n",
       "            "
      ],
      "text/plain": [
       "<IPython.core.display.Javascript object>"
      ]
     },
     "metadata": {},
     "output_type": "display_data"
    }
   ],
   "source": [
    "# Looking at the interaction of total bathrooms and total bedrooms\n",
    "\n",
    "# Create a SHAP explainer for the RandomForest model\n",
    "explainer = shap.Explainer(best_rf, X_train)\n",
    "\n",
    "# Calculate SHAP values for the entire dataset\n",
    "shap_values = explainer(X_train)\n",
    "\n",
    "# Plot the interaction between TotalBath and BedroomAbvGr\n",
    "shap.plots.scatter(shap_values[:, \"TotalBath\"], color=shap_values[:, \"BedroomAbvGr\"])\n",
    "\n",
    "plt.show()"
   ]
  },
  {
   "cell_type": "markdown",
   "id": "ca16a7b8",
   "metadata": {},
   "source": [
    "It looks like there are a few plots where the value in TotalBath contributes to more than $10,0000\n",
    "of the saleprice"
   ]
  },
  {
   "cell_type": "code",
   "execution_count": 31,
   "id": "c4727dfe",
   "metadata": {},
   "outputs": [
    {
     "name": "stdout",
     "output_type": "stream",
     "text": [
      "Indices of observations with high SHAP values for TotalBath: []\n"
     ]
    },
    {
     "data": {
      "application/javascript": [
       "\n",
       "            setTimeout(function() {\n",
       "                var nbb_cell_id = 31;\n",
       "                var nbb_unformatted_code = \"# Finding indices of observations with a SHAP value for TotalBath greater than 10000\\nhigh_shap_indices = np.where(shap_values[:, X_train.columns.get_loc(\\\"TotalBath\\\")].values > 10000)[0]\\n\\nprint(\\\"Indices of observations with high SHAP values for TotalBath:\\\", high_shap_indices)\";\n",
       "                var nbb_formatted_code = \"# Finding indices of observations with a SHAP value for TotalBath greater than 10000\\nhigh_shap_indices = np.where(\\n    shap_values[:, X_train.columns.get_loc(\\\"TotalBath\\\")].values > 10000\\n)[0]\\n\\nprint(\\\"Indices of observations with high SHAP values for TotalBath:\\\", high_shap_indices)\";\n",
       "                var nbb_cells = Jupyter.notebook.get_cells();\n",
       "                for (var i = 0; i < nbb_cells.length; ++i) {\n",
       "                    if (nbb_cells[i].input_prompt_number == nbb_cell_id) {\n",
       "                        if (nbb_cells[i].get_text() == nbb_unformatted_code) {\n",
       "                             nbb_cells[i].set_text(nbb_formatted_code);\n",
       "                        }\n",
       "                        break;\n",
       "                    }\n",
       "                }\n",
       "            }, 500);\n",
       "            "
      ],
      "text/plain": [
       "<IPython.core.display.Javascript object>"
      ]
     },
     "metadata": {},
     "output_type": "display_data"
    }
   ],
   "source": [
    "# Finding indices of observations with a SHAP value for TotalBath greater than 10000\n",
    "high_shap_indices = np.where(shap_values[:, X_train.columns.get_loc(\"TotalBath\")].values > 10000)[0]\n",
    "\n",
    "print(\"Indices of observations with high SHAP values for TotalBath:\", high_shap_indices)\n"
   ]
  },
  {
   "cell_type": "code",
   "execution_count": 32,
   "id": "906c0f8f",
   "metadata": {
    "scrolled": false
   },
   "outputs": [
    {
     "data": {
      "application/javascript": [
       "\n",
       "            setTimeout(function() {\n",
       "                var nbb_cell_id = 32;\n",
       "                var nbb_unformatted_code = \"# Plot the SHAP values as a waterfall plot for each high-value observation\\nfor index in high_shap_indices:\\n    shap_values_instance = explainer(X_train.iloc[index:index + 1, :])\\n    shap.plots.waterfall(shap_values_instance[0])\\n    plt.show()\";\n",
       "                var nbb_formatted_code = \"# Plot the SHAP values as a waterfall plot for each high-value observation\\nfor index in high_shap_indices:\\n    shap_values_instance = explainer(X_train.iloc[index : index + 1, :])\\n    shap.plots.waterfall(shap_values_instance[0])\\n    plt.show()\";\n",
       "                var nbb_cells = Jupyter.notebook.get_cells();\n",
       "                for (var i = 0; i < nbb_cells.length; ++i) {\n",
       "                    if (nbb_cells[i].input_prompt_number == nbb_cell_id) {\n",
       "                        if (nbb_cells[i].get_text() == nbb_unformatted_code) {\n",
       "                             nbb_cells[i].set_text(nbb_formatted_code);\n",
       "                        }\n",
       "                        break;\n",
       "                    }\n",
       "                }\n",
       "            }, 500);\n",
       "            "
      ],
      "text/plain": [
       "<IPython.core.display.Javascript object>"
      ]
     },
     "metadata": {},
     "output_type": "display_data"
    }
   ],
   "source": [
    "# Plot the SHAP values as a waterfall plot for each high-value observation\n",
    "for index in high_shap_indices:\n",
    "    shap_values_instance = explainer(X_train.iloc[index:index + 1, :])\n",
    "    shap.plots.waterfall(shap_values_instance[0])\n",
    "    plt.show()\n"
   ]
  },
  {
   "cell_type": "code",
   "execution_count": 33,
   "id": "c9bb2531",
   "metadata": {},
   "outputs": [
    {
     "name": "stderr",
     "output_type": "stream",
     "text": [
      " 99%|===================| 2017/2046 [00:53<00:00]        "
     ]
    },
    {
     "data": {
      "image/png": "[encoded data removed]",
      "text/plain": [
       "<Figure size 576x684 with 2 Axes>"
      ]
     },
     "metadata": {
      "needs_background": "light"
     },
     "output_type": "display_data"
    },
    {
     "data": {
      "application/javascript": [
       "\n",
       "            setTimeout(function() {\n",
       "                var nbb_cell_id = 33;\n",
       "                var nbb_unformatted_code = \"# Calculate SHAP values for the entire dataset\\nshap_values = explainer(X_train)\\n\\n# Get the base value (expected value) from the explainer\\nbase_value = shap_values.base_values\\n\\n# Set the expected_value attribute for the SHAP values\\nshap_values.expected_value = base_value\\n\\n# Plot the SHAP violin plot for all features\\nshap.plots.violin(shap_values)\";\n",
       "                var nbb_formatted_code = \"# Calculate SHAP values for the entire dataset\\nshap_values = explainer(X_train)\\n\\n# Get the base value (expected value) from the explainer\\nbase_value = shap_values.base_values\\n\\n# Set the expected_value attribute for the SHAP values\\nshap_values.expected_value = base_value\\n\\n# Plot the SHAP violin plot for all features\\nshap.plots.violin(shap_values)\";\n",
       "                var nbb_cells = Jupyter.notebook.get_cells();\n",
       "                for (var i = 0; i < nbb_cells.length; ++i) {\n",
       "                    if (nbb_cells[i].input_prompt_number == nbb_cell_id) {\n",
       "                        if (nbb_cells[i].get_text() == nbb_unformatted_code) {\n",
       "                             nbb_cells[i].set_text(nbb_formatted_code);\n",
       "                        }\n",
       "                        break;\n",
       "                    }\n",
       "                }\n",
       "            }, 500);\n",
       "            "
      ],
      "text/plain": [
       "<IPython.core.display.Javascript object>"
      ]
     },
     "metadata": {},
     "output_type": "display_data"
    }
   ],
   "source": [
    "# Calculate SHAP values for the entire dataset\n",
    "shap_values = explainer(X_train)\n",
    "\n",
    "# Get the base value (expected value) from the explainer\n",
    "base_value = shap_values.base_values\n",
    "\n",
    "# Set the expected_value attribute for the SHAP values\n",
    "shap_values.expected_value = base_value\n",
    "\n",
    "# Plot the SHAP violin plot for all features\n",
    "shap.plots.violin(shap_values)\n",
    "\n"
   ]
  },
  {
   "cell_type": "code",
   "execution_count": 34,
   "id": "97670b66",
   "metadata": {},
   "outputs": [
    {
     "data": {
      "image/png": "[encoded data removed]",
      "text/plain": [
       "<Figure size 576x468 with 1 Axes>"
      ]
     },
     "metadata": {},
     "output_type": "display_data"
    },
    {
     "data": {
      "application/javascript": [
       "\n",
       "            setTimeout(function() {\n",
       "                var nbb_cell_id = 34;\n",
       "                var nbb_unformatted_code = \"shap.plots.bar(shap_values)\";\n",
       "                var nbb_formatted_code = \"shap.plots.bar(shap_values)\";\n",
       "                var nbb_cells = Jupyter.notebook.get_cells();\n",
       "                for (var i = 0; i < nbb_cells.length; ++i) {\n",
       "                    if (nbb_cells[i].input_prompt_number == nbb_cell_id) {\n",
       "                        if (nbb_cells[i].get_text() == nbb_unformatted_code) {\n",
       "                             nbb_cells[i].set_text(nbb_formatted_code);\n",
       "                        }\n",
       "                        break;\n",
       "                    }\n",
       "                }\n",
       "            }, 500);\n",
       "            "
      ],
      "text/plain": [
       "<IPython.core.display.Javascript object>"
      ]
     },
     "metadata": {},
     "output_type": "display_data"
    }
   ],
   "source": [
    "shap.plots.bar(shap_values)"
   ]
  },
  {
   "cell_type": "code",
   "execution_count": 35,
   "id": "87311323",
   "metadata": {},
   "outputs": [
    {
     "data": {
      "image/png": "[encoded data removed]",
      "text/plain": [
       "<Figure size 576x396 with 2 Axes>"
      ]
     },
     "metadata": {
      "needs_background": "light"
     },
     "output_type": "display_data"
    },
    {
     "data": {
      "application/javascript": [
       "\n",
       "            setTimeout(function() {\n",
       "                var nbb_cell_id = 35;\n",
       "                var nbb_unformatted_code = \"shap.plots.beeswarm(shap_values)\";\n",
       "                var nbb_formatted_code = \"shap.plots.beeswarm(shap_values)\";\n",
       "                var nbb_cells = Jupyter.notebook.get_cells();\n",
       "                for (var i = 0; i < nbb_cells.length; ++i) {\n",
       "                    if (nbb_cells[i].input_prompt_number == nbb_cell_id) {\n",
       "                        if (nbb_cells[i].get_text() == nbb_unformatted_code) {\n",
       "                             nbb_cells[i].set_text(nbb_formatted_code);\n",
       "                        }\n",
       "                        break;\n",
       "                    }\n",
       "                }\n",
       "            }, 500);\n",
       "            "
      ],
      "text/plain": [
       "<IPython.core.display.Javascript object>"
      ]
     },
     "metadata": {},
     "output_type": "display_data"
    }
   ],
   "source": [
    "shap.plots.beeswarm(shap_values)"
   ]
  },
  {
   "cell_type": "markdown",
   "id": "2f595c91",
   "metadata": {},
   "source": [
    "Using the explainer that was created above I will now try to answer a few questions"
   ]
  },
  {
   "cell_type": "markdown",
   "id": "8f748044",
   "metadata": {},
   "source": [
    "## SHAP for KitchQual"
   ]
  },
  {
   "cell_type": "code",
   "execution_count": 36,
   "id": "a2c070c9",
   "metadata": {},
   "outputs": [
    {
     "name": "stderr",
     "output_type": "stream",
     "text": [
      " 99%|===================| 2027/2046 [00:53<00:00]        "
     ]
    },
    {
     "data": {
      "image/png": "[encoded data removed]",
      "text/plain": [
       "<Figure size 432x360 with 2 Axes>"
      ]
     },
     "metadata": {
      "needs_background": "light"
     },
     "output_type": "display_data"
    },
    {
     "data": {
      "application/javascript": [
       "\n",
       "            setTimeout(function() {\n",
       "                var nbb_cell_id = 36;\n",
       "                var nbb_unformatted_code = \"# Looking at how KitchenQual variables affect Shap Values\\n\\n# Create a SHAP explainer for the RandomForest model\\nexplainer = shap.Explainer(best_rf, X_train)\\n\\n# Calculate SHAP values for the entire dataset\\nshap_values = explainer(X_train)\\n\\n# Plot the interaction ShapValues of KitchenQual\\nshap.plots.scatter(shap_values[:, \\\"KitchenQual\\\"])\\n\\nplt.show()\";\n",
       "                var nbb_formatted_code = \"# Looking at how KitchenQual variables affect Shap Values\\n\\n# Create a SHAP explainer for the RandomForest model\\nexplainer = shap.Explainer(best_rf, X_train)\\n\\n# Calculate SHAP values for the entire dataset\\nshap_values = explainer(X_train)\\n\\n# Plot the interaction ShapValues of KitchenQual\\nshap.plots.scatter(shap_values[:, \\\"KitchenQual\\\"])\\n\\nplt.show()\";\n",
       "                var nbb_cells = Jupyter.notebook.get_cells();\n",
       "                for (var i = 0; i < nbb_cells.length; ++i) {\n",
       "                    if (nbb_cells[i].input_prompt_number == nbb_cell_id) {\n",
       "                        if (nbb_cells[i].get_text() == nbb_unformatted_code) {\n",
       "                             nbb_cells[i].set_text(nbb_formatted_code);\n",
       "                        }\n",
       "                        break;\n",
       "                    }\n",
       "                }\n",
       "            }, 500);\n",
       "            "
      ],
      "text/plain": [
       "<IPython.core.display.Javascript object>"
      ]
     },
     "metadata": {},
     "output_type": "display_data"
    }
   ],
   "source": [
    "# Looking at how KitchenQual variables affect Shap Values\n",
    "\n",
    "# Create a SHAP explainer for the RandomForest model\n",
    "explainer = shap.Explainer(best_rf, X_train)\n",
    "\n",
    "# Calculate SHAP values for the entire dataset\n",
    "shap_values = explainer(X_train)\n",
    "\n",
    "# Plot the interaction ShapValues of KitchenQual\n",
    "shap.plots.scatter(shap_values[:, \"KitchenQual\"])\n",
    "\n",
    "plt.show()"
   ]
  },
  {
   "cell_type": "code",
   "execution_count": 49,
   "id": "565c9b06",
   "metadata": {},
   "outputs": [
    {
     "name": "stderr",
     "output_type": "stream",
     "text": [
      " 99%|===================| 2028/2046 [00:53<00:00]        "
     ]
    },
    {
     "data": {
      "image/png": "[encoded data removed]",
      "text/plain": [
       "<Figure size 1080x648 with 1 Axes>"
      ]
     },
     "metadata": {
      "needs_background": "light"
     },
     "output_type": "display_data"
    },
    {
     "data": {
      "application/javascript": [
       "\n",
       "            setTimeout(function() {\n",
       "                var nbb_cell_id = 49;\n",
       "                var nbb_unformatted_code = \"# Different plot showing range in values for Kitchen Quality\\n\\n\\n# Create a SHAP explainer for the RandomForest model\\nexplainer = shap.Explainer(best_rf, X_train)\\n\\n# Calculate SHAP values for the entire dataset\\nshap_values = explainer(X_train)\\n\\n# Data preparation for plotting\\nkitchen_qual_labels = [\\\"Poor(0)\\\", \\\"Fair(1)\\\", \\\"Typical/Average(2)\\\", \\\"Good(3)\\\", \\\"Excellent(4)\\\"]\\nshap_values_df_labels = shap_values[:, \\\"KitchenQual\\\"].values\\nshap_values_df_labels = pd.DataFrame({\\\"KitchenQual\\\": X_train[\\\"KitchenQual\\\"], \\\"value\\\": shap_values_df_labels})\\nshap_values_df_labels[\\\"KitchenQual\\\"] = shap_values_df_labels[\\\"KitchenQual\\\"].map({i: kitchen_qual_labels[i] for i in range(5)})\\n\\n# Scatter Plot\\nplt.figure(figsize=(15, 9))\\nscatter_plot = sns.scatterplot(data=shap_values_df_labels, x=\\\"KitchenQual\\\", y=\\\"value\\\", hue=\\\"KitchenQual\\\", palette=\\\"coolwarm\\\", legend=None)\\nplt.title(\\\"SHAP Values vs KitchenQual\\\")\\nplt.xlabel(\\\"Kitchen Quality\\\")\\nplt.ylabel(\\\"SHAP Values\\\")\\nplt.xticks(range(5), kitchen_qual_labels)\\nplt.show()\";\n",
       "                var nbb_formatted_code = \"# Different plot showing range in values for Kitchen Quality\\n\\n\\n# Create a SHAP explainer for the RandomForest model\\nexplainer = shap.Explainer(best_rf, X_train)\\n\\n# Calculate SHAP values for the entire dataset\\nshap_values = explainer(X_train)\\n\\n# Data preparation for plotting\\nkitchen_qual_labels = [\\n    \\\"Poor(0)\\\",\\n    \\\"Fair(1)\\\",\\n    \\\"Typical/Average(2)\\\",\\n    \\\"Good(3)\\\",\\n    \\\"Excellent(4)\\\",\\n]\\nshap_values_df_labels = shap_values[:, \\\"KitchenQual\\\"].values\\nshap_values_df_labels = pd.DataFrame(\\n    {\\\"KitchenQual\\\": X_train[\\\"KitchenQual\\\"], \\\"value\\\": shap_values_df_labels}\\n)\\nshap_values_df_labels[\\\"KitchenQual\\\"] = shap_values_df_labels[\\\"KitchenQual\\\"].map(\\n    {i: kitchen_qual_labels[i] for i in range(5)}\\n)\\n\\n# Scatter Plot\\nplt.figure(figsize=(15, 9))\\nscatter_plot = sns.scatterplot(\\n    data=shap_values_df_labels,\\n    x=\\\"KitchenQual\\\",\\n    y=\\\"value\\\",\\n    hue=\\\"KitchenQual\\\",\\n    palette=\\\"coolwarm\\\",\\n    legend=None,\\n)\\nplt.title(\\\"SHAP Values vs KitchenQual\\\")\\nplt.xlabel(\\\"Kitchen Quality\\\")\\nplt.ylabel(\\\"SHAP Values\\\")\\nplt.xticks(range(5), kitchen_qual_labels)\\nplt.show()\";\n",
       "                var nbb_cells = Jupyter.notebook.get_cells();\n",
       "                for (var i = 0; i < nbb_cells.length; ++i) {\n",
       "                    if (nbb_cells[i].input_prompt_number == nbb_cell_id) {\n",
       "                        if (nbb_cells[i].get_text() == nbb_unformatted_code) {\n",
       "                             nbb_cells[i].set_text(nbb_formatted_code);\n",
       "                        }\n",
       "                        break;\n",
       "                    }\n",
       "                }\n",
       "            }, 500);\n",
       "            "
      ],
      "text/plain": [
       "<IPython.core.display.Javascript object>"
      ]
     },
     "metadata": {},
     "output_type": "display_data"
    }
   ],
   "source": [
    "# Different plot showing range in values for Kitchen Quality\n",
    "\n",
    "\n",
    "# Create a SHAP explainer for the RandomForest model\n",
    "explainer = shap.Explainer(best_rf, X_train)\n",
    "\n",
    "# Calculate SHAP values for the entire dataset\n",
    "shap_values = explainer(X_train)\n",
    "\n",
    "# Data preparation for plotting\n",
    "kitchen_qual_labels = [\"Poor(0)\", \"Fair(1)\", \"Typical/Average(2)\", \"Good(3)\", \"Excellent(4)\"]\n",
    "shap_values_df_labels = shap_values[:, \"KitchenQual\"].values\n",
    "shap_values_df_labels = pd.DataFrame({\"KitchenQual\": X_train[\"KitchenQual\"], \"value\": shap_values_df_labels})\n",
    "shap_values_df_labels[\"KitchenQual\"] = shap_values_df_labels[\"KitchenQual\"].map({i: kitchen_qual_labels[i] for i in range(5)})\n",
    "\n",
    "# Scatter Plot\n",
    "plt.figure(figsize=(15, 9))\n",
    "scatter_plot = sns.scatterplot(data=shap_values_df_labels, x=\"KitchenQual\", y=\"value\", hue=\"KitchenQual\", palette=\"coolwarm\", legend=None)\n",
    "plt.title(\"SHAP Values vs KitchenQual\")\n",
    "plt.xlabel(\"Kitchen Quality\")\n",
    "plt.ylabel(\"SHAP Values\")\n",
    "plt.xticks(range(5), kitchen_qual_labels)\n",
    "plt.show()\n"
   ]
  },
  {
   "cell_type": "code",
   "execution_count": 50,
   "id": "36fa887e",
   "metadata": {
    "scrolled": true
   },
   "outputs": [
    {
     "data": {
      "text/plain": [
       "Index(['MSZoning', 'LotFrontage', 'LotArea', 'Street', 'Alley', 'LotShape',\n",
       "       'LandContour', 'Utilities', 'LotConfig', 'LandSlope', 'Neighborhood',\n",
       "       'Condition1', 'Condition2', 'BldgType', 'HouseStyle', 'OverallQual',\n",
       "       'OverallCond', 'RoofStyle', 'RoofMatl', 'Exterior1st', 'Exterior2nd',\n",
       "       'MasVnrType', 'MasVnrArea', 'ExterCond', 'Foundation', 'BsmtQual',\n",
       "       'BsmtCond', 'BsmtExposure', 'BsmtFinSF1', 'BsmtFinSF2', 'BsmtUnfSF',\n",
       "       'Heating', 'HeatingQC', 'CentralAir', 'Electrical', 'BsmtFullBath',\n",
       "       'BsmtHalfBath', 'HalfBath', 'BedroomAbvGr', 'KitchenAbvGr',\n",
       "       'KitchenQual', 'TotRmsAbvGrd', 'Functional', 'Fireplaces', 'GarageType',\n",
       "       'GarageFinish', 'GarageCars', 'GarageQual', 'PavedDrive', 'Fence',\n",
       "       'MoSold', 'YrSold', 'SaleType', 'SaleCondition', 'Age', 'RemodAge',\n",
       "       'TotalSF', 'Remodeled', 'TotalBath', 'MSSubClass_cat', 'Street_type',\n",
       "       'TotalOutdoorSF'],\n",
       "      dtype='object')"
      ]
     },
     "execution_count": 50,
     "metadata": {},
     "output_type": "execute_result"
    },
    {
     "data": {
      "application/javascript": [
       "\n",
       "            setTimeout(function() {\n",
       "                var nbb_cell_id = 50;\n",
       "                var nbb_unformatted_code = \"X_train.columns\";\n",
       "                var nbb_formatted_code = \"X_train.columns\";\n",
       "                var nbb_cells = Jupyter.notebook.get_cells();\n",
       "                for (var i = 0; i < nbb_cells.length; ++i) {\n",
       "                    if (nbb_cells[i].input_prompt_number == nbb_cell_id) {\n",
       "                        if (nbb_cells[i].get_text() == nbb_unformatted_code) {\n",
       "                             nbb_cells[i].set_text(nbb_formatted_code);\n",
       "                        }\n",
       "                        break;\n",
       "                    }\n",
       "                }\n",
       "            }, 500);\n",
       "            "
      ],
      "text/plain": [
       "<IPython.core.display.Javascript object>"
      ]
     },
     "metadata": {},
     "output_type": "display_data"
    }
   ],
   "source": [
    "X_train.columns"
   ]
  },
  {
   "cell_type": "markdown",
   "id": "51efe030",
   "metadata": {},
   "source": [
    "# Some houses have more than one Kitchen.  Should we look into this?"
   ]
  },
  {
   "cell_type": "code",
   "execution_count": 51,
   "id": "9eb105b1",
   "metadata": {},
   "outputs": [
    {
     "data": {
      "text/plain": [
       "1    2451\n",
       "2     104\n",
       "0       2\n",
       "3       1\n",
       "Name: KitchenAbvGr, dtype: int64"
      ]
     },
     "execution_count": 51,
     "metadata": {},
     "output_type": "execute_result"
    },
    {
     "data": {
      "application/javascript": [
       "\n",
       "            setTimeout(function() {\n",
       "                var nbb_cell_id = 51;\n",
       "                var nbb_unformatted_code = \"housing[\\\"KitchenAbvGr\\\"].value_counts()\";\n",
       "                var nbb_formatted_code = \"housing[\\\"KitchenAbvGr\\\"].value_counts()\";\n",
       "                var nbb_cells = Jupyter.notebook.get_cells();\n",
       "                for (var i = 0; i < nbb_cells.length; ++i) {\n",
       "                    if (nbb_cells[i].input_prompt_number == nbb_cell_id) {\n",
       "                        if (nbb_cells[i].get_text() == nbb_unformatted_code) {\n",
       "                             nbb_cells[i].set_text(nbb_formatted_code);\n",
       "                        }\n",
       "                        break;\n",
       "                    }\n",
       "                }\n",
       "            }, 500);\n",
       "            "
      ],
      "text/plain": [
       "<IPython.core.display.Javascript object>"
      ]
     },
     "metadata": {},
     "output_type": "display_data"
    }
   ],
   "source": [
    "housing[\"KitchenAbvGr\"].value_counts()"
   ]
  },
  {
   "cell_type": "code",
   "execution_count": 52,
   "id": "9f528678",
   "metadata": {},
   "outputs": [
    {
     "data": {
      "text/plain": [
       "1    1957\n",
       "2      86\n",
       "0       2\n",
       "3       1\n",
       "Name: KitchenAbvGr, dtype: int64"
      ]
     },
     "execution_count": 52,
     "metadata": {},
     "output_type": "execute_result"
    },
    {
     "data": {
      "application/javascript": [
       "\n",
       "            setTimeout(function() {\n",
       "                var nbb_cell_id = 52;\n",
       "                var nbb_unformatted_code = \"X_train[\\\"KitchenAbvGr\\\"].value_counts()\";\n",
       "                var nbb_formatted_code = \"X_train[\\\"KitchenAbvGr\\\"].value_counts()\";\n",
       "                var nbb_cells = Jupyter.notebook.get_cells();\n",
       "                for (var i = 0; i < nbb_cells.length; ++i) {\n",
       "                    if (nbb_cells[i].input_prompt_number == nbb_cell_id) {\n",
       "                        if (nbb_cells[i].get_text() == nbb_unformatted_code) {\n",
       "                             nbb_cells[i].set_text(nbb_formatted_code);\n",
       "                        }\n",
       "                        break;\n",
       "                    }\n",
       "                }\n",
       "            }, 500);\n",
       "            "
      ],
      "text/plain": [
       "<IPython.core.display.Javascript object>"
      ]
     },
     "metadata": {},
     "output_type": "display_data"
    }
   ],
   "source": [
    "X_train[\"KitchenAbvGr\"].value_counts()"
   ]
  },
  {
   "cell_type": "markdown",
   "id": "74b5d751",
   "metadata": {},
   "source": [
    "# Looks like Shap values are low for this feature. Im assuming the -1085 is for when there is no kitchen"
   ]
  },
  {
   "cell_type": "code",
   "execution_count": 53,
   "id": "242f4f7c",
   "metadata": {},
   "outputs": [
    {
     "ename": "NameError",
     "evalue": "name 'shap_values_df' is not defined",
     "output_type": "error",
     "traceback": [
      "\u001b[0;31m---------------------------------------------------------------------------\u001b[0m",
      "\u001b[0;31mNameError\u001b[0m                                 Traceback (most recent call last)",
      "Input \u001b[0;32mIn [53]\u001b[0m, in \u001b[0;36m<cell line: 1>\u001b[0;34m()\u001b[0m\n\u001b[0;32m----> 1\u001b[0m \u001b[43mshap_values_df\u001b[49m[\u001b[38;5;124m\"\u001b[39m\u001b[38;5;124mKitchenAbvGr\u001b[39m\u001b[38;5;124m\"\u001b[39m]\u001b[38;5;241m.\u001b[39mdescribe()\n",
      "\u001b[0;31mNameError\u001b[0m: name 'shap_values_df' is not defined"
     ]
    },
    {
     "data": {
      "application/javascript": [
       "\n",
       "            setTimeout(function() {\n",
       "                var nbb_cell_id = 53;\n",
       "                var nbb_unformatted_code = \"shap_values_df[\\\"KitchenAbvGr\\\"].describe()\";\n",
       "                var nbb_formatted_code = \"shap_values_df[\\\"KitchenAbvGr\\\"].describe()\";\n",
       "                var nbb_cells = Jupyter.notebook.get_cells();\n",
       "                for (var i = 0; i < nbb_cells.length; ++i) {\n",
       "                    if (nbb_cells[i].input_prompt_number == nbb_cell_id) {\n",
       "                        if (nbb_cells[i].get_text() == nbb_unformatted_code) {\n",
       "                             nbb_cells[i].set_text(nbb_formatted_code);\n",
       "                        }\n",
       "                        break;\n",
       "                    }\n",
       "                }\n",
       "            }, 500);\n",
       "            "
      ],
      "text/plain": [
       "<IPython.core.display.Javascript object>"
      ]
     },
     "metadata": {},
     "output_type": "display_data"
    }
   ],
   "source": [
    "shap_values_df[\"KitchenAbvGr\"].describe()\n"
   ]
  },
  {
   "cell_type": "code",
   "execution_count": null,
   "id": "577b76ef",
   "metadata": {
    "scrolled": true
   },
   "outputs": [],
   "source": [
    "# Finding indices of observations with a SHAP value for KitchenQual greater than 14000\n",
    "high_shap_indices = np.where(\n",
    "    shap_values[:, X_train.columns.get_loc(\"KitchenQual\")].values > 14000\n",
    ")[0]\n",
    "\n",
    "print(\n",
    "    \"Indices of observations with high SHAP values for KitchenQual:\", high_shap_indices\n",
    ")\n",
    "\n",
    "# Plot the SHAP values as a waterfall plot for each high-value observation\n",
    "for index in high_shap_indices:\n",
    "    shap_values_instance = explainer(X_train.iloc[index : index + 1, :])\n",
    "    shap.plots.waterfall(shap_values_instance[0])\n",
    "    plt.show()"
   ]
  },
  {
   "cell_type": "markdown",
   "id": "6fe59da2",
   "metadata": {},
   "source": [
    "## Did home buyers value a half bathroom in the basement less than in a floor above ground? Was there more of a value on outdoor space in the summer months?"
   ]
  },
  {
   "cell_type": "code",
   "execution_count": null,
   "id": "5e505107",
   "metadata": {
    "scrolled": true
   },
   "outputs": [],
   "source": [
    "# Calculate SHAP values for the entire dataset\n",
    "shap_values = explainer(X_train)\n",
    "\n",
    "# Convert the SHAP values to a DataFrame for easier analysis\n",
    "shap_values_df = pd.DataFrame(shap_values.values, columns=X_train.columns)\n",
    "\n",
    "# Add the 'MoSold' column to the SHAP values DataFrame\n",
    "shap_values_df['MoSold'] = X_train['MoSold'].values\n",
    "\n",
    "# Calculate the average SHAP value for BsmtHalfBath and HalfBath\n",
    "avg_shap_BsmtHalfBath = shap_values_df['BsmtHalfBath'].mean()\n",
    "avg_shap_HalfBath = shap_values_df['HalfBath'].mean()\n",
    "\n",
    "print(\"Average SHAP value for BsmtHalfBath:\", avg_shap_BsmtHalfBath)\n",
    "print(\"Average SHAP value for HalfBath:\", avg_shap_HalfBath)\n",
    "\n",
    "# Define a function to categorize months into summer and non-summer\n",
    "def is_summer(month):\n",
    "    return month in [6, 7, 8]\n",
    "\n",
    "# Create a new column 'IsSummer' in the SHAP values DataFrame\n",
    "shap_values_df['IsSummer'] = shap_values_df['MoSold'].apply(is_summer)\n",
    "\n",
    "# Calculate the average SHAP value for TotalOutdoorSF in summer and non-summer months\n",
    "avg_shap_TotalOutdoorSF_summer = shap_values_df.loc[shap_values_df['IsSummer'], 'TotalOutdoorSF'].mean()\n",
    "avg_shap_TotalOutdoorSF_non_summer = shap_values_df.loc[~shap_values_df['IsSummer'], 'TotalOutdoorSF'].mean()\n",
    "\n",
    "print(\"Average SHAP value for TotalOutdoorSF in summer months:\", avg_shap_TotalOutdoorSF_summer)\n",
    "print(\"Average SHAP value for TotalOutdoorSF in non-summer months:\", avg_shap_TotalOutdoorSF_non_summer)\n"
   ]
  },
  {
   "cell_type": "markdown",
   "id": "d547884a",
   "metadata": {},
   "source": [
    "The above negative numbers means something was done wrong.  Maybe TotalOutdoorSF and the half baths should be a binary of yes or no?"
   ]
  },
  {
   "cell_type": "markdown",
   "id": "e8455c0d",
   "metadata": {},
   "source": [
    "### Im going to look into a few other shap values.  Now that there I have the dataframe (shap_values_df) of shap values i can explore the values more"
   ]
  },
  {
   "cell_type": "code",
   "execution_count": null,
   "id": "2737cc31",
   "metadata": {},
   "outputs": [],
   "source": [
    "# Adding the original values as a column to the dataframe of shap values which will allow me to \n",
    "# look at the average shap values for differen values in the Totalbath column\n",
    "shap_values_df['TotalBath_values'] = X_train['TotalBath'].values\n",
    "\n",
    "for i in range(1, 7):\n",
    "    avg_shap_TotalBath = shap_values_df.loc[shap_values_df['TotalBath_values'] == i, 'TotalBath'].mean()\n",
    "    print(f\"Average SHAP value for TotalBath {i}: {avg_shap_TotalBath}\")\n",
    "\n",
    "# Drop the 'TotalBath_values' column\n",
    "shap_values_df.drop(columns=['TotalBath_values'], inplace=True)\n"
   ]
  },
  {
   "cell_type": "markdown",
   "id": "ae410557",
   "metadata": {},
   "source": [
    "The numbers for the totalbath look more promising.  Im assuming there is a negative shap value for 1 and 2 bathrooms because the house is large(with a lot of bedrooms) and there needs to be a higher amount of bathrooms\n",
    "to handle the extra loads!"
   ]
  },
  {
   "cell_type": "code",
   "execution_count": null,
   "id": "e64895cb",
   "metadata": {},
   "outputs": [],
   "source": [
    "\n",
    "# Im doing the same thing to look at the average shap values for a house remodeled and not remodeled\n",
    "shap_values_df['Remodeled_values'] = X_train['Remodeled'].values\n",
    "\n",
    "for i in [0, 1]:\n",
    "    avg_shap_Remodeled = shap_values_df.loc[shap_values_df['Remodeled_values'] == i, 'Remodeled'].mean()\n",
    "    print(f\"Average SHAP value for Remodeled {i}: {avg_shap_Remodeled}\")\n",
    "\n",
    "# Drop the 'Remodeled_values' column\n",
    "shap_values_df.drop(columns=['Remodeled_values'], inplace=True)\n"
   ]
  },
  {
   "cell_type": "markdown",
   "id": "9647d40a",
   "metadata": {},
   "source": [
    "Not much of a difference here.  This might be because we are looking at the average of all of the observations instead of just looking at similiar properties. For example, is there much of a difference in sale price when \n",
    "most of the other features are similiar and the homes were built around the same time?"
   ]
  },
  {
   "cell_type": "code",
   "execution_count": null,
   "id": "43747050",
   "metadata": {},
   "outputs": [],
   "source": [
    "# I'm now doing the same thing with functional value\n",
    "shap_values_df['Functional_values'] = X_train['Functional'].values\n",
    "unique_functional_values = X_train['Functional'].unique()\n",
    "\n",
    "for value in unique_functional_values:\n",
    "    avg_shap_Functional = shap_values_df.loc[shap_values_df['Functional_values'] == value, 'Functional'].mean()\n",
    "    print(f\"Average SHAP value for Functional '{value}': {avg_shap_Functional}\")\n",
    "\n",
    "# Drop the 'Functional_values' column\n",
    "shap_values_df.drop(columns=['Functional_values'], inplace=True)\n"
   ]
  },
  {
   "cell_type": "markdown",
   "id": "1a5d00a8",
   "metadata": {},
   "source": [
    "## The house value decreases a lot when the functionality is zero which should be a house that is Salvage only as defined below\n",
    "Functional (Ordinal): Home functionality (Assume typical unless deductions are warranted)\n",
    "\n",
    "       Typ\tTypical Functionality\n",
    "       Min1\tMinor Deductions 1\n",
    "       Min2\tMinor Deductions 2\n",
    "       Mod\tModerate Deductions\n",
    "       Maj1\tMajor Deductions 1\n",
    "       Maj2\tMajor Deductions 2\n",
    "       Sev\tSeverely Damaged\n",
    "       Sal\tSalvage only"
   ]
  },
  {
   "cell_type": "markdown",
   "id": "7e2192fc",
   "metadata": {},
   "source": [
    "Odd that there is only 7 values in my dataset even though the dictionary that came with the dataset shows 8 different variables.  Ill look at the original dataset to explore further"
   ]
  },
  {
   "cell_type": "code",
   "execution_count": null,
   "id": "8d20a57d",
   "metadata": {},
   "outputs": [],
   "source": [
    "# Loading original dataframe\n",
    "df = pd.read_csv(\"../data/housing_cleaned.csv\")\n",
    "# Printing values for functional column\n",
    "df[\"Functional\"].value_counts()"
   ]
  },
  {
   "cell_type": "markdown",
   "id": "912e4fe6",
   "metadata": {},
   "source": [
    "Looks like there is no Sev (severly damaged) in the dataset.  It also looks like there is only one Sal(Salvage only) so if the test train is split differently it wouldnt show up in this part of the data"
   ]
  },
  {
   "cell_type": "markdown",
   "id": "f0ec6267",
   "metadata": {},
   "source": [
    "## Looking at the average shap value for features (such as if a home was remodeled) doesnt make much sense unless we are looking at similiar properties.  This is where  Cosine similarity is useful...."
   ]
  },
  {
   "cell_type": "markdown",
   "id": "827c06ea",
   "metadata": {},
   "source": [
    "To compare similiar homes I will:\n",
    "\n",
    "1. Choose the features I want to consider for similarity (e.g., TotalSF, OverallQual, YearBuilt).\n",
    "2. Normalize the selected features.\n",
    "3. Calculate the cosine similarity between each pair of homes.\n",
    "4. Find similar homes based on a similarity threshold or by selecting the top N most similar homes.\n",
    "5. Compare the average SHAP values for remodeled and non-remodeled homes within the similar homes group."
   ]
  },
  {
   "cell_type": "code",
   "execution_count": null,
   "id": "ac30f70f",
   "metadata": {},
   "outputs": [],
   "source": [
    "\n",
    "from sklearn.metrics.pairwise import cosine_similarity\n",
    "from sklearn.preprocessing import MinMaxScaler\n",
    "\n",
    "# Reset the indices of X_train and shap_values_df\n",
    "X_train.reset_index(drop=True, inplace=True)\n",
    "shap_values_df.reset_index(drop=True, inplace=True)\n",
    "\n",
    "# Select features to use for similarity\n",
    "features = ['TotalSF', 'Age', 'Neighborhood', 'TotalBath']\n",
    "X_similarity = X_train[features]\n",
    "\n",
    "# Normalize the features\n",
    "scaler = MinMaxScaler()\n",
    "X_normalized = scaler.fit_transform(X_similarity)\n",
    "\n",
    "# Calculate cosine similarity between each pair of homes\n",
    "cosine_sim = cosine_similarity(X_normalized)\n",
    "\n",
    "# Set a similarity threshold or select the top N most similar homes\n",
    "similarity_threshold = 0.95\n",
    "\n",
    "# Add Remodeled column to X_train to filter by remodeled status later\n",
    "X_train['Remodeled'] = X_train['Remodeled'].values\n",
    "\n",
    "# Re-index the shap_values_df DataFrame to match X_train's index\n",
    "# shap_values_df = shap_values_df.loc[X_train.index]\n",
    "\n",
    "# Loop through each home and find similar homes\n",
    "similar_homes = []\n",
    "for index, similarities in enumerate(cosine_sim):\n",
    "    # Get the indices of similar homes\n",
    "    similar_indices = [i for i, sim in enumerate(similarities) if sim >= similarity_threshold and i != index]\n",
    "    \n",
    "    if similar_indices:\n",
    "        # Get the original indices in X_train\n",
    "        similar_original_indices = X_train.iloc[similar_indices].index\n",
    "        # Add the current home index and its similar homes indices\n",
    "        similar_homes.append((X_train.index[index], similar_original_indices))\n",
    "\n",
    "# Calculate the average SHAP values for remodeled and non-remodeled homes within the similar homes group\n",
    "remodeled_shap_values = []\n",
    "non_remodeled_shap_values = []\n",
    "\n",
    "for home, similar_indices in similar_homes:\n",
    "    for idx in similar_indices:\n",
    "        if X_train.loc[idx, 'Remodeled'] == 1:\n",
    "            remodeled_shap_values.append(shap_values_df.loc[idx, 'Remodeled'])\n",
    "        else:\n",
    "            non_remodeled_shap_values.append(shap_values_df.loc[idx, 'Remodeled'])\n",
    "\n",
    "avg_shap_remodeled = sum(remodeled_shap_values) / len(remodeled_shap_values)\n",
    "avg_shap_non_remodeled = sum(non_remodeled_shap_values) / len(non_remodeled_shap_values)\n",
    "\n",
    "print(f\"Average SHAP value for similar remodeled homes: {avg_shap_remodeled}\")\n",
    "print(f\"Average SHAP value for similar non-remodeled homes: {avg_shap_non_remodeled}\")\n"
   ]
  },
  {
   "cell_type": "markdown",
   "id": "a0224363",
   "metadata": {},
   "source": [
    "### It looks like this has very little effect however that is most likely because our model does not give high SHAP values for the binary remodeled feature.  This could be because our model also factors the condition and quality of items that can be remodeled"
   ]
  },
  {
   "cell_type": "markdown",
   "id": "c99b7586",
   "metadata": {},
   "source": [
    "## Going back to the number of bathrooms I will now look at how the SHAP values of KitchenQual changes when looking at the size of a home"
   ]
  },
  {
   "cell_type": "code",
   "execution_count": null,
   "id": "136e81bb",
   "metadata": {
    "scrolled": true
   },
   "outputs": [],
   "source": [
    "# First i want to look at how many larger homes are in the dataset\n",
    "X_train[X_train[\"TotalSF\"] > 3000].count()"
   ]
  },
  {
   "cell_type": "code",
   "execution_count": null,
   "id": "555cb1f7",
   "metadata": {},
   "outputs": [],
   "source": [
    "# Add the 'TotalSf_values' column to the shap_values_df DataFrame\n",
    "shap_values_df['TotalSF_values'] = X_train['TotalSF'].values\n",
    "\n",
    "# Filter the shap_values_df DataFrame based on the 'TotalSf_values' column\n",
    "shap_values_df_filtered = shap_values_df[shap_values_df['TotalSF_values'] > 3000].copy()\n",
    "\n",
    "# Add the 'KitchenQual_values' column to the filtered shap_values_df DataFrame\n",
    "shap_values_df_filtered['KitchenQual_values'] = X_train.loc[shap_values_df_filtered.index, 'KitchenQual'].values\n",
    "\n",
    "# Calculate the average SHAP value for each KitchenQual\n",
    "for i in range(0, 5):\n",
    "    avg_shap_KitchenQual = shap_values_df_filtered.loc[shap_values_df_filtered['KitchenQual_values'] == i, 'KitchenQual'].mean()\n",
    "    print(f\"Average SHAP value for KitchenQual {i}: {avg_shap_KitchenQual}\")\n",
    "\n",
    "# Drop the 'TotalSf_values' and 'TotalBath_values' columns\n",
    "shap_values_df_filtered.drop(columns=['TotalSF_values', 'KitchenQual_values'], inplace=True)\n"
   ]
  },
  {
   "cell_type": "markdown",
   "id": "8afbbec7",
   "metadata": {},
   "source": [
    "Great!  This shows there is an average SHAP penalty of $3,724 in homes over 3000 SF with KitchenQual of 1"
   ]
  },
  {
   "cell_type": "markdown",
   "id": "4d02963d",
   "metadata": {},
   "source": [
    "## It looks like the penalty for having a poor quality kitchen in a smaller home is less which makes sense"
   ]
  },
  {
   "cell_type": "code",
   "execution_count": null,
   "id": "8c48cf64",
   "metadata": {},
   "outputs": [],
   "source": [
    "# Add the 'TotalSf_values' column to the shap_values_df DataFrame\n",
    "shap_values_df[\"TotalSF_values\"] = X_train[\"TotalSF\"].values\n",
    "\n",
    "# Filter the shap_values_df DataFrame based on the 'TotalSf_values' column\n",
    "shap_values_df_filtered = shap_values_df[shap_values_df[\"TotalSF_values\"] < 1500].copy()\n",
    "\n",
    "# Add the 'KitchenQual_values' column to the filtered shap_values_df DataFrame\n",
    "shap_values_df_filtered[\"KitchenQual_values\"] = X_train.loc[\n",
    "    shap_values_df_filtered.index, \"KitchenQual\"\n",
    "].values\n",
    "\n",
    "# Calculate the average SHAP value for each KitchenQual\n",
    "for i in range(0, 5):\n",
    "    avg_shap_KitchenQual = shap_values_df_filtered.loc[\n",
    "        shap_values_df_filtered[\"KitchenQual_values\"] == i, \"KitchenQual\"\n",
    "    ].mean()\n",
    "    print(f\"Average SHAP value for KitchenQual {i}: {avg_shap_KitchenQual}\")\n",
    "\n",
    "# Drop the 'TotalSf_values' and 'TotalBath_values' columns\n",
    "shap_values_df_filtered.drop(\n",
    "    columns=[\"TotalSF_values\", \"KitchenQual_values\"], inplace=True\n",
    ")"
   ]
  },
  {
   "cell_type": "code",
   "execution_count": null,
   "id": "d7d080ee",
   "metadata": {},
   "outputs": [],
   "source": [
    "shap_values_df"
   ]
  },
  {
   "cell_type": "markdown",
   "id": "1eb559fe",
   "metadata": {},
   "source": [
    "# Im now going to look into the 10 observations that have the highest SHAP value in the KitchenQual column.  I will then look at the other features of these 10 observations to find out what is similiar.  "
   ]
  },
  {
   "cell_type": "code",
   "execution_count": null,
   "id": "a8f943c8",
   "metadata": {
    "scrolled": true
   },
   "outputs": [],
   "source": [
    "# First im looking at the value counts of the original dataframe\n",
    "df[\"KitchenQual\"].value_counts()"
   ]
  },
  {
   "cell_type": "code",
   "execution_count": null,
   "id": "0b47bce9",
   "metadata": {},
   "outputs": [],
   "source": [
    "# Looking at the 10 observations where KitchenQual has the largest shap value.  Value range here is\n",
    "# 15,341 - 20,452\n",
    "shap_values_df.nlargest(10, \"KitchenQual\")\n"
   ]
  },
  {
   "cell_type": "markdown",
   "id": "b3adbee7",
   "metadata": {},
   "source": [
    "Looking at the top 10 descriptive stats vs the rest of the dataset"
   ]
  },
  {
   "cell_type": "code",
   "execution_count": null,
   "id": "ad612bf0",
   "metadata": {},
   "outputs": [],
   "source": [
    "# Get the indices of the top 10 observations with the highest SHAP values for \"KitchenQual\"\n",
    "top_10_indices = shap_values_df.nlargest(10, \"KitchenQual\").index\n",
    "\n",
    "# Get the corresponding 10 observations in the X_train DataFrame\n",
    "top_10_observations = X_train.loc[top_10_indices]\n",
    "\n",
    "# Get the descriptive statistics for the top 30 observations\n",
    "top_10_stats = top_10_observations.describe()\n",
    "\n",
    "# Get the descriptive statistics for the rest of the X_train DataFrame\n",
    "rest_of_X_train_stats = X_train.drop(top_10_indices).describe()\n",
    "\n",
    "# Compare the descriptive statistics of both sets of observations\n",
    "comparison = pd.concat([top_10_stats, rest_of_X_train_stats], axis=1, keys=['Top 10', 'Rest of X_train'])\n",
    "\n",
    "comparison\n"
   ]
  },
  {
   "cell_type": "code",
   "execution_count": null,
   "id": "df524860",
   "metadata": {},
   "outputs": [],
   "source": [
    "top_10_stats"
   ]
  },
  {
   "cell_type": "markdown",
   "id": "f7faa590",
   "metadata": {},
   "source": [
    "The 10 observations that are mostly similar are street type, alley, utilities, building type, heating, heating quality, central air, electrical system, and the number of kitchens above grade. \n",
    "\n",
    "The features that are not similiar are lot frontage, lot area, basement finish square footage, mas masonry veneer area, and total outdoor square footage, among other features."
   ]
  },
  {
   "cell_type": "markdown",
   "id": "58d7c44f",
   "metadata": {},
   "source": [
    "## Are the similiar features significant when compared to the rest of the dataset?"
   ]
  },
  {
   "cell_type": "code",
   "execution_count": null,
   "id": "4ce758a6",
   "metadata": {
    "scrolled": true
   },
   "outputs": [],
   "source": [
    "\n",
    "from scipy.stats import ttest_ind\n",
    "\n",
    "# Assuming you have the top 30 observations and the entire X_train data as DataFrames\n",
    "top_10_df = top_10_observations\n",
    "x_train_df = X_train.drop(top_10_indices)\n",
    "\n",
    "# List to store the names of significantly different features\n",
    "significant_features = []\n",
    "\n",
    "# Perform a two-sample t-test for each feature\n",
    "for column in top_10_df.columns:\n",
    "    t_stat, p_value = ttest_ind(top_10_df[column], x_train_df[column])\n",
    "    \n",
    "    # Check for significance (usually a significance level of 0.05 is used)\n",
    "    if p_value < 0.0000005:\n",
    "        significant_features.append(column)\n",
    "\n",
    "# Print the significantly different features\n",
    "print(\"Significantly different features:\")\n",
    "for feature in significant_features:\n",
    "    print(feature)\n"
   ]
  },
  {
   "cell_type": "markdown",
   "id": "55a2dc33",
   "metadata": {},
   "source": [
    "# Looking at the values of the significant in the Top 10 and again at the rest of the dataset"
   ]
  },
  {
   "cell_type": "code",
   "execution_count": null,
   "id": "cc55018e",
   "metadata": {},
   "outputs": [],
   "source": [
    "# List of features I'm interested in\n",
    "features = [\n",
    "    \"LotArea\", \"OverallQual\", \"RoofStyle\", \"MasVnrArea\", \"BsmtFinSF1\",\n",
    "    \"KitchenQual\", \"TotRmsAbvGrd\", \"Fireplaces\", \"GarageCars\",\n",
    "    \"TotalSF\", \"TotalBath\", \"TotalOutdoorSF\"\n",
    "]\n",
    "\n",
    "# Getting the summary statistics for the selected features\n",
    "summary_stats = top_10_observations[features].describe()\n",
    "\n",
    "# Filter only the min, max, and mean rows from the summary statistics\n",
    "summary_stats.loc[[\"min\", \"max\", \"mean\"]]\n",
    "\n"
   ]
  },
  {
   "cell_type": "code",
   "execution_count": null,
   "id": "6733c174",
   "metadata": {},
   "outputs": [],
   "source": [
    "# List of features you're interested in\n",
    "features = [\n",
    "    \"LotArea\", \"OverallQual\", \"RoofStyle\", \"MasVnrArea\", \"BsmtFinSF1\",\n",
    "    \"KitchenQual\", \"TotRmsAbvGrd\", \"Fireplaces\", \"GarageCars\",\n",
    "    \"TotalSF\", \"TotalBath\", \"TotalOutdoorSF\"\n",
    "]\n",
    "\n",
    "all_the_rest = X_train.drop(top_10_indices)\n",
    "\n",
    "# Get the summary statistics for the selected features\n",
    "summary_stats = all_the_rest[features].describe()\n",
    "\n",
    "# Filter only the min, max, and mean rows from the summary statistics\n",
    "summary_stats.loc[[\"min\", \"max\", \"mean\"]]\n",
    "\n"
   ]
  },
  {
   "cell_type": "markdown",
   "id": "9dc1f18e",
   "metadata": {},
   "source": [
    "# So it looks like larger houses that are worth more money have a larger SHAP value for KitchenQual. Something that should of been obvious but i will leave the code here in case i want to look at something that is less obvious using a similiar process"
   ]
  },
  {
   "cell_type": "code",
   "execution_count": null,
   "id": "76398637",
   "metadata": {},
   "outputs": [],
   "source": [
    "X_train"
   ]
  },
  {
   "cell_type": "code",
   "execution_count": null,
   "id": "0eb74ec3",
   "metadata": {},
   "outputs": [],
   "source": [
    "# Create a SHAP explainer for the RandomForest model\n",
    "explainer = shap.Explainer(best_rf, X_train)\n",
    "\n",
    "# Calculate SHAP values for the first instance in the dataset\n",
    "instance_index = 576\n",
    "\n",
    "# Get the SHAP values for the specified instance in X_train\n",
    "shap_values_instance = explainer(X_train.iloc[instance_index:instance_index + 1, :])\n",
    "\n",
    "# Plot the SHAP values as a waterfall plot for the instance\n",
    "# A waterfall plot helps visualize the contribution of each feature to the final prediction for the instance\n",
    "shap.plots.waterfall(shap_values_instance[0],max_display=20)\n",
    "\n"
   ]
  },
  {
   "cell_type": "code",
   "execution_count": null,
   "id": "1647802d",
   "metadata": {},
   "outputs": [],
   "source": [
    "# Check the current value of the KitchenQual variable for index 576\n",
    "current_value = X_train.loc[576, 'KitchenQual']\n",
    "print(\"Current value of KitchenQual for index 576:\", current_value)\n"
   ]
  },
  {
   "cell_type": "code",
   "execution_count": null,
   "id": "d141a12b",
   "metadata": {},
   "outputs": [],
   "source": [
    "# Modify the KitchenQual variable for the specified instance\n",
    "X_train.loc[576, 'KitchenQual'] = 2\n",
    "\n",
    "# Create a SHAP explainer for the RandomForest model\n",
    "explainer = shap.Explainer(best_rf, X_train)\n",
    "\n",
    "# Calculate SHAP values for the modified instance\n",
    "shap_values_instance = explainer(X_train.iloc[instance_index:instance_index + 1, :])\n",
    "\n",
    "# Plot the SHAP values as a waterfall plot for the modified instance\n",
    "shap.plots.waterfall(shap_values_instance[0],max_display=20)\n"
   ]
  },
  {
   "cell_type": "code",
   "execution_count": null,
   "id": "0311e5e5",
   "metadata": {
    "scrolled": true
   },
   "outputs": [],
   "source": [
    "# Create a SHAP explainer for the RandomForest model\n",
    "explainer = shap.Explainer(best_rf, X_train)\n",
    "\n",
    "# Calculate SHAP values for the entire dataset\n",
    "shap_values = explainer(X_train)\n",
    "\n",
    "# Extract the SHAP values for index 576\n",
    "shap_values_576 = shap_values[576]\n",
    "\n",
    "# Print the SHAP values for index 576\n",
    "print(\"SHAP values for index 576:\\n\", shap_values_576)\n"
   ]
  },
  {
   "cell_type": "code",
   "execution_count": null,
   "id": "ee11a1f8",
   "metadata": {},
   "outputs": [],
   "source": [
    "# Modify the KitchenQual variable for the specified instance\n",
    "X_train.loc[576, 'KitchenQual'] = 4\n",
    "\n",
    "# Create a SHAP explainer for the RandomForest model\n",
    "explainer = shap.TreeExplainer(best_rf, X_train)\n",
    "\n",
    "# Calculate SHAP values for the modified instance\n",
    "shap_values_instance = explainer(X_train.iloc[instance_index:instance_index + 1, :])\n",
    "\n",
    "# Plot the SHAP values as a waterfall plot for the modified instance\n",
    "shap.plots.waterfall(shap_values_instance[0],max_display=20)\n"
   ]
  },
  {
   "cell_type": "code",
   "execution_count": null,
   "id": "bc47a56d",
   "metadata": {
    "scrolled": true
   },
   "outputs": [],
   "source": [
    "shap_values_df.loc[576, :]"
   ]
  },
  {
   "cell_type": "markdown",
   "id": "98e23897",
   "metadata": {},
   "source": [
    "## Which Neighborhood to Target for Kitchen Remodel"
   ]
  },
  {
   "cell_type": "code",
   "execution_count": null,
   "id": "f86dc5ad",
   "metadata": {},
   "outputs": [],
   "source": [
    "# Create a SHAP explainer for the RandomForest model\n",
    "explainer = shap.TreeExplainer(best_rf, X_train)"
   ]
  },
  {
   "cell_type": "code",
   "execution_count": null,
   "id": "e03946c4",
   "metadata": {},
   "outputs": [],
   "source": [
    "shap_values = explainer.shap_values(X_train)"
   ]
  },
  {
   "cell_type": "code",
   "execution_count": null,
   "id": "fb6250b7",
   "metadata": {},
   "outputs": [],
   "source": [
    "Neighborhood_mapping = {\n",
    "    \"SWISU\": 0,\n",
    "    \"Edwards\": 1,\n",
    "    \"IDOTRR\": 2,\n",
    "    \"OldTown\": 3,\n",
    "    \"NWAmes\": 4,\n",
    "    \"Blmngtn\": 5,\n",
    "    \"Mitchel\": 6,\n",
    "    \"NridgHt\": 7,\n",
    "    \"NAmes\": 8,\n",
    "    \"CollgCr\": 9,\n",
    "    \"SawyerW\": 10,\n",
    "    \"MeadowV\": 11,\n",
    "    \"BrDale\": 12,\n",
    "    \"Gilbert\": 13,\n",
    "    \"Timber\": 14,\n",
    "    \"Somerst\": 15,\n",
    "    \"BrkSide\": 16,\n",
    "    \"NoRidge\": 17,\n",
    "    \"Sawyer\": 18,\n",
    "    \"Crawfor\": 19,\n",
    "    \"Greens\": 20,\n",
    "    \"ClearCr\": 21,\n",
    "    \"StoneBr\": 22,\n",
    "    \"Veenker\": 23,\n",
    "    \"NPkVill\": 24,\n",
    "    \"Blueste\": 25,\n",
    "}\n"
   ]
  },
  {
   "cell_type": "code",
   "execution_count": null,
   "id": "47e2eaf5",
   "metadata": {},
   "outputs": [],
   "source": [
    "# OLD CODE SHOWING FLOATS INSTEAD OF STRINGS PER NEIGHBORHOOD. - DELETE\n",
    "\n",
    "# shap_w_neighborhoods = pd.DataFrame(shap_values, columns=X_train.columns)\n",
    "# shap_w_neighborhoods[\"NeighborhoodGrouped\"] = X_train[\"Neighborhood\"]\n",
    "# shap_w_neighborhoods[\"KitchenQualGrouped\"] = X_train[\"KitchenQual\"]\n",
    "\n",
    "# # Moving KitchenQual to First Column\n",
    "# shap_w_neighborhoods.insert(0, \"KitchenQual\", shap_w_neighborhoods.pop(\"KitchenQual\"))\n",
    "# shap_w_neighborhoods.insert(\n",
    "#     1, \"KitchenQualGrouped\", shap_w_neighborhoods.pop(\"KitchenQualGrouped\")\n",
    "# )\n",
    "# shap_w_neighborhoods.insert(\n",
    "#     2, \"NeighborhoodGrouped\", shap_w_neighborhoods.pop(\"NeighborhoodGrouped\")\n",
    "# )\n",
    "\n",
    "# # Grouping by Neighborhood and getting average Kitchen Values\n",
    "# shap_grouped = shap_w_neighborhoods.groupby(by=\"NeighborhoodGrouped\")\n",
    "# shap_grouped_avg = shap_grouped.mean().sort_values(by=\"KitchenQual\", ascending=False)[\n",
    "#     [\"KitchenQual\"]\n",
    "# ]\n",
    "# shap_grouped_avg"
   ]
  },
  {
   "cell_type": "code",
   "execution_count": null,
   "id": "faf3fccd",
   "metadata": {},
   "outputs": [],
   "source": [
    "# Adding back the Neighborhood Grouping to Shap dataframe\n",
    "shap_w_neighborhoods = pd.DataFrame(shap_values, columns=X_train.columns)\n",
    "shap_w_neighborhoods[\"NeighborhoodGrouped\"] = X_train[\"Neighborhood\"]\n",
    "shap_w_neighborhoods[\"KitchenQualGrouped\"] = X_train[\"KitchenQual\"]\n",
    "\n",
    "# Moving KitchenQual to First Column\n",
    "shap_w_neighborhoods.insert(0, \"KitchenQual\", shap_w_neighborhoods.pop(\"KitchenQual\"))\n",
    "shap_w_neighborhoods.insert(\n",
    "    1, \"KitchenQualGrouped\", shap_w_neighborhoods.pop(\"KitchenQualGrouped\")\n",
    ")\n",
    "shap_w_neighborhoods.insert(\n",
    "    2, \"NeighborhoodGrouped\", shap_w_neighborhoods.pop(\"NeighborhoodGrouped\")\n",
    ")\n",
    "\n",
    "# Inverting the Neighborhood_mapping dictionary so that it maps from float values to string values:\n",
    "inverse_neighborhood_mapping = {v: k for k, v in Neighborhood_mapping.items()}\n",
    "\n",
    "# Applying the mapping to the NeighborhoodGrouped column\n",
    "shap_w_neighborhoods[\"NeighborhoodGrouped\"] = shap_w_neighborhoods[\"NeighborhoodGrouped\"].map(inverse_neighborhood_mapping)\n",
    "\n",
    "# Grouping by Neighborhood and getting average Kitchen Values\n",
    "shap_grouped = shap_w_neighborhoods.groupby(by=\"NeighborhoodGrouped\")\n",
    "shap_grouped_avg = shap_grouped.mean().sort_values(by=\"KitchenQual\", ascending=False)[[\"KitchenQual\"]]\n",
    "\n",
    "shap_grouped_avg\n"
   ]
  },
  {
   "cell_type": "code",
   "execution_count": null,
   "id": "e1f6b094",
   "metadata": {},
   "outputs": [],
   "source": [
    "# Looking at the numbers in a bar chart\n",
    "\n",
    "# Set the plot size\n",
    "plt.figure(figsize=(12, 6))\n",
    "\n",
    "# Create the bar chart\n",
    "plt.bar(shap_grouped_avg.index, shap_grouped_avg['KitchenQual'])\n",
    "\n",
    "# Set the chart labels and title\n",
    "plt.xlabel('Neighborhood Grouped')\n",
    "plt.ylabel('Average KitchenQual SHAP Value')\n",
    "plt.title('Average KitchenQual SHAP Value by Neighborhood')\n",
    "\n",
    "# Rotate the x-axis labels for better readability\n",
    "plt.xticks(rotation=45)\n",
    "\n",
    "# Display the plot\n",
    "plt.show()\n"
   ]
  },
  {
   "cell_type": "code",
   "execution_count": null,
   "id": "34782aae",
   "metadata": {
    "scrolled": false
   },
   "outputs": [],
   "source": [
    "# import matplotlib.pyplot as plt\n",
    "import matplotlib.colors as mcolors\n",
    "\n",
    "\n",
    "# Compute the average KitchenQual value for each neighborhood in X_train\n",
    "avg_kitchen_qual = X_train.groupby(\"Neighborhood\")[\"KitchenQual\"].mean()\n",
    "\n",
    "# Map the neighborhood numbers in X_train back to the neighborhood names\n",
    "avg_kitchen_qual.index = avg_kitchen_qual.index.map(inverse_neighborhood_mapping)\n",
    "\n",
    "# Create a colormap and a normalization instance\n",
    "cmap = plt.cm.get_cmap(\"viridis\")\n",
    "norm = mcolors.Normalize(vmin=avg_kitchen_qual.min(), vmax=avg_kitchen_qual.max())\n",
    "\n",
    "# Set the plot size\n",
    "plt.figure(figsize=(18, 9))\n",
    "\n",
    "# Create the bar chart with colors based on the average KitchenQual values\n",
    "plt.bar(shap_grouped_avg.index, shap_grouped_avg['KitchenQual'], color=cmap(norm(avg_kitchen_qual.loc[shap_grouped_avg.index])))\n",
    "\n",
    "# Set the chart labels and title\n",
    "plt.xlabel('Neighborhood Grouped')\n",
    "plt.ylabel('Average KitchenQual SHAP Value')\n",
    "plt.title('Average KitchenQual SHAP Value by Neighborhood')\n",
    "\n",
    "# Rotate the x-axis labels for better readability\n",
    "plt.xticks(rotation=45)\n",
    "\n",
    "# Add a colorbar to show the colormap\n",
    "sm = plt.cm.ScalarMappable(cmap=cmap, norm=norm)\n",
    "sm.set_array([])\n",
    "plt.colorbar(sm, label='Average KitchenQual Values')\n",
    "\n",
    "# Display the plot\n",
    "plt.show()\n"
   ]
  },
  {
   "cell_type": "code",
   "execution_count": null,
   "id": "a593796e",
   "metadata": {},
   "outputs": [],
   "source": [
    "avg_kitchen_qual\n"
   ]
  },
  {
   "cell_type": "code",
   "execution_count": null,
   "id": "04cffb43",
   "metadata": {},
   "outputs": [],
   "source": [
    "shap_grouped_avg"
   ]
  },
  {
   "cell_type": "code",
   "execution_count": null,
   "id": "63d15822",
   "metadata": {
    "scrolled": false
   },
   "outputs": [],
   "source": [
    "# Top 10\n",
    "shap_grouped_avg.nlargest(10, \"KitchenQual\")"
   ]
  },
  {
   "cell_type": "code",
   "execution_count": null,
   "id": "23776f5c",
   "metadata": {},
   "outputs": [],
   "source": [
    "# Bottom 10\n",
    "shap_grouped_avg.nsmallest(10, \"KitchenQual\")"
   ]
  },
  {
   "cell_type": "markdown",
   "id": "20b89862",
   "metadata": {},
   "source": [
    "### ^How Do I  Match # with Neighborhood Names^"
   ]
  },
  {
   "cell_type": "markdown",
   "id": "c015b6d6",
   "metadata": {},
   "source": [
    "## Neighborhood Breakdown"
   ]
  },
  {
   "cell_type": "markdown",
   "id": "1b7ba022",
   "metadata": {},
   "source": [
    "In These neighborhoods where kitchens are weighed heavily, we find the lower quality kitchens and target them for renovation showing the client that they specifically have the most to benefit in this specific neighborhood \\n specifically the quality 2"
   ]
  },
  {
   "cell_type": "code",
   "execution_count": null,
   "id": "c434a3c2",
   "metadata": {
    "scrolled": true
   },
   "outputs": [],
   "source": [
    "# 17\n",
    "shap_w_neighborhoods[shap_w_neighborhoods[\"NeighborhoodGrouped\"] == \"NoRidge\"].iloc[\n",
    "    :, 0:3\n",
    "].sort_values(\"KitchenQualGrouped\")"
   ]
  },
  {
   "cell_type": "code",
   "execution_count": null,
   "id": "cbe02875",
   "metadata": {},
   "outputs": [],
   "source": [
    "# Changing the KithenQual for this specified instance back to its original value\n",
    "X_train.loc[576, \"KitchenQual\"] = 4"
   ]
  },
  {
   "cell_type": "code",
   "execution_count": null,
   "id": "0f4bb8e8",
   "metadata": {
    "scrolled": true
   },
   "outputs": [],
   "source": [
    "# 23\n",
    "shap_w_neighborhoods[shap_w_neighborhoods[\"NeighborhoodGrouped\"] == \"Veenker\"].iloc[\n",
    "    :, 0:3\n",
    "].sort_values(\"KitchenQualGrouped\")"
   ]
  },
  {
   "cell_type": "code",
   "execution_count": null,
   "id": "1df379b0",
   "metadata": {
    "scrolled": true
   },
   "outputs": [],
   "source": [
    "# 16\n",
    "shap_w_neighborhoods[shap_w_neighborhoods[\"NeighborhoodGrouped\"] == \"BrkSide\"].iloc[\n",
    "    :, 0:3\n",
    "].sort_values(\"KitchenQualGrouped\")"
   ]
  },
  {
   "cell_type": "code",
   "execution_count": null,
   "id": "1d43f978",
   "metadata": {},
   "outputs": [],
   "source": [
    "# 25\n",
    "shap_w_neighborhoods[shap_w_neighborhoods[\"NeighborhoodGrouped\"] == \"Blueste\"].iloc[\n",
    "    :, 0:3\n",
    "].sort_values(\"KitchenQualGrouped\")"
   ]
  },
  {
   "cell_type": "code",
   "execution_count": null,
   "id": "c858ea44",
   "metadata": {},
   "outputs": [],
   "source": [
    "# 22\n",
    "shap_w_neighborhoods[shap_w_neighborhoods[\"NeighborhoodGrouped\"] == \"StoneBr\"].iloc[\n",
    "    :, 0:3\n",
    "].sort_values(\"KitchenQualGrouped\")"
   ]
  },
  {
   "cell_type": "code",
   "execution_count": null,
   "id": "bc312c13",
   "metadata": {},
   "outputs": [],
   "source": [
    "# looking at the observations with a 1 Kitchen Quality\n",
    "X_train.iloc[[1731, 207, 1562, 836, 1251], :]"
   ]
  },
  {
   "cell_type": "markdown",
   "id": "2b643065",
   "metadata": {},
   "source": [
    "### Looks like a few have overal quality of 6 and one has over all condition of 8, they all have \"AdjLand\": This indicates that the property is adjacent to land that has a different use, such as a park or commercial property."
   ]
  },
  {
   "cell_type": "code",
   "execution_count": null,
   "id": "01d264df",
   "metadata": {},
   "outputs": [],
   "source": [
    "X_train[\"SaleCondition\"].value_counts()"
   ]
  },
  {
   "cell_type": "code",
   "execution_count": null,
   "id": "770701d5",
   "metadata": {},
   "outputs": [],
   "source": [
    "shap_w_neighborhoods[shap_w_neighborhoods[\"NeighborhoodGrouped\"] == \"Crawfor\"].iloc[\n",
    "    :, 0:3\n",
    "].sort_values(\"KitchenQualGrouped\")"
   ]
  },
  {
   "cell_type": "markdown",
   "id": "e966d4cb",
   "metadata": {},
   "source": [
    "# What a kitchen looks like for each of the 5 variables\n",
    "\n",
    "\n",
    "Excellent: In a kitchen with an \"Excellent\" quality rating, you might expect to find high-end appliances and finishes, such as stainless steel appliances, granite countertops, and custom cabinetry. The kitchen may be spacious and well-designed, with plenty of counter and storage space. The appliances could include a top-of-the-line refrigerator, oven, stove, dishwasher, and microwave.\n",
    "\n",
    "Good: A kitchen with a \"Good\" quality rating might have some high-end finishes and appliances, but may not be as spacious or as well-designed as an \"Excellent\" kitchen. The appliances could include a mid-range refrigerator, oven, stove, dishwasher, and microwave. The countertops and cabinetry may be of good quality, but not necessarily as high-end as in an \"Excellent\" kitchen.\n",
    "\n",
    "Typical/Average: A kitchen with a \"Typical/Average\" quality rating may have basic finishes and appliances, but is still functional and has everything necessary to prepare and cook food. The appliances could include a basic refrigerator, oven, stove, dishwasher, and microwave. The countertops and cabinetry may be made of standard materials, such as laminate or wood.\n",
    "\n",
    "Fair: A kitchen with a \"Fair\" quality rating may be outdated or in need of some repairs or upgrades. The appliances could include older models of a refrigerator, oven, stove, dishwasher, and microwave. The countertops and cabinetry may be in need of refinishing or replacement.\n",
    "\n",
    "Poor: A kitchen with a \"Poor\" quality rating may be in very poor condition or not functional at all. The appliances may be old and not working properly or missing altogether. The countertops and cabinetry may be damaged or missing as well. Overall, a \"Poor\" kitchen would likely need significant repairs or upgrades to make it usable.\n",
    "\n",
    "\n",
    "\n",
    "\n",
    "\n"
   ]
  },
  {
   "cell_type": "markdown",
   "id": "c56c43d2",
   "metadata": {},
   "source": [
    "# What needs to be done to bring average kitchen to an excellent kitchen\n",
    "\n",
    "\n",
    "Bringing a kitchen from a \"Typical/Average\" quality rating up to an \"Excellent\" condition would require several upgrades and improvements. Here are some possible steps that you might need to take:\n",
    "\n",
    "Replace or upgrade appliances: You may need to replace the refrigerator, oven, stove, dishwasher, and microwave with newer, higher-end models. This could cost several thousand dollars, depending on the appliances you choose.\n",
    "\n",
    "Upgrade countertops and cabinetry: You may need to replace or refinish the countertops and cabinetry with higher-end materials such as granite, quartz, or custom cabinetry. This could cost several thousand dollars as well, depending on the materials and the size of the kitchen.\n",
    "\n",
    "Improve lighting: You may need to add or improve the lighting in the kitchen to create a brighter, more welcoming atmosphere. This could involve adding new light fixtures, under-cabinet lighting, or a larger window. The cost of this will depend on the specific upgrades you choose.\n",
    "\n",
    "Improve the layout: You may need to reconfigure the layout of the kitchen to make it more functional and efficient. This could involve moving appliances or walls, adding an island, or creating a more open floor plan. The cost of this will depend on the extent of the renovations required."
   ]
  },
  {
   "cell_type": "code",
   "execution_count": null,
   "id": "1d59e9b2",
   "metadata": {},
   "outputs": [],
   "source": []
  },
  {
   "cell_type": "code",
   "execution_count": null,
   "id": "574f79a3",
   "metadata": {},
   "outputs": [],
   "source": []
  },
  {
   "cell_type": "code",
   "execution_count": null,
   "id": "2c04c372",
   "metadata": {},
   "outputs": [],
   "source": []
  },
  {
   "cell_type": "code",
   "execution_count": null,
   "id": "9151f3fa",
   "metadata": {},
   "outputs": [],
   "source": []
  },
  {
   "cell_type": "code",
   "execution_count": null,
   "id": "85b50367",
   "metadata": {},
   "outputs": [],
   "source": []
  }
 ],
 "metadata": {
  "kernelspec": {
   "display_name": "Python 3 (ipykernel)",
   "language": "python",
   "name": "python3"
  },
  "language_info": {
   "codemirror_mode": {
    "name": "ipython",
    "version": 3
   },
   "file_extension": ".py",
   "mimetype": "text/x-python",
   "name": "python",
   "nbconvert_exporter": "python",
   "pygments_lexer": "ipython3",
   "version": "3.9.12"
  }
 },
 "nbformat": 4,
 "nbformat_minor": 5
}
