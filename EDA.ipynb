{
 "cells": [
  {
   "cell_type": "code",
   "execution_count": 1,
   "id": "8eeacdeb",
   "metadata": {},
   "outputs": [
    {
     "data": {
      "application/javascript": [
       "\n",
       "            setTimeout(function() {\n",
       "                var nbb_cell_id = 1;\n",
       "                var nbb_unformatted_code = \"import numpy as np\\nimport pandas as pd\\nimport matplotlib.pyplot as plt\\nimport seaborn as sns\\nimport geopy\\n\\n\\n# the below extension properly formats a cell after it is run\\n%load_ext nb_black \\n\\n# Set the maximum number of rows to 200\\npd.set_option(\\\"display.max_rows\\\", 200)\\nimport pandas as pd\\n\\n# Set the maximum number of columns to 200\\npd.set_option('display.max_columns', 200)\";\n",
       "                var nbb_formatted_code = \"import numpy as np\\nimport pandas as pd\\nimport matplotlib.pyplot as plt\\nimport seaborn as sns\\nimport geopy\\n\\n\\n# the below extension properly formats a cell after it is run\\n%load_ext nb_black\\n\\n# Set the maximum number of rows to 200\\npd.set_option(\\\"display.max_rows\\\", 200)\\nimport pandas as pd\\n\\n# Set the maximum number of columns to 200\\npd.set_option(\\\"display.max_columns\\\", 200)\";\n",
       "                var nbb_cells = Jupyter.notebook.get_cells();\n",
       "                for (var i = 0; i < nbb_cells.length; ++i) {\n",
       "                    if (nbb_cells[i].input_prompt_number == nbb_cell_id) {\n",
       "                        if (nbb_cells[i].get_text() == nbb_unformatted_code) {\n",
       "                             nbb_cells[i].set_text(nbb_formatted_code);\n",
       "                        }\n",
       "                        break;\n",
       "                    }\n",
       "                }\n",
       "            }, 500);\n",
       "            "
      ],
      "text/plain": [
       "<IPython.core.display.Javascript object>"
      ]
     },
     "metadata": {},
     "output_type": "display_data"
    }
   ],
   "source": [
    "import numpy as np\n",
    "import pandas as pd\n",
    "import matplotlib.pyplot as plt\n",
    "import seaborn as sns\n",
    "import geopy\n",
    "\n",
    "\n",
    "# the below extension properly formats a cell after it is run\n",
    "%load_ext nb_black \n",
    "\n",
    "# Set the maximum number of rows to 200\n",
    "pd.set_option(\"display.max_rows\", 200)\n",
    "import pandas as pd\n",
    "\n",
    "# Set the maximum number of columns to 200\n",
    "pd.set_option('display.max_columns', 200)\n",
    "\n"
   ]
  },
  {
   "cell_type": "code",
   "execution_count": 2,
   "id": "ca3699e1",
   "metadata": {},
   "outputs": [
    {
     "data": {
      "application/javascript": [
       "\n",
       "            setTimeout(function() {\n",
       "                var nbb_cell_id = 2;\n",
       "                var nbb_unformatted_code = \"housing_no_na = pd.read_csv(\\\"data/housing_no_na.csv\\\")\";\n",
       "                var nbb_formatted_code = \"housing_no_na = pd.read_csv(\\\"data/housing_no_na.csv\\\")\";\n",
       "                var nbb_cells = Jupyter.notebook.get_cells();\n",
       "                for (var i = 0; i < nbb_cells.length; ++i) {\n",
       "                    if (nbb_cells[i].input_prompt_number == nbb_cell_id) {\n",
       "                        if (nbb_cells[i].get_text() == nbb_unformatted_code) {\n",
       "                             nbb_cells[i].set_text(nbb_formatted_code);\n",
       "                        }\n",
       "                        break;\n",
       "                    }\n",
       "                }\n",
       "            }, 500);\n",
       "            "
      ],
      "text/plain": [
       "<IPython.core.display.Javascript object>"
      ]
     },
     "metadata": {},
     "output_type": "display_data"
    }
   ],
   "source": [
    "housing_no_na = pd.read_csv(\"data/housing_no_na.csv\")"
   ]
  },
  {
   "cell_type": "code",
   "execution_count": null,
   "id": "bb08721c",
   "metadata": {},
   "outputs": [],
   "source": []
  },
  {
   "cell_type": "code",
   "execution_count": null,
   "id": "ac3f1ebf",
   "metadata": {},
   "outputs": [],
   "source": []
  },
  {
   "cell_type": "code",
   "execution_count": 3,
   "id": "8a4f03bb",
   "metadata": {},
   "outputs": [
    {
     "name": "stdout",
     "output_type": "stream",
     "text": [
      "Column Street has highest frequency of 99.61%\n",
      "Column Utilities has highest frequency of 99.92%\n",
      "Column LandSlope has highest frequency of 95.27%\n",
      "Column Condition2 has highest frequency of 99.03%\n",
      "Column RoofMatl has highest frequency of 98.60%\n",
      "Column Heating has highest frequency of 98.45%\n",
      "Column LowQualFinSF has highest frequency of 98.72%\n",
      "Column KitchenAbvGr has highest frequency of 95.85%\n",
      "Column 3SsnPorch has highest frequency of 98.84%\n",
      "Column PoolArea has highest frequency of 99.65%\n",
      "Column PoolQC has highest frequency of 99.65%\n",
      "Column MiscFeature has highest frequency of 96.24%\n",
      "Column MiscVal has highest frequency of 96.32%\n"
     ]
    },
    {
     "data": {
      "application/javascript": [
       "\n",
       "            setTimeout(function() {\n",
       "                var nbb_cell_id = 3;\n",
       "                var nbb_unformatted_code = \"# checking for more highly ibalanced distributions\\nfor col in housing_no_na.columns:\\n    value_counts = housing_no_na[col].value_counts(normalize=True)\\n    highest_freq = value_counts.max()\\n    if highest_freq > 0.95:\\n        print(f\\\"Column {col} has highest frequency of {highest_freq:.2%}\\\")\";\n",
       "                var nbb_formatted_code = \"# checking for more highly ibalanced distributions\\nfor col in housing_no_na.columns:\\n    value_counts = housing_no_na[col].value_counts(normalize=True)\\n    highest_freq = value_counts.max()\\n    if highest_freq > 0.95:\\n        print(f\\\"Column {col} has highest frequency of {highest_freq:.2%}\\\")\";\n",
       "                var nbb_cells = Jupyter.notebook.get_cells();\n",
       "                for (var i = 0; i < nbb_cells.length; ++i) {\n",
       "                    if (nbb_cells[i].input_prompt_number == nbb_cell_id) {\n",
       "                        if (nbb_cells[i].get_text() == nbb_unformatted_code) {\n",
       "                             nbb_cells[i].set_text(nbb_formatted_code);\n",
       "                        }\n",
       "                        break;\n",
       "                    }\n",
       "                }\n",
       "            }, 500);\n",
       "            "
      ],
      "text/plain": [
       "<IPython.core.display.Javascript object>"
      ]
     },
     "metadata": {},
     "output_type": "display_data"
    }
   ],
   "source": [
    "# checking for more highly ibalanced distributions\n",
    "for col in housing_no_na.columns:\n",
    "    value_counts = housing_no_na[col].value_counts(normalize=True)\n",
    "    highest_freq = value_counts.max()\n",
    "    if highest_freq > 0.95:\n",
    "        print(f\"Column {col} has highest frequency of {highest_freq:.2%}\")"
   ]
  },
  {
   "cell_type": "code",
   "execution_count": null,
   "id": "ac2c5b59",
   "metadata": {},
   "outputs": [],
   "source": []
  },
  {
   "cell_type": "code",
   "execution_count": null,
   "id": "a49b5931",
   "metadata": {},
   "outputs": [],
   "source": []
  },
  {
   "cell_type": "code",
   "execution_count": null,
   "id": "56584162",
   "metadata": {},
   "outputs": [],
   "source": []
  }
 ],
 "metadata": {
  "kernelspec": {
   "display_name": "Python 3 (ipykernel)",
   "language": "python",
   "name": "python3"
  },
  "language_info": {
   "codemirror_mode": {
    "name": "ipython",
    "version": 3
   },
   "file_extension": ".py",
   "mimetype": "text/x-python",
   "name": "python",
   "nbconvert_exporter": "python",
   "pygments_lexer": "ipython3",
   "version": "3.9.12"
  }
 },
 "nbformat": 4,
 "nbformat_minor": 5
}
