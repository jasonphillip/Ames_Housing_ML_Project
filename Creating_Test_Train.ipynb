{
 "cells": [
  {
   "cell_type": "code",
   "execution_count": 18,
   "id": "1464f109",
   "metadata": {},
   "outputs": [
    {
     "name": "stdout",
     "output_type": "stream",
     "text": [
      "The nb_black extension is already loaded. To reload it, use:\n",
      "  %reload_ext nb_black\n"
     ]
    },
    {
     "data": {
      "application/javascript": [
       "\n",
       "            setTimeout(function() {\n",
       "                var nbb_cell_id = 18;\n",
       "                var nbb_unformatted_code = \"import numpy as np\\nimport pandas as pd\\nimport matplotlib.pyplot as plt\\nimport seaborn as sns\\nimport statsmodels.api as sm\\nimport re\\nfrom sklearn.model_selection import train_test_split\\n\\n\\n# the below extension properly formats a cell after it is run\\n%load_ext nb_black\\n\\n# Set the maximum number of rows to 200\\npd.set_option(\\\"display.max_rows\\\", 200)\\n\\n\\n# Set the maximum number of columns to 200\\npd.set_option(\\\"display.max_columns\\\", 200)\";\n",
       "                var nbb_formatted_code = \"import numpy as np\\nimport pandas as pd\\nimport matplotlib.pyplot as plt\\nimport seaborn as sns\\nimport statsmodels.api as sm\\nimport re\\nfrom sklearn.model_selection import train_test_split\\n\\n\\n# the below extension properly formats a cell after it is run\\n%load_ext nb_black\\n\\n# Set the maximum number of rows to 200\\npd.set_option(\\\"display.max_rows\\\", 200)\\n\\n\\n# Set the maximum number of columns to 200\\npd.set_option(\\\"display.max_columns\\\", 200)\";\n",
       "                var nbb_cells = Jupyter.notebook.get_cells();\n",
       "                for (var i = 0; i < nbb_cells.length; ++i) {\n",
       "                    if (nbb_cells[i].input_prompt_number == nbb_cell_id) {\n",
       "                        if (nbb_cells[i].get_text() == nbb_unformatted_code) {\n",
       "                             nbb_cells[i].set_text(nbb_formatted_code);\n",
       "                        }\n",
       "                        break;\n",
       "                    }\n",
       "                }\n",
       "            }, 500);\n",
       "            "
      ],
      "text/plain": [
       "<IPython.core.display.Javascript object>"
      ]
     },
     "metadata": {},
     "output_type": "display_data"
    }
   ],
   "source": [
    "import numpy as np\n",
    "import pandas as pd\n",
    "import matplotlib.pyplot as plt\n",
    "import seaborn as sns\n",
    "import statsmodels.api as sm\n",
    "import re\n",
    "from sklearn.model_selection import train_test_split\n",
    "\n",
    "\n",
    "# the below extension properly formats a cell after it is run\n",
    "%load_ext nb_black\n",
    "\n",
    "# Set the maximum number of rows to 200\n",
    "pd.set_option(\"display.max_rows\", 200)\n",
    "\n",
    "\n",
    "# Set the maximum number of columns to 200\n",
    "pd.set_option(\"display.max_columns\", 200)"
   ]
  },
  {
   "cell_type": "code",
   "execution_count": 19,
   "id": "6dd1e673",
   "metadata": {},
   "outputs": [
    {
     "data": {
      "application/javascript": [
       "\n",
       "            setTimeout(function() {\n",
       "                var nbb_cell_id = 19;\n",
       "                var nbb_unformatted_code = \"housing = pd.read_csv(\\\"data/housing_cleaned.csv\\\")\\nlocations = pd.read_csv(\\\"data/locations.csv\\\")\";\n",
       "                var nbb_formatted_code = \"housing = pd.read_csv(\\\"data/housing_cleaned.csv\\\")\\nlocations = pd.read_csv(\\\"data/locations.csv\\\")\";\n",
       "                var nbb_cells = Jupyter.notebook.get_cells();\n",
       "                for (var i = 0; i < nbb_cells.length; ++i) {\n",
       "                    if (nbb_cells[i].input_prompt_number == nbb_cell_id) {\n",
       "                        if (nbb_cells[i].get_text() == nbb_unformatted_code) {\n",
       "                             nbb_cells[i].set_text(nbb_formatted_code);\n",
       "                        }\n",
       "                        break;\n",
       "                    }\n",
       "                }\n",
       "            }, 500);\n",
       "            "
      ],
      "text/plain": [
       "<IPython.core.display.Javascript object>"
      ]
     },
     "metadata": {},
     "output_type": "display_data"
    }
   ],
   "source": [
    "housing = pd.read_csv(\"data/housing_cleaned.csv\")\n",
    "locations = pd.read_csv(\"data/locations.csv\")"
   ]
  },
  {
   "cell_type": "code",
   "execution_count": 20,
   "id": "16ce570a",
   "metadata": {},
   "outputs": [
    {
     "data": {
      "application/javascript": [
       "\n",
       "            setTimeout(function() {\n",
       "                var nbb_cell_id = 20;\n",
       "                var nbb_unformatted_code = \"# Moving sale price to the first column after PID\\nhousing.insert(1, \\\"SalePrice\\\", housing.pop(\\\"SalePrice\\\"))\\n# dropping Quantiles\\nhousing = housing.drop(\\n    columns=[\\n        \\\"MSSubClass\\\",\\n        \\\"Street_name\\\",\\n        \\\"PoolQC\\\",\\n        \\\"Prop_Addr\\\",\\n        \\\"Street_10_Quantiles\\\",\\n        \\\"Street_20_Quantiles\\\",\\n        \\\"Street_30_Quantiles\\\",\\n        \\\"Street_50_Quantiles\\\",\\n    ]\\n)\\n# Removing observations with no address\\nhousing = housing[housing[\\\"Street_type\\\"] != \\\"None\\\"]\";\n",
       "                var nbb_formatted_code = \"# Moving sale price to the first column after PID\\nhousing.insert(1, \\\"SalePrice\\\", housing.pop(\\\"SalePrice\\\"))\\n# dropping Quantiles\\nhousing = housing.drop(\\n    columns=[\\n        \\\"MSSubClass\\\",\\n        \\\"Street_name\\\",\\n        \\\"PoolQC\\\",\\n        \\\"Prop_Addr\\\",\\n        \\\"Street_10_Quantiles\\\",\\n        \\\"Street_20_Quantiles\\\",\\n        \\\"Street_30_Quantiles\\\",\\n        \\\"Street_50_Quantiles\\\",\\n    ]\\n)\\n# Removing observations with no address\\nhousing = housing[housing[\\\"Street_type\\\"] != \\\"None\\\"]\";\n",
       "                var nbb_cells = Jupyter.notebook.get_cells();\n",
       "                for (var i = 0; i < nbb_cells.length; ++i) {\n",
       "                    if (nbb_cells[i].input_prompt_number == nbb_cell_id) {\n",
       "                        if (nbb_cells[i].get_text() == nbb_unformatted_code) {\n",
       "                             nbb_cells[i].set_text(nbb_formatted_code);\n",
       "                        }\n",
       "                        break;\n",
       "                    }\n",
       "                }\n",
       "            }, 500);\n",
       "            "
      ],
      "text/plain": [
       "<IPython.core.display.Javascript object>"
      ]
     },
     "metadata": {},
     "output_type": "display_data"
    }
   ],
   "source": [
    "# Moving sale price to the first column after PID\n",
    "housing.insert(1, \"SalePrice\", housing.pop(\"SalePrice\"))\n",
    "# dropping Quantiles\n",
    "housing = housing.drop(\n",
    "    columns=[\n",
    "        \"MSSubClass\",\n",
    "        \"Street_name\",\n",
    "        \"PoolQC\",\n",
    "        \"Prop_Addr\",\n",
    "        \"Street_10_Quantiles\",\n",
    "        \"Street_20_Quantiles\",\n",
    "        \"Street_30_Quantiles\",\n",
    "        \"Street_50_Quantiles\",\n",
    "    ]\n",
    ")\n",
    "# Removing observations with no address\n",
    "housing = housing[housing[\"Street_type\"] != \"None\"]"
   ]
  },
  {
   "cell_type": "code",
   "execution_count": 21,
   "id": "66542856",
   "metadata": {},
   "outputs": [
    {
     "data": {
      "application/javascript": [
       "\n",
       "            setTimeout(function() {\n",
       "                var nbb_cell_id = 21;\n",
       "                var nbb_unformatted_code = \"# Should these rows also be removed where the sale condition is not normal?\\n\\n# Normal: indicates a normal sale where no special conditions apply.\\n# Partial: indicates a sale where the buyer purchases a partial interest in the property, such as a partial ownership of the land or building.\\n# Abnorml: indicates an abnormal sale where conditions like foreclosure, short sale or sheriff sale apply.\\n# Family: indicates a sale between family members.\\n# Alloca: indicates a sale where the property was sold to a relocation company.\\n# AdjLand: indicates a sale where the property is adjacent to land zoned for commercial or industrial use.\";\n",
       "                var nbb_formatted_code = \"# Should these rows also be removed where the sale condition is not normal?\\n\\n# Normal: indicates a normal sale where no special conditions apply.\\n# Partial: indicates a sale where the buyer purchases a partial interest in the property, such as a partial ownership of the land or building.\\n# Abnorml: indicates an abnormal sale where conditions like foreclosure, short sale or sheriff sale apply.\\n# Family: indicates a sale between family members.\\n# Alloca: indicates a sale where the property was sold to a relocation company.\\n# AdjLand: indicates a sale where the property is adjacent to land zoned for commercial or industrial use.\";\n",
       "                var nbb_cells = Jupyter.notebook.get_cells();\n",
       "                for (var i = 0; i < nbb_cells.length; ++i) {\n",
       "                    if (nbb_cells[i].input_prompt_number == nbb_cell_id) {\n",
       "                        if (nbb_cells[i].get_text() == nbb_unformatted_code) {\n",
       "                             nbb_cells[i].set_text(nbb_formatted_code);\n",
       "                        }\n",
       "                        break;\n",
       "                    }\n",
       "                }\n",
       "            }, 500);\n",
       "            "
      ],
      "text/plain": [
       "<IPython.core.display.Javascript object>"
      ]
     },
     "metadata": {},
     "output_type": "display_data"
    }
   ],
   "source": [
    "# Should these rows also be removed where the sale condition is not normal?\n",
    "\n",
    "# Normal: indicates a normal sale where no special conditions apply.\n",
    "# Partial: indicates a sale where the buyer purchases a partial interest in the property, such as a partial ownership of the land or building.\n",
    "# Abnorml: indicates an abnormal sale where conditions like foreclosure, short sale or sheriff sale apply.\n",
    "# Family: indicates a sale between family members.\n",
    "# Alloca: indicates a sale where the property was sold to a relocation company.\n",
    "# AdjLand: indicates a sale where the property is adjacent to land zoned for commercial or industrial use."
   ]
  },
  {
   "cell_type": "code",
   "execution_count": 22,
   "id": "d64cd117",
   "metadata": {},
   "outputs": [
    {
     "data": {
      "application/javascript": [
       "\n",
       "            setTimeout(function() {\n",
       "                var nbb_cell_id = 22;\n",
       "                var nbb_unformatted_code = \"# Dropping this observtion that is the only one in the Landmrk neighborhood\\nhousing.drop(housing[housing[\\\"Neighborhood\\\"] == \\\"Landmrk\\\"].index, inplace=True)\";\n",
       "                var nbb_formatted_code = \"# Dropping this observtion that is the only one in the Landmrk neighborhood\\nhousing.drop(housing[housing[\\\"Neighborhood\\\"] == \\\"Landmrk\\\"].index, inplace=True)\";\n",
       "                var nbb_cells = Jupyter.notebook.get_cells();\n",
       "                for (var i = 0; i < nbb_cells.length; ++i) {\n",
       "                    if (nbb_cells[i].input_prompt_number == nbb_cell_id) {\n",
       "                        if (nbb_cells[i].get_text() == nbb_unformatted_code) {\n",
       "                             nbb_cells[i].set_text(nbb_formatted_code);\n",
       "                        }\n",
       "                        break;\n",
       "                    }\n",
       "                }\n",
       "            }, 500);\n",
       "            "
      ],
      "text/plain": [
       "<IPython.core.display.Javascript object>"
      ]
     },
     "metadata": {},
     "output_type": "display_data"
    }
   ],
   "source": [
    "# Dropping this observtion that is the only one in the Landmrk neighborhood\n",
    "housing.drop(housing[housing[\"Neighborhood\"] == \"Landmrk\"].index, inplace=True)\n"
   ]
  },
  {
   "cell_type": "code",
   "execution_count": 23,
   "id": "5b2d45f4",
   "metadata": {},
   "outputs": [
    {
     "data": {
      "application/javascript": [
       "\n",
       "            setTimeout(function() {\n",
       "                var nbb_cell_id = 23;\n",
       "                var nbb_unformatted_code = \"housing = housing.merge(locations[['PID', 'Neighborhood_st']], on='PID', how='left')\";\n",
       "                var nbb_formatted_code = \"housing = housing.merge(locations[[\\\"PID\\\", \\\"Neighborhood_st\\\"]], on=\\\"PID\\\", how=\\\"left\\\")\";\n",
       "                var nbb_cells = Jupyter.notebook.get_cells();\n",
       "                for (var i = 0; i < nbb_cells.length; ++i) {\n",
       "                    if (nbb_cells[i].input_prompt_number == nbb_cell_id) {\n",
       "                        if (nbb_cells[i].get_text() == nbb_unformatted_code) {\n",
       "                             nbb_cells[i].set_text(nbb_formatted_code);\n",
       "                        }\n",
       "                        break;\n",
       "                    }\n",
       "                }\n",
       "            }, 500);\n",
       "            "
      ],
      "text/plain": [
       "<IPython.core.display.Javascript object>"
      ]
     },
     "metadata": {},
     "output_type": "display_data"
    }
   ],
   "source": [
    "housing = housing.merge(locations[['PID', 'Neighborhood_st']], on='PID', how='left')\n"
   ]
  },
  {
   "cell_type": "code",
   "execution_count": 24,
   "id": "073c1dc2",
   "metadata": {},
   "outputs": [
    {
     "data": {
      "application/javascript": [
       "\n",
       "            setTimeout(function() {\n",
       "                var nbb_cell_id = 24;\n",
       "                var nbb_unformatted_code = \"# Creating Dictionaries\\nGQual = {\\\"No_Garage\\\": 0, \\\"Po\\\": 1, \\\"Fa\\\": 2, \\\"TA\\\": 3, \\\"Gd\\\": 4, \\\"Ex\\\": 5}\\nGQualCond = {\\\"No_Garage\\\": 0, \\\"Po\\\": 1, \\\"Fa\\\": 2, \\\"TA\\\": 3, \\\"Gd\\\": 4, \\\"Ex\\\": 5}\\nGFin = {\\\"No_Garage\\\": 0, \\\"Unf\\\": 1, \\\"RFn\\\": 2, \\\"Fin\\\": 3}\\nBExposure = {\\\"No_Bsmt\\\": 0, \\\"No\\\": 1, \\\"Mn\\\": 2, \\\"Gd\\\": 3, \\\"Av\\\": 4}\\nBFinType = {\\\"No_Bsmt\\\": 0, \\\"Unf\\\": 1, \\\"LwQ\\\": 2, \\\"Rec\\\": 3, \\\"BLQ\\\": 4, \\\"ALQ\\\": 5, \\\"GLQ\\\": 6}\\nBQualCond = {\\\"No_Bsmt\\\": 0, \\\"Po\\\": 1, \\\"Fa\\\": 2, \\\"TA\\\": 3, \\\"Gd\\\": 4, \\\"Ex\\\": 5}\\nFenceQual = {\\\"No_Fence\\\": 0, \\\"MnWw\\\": 1, \\\"GdWo\\\": 2, \\\"MnPrv\\\": 3, \\\"GdPrv\\\": 4}\\nFireQual = {\\\"No_Fireplace\\\": 0, \\\"Po\\\": 1, \\\"Fa\\\": 2, \\\"TA\\\": 3, \\\"Gd\\\": 4, \\\"Ex\\\": 5}\\nExQualCond = {\\\"Po\\\": 0, \\\"Fa\\\": 1, \\\"TA\\\": 2, \\\"Gd\\\": 3, \\\"Ex\\\": 4}\";\n",
       "                var nbb_formatted_code = \"# Creating Dictionaries\\nGQual = {\\\"No_Garage\\\": 0, \\\"Po\\\": 1, \\\"Fa\\\": 2, \\\"TA\\\": 3, \\\"Gd\\\": 4, \\\"Ex\\\": 5}\\nGQualCond = {\\\"No_Garage\\\": 0, \\\"Po\\\": 1, \\\"Fa\\\": 2, \\\"TA\\\": 3, \\\"Gd\\\": 4, \\\"Ex\\\": 5}\\nGFin = {\\\"No_Garage\\\": 0, \\\"Unf\\\": 1, \\\"RFn\\\": 2, \\\"Fin\\\": 3}\\nBExposure = {\\\"No_Bsmt\\\": 0, \\\"No\\\": 1, \\\"Mn\\\": 2, \\\"Gd\\\": 3, \\\"Av\\\": 4}\\nBFinType = {\\\"No_Bsmt\\\": 0, \\\"Unf\\\": 1, \\\"LwQ\\\": 2, \\\"Rec\\\": 3, \\\"BLQ\\\": 4, \\\"ALQ\\\": 5, \\\"GLQ\\\": 6}\\nBQualCond = {\\\"No_Bsmt\\\": 0, \\\"Po\\\": 1, \\\"Fa\\\": 2, \\\"TA\\\": 3, \\\"Gd\\\": 4, \\\"Ex\\\": 5}\\nFenceQual = {\\\"No_Fence\\\": 0, \\\"MnWw\\\": 1, \\\"GdWo\\\": 2, \\\"MnPrv\\\": 3, \\\"GdPrv\\\": 4}\\nFireQual = {\\\"No_Fireplace\\\": 0, \\\"Po\\\": 1, \\\"Fa\\\": 2, \\\"TA\\\": 3, \\\"Gd\\\": 4, \\\"Ex\\\": 5}\\nExQualCond = {\\\"Po\\\": 0, \\\"Fa\\\": 1, \\\"TA\\\": 2, \\\"Gd\\\": 3, \\\"Ex\\\": 4}\";\n",
       "                var nbb_cells = Jupyter.notebook.get_cells();\n",
       "                for (var i = 0; i < nbb_cells.length; ++i) {\n",
       "                    if (nbb_cells[i].input_prompt_number == nbb_cell_id) {\n",
       "                        if (nbb_cells[i].get_text() == nbb_unformatted_code) {\n",
       "                             nbb_cells[i].set_text(nbb_formatted_code);\n",
       "                        }\n",
       "                        break;\n",
       "                    }\n",
       "                }\n",
       "            }, 500);\n",
       "            "
      ],
      "text/plain": [
       "<IPython.core.display.Javascript object>"
      ]
     },
     "metadata": {},
     "output_type": "display_data"
    }
   ],
   "source": [
    "# Creating Dictionaries\n",
    "GQual = {\"No_Garage\": 0, \"Po\": 1, \"Fa\": 2, \"TA\": 3, \"Gd\": 4, \"Ex\": 5}\n",
    "GQualCond = {\"No_Garage\": 0, \"Po\": 1, \"Fa\": 2, \"TA\": 3, \"Gd\": 4, \"Ex\": 5}\n",
    "GFin = {\"No_Garage\": 0, \"Unf\": 1, \"RFn\": 2, \"Fin\": 3}\n",
    "BExposure = {\"No_Bsmt\": 0, \"No\": 1, \"Mn\": 2, \"Gd\": 3, \"Av\": 4}\n",
    "BFinType = {\"No_Bsmt\": 0, \"Unf\": 1, \"LwQ\": 2, \"Rec\": 3, \"BLQ\": 4, \"ALQ\": 5, \"GLQ\": 6}\n",
    "BQualCond = {\"No_Bsmt\": 0, \"Po\": 1, \"Fa\": 2, \"TA\": 3, \"Gd\": 4, \"Ex\": 5}\n",
    "FenceQual = {\"No_Fence\": 0, \"MnWw\": 1, \"GdWo\": 2, \"MnPrv\": 3, \"GdPrv\": 4}\n",
    "FireQual = {\"No_Fireplace\": 0, \"Po\": 1, \"Fa\": 2, \"TA\": 3, \"Gd\": 4, \"Ex\": 5}\n",
    "ExQualCond = {\"Po\": 0, \"Fa\": 1, \"TA\": 2, \"Gd\": 3, \"Ex\": 4}"
   ]
  },
  {
   "cell_type": "code",
   "execution_count": 25,
   "id": "e326583a",
   "metadata": {},
   "outputs": [
    {
     "data": {
      "application/javascript": [
       "\n",
       "            setTimeout(function() {\n",
       "                var nbb_cell_id = 25;\n",
       "                var nbb_unformatted_code = \"# Turning nominal columns to numeric with previous dictionary\\nhousing[\\\"BsmtExposure\\\"] = housing[\\\"BsmtExposure\\\"].apply(lambda row: BExposure[row])\\nhousing[\\\"BsmtFinType1\\\"] = housing[\\\"BsmtFinType1\\\"].apply(lambda row: BFinType[row])\\nhousing[\\\"BsmtFinType2\\\"] = housing[\\\"BsmtFinType2\\\"].apply(lambda row: BFinType[row])\\nhousing[\\\"BsmtQual\\\"] = housing[\\\"BsmtQual\\\"].apply(lambda row: BQualCond[row])\\nhousing[\\\"BsmtCond\\\"] = housing[\\\"BsmtCond\\\"].apply(lambda row: BQualCond[row])\\nhousing[\\\"GarageQual\\\"] = housing[\\\"GarageQual\\\"].apply(lambda row: GQualCond[row])\\nhousing[\\\"GarageCond\\\"] = housing[\\\"GarageCond\\\"].apply(lambda row: GQualCond[row])\\nhousing[\\\"GarageFinish\\\"] = housing[\\\"GarageFinish\\\"].apply(lambda row: GFin[row])\\nhousing[\\\"FireplaceQu\\\"] = housing[\\\"FireplaceQu\\\"].apply(lambda row: FireQual[row])\\nhousing[\\\"Fence\\\"] = housing[\\\"Fence\\\"].apply(lambda row: FenceQual[row])\\nhousing[\\\"ExterQual\\\"] = housing[\\\"ExterQual\\\"].apply(lambda row: ExQualCond[row])\\nhousing[\\\"ExterCond\\\"] = housing[\\\"ExterCond\\\"].apply(lambda row: ExQualCond[row])\\nhousing[\\\"HeatingQC\\\"] = housing[\\\"HeatingQC\\\"].apply(lambda row: ExQualCond[row])\\nhousing[\\\"KitchenQual\\\"] = housing[\\\"KitchenQual\\\"].apply(lambda row: ExQualCond[row])\";\n",
       "                var nbb_formatted_code = \"# Turning nominal columns to numeric with previous dictionary\\nhousing[\\\"BsmtExposure\\\"] = housing[\\\"BsmtExposure\\\"].apply(lambda row: BExposure[row])\\nhousing[\\\"BsmtFinType1\\\"] = housing[\\\"BsmtFinType1\\\"].apply(lambda row: BFinType[row])\\nhousing[\\\"BsmtFinType2\\\"] = housing[\\\"BsmtFinType2\\\"].apply(lambda row: BFinType[row])\\nhousing[\\\"BsmtQual\\\"] = housing[\\\"BsmtQual\\\"].apply(lambda row: BQualCond[row])\\nhousing[\\\"BsmtCond\\\"] = housing[\\\"BsmtCond\\\"].apply(lambda row: BQualCond[row])\\nhousing[\\\"GarageQual\\\"] = housing[\\\"GarageQual\\\"].apply(lambda row: GQualCond[row])\\nhousing[\\\"GarageCond\\\"] = housing[\\\"GarageCond\\\"].apply(lambda row: GQualCond[row])\\nhousing[\\\"GarageFinish\\\"] = housing[\\\"GarageFinish\\\"].apply(lambda row: GFin[row])\\nhousing[\\\"FireplaceQu\\\"] = housing[\\\"FireplaceQu\\\"].apply(lambda row: FireQual[row])\\nhousing[\\\"Fence\\\"] = housing[\\\"Fence\\\"].apply(lambda row: FenceQual[row])\\nhousing[\\\"ExterQual\\\"] = housing[\\\"ExterQual\\\"].apply(lambda row: ExQualCond[row])\\nhousing[\\\"ExterCond\\\"] = housing[\\\"ExterCond\\\"].apply(lambda row: ExQualCond[row])\\nhousing[\\\"HeatingQC\\\"] = housing[\\\"HeatingQC\\\"].apply(lambda row: ExQualCond[row])\\nhousing[\\\"KitchenQual\\\"] = housing[\\\"KitchenQual\\\"].apply(lambda row: ExQualCond[row])\";\n",
       "                var nbb_cells = Jupyter.notebook.get_cells();\n",
       "                for (var i = 0; i < nbb_cells.length; ++i) {\n",
       "                    if (nbb_cells[i].input_prompt_number == nbb_cell_id) {\n",
       "                        if (nbb_cells[i].get_text() == nbb_unformatted_code) {\n",
       "                             nbb_cells[i].set_text(nbb_formatted_code);\n",
       "                        }\n",
       "                        break;\n",
       "                    }\n",
       "                }\n",
       "            }, 500);\n",
       "            "
      ],
      "text/plain": [
       "<IPython.core.display.Javascript object>"
      ]
     },
     "metadata": {},
     "output_type": "display_data"
    }
   ],
   "source": [
    "# Turning nominal columns to numeric with previous dictionary\n",
    "housing[\"BsmtExposure\"] = housing[\"BsmtExposure\"].apply(lambda row: BExposure[row])\n",
    "housing[\"BsmtFinType1\"] = housing[\"BsmtFinType1\"].apply(lambda row: BFinType[row])\n",
    "housing[\"BsmtFinType2\"] = housing[\"BsmtFinType2\"].apply(lambda row: BFinType[row])\n",
    "housing[\"BsmtQual\"] = housing[\"BsmtQual\"].apply(lambda row: BQualCond[row])\n",
    "housing[\"BsmtCond\"] = housing[\"BsmtCond\"].apply(lambda row: BQualCond[row])\n",
    "housing[\"GarageQual\"] = housing[\"GarageQual\"].apply(lambda row: GQualCond[row])\n",
    "housing[\"GarageCond\"] = housing[\"GarageCond\"].apply(lambda row: GQualCond[row])\n",
    "housing[\"GarageFinish\"] = housing[\"GarageFinish\"].apply(lambda row: GFin[row])\n",
    "housing[\"FireplaceQu\"] = housing[\"FireplaceQu\"].apply(lambda row: FireQual[row])\n",
    "housing[\"Fence\"] = housing[\"Fence\"].apply(lambda row: FenceQual[row])\n",
    "housing[\"ExterQual\"] = housing[\"ExterQual\"].apply(lambda row: ExQualCond[row])\n",
    "housing[\"ExterCond\"] = housing[\"ExterCond\"].apply(lambda row: ExQualCond[row])\n",
    "housing[\"HeatingQC\"] = housing[\"HeatingQC\"].apply(lambda row: ExQualCond[row])\n",
    "housing[\"KitchenQual\"] = housing[\"KitchenQual\"].apply(lambda row: ExQualCond[row])"
   ]
  },
  {
   "cell_type": "code",
   "execution_count": 26,
   "id": "9b7bc2f4",
   "metadata": {},
   "outputs": [
    {
     "data": {
      "application/javascript": [
       "\n",
       "            setTimeout(function() {\n",
       "                var nbb_cell_id = 26;\n",
       "                var nbb_unformatted_code = \"# Splitting the data into train test and stratifying on neighborhood since that is what we are intested in\\nstrat_train_set, strat_test_set = train_test_split(\\n    housing, test_size=0.2, stratify=housing[\\\"Neighborhood\\\"], random_state=42\\n)\";\n",
       "                var nbb_formatted_code = \"# Splitting the data into train test and stratifying on neighborhood since that is what we are intested in\\nstrat_train_set, strat_test_set = train_test_split(\\n    housing, test_size=0.2, stratify=housing[\\\"Neighborhood\\\"], random_state=42\\n)\";\n",
       "                var nbb_cells = Jupyter.notebook.get_cells();\n",
       "                for (var i = 0; i < nbb_cells.length; ++i) {\n",
       "                    if (nbb_cells[i].input_prompt_number == nbb_cell_id) {\n",
       "                        if (nbb_cells[i].get_text() == nbb_unformatted_code) {\n",
       "                             nbb_cells[i].set_text(nbb_formatted_code);\n",
       "                        }\n",
       "                        break;\n",
       "                    }\n",
       "                }\n",
       "            }, 500);\n",
       "            "
      ],
      "text/plain": [
       "<IPython.core.display.Javascript object>"
      ]
     },
     "metadata": {},
     "output_type": "display_data"
    }
   ],
   "source": [
    "# Splitting the data into train test and stratifying on neighborhood since that is what we are intested in\n",
    "strat_train_set, strat_test_set = train_test_split(\n",
    "    housing, test_size=0.2, stratify=housing[\"Neighborhood\"], random_state=42\n",
    ")"
   ]
  },
  {
   "cell_type": "code",
   "execution_count": 27,
   "id": "c3d66528",
   "metadata": {
    "scrolled": true
   },
   "outputs": [
    {
     "name": "stdout",
     "output_type": "stream",
     "text": [
      "Test set neighborhood distribution:\n",
      "NAmes      0.160156\n",
      "CollgCr    0.091797\n",
      "OldTown    0.082031\n",
      "Edwards    0.064453\n",
      "Somerst    0.056641\n",
      "Gilbert    0.056641\n",
      "Sawyer     0.054688\n",
      "NWAmes     0.048828\n",
      "NridgHt    0.046875\n",
      "SawyerW    0.042969\n",
      "BrkSide    0.041016\n",
      "Mitchel    0.041016\n",
      "Crawfor    0.035156\n",
      "IDOTRR     0.029297\n",
      "NoRidge    0.025391\n",
      "Timber     0.019531\n",
      "StoneBr    0.017578\n",
      "SWISU      0.015625\n",
      "ClearCr    0.015625\n",
      "MeadowV    0.013672\n",
      "BrDale     0.011719\n",
      "Blmngtn    0.007812\n",
      "Veenker    0.007812\n",
      "NPkVill    0.007812\n",
      "Blueste    0.003906\n",
      "Greens     0.001953\n",
      "Name: Neighborhood, dtype: float64\n",
      "\n",
      "Train set neighborhood distribution:\n",
      "NAmes      0.159335\n",
      "CollgCr    0.092375\n",
      "OldTown    0.081134\n",
      "Edwards    0.063539\n",
      "Gilbert    0.055718\n",
      "Somerst    0.055718\n",
      "Sawyer     0.054252\n",
      "NWAmes     0.047898\n",
      "NridgHt    0.047410\n",
      "SawyerW    0.043988\n",
      "Mitchel    0.040078\n",
      "BrkSide    0.040078\n",
      "Crawfor    0.036168\n",
      "IDOTRR     0.028348\n",
      "NoRidge    0.026393\n",
      "Timber     0.020528\n",
      "StoneBr    0.016618\n",
      "SWISU      0.016129\n",
      "ClearCr    0.015152\n",
      "MeadowV    0.013196\n",
      "BrDale     0.011241\n",
      "Veenker    0.009286\n",
      "Blmngtn    0.009286\n",
      "NPkVill    0.008798\n",
      "Blueste    0.003910\n",
      "Greens     0.003421\n",
      "Name: Neighborhood, dtype: float64\n"
     ]
    },
    {
     "data": {
      "application/javascript": [
       "\n",
       "            setTimeout(function() {\n",
       "                var nbb_cell_id = 27;\n",
       "                var nbb_unformatted_code = \"# Making sure they were distributed properly\\nprint(\\\"Test set neighborhood distribution:\\\")\\nprint(strat_test_set[\\\"Neighborhood\\\"].value_counts() / len(strat_test_set))\\n\\nprint(\\\"\\\\nTrain set neighborhood distribution:\\\")\\nprint(strat_train_set[\\\"Neighborhood\\\"].value_counts() / len(strat_train_set))\";\n",
       "                var nbb_formatted_code = \"# Making sure they were distributed properly\\nprint(\\\"Test set neighborhood distribution:\\\")\\nprint(strat_test_set[\\\"Neighborhood\\\"].value_counts() / len(strat_test_set))\\n\\nprint(\\\"\\\\nTrain set neighborhood distribution:\\\")\\nprint(strat_train_set[\\\"Neighborhood\\\"].value_counts() / len(strat_train_set))\";\n",
       "                var nbb_cells = Jupyter.notebook.get_cells();\n",
       "                for (var i = 0; i < nbb_cells.length; ++i) {\n",
       "                    if (nbb_cells[i].input_prompt_number == nbb_cell_id) {\n",
       "                        if (nbb_cells[i].get_text() == nbb_unformatted_code) {\n",
       "                             nbb_cells[i].set_text(nbb_formatted_code);\n",
       "                        }\n",
       "                        break;\n",
       "                    }\n",
       "                }\n",
       "            }, 500);\n",
       "            "
      ],
      "text/plain": [
       "<IPython.core.display.Javascript object>"
      ]
     },
     "metadata": {},
     "output_type": "display_data"
    }
   ],
   "source": [
    "# Making sure they were distributed properly\n",
    "print(\"Test set neighborhood distribution:\")\n",
    "print(strat_test_set[\"Neighborhood\"].value_counts() / len(strat_test_set))\n",
    "\n",
    "print(\"\\nTrain set neighborhood distribution:\")\n",
    "print(strat_train_set[\"Neighborhood\"].value_counts() / len(strat_train_set))\n"
   ]
  },
  {
   "cell_type": "code",
   "execution_count": null,
   "id": "5f64042e",
   "metadata": {},
   "outputs": [],
   "source": [
    "\n"
   ]
  },
  {
   "cell_type": "code",
   "execution_count": 28,
   "id": "118dc1c0",
   "metadata": {},
   "outputs": [
    {
     "data": {
      "application/javascript": [
       "\n",
       "            setTimeout(function() {\n",
       "                var nbb_cell_id = 28;\n",
       "                var nbb_unformatted_code = \"# saving the dataframes as a CSV file\\nstrat_train_set.to_csv('data/strat_train_set.csv', index=False)\\nstrat_test_set.to_csv('data/strat_test_set.csv', index=False)\";\n",
       "                var nbb_formatted_code = \"# saving the dataframes as a CSV file\\nstrat_train_set.to_csv(\\\"data/strat_train_set.csv\\\", index=False)\\nstrat_test_set.to_csv(\\\"data/strat_test_set.csv\\\", index=False)\";\n",
       "                var nbb_cells = Jupyter.notebook.get_cells();\n",
       "                for (var i = 0; i < nbb_cells.length; ++i) {\n",
       "                    if (nbb_cells[i].input_prompt_number == nbb_cell_id) {\n",
       "                        if (nbb_cells[i].get_text() == nbb_unformatted_code) {\n",
       "                             nbb_cells[i].set_text(nbb_formatted_code);\n",
       "                        }\n",
       "                        break;\n",
       "                    }\n",
       "                }\n",
       "            }, 500);\n",
       "            "
      ],
      "text/plain": [
       "<IPython.core.display.Javascript object>"
      ]
     },
     "metadata": {},
     "output_type": "display_data"
    }
   ],
   "source": [
    "# saving the dataframes as a CSV file\n",
    "strat_train_set.to_csv('data/strat_train_set.csv', index=False)\n",
    "strat_test_set.to_csv('data/strat_test_set.csv', index=False)\n",
    "\n"
   ]
  },
  {
   "cell_type": "code",
   "execution_count": 140,
   "id": "18db3ab2",
   "metadata": {},
   "outputs": [
    {
     "data": {
      "application/javascript": [
       "\n",
       "            setTimeout(function() {\n",
       "                var nbb_cell_id = 140;\n",
       "                var nbb_unformatted_code = \"# creating a function to create groups based on mean sale price of streets in each\\n# neighborhood of the training df and adds a new column with the groups created\\n# It then uses the groups created using the training dataframe and creates a new column\\n# in the testing dataframe by mapping these groups.  If there is a street/neighborhood combination\\n# that wasnt in the training dataset it will assign it to a group already defined in that neighborhood\\n\\n\\ndef group_neighbor_streets_by_saleprice(traindf, testdf, num_quantiles=10):\\n    # Calculate the mean sale price for each street in the training df\\n    street_prices = traindf.groupby(\\\"Neighborhood_st\\\")[\\\"SalePrice\\\"].mean()\\n    # Group the streets into the specified number of quantiles based on sale price\\n    labels = [f\\\"group_{i+1}\\\" for i in range(num_quantiles)]\\n    groups = pd.qcut(street_prices, q=num_quantiles, labels=labels)\\n    # Create a dictionary that maps each street name to its corresponding sale price group label\\n    street_group_dict = dict(zip(street_prices.index, groups))\\n    # Add a new column to the training dataframe with the street price groups\\n    traindf[\\\"StreetPriceGroup\\\"] = traindf[\\\"Neighborhood_st\\\"].map(street_group_dict)\\n    # Add a new column to the testing dataframe with the street price groups\\n    testdf[\\\"StreetPriceGroup\\\"] = testdf[\\\"Neighborhood_st\\\"].map(street_group_dict)\\n    return street_group_dict\";\n",
       "                var nbb_formatted_code = \"# creating a function to create groups based on mean sale price of streets in each\\n# neighborhood of the training df and adds a new column with the groups created\\n# It then uses the groups created using the training dataframe and creates a new column\\n# in the testing dataframe by mapping these groups.  If there is a street/neighborhood combination\\n# that wasnt in the training dataset it will assign it to a group already defined in that neighborhood\\n\\n\\ndef group_neighbor_streets_by_saleprice(traindf, testdf, num_quantiles=10):\\n    # Calculate the mean sale price for each street in the training df\\n    street_prices = traindf.groupby(\\\"Neighborhood_st\\\")[\\\"SalePrice\\\"].mean()\\n    # Group the streets into the specified number of quantiles based on sale price\\n    labels = [f\\\"group_{i+1}\\\" for i in range(num_quantiles)]\\n    groups = pd.qcut(street_prices, q=num_quantiles, labels=labels)\\n    # Create a dictionary that maps each street name to its corresponding sale price group label\\n    street_group_dict = dict(zip(street_prices.index, groups))\\n    # Add a new column to the training dataframe with the street price groups\\n    traindf[\\\"StreetPriceGroup\\\"] = traindf[\\\"Neighborhood_st\\\"].map(street_group_dict)\\n    # Add a new column to the testing dataframe with the street price groups\\n    testdf[\\\"StreetPriceGroup\\\"] = testdf[\\\"Neighborhood_st\\\"].map(street_group_dict)\\n    return street_group_dict\";\n",
       "                var nbb_cells = Jupyter.notebook.get_cells();\n",
       "                for (var i = 0; i < nbb_cells.length; ++i) {\n",
       "                    if (nbb_cells[i].input_prompt_number == nbb_cell_id) {\n",
       "                        if (nbb_cells[i].get_text() == nbb_unformatted_code) {\n",
       "                             nbb_cells[i].set_text(nbb_formatted_code);\n",
       "                        }\n",
       "                        break;\n",
       "                    }\n",
       "                }\n",
       "            }, 500);\n",
       "            "
      ],
      "text/plain": [
       "<IPython.core.display.Javascript object>"
      ]
     },
     "metadata": {},
     "output_type": "display_data"
    }
   ],
   "source": [
    "# creating a function to create groups based on mean sale price of streets in each\n",
    "# neighborhood of the training df and adds a new column with the groups created\n",
    "# It then uses the groups created using the training dataframe and creates a new column\n",
    "# in the testing dataframe by mapping these groups.  This will result in missing values\n",
    "# If there is a street neighborhood combination that was in the training dataset but \n",
    "# not the testing dataset\n",
    "\n",
    "\n",
    "def group_neighbor_streets_by_saleprice(\n",
    "    traindf=train_df, testdf=test_df, num_quantiles=10\n",
    "):\n",
    "    # Calculate the mean sale price for each street in the training df\n",
    "    street_prices = traindf.groupby(\"Neighborhood_st\")[\"SalePrice\"].mean()\n",
    "    # Group the streets into the specified number of quantiles based on sale price\n",
    "    labels = [f\"group_{i+1}\" for i in range(num_quantiles)]\n",
    "    groups = pd.qcut(street_prices, q=num_quantiles, labels=range(1, num_quantiles + 1))\n",
    "    # Create a dictionary that maps each street name to its corresponding sale price group label\n",
    "    street_group_dict = dict(zip(street_prices.index, groups))\n",
    "    # Add a new column to the training dataframe with the street price groups\n",
    "    traindf[\"StreetPriceGroup\"] = traindf[\"Neighborhood_st\"].map(street_group_dict)\n",
    "    # Add a new column to the testing dataframe with the street price groups\n",
    "    testdf[\"StreetPriceGroup\"] = testdf[\"Neighborhood_st\"].map(street_group_dict)\n",
    "    return street_group_dict\n"
   ]
  },
  {
   "cell_type": "code",
   "execution_count": 142,
   "id": "e18c0d5b",
   "metadata": {},
   "outputs": [
    {
     "data": {
      "application/javascript": [
       "\n",
       "            setTimeout(function() {\n",
       "                var nbb_cell_id = 142;\n",
       "                var nbb_unformatted_code = \"d = group_neighbor_streets_by_saleprice(\\n    traindf=strat_train_set, testdf=strat_test_set, num_quantiles=5\\n)\";\n",
       "                var nbb_formatted_code = \"d = group_neighbor_streets_by_saleprice(\\n    traindf=strat_train_set, testdf=strat_test_set, num_quantiles=5\\n)\";\n",
       "                var nbb_cells = Jupyter.notebook.get_cells();\n",
       "                for (var i = 0; i < nbb_cells.length; ++i) {\n",
       "                    if (nbb_cells[i].input_prompt_number == nbb_cell_id) {\n",
       "                        if (nbb_cells[i].get_text() == nbb_unformatted_code) {\n",
       "                             nbb_cells[i].set_text(nbb_formatted_code);\n",
       "                        }\n",
       "                        break;\n",
       "                    }\n",
       "                }\n",
       "            }, 500);\n",
       "            "
      ],
      "text/plain": [
       "<IPython.core.display.Javascript object>"
      ]
     },
     "metadata": {},
     "output_type": "display_data"
    }
   ],
   "source": [
    "# the num of quantiles can be changed and it is assigned to d which is the dictionary that\n",
    "# will be used to fill in the missing values\n",
    "\n",
    "d = group_neighbor_streets_by_saleprice(\n",
    "    traindf=strat_train_set, testdf=strat_test_set, num_quantiles=5\n",
    ")"
   ]
  },
  {
   "cell_type": "code",
   "execution_count": 145,
   "id": "750c16af",
   "metadata": {},
   "outputs": [
    {
     "data": {
      "application/javascript": [
       "\n",
       "            setTimeout(function() {\n",
       "                var nbb_cell_id = 145;\n",
       "                var nbb_unformatted_code = \"def fill_na(testdf, d={}):\\n    # Extract the first part of the string in the \\\"Neighborhood_st\\\" column\\n    testdf[\\\"Neighborhood_prefix\\\"] = testdf[\\\"Neighborhood_st\\\"].map(\\n        lambda x: x.split(\\\"_\\\")[0]\\n    )\\n    # Create a new dict that only contains the neighborhood\\n    new_dict = {k.split(\\\"_\\\")[0]: v for k, v in d.items()}\\n    # Create a list of PIDs with missing StreetPriceGroup values\\n    na_pid_list = testdf[testdf[\\\"StreetPriceGroup\\\"].isna()][\\\"PID\\\"].tolist()\\n    # Create a Boolean mask to filter the DataFrame\\n    mask = testdf[\\\"PID\\\"].isin(na_pid_list)\\n    # Apply the dictionary mapping only to the filtered rows\\n    testdf.loc[mask, \\\"StreetPriceGroup\\\"] = testdf[mask][\\\"Neighborhood_prefix\\\"].map(\\n        new_dict\\n    )\\n    # Drop the column since there is no more use for it\\n    testdf.drop(\\\"Neighborhood_prefix\\\", axis=1)\";\n",
       "                var nbb_formatted_code = \"def fill_na(testdf, d={}):\\n    # Extract the first part of the string in the \\\"Neighborhood_st\\\" column\\n    testdf[\\\"Neighborhood_prefix\\\"] = testdf[\\\"Neighborhood_st\\\"].map(\\n        lambda x: x.split(\\\"_\\\")[0]\\n    )\\n    # Create a new dict that only contains the neighborhood\\n    new_dict = {k.split(\\\"_\\\")[0]: v for k, v in d.items()}\\n    # Create a list of PIDs with missing StreetPriceGroup values\\n    na_pid_list = testdf[testdf[\\\"StreetPriceGroup\\\"].isna()][\\\"PID\\\"].tolist()\\n    # Create a Boolean mask to filter the DataFrame\\n    mask = testdf[\\\"PID\\\"].isin(na_pid_list)\\n    # Apply the dictionary mapping only to the filtered rows\\n    testdf.loc[mask, \\\"StreetPriceGroup\\\"] = testdf[mask][\\\"Neighborhood_prefix\\\"].map(\\n        new_dict\\n    )\\n    # Drop the column since there is no more use for it\\n    testdf.drop(\\\"Neighborhood_prefix\\\", axis=1)\";\n",
       "                var nbb_cells = Jupyter.notebook.get_cells();\n",
       "                for (var i = 0; i < nbb_cells.length; ++i) {\n",
       "                    if (nbb_cells[i].input_prompt_number == nbb_cell_id) {\n",
       "                        if (nbb_cells[i].get_text() == nbb_unformatted_code) {\n",
       "                             nbb_cells[i].set_text(nbb_formatted_code);\n",
       "                        }\n",
       "                        break;\n",
       "                    }\n",
       "                }\n",
       "            }, 500);\n",
       "            "
      ],
      "text/plain": [
       "<IPython.core.display.Javascript object>"
      ]
     },
     "metadata": {},
     "output_type": "display_data"
    }
   ],
   "source": [
    "# this will use the dictionary created to fill in the missing values in the test df with\n",
    "# another group in the same neighborhood\n",
    "\n",
    "\n",
    "def fill_na(testdf=test_df, d={}):\n",
    "    # Extract the first part of the string in the \"Neighborhood_st\" column\n",
    "    testdf[\"Neighborhood_prefix\"] = testdf[\"Neighborhood_st\"].map(\n",
    "        lambda x: x.split(\"_\")[0]\n",
    "    )\n",
    "    # Create a new dict that only contains the neighborhood\n",
    "    new_dict = {k.split(\"_\")[0]: v for k, v in d.items()}\n",
    "    # Create a list of PIDs with missing StreetPriceGroup values\n",
    "    na_pid_list = testdf[testdf[\"StreetPriceGroup\"].isna()][\"PID\"].tolist()\n",
    "    # Create a Boolean mask to filter the DataFrame\n",
    "    mask = testdf[\"PID\"].isin(na_pid_list)\n",
    "    # Apply the dictionary mapping only to the filtered rows\n",
    "    testdf.loc[mask, \"StreetPriceGroup\"] = testdf[mask][\"Neighborhood_prefix\"].map(\n",
    "        new_dict\n",
    "    )\n",
    "    # Drop the column since there is no more use for it\n",
    "    testdf.drop(\"Neighborhood_prefix\", axis=1, inplace=True)\n"
   ]
  },
  {
   "cell_type": "code",
   "execution_count": 146,
   "id": "385c5cae",
   "metadata": {},
   "outputs": [
    {
     "data": {
      "application/javascript": [
       "\n",
       "            setTimeout(function() {\n",
       "                var nbb_cell_id = 146;\n",
       "                var nbb_unformatted_code = \"fill_na(strat_test_set, d)\";\n",
       "                var nbb_formatted_code = \"fill_na(strat_test_set, d)\";\n",
       "                var nbb_cells = Jupyter.notebook.get_cells();\n",
       "                for (var i = 0; i < nbb_cells.length; ++i) {\n",
       "                    if (nbb_cells[i].input_prompt_number == nbb_cell_id) {\n",
       "                        if (nbb_cells[i].get_text() == nbb_unformatted_code) {\n",
       "                             nbb_cells[i].set_text(nbb_formatted_code);\n",
       "                        }\n",
       "                        break;\n",
       "                    }\n",
       "                }\n",
       "            }, 500);\n",
       "            "
      ],
      "text/plain": [
       "<IPython.core.display.Javascript object>"
      ]
     },
     "metadata": {},
     "output_type": "display_data"
    }
   ],
   "source": [
    "fill_na(strat_test_set, d)"
   ]
  },
  {
   "cell_type": "code",
   "execution_count": 147,
   "id": "ec70f287",
   "metadata": {},
   "outputs": [
    {
     "data": {
      "text/plain": [
       "PID                    0\n",
       "SalePrice              0\n",
       "GrLivArea              0\n",
       "MSZoning               0\n",
       "LotFrontage            0\n",
       "LotArea                0\n",
       "Street                 0\n",
       "Alley                  0\n",
       "LotShape               0\n",
       "LandContour            0\n",
       "Utilities              0\n",
       "LotConfig              0\n",
       "LandSlope              0\n",
       "Neighborhood           0\n",
       "Condition1             0\n",
       "Condition2             0\n",
       "BldgType               0\n",
       "HouseStyle             0\n",
       "OverallQual            0\n",
       "OverallCond            0\n",
       "YearBuilt              0\n",
       "YearRemodAdd           0\n",
       "RoofStyle              0\n",
       "RoofMatl               0\n",
       "Exterior1st            0\n",
       "Exterior2nd            0\n",
       "MasVnrType             0\n",
       "MasVnrArea             0\n",
       "ExterQual              0\n",
       "ExterCond              0\n",
       "Foundation             0\n",
       "BsmtQual               0\n",
       "BsmtCond               0\n",
       "BsmtExposure           0\n",
       "BsmtFinType1           0\n",
       "BsmtFinSF1             0\n",
       "BsmtFinType2           0\n",
       "BsmtFinSF2             0\n",
       "BsmtUnfSF              0\n",
       "TotalBsmtSF            0\n",
       "Heating                0\n",
       "HeatingQC              0\n",
       "CentralAir             0\n",
       "Electrical             0\n",
       "1stFlrSF               0\n",
       "2ndFlrSF               0\n",
       "BsmtFullBath           0\n",
       "BsmtHalfBath           0\n",
       "FullBath               0\n",
       "HalfBath               0\n",
       "BedroomAbvGr           0\n",
       "KitchenAbvGr           0\n",
       "KitchenQual            0\n",
       "TotRmsAbvGrd           0\n",
       "Functional             0\n",
       "Fireplaces             0\n",
       "FireplaceQu            0\n",
       "GarageType             0\n",
       "GarageYrBlt            0\n",
       "GarageFinish           0\n",
       "GarageCars             0\n",
       "GarageArea             0\n",
       "GarageQual             0\n",
       "GarageCond             0\n",
       "PavedDrive             0\n",
       "WoodDeckSF             0\n",
       "OpenPorchSF            0\n",
       "EnclosedPorch          0\n",
       "ScreenPorch            0\n",
       "PoolQC                 0\n",
       "Fence                  0\n",
       "MoSold                 0\n",
       "YrSold                 0\n",
       "SaleType               0\n",
       "SaleCondition          0\n",
       "Age                    0\n",
       "RemodAge               0\n",
       "TotalSF                0\n",
       "Remodeled              0\n",
       "TotalPorchSF           0\n",
       "TotalBath              0\n",
       "MSSubClass_cat         0\n",
       "Street_type            0\n",
       "Neighborhood_st        0\n",
       "StreetPriceGroup       0\n",
       "Neighborhood_prefix    0\n",
       "dtype: int64"
      ]
     },
     "execution_count": 147,
     "metadata": {},
     "output_type": "execute_result"
    },
    {
     "data": {
      "application/javascript": [
       "\n",
       "            setTimeout(function() {\n",
       "                var nbb_cell_id = 147;\n",
       "                var nbb_unformatted_code = \"strat_test_set.isna().sum()\";\n",
       "                var nbb_formatted_code = \"strat_test_set.isna().sum()\";\n",
       "                var nbb_cells = Jupyter.notebook.get_cells();\n",
       "                for (var i = 0; i < nbb_cells.length; ++i) {\n",
       "                    if (nbb_cells[i].input_prompt_number == nbb_cell_id) {\n",
       "                        if (nbb_cells[i].get_text() == nbb_unformatted_code) {\n",
       "                             nbb_cells[i].set_text(nbb_formatted_code);\n",
       "                        }\n",
       "                        break;\n",
       "                    }\n",
       "                }\n",
       "            }, 500);\n",
       "            "
      ],
      "text/plain": [
       "<IPython.core.display.Javascript object>"
      ]
     },
     "metadata": {},
     "output_type": "display_data"
    }
   ],
   "source": [
    "strat_test_set.isna().sum()"
   ]
  },
  {
   "cell_type": "code",
   "execution_count": null,
   "id": "7331920f",
   "metadata": {},
   "outputs": [],
   "source": []
  },
  {
   "cell_type": "code",
   "execution_count": null,
   "id": "de9a04e0",
   "metadata": {},
   "outputs": [],
   "source": []
  },
  {
   "cell_type": "code",
   "execution_count": null,
   "id": "1ce6bc9b",
   "metadata": {},
   "outputs": [],
   "source": []
  },
  {
   "cell_type": "code",
   "execution_count": null,
   "id": "4f25cf2e",
   "metadata": {},
   "outputs": [],
   "source": []
  },
  {
   "cell_type": "code",
   "execution_count": null,
   "id": "f184e028",
   "metadata": {},
   "outputs": [],
   "source": []
  },
  {
   "cell_type": "code",
   "execution_count": null,
   "id": "43a08ae3",
   "metadata": {},
   "outputs": [],
   "source": []
  },
  {
   "cell_type": "code",
   "execution_count": null,
   "id": "7f92c874",
   "metadata": {},
   "outputs": [],
   "source": []
  },
  {
   "cell_type": "code",
   "execution_count": null,
   "id": "ac58048a",
   "metadata": {},
   "outputs": [],
   "source": []
  },
  {
   "cell_type": "code",
   "execution_count": null,
   "id": "803c9f60",
   "metadata": {},
   "outputs": [],
   "source": []
  },
  {
   "cell_type": "code",
   "execution_count": null,
   "id": "6a90a908",
   "metadata": {},
   "outputs": [],
   "source": []
  },
  {
   "cell_type": "code",
   "execution_count": null,
   "id": "236b90ef",
   "metadata": {},
   "outputs": [],
   "source": []
  }
 ],
 "metadata": {
  "kernelspec": {
   "display_name": "Python 3 (ipykernel)",
   "language": "python",
   "name": "python3"
  },
  "language_info": {
   "codemirror_mode": {
    "name": "ipython",
    "version": 3
   },
   "file_extension": ".py",
   "mimetype": "text/x-python",
   "name": "python",
   "nbconvert_exporter": "python",
   "pygments_lexer": "ipython3",
   "version": "3.9.12"
  }
 },
 "nbformat": 4,
 "nbformat_minor": 5
}
